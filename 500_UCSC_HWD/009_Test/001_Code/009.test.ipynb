{
 "cells": [
  {
   "cell_type": "markdown",
   "id": "d11dd382-7082-444d-87f6-f03d8cdcad25",
   "metadata": {
    "slideshow": {
     "slide_type": "slide"
    }
   },
   "source": [
    "## Agile Hardware Design\n",
    "***\n",
    "# Testing\n",
    "\n",
    "<img src=\"../images/logo.svg\" alt=\"agile hardware design logo\" style=\"float:right\"/>\n",
    "\n",
    "###  Modified by Peter Hanping Chen based on \n",
    "### Prof. Scott Beamer (sbeamer@ucsc.edu) \n",
    "### [CSE 228A](https://classes.soe.ucsc.edu/cse228a/Winter24/)\n",
    "### and \n",
    "### UC Berkeley Bootcamp Scala configuration file (load_ivy.sc)\n",
    "### https://github.com/freechipsproject/chisel-bootcamp\n"
   ]
  },
  {
   "cell_type": "markdown",
   "id": "nominated-consistency",
   "metadata": {
    "slideshow": {
     "slide_type": "slide"
    }
   },
   "source": [
    "## Plan for Today\n",
    "\n",
    "* Testing overview\n",
    "* Testing a combinational unit\n",
    "* Tidying up with ScalaTest\n",
    "* Testing a Decoupled (stateful) unit"
   ]
  },
  {
   "cell_type": "markdown",
   "id": "regular-reducing",
   "metadata": {
    "slideshow": {
     "slide_type": "slide"
    }
   },
   "source": [
    "## Loading The Chisel Library Into a Notebook"
   ]
  },
  {
   "cell_type": "code",
   "execution_count": 1,
   "id": "robust-immigration",
   "metadata": {},
   "outputs": [
    {
     "name": "stdout",
     "output_type": "stream",
     "text": [
      "path: /home/peter/AIU/AIU_CS800_Chisel/500_UCSC_HWD/009_Test/001_Code/source/load-ivy.sc\n"
     ]
    },
    {
     "data": {
      "text/plain": [
       "\u001b[36mpath\u001b[39m: \u001b[32mString\u001b[39m = \u001b[32m\"/home/peter/AIU/AIU_CS800_Chisel/500_UCSC_HWD/009_Test/001_Code/source/load-ivy.sc\"\u001b[39m"
      ]
     },
     "execution_count": 1,
     "metadata": {},
     "output_type": "execute_result"
    }
   ],
   "source": [
    "//interp.load.module(os.Path(s\"${System.getProperty(\"user.dir\")}/../resource/chisel_deps.sc\"))\n",
    "val path = System.getProperty(\"user.dir\") + \"/source/load-ivy.sc\"\n",
    "//val path = System.getProperty(\"user.dir\") + \"/source/chisel_deps.sc\"\n",
    "println(\"path: \"+path)\n",
    "interp.load.module(ammonite.ops.Path(java.nio.file.FileSystems.getDefault().getPath(path)))"
   ]
  },
  {
   "cell_type": "code",
   "execution_count": 2,
   "id": "extended-burning",
   "metadata": {
    "slideshow": {
     "slide_type": "-"
    }
   },
   "outputs": [
    {
     "data": {
      "text/plain": [
       "\u001b[32mimport \u001b[39m\u001b[36mchisel3._\n",
       "\u001b[39m\n",
       "\u001b[32mimport \u001b[39m\u001b[36mchisel3.util._\n",
       "\u001b[39m\n",
       "\u001b[32mimport \u001b[39m\u001b[36mchiseltest._\n",
       "\u001b[39m\n",
       "\u001b[32mimport \u001b[39m\u001b[36mchiseltest.RawTester.test\n",
       "\u001b[39m\n",
       "\u001b[32mimport \u001b[39m\u001b[36morg.scalatest.flatspec.AnyFlatSpec\u001b[39m"
      ]
     },
     "execution_count": 2,
     "metadata": {},
     "output_type": "execute_result"
    }
   ],
   "source": [
    "import chisel3._\n",
    "import chisel3.util._\n",
    "import chiseltest._\n",
    "import chiseltest.RawTester.test\n",
    "import org.scalatest.flatspec.AnyFlatSpec"
   ]
  },
  {
   "cell_type": "code",
   "execution_count": 3,
   "id": "016ec9b1-e7e2-4122-a9a5-e64985bdedbe",
   "metadata": {},
   "outputs": [
    {
     "data": {
      "text/plain": [
       "defined \u001b[32mclass\u001b[39m \u001b[36mConvUIntToOH\u001b[39m"
      ]
     },
     "execution_count": 3,
     "metadata": {},
     "output_type": "execute_result"
    }
   ],
   "source": [
    "class ConvUIntToOH(inWidth: Int) extends Module {\n",
    "    val outWidth = 1 << inWidth\n",
    "    val io = IO(new Bundle {\n",
    "        val in  = Input(UInt(inWidth.W))\n",
    "        val out = Output(UInt(outWidth.W))\n",
    "    })\n",
    "    require (inWidth > 0)\n",
    "    def helper(index: Int): UInt = {\n",
    "        if (index < outWidth-1) Cat(helper(index+1), io.in === index.U)\n",
    "        else io.in === index.U\n",
    "    }\n",
    "    io.out := helper(0)\n",
    "//     io.out := UIntToOH(io.in)  // Standard library implementation\n",
    "    printf(\"%d -> %b\\n\", io.in, io.out)\n",
    "}"
   ]
  },
  {
   "cell_type": "code",
   "execution_count": 4,
   "id": "d535b75c-72ea-48cc-9d10-3a4ac4082a3b",
   "metadata": {},
   "outputs": [
    {
     "name": "stdout",
     "output_type": "stream",
     "text": [
      "Elaborating design...\n",
      "Done elaborating.\n",
      "module ConvUIntToOH(\n",
      "  input        clock,\n",
      "  input        reset,\n",
      "  input  [1:0] io_in,\n",
      "  output [3:0] io_out\n",
      ");\n",
      "  wire  _T = io_in == 2'h3; // @[cmd2.sc 10:20]\n",
      "  wire  _T_1 = io_in == 2'h2; // @[cmd2.sc 9:60]\n",
      "  wire  _T_3 = io_in == 2'h1; // @[cmd2.sc 9:60]\n",
      "  wire [2:0] _T_4 = {_T,_T_1,_T_3}; // @[Cat.scala 30:58]\n",
      "  wire  _T_5 = io_in == 2'h0; // @[cmd2.sc 9:60]\n",
      "  assign io_out = {_T_4,_T_5}; // @[Cat.scala 30:58]\n",
      "  always @(posedge clock) begin\n",
      "    `ifndef SYNTHESIS\n",
      "    `ifdef PRINTF_COND\n",
      "      if (`PRINTF_COND) begin\n",
      "    `endif\n",
      "        if (~reset) begin\n",
      "          $fwrite(32'h80000002,\"%d -> %b\\n\",io_in,io_out); // @[cmd2.sc 14:11]\n",
      "        end\n",
      "    `ifdef PRINTF_COND\n",
      "      end\n",
      "    `endif\n",
      "    `endif // SYNTHESIS\n",
      "  end\n",
      "endmodule\n",
      "\n"
     ]
    }
   ],
   "source": [
    "//printVerilog(new ConvUIntToOH(2))\n",
    "println (getVerilog(new ConvUIntToOH(2)))"
   ]
  },
  {
   "cell_type": "markdown",
   "id": "09935865-4774-4bcb-9845-d88a5fae3a63",
   "metadata": {
    "slideshow": {
     "slide_type": "slide"
    }
   },
   "source": [
    "## Why Test?\n",
    "\n",
    "* Who wants your hardware if it doesn't work?\n",
    "* How do you prove to yourself it works?\n",
    "* How do you prove to others it works?\n",
    "* How do you even develop it?"
   ]
  },
  {
   "cell_type": "markdown",
   "id": "e1bb4b67-9966-4931-91de-81a27f385e3c",
   "metadata": {
    "slideshow": {
     "slide_type": "slide"
    }
   },
   "source": [
    "## Goals of Today's Testing Lecture\n",
    "\n",
    "- Develop techniques/abstractions to improve testing productivity\n",
    "- View testing as an _integral_ part of development (not just verification)\n",
    "- Learn more sophisticated ways to test in Chisel"
   ]
  },
  {
   "cell_type": "markdown",
   "id": "dd9fcac1-5b6d-456a-8659-2fcdfb73a1a7",
   "metadata": {
    "slideshow": {
     "slide_type": "slide"
    }
   },
   "source": [
    "## 3 Main Components of Testing\n",
    "#### 1) How do you generate test cases?\n",
    "- Human-generated - best for simple cases or edge cases\n",
    "- Synthetically generated - exhaustive or (directed) random\n",
    "#### 2) How do you know what is the correct response to test?\n",
    "- Human-generated - brittle and best to avoid after initial bootstrap\n",
    "- Model-generated - highly preferable, but need to also test model\n",
    "#### 3) How do you simulate/execute/script test?\n",
    "- In general - consider need for flexibility, portability, speed\n",
    "- Today: simulate with treadle, execute with ChiselTest, organize with ScalaTest"
   ]
  },
  {
   "cell_type": "markdown",
   "id": "920bdb1d-45f4-47f7-b1ea-bb1ec84f10af",
   "metadata": {
    "slideshow": {
     "slide_type": "slide"
    }
   },
   "source": [
    "## Considerations for Designing Tests\n",
    "\n",
    "#### 1) What do you need to get started?\n",
    "- Close the loop early in order to do _test-driven development (TDD)_\n",
    "\n",
    "#### 2) What is _coverage_ needed for this problem?\n",
    "- Consider what you will need to test, and how to be sure you covered it\n",
    "\n",
    "#### 3) Should you treat design under test as _opaque_ or _clear_?\n",
    "- Both!\n",
    "- Users see _opaque_ module, so should properly implement specified interface\n",
    "- Knowing implementation (_clear_) can help focus tests on likely edge cases"
   ]
  },
  {
   "cell_type": "markdown",
   "id": "872adeea-18bd-4478-91eb-65d299d90cae",
   "metadata": {
    "slideshow": {
     "slide_type": "slide"
    }
   },
   "source": [
    "## When to Use Testing\n",
    "\n",
    "#### 1) Helpful in many places and not just final verification\n",
    "- Initial development\n",
    "- Continuous integration running in background\n",
    "- Working with others (i.e. checking external contributions)\n",
    "- Design space exploration\n",
    "\n",
    "#### 2) Consider testing early in process and design for it\n",
    "- Consider design abstractions and module boundaries to ease testing\n",
    "- Combinational modules can be easier to test, so place state elements deliberately"
   ]
  },
  {
   "cell_type": "markdown",
   "id": "635e5703-485b-46a1-bcbb-c3668c031371",
   "metadata": {
    "slideshow": {
     "slide_type": "slide"
    }
   },
   "source": [
    "## Testing in Chisel\n",
    "\n",
    "#### 1) Are generators harder to test?\n",
    "- Yes, but can parameterize test generation too!\n",
    "- Can amortize test development over all instances (produced by generator)\n",
    "\n",
    "#### 2) Chisel Test: https://github.com/ucb-bar/chiseltest\n",
    "- Can write testbenches directly in Scala\n",
    "- Runs as a Scala program that communicates with simulation of design\n",
    "- Upcoming Chisel library for testing (we have already been using it)\n",
    "\n",
    "#### 3) Simulation options\n",
    "##### 3.1 Tread: https://github.com/chipsalliance/treadle \n",
    "    - default FIRRTL simulator, implemented directly in Scala\n",
    "    - Default, easy to get going, and fastest for small designs\n",
    "##### 3.2 Verilator: https://www.veripool.org/wiki/verilator\n",
    "    - fast open-source Verilog simulation, can talk to ChiselTest \n",
    "    - Inter-process communication and ChiselTest can slow down overall\n",
    "##### 3.3 Other simulators\n",
    "    - Can simulate Verilog from Chisel, but won't be able to talk back to ChiselTest"
   ]
  },
  {
   "cell_type": "markdown",
   "id": "485a3e76-d337-4a40-9cea-1041a64ca4de",
   "metadata": {
    "slideshow": {
     "slide_type": "slide"
    }
   },
   "source": [
    "## Testing a Combinational Component\n",
    "\n",
    "#### 1) Stateless (combinational) modules are easier to test since each test/cycle is independent\n",
    "\n",
    "#### 2) Consider:\n",
    "  - range of possible inputs\n",
    "  - range of generator parameters\n",
    "  - parameters' impact on input space\n",
    "\n",
    "#### 3) If input space is sufficiently small, may be able to _exhaustively_ test\n",
    "  - May be able to make sufficiently small by constraining parameters"
   ]
  },
  {
   "cell_type": "markdown",
   "id": "356b6976-f77e-4636-8912-e2e4c72c4343",
   "metadata": {
    "slideshow": {
     "slide_type": "slide"
    }
   },
   "source": [
    "## 9.11 Example: Test Combonational Component\n",
    "\n",
    "- Sign & Magnitude: Comment out the Sign\n",
    "- Add Module Implementation"
   ]
  },
  {
   "cell_type": "code",
   "execution_count": 64,
   "id": "demanding-abraham",
   "metadata": {
    "slideshow": {
     "slide_type": "-"
    }
   },
   "outputs": [
    {
     "data": {
      "text/plain": [
       "defined \u001b[32mclass\u001b[39m \u001b[36mSignMagAdd\u001b[39m"
      ]
     },
     "execution_count": 64,
     "metadata": {},
     "output_type": "execute_result"
    }
   ],
   "source": [
    "// We commenet out sign\n",
    "class SignMagAdd(val w: Int) extends Module {\n",
    "    val io = IO(new Bundle {\n",
    "        val in  = Input(UInt(w.W))\n",
    "        val out = Output(UInt(w.W))\n",
    "    })\n",
    "    io.out := io.in\n",
    "}"
   ]
  },
  {
   "cell_type": "code",
   "execution_count": 48,
   "id": "f7ade6b2-393c-46d5-8b31-d059358154ec",
   "metadata": {},
   "outputs": [],
   "source": [
    "// Comment out the sign\n",
    "/*\n",
    "class SignMag(w: Int) extends Bundle {\n",
    "    val sign = Bool()\n",
    "    val magn = UInt(w.W)\n",
    "}\n",
    "\n",
    "class SignMagAdd(val w: Int) extends Module {\n",
    "    val io = IO(new Bundle {\n",
    "        val in0 = Input(new SignMag(w))\n",
    "        val in1 = Input(new SignMag(w))\n",
    "        val out = Output(new SignMag(w))\n",
    "    })\n",
    "    when (io.in0.sign === io.in1.sign) {\n",
    "        io.out.sign := io.in0.sign\n",
    "        io.out.magn := io.in0.magn + io.in1.magn    \n",
    "    } .elsewhen (io.in0.magn > io.in1.magn) {\n",
    "        io.out.sign := io.in0.sign\n",
    "        io.out.magn := io.in0.magn - io.in1.magn     \n",
    "    } .otherwise {\n",
    "        io.out.sign := io.in1.sign\n",
    "        io.out.magn := io.in1.magn - io.in0.magn   \n",
    "    }\n",
    "}\n",
    "*/"
   ]
  },
  {
   "cell_type": "code",
   "execution_count": 52,
   "id": "59ce1303-2e26-40f8-99b6-fc97e42850db",
   "metadata": {},
   "outputs": [
    {
     "name": "stdout",
     "output_type": "stream",
     "text": [
      "Elaborating design...\n",
      "Done elaborating.\n",
      "module SignMagAdd(\n",
      "  input        clock,\n",
      "  input        reset,\n",
      "  input  [1:0] io_in,\n",
      "  output [1:0] io_out\n",
      ");\n",
      "  assign io_out = io_in; // @[cmd48.sc 6:12]\n",
      "endmodule\n",
      "\n"
     ]
    }
   ],
   "source": [
    "// print Hardware Verilog\n",
    "println (getVerilog(new SignMagAdd(2)))"
   ]
  },
  {
   "cell_type": "code",
   "execution_count": 53,
   "id": "expressed-regular",
   "metadata": {},
   "outputs": [
    {
     "name": "stdout",
     "output_type": "stream",
     "text": [
      "Elaborating design...\n",
      "Done elaborating.\n",
      "test SignMagAdd Success: 0 tests passed in 2 cycles in 0.001311 seconds 1525.47 Hz\n"
     ]
    }
   ],
   "source": [
    "test(new SignMagAdd(4)) { c =>\n",
    "    c.io.in.poke(1.U)\n",
    "    c.io.out.expect(1.U)\n",
    "}"
   ]
  },
  {
   "cell_type": "code",
   "execution_count": 51,
   "id": "386820d7-9497-4232-ae96-70234abe17ca",
   "metadata": {},
   "outputs": [],
   "source": [
    "// COmment out the sign\n",
    "/* \n",
    "test(new SignMagAdd(4)) { c =>\n",
    "    c.io.in0.sign.poke(false.B)\n",
    "    c.io.in0.magn.poke(1.U)\n",
    "\n",
    "    c.io.in1.sign.poke(false.B)\n",
    "    c.io.in1.magn.poke(2.U)\n",
    "\n",
    "    c.io.out.sign.expect(false.B)\n",
    "    c.io.out.magn.expect(3.U)\n",
    "}\n",
    "*/"
   ]
  },
  {
   "cell_type": "markdown",
   "id": "947af5be-d175-453d-9d0c-f8f0f2bb010b",
   "metadata": {
    "slideshow": {
     "slide_type": "slide"
    }
   },
   "source": [
    "## 9.12 Example: modelAdd\n",
    "- Make a Mode\n",
    "- Use Scala to generate the desired behavior\n",
    "  * Can simply produce right output or even make a class\n",
    "- Be sure to model truncating/wrapping effects of data widths"
   ]
  },
  {
   "cell_type": "code",
   "execution_count": 65,
   "id": "turkish-strain",
   "metadata": {},
   "outputs": [
    {
     "name": "stdout",
     "output_type": "stream",
     "text": [
      "modelAdd(4, 4, 4): 8\n",
      "modelAdd(2, 3, 4): 5\n",
      "modelAdd(-1, 5, 4): 4\n",
      "modelAdd(1, -1, 4): 0\n"
     ]
    },
    {
     "data": {
      "text/plain": [
       "defined \u001b[32mfunction\u001b[39m \u001b[36mmodelAdd\u001b[39m"
      ]
     },
     "execution_count": 65,
     "metadata": {},
     "output_type": "execute_result"
    }
   ],
   "source": [
    "// Scala Test\n",
    "def modelAdd(a: Int, b: Int, w: Int): Int = {\n",
    "    require(w > 0)\n",
    "    require(w < 32)\n",
    "    val mask = (1 << w) - 1\n",
    "    val sum = a + b\n",
    "    if (sum < 0) -((-sum) & mask)\n",
    "    else sum & mask\n",
    "}\n",
    "\n",
    "println (\"modelAdd(4, 4, 4): \" + modelAdd(4, 4, 4))\n",
    "println (\"modelAdd(2, 3, 4): \" + modelAdd(2, 3, 4))\n",
    "println (\"modelAdd(-1, 5, 4): \" + modelAdd(-1, 5, 4))\n",
    "println (\"modelAdd(1, -1, 4): \" + modelAdd(1, -1, 4))"
   ]
  },
  {
   "cell_type": "code",
   "execution_count": 36,
   "id": "24fcb9b4-2094-4f49-9b34-3e045140f828",
   "metadata": {},
   "outputs": [],
   "source": [
    "// getverilog only pass the class. It cannot pass method.\n",
    "//println (getVerilog(new modelAdd(4,4,4)))"
   ]
  },
  {
   "cell_type": "markdown",
   "id": "234db243-17c0-430c-90b0-195cafab1d4a",
   "metadata": {},
   "source": [
    "## 9.13 Example: PassThroughTest"
   ]
  },
  {
   "cell_type": "code",
   "execution_count": 66,
   "id": "264ffc62-aa58-4eff-9aa2-ff440aeb3580",
   "metadata": {},
   "outputs": [
    {
     "data": {
      "text/plain": [
       "\u001b[32mimport \u001b[39m\u001b[36mchisel3._\n",
       "\u001b[39m\n",
       "\u001b[32mimport \u001b[39m\u001b[36mchisel3.util._\n",
       "\u001b[39m\n",
       "\u001b[32mimport \u001b[39m\u001b[36mchisel3.experimental._\n",
       "\u001b[39m\n",
       "\u001b[32mimport \u001b[39m\u001b[36mchisel3.experimental.BundleLiterals._\n",
       "\u001b[39m\n",
       "\u001b[32mimport \u001b[39m\u001b[36mchisel3.tester._\n",
       "\u001b[39m\n",
       "\u001b[32mimport \u001b[39m\u001b[36mchisel3.tester.RawTester.test\u001b[39m"
      ]
     },
     "execution_count": 66,
     "metadata": {},
     "output_type": "execute_result"
    }
   ],
   "source": [
    "import chisel3._\n",
    "import chisel3.util._\n",
    "import chisel3.experimental._\n",
    "import chisel3.experimental.BundleLiterals._\n",
    "import chisel3.tester._\n",
    "import chisel3.tester.RawTester.test"
   ]
  },
  {
   "cell_type": "code",
   "execution_count": 69,
   "id": "medium-hotel",
   "metadata": {
    "slideshow": {
     "slide_type": "-"
    }
   },
   "outputs": [
    {
     "data": {
      "text/plain": [
       "defined \u001b[32mclass\u001b[39m \u001b[36mPassthroughGenerator\u001b[39m"
      ]
     },
     "execution_count": 69,
     "metadata": {},
     "output_type": "execute_result"
    }
   ],
   "source": [
    "// Chisel Code, but pass in a parameter to set widths of ports\n",
    "class PassthroughGenerator(width: Int) extends Module { \n",
    "  val io = IO(new Bundle {\n",
    "    val in = Input(UInt(width.W))\n",
    "    val out = Output(UInt(width.W))\n",
    "  })\n",
    "  io.out := io.in\n",
    "}"
   ]
  },
  {
   "cell_type": "code",
   "execution_count": 68,
   "id": "955b02f1-f618-4576-8ada-9b648381911b",
   "metadata": {},
   "outputs": [
    {
     "name": "stdout",
     "output_type": "stream",
     "text": [
      "Elaborating design...\n",
      "Done elaborating.\n",
      "test PassthroughGenerator Success: 0 tests passed in 2 cycles in 0.001510 seconds 1324.72 Hz\n"
     ]
    }
   ],
   "source": [
    "test(new PassthroughGenerator(16)) { c =>\n",
    "    c.io.in.poke(0.U)     // Set our input to value 0\n",
    "    c.io.out.expect(0.U)  // Assert that the output correctly has 0\n",
    "    c.io.in.poke(1.U)     // Set our input to value 1\n",
    "    c.io.out.expect(1.U)  // Assert that the output correctly has 1\n",
    "    c.io.in.poke(2.U)     // Set our input to value 2\n",
    "    c.io.out.expect(2.U)  // Assert that the output correctly has 2\n",
    "}"
   ]
  },
  {
   "cell_type": "code",
   "execution_count": 70,
   "id": "738e7feb-6593-4ba0-951f-314f03ff4a4e",
   "metadata": {},
   "outputs": [
    {
     "name": "stdout",
     "output_type": "stream",
     "text": [
      "Elaborating design...\n",
      "Done elaborating.\n",
      "test PassthroughGenerator Success: 0 tests passed in 5 cycles in 0.002657 seconds 1882.12 Hz\n"
     ]
    }
   ],
   "source": [
    "test(new PassthroughGenerator(16)) { c =>\n",
    "    c.io.in.poke(0.U)     // Set our input to value 0\n",
    "    c.clock.step(1)    // advance the clock\n",
    "    c.io.out.expect(0.U)  // Assert that the output correctly has 0\n",
    "    c.io.in.poke(1.U)     // Set our input to value 1\n",
    "    c.clock.step(1)    // advance the clock\n",
    "    c.io.out.expect(1.U)  // Assert that the output correctly has 1\n",
    "    c.io.in.poke(2.U)     // Set our input to value 2\n",
    "    c.clock.step(1)    // advance the clock\n",
    "    c.io.out.expect(2.U)  // Assert that the output correctly has 2\n",
    "}"
   ]
  },
  {
   "cell_type": "code",
   "execution_count": 46,
   "id": "9480a281-589a-48f4-a6bf-b40e35fde2da",
   "metadata": {},
   "outputs": [],
   "source": [
    "/*\n",
    "def testAdd(a: Int, b: Int, c: SignMagAdd, verbose: Boolean=true) {\n",
    "    c.io.in0.sign.poke((a<0).B)\n",
    "    c.io.in0.magn.poke(math.abs(a).U)\n",
    "    c.io.in1.sign.poke((b<0).B)\n",
    "    c.io.in1.magn.poke(math.abs(b).U)\n",
    "    val outSignStr = if (c.io.out.sign.peek().litToBoolean) \"-\" else \"\"\n",
    "    val outMag = c.io.out.magn.peek().litValue\n",
    "    if (verbose)\n",
    "        println(s\"  in: $a + $b  out: $outSignStr$outMag\")\n",
    "    if (modelAdd(a,b,c.w) != 0)\n",
    "        c.io.out.sign.expect((modelAdd(a,b,c.w) < 0).B)  // what is buggy here?\n",
    "    c.io.out.magn.expect(math.abs(modelAdd(a,b,c.w)).U)\n",
    "}\n",
    "\n",
    "test(new SignMagAdd(4)) { c =>\n",
    "    testAdd(2,3,c)\n",
    "    testAdd(-1,5,c)\n",
    "    testAdd(1,-1,c)\n",
    "}\n",
    "*/"
   ]
  },
  {
   "cell_type": "markdown",
   "id": "oriental-industry",
   "metadata": {
    "slideshow": {
     "slide_type": "slide"
    }
   },
   "source": [
    "## Combo. Example - Sign & Magnitude Add - Test Exhaustively"
   ]
  },
  {
   "cell_type": "code",
   "execution_count": 6,
   "id": "mathematical-injection",
   "metadata": {},
   "outputs": [],
   "source": [
    "/*\n",
    "def testAll(w: Int) {\n",
    "    val maxVal = (1<<w) - 1\n",
    "    test(new SignMagAdd(w)) { dut =>\n",
    "        for (a <- -maxVal to maxVal) {\n",
    "            for (b <- -maxVal to maxVal) {\n",
    "                testAdd(a,b,dut,false)\n",
    "            }\n",
    "        }\n",
    "    }\n",
    "}\n",
    "\n",
    "testAll(2)\n",
    "*/"
   ]
  },
  {
   "cell_type": "markdown",
   "id": "authentic-testament",
   "metadata": {
    "slideshow": {
     "slide_type": "slide"
    }
   },
   "source": [
    "## Combo. Example - Sign & Magnitude Add - Random Test"
   ]
  },
  {
   "cell_type": "code",
   "execution_count": 6,
   "id": "patent-theory",
   "metadata": {},
   "outputs": [],
   "source": [
    "/*\n",
    "def testRandomAdd(dut: SignMagAdd) {\n",
    "    def genInput() = {\n",
    "        val limit = 1 << dut.w\n",
    "        val magn = scala.util.Random.nextInt(limit)\n",
    "        val neg = scala.util.Random.nextBoolean\n",
    "        if (neg) -magn else magn\n",
    "    }\n",
    "    testAdd(genInput(), genInput(), dut)\n",
    "}\n",
    "\n",
    "def testRandomly(w: Int, numTrials: Int) {\n",
    "    test(new SignMagAdd(w)) { dut =>\n",
    "        for (t <- 0 until numTrials)\n",
    "            testRandomAdd(dut)\n",
    "    }\n",
    "}\n",
    "\n",
    "testRandomly(4, 5)\n",
    "*/"
   ]
  },
  {
   "cell_type": "markdown",
   "id": "saved-oregon",
   "metadata": {
    "slideshow": {
     "slide_type": "slide"
    }
   },
   "source": [
    "## ScalaTest\n",
    "\n",
    "* Helpful [library](https://www.scalatest.org) to organize and group tests\n",
    "\n",
    "* `sbt` is aware of it\n",
    "  * Running `test` automatically runs all ScalaTests it can find\n",
    "  * Can also use `testOnly package.class` to only test `package.class`\n",
    "\n",
    "* ChiselTest can interoperate with it, and we have been using it in the homework already"
   ]
  },
  {
   "cell_type": "markdown",
   "id": "gorgeous-harris",
   "metadata": {
    "slideshow": {
     "slide_type": "slide"
    }
   },
   "source": [
    "## Combo. Example - Sign & Magnitude Add - with ScalaTest"
   ]
  },
  {
   "cell_type": "code",
   "execution_count": 6,
   "id": "fifth-entrance",
   "metadata": {
    "slideshow": {
     "slide_type": "-"
    }
   },
   "outputs": [],
   "source": [
    "/*\n",
    "class SignMagAddTest(w: Int) extends AnyFlatSpec with ChiselScalatestTester {\n",
    "    behavior of s\"SignMagAdd($w)\"\n",
    "    it should \"1 + 2 = 3\" in {\n",
    "        test(new SignMagAdd(w)) { dut =>\n",
    "            testAdd(1,2,dut)\n",
    "        }\n",
    "    }\n",
    "    it should \"1 - 1 = 0\" in {\n",
    "        test(new SignMagAdd(w)) { dut =>\n",
    "            testAdd(1,-1,dut)\n",
    "        }\n",
    "    }\n",
    "}\n",
    "\n",
    "(new SignMagAddTest(4)).execute()\n",
    "*/"
   ]
  },
  {
   "cell_type": "markdown",
   "id": "creative-transport",
   "metadata": {
    "slideshow": {
     "slide_type": "slide"
    }
   },
   "source": [
    "## Combo. Example - Sign & Magnitude Add - Bundle Literals\n",
    "\n",
    "* Experimental [feature](https://www.chisel-lang.org/chisel3/docs/appendix/experimental-features#bundle-literals) to specify a Bundle all at once"
   ]
  },
  {
   "cell_type": "code",
   "execution_count": 6,
   "id": "identical-offense",
   "metadata": {},
   "outputs": [],
   "source": [
    "/*\n",
    "import chisel3.experimental.BundleLiterals._\n",
    "\n",
    "test(new SignMagAdd(4)) { c =>\n",
    "    val b0 = chiselTypeOf(c.io.in0).Lit(_.sign->false.B, _.magn->2.U)\n",
    "    val b1 = (new SignMag(4)).Lit(_.sign->false.B, _.magn->2.U)\n",
    "    val s  = chiselTypeOf(c.io.out).Lit(_.sign->false.B, _.magn->4.U)\n",
    "    c.io.in0.poke(b0)\n",
    "    c.io.in1.poke(b1)\n",
    "    c.io.out.expect(s)\n",
    "}\n",
    "*/"
   ]
  },
  {
   "cell_type": "markdown",
   "id": "f62ffe22-9a31-4962-80a9-7d1e876e5340",
   "metadata": {
    "slideshow": {
     "slide_type": "slide"
    }
   },
   "source": [
    "## 9.14 Seq. Example - Queue - Intro\n",
    "\n",
    "* Testing stateful things is more difficult because prior history (in test) matters\n",
    "  * Causes large state space explosion\n",
    "  * Exhaustive testing is unlikely to be feasible\n",
    "* _Today:_ let's test out Chisel's `Queue` (stateful and uses `Decoupled`)\n",
    "\n",
    "```scala\n",
    "    Queue(UInt(n.W), numEntries, pipe=true, flow=false)\n",
    "```"
   ]
  },
  {
   "cell_type": "markdown",
   "id": "neither-capture",
   "metadata": {
    "slideshow": {
     "slide_type": "slide"
    }
   },
   "source": [
    "## Seq. Example - Queue - Model Implementation\n",
    "\n",
    "* Be careful when modeling interactions with registers\n",
    "  * Don't want register input to be available at register output too soon\n",
    "* _Easy fix (for most of the time):_ ensure registers are read first in a cycle before written\n",
    "* _Alternative:_ buffer register inputs and apply them all at once when cycle advances"
   ]
  },
  {
   "cell_type": "code",
   "execution_count": 7,
   "id": "happy-communications",
   "metadata": {
    "slideshow": {
     "slide_type": "-"
    }
   },
   "outputs": [
    {
     "data": {
      "text/plain": [
       "defined \u001b[32mclass\u001b[39m \u001b[36mQueueModel\u001b[39m"
      ]
     },
     "execution_count": 7,
     "metadata": {},
     "output_type": "execute_result"
    }
   ],
   "source": [
    "class QueueModel(numEntries: Int) {\n",
    "    val mq = scala.collection.mutable.Queue[Int]()\n",
    "\n",
    "    var deqReady = false    // set externally\n",
    "    def deqValid() = mq.nonEmpty\n",
    "    // be sure to call attemptDeq before attemptEnq within a cycle\n",
    "    def attemptDeq() = if (deqReady && deqValid) Some(mq.dequeue()) else None\n",
    "\n",
    "    def enqReady() = mq.size < numEntries || (mq.size == numEntries && deqReady)    // pipe = true\n",
    "    def attemptEnq(elem: Int): Unit = if (enqReady()) mq += elem    // implies enqValid\n",
    "}"
   ]
  },
  {
   "cell_type": "markdown",
   "id": "demanding-stuff",
   "metadata": {
    "slideshow": {
     "slide_type": "slide"
    }
   },
   "source": [
    "## Seq. Example - Queue - Model Demo Small"
   ]
  },
  {
   "cell_type": "code",
   "execution_count": 8,
   "id": "cosmetic-metro",
   "metadata": {},
   "outputs": [
    {
     "data": {
      "text/plain": [
       "\u001b[36mqm\u001b[39m: \u001b[32mQueueModel\u001b[39m = ammonite.$sess.cmd6$Helper$QueueModel@6cf5d3b6\n",
       "\u001b[36mres7_1\u001b[39m: \u001b[32mBoolean\u001b[39m = true\n",
       "\u001b[36mres7_2\u001b[39m: \u001b[32mBoolean\u001b[39m = false\n",
       "\u001b[36mres7_4\u001b[39m: \u001b[32mOption\u001b[39m[\u001b[32mInt\u001b[39m] = \u001b[32mNone\u001b[39m\n",
       "\u001b[36mres7_6\u001b[39m: \u001b[32mBoolean\u001b[39m = true\n",
       "\u001b[36mres7_7\u001b[39m: \u001b[32mBoolean\u001b[39m = true\n",
       "\u001b[36mres7_9\u001b[39m: \u001b[32mOption\u001b[39m[\u001b[32mInt\u001b[39m] = \u001b[33mSome\u001b[39m(\u001b[32m1\u001b[39m)"
      ]
     },
     "execution_count": 8,
     "metadata": {},
     "output_type": "execute_result"
    }
   ],
   "source": [
    "val qm = new QueueModel(2)\n",
    "\n",
    "// attempt push 1\n",
    "qm.enqReady()\n",
    "qm.deqValid()\n",
    "qm.deqReady = false\n",
    "qm.attemptDeq()\n",
    "qm.attemptEnq(1)\n",
    "\n",
    "// attempt push 2 & pop 1\n",
    "qm.enqReady()\n",
    "qm.deqValid()\n",
    "qm.deqReady = true\n",
    "qm.attemptDeq()\n",
    "qm.attemptEnq(2)"
   ]
  },
  {
   "cell_type": "markdown",
   "id": "informal-setup",
   "metadata": {
    "slideshow": {
     "slide_type": "slide"
    }
   },
   "source": [
    "## Seq. Example - Queue - Model Demo Long"
   ]
  },
  {
   "cell_type": "code",
   "execution_count": 9,
   "id": "failing-czech",
   "metadata": {
    "scrolled": true
   },
   "outputs": [
    {
     "name": "stdout",
     "output_type": "stream",
     "text": [
      "deqV: false\tdeqR: false\tdeqB: None\tenqV: true\tenqR: true\tenqB: 1\n",
      "deqV: true\tdeqR: false\tdeqB: None\tenqV: true\tenqR: true\tenqB: 2\n",
      "deqV: true\tdeqR: false\tdeqB: None\tenqV: true\tenqR: false\tenqB: 3\n",
      "deqV: true\tdeqR: true\tdeqB: Some(1)\tenqV: true\tenqR: true\tenqB: 4\n",
      "deqV: true\tdeqR: true\tdeqB: Some(2)\tenqV: true\tenqR: true\tenqB: 5\n",
      "deqV: true\tdeqR: true\tdeqB: Some(4)\tenqV: true\tenqR: true\tenqB: 6\n"
     ]
    },
    {
     "data": {
      "text/plain": [
       "\u001b[36mqm\u001b[39m: \u001b[32mQueueModel\u001b[39m = ammonite.$sess.cmd6$Helper$QueueModel@60ce44bc"
      ]
     },
     "execution_count": 9,
     "metadata": {},
     "output_type": "execute_result"
    }
   ],
   "source": [
    "val qm = new QueueModel(2)\n",
    "\n",
    "for (i <- 1 to 6) {\n",
    "    qm.deqReady = i > 3\n",
    "    print(s\"deqV: ${qm.deqValid()}\\tdeqR: ${qm.deqReady}\\tdeqB: ${qm.attemptDeq()}\")\n",
    "    println(s\"\\tenqV: true\\tenqR: ${qm.enqReady()}\\tenqB: $i\")\n",
    "    qm.attemptEnq(i)\n",
    "}"
   ]
  },
  {
   "cell_type": "markdown",
   "id": "indirect-chorus",
   "metadata": {
    "slideshow": {
     "slide_type": "slide"
    }
   },
   "source": [
    "## Seq. Example - Queue - Manually Comparing to Model"
   ]
  },
  {
   "cell_type": "code",
   "execution_count": 10,
   "id": "occupied-welding",
   "metadata": {},
   "outputs": [
    {
     "name": "stdout",
     "output_type": "stream",
     "text": [
      "Elaborating design...\n",
      "Done elaborating.\n",
      "test Queue Success: 0 tests passed in 5 cycles in 0.041302 seconds 121.06 Hz\n"
     ]
    }
   ],
   "source": [
    "test(new Queue(UInt(32.W), 2, pipe=true, flow=false)) { dut =>\n",
    "    val qm = new QueueModel(2)\n",
    "    // always dequeue (for this example)\n",
    "    qm.deqReady = true\n",
    "    dut.io.deq.ready.poke(qm.deqReady.B)\n",
    "\n",
    "    // try to dequeue on empty\n",
    "    dut.io.deq.valid.expect(qm.deqValid.B)\n",
    "    val deqResult0 = qm.attemptDeq()\n",
    "    if (deqResult0.isDefined) dut.io.deq.bits.expect(deqResult0.get.U)\n",
    "    dut.io.enq.ready.expect(qm.enqReady.B)\n",
    "    dut.io.enq.valid.poke(false.B)\n",
    "    dut.io.enq.bits.poke(0.U)\n",
    "    dut.clock.step()\n",
    "    \n",
    "    // enqueue 1\n",
    "    dut.io.deq.valid.expect(qm.deqValid.B)\n",
    "    val deqResult1 = qm.attemptDeq()\n",
    "    if (deqResult1.isDefined) dut.io.deq.bits.expect(deqResult1.get.U)\n",
    "    dut.io.enq.ready.expect(qm.enqReady.B)\n",
    "    dut.io.enq.valid.poke(true.B)\n",
    "    dut.io.enq.bits.poke(1.U)\n",
    "    qm.attemptEnq(1)\n",
    "    dut.clock.step()\n",
    "    \n",
    "    // enqueue nothing, dequeue 1\n",
    "    dut.io.deq.valid.expect(qm.deqValid.B)\n",
    "    val deqResult2 = qm.attemptDeq()\n",
    "    if (deqResult2.isDefined) dut.io.deq.bits.expect(deqResult2.get.U)\n",
    "    dut.io.enq.ready.expect(qm.enqReady.B)\n",
    "    dut.io.enq.valid.poke(false.B)\n",
    "    dut.io.enq.bits.poke(0.U)\n",
    "    dut.clock.step()\n",
    "}"
   ]
  },
  {
   "cell_type": "markdown",
   "id": "together-petroleum",
   "metadata": {
    "slideshow": {
     "slide_type": "slide"
    }
   },
   "source": [
    "## Seq. Example - Queue - Automate Interaction"
   ]
  },
  {
   "cell_type": "code",
   "execution_count": 11,
   "id": "angry-kelly",
   "metadata": {
    "slideshow": {
     "slide_type": "-"
    }
   },
   "outputs": [
    {
     "name": "stdout",
     "output_type": "stream",
     "text": [
      "Elaborating design...\n",
      "Done elaborating.\n",
      "Queue()\n",
      "Queue(1)\n",
      "Queue()\n",
      "test Queue Success: 0 tests passed in 5 cycles in 0.008584 seconds 582.49 Hz\n"
     ]
    },
    {
     "data": {
      "text/plain": [
       "defined \u001b[32mfunction\u001b[39m \u001b[36msimCycle\u001b[39m"
      ]
     },
     "execution_count": 11,
     "metadata": {},
     "output_type": "execute_result"
    }
   ],
   "source": [
    "def simCycle(dut: Queue[UInt], qm: QueueModel, enqValid: Boolean, deqReady: Boolean, enqData: Int=0) {\n",
    "    qm.deqReady = deqReady\n",
    "    dut.io.deq.ready.poke(qm.deqReady.B)\n",
    "    dut.io.deq.valid.expect(qm.deqValid.B)\n",
    "    val deqResult = qm.attemptDeq()\n",
    "    if (deqResult.isDefined)\n",
    "        dut.io.deq.bits.expect(deqResult.get.U)\n",
    "    dut.io.enq.ready.expect(qm.enqReady.B)\n",
    "    dut.io.enq.valid.poke(enqValid.B)\n",
    "    dut.io.enq.bits.poke(enqData.U)\n",
    "    if (enqValid)\n",
    "        qm.attemptEnq(enqData)\n",
    "    dut.clock.step()\n",
    "    println(qm.mq)\n",
    "}\n",
    "\n",
    "test(new Queue(UInt(32.W), 2, pipe=true, flow=false)) { dut =>\n",
    "    val qm = new QueueModel(2)\n",
    "    simCycle(dut, qm, false, false)\n",
    "    simCycle(dut, qm, true, false, 1)\n",
    "    simCycle(dut, qm, false, true)\n",
    "}"
   ]
  },
  {
   "cell_type": "markdown",
   "id": "flush-cheese",
   "metadata": {
    "slideshow": {
     "slide_type": "slide"
    }
   },
   "source": [
    "## Seq. Example - Queue - Test Fill & Drain"
   ]
  },
  {
   "cell_type": "code",
   "execution_count": 12,
   "id": "handy-cylinder",
   "metadata": {},
   "outputs": [
    {
     "name": "stdout",
     "output_type": "stream",
     "text": [
      "Elaborating design...\n",
      "Done elaborating.\n",
      "Queue(0)\n",
      "Queue(0, 1)\n",
      "Queue(0, 1, 2)\n",
      "Queue(0, 1, 2)\n",
      "Queue(1, 2)\n",
      "Queue(2)\n",
      "Queue()\n",
      "Queue()\n",
      "test Queue Success: 0 tests passed in 10 cycles in 0.023066 seconds 433.54 Hz\n"
     ]
    },
    {
     "data": {
      "text/plain": [
       "defined \u001b[32mfunction\u001b[39m \u001b[36mtestFillAndDrain\u001b[39m"
      ]
     },
     "execution_count": 12,
     "metadata": {},
     "output_type": "execute_result"
    }
   ],
   "source": [
    "def testFillAndDrain(numEntries: Int, w: Int) {\n",
    "    test(new Queue(UInt(w.W), numEntries, pipe=true, flow=false)) { dut =>\n",
    "        val qm = new QueueModel(numEntries)\n",
    "        for (x <- 0 to numEntries) {  // fill\n",
    "            simCycle(dut, qm, true, false, x)\n",
    "        }\n",
    "        for (x <- 0 to numEntries) {  // drain\n",
    "            simCycle(dut, qm, false, true)\n",
    "        }\n",
    "    }\n",
    "}\n",
    "\n",
    "testFillAndDrain(3, 32)"
   ]
  },
  {
   "cell_type": "markdown",
   "id": "loaded-roulette",
   "metadata": {
    "slideshow": {
     "slide_type": "slide"
    }
   },
   "source": [
    "## Seq. Example - Queue - Test Randomly"
   ]
  },
  {
   "cell_type": "code",
   "execution_count": 13,
   "id": "obvious-faith",
   "metadata": {},
   "outputs": [
    {
     "name": "stdout",
     "output_type": "stream",
     "text": [
      "Elaborating design...\n",
      "Done elaborating.\n",
      "Queue()\n",
      "Queue(2)\n",
      "Queue(2, 3)\n",
      "Queue(2, 3)\n",
      "test Queue Success: 0 tests passed in 6 cycles in 0.009316 seconds 644.05 Hz\n"
     ]
    },
    {
     "data": {
      "text/plain": [
       "defined \u001b[32mfunction\u001b[39m \u001b[36mtestRandomly\u001b[39m"
      ]
     },
     "execution_count": 13,
     "metadata": {},
     "output_type": "execute_result"
    }
   ],
   "source": [
    "def testRandomly(numEntries: Int, w: Int, numTrials: Int) {\n",
    "    test(new Queue(UInt(w.W), numEntries, pipe=true, flow=false)) { dut =>\n",
    "        val qm = new QueueModel(numEntries)\n",
    "        for (i <- 1 until numTrials) {\n",
    "            val tryEnq = scala.util.Random.nextBoolean\n",
    "            val tryDeq = scala.util.Random.nextBoolean\n",
    "            simCycle(dut, qm, tryEnq, tryDeq, i)\n",
    "        }\n",
    "    }\n",
    "}\n",
    "\n",
    "testRandomly(2, 32, 5)"
   ]
  },
  {
   "cell_type": "markdown",
   "id": "external-publisher",
   "metadata": {
    "slideshow": {
     "slide_type": "slide"
    }
   },
   "source": [
    "## Testing Advice\n",
    "\n",
    "### Get humans out of the loop\n",
    "  * Humans should help make tests, but not perform them\n",
    "  * Print statements & waveforms are for debugging but not testing\n",
    "\n",
    "### Random may not yield great coverage\n",
    "  * In large test space, may have low probability of reaching interesting corner case\n",
    "  * May want to _seed_ to get reproducibility\n",
    "\n",
    "### Assertions are helpful, but do not replace need for testing\n",
    "  * Tests don't just ensure consistent state, but also provide test stimuli\n",
    "  * Assertions best for catching issues early (in simulation time) before they silently cause problems later\n",
    "    * Consider adding them after debugging subtle bug"
   ]
  }
 ],
 "metadata": {
  "celltoolbar": "Slideshow",
  "kernelspec": {
   "display_name": "Scala 2.12.11",
   "language": "scala",
   "name": "scala_2_12_11"
  },
  "language_info": {
   "codemirror_mode": "text/x-scala",
   "file_extension": ".scala",
   "mimetype": "text/x-scala",
   "name": "scala",
   "nbconvert_exporter": "script",
   "version": "2.12.11"
  }
 },
 "nbformat": 4,
 "nbformat_minor": 5
}
