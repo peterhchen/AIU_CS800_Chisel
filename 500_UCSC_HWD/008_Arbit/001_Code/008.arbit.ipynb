{
 "cells": [
  {
   "cell_type": "markdown",
   "id": "e2fc487f-9bb1-4a42-8b62-5dc89558c2df",
   "metadata": {
    "cell_style": "center",
    "slideshow": {
     "slide_type": "slide"
    }
   },
   "source": [
    "## Agile Hardware Design\n",
    "***\n",
    "# Arbitration\n",
    "\n",
    "<img src=\"./images/logo.svg\" alt=\"agile hardware design logo\" style=\"float:right\"/>\n",
    "\n",
    "## By Peter Hanping Chen based on \n",
    "## Prof. Scott Beamer\n",
    "## sbeamer@ucsc.edu\n",
    "## [CSE 228A](https://classes.soe.ucsc.edu/cse228a/Winter24/)\n",
    "###\n",
    "### Note:\n",
    "### This chisel code is modified based on Scala configuration file: load-ivy.sc\n",
    "### https://github.com/freechipsproject/chisel-bootcamp"
   ]
  },
  {
   "cell_type": "markdown",
   "id": "nominated-consistency",
   "metadata": {
    "slideshow": {
     "slide_type": "slide"
    }
   },
   "source": [
    "## Plan for Today\n",
    "\n",
    "* One-hot encoding\n",
    "* Priority encoders\n",
    "* Arbiters\n",
    "* Crossbar Example"
   ]
  },
  {
   "cell_type": "markdown",
   "id": "regular-reducing",
   "metadata": {
    "slideshow": {
     "slide_type": "slide"
    }
   },
   "source": [
    "## Loading The Chisel Library Into a Notebook"
   ]
  },
  {
   "cell_type": "code",
   "execution_count": 1,
   "id": "robust-immigration",
   "metadata": {},
   "outputs": [
    {
     "name": "stdout",
     "output_type": "stream",
     "text": [
      "path: /home/peter/AIU/AIU_CS800_Chisel/500_UCSC_HWD/008_Arbit/001_Code/source/load-ivy.sc\n"
     ]
    },
    {
     "data": {
      "text/plain": [
       "\u001b[36mpath\u001b[39m: \u001b[32mString\u001b[39m = \u001b[32m\"/home/peter/AIU/AIU_CS800_Chisel/500_UCSC_HWD/008_Arbit/001_Code/source/load-ivy.sc\"\u001b[39m"
      ]
     },
     "execution_count": 1,
     "metadata": {},
     "output_type": "execute_result"
    }
   ],
   "source": [
    "//interp.load.module(os.Path(s\"${System.getProperty(\"user.dir\")}/../resource/chisel_deps.sc\"))\n",
    "val path = System.getProperty(\"user.dir\") + \"/source/load-ivy.sc\"\n",
    "//val path = System.getProperty(\"user.dir\") + \"/source/chisel_deps.sc\"\n",
    "println(\"path: \"+path)"
   ]
  },
  {
   "cell_type": "code",
   "execution_count": 2,
   "id": "e3e3025e-16f0-4928-aee3-3889032d8592",
   "metadata": {},
   "outputs": [
    {
     "name": "stderr",
     "output_type": "stream",
     "text": [
      "Checking https://repo1.maven.org/maven2/edu/berkeley/cs/chisel3_2.12/maven-metadata.xml\n",
      "Checked https://repo1.maven.org/maven2/edu/berkeley/cs/chisel3_2.12/maven-metadata.xml\n",
      "Checking https://repo1.maven.org/maven2/edu/berkeley/cs/chisel-iotesters_2.12/maven-metadata.xml\n",
      "Checked https://repo1.maven.org/maven2/edu/berkeley/cs/chisel-iotesters_2.12/maven-metadata.xml\n",
      "Checking https://repo1.maven.org/maven2/edu/berkeley/cs/chiseltest_2.12/maven-metadata.xml\n",
      "Checked https://repo1.maven.org/maven2/edu/berkeley/cs/chiseltest_2.12/maven-metadata.xml\n",
      "Checking https://repo1.maven.org/maven2/edu/berkeley/cs/dsptools_2.12/maven-metadata.xml\n",
      "Checked https://repo1.maven.org/maven2/edu/berkeley/cs/dsptools_2.12/maven-metadata.xml\n",
      "Checking https://repo1.maven.org/maven2/edu/berkeley/cs/firrtl-diagrammer_2.12/maven-metadata.xml\n",
      "Checked https://repo1.maven.org/maven2/edu/berkeley/cs/firrtl-diagrammer_2.12/maven-metadata.xml\n"
     ]
    }
   ],
   "source": [
    "interp.load.module(ammonite.ops.Path(java.nio.file.FileSystems.getDefault().getPath(path)))"
   ]
  },
  {
   "cell_type": "code",
   "execution_count": 3,
   "id": "extended-burning",
   "metadata": {
    "slideshow": {
     "slide_type": "-"
    }
   },
   "outputs": [
    {
     "data": {
      "text/plain": [
       "\u001b[32mimport \u001b[39m\u001b[36mchisel3._\n",
       "\u001b[39m\n",
       "\u001b[32mimport \u001b[39m\u001b[36mchisel3.util._\n",
       "\u001b[39m\n",
       "\u001b[32mimport \u001b[39m\u001b[36mchiseltest._\n",
       "\u001b[39m\n",
       "\u001b[32mimport \u001b[39m\u001b[36mchiseltest.RawTester.test\u001b[39m"
      ]
     },
     "execution_count": 3,
     "metadata": {},
     "output_type": "execute_result"
    }
   ],
   "source": [
    "import chisel3._\n",
    "import chisel3.util._\n",
    "import chiseltest._\n",
    "import chiseltest.RawTester.test"
   ]
  },
  {
   "cell_type": "markdown",
   "id": "aquatic-making",
   "metadata": {
    "jp-MarkdownHeadingCollapsed": true,
    "slideshow": {
     "slide_type": "slide"
    }
   },
   "source": [
    "## One-Hot Encoding\n",
    "\n",
    "* Collection of wires where _**exactly**_ one wire is high (rest are low)\n",
    "\n",
    "* Helpful for working with a collection of objects in which you only want one to be active/selected/enabled\n",
    "\n",
    "* Examples\n",
    "  * Setting the write enable high for the target register in register file\n",
    "  * Charging the appropriate word line in a SRAM (often called a _decoder_)\n",
    "\n",
    "* Can often avoid need to encode/decode because both producers and consumers of one-hot (OH) encoding may prefer it\n",
    "\n",
    "<img src=\"images/decoder.svg\" alt=\"xbar schematic\" style=\"width:30%;margin-left:auto;margin-right:auto\"/>"
   ]
  },
  {
   "cell_type": "markdown",
   "id": "cellular-range",
   "metadata": {
    "slideshow": {
     "slide_type": "slide"
    }
   },
   "source": [
    "## Implementing Our Own One-Hot Encoder (1/2)"
   ]
  },
  {
   "cell_type": "code",
   "execution_count": 4,
   "id": "collaborative-pitch",
   "metadata": {},
   "outputs": [
    {
     "data": {
      "text/plain": [
       "defined \u001b[32mclass\u001b[39m \u001b[36mConvUIntToOH\u001b[39m"
      ]
     },
     "execution_count": 4,
     "metadata": {},
     "output_type": "execute_result"
    }
   ],
   "source": [
    "class ConvUIntToOH(inWidth: Int) extends Module {\n",
    "    val outWidth = 1 << inWidth\n",
    "    val io = IO(new Bundle {\n",
    "        val in  = Input(UInt(inWidth.W))\n",
    "        val out = Output(UInt(outWidth.W))\n",
    "    })\n",
    "    require (inWidth > 0)\n",
    "    def helper(index: Int): UInt = {\n",
    "        if (index < outWidth-1) Cat(helper(index+1), io.in === index.U)\n",
    "        else io.in === index.U\n",
    "    }\n",
    "    io.out := helper(0)\n",
    "//     io.out := UIntToOH(io.in)  // Standard library implementation\n",
    "    printf(\"%d -> %b\\n\", io.in, io.out)\n",
    "}"
   ]
  },
  {
   "cell_type": "markdown",
   "id": "9842525f",
   "metadata": {
    "slideshow": {
     "slide_type": "slide"
    }
   },
   "source": [
    "## Implementing Our Own One-Hot Encoder (2/2)"
   ]
  },
  {
   "cell_type": "code",
   "execution_count": 5,
   "id": "36e7c383-47ca-4c7d-8ed2-5d8b31061d74",
   "metadata": {},
   "outputs": [
    {
     "name": "stdout",
     "output_type": "stream",
     "text": [
      "Elaborating design...\n",
      "Done elaborating.\n",
      "module ConvUIntToOH(\n",
      "  input        clock,\n",
      "  input        reset,\n",
      "  input  [1:0] io_in,\n",
      "  output [3:0] io_out\n",
      ");\n",
      "  wire  _T = io_in == 2'h3; // @[cmd3.sc 10:20]\n",
      "  wire  _T_1 = io_in == 2'h2; // @[cmd3.sc 9:60]\n",
      "  wire  _T_3 = io_in == 2'h1; // @[cmd3.sc 9:60]\n",
      "  wire [2:0] _T_4 = {_T,_T_1,_T_3}; // @[Cat.scala 30:58]\n",
      "  wire  _T_5 = io_in == 2'h0; // @[cmd3.sc 9:60]\n",
      "  assign io_out = {_T_4,_T_5}; // @[Cat.scala 30:58]\n",
      "  always @(posedge clock) begin\n",
      "    `ifndef SYNTHESIS\n",
      "    `ifdef PRINTF_COND\n",
      "      if (`PRINTF_COND) begin\n",
      "    `endif\n",
      "        if (~reset) begin\n",
      "          $fwrite(32'h80000002,\"%d -> %b\\n\",io_in,io_out); // @[cmd3.sc 14:11]\n",
      "        end\n",
      "    `ifdef PRINTF_COND\n",
      "      end\n",
      "    `endif\n",
      "    `endif // SYNTHESIS\n",
      "  end\n",
      "endmodule\n",
      "\n"
     ]
    }
   ],
   "source": [
    "//printVerilog(new ConvUIntToOH(2))\n",
    "println (getVerilog(new ConvUIntToOH(2)))"
   ]
  },
  {
   "cell_type": "code",
   "execution_count": 6,
   "id": "d75cecaf-5705-478a-8824-cac38e53af67",
   "metadata": {},
   "outputs": [
    {
     "name": "stdout",
     "output_type": "stream",
     "text": [
      "Elaborating design...\n",
      "Done elaborating.\n",
      "module ConvUIntToOH(\n",
      "  input        clock,\n",
      "  input        reset,\n",
      "  input  [2:0] io_in,\n",
      "  output [7:0] io_out\n",
      ");\n",
      "  wire  _T = io_in == 3'h7; // @[cmd3.sc 10:20]\n",
      "  wire  _T_1 = io_in == 3'h6; // @[cmd3.sc 9:60]\n",
      "  wire  _T_3 = io_in == 3'h5; // @[cmd3.sc 9:60]\n",
      "  wire  _T_5 = io_in == 3'h4; // @[cmd3.sc 9:60]\n",
      "  wire  _T_7 = io_in == 3'h3; // @[cmd3.sc 9:60]\n",
      "  wire  _T_9 = io_in == 3'h2; // @[cmd3.sc 9:60]\n",
      "  wire  _T_11 = io_in == 3'h1; // @[cmd3.sc 9:60]\n",
      "  wire [6:0] _T_12 = {_T,_T_1,_T_3,_T_5,_T_7,_T_9,_T_11}; // @[Cat.scala 30:58]\n",
      "  wire  _T_13 = io_in == 3'h0; // @[cmd3.sc 9:60]\n",
      "  assign io_out = {_T_12,_T_13}; // @[Cat.scala 30:58]\n",
      "  always @(posedge clock) begin\n",
      "    `ifndef SYNTHESIS\n",
      "    `ifdef PRINTF_COND\n",
      "      if (`PRINTF_COND) begin\n",
      "    `endif\n",
      "        if (~reset) begin\n",
      "          $fwrite(32'h80000002,\"%d -> %b\\n\",io_in,io_out); // @[cmd3.sc 14:11]\n",
      "        end\n",
      "    `ifdef PRINTF_COND\n",
      "      end\n",
      "    `endif\n",
      "    `endif // SYNTHESIS\n",
      "  end\n",
      "endmodule\n",
      "\n"
     ]
    }
   ],
   "source": [
    "// 3 bits of Verilog\n",
    "println (getVerilog(new ConvUIntToOH(3)))"
   ]
  },
  {
   "cell_type": "markdown",
   "id": "4856e041-475f-4b4f-a34e-f9ac1e32f0a2",
   "metadata": {},
   "source": [
    "### Perform the One-Hot-Encoding Simulation ###"
   ]
  },
  {
   "cell_type": "code",
   "execution_count": 7,
   "id": "abd31e79-f3a4-4609-8f8a-8b6bdd3fe432",
   "metadata": {},
   "outputs": [
    {
     "name": "stdout",
     "output_type": "stream",
     "text": [
      "Elaborating design...\n",
      "Done elaborating.\n",
      " 0 ->    1\n",
      " 1 ->   10\n",
      " 2 ->  100\n",
      " 3 -> 1000\n",
      " 0 ->    1\n",
      "test ConvUIntToOH Success: 0 tests passed in 6 cycles in 0.037580 seconds 159.66 Hz\n"
     ]
    }
   ],
   "source": [
    "// 2 bits One-Hot-Encoding\n",
    "test(new ConvUIntToOH(2)) { c =>\n",
    "    for (i <- 0 until 4) {\n",
    "         c.io.in.poke(i.U)\n",
    "         c.io.out.expect((1 << i).U)\n",
    "         c.clock.step()\n",
    "     }\n",
    "}"
   ]
  },
  {
   "cell_type": "code",
   "execution_count": 8,
   "id": "c2825510-074d-4cd9-9c46-0ad1ebb8df58",
   "metadata": {},
   "outputs": [
    {
     "name": "stdout",
     "output_type": "stream",
     "text": [
      "Elaborating design...\n",
      "Done elaborating.\n",
      " 0 ->        1\n",
      " 1 ->       10\n",
      " 2 ->      100\n",
      " 3 ->     1000\n",
      " 0 ->        1\n",
      "test ConvUIntToOH Success: 0 tests passed in 6 cycles in 0.007828 seconds 766.48 Hz\n"
     ]
    }
   ],
   "source": [
    "//3 bits of One-Hot-Encdoing\n",
    "test(new ConvUIntToOH(3)) { c =>\n",
    "    for (i <- 0 until 4) {\n",
    "         c.io.in.poke(i.U)\n",
    "         c.io.out.expect((1 << i).U)\n",
    "         c.clock.step()\n",
    "     }\n",
    "}"
   ]
  },
  {
   "cell_type": "code",
   "execution_count": 8,
   "id": "26753576",
   "metadata": {},
   "outputs": [],
   "source": [
    "//printVerilog(new ConvUIntToOH(2))\n",
    "\n",
    "// test(new ConvUIntToOH(2)) { c =>\n",
    "//    for (i <- 0 until 4) {\n",
    "//         c.io.in.poke(i.U)\n",
    "//         c.io.out.expect((1 << i).U)\n",
    "//         c.clock.step()\n",
    "//     }\n",
    "// }"
   ]
  },
  {
   "cell_type": "markdown",
   "id": "0fe8a938-53f5-420c-8708-1afcd67cab91",
   "metadata": {},
   "source": [
    "### Simplify One-Hot Encoder ###\n",
    "We can remove helper function and just shift one bit to the output."
   ]
  },
  {
   "cell_type": "code",
   "execution_count": 9,
   "id": "8dcd22b1-580f-408d-971e-f7f15cba84ed",
   "metadata": {},
   "outputs": [
    {
     "data": {
      "text/plain": [
       "defined \u001b[32mclass\u001b[39m \u001b[36mConvUIntToOH_2\u001b[39m"
      ]
     },
     "execution_count": 9,
     "metadata": {},
     "output_type": "execute_result"
    }
   ],
   "source": [
    "class ConvUIntToOH_2(inWidth: Int) extends Module {\n",
    "    val outWidth = 1 << inWidth\n",
    "    val io = IO(new Bundle {\n",
    "        val in  = Input(UInt(inWidth.W))\n",
    "        val out = Output(UInt(outWidth.W))\n",
    "    })\n",
    "    require (inWidth > 0)\n",
    "    //def helper(index: Int): UInt = {\n",
    "    //    if (index < outWidth-1) Cat(helper(index+1), io.in === index.U)\n",
    "    //    else io.in === index.U\n",
    "    //}\n",
    "    //io.out := helper(0)\n",
    "    io.out := UIntToOH(io.in)  // Standard library implementation\n",
    "    printf(\"%d -> %b\\n\", io.in, io.out)\n",
    "}"
   ]
  },
  {
   "cell_type": "code",
   "execution_count": 10,
   "id": "08ef67d4-5ae7-4edc-851e-f3829c70a9b2",
   "metadata": {},
   "outputs": [
    {
     "name": "stdout",
     "output_type": "stream",
     "text": [
      "Elaborating design...\n",
      "Done elaborating.\n",
      "module ConvUIntToOH_2(\n",
      "  input        clock,\n",
      "  input        reset,\n",
      "  input  [2:0] io_in,\n",
      "  output [7:0] io_out\n",
      ");\n",
      "  assign io_out = 8'h1 << io_in; // @[OneHot.scala 58:35]\n",
      "  always @(posedge clock) begin\n",
      "    `ifndef SYNTHESIS\n",
      "    `ifdef PRINTF_COND\n",
      "      if (`PRINTF_COND) begin\n",
      "    `endif\n",
      "        if (~reset) begin\n",
      "          $fwrite(32'h80000002,\"%d -> %b\\n\",io_in,io_out); // @[cmd8.sc 14:11]\n",
      "        end\n",
      "    `ifdef PRINTF_COND\n",
      "      end\n",
      "    `endif\n",
      "    `endif // SYNTHESIS\n",
      "  end\n",
      "endmodule\n",
      "\n"
     ]
    }
   ],
   "source": [
    "println (getVerilog(new ConvUIntToOH_2(3)))"
   ]
  },
  {
   "cell_type": "code",
   "execution_count": 11,
   "id": "fca67dbf-6b66-444b-9b54-f2aca63bd70f",
   "metadata": {},
   "outputs": [
    {
     "name": "stdout",
     "output_type": "stream",
     "text": [
      "Elaborating design...\n",
      "Done elaborating.\n",
      " 0 ->        1\n",
      " 1 ->       10\n",
      " 2 ->      100\n",
      " 3 ->     1000\n",
      " 0 ->        1\n",
      "test ConvUIntToOH_2 Success: 0 tests passed in 6 cycles in 0.007048 seconds 851.35 Hz\n"
     ]
    }
   ],
   "source": [
    "test(new ConvUIntToOH_2(3)) { c =>\n",
    "    for (i <- 0 until 4) {\n",
    "         c.io.in.poke(i.U)\n",
    "         c.io.out.expect((1 << i).U)\n",
    "         c.clock.step()\n",
    "     }\n",
    "}"
   ]
  },
  {
   "cell_type": "markdown",
   "id": "enabling-scholarship",
   "metadata": {
    "slideshow": {
     "slide_type": "slide"
    }
   },
   "source": [
    "## Priority Encoder\n",
    "\n",
    "* Given collection of wires, returns index of least significant bit that is high (1) given predefined precedence ordering (_priority_)\n",
    "\n",
    "* Helpful for ordering logic or choosing between things\n",
    "\n",
    "* Examples\n",
    "  * Resolving RAW hazard in a pipelined processor, forward data from most recent instruction\n",
    "  * In a collection components, find first free slot\n",
    "\n",
    "* Chisel provides result as an index with [`PriorityEncoder`](https://javadoc.io/doc/edu.berkeley.cs/chisel3_2.13/latest/chisel3/util/PriorityEncoder\\$.html),\n",
    "one-hot with [`PriorityEncoderOH`](https://javadoc.io/doc/edu.berkeley.cs/chisel3_2.13/latest/chisel3/util/PriorityEncoderOH\\$.html), or even integrated into a Mux with [`PriorityMux`](https://javadoc.io/doc/edu.berkeley.cs/chisel3_2.13/latest/chisel3/util/PriorityMux\\$.html)\n",
    "  * _What if input is 0?_ invalid, but returns max index or 0 (for OH)\n"
   ]
  },
  {
   "cell_type": "markdown",
   "id": "921d52e1-ba1b-4bcd-b691-d6cb1947f7d9",
   "metadata": {
    "slideshow": {
     "slide_type": "slide"
    }
   },
   "source": [
    "## One-Hot Priority Encoders ##\n",
    "\n",
    "<img src=\"images/priority.svg\" alt=\"priority schematic\" style=\"width:70%; align: left\"/>"
   ]
  },
  {
   "cell_type": "markdown",
   "id": "667f3c58-a2ca-42e1-ad84-46a4550e7a79",
   "metadata": {
    "slideshow": {
     "slide_type": "slide"
    }
   },
   "source": [
    "## Implement One-Hot Priority Encoder ##"
   ]
  },
  {
   "cell_type": "markdown",
   "id": "1bccc9d1-8626-4bba-a994-9f1974f54d0b",
   "metadata": {},
   "source": [
    "### 1.1 Select with Gate: Chisel Implementation ### "
   ]
  },
  {
   "cell_type": "raw",
   "id": "5bf2f936-f546-4a6f-85ec-68c295f4f132",
   "metadata": {
    "scrolled": true
   },
   "source": [
    "// Select with Gate: Chisel Implementation\n",
    "class MyPriEncodeOH(n: Int) extends Module {\n",
    "    val io = IO(new Bundle {\n",
    "        val in  = Input(UInt(n.W))\n",
    "        val out = Output(UInt())\n",
    "    })\n",
    "    require (n > 0)\n",
    "    def withGates(index: Int, expr: UInt): UInt = {\n",
    "        if (index < (n-1)) Cat(withGates(index+1, ~io.in(index) & expr), io.in(index) & expr)\n",
    "        else io.in(index) & expr\n",
    "    }\n",
    "    def withMuxes(index: Int): UInt = {\n",
    "        if (index < n) Mux(io.in(index), (1 << index).U, withMuxes(index+1))\n",
    "        else 0.U\n",
    "    }\n",
    "    io.out := withGates(0, 1.U)\n",
    "//     io.out := withMuxes(0)\n",
    "//     io.out := PriorityEncoderOH(io.in)  // Use Chisel Library\n",
    "    printf(\"%b -> %b\\n\", io.in, io.out)\n",
    "}"
   ]
  },
  {
   "cell_type": "markdown",
   "id": "90dc488e-d9be-4d95-8b3b-5116cd363d2d",
   "metadata": {
    "slideshow": {
     "slide_type": "slide"
    }
   },
   "source": [
    "### 1.2 Select with Gate: Generate Hardware Verilog ###"
   ]
  },
  {
   "cell_type": "code",
   "execution_count": 45,
   "id": "5096ec26-1196-4051-8b26-65b269f35fbc",
   "metadata": {},
   "outputs": [
    {
     "name": "stdout",
     "output_type": "stream",
     "text": [
      "Elaborating design...\n",
      "Done elaborating.\n",
      "module MyPriEncodeOH(\n",
      "  input        clock,\n",
      "  input        reset,\n",
      "  input  [1:0] io_in,\n",
      "  output [1:0] io_out\n",
      ");\n",
      "  wire  _T_1 = ~io_in[0]; // @[cmd43.sc 8:51]\n",
      "  wire  _T_4 = io_in[1] & _T_1; // @[cmd43.sc 9:27]\n",
      "  assign io_out = {_T_4,io_in[0]}; // @[Cat.scala 30:58]\n",
      "  always @(posedge clock) begin\n",
      "    `ifndef SYNTHESIS\n",
      "    `ifdef PRINTF_COND\n",
      "      if (`PRINTF_COND) begin\n",
      "    `endif\n",
      "        if (~reset) begin\n",
      "          $fwrite(32'h80000002,\"%b -> %b\\n\",io_in,io_out); // @[cmd43.sc 18:11]\n",
      "        end\n",
      "    `ifdef PRINTF_COND\n",
      "      end\n",
      "    `endif\n",
      "    `endif // SYNTHESIS\n",
      "  end\n",
      "endmodule\n",
      "\n"
     ]
    }
   ],
   "source": [
    "// Select with Gate: Generate Hardware Verilog\n",
    "println (getVerilog(new MyPriEncodeOH(2)))"
   ]
  },
  {
   "cell_type": "markdown",
   "id": "0a72f910-5f49-407e-a7fa-6c2204f0e143",
   "metadata": {},
   "source": [
    "### 1.3 Select with Gate: Test Sismulaiton ###"
   ]
  },
  {
   "cell_type": "code",
   "execution_count": 46,
   "id": "5ad6f48f-62b7-43dc-a5ee-8dcaeb24b324",
   "metadata": {},
   "outputs": [
    {
     "name": "stdout",
     "output_type": "stream",
     "text": [
      "Elaborating design...\n",
      "Done elaborating.\n",
      "  0 ->   0\n",
      "  1 ->   1\n",
      " 10 ->  10\n",
      " 11 ->   1\n",
      "100 -> 100\n",
      "101 ->   1\n",
      "110 ->  10\n",
      "111 ->   1\n",
      "  0 ->   0\n",
      "test MyPriEncodeOH Success: 0 tests passed in 10 cycles in 0.006208 seconds 1610.92 Hz\n"
     ]
    }
   ],
   "source": [
    "// Select with Gate: Test Simulation\n",
    "test(new MyPriEncodeOH(3)) { c =>\n",
    "   for (i <- 0 until 8) {\n",
    "       c.io.in.poke(i.U)\n",
    "       c.clock.step()\n",
    "   }\n",
    "}"
   ]
  },
  {
   "cell_type": "markdown",
   "id": "baa02299-da65-4ff0-ba52-56b4ea70f3cf",
   "metadata": {},
   "source": [
    "### 2.1 Select with Mux: Chisel Implementation ###"
   ]
  },
  {
   "cell_type": "code",
   "execution_count": 49,
   "id": "a81a1080-6960-4123-8462-a364c493dd30",
   "metadata": {},
   "outputs": [
    {
     "data": {
      "text/plain": [
       "defined \u001b[32mclass\u001b[39m \u001b[36mMyPriEncodeOH\u001b[39m"
      ]
     },
     "execution_count": 49,
     "metadata": {},
     "output_type": "execute_result"
    }
   ],
   "source": [
    "// Select with Muxes\n",
    "class MyPriEncodeOH(n: Int) extends Module {\n",
    "    val io = IO(new Bundle {\n",
    "        val in  = Input(UInt(n.W))\n",
    "        val out = Output(UInt())\n",
    "    })\n",
    "    require (n > 0)\n",
    "    def withGates(index: Int, expr: UInt): UInt = {\n",
    "        if (index < (n-1)) Cat(withGates(index+1, ~io.in(index) & expr), io.in(index) & expr)\n",
    "        else io.in(index) & expr\n",
    "    }\n",
    "    def withMuxes(index: Int): UInt = {\n",
    "        if (index < n) Mux(io.in(index), (1 << index).U, withMuxes(index+1))\n",
    "        else 0.U\n",
    "    }\n",
    "//  io.out := withGates(0, 1.U)\n",
    "    io.out := withMuxes(0)\n",
    "//     io.out := PriorityEncoderOH(io.in)  // Use Chisel Library\n",
    "    printf(\"%b -> %b\\n\", io.in, io.out)\n",
    "}"
   ]
  },
  {
   "cell_type": "markdown",
   "id": "b177a1b4-2d74-4faf-a787-e299e8ceea51",
   "metadata": {},
   "source": [
    "### 2.2 Select with Mux: Generate Hardware Verilog ###"
   ]
  },
  {
   "cell_type": "code",
   "execution_count": 43,
   "id": "ea38ca0e-0d03-4ea3-a61d-7615a2f394d8",
   "metadata": {},
   "outputs": [
    {
     "name": "stdout",
     "output_type": "stream",
     "text": [
      "Elaborating design...\n",
      "Done elaborating.\n",
      "module MyPriEncodeOH(\n",
      "  input        clock,\n",
      "  input        reset,\n",
      "  input  [1:0] io_in,\n",
      "  output [1:0] io_out\n",
      ");\n",
      "  wire [1:0] _T_2 = io_in[1] ? 2'h2 : 2'h0; // @[cmd39.sc 12:27]\n",
      "  assign io_out = io_in[0] ? 2'h1 : _T_2; // @[cmd39.sc 12:27]\n",
      "  always @(posedge clock) begin\n",
      "    `ifndef SYNTHESIS\n",
      "    `ifdef PRINTF_COND\n",
      "      if (`PRINTF_COND) begin\n",
      "    `endif\n",
      "        if (~reset) begin\n",
      "          $fwrite(32'h80000002,\"%b -> %b\\n\",io_in,io_out); // @[cmd39.sc 17:11]\n",
      "        end\n",
      "    `ifdef PRINTF_COND\n",
      "      end\n",
      "    `endif\n",
      "    `endif // SYNTHESIS\n",
      "  end\n",
      "endmodule\n",
      "\n"
     ]
    }
   ],
   "source": [
    "// Select with Muxes\n",
    "println (getVerilog(new MyPriEncodeOH(2)))"
   ]
  },
  {
   "cell_type": "markdown",
   "id": "aa698ca3-613e-4075-96e3-f066e1c97be4",
   "metadata": {},
   "source": [
    "### 2.3 Select with Mux: Test Sismulaiton ###"
   ]
  },
  {
   "cell_type": "code",
   "execution_count": 42,
   "id": "b3347f12-8023-492b-a6e0-5a7fcf70f2c3",
   "metadata": {},
   "outputs": [
    {
     "name": "stdout",
     "output_type": "stream",
     "text": [
      "Elaborating design...\n",
      "Done elaborating.\n",
      "  0 ->   0\n",
      "  1 ->   1\n",
      " 10 ->  10\n",
      " 11 ->   1\n",
      "100 -> 100\n",
      "101 ->   1\n",
      "110 ->  10\n",
      "111 ->   1\n",
      "  0 ->   0\n",
      "test MyPriEncodeOH Success: 0 tests passed in 10 cycles in 0.006256 seconds 1598.44 Hz\n"
     ]
    }
   ],
   "source": [
    "test(new MyPriEncodeOH(3)) { c =>\n",
    "   for (i <- 0 until 8) {\n",
    "       c.io.in.poke(i.U)\n",
    "       c.clock.step()\n",
    "   }\n",
    "}"
   ]
  },
  {
   "cell_type": "markdown",
   "id": "09fa8060-9091-49d9-873d-62de526238e5",
   "metadata": {},
   "source": [
    "### 3.1 Select with Chisel Library: Chisel Implementation ###"
   ]
  },
  {
   "cell_type": "code",
   "execution_count": 53,
   "id": "b3b29862-c67c-4307-a169-1b5f00e21a95",
   "metadata": {},
   "outputs": [
    {
     "data": {
      "text/plain": [
       "defined \u001b[32mclass\u001b[39m \u001b[36mMyPriEncodeOH\u001b[39m"
      ]
     },
     "execution_count": 53,
     "metadata": {},
     "output_type": "execute_result"
    }
   ],
   "source": [
    "// Select with Chisel Library\n",
    "class MyPriEncodeOH(n: Int) extends Module {\n",
    "    val io = IO(new Bundle {\n",
    "        val in  = Input(UInt(n.W))\n",
    "        val out = Output(UInt())\n",
    "    })\n",
    "    require (n > 0)\n",
    "    def withGates(index: Int, expr: UInt): UInt = {\n",
    "        if (index < (n-1)) Cat(withGates(index+1, ~io.in(index) & expr), io.in(index) & expr)\n",
    "        else io.in(index) & expr\n",
    "    }\n",
    "    def withMuxes(index: Int): UInt = {\n",
    "        if (index < n) Mux(io.in(index), (1 << index).U, withMuxes(index+1))\n",
    "        else 0.U\n",
    "    }\n",
    "//  io.out := withGates(0, 1.U)\n",
    "    //io.out := withMuxes(0)\n",
    "    io.out := PriorityEncoderOH(io.in)  // Use Chisel Library\n",
    "    printf(\"%b -> %b\\n\", io.in, io.out)\n",
    "}"
   ]
  },
  {
   "cell_type": "markdown",
   "id": "6197d3e3-8926-4f5e-b8cc-19383b2504a4",
   "metadata": {},
   "source": [
    "### 3.2 Select with Chisel Library: Generate Hardware Verilog ###"
   ]
  },
  {
   "cell_type": "code",
   "execution_count": 54,
   "id": "fa47f488-20eb-435b-ba68-3b9feb8d0353",
   "metadata": {},
   "outputs": [
    {
     "name": "stdout",
     "output_type": "stream",
     "text": [
      "Elaborating design...\n",
      "Done elaborating.\n",
      "module MyPriEncodeOH(\n",
      "  input        clock,\n",
      "  input        reset,\n",
      "  input  [1:0] io_in,\n",
      "  output [1:0] io_out\n",
      ");\n",
      "  wire [1:0] _T_2 = io_in[1] ? 2'h2 : 2'h0; // @[Mux.scala 47:69]\n",
      "  assign io_out = io_in[0] ? 2'h1 : _T_2; // @[Mux.scala 47:69]\n",
      "  always @(posedge clock) begin\n",
      "    `ifndef SYNTHESIS\n",
      "    `ifdef PRINTF_COND\n",
      "      if (`PRINTF_COND) begin\n",
      "    `endif\n",
      "        if (~reset) begin\n",
      "          $fwrite(32'h80000002,\"%b -> %b\\n\",io_in,io_out); // @[cmd52.sc 18:11]\n",
      "        end\n",
      "    `ifdef PRINTF_COND\n",
      "      end\n",
      "    `endif\n",
      "    `endif // SYNTHESIS\n",
      "  end\n",
      "endmodule\n",
      "\n"
     ]
    }
   ],
   "source": [
    "// Select with Chisel Library\n",
    "println (getVerilog(new MyPriEncodeOH(2)))"
   ]
  },
  {
   "cell_type": "markdown",
   "id": "5a45c128-faa6-44e9-a147-8984d66b9209",
   "metadata": {},
   "source": [
    "### 3.3 Select with Chisel Library: Test Simulaiton ###"
   ]
  },
  {
   "cell_type": "code",
   "execution_count": 55,
   "id": "4d666858-2388-453d-94f2-3d2a1655bf9f",
   "metadata": {},
   "outputs": [
    {
     "name": "stdout",
     "output_type": "stream",
     "text": [
      "Elaborating design...\n",
      "Done elaborating.\n",
      "  0 ->   0\n",
      "  1 ->   1\n",
      " 10 ->  10\n",
      " 11 ->   1\n",
      "100 -> 100\n",
      "101 ->   1\n",
      "110 ->  10\n",
      "111 ->   1\n",
      "  0 ->   0\n",
      "test MyPriEncodeOH Success: 0 tests passed in 10 cycles in 0.006478 seconds 1543.60 Hz\n"
     ]
    }
   ],
   "source": [
    "// Select with Chisel Library\n",
    "test(new MyPriEncodeOH(3)) { c =>\n",
    "   for (i <- 0 until 8) {\n",
    "       c.io.in.poke(i.U)\n",
    "       c.clock.step()\n",
    "   }\n",
    "}"
   ]
  },
  {
   "cell_type": "code",
   "execution_count": 12,
   "id": "539dc1b4",
   "metadata": {},
   "outputs": [],
   "source": [
    "//printVerilog(new MyPriEncodeOH(2))\n",
    "\n",
    "// test(new MyPriEncodeOH(3)) { c =>\n",
    "//     for (i <- 0 until 8) {\n",
    "//         c.io.in.poke(i.U)\n",
    "//         c.clock.step()\n",
    "//     }\n",
    "// }"
   ]
  },
  {
   "cell_type": "markdown",
   "id": "twelve-photograph",
   "metadata": {
    "slideshow": {
     "slide_type": "slide"
    }
   },
   "source": [
    "## Arbiter\n",
    "\n",
    "* _Arbitration_ is needed to choose between multiple components attempting to access a scarce resource\n",
    "\n",
    "* Needs way to choose (_arbitrate_) if multiple simultaneous requests\n",
    "  * If only one request, grant to lone requestor\n",
    "\n",
    "* Different tie-breaking algorithms available e.g. fixed priority or round-robin\n",
    "  * Consider needs for usage scenario\n",
    "\n",
    "* Examples\n",
    "  * Structural hazard in a processor, such as core & memory both trying to write to cache at same time\n",
    "  * Output ports of a network switch (later today)"
   ]
  },
  {
   "cell_type": "markdown",
   "id": "b978511a-d79a-4eb4-a2e9-1c85da21a836",
   "metadata": {
    "slideshow": {
     "slide_type": "slide"
    }
   },
   "source": [
    "## Arbiters in Chisel\n",
    "\n",
    "* Use `Decoupled` for both requestors and outcome\n",
    "  * `valid` (from requestor) indicates if actually sending request\n",
    "  * `ready` (to requestor) indicates request granted\n",
    "\n",
    "1. Arbiter:fixed priority from least significant, e.g. port 0 wins\n",
    "\n",
    "- https://javadoc.io/doc/edu.berkeley.cs/chisel3_2.13/latest/chisel3/util/Arbiter.html\n",
    "\n",
    "2. RRArbiter: round robin for who wins ties\n",
    "\n",
    "- https://javadoc.io/doc/edu.berkeley.cs/chisel3_2.13/latest/chisel3/util/RRArbiter.html\n",
    "\n",
    "3. LockingRRArbiter: round robin, but \"winner\" granted out for `count` cycles\n",
    "\n",
    "- https://javadoc.io/doc/edu.berkeley.cs/chisel3_2.13/latest/chisel3/util/LockingRRArbiter.html\n",
    "\n",
    "<img src=\"images/arbiter.svg\" alt=\"arbiter schematic\" style=\"width:45%; align:left\"/>"
   ]
  },
  {
   "cell_type": "markdown",
   "id": "4825ffda-8ad9-4d14-b76f-034a653ceb72",
   "metadata": {},
   "source": [
    "## 8.11 Chisel Arbiter Utility ##"
   ]
  },
  {
   "cell_type": "markdown",
   "id": "7ec683fa-ec57-4f9d-ad82-b2691a3cad2b",
   "metadata": {
    "slideshow": {
     "slide_type": "slide"
    }
   },
   "source": [
    "### 8.11.1 Chisel Utility LockingRRArbiter(): Chisel Implementation ###"
   ]
  },
  {
   "cell_type": "code",
   "execution_count": 92,
   "id": "b9349076-69b5-4c38-996c-3b14b47c095a",
   "metadata": {},
   "outputs": [
    {
     "data": {
      "text/plain": [
       "defined \u001b[32mclass\u001b[39m \u001b[36mUtilArbDemo\u001b[39m"
      ]
     },
     "execution_count": 92,
     "metadata": {},
     "output_type": "execute_result"
    }
   ],
   "source": [
    "// Use Utility: LockingRRArbiter()\n",
    "// Use <> (Not euqal to) arb.io.out\n",
    "class UtilArbDemo(numPorts: Int, w: Int) extends Module {\n",
    "    val io = IO(new Bundle {\n",
    "        val req = Flipped(Vec(numPorts, Decoupled(UInt(w.W))))\n",
    "        //val req = Vec(numPorts, Decoupled(UInt(w.W)))\n",
    "        val out = Decoupled(UInt(w.W))\n",
    "    })\n",
    "    require (numPorts > 0)\n",
    "    val arb = Module(new LockingRRArbiter(UInt(w.W), numPorts, 2))\n",
    "    // We can comment out the \n",
    "    for (p <- 0 until numPorts) {\n",
    "        arb.io.in(p) <> io.req(p) \n",
    "    }\n",
    "    // Above loop does the same thing as below.\n",
    "    //arb.io.in <> io.req\n",
    "    io.out <> arb.io.out\n",
    "    printf(\"requestor: \")\n",
    "    for (p <- numPorts-1 to 0 by -1) {\n",
    "        printf(\"%b\", arb.io.in(p).valid)\n",
    "    }\n",
    "    printf(\" winner: out.bits = %d (out.valid = %b)\\n\", arb.io.out.bits, arb.io.out.valid)\n",
    "}"
   ]
  },
  {
   "cell_type": "markdown",
   "id": "c0f48fb2-841d-47f9-8e74-3e2771d45045",
   "metadata": {
    "slideshow": {
     "slide_type": "slide"
    }
   },
   "source": [
    "### 8.11.2 Chisel Utility LockingRRArbiter(): Generate Hardware Verilog ###"
   ]
  },
  {
   "cell_type": "code",
   "execution_count": 93,
   "id": "1cebf8dd-7c8c-4181-9709-1bcf4849b79d",
   "metadata": {},
   "outputs": [
    {
     "name": "stdout",
     "output_type": "stream",
     "text": [
      "Elaborating design...\n",
      "Done elaborating.\n",
      "module LockingRRArbiter(\n",
      "  input        clock,\n",
      "  input        reset,\n",
      "  output       io_in_0_ready,\n",
      "  input        io_in_0_valid,\n",
      "  input  [7:0] io_in_0_bits,\n",
      "  output       io_in_1_ready,\n",
      "  input        io_in_1_valid,\n",
      "  input  [7:0] io_in_1_bits,\n",
      "  input        io_out_ready,\n",
      "  output       io_out_valid,\n",
      "  output [7:0] io_out_bits,\n",
      "  output       io_chosen\n",
      ");\n",
      "`ifdef RANDOMIZE_REG_INIT\n",
      "  reg [31:0] _RAND_0;\n",
      "  reg [31:0] _RAND_1;\n",
      "  reg [31:0] _RAND_2;\n",
      "`endif // RANDOMIZE_REG_INIT\n",
      "  reg  value; // @[Counter.scala 60:40]\n",
      "  reg  lockIdx; // @[Arbiter.scala 46:22]\n",
      "  wire  _T = io_out_ready & io_out_valid; // @[Decoupled.scala 40:37]\n",
      "  reg  lastGrant; // @[Reg.scala 15:16]\n",
      "  wire  grantMask_1 = 1'h1 > lastGrant; // @[Arbiter.scala 67:49]\n",
      "  wire  validMask_1 = io_in_1_valid & grantMask_1; // @[Arbiter.scala 68:75]\n",
      "  wire  _GEN_8 = io_in_0_valid ? 1'h0 : 1'h1; // @[Arbiter.scala 77:27 Arbiter.scala 77:36]\n",
      "  wire  choice = validMask_1 | _GEN_8; // @[Arbiter.scala 79:25 Arbiter.scala 79:34]\n",
      "  wire  ctrl_2 = ~validMask_1; // @[Arbiter.scala 31:78]\n",
      "  wire  ctrl_3 = ~(validMask_1 | io_in_0_valid); // @[Arbiter.scala 31:78]\n",
      "  wire  _T_5 = grantMask_1 | ctrl_3; // @[Arbiter.scala 72:50]\n",
      "  wire  _io_in_0_ready_T_1 = value ? ~lockIdx : ctrl_2; // @[Arbiter.scala 57:22]\n",
      "  wire  _io_in_1_ready_T_1 = value ? lockIdx : _T_5; // @[Arbiter.scala 57:22]\n",
      "  assign io_in_0_ready = _io_in_0_ready_T_1 & io_out_ready; // @[Arbiter.scala 57:56]\n",
      "  assign io_in_1_ready = _io_in_1_ready_T_1 & io_out_ready; // @[Arbiter.scala 57:56]\n",
      "  assign io_out_valid = io_chosen ? io_in_1_valid : io_in_0_valid; // @[Arbiter.scala 41:16 Arbiter.scala 41:16]\n",
      "  assign io_out_bits = io_chosen ? io_in_1_bits : io_in_0_bits; // @[Arbiter.scala 42:15 Arbiter.scala 42:15]\n",
      "  assign io_chosen = value ? lockIdx : choice; // @[Arbiter.scala 55:19 Arbiter.scala 55:31 Arbiter.scala 40:13]\n",
      "  always @(posedge clock) begin\n",
      "    if (reset) begin // @[Counter.scala 60:40]\n",
      "      value <= 1'h0; // @[Counter.scala 60:40]\n",
      "    end else if (_T) begin // @[Arbiter.scala 50:39]\n",
      "      value <= value + 1'h1; // @[Counter.scala 76:15]\n",
      "    end\n",
      "    if (_T) begin // @[Arbiter.scala 50:39]\n",
      "      lockIdx <= io_chosen; // @[Arbiter.scala 51:15]\n",
      "    end\n",
      "    if (_T) begin // @[Reg.scala 16:19]\n",
      "      lastGrant <= io_chosen; // @[Reg.scala 16:23]\n",
      "    end\n",
      "  end\n",
      "// Register and memory initialization\n",
      "`ifdef RANDOMIZE_GARBAGE_ASSIGN\n",
      "`define RANDOMIZE\n",
      "`endif\n",
      "`ifdef RANDOMIZE_INVALID_ASSIGN\n",
      "`define RANDOMIZE\n",
      "`endif\n",
      "`ifdef RANDOMIZE_REG_INIT\n",
      "`define RANDOMIZE\n",
      "`endif\n",
      "`ifdef RANDOMIZE_MEM_INIT\n",
      "`define RANDOMIZE\n",
      "`endif\n",
      "`ifndef RANDOM\n",
      "`define RANDOM $random\n",
      "`endif\n",
      "`ifdef RANDOMIZE_MEM_INIT\n",
      "  integer initvar;\n",
      "`endif\n",
      "`ifndef SYNTHESIS\n",
      "`ifdef FIRRTL_BEFORE_INITIAL\n",
      "`FIRRTL_BEFORE_INITIAL\n",
      "`endif\n",
      "initial begin\n",
      "  `ifdef RANDOMIZE\n",
      "    `ifdef INIT_RANDOM\n",
      "      `INIT_RANDOM\n",
      "    `endif\n",
      "    `ifndef VERILATOR\n",
      "      `ifdef RANDOMIZE_DELAY\n",
      "        #`RANDOMIZE_DELAY begin end\n",
      "      `else\n",
      "        #0.002 begin end\n",
      "      `endif\n",
      "    `endif\n",
      "`ifdef RANDOMIZE_REG_INIT\n",
      "  _RAND_0 = {1{`RANDOM}};\n",
      "  value = _RAND_0[0:0];\n",
      "  _RAND_1 = {1{`RANDOM}};\n",
      "  lockIdx = _RAND_1[0:0];\n",
      "  _RAND_2 = {1{`RANDOM}};\n",
      "  lastGrant = _RAND_2[0:0];\n",
      "`endif // RANDOMIZE_REG_INIT\n",
      "  `endif // RANDOMIZE\n",
      "end // initial\n",
      "`ifdef FIRRTL_AFTER_INITIAL\n",
      "`FIRRTL_AFTER_INITIAL\n",
      "`endif\n",
      "`endif // SYNTHESIS\n",
      "endmodule\n",
      "module UtilArbDemo(\n",
      "  input        clock,\n",
      "  input        reset,\n",
      "  output       io_req_0_ready,\n",
      "  input        io_req_0_valid,\n",
      "  input  [7:0] io_req_0_bits,\n",
      "  output       io_req_1_ready,\n",
      "  input        io_req_1_valid,\n",
      "  input  [7:0] io_req_1_bits,\n",
      "  input        io_out_ready,\n",
      "  output       io_out_valid,\n",
      "  output [7:0] io_out_bits\n",
      ");\n",
      "  wire  arb_clock; // @[cmd91.sc 8:21]\n",
      "  wire  arb_reset; // @[cmd91.sc 8:21]\n",
      "  wire  arb_io_in_0_ready; // @[cmd91.sc 8:21]\n",
      "  wire  arb_io_in_0_valid; // @[cmd91.sc 8:21]\n",
      "  wire [7:0] arb_io_in_0_bits; // @[cmd91.sc 8:21]\n",
      "  wire  arb_io_in_1_ready; // @[cmd91.sc 8:21]\n",
      "  wire  arb_io_in_1_valid; // @[cmd91.sc 8:21]\n",
      "  wire [7:0] arb_io_in_1_bits; // @[cmd91.sc 8:21]\n",
      "  wire  arb_io_out_ready; // @[cmd91.sc 8:21]\n",
      "  wire  arb_io_out_valid; // @[cmd91.sc 8:21]\n",
      "  wire [7:0] arb_io_out_bits; // @[cmd91.sc 8:21]\n",
      "  wire  arb_io_chosen; // @[cmd91.sc 8:21]\n",
      "  wire  _T_1 = ~reset; // @[cmd91.sc 16:11]\n",
      "  LockingRRArbiter arb ( // @[cmd91.sc 8:21]\n",
      "    .clock(arb_clock),\n",
      "    .reset(arb_reset),\n",
      "    .io_in_0_ready(arb_io_in_0_ready),\n",
      "    .io_in_0_valid(arb_io_in_0_valid),\n",
      "    .io_in_0_bits(arb_io_in_0_bits),\n",
      "    .io_in_1_ready(arb_io_in_1_ready),\n",
      "    .io_in_1_valid(arb_io_in_1_valid),\n",
      "    .io_in_1_bits(arb_io_in_1_bits),\n",
      "    .io_out_ready(arb_io_out_ready),\n",
      "    .io_out_valid(arb_io_out_valid),\n",
      "    .io_out_bits(arb_io_out_bits),\n",
      "    .io_chosen(arb_io_chosen)\n",
      "  );\n",
      "  assign io_req_0_ready = arb_io_in_0_ready; // @[cmd91.sc 11:22]\n",
      "  assign io_req_1_ready = arb_io_in_1_ready; // @[cmd91.sc 11:22]\n",
      "  assign io_out_valid = arb_io_out_valid; // @[cmd91.sc 15:12]\n",
      "  assign io_out_bits = arb_io_out_bits; // @[cmd91.sc 15:12]\n",
      "  assign arb_clock = clock;\n",
      "  assign arb_reset = reset;\n",
      "  assign arb_io_in_0_valid = io_req_0_valid; // @[cmd91.sc 11:22]\n",
      "  assign arb_io_in_0_bits = io_req_0_bits; // @[cmd91.sc 11:22]\n",
      "  assign arb_io_in_1_valid = io_req_1_valid; // @[cmd91.sc 11:22]\n",
      "  assign arb_io_in_1_bits = io_req_1_bits; // @[cmd91.sc 11:22]\n",
      "  assign arb_io_out_ready = io_out_ready; // @[cmd91.sc 15:12]\n",
      "  always @(posedge clock) begin\n",
      "    `ifndef SYNTHESIS\n",
      "    `ifdef PRINTF_COND\n",
      "      if (`PRINTF_COND) begin\n",
      "    `endif\n",
      "        if (~reset) begin\n",
      "          $fwrite(32'h80000002,\"requestor: \"); // @[cmd91.sc 16:11]\n",
      "        end\n",
      "    `ifdef PRINTF_COND\n",
      "      end\n",
      "    `endif\n",
      "    `endif // SYNTHESIS\n",
      "    `ifndef SYNTHESIS\n",
      "    `ifdef PRINTF_COND\n",
      "      if (`PRINTF_COND) begin\n",
      "    `endif\n",
      "        if (_T_1) begin\n",
      "          $fwrite(32'h80000002,\"%b\",arb_io_in_1_valid); // @[cmd91.sc 18:15]\n",
      "        end\n",
      "    `ifdef PRINTF_COND\n",
      "      end\n",
      "    `endif\n",
      "    `endif // SYNTHESIS\n",
      "    `ifndef SYNTHESIS\n",
      "    `ifdef PRINTF_COND\n",
      "      if (`PRINTF_COND) begin\n",
      "    `endif\n",
      "        if (_T_1) begin\n",
      "          $fwrite(32'h80000002,\"%b\",arb_io_in_0_valid); // @[cmd91.sc 18:15]\n",
      "        end\n",
      "    `ifdef PRINTF_COND\n",
      "      end\n",
      "    `endif\n",
      "    `endif // SYNTHESIS\n",
      "    `ifndef SYNTHESIS\n",
      "    `ifdef PRINTF_COND\n",
      "      if (`PRINTF_COND) begin\n",
      "    `endif\n",
      "        if (_T_1) begin\n",
      "          $fwrite(32'h80000002,\" winner: out.bits = %d (out.valid = %b)\\n\",arb_io_out_bits,arb_io_out_valid); // @[cmd91.sc 20:11]\n",
      "        end\n",
      "    `ifdef PRINTF_COND\n",
      "      end\n",
      "    `endif\n",
      "    `endif // SYNTHESIS\n",
      "  end\n",
      "endmodule\n",
      "\n"
     ]
    }
   ],
   "source": [
    "// UtilArbDemo (num-Port, width)\n",
    "println (getVerilog(new UtilArbDemo(2,8)))"
   ]
  },
  {
   "cell_type": "markdown",
   "id": "dcac7cb8-7ed9-4a7b-8808-a7e5a836cd74",
   "metadata": {},
   "source": [
    "### 8.11.3 Chisel Utility LockingRRArbiter(): Run Simulation ###"
   ]
  },
  {
   "cell_type": "code",
   "execution_count": 95,
   "id": "d602869b",
   "metadata": {},
   "outputs": [
    {
     "name": "stdout",
     "output_type": "stream",
     "text": [
      "Elaborating design...\n",
      "Done elaborating.\n",
      "requestor: 1111 winner: out.bits =    1 (out.valid = 1)\n",
      "requestor: 1110 winner: out.bits =    1 (out.valid = 1)\n",
      "requestor: 1100 winner: out.bits =    2 (out.valid = 1)\n",
      "requestor: 1000 winner: out.bits =    2 (out.valid = 0)\n",
      "requestor: 0000 winner: out.bits =    2 (out.valid = 0)\n",
      "requestor: 0000 winner: out.bits =    0 (out.valid = 0)\n",
      "test UtilArbDemo Success: 0 tests passed in 7 cycles in 0.007011 seconds 998.48 Hz\n"
     ]
    },
    {
     "data": {
      "text/plain": [
       "\u001b[36mnumPorts\u001b[39m: \u001b[32mInt\u001b[39m = \u001b[32m4\u001b[39m"
      ]
     },
     "execution_count": 95,
     "metadata": {},
     "output_type": "execute_result"
    }
   ],
   "source": [
    "// Test Simulation: UtilArbDemo (num_port=4, width=8)\n",
    "// printVerilog(new UtilArbDemo(2,8))\n",
    "// We only check the resule for valid = 1.\n",
    "val numPorts = 4\n",
    "test(new UtilArbDemo(numPorts,8)) { c =>\n",
    "    c.io.out.ready.poke(true.B)\n",
    "    for (cycle <- 0 until 5) {\n",
    "        for (p <- 0 until numPorts) {\n",
    "            c.io.req(p).bits.poke(p.U)\n",
    "            c.io.req(p).valid.poke((p >= cycle).B)\n",
    "        }\n",
    "        c.clock.step()\n",
    "    }\n",
    "}"
   ]
  },
  {
   "cell_type": "markdown",
   "id": "8ac4ac1d-a01c-4955-92f5-4a7a51657f98",
   "metadata": {
    "slideshow": {
     "slide_type": "slide"
    }
   },
   "source": [
    "## Original ArbDemo: Arbiter Chisel Code (1/3)"
   ]
  },
  {
   "cell_type": "code",
   "execution_count": 103,
   "id": "signal-texture",
   "metadata": {
    "scrolled": true,
    "slideshow": {
     "slide_type": "-"
    }
   },
   "outputs": [
    {
     "data": {
      "text/plain": [
       "defined \u001b[32mclass\u001b[39m \u001b[36mArbDemo\u001b[39m"
      ]
     },
     "execution_count": 103,
     "metadata": {},
     "output_type": "execute_result"
    }
   ],
   "source": [
    "class ArbDemo(numPorts: Int, w: Int) extends Module {\n",
    "    val io = IO(new Bundle {\n",
    "        val req = Flipped(Vec(numPorts, Decoupled(UInt(w.W))))\n",
    "        val out = Decoupled(UInt(w.W))\n",
    "    })\n",
    "    require (numPorts > 0)\n",
    "    val arb = Module(new MyArb(numPorts,w))\n",
    "    for (p <- 0 until numPorts) {\n",
    "        arb.io.req(p) <> io.req(p) \n",
    "    }\n",
    "    io.out <> arb.io.out\n",
    "    printf(\"req: \")\n",
    "    for (p <- numPorts-1 to 0 by -1) {\n",
    "        printf(\"%b\", arb.io.req(p).valid)\n",
    "    }\n",
    "    printf(\" winner: %d (v: %b)\\n\", arb.io.out.bits, arb.io.out.valid)\n",
    "}"
   ]
  },
  {
   "cell_type": "markdown",
   "id": "62508122-6ad8-4163-98f9-df2a3596eabb",
   "metadata": {
    "slideshow": {
     "slide_type": "slide"
    }
   },
   "source": [
    "## Original ArbDemo: Print Verilog of Our Arbiter (2/3)"
   ]
  },
  {
   "cell_type": "code",
   "execution_count": 104,
   "id": "629684a0-2220-4f05-8da0-f82ef8312ca4",
   "metadata": {},
   "outputs": [
    {
     "name": "stdout",
     "output_type": "stream",
     "text": [
      "Elaborating design...\n",
      "Done elaborating.\n",
      "module MyArb(\n",
      "  output       io_req_0_ready,\n",
      "  input        io_req_0_valid,\n",
      "  input  [7:0] io_req_0_bits,\n",
      "  output       io_req_1_ready,\n",
      "  input        io_req_1_valid,\n",
      "  input  [7:0] io_req_1_bits,\n",
      "  input        io_out_ready,\n",
      "  output       io_out_valid,\n",
      "  output [7:0] io_out_bits\n",
      ");\n",
      "  wire [1:0] _enc_T = io_req_1_valid ? 2'h2 : 2'h0; // @[Mux.scala 47:69]\n",
      "  wire [1:0] enc = io_req_0_valid ? 2'h1 : _enc_T; // @[Mux.scala 47:69]\n",
      "  wire  chosenOH_0 = enc[0]; // @[OneHot.scala 83:30]\n",
      "  wire  chosenOH_1 = enc[1]; // @[OneHot.scala 83:30]\n",
      "  wire  _T = io_out_ready & io_out_valid; // @[Decoupled.scala 40:37]\n",
      "  wire [1:0] _T_4 = {io_req_1_valid,io_req_0_valid}; // @[cmd101.sc 15:30]\n",
      "  wire [7:0] _T_6 = chosenOH_0 ? io_req_0_bits : 8'h0; // @[Mux.scala 27:72]\n",
      "  wire [7:0] _T_7 = chosenOH_1 ? io_req_1_bits : 8'h0; // @[Mux.scala 27:72]\n",
      "  assign io_req_0_ready = chosenOH_0 & _T; // @[cmd101.sc 11:40]\n",
      "  assign io_req_1_ready = chosenOH_1 & _T; // @[cmd101.sc 11:40]\n",
      "  assign io_out_valid = |_T_4; // @[cmd101.sc 15:37]\n",
      "  assign io_out_bits = _T_6 | _T_7; // @[Mux.scala 27:72]\n",
      "endmodule\n",
      "module ArbDemo(\n",
      "  input        clock,\n",
      "  input        reset,\n",
      "  output       io_req_0_ready,\n",
      "  input        io_req_0_valid,\n",
      "  input  [7:0] io_req_0_bits,\n",
      "  output       io_req_1_ready,\n",
      "  input        io_req_1_valid,\n",
      "  input  [7:0] io_req_1_bits,\n",
      "  input        io_out_ready,\n",
      "  output       io_out_valid,\n",
      "  output [7:0] io_out_bits\n",
      ");\n",
      "  wire  arb_io_req_0_ready; // @[cmd102.sc 7:21]\n",
      "  wire  arb_io_req_0_valid; // @[cmd102.sc 7:21]\n",
      "  wire [7:0] arb_io_req_0_bits; // @[cmd102.sc 7:21]\n",
      "  wire  arb_io_req_1_ready; // @[cmd102.sc 7:21]\n",
      "  wire  arb_io_req_1_valid; // @[cmd102.sc 7:21]\n",
      "  wire [7:0] arb_io_req_1_bits; // @[cmd102.sc 7:21]\n",
      "  wire  arb_io_out_ready; // @[cmd102.sc 7:21]\n",
      "  wire  arb_io_out_valid; // @[cmd102.sc 7:21]\n",
      "  wire [7:0] arb_io_out_bits; // @[cmd102.sc 7:21]\n",
      "  wire  _T_1 = ~reset; // @[cmd102.sc 12:11]\n",
      "  MyArb arb ( // @[cmd102.sc 7:21]\n",
      "    .io_req_0_ready(arb_io_req_0_ready),\n",
      "    .io_req_0_valid(arb_io_req_0_valid),\n",
      "    .io_req_0_bits(arb_io_req_0_bits),\n",
      "    .io_req_1_ready(arb_io_req_1_ready),\n",
      "    .io_req_1_valid(arb_io_req_1_valid),\n",
      "    .io_req_1_bits(arb_io_req_1_bits),\n",
      "    .io_out_ready(arb_io_out_ready),\n",
      "    .io_out_valid(arb_io_out_valid),\n",
      "    .io_out_bits(arb_io_out_bits)\n",
      "  );\n",
      "  assign io_req_0_ready = arb_io_req_0_ready; // @[cmd102.sc 9:23]\n",
      "  assign io_req_1_ready = arb_io_req_1_ready; // @[cmd102.sc 9:23]\n",
      "  assign io_out_valid = arb_io_out_valid; // @[cmd102.sc 11:12]\n",
      "  assign io_out_bits = arb_io_out_bits; // @[cmd102.sc 11:12]\n",
      "  assign arb_io_req_0_valid = io_req_0_valid; // @[cmd102.sc 9:23]\n",
      "  assign arb_io_req_0_bits = io_req_0_bits; // @[cmd102.sc 9:23]\n",
      "  assign arb_io_req_1_valid = io_req_1_valid; // @[cmd102.sc 9:23]\n",
      "  assign arb_io_req_1_bits = io_req_1_bits; // @[cmd102.sc 9:23]\n",
      "  assign arb_io_out_ready = io_out_ready; // @[cmd102.sc 11:12]\n",
      "  always @(posedge clock) begin\n",
      "    `ifndef SYNTHESIS\n",
      "    `ifdef PRINTF_COND\n",
      "      if (`PRINTF_COND) begin\n",
      "    `endif\n",
      "        if (~reset) begin\n",
      "          $fwrite(32'h80000002,\"req: \"); // @[cmd102.sc 12:11]\n",
      "        end\n",
      "    `ifdef PRINTF_COND\n",
      "      end\n",
      "    `endif\n",
      "    `endif // SYNTHESIS\n",
      "    `ifndef SYNTHESIS\n",
      "    `ifdef PRINTF_COND\n",
      "      if (`PRINTF_COND) begin\n",
      "    `endif\n",
      "        if (_T_1) begin\n",
      "          $fwrite(32'h80000002,\"%b\",arb_io_req_1_valid); // @[cmd102.sc 14:15]\n",
      "        end\n",
      "    `ifdef PRINTF_COND\n",
      "      end\n",
      "    `endif\n",
      "    `endif // SYNTHESIS\n",
      "    `ifndef SYNTHESIS\n",
      "    `ifdef PRINTF_COND\n",
      "      if (`PRINTF_COND) begin\n",
      "    `endif\n",
      "        if (_T_1) begin\n",
      "          $fwrite(32'h80000002,\"%b\",arb_io_req_0_valid); // @[cmd102.sc 14:15]\n",
      "        end\n",
      "    `ifdef PRINTF_COND\n",
      "      end\n",
      "    `endif\n",
      "    `endif // SYNTHESIS\n",
      "    `ifndef SYNTHESIS\n",
      "    `ifdef PRINTF_COND\n",
      "      if (`PRINTF_COND) begin\n",
      "    `endif\n",
      "        if (_T_1) begin\n",
      "          $fwrite(32'h80000002,\" winner: %d (v: %b)\\n\",arb_io_out_bits,arb_io_out_valid); // @[cmd102.sc 16:11]\n",
      "        end\n",
      "    `ifdef PRINTF_COND\n",
      "      end\n",
      "    `endif\n",
      "    `endif // SYNTHESIS\n",
      "  end\n",
      "endmodule\n",
      "\n"
     ]
    }
   ],
   "source": [
    "println (getVerilog(new ArbDemo(2,8)))"
   ]
  },
  {
   "cell_type": "markdown",
   "id": "56fa3163-983d-476b-864f-d353d5358695",
   "metadata": {},
   "source": [
    "## Orginal ArbDemo: Testing (3/3)"
   ]
  },
  {
   "cell_type": "code",
   "execution_count": 105,
   "id": "7fbd91b5",
   "metadata": {},
   "outputs": [
    {
     "name": "stdout",
     "output_type": "stream",
     "text": [
      "Elaborating design...\n",
      "Done elaborating.\n",
      "req: 1111 winner:    0 (v: 1)\n",
      "req: 1110 winner:    1 (v: 1)\n",
      "req: 1100 winner:    2 (v: 1)\n",
      "req: 1000 winner:    3 (v: 1)\n",
      "req: 0000 winner:    0 (v: 0)\n",
      "req: 0000 winner:    0 (v: 0)\n",
      "test ArbDemo Success: 0 tests passed in 7 cycles in 0.007482 seconds 935.59 Hz\n"
     ]
    },
    {
     "data": {
      "text/plain": [
       "\u001b[36mnumPorts\u001b[39m: \u001b[32mInt\u001b[39m = \u001b[32m4\u001b[39m"
      ]
     },
     "execution_count": 105,
     "metadata": {},
     "output_type": "execute_result"
    }
   ],
   "source": [
    "// printVerilog(new ArbDemo(2,8))\n",
    "\n",
    "val numPorts = 4\n",
    "test(new ArbDemo(numPorts,8)) { c =>\n",
    "    c.io.out.ready.poke(true.B)\n",
    "    for (cycle <- 0 until 5) {\n",
    "        for (p <- 0 until numPorts) {\n",
    "            c.io.req(p).bits.poke(p.U)\n",
    "            c.io.req(p).valid.poke((p >= cycle).B)\n",
    "        }\n",
    "        c.clock.step()\n",
    "    }\n",
    "}"
   ]
  },
  {
   "cell_type": "markdown",
   "id": "b7afd123-8900-4e65-84b7-9b6ec346eb71",
   "metadata": {
    "slideshow": {
     "slide_type": "slide"
    }
   },
   "source": [
    "## 8.12 MyArb ##\n",
    "### MyArb (Our Own Arbiter) ###\n",
    "\n",
    "<p>\n",
    "<img src=\"images/myarb.svg\" alt=\"arbiter schematic\" style=\"width:60%;align=left\"/>"
   ]
  },
  {
   "cell_type": "markdown",
   "id": "ee2ee494-2fb1-4056-88e3-240441b33b92",
   "metadata": {},
   "source": [
    "## 8.13 Implement Our Own Arbiter (MyArb) (2/3) ##"
   ]
  },
  {
   "cell_type": "code",
   "execution_count": 101,
   "id": "4ec76af7-0aee-49c5-a5ed-0fc94f8e8963",
   "metadata": {},
   "outputs": [
    {
     "data": {
      "text/plain": [
       "defined \u001b[32mclass\u001b[39m \u001b[36mMyArb\u001b[39m"
      ]
     },
     "execution_count": 101,
     "metadata": {},
     "output_type": "execute_result"
    }
   ],
   "source": [
    "class MyArb(numPorts: Int, w: Int) extends Module {\n",
    "    val io = IO(new Bundle {\n",
    "        val req = Flipped(Vec(numPorts, Decoupled(UInt(w.W))))\n",
    "        val out = Decoupled(UInt(w.W))\n",
    "    })\n",
    "    require (numPorts > 0)\n",
    "    val inValids = Wire(Vec(numPorts, Bool()))\n",
    "    val inBits   = Wire(Vec(numPorts, UInt(w.W)))\n",
    "    for (p <- 0 until numPorts) {\n",
    "        io.req(p).ready := false.B\n",
    "        inValids(p) := io.req(p).valid\n",
    "        inBits(p) := io.req(p).bits\n",
    "    }\n",
    "    val chosenOH = PriorityEncoderOH(inValids)\n",
    "    io.out.valid := inValids.asUInt.orR\n",
    "    io.out.bits := Mux1H(chosenOH, inBits)\n",
    "    val chosen = OHToUInt(chosenOH)\n",
    "    when (io.out.fire) {\n",
    "        io.req(chosen).ready := true.B\n",
    "    }\n",
    "}"
   ]
  },
  {
   "cell_type": "markdown",
   "id": "3e7ce2c9-a51b-4175-b305-fe177cea6bd7",
   "metadata": {},
   "source": [
    "## 8.14 Implementing Our Own Arbiter (3/3) ##"
   ]
  },
  {
   "cell_type": "code",
   "execution_count": 102,
   "id": "e6834c38-9ee5-41df-9c25-160c45a92c26",
   "metadata": {},
   "outputs": [
    {
     "data": {
      "text/plain": [
       "defined \u001b[32mclass\u001b[39m \u001b[36mMyArb\u001b[39m"
      ]
     },
     "execution_count": 102,
     "metadata": {},
     "output_type": "execute_result"
    }
   ],
   "source": [
    "class MyArb(numPorts: Int, w: Int) extends Module {\n",
    "    val io = IO(new Bundle {\n",
    "        val req = Flipped(Vec(numPorts, Decoupled(UInt(w.W))))\n",
    "        val out = Decoupled(UInt(w.W))\n",
    "    })\n",
    "    require (numPorts > 0)\n",
    "    val inValids = Wire(Vec(numPorts, Bool()))\n",
    "    val inBits   = Wire(Vec(numPorts, UInt(w.W)))\n",
    "    val chosenOH = PriorityEncoderOH(inValids)\n",
    "    for (p <- 0 until numPorts) {\n",
    "        io.req(p).ready := chosenOH(p) && io.out.fire\n",
    "        inValids(p) := io.req(p).valid\n",
    "        inBits(p) := io.req(p).bits\n",
    "    }\n",
    "    io.out.valid := inValids.asUInt.orR\n",
    "    io.out.bits := Mux1H(chosenOH, inBits)\n",
    "}"
   ]
  },
  {
   "cell_type": "markdown",
   "id": "8734db1f-66ff-4947-b98c-270fb8757d19",
   "metadata": {
    "slideshow": {
     "slide_type": "slide"
    }
   },
   "source": [
    "## 8.15 Example Crossbar in Chisel\n",
    "\n",
    "* Connects `numIns` input ports to `numOuts` output ports\n",
    "  * All ports are `Decoupled`\n",
    "\n",
    "<img src=\"images/xbar.svg\" alt=\"xbar schematic\" style=\"width:50%;align:left\"/>"
   ]
  },
  {
   "cell_type": "markdown",
   "id": "1b739a9d-ae0a-458d-9962-9fec26db56be",
   "metadata": {
    "slideshow": {
     "slide_type": "slide"
    }
   },
   "source": [
    "## 8.16 Example Crossbar Implementation (1/2)"
   ]
  },
  {
   "cell_type": "code",
   "execution_count": 22,
   "id": "obvious-attack",
   "metadata": {
    "cell_style": "center"
   },
   "outputs": [
    {
     "data": {
      "text/plain": [
       "defined \u001b[32mclass\u001b[39m \u001b[36mMessage\u001b[39m\n",
       "defined \u001b[32mclass\u001b[39m \u001b[36mXBarIO\u001b[39m"
      ]
     },
     "execution_count": 22,
     "metadata": {},
     "output_type": "execute_result"
    }
   ],
   "source": [
    "class Message(numOuts: Int, length: Int) extends Bundle {\n",
    "    val addr = UInt(log2Ceil(numOuts).W)\n",
    "    val data = UInt(length.W)\n",
    "}\n",
    "\n",
    "class XBarIO(numIns: Int, numOuts: Int, length: Int) extends Bundle {\n",
    "    val in  = Vec(numIns, Flipped(Decoupled(new Message(numOuts, length))))\n",
    "    val out = Vec(numOuts, Decoupled(new Message(numOuts, length)))\n",
    "}"
   ]
  },
  {
   "cell_type": "markdown",
   "id": "5c652fcd-d5bb-489c-a10f-e60cbc5b7432",
   "metadata": {
    "slideshow": {
     "slide_type": "slide"
    }
   },
   "source": [
    "## 8.17 Example Crossbar Implementation (2/2)"
   ]
  },
  {
   "cell_type": "code",
   "execution_count": 106,
   "id": "nearby-linux",
   "metadata": {
    "scrolled": true
   },
   "outputs": [
    {
     "data": {
      "text/plain": [
       "defined \u001b[32mclass\u001b[39m \u001b[36mXBar\u001b[39m"
      ]
     },
     "execution_count": 106,
     "metadata": {},
     "output_type": "execute_result"
    }
   ],
   "source": [
    "class XBar(numIns: Int, numOuts: Int, length: Int) extends Module {\n",
    "    val io = IO(new XBarIO(numIns, numOuts, length))\n",
    "    val arbs = Seq.fill(numOuts)(Module(new RRArbiter(new Message(numOuts, length), numIns)))\n",
    "    for (ip <- 0 until numIns) {\n",
    "        val inReadys = Wire(Vec(numOuts, Bool()))\n",
    "        for (op <- 0 until numOuts) {\n",
    "            inReadys(op) := arbs(op).io.in(ip).ready\n",
    "        }\n",
    "        io.in(ip).ready := inReadys(io.in(ip).bits.addr)\n",
    "    }\n",
    "    for (op <- 0 until numOuts) {\n",
    "        for (ip <- 0 until numIns) {\n",
    "            arbs(op).io.in(ip).bits <> io.in(ip).bits\n",
    "            arbs(op).io.in(ip).valid := io.in(ip).valid && (io.in(ip).bits.addr === op.U)\n",
    "        }\n",
    "        io.out(op) <> arbs(op).io.out\n",
    "    }\n",
    "    for (op <- 0 until numOuts) {\n",
    "        printf(\" %d -> %d (%b)\", io.out(op).bits.data, op.U, io.out(op).valid)\n",
    "    }\n",
    "    printf(\"\\n\")\n",
    "}\n",
    "\n",
    "// printVerilog(new XBar(2,1,8))"
   ]
  },
  {
   "cell_type": "code",
   "execution_count": 107,
   "id": "09c333dd-2a2b-4102-ab0d-bb8b63a946b7",
   "metadata": {},
   "outputs": [],
   "source": [
    "// Error in Verilog \n",
    "// println (getVerilog(new XBar(2,1,8)))"
   ]
  },
  {
   "cell_type": "markdown",
   "id": "removed-north",
   "metadata": {
    "slideshow": {
     "slide_type": "slide"
    }
   },
   "source": [
    "## Example Crossbar Demo"
   ]
  },
  {
   "cell_type": "code",
   "execution_count": 23,
   "id": "compliant-joining",
   "metadata": {},
   "outputs": [],
   "source": [
    "// Below code run forever.\n",
    "/*\n",
    "val numIns = 4\n",
    "val numOuts = 2\n",
    "test(new XBar(numIns,numOuts,8)) { c =>\n",
    "    for (ip <- 0 until numIns) {\n",
    "        c.io.in(ip).valid.poke(true.B)\n",
    "        c.io.in(ip).bits.data.poke(ip.U)\n",
    "        c.io.in(ip).bits.addr.poke((ip % numOuts).U)\n",
    "    }\n",
    "    for (op <- 0 until numOuts) {\n",
    "        c.io.out(op).ready.poke(true.B)\n",
    "    }\n",
    "    for (cycle <- 0 until 4) {\n",
    "        c.clock.step()\n",
    "    }\n",
    "}\n",
    "*/"
   ]
  }
 ],
 "metadata": {
  "celltoolbar": "Slideshow",
  "kernelspec": {
   "display_name": "Scala 2.12.11",
   "language": "scala",
   "name": "scala_2_12_11"
  },
  "language_info": {
   "codemirror_mode": "text/x-scala",
   "file_extension": ".scala",
   "mimetype": "text/x-scala",
   "name": "scala",
   "nbconvert_exporter": "script",
   "version": "2.12.11"
  }
 },
 "nbformat": 4,
 "nbformat_minor": 5
}
