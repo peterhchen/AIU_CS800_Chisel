{
 "cells": [
  {
   "cell_type": "markdown",
   "id": "e2fc487f-9bb1-4a42-8b62-5dc89558c2df",
   "metadata": {
    "cell_style": "center",
    "slideshow": {
     "slide_type": "slide"
    }
   },
   "source": [
    "## Agile Hardware Design\n",
    "***\n",
    "# Arbitration\n",
    "\n",
    "<img src=\"./images/logo.svg\" alt=\"agile hardware design logo\" style=\"float:right\"/>\n",
    "\n",
    "## By Peter Hanping Chen based on \n",
    "## Prof. Scott Beamer\n",
    "## sbeamer@ucsc.edu\n",
    "## [CSE 228A](https://classes.soe.ucsc.edu/cse228a/Winter24/)\n",
    "###\n",
    "### Note:\n",
    "### This chisel code is modified based on Scala configuration file: load-ivy.sc\n",
    "### https://github.com/freechipsproject/chisel-bootcamp"
   ]
  },
  {
   "cell_type": "markdown",
   "id": "nominated-consistency",
   "metadata": {
    "slideshow": {
     "slide_type": "slide"
    }
   },
   "source": [
    "## Plan for Today\n",
    "\n",
    "* One-hot encoding\n",
    "* Priority encoders\n",
    "* Arbiters\n",
    "* Crossbar Example"
   ]
  },
  {
   "cell_type": "markdown",
   "id": "regular-reducing",
   "metadata": {
    "slideshow": {
     "slide_type": "slide"
    }
   },
   "source": [
    "## Loading The Chisel Library Into a Notebook"
   ]
  },
  {
   "cell_type": "code",
   "execution_count": 1,
   "id": "robust-immigration",
   "metadata": {},
   "outputs": [
    {
     "name": "stdout",
     "output_type": "stream",
     "text": [
      "path: /home/peter/AIU/AIU_CS800_Chisel/500_UCSC_HWD/008_Arbit/001_Code/source/load-ivy.sc\n"
     ]
    },
    {
     "data": {
      "text/plain": [
       "\u001b[36mpath\u001b[39m: \u001b[32mString\u001b[39m = \u001b[32m\"/home/peter/AIU/AIU_CS800_Chisel/500_UCSC_HWD/008_Arbit/001_Code/source/load-ivy.sc\"\u001b[39m"
      ]
     },
     "execution_count": 1,
     "metadata": {},
     "output_type": "execute_result"
    }
   ],
   "source": [
    "//interp.load.module(os.Path(s\"${System.getProperty(\"user.dir\")}/../resource/chisel_deps.sc\"))\n",
    "val path = System.getProperty(\"user.dir\") + \"/source/load-ivy.sc\"\n",
    "//val path = System.getProperty(\"user.dir\") + \"/source/chisel_deps.sc\"\n",
    "println(\"path: \"+path)"
   ]
  },
  {
   "cell_type": "code",
   "execution_count": 2,
   "id": "e3e3025e-16f0-4928-aee3-3889032d8592",
   "metadata": {},
   "outputs": [
    {
     "name": "stdout",
     "output_type": "stream",
     "text": [
      "Compiling /home/peter/AIU/AIU_CS800_Chisel/500_UCSC_HWD/008_Arbit/001_Code/Main.scCompiling /home/peter/AIU/AIU_CS800_Chisel/500_UCSC_HWD/008_Arbit/001_Code/Main.sc #2"
     ]
    }
   ],
   "source": [
    "interp.load.module(ammonite.ops.Path(java.nio.file.FileSystems.getDefault().getPath(path)))"
   ]
  },
  {
   "cell_type": "code",
   "execution_count": 3,
   "id": "extended-burning",
   "metadata": {
    "slideshow": {
     "slide_type": "-"
    }
   },
   "outputs": [
    {
     "data": {
      "text/plain": [
       "\u001b[32mimport \u001b[39m\u001b[36mchisel3._\n",
       "\u001b[39m\n",
       "\u001b[32mimport \u001b[39m\u001b[36mchisel3.util._\n",
       "\u001b[39m\n",
       "\u001b[32mimport \u001b[39m\u001b[36mchiseltest._\n",
       "\u001b[39m\n",
       "\u001b[32mimport \u001b[39m\u001b[36mchiseltest.RawTester.test\u001b[39m"
      ]
     },
     "execution_count": 3,
     "metadata": {},
     "output_type": "execute_result"
    }
   ],
   "source": [
    "import chisel3._\n",
    "import chisel3.util._\n",
    "import chiseltest._\n",
    "import chiseltest.RawTester.test"
   ]
  },
  {
   "cell_type": "markdown",
   "id": "aquatic-making",
   "metadata": {
    "jp-MarkdownHeadingCollapsed": true,
    "slideshow": {
     "slide_type": "slide"
    }
   },
   "source": [
    "## One-Hot Encoding\n",
    "\n",
    "* Collection of wires where _**exactly**_ one wire is high (rest are low)\n",
    "\n",
    "* Helpful for working with a collection of objects in which you only want one to be active/selected/enabled\n",
    "\n",
    "* Examples\n",
    "  * Setting the write enable high for the target register in register file\n",
    "  * Charging the appropriate word line in a SRAM (often called a _decoder_)\n",
    "\n",
    "* Can often avoid need to encode/decode because both producers and consumers of one-hot (OH) encoding may prefer it\n",
    "\n",
    "<img src=\"images/decoder.svg\" alt=\"xbar schematic\" style=\"width:30%;margin-left:auto;margin-right:auto\"/>"
   ]
  },
  {
   "cell_type": "markdown",
   "id": "cellular-range",
   "metadata": {
    "slideshow": {
     "slide_type": "slide"
    }
   },
   "source": [
    "## Implementing Our Own One-Hot Encoder (1/2)"
   ]
  },
  {
   "cell_type": "code",
   "execution_count": 4,
   "id": "collaborative-pitch",
   "metadata": {},
   "outputs": [
    {
     "data": {
      "text/plain": [
       "defined \u001b[32mclass\u001b[39m \u001b[36mConvUIntToOH\u001b[39m"
      ]
     },
     "execution_count": 4,
     "metadata": {},
     "output_type": "execute_result"
    }
   ],
   "source": [
    "class ConvUIntToOH(inWidth: Int) extends Module {\n",
    "    val outWidth = 1 << inWidth\n",
    "    val io = IO(new Bundle {\n",
    "        val in  = Input(UInt(inWidth.W))\n",
    "        val out = Output(UInt(outWidth.W))\n",
    "    })\n",
    "    require (inWidth > 0)\n",
    "    def helper(index: Int): UInt = {\n",
    "        if (index < outWidth-1) Cat(helper(index+1), io.in === index.U)\n",
    "        else io.in === index.U\n",
    "    }\n",
    "    io.out := helper(0)\n",
    "//     io.out := UIntToOH(io.in)  // Standard library implementation\n",
    "//     printf(\"%d -> %b\\n\", io.in, io.out)\n",
    "}"
   ]
  },
  {
   "cell_type": "markdown",
   "id": "9842525f",
   "metadata": {
    "slideshow": {
     "slide_type": "slide"
    }
   },
   "source": [
    "## Implementing Our Own One-Hot Encoder (2/2)"
   ]
  },
  {
   "cell_type": "code",
   "execution_count": 19,
   "id": "36e7c383-47ca-4c7d-8ed2-5d8b31061d74",
   "metadata": {},
   "outputs": [
    {
     "name": "stdout",
     "output_type": "stream",
     "text": [
      "Elaborating design...\n",
      "Done elaborating.\n",
      "module ConvUIntToOH(\n",
      "  input        clock,\n",
      "  input        reset,\n",
      "  input  [1:0] io_in,\n",
      "  output [3:0] io_out\n",
      ");\n",
      "  wire  _T = io_in == 2'h3; // @[cmd3.sc 10:20]\n",
      "  wire  _T_1 = io_in == 2'h2; // @[cmd3.sc 9:60]\n",
      "  wire  _T_3 = io_in == 2'h1; // @[cmd3.sc 9:60]\n",
      "  wire [2:0] _T_4 = {_T,_T_1,_T_3}; // @[Cat.scala 30:58]\n",
      "  wire  _T_5 = io_in == 2'h0; // @[cmd3.sc 9:60]\n",
      "  assign io_out = {_T_4,_T_5}; // @[Cat.scala 30:58]\n",
      "endmodule\n",
      "\n"
     ]
    }
   ],
   "source": [
    "//printVerilog(new ConvUIntToOH(2))\n",
    "println (getVerilog(new ConvUIntToOH(2)))"
   ]
  },
  {
   "cell_type": "code",
   "execution_count": 18,
   "id": "abd31e79-f3a4-4609-8f8a-8b6bdd3fe432",
   "metadata": {},
   "outputs": [
    {
     "name": "stdout",
     "output_type": "stream",
     "text": [
      "Elaborating design...\n",
      "Done elaborating.\n",
      "test ConvUIntToOH Success: 0 tests passed in 6 cycles in 0.008815 seconds 680.68 Hz\n"
     ]
    }
   ],
   "source": [
    "test(new ConvUIntToOH(2)) { c =>\n",
    "    for (i <- 0 until 4) {\n",
    "         c.io.in.poke(i.U)\n",
    "         c.io.out.expect((1 << i).U)\n",
    "         c.clock.step()\n",
    "     }\n",
    "}"
   ]
  },
  {
   "cell_type": "code",
   "execution_count": 4,
   "id": "26753576",
   "metadata": {},
   "outputs": [],
   "source": [
    "//printVerilog(new ConvUIntToOH(2))\n",
    "\n",
    "// test(new ConvUIntToOH(2)) { c =>\n",
    "//    for (i <- 0 until 4) {\n",
    "//         c.io.in.poke(i.U)\n",
    "//         c.io.out.expect((1 << i).U)\n",
    "//         c.clock.step()\n",
    "//     }\n",
    "// }"
   ]
  },
  {
   "cell_type": "markdown",
   "id": "enabling-scholarship",
   "metadata": {
    "slideshow": {
     "slide_type": "slide"
    }
   },
   "source": [
    "## Priority Encoder\n",
    "\n",
    "* Given collection of wires, returns index of least significant bit that is high (1) given predefined precedence ordering (_priority_)\n",
    "\n",
    "* Helpful for ordering logic or choosing between things\n",
    "\n",
    "* Examples\n",
    "  * Resolving RAW hazard in a pipelined processor, forward data from most recent instruction\n",
    "  * In a collection components, find first free slot\n",
    "\n",
    "* Chisel provides result as an index with [`PriorityEncoder`](https://javadoc.io/doc/edu.berkeley.cs/chisel3_2.13/latest/chisel3/util/PriorityEncoder\\$.html),\n",
    "one-hot with [`PriorityEncoderOH`](https://javadoc.io/doc/edu.berkeley.cs/chisel3_2.13/latest/chisel3/util/PriorityEncoderOH\\$.html), or even integrated into a Mux with [`PriorityMux`](https://javadoc.io/doc/edu.berkeley.cs/chisel3_2.13/latest/chisel3/util/PriorityMux\\$.html)\n",
    "  * _What if input is 0?_ invalid, but returns max index or 0 (for OH)\n"
   ]
  },
  {
   "cell_type": "markdown",
   "id": "needed-arthritis",
   "metadata": {
    "slideshow": {
     "slide_type": "slide"
    }
   },
   "source": [
    "## Example One-Hot Priority Encoders\n",
    "\n",
    "<img src=\"images/priority.svg\" alt=\"priority schematic\" style=\"width:75%;margin-left:auto;margin-right:auto\"/>"
   ]
  },
  {
   "cell_type": "markdown",
   "id": "liable-boutique",
   "metadata": {
    "slideshow": {
     "slide_type": "slide"
    }
   },
   "source": [
    "## Example One-Hot Priority Encoder Implementation (1/2)"
   ]
  },
  {
   "cell_type": "code",
   "execution_count": 6,
   "id": "applicable-acoustic",
   "metadata": {
    "scrolled": true
   },
   "outputs": [
    {
     "data": {
      "text/plain": [
       "defined \u001b[32mclass\u001b[39m \u001b[36mMyPriEncodeOH\u001b[39m"
      ]
     },
     "execution_count": 6,
     "metadata": {},
     "output_type": "execute_result"
    }
   ],
   "source": [
    "class MyPriEncodeOH(n: Int) extends Module {\n",
    "    val io = IO(new Bundle {\n",
    "        val in  = Input(UInt(n.W))\n",
    "        val out = Output(UInt())\n",
    "    })\n",
    "    require (n > 0)\n",
    "    def withGates(index: Int, expr: UInt): UInt = {\n",
    "        if (index < (n-1)) Cat(withGates(index+1, ~io.in(index) & expr), io.in(index) & expr)\n",
    "        else io.in(index) & expr\n",
    "    }\n",
    "    def withMuxes(index: Int): UInt = {\n",
    "        if (index < n) Mux(io.in(index), (1 << index).U, withMuxes(index+1))\n",
    "        else 0.U\n",
    "    }\n",
    "    io.out := withGates(0, 1.U)\n",
    "//     io.out := withMuxes(0)\n",
    "//     io.out := PriorityEncoderOH(io.in)\n",
    "//     printf(\"%b -> %b\\n\", io.in, io.out)\n",
    "}"
   ]
  },
  {
   "cell_type": "markdown",
   "id": "1479834a",
   "metadata": {
    "slideshow": {
     "slide_type": "slide"
    }
   },
   "source": [
    "## Example One-Hot Priority Encoder Implementation (2/2)"
   ]
  },
  {
   "cell_type": "code",
   "execution_count": 6,
   "id": "539dc1b4",
   "metadata": {},
   "outputs": [],
   "source": [
    "//printVerilog(new MyPriEncodeOH(2))\n",
    "\n",
    "// test(new MyPriEncodeOH(3)) { c =>\n",
    "//     for (i <- 0 until 8) {\n",
    "//         c.io.in.poke(i.U)\n",
    "//         c.clock.step()\n",
    "//     }\n",
    "// }"
   ]
  },
  {
   "cell_type": "code",
   "execution_count": 7,
   "id": "5096ec26-1196-4051-8b26-65b269f35fbc",
   "metadata": {},
   "outputs": [
    {
     "name": "stdout",
     "output_type": "stream",
     "text": [
      "Elaborating design...\n",
      "Done elaborating.\n",
      "module MyPriEncodeOH(\n",
      "  input        clock,\n",
      "  input        reset,\n",
      "  input  [1:0] io_in,\n",
      "  output [1:0] io_out\n",
      ");\n",
      "  wire  _T_1 = ~io_in[0]; // @[cmd5.sc 8:51]\n",
      "  wire  _T_4 = io_in[1] & _T_1; // @[cmd5.sc 9:27]\n",
      "  assign io_out = {_T_4,io_in[0]}; // @[Cat.scala 30:58]\n",
      "endmodule\n",
      "\n"
     ]
    }
   ],
   "source": [
    "println (getVerilog(new MyPriEncodeOH(2)))"
   ]
  },
  {
   "cell_type": "markdown",
   "id": "twelve-photograph",
   "metadata": {
    "slideshow": {
     "slide_type": "slide"
    }
   },
   "source": [
    "## Arbiter\n",
    "\n",
    "* _Arbitration_ is needed to choose between multiple components attempting to access a scarce resource\n",
    "\n",
    "* Needs way to choose (_arbitrate_) if multiple simultaneous requests\n",
    "  * If only one request, grant to lone requestor\n",
    "\n",
    "* Different tie-breaking algorithms available e.g. fixed priority or round-robin\n",
    "  * Consider needs for usage scenario\n",
    "\n",
    "* Examples\n",
    "  * Structural hazard in a processor, such as core & memory both trying to write to cache at same time\n",
    "  * Output ports of a network switch (later today)"
   ]
  },
  {
   "cell_type": "markdown",
   "id": "severe-campus",
   "metadata": {
    "slideshow": {
     "slide_type": "slide"
    }
   },
   "source": [
    "## Arbiters in Chisel\n",
    "\n",
    "* Use `Decoupled` for both requestors and outcome\n",
    "  * `valid` (from requestor) indicates if actually sending request\n",
    "  * `ready` (to requestor) indicates request granted\n",
    "\n",
    "* [`Arbiter`](https://javadoc.io/doc/edu.berkeley.cs/chisel3_2.13/latest/chisel3/util/Arbiter.html) - fixed priority from least significant (e.g. port 0 wins)\n",
    "\n",
    "* [`RRArbiter`](https://javadoc.io/doc/edu.berkeley.cs/chisel3_2.13/latest/chisel3/util/RRArbiter.html) - round robin for who wins ties\n",
    "\n",
    "* [`LockingRRArbiter`](https://javadoc.io/doc/edu.berkeley.cs/chisel3_2.13/latest/chisel3/util/LockingRRArbiter.html) - round robin, but \"winner\" granted out for `count` cycles\n",
    "\n",
    "<img src=\"images/arbiter.svg\" alt=\"arbiter schematic\" style=\"width:45%;margin-left:auto;margin-right:auto\"/>"
   ]
  },
  {
   "cell_type": "markdown",
   "id": "friendly-gilbert",
   "metadata": {
    "slideshow": {
     "slide_type": "slide"
    }
   },
   "source": [
    "## Demo of Chisel util's Arbiters (1/2)"
   ]
  },
  {
   "cell_type": "code",
   "execution_count": 8,
   "id": "generous-grant",
   "metadata": {
    "cell_style": "center",
    "scrolled": true,
    "slideshow": {
     "slide_type": "-"
    }
   },
   "outputs": [
    {
     "data": {
      "text/plain": [
       "defined \u001b[32mclass\u001b[39m \u001b[36mUtilArbDemo\u001b[39m"
      ]
     },
     "execution_count": 8,
     "metadata": {},
     "output_type": "execute_result"
    }
   ],
   "source": [
    "class UtilArbDemo(numPorts: Int, w: Int) extends Module {\n",
    "    val io = IO(new Bundle {\n",
    "        val req = Flipped(Vec(numPorts, Decoupled(UInt(w.W))))\n",
    "        val out = Decoupled(UInt(w.W))\n",
    "    })\n",
    "    require (numPorts > 0)\n",
    "    val arb = Module(new LockingRRArbiter(UInt(w.W), numPorts, 2))\n",
    "    for (p <- 0 until numPorts) {\n",
    "        arb.io.in(p) <> io.req(p) \n",
    "    }\n",
    "//     arb.io.in <> io.req\n",
    "    io.out <> arb.io.out\n",
    "    printf(\"req: \")\n",
    "    for (p <- numPorts-1 to 0 by -1) {\n",
    "        printf(\"%b\", arb.io.in(p).valid)\n",
    "    }\n",
    "    printf(\" winner: %d (v: %b)\\n\", arb.io.out.bits, arb.io.out.valid)\n",
    "}"
   ]
  },
  {
   "cell_type": "markdown",
   "id": "4c554452",
   "metadata": {
    "slideshow": {
     "slide_type": "slide"
    }
   },
   "source": [
    "## Demo of Chisel util's Arbiters (2/2)"
   ]
  },
  {
   "cell_type": "code",
   "execution_count": 9,
   "id": "1cebf8dd-7c8c-4181-9709-1bcf4849b79d",
   "metadata": {},
   "outputs": [
    {
     "name": "stdout",
     "output_type": "stream",
     "text": [
      "Elaborating design...\n",
      "Done elaborating.\n",
      "module LockingRRArbiter(\n",
      "  input        clock,\n",
      "  input        reset,\n",
      "  output       io_in_0_ready,\n",
      "  input        io_in_0_valid,\n",
      "  input  [7:0] io_in_0_bits,\n",
      "  output       io_in_1_ready,\n",
      "  input        io_in_1_valid,\n",
      "  input  [7:0] io_in_1_bits,\n",
      "  input        io_out_ready,\n",
      "  output       io_out_valid,\n",
      "  output [7:0] io_out_bits,\n",
      "  output       io_chosen\n",
      ");\n",
      "`ifdef RANDOMIZE_REG_INIT\n",
      "  reg [31:0] _RAND_0;\n",
      "  reg [31:0] _RAND_1;\n",
      "  reg [31:0] _RAND_2;\n",
      "`endif // RANDOMIZE_REG_INIT\n",
      "  reg  value; // @[Counter.scala 60:40]\n",
      "  reg  lockIdx; // @[Arbiter.scala 46:22]\n",
      "  wire  _T = io_out_ready & io_out_valid; // @[Decoupled.scala 40:37]\n",
      "  reg  lastGrant; // @[Reg.scala 15:16]\n",
      "  wire  grantMask_1 = 1'h1 > lastGrant; // @[Arbiter.scala 67:49]\n",
      "  wire  validMask_1 = io_in_1_valid & grantMask_1; // @[Arbiter.scala 68:75]\n",
      "  wire  _GEN_8 = io_in_0_valid ? 1'h0 : 1'h1; // @[Arbiter.scala 77:27 Arbiter.scala 77:36]\n",
      "  wire  choice = validMask_1 | _GEN_8; // @[Arbiter.scala 79:25 Arbiter.scala 79:34]\n",
      "  wire  ctrl_2 = ~validMask_1; // @[Arbiter.scala 31:78]\n",
      "  wire  ctrl_3 = ~(validMask_1 | io_in_0_valid); // @[Arbiter.scala 31:78]\n",
      "  wire  _T_5 = grantMask_1 | ctrl_3; // @[Arbiter.scala 72:50]\n",
      "  wire  _io_in_0_ready_T_1 = value ? ~lockIdx : ctrl_2; // @[Arbiter.scala 57:22]\n",
      "  wire  _io_in_1_ready_T_1 = value ? lockIdx : _T_5; // @[Arbiter.scala 57:22]\n",
      "  assign io_in_0_ready = _io_in_0_ready_T_1 & io_out_ready; // @[Arbiter.scala 57:56]\n",
      "  assign io_in_1_ready = _io_in_1_ready_T_1 & io_out_ready; // @[Arbiter.scala 57:56]\n",
      "  assign io_out_valid = io_chosen ? io_in_1_valid : io_in_0_valid; // @[Arbiter.scala 41:16 Arbiter.scala 41:16]\n",
      "  assign io_out_bits = io_chosen ? io_in_1_bits : io_in_0_bits; // @[Arbiter.scala 42:15 Arbiter.scala 42:15]\n",
      "  assign io_chosen = value ? lockIdx : choice; // @[Arbiter.scala 55:19 Arbiter.scala 55:31 Arbiter.scala 40:13]\n",
      "  always @(posedge clock) begin\n",
      "    if (reset) begin // @[Counter.scala 60:40]\n",
      "      value <= 1'h0; // @[Counter.scala 60:40]\n",
      "    end else if (_T) begin // @[Arbiter.scala 50:39]\n",
      "      value <= value + 1'h1; // @[Counter.scala 76:15]\n",
      "    end\n",
      "    if (_T) begin // @[Arbiter.scala 50:39]\n",
      "      lockIdx <= io_chosen; // @[Arbiter.scala 51:15]\n",
      "    end\n",
      "    if (_T) begin // @[Reg.scala 16:19]\n",
      "      lastGrant <= io_chosen; // @[Reg.scala 16:23]\n",
      "    end\n",
      "  end\n",
      "// Register and memory initialization\n",
      "`ifdef RANDOMIZE_GARBAGE_ASSIGN\n",
      "`define RANDOMIZE\n",
      "`endif\n",
      "`ifdef RANDOMIZE_INVALID_ASSIGN\n",
      "`define RANDOMIZE\n",
      "`endif\n",
      "`ifdef RANDOMIZE_REG_INIT\n",
      "`define RANDOMIZE\n",
      "`endif\n",
      "`ifdef RANDOMIZE_MEM_INIT\n",
      "`define RANDOMIZE\n",
      "`endif\n",
      "`ifndef RANDOM\n",
      "`define RANDOM $random\n",
      "`endif\n",
      "`ifdef RANDOMIZE_MEM_INIT\n",
      "  integer initvar;\n",
      "`endif\n",
      "`ifndef SYNTHESIS\n",
      "`ifdef FIRRTL_BEFORE_INITIAL\n",
      "`FIRRTL_BEFORE_INITIAL\n",
      "`endif\n",
      "initial begin\n",
      "  `ifdef RANDOMIZE\n",
      "    `ifdef INIT_RANDOM\n",
      "      `INIT_RANDOM\n",
      "    `endif\n",
      "    `ifndef VERILATOR\n",
      "      `ifdef RANDOMIZE_DELAY\n",
      "        #`RANDOMIZE_DELAY begin end\n",
      "      `else\n",
      "        #0.002 begin end\n",
      "      `endif\n",
      "    `endif\n",
      "`ifdef RANDOMIZE_REG_INIT\n",
      "  _RAND_0 = {1{`RANDOM}};\n",
      "  value = _RAND_0[0:0];\n",
      "  _RAND_1 = {1{`RANDOM}};\n",
      "  lockIdx = _RAND_1[0:0];\n",
      "  _RAND_2 = {1{`RANDOM}};\n",
      "  lastGrant = _RAND_2[0:0];\n",
      "`endif // RANDOMIZE_REG_INIT\n",
      "  `endif // RANDOMIZE\n",
      "end // initial\n",
      "`ifdef FIRRTL_AFTER_INITIAL\n",
      "`FIRRTL_AFTER_INITIAL\n",
      "`endif\n",
      "`endif // SYNTHESIS\n",
      "endmodule\n",
      "module UtilArbDemo(\n",
      "  input        clock,\n",
      "  input        reset,\n",
      "  output       io_req_0_ready,\n",
      "  input        io_req_0_valid,\n",
      "  input  [7:0] io_req_0_bits,\n",
      "  output       io_req_1_ready,\n",
      "  input        io_req_1_valid,\n",
      "  input  [7:0] io_req_1_bits,\n",
      "  input        io_out_ready,\n",
      "  output       io_out_valid,\n",
      "  output [7:0] io_out_bits\n",
      ");\n",
      "  wire  arb_clock; // @[cmd7.sc 7:21]\n",
      "  wire  arb_reset; // @[cmd7.sc 7:21]\n",
      "  wire  arb_io_in_0_ready; // @[cmd7.sc 7:21]\n",
      "  wire  arb_io_in_0_valid; // @[cmd7.sc 7:21]\n",
      "  wire [7:0] arb_io_in_0_bits; // @[cmd7.sc 7:21]\n",
      "  wire  arb_io_in_1_ready; // @[cmd7.sc 7:21]\n",
      "  wire  arb_io_in_1_valid; // @[cmd7.sc 7:21]\n",
      "  wire [7:0] arb_io_in_1_bits; // @[cmd7.sc 7:21]\n",
      "  wire  arb_io_out_ready; // @[cmd7.sc 7:21]\n",
      "  wire  arb_io_out_valid; // @[cmd7.sc 7:21]\n",
      "  wire [7:0] arb_io_out_bits; // @[cmd7.sc 7:21]\n",
      "  wire  arb_io_chosen; // @[cmd7.sc 7:21]\n",
      "  wire  _T_1 = ~reset; // @[cmd7.sc 13:11]\n",
      "  LockingRRArbiter arb ( // @[cmd7.sc 7:21]\n",
      "    .clock(arb_clock),\n",
      "    .reset(arb_reset),\n",
      "    .io_in_0_ready(arb_io_in_0_ready),\n",
      "    .io_in_0_valid(arb_io_in_0_valid),\n",
      "    .io_in_0_bits(arb_io_in_0_bits),\n",
      "    .io_in_1_ready(arb_io_in_1_ready),\n",
      "    .io_in_1_valid(arb_io_in_1_valid),\n",
      "    .io_in_1_bits(arb_io_in_1_bits),\n",
      "    .io_out_ready(arb_io_out_ready),\n",
      "    .io_out_valid(arb_io_out_valid),\n",
      "    .io_out_bits(arb_io_out_bits),\n",
      "    .io_chosen(arb_io_chosen)\n",
      "  );\n",
      "  assign io_req_0_ready = arb_io_in_0_ready; // @[cmd7.sc 9:22]\n",
      "  assign io_req_1_ready = arb_io_in_1_ready; // @[cmd7.sc 9:22]\n",
      "  assign io_out_valid = arb_io_out_valid; // @[cmd7.sc 12:12]\n",
      "  assign io_out_bits = arb_io_out_bits; // @[cmd7.sc 12:12]\n",
      "  assign arb_clock = clock;\n",
      "  assign arb_reset = reset;\n",
      "  assign arb_io_in_0_valid = io_req_0_valid; // @[cmd7.sc 9:22]\n",
      "  assign arb_io_in_0_bits = io_req_0_bits; // @[cmd7.sc 9:22]\n",
      "  assign arb_io_in_1_valid = io_req_1_valid; // @[cmd7.sc 9:22]\n",
      "  assign arb_io_in_1_bits = io_req_1_bits; // @[cmd7.sc 9:22]\n",
      "  assign arb_io_out_ready = io_out_ready; // @[cmd7.sc 12:12]\n",
      "  always @(posedge clock) begin\n",
      "    `ifndef SYNTHESIS\n",
      "    `ifdef PRINTF_COND\n",
      "      if (`PRINTF_COND) begin\n",
      "    `endif\n",
      "        if (~reset) begin\n",
      "          $fwrite(32'h80000002,\"req: \"); // @[cmd7.sc 13:11]\n",
      "        end\n",
      "    `ifdef PRINTF_COND\n",
      "      end\n",
      "    `endif\n",
      "    `endif // SYNTHESIS\n",
      "    `ifndef SYNTHESIS\n",
      "    `ifdef PRINTF_COND\n",
      "      if (`PRINTF_COND) begin\n",
      "    `endif\n",
      "        if (_T_1) begin\n",
      "          $fwrite(32'h80000002,\"%b\",arb_io_in_1_valid); // @[cmd7.sc 15:15]\n",
      "        end\n",
      "    `ifdef PRINTF_COND\n",
      "      end\n",
      "    `endif\n",
      "    `endif // SYNTHESIS\n",
      "    `ifndef SYNTHESIS\n",
      "    `ifdef PRINTF_COND\n",
      "      if (`PRINTF_COND) begin\n",
      "    `endif\n",
      "        if (_T_1) begin\n",
      "          $fwrite(32'h80000002,\"%b\",arb_io_in_0_valid); // @[cmd7.sc 15:15]\n",
      "        end\n",
      "    `ifdef PRINTF_COND\n",
      "      end\n",
      "    `endif\n",
      "    `endif // SYNTHESIS\n",
      "    `ifndef SYNTHESIS\n",
      "    `ifdef PRINTF_COND\n",
      "      if (`PRINTF_COND) begin\n",
      "    `endif\n",
      "        if (_T_1) begin\n",
      "          $fwrite(32'h80000002,\" winner: %d (v: %b)\\n\",arb_io_out_bits,arb_io_out_valid); // @[cmd7.sc 17:11]\n",
      "        end\n",
      "    `ifdef PRINTF_COND\n",
      "      end\n",
      "    `endif\n",
      "    `endif // SYNTHESIS\n",
      "  end\n",
      "endmodule\n",
      "\n"
     ]
    }
   ],
   "source": [
    "println (getVerilog(new UtilArbDemo(2,8)))"
   ]
  },
  {
   "cell_type": "code",
   "execution_count": 10,
   "id": "d602869b",
   "metadata": {},
   "outputs": [
    {
     "name": "stdout",
     "output_type": "stream",
     "text": [
      "Elaborating design...\n",
      "Done elaborating.\n",
      "req: 1111 winner:    1 (v: 1)\n",
      "req: 1110 winner:    1 (v: 1)\n",
      "req: 1100 winner:    2 (v: 1)\n",
      "req: 1000 winner:    2 (v: 0)\n",
      "req: 0000 winner:    2 (v: 0)\n",
      "req: 0000 winner:    0 (v: 0)\n",
      "test UtilArbDemo Success: 0 tests passed in 7 cycles in 0.123554 seconds 56.66 Hz\n"
     ]
    },
    {
     "data": {
      "text/plain": [
       "\u001b[36mnumPorts\u001b[39m: \u001b[32mInt\u001b[39m = \u001b[32m4\u001b[39m"
      ]
     },
     "execution_count": 10,
     "metadata": {},
     "output_type": "execute_result"
    }
   ],
   "source": [
    "// printVerilog(new UtilArbDemo(2,8))\n",
    "val numPorts = 4\n",
    "test(new UtilArbDemo(numPorts,8)) { c =>\n",
    "    c.io.out.ready.poke(true.B)\n",
    "    for (cycle <- 0 until 5) {\n",
    "        for (p <- 0 until numPorts) {\n",
    "            c.io.req(p).bits.poke(p.U)\n",
    "            c.io.req(p).valid.poke((p >= cycle).B)\n",
    "        }\n",
    "        c.clock.step()\n",
    "    }\n",
    "}"
   ]
  },
  {
   "cell_type": "markdown",
   "id": "7a520e35",
   "metadata": {
    "slideshow": {
     "slide_type": "slide"
    }
   },
   "source": [
    "## Implementing Our Own Arbiter (1/3)\n",
    "\n",
    "<p>\n",
    "<img src=\"images/myarb.svg\" alt=\"arbiter schematic\" style=\"width:70%;margin-left:auto;margin-right:auto\"/>"
   ]
  },
  {
   "cell_type": "markdown",
   "id": "gorgeous-function",
   "metadata": {
    "slideshow": {
     "slide_type": "slide"
    }
   },
   "source": [
    "## Implementing Our Own Arbiter (2/3)"
   ]
  },
  {
   "cell_type": "code",
   "execution_count": 11,
   "id": "young-asian",
   "metadata": {
    "slideshow": {
     "slide_type": "-"
    }
   },
   "outputs": [
    {
     "data": {
      "text/plain": [
       "defined \u001b[32mclass\u001b[39m \u001b[36mMyArb\u001b[39m"
      ]
     },
     "execution_count": 11,
     "metadata": {},
     "output_type": "execute_result"
    }
   ],
   "source": [
    "class MyArb(numPorts: Int, w: Int) extends Module {\n",
    "    val io = IO(new Bundle {\n",
    "        val req = Flipped(Vec(numPorts, Decoupled(UInt(w.W))))\n",
    "        val out = Decoupled(UInt(w.W))\n",
    "    })\n",
    "    require (numPorts > 0)\n",
    "    val inValids = Wire(Vec(numPorts, Bool()))\n",
    "    val inBits   = Wire(Vec(numPorts, UInt(w.W)))\n",
    "    for (p <- 0 until numPorts) {\n",
    "        io.req(p).ready := false.B\n",
    "        inValids(p) := io.req(p).valid\n",
    "        inBits(p) := io.req(p).bits\n",
    "    }\n",
    "    val chosenOH = PriorityEncoderOH(inValids)\n",
    "    io.out.valid := inValids.asUInt.orR\n",
    "    io.out.bits := Mux1H(chosenOH, inBits)\n",
    "    val chosen = OHToUInt(chosenOH)\n",
    "    when (io.out.fire) {\n",
    "        io.req(chosen).ready := true.B\n",
    "    }\n",
    "}"
   ]
  },
  {
   "cell_type": "markdown",
   "id": "honest-symposium",
   "metadata": {
    "slideshow": {
     "slide_type": "slide"
    }
   },
   "source": [
    "## Implementing Our Own Arbiter (3/3)"
   ]
  },
  {
   "cell_type": "code",
   "execution_count": 12,
   "id": "elementary-whale",
   "metadata": {},
   "outputs": [
    {
     "data": {
      "text/plain": [
       "defined \u001b[32mclass\u001b[39m \u001b[36mMyArb\u001b[39m"
      ]
     },
     "execution_count": 12,
     "metadata": {},
     "output_type": "execute_result"
    }
   ],
   "source": [
    "class MyArb(numPorts: Int, w: Int) extends Module {\n",
    "    val io = IO(new Bundle {\n",
    "        val req = Flipped(Vec(numPorts, Decoupled(UInt(w.W))))\n",
    "        val out = Decoupled(UInt(w.W))\n",
    "    })\n",
    "    require (numPorts > 0)\n",
    "    val inValids = Wire(Vec(numPorts, Bool()))\n",
    "    val inBits   = Wire(Vec(numPorts, UInt(w.W)))\n",
    "    val chosenOH = PriorityEncoderOH(inValids)\n",
    "    for (p <- 0 until numPorts) {\n",
    "        io.req(p).ready := chosenOH(p) && io.out.fire\n",
    "        inValids(p) := io.req(p).valid\n",
    "        inBits(p) := io.req(p).bits\n",
    "    }\n",
    "    io.out.valid := inValids.asUInt.orR\n",
    "    io.out.bits := Mux1H(chosenOH, inBits)\n",
    "}"
   ]
  },
  {
   "cell_type": "markdown",
   "id": "touched-label",
   "metadata": {
    "slideshow": {
     "slide_type": "slide"
    }
   },
   "source": [
    "## Testing Our Arbiter (1/2)"
   ]
  },
  {
   "cell_type": "code",
   "execution_count": 13,
   "id": "signal-texture",
   "metadata": {
    "scrolled": true,
    "slideshow": {
     "slide_type": "-"
    }
   },
   "outputs": [
    {
     "data": {
      "text/plain": [
       "defined \u001b[32mclass\u001b[39m \u001b[36mArbDemo\u001b[39m"
      ]
     },
     "execution_count": 13,
     "metadata": {},
     "output_type": "execute_result"
    }
   ],
   "source": [
    "class ArbDemo(numPorts: Int, w: Int) extends Module {\n",
    "    val io = IO(new Bundle {\n",
    "        val req = Flipped(Vec(numPorts, Decoupled(UInt(w.W))))\n",
    "        val out = Decoupled(UInt(w.W))\n",
    "    })\n",
    "    require (numPorts > 0)\n",
    "    val arb = Module(new MyArb(numPorts,w))\n",
    "    for (p <- 0 until numPorts) {\n",
    "        arb.io.req(p) <> io.req(p) \n",
    "    }\n",
    "    io.out <> arb.io.out\n",
    "    printf(\"req: \")\n",
    "    for (p <- numPorts-1 to 0 by -1) {\n",
    "        printf(\"%b\", arb.io.req(p).valid)\n",
    "    }\n",
    "    printf(\" winner: %d (v: %b)\\n\", arb.io.out.bits, arb.io.out.valid)\n",
    "}"
   ]
  },
  {
   "cell_type": "markdown",
   "id": "706aab9e",
   "metadata": {
    "slideshow": {
     "slide_type": "slide"
    }
   },
   "source": [
    "## Testing Our Arbiter (2/2)"
   ]
  },
  {
   "cell_type": "code",
   "execution_count": 14,
   "id": "629684a0-2220-4f05-8da0-f82ef8312ca4",
   "metadata": {},
   "outputs": [
    {
     "name": "stdout",
     "output_type": "stream",
     "text": [
      "Elaborating design...\n",
      "Done elaborating.\n",
      "module MyArb(\n",
      "  output       io_req_0_ready,\n",
      "  input        io_req_0_valid,\n",
      "  input  [7:0] io_req_0_bits,\n",
      "  output       io_req_1_ready,\n",
      "  input        io_req_1_valid,\n",
      "  input  [7:0] io_req_1_bits,\n",
      "  input        io_out_ready,\n",
      "  output       io_out_valid,\n",
      "  output [7:0] io_out_bits\n",
      ");\n",
      "  wire [1:0] _enc_T = io_req_1_valid ? 2'h2 : 2'h0; // @[Mux.scala 47:69]\n",
      "  wire [1:0] enc = io_req_0_valid ? 2'h1 : _enc_T; // @[Mux.scala 47:69]\n",
      "  wire  chosenOH_0 = enc[0]; // @[OneHot.scala 83:30]\n",
      "  wire  chosenOH_1 = enc[1]; // @[OneHot.scala 83:30]\n",
      "  wire  _T = io_out_ready & io_out_valid; // @[Decoupled.scala 40:37]\n",
      "  wire [1:0] _T_4 = {io_req_1_valid,io_req_0_valid}; // @[cmd11.sc 15:30]\n",
      "  wire [7:0] _T_6 = chosenOH_0 ? io_req_0_bits : 8'h0; // @[Mux.scala 27:72]\n",
      "  wire [7:0] _T_7 = chosenOH_1 ? io_req_1_bits : 8'h0; // @[Mux.scala 27:72]\n",
      "  assign io_req_0_ready = chosenOH_0 & _T; // @[cmd11.sc 11:40]\n",
      "  assign io_req_1_ready = chosenOH_1 & _T; // @[cmd11.sc 11:40]\n",
      "  assign io_out_valid = |_T_4; // @[cmd11.sc 15:37]\n",
      "  assign io_out_bits = _T_6 | _T_7; // @[Mux.scala 27:72]\n",
      "endmodule\n",
      "module ArbDemo(\n",
      "  input        clock,\n",
      "  input        reset,\n",
      "  output       io_req_0_ready,\n",
      "  input        io_req_0_valid,\n",
      "  input  [7:0] io_req_0_bits,\n",
      "  output       io_req_1_ready,\n",
      "  input        io_req_1_valid,\n",
      "  input  [7:0] io_req_1_bits,\n",
      "  input        io_out_ready,\n",
      "  output       io_out_valid,\n",
      "  output [7:0] io_out_bits\n",
      ");\n",
      "  wire  arb_io_req_0_ready; // @[cmd12.sc 7:21]\n",
      "  wire  arb_io_req_0_valid; // @[cmd12.sc 7:21]\n",
      "  wire [7:0] arb_io_req_0_bits; // @[cmd12.sc 7:21]\n",
      "  wire  arb_io_req_1_ready; // @[cmd12.sc 7:21]\n",
      "  wire  arb_io_req_1_valid; // @[cmd12.sc 7:21]\n",
      "  wire [7:0] arb_io_req_1_bits; // @[cmd12.sc 7:21]\n",
      "  wire  arb_io_out_ready; // @[cmd12.sc 7:21]\n",
      "  wire  arb_io_out_valid; // @[cmd12.sc 7:21]\n",
      "  wire [7:0] arb_io_out_bits; // @[cmd12.sc 7:21]\n",
      "  wire  _T_1 = ~reset; // @[cmd12.sc 12:11]\n",
      "  MyArb arb ( // @[cmd12.sc 7:21]\n",
      "    .io_req_0_ready(arb_io_req_0_ready),\n",
      "    .io_req_0_valid(arb_io_req_0_valid),\n",
      "    .io_req_0_bits(arb_io_req_0_bits),\n",
      "    .io_req_1_ready(arb_io_req_1_ready),\n",
      "    .io_req_1_valid(arb_io_req_1_valid),\n",
      "    .io_req_1_bits(arb_io_req_1_bits),\n",
      "    .io_out_ready(arb_io_out_ready),\n",
      "    .io_out_valid(arb_io_out_valid),\n",
      "    .io_out_bits(arb_io_out_bits)\n",
      "  );\n",
      "  assign io_req_0_ready = arb_io_req_0_ready; // @[cmd12.sc 9:23]\n",
      "  assign io_req_1_ready = arb_io_req_1_ready; // @[cmd12.sc 9:23]\n",
      "  assign io_out_valid = arb_io_out_valid; // @[cmd12.sc 11:12]\n",
      "  assign io_out_bits = arb_io_out_bits; // @[cmd12.sc 11:12]\n",
      "  assign arb_io_req_0_valid = io_req_0_valid; // @[cmd12.sc 9:23]\n",
      "  assign arb_io_req_0_bits = io_req_0_bits; // @[cmd12.sc 9:23]\n",
      "  assign arb_io_req_1_valid = io_req_1_valid; // @[cmd12.sc 9:23]\n",
      "  assign arb_io_req_1_bits = io_req_1_bits; // @[cmd12.sc 9:23]\n",
      "  assign arb_io_out_ready = io_out_ready; // @[cmd12.sc 11:12]\n",
      "  always @(posedge clock) begin\n",
      "    `ifndef SYNTHESIS\n",
      "    `ifdef PRINTF_COND\n",
      "      if (`PRINTF_COND) begin\n",
      "    `endif\n",
      "        if (~reset) begin\n",
      "          $fwrite(32'h80000002,\"req: \"); // @[cmd12.sc 12:11]\n",
      "        end\n",
      "    `ifdef PRINTF_COND\n",
      "      end\n",
      "    `endif\n",
      "    `endif // SYNTHESIS\n",
      "    `ifndef SYNTHESIS\n",
      "    `ifdef PRINTF_COND\n",
      "      if (`PRINTF_COND) begin\n",
      "    `endif\n",
      "        if (_T_1) begin\n",
      "          $fwrite(32'h80000002,\"%b\",arb_io_req_1_valid); // @[cmd12.sc 14:15]\n",
      "        end\n",
      "    `ifdef PRINTF_COND\n",
      "      end\n",
      "    `endif\n",
      "    `endif // SYNTHESIS\n",
      "    `ifndef SYNTHESIS\n",
      "    `ifdef PRINTF_COND\n",
      "      if (`PRINTF_COND) begin\n",
      "    `endif\n",
      "        if (_T_1) begin\n",
      "          $fwrite(32'h80000002,\"%b\",arb_io_req_0_valid); // @[cmd12.sc 14:15]\n",
      "        end\n",
      "    `ifdef PRINTF_COND\n",
      "      end\n",
      "    `endif\n",
      "    `endif // SYNTHESIS\n",
      "    `ifndef SYNTHESIS\n",
      "    `ifdef PRINTF_COND\n",
      "      if (`PRINTF_COND) begin\n",
      "    `endif\n",
      "        if (_T_1) begin\n",
      "          $fwrite(32'h80000002,\" winner: %d (v: %b)\\n\",arb_io_out_bits,arb_io_out_valid); // @[cmd12.sc 16:11]\n",
      "        end\n",
      "    `ifdef PRINTF_COND\n",
      "      end\n",
      "    `endif\n",
      "    `endif // SYNTHESIS\n",
      "  end\n",
      "endmodule\n",
      "\n"
     ]
    }
   ],
   "source": [
    "println (getVerilog(new ArbDemo(2,8)))"
   ]
  },
  {
   "cell_type": "code",
   "execution_count": 15,
   "id": "7fbd91b5",
   "metadata": {},
   "outputs": [
    {
     "name": "stdout",
     "output_type": "stream",
     "text": [
      "Elaborating design...\n",
      "Done elaborating.\n",
      "req: 1111 winner:    0 (v: 1)\n",
      "req: 1110 winner:    1 (v: 1)\n",
      "req: 1100 winner:    2 (v: 1)\n",
      "req: 1000 winner:    3 (v: 1)\n",
      "req: 0000 winner:    0 (v: 0)\n",
      "req: 0000 winner:    0 (v: 0)\n",
      "test ArbDemo Success: 0 tests passed in 7 cycles in 0.035941 seconds 194.77 Hz\n"
     ]
    },
    {
     "data": {
      "text/plain": [
       "\u001b[36mnumPorts\u001b[39m: \u001b[32mInt\u001b[39m = \u001b[32m4\u001b[39m"
      ]
     },
     "execution_count": 15,
     "metadata": {},
     "output_type": "execute_result"
    }
   ],
   "source": [
    "// printVerilog(new ArbDemo(2,8))\n",
    "\n",
    "val numPorts = 4\n",
    "test(new ArbDemo(numPorts,8)) { c =>\n",
    "    c.io.out.ready.poke(true.B)\n",
    "    for (cycle <- 0 until 5) {\n",
    "        for (p <- 0 until numPorts) {\n",
    "            c.io.req(p).bits.poke(p.U)\n",
    "            c.io.req(p).valid.poke((p >= cycle).B)\n",
    "        }\n",
    "        c.clock.step()\n",
    "    }\n",
    "}"
   ]
  },
  {
   "cell_type": "markdown",
   "id": "missing-pocket",
   "metadata": {
    "slideshow": {
     "slide_type": "slide"
    }
   },
   "source": [
    "## Example Crossbar in Chisel\n",
    "\n",
    "* Connects `numIns` input ports to `numOuts` output ports\n",
    "  * All ports are `Decoupled`\n",
    "\n",
    "<img src=\"images/xbar.svg\" alt=\"xbar schematic\" style=\"width:30%;margin-left:auto;margin-right:auto\"/>"
   ]
  },
  {
   "cell_type": "markdown",
   "id": "electronic-helena",
   "metadata": {
    "slideshow": {
     "slide_type": "slide"
    }
   },
   "source": [
    "## Example Crossbar Implementation (1/2)"
   ]
  },
  {
   "cell_type": "code",
   "execution_count": 16,
   "id": "obvious-attack",
   "metadata": {
    "cell_style": "center"
   },
   "outputs": [
    {
     "data": {
      "text/plain": [
       "defined \u001b[32mclass\u001b[39m \u001b[36mMessage\u001b[39m\n",
       "defined \u001b[32mclass\u001b[39m \u001b[36mXBarIO\u001b[39m"
      ]
     },
     "execution_count": 16,
     "metadata": {},
     "output_type": "execute_result"
    }
   ],
   "source": [
    "class Message(numOuts: Int, length: Int) extends Bundle {\n",
    "    val addr = UInt(log2Ceil(numOuts).W)\n",
    "    val data = UInt(length.W)\n",
    "}\n",
    "\n",
    "class XBarIO(numIns: Int, numOuts: Int, length: Int) extends Bundle {\n",
    "    val in  = Vec(numIns, Flipped(Decoupled(new Message(numOuts, length))))\n",
    "    val out = Vec(numOuts, Decoupled(new Message(numOuts, length)))\n",
    "}"
   ]
  },
  {
   "cell_type": "markdown",
   "id": "clean-porter",
   "metadata": {
    "slideshow": {
     "slide_type": "slide"
    }
   },
   "source": [
    "## Example Crossbar Implementation (2/2)"
   ]
  },
  {
   "cell_type": "code",
   "execution_count": 17,
   "id": "nearby-linux",
   "metadata": {
    "scrolled": true
   },
   "outputs": [
    {
     "data": {
      "text/plain": [
       "defined \u001b[32mclass\u001b[39m \u001b[36mXBar\u001b[39m"
      ]
     },
     "execution_count": 17,
     "metadata": {},
     "output_type": "execute_result"
    }
   ],
   "source": [
    "class XBar(numIns: Int, numOuts: Int, length: Int) extends Module {\n",
    "    val io = IO(new XBarIO(numIns, numOuts, length))\n",
    "    val arbs = Seq.fill(numOuts)(Module(new RRArbiter(new Message(numOuts, length), numIns)))\n",
    "    for (ip <- 0 until numIns) {\n",
    "        val inReadys = Wire(Vec(numOuts, Bool()))\n",
    "        for (op <- 0 until numOuts) {\n",
    "            inReadys(op) := arbs(op).io.in(ip).ready\n",
    "        }\n",
    "        io.in(ip).ready := inReadys(io.in(ip).bits.addr)\n",
    "    }\n",
    "    for (op <- 0 until numOuts) {\n",
    "        for (ip <- 0 until numIns) {\n",
    "            arbs(op).io.in(ip).bits <> io.in(ip).bits\n",
    "            arbs(op).io.in(ip).valid := io.in(ip).valid && (io.in(ip).bits.addr === op.U)\n",
    "        }\n",
    "        io.out(op) <> arbs(op).io.out\n",
    "    }\n",
    "    for (op <- 0 until numOuts) {\n",
    "        printf(\" %d -> %d (%b)\", io.out(op).bits.data, op.U, io.out(op).valid)\n",
    "    }\n",
    "    printf(\"\\n\")\n",
    "}\n",
    "\n",
    "// printVerilog(new XBar(2,1,8))"
   ]
  },
  {
   "cell_type": "code",
   "execution_count": 17,
   "id": "09c333dd-2a2b-4102-ab0d-bb8b63a946b7",
   "metadata": {},
   "outputs": [],
   "source": [
    "//println (getVerilog(new XBar(2,1,8)))"
   ]
  },
  {
   "cell_type": "markdown",
   "id": "removed-north",
   "metadata": {
    "slideshow": {
     "slide_type": "slide"
    }
   },
   "source": [
    "## Example Crossbar Demo"
   ]
  },
  {
   "cell_type": "code",
   "execution_count": 17,
   "id": "compliant-joining",
   "metadata": {},
   "outputs": [],
   "source": [
    "// Below code run forever.\n",
    "/*\n",
    "val numIns = 4\n",
    "val numOuts = 2\n",
    "test(new XBar(numIns,numOuts,8)) { c =>\n",
    "    for (ip <- 0 until numIns) {\n",
    "        c.io.in(ip).valid.poke(true.B)\n",
    "        c.io.in(ip).bits.data.poke(ip.U)\n",
    "        c.io.in(ip).bits.addr.poke((ip % numOuts).U)\n",
    "    }\n",
    "    for (op <- 0 until numOuts) {\n",
    "        c.io.out(op).ready.poke(true.B)\n",
    "    }\n",
    "    for (cycle <- 0 until 4) {\n",
    "        c.clock.step()\n",
    "    }\n",
    "}\n",
    "*/"
   ]
  }
 ],
 "metadata": {
  "celltoolbar": "Slideshow",
  "kernelspec": {
   "display_name": "Scala 2.12.11",
   "language": "scala",
   "name": "scala_2_12_11"
  },
  "language_info": {
   "codemirror_mode": "text/x-scala",
   "file_extension": ".scala",
   "mimetype": "text/x-scala",
   "name": "scala",
   "nbconvert_exporter": "script",
   "version": "2.12.11"
  }
 },
 "nbformat": 4,
 "nbformat_minor": 5
}
