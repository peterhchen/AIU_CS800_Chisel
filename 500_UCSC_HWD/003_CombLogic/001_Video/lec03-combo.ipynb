{
 "cells": [
  {
   "cell_type": "markdown",
   "id": "9f255c07-d076-4587-87d3-56f3ed8d72f3",
   "metadata": {
    "slideshow": {
     "slide_type": "slide"
    }
   },
   "source": [
    "## Agile Hardware Design\n",
    "***\n",
    "# Combinational Logic\n",
    "\n",
    "<img src=\"./images/chisel_1024.png\" alt=\"agile hardware design logo\" style=\"float:right; width: 200px;\" />\n",
    "\n",
    "## Prof. Scott Beamer\n",
    "### sbeamer@ucsc.edu\n",
    "\n",
    "## [CSE 228A](https://classes.soe.ucsc.edu/cse228a/Winter24/)"
   ]
  },
  {
   "cell_type": "markdown",
   "id": "nominated-consistency",
   "metadata": {
    "slideshow": {
     "slide_type": "slide"
    }
   },
   "source": [
    "## Plan for Today\n",
    "\n",
    "* A Bit of parameterization\n",
    "* Scala/Chisel conditionals\n",
    "* _Result:_ comfortably construct combinational circuits"
   ]
  },
  {
   "cell_type": "markdown",
   "id": "0686b6b0-2f2c-4ac3-a1fa-c848091a5ee3",
   "metadata": {},
   "source": [
    "## Test Chisel Library ##"
   ]
  },
  {
   "cell_type": "code",
   "execution_count": 22,
   "id": "robust-immigration",
   "metadata": {},
   "outputs": [
    {
     "name": "stdout",
     "output_type": "stream",
     "text": [
      "path: /home/peter/AIU/AIU_CS800_Chisel/500_UCSC_HWD/003_CombLogic/001_Code/source/load-ivy.sc\n"
     ]
    },
    {
     "data": {
      "text/plain": [
       "\u001b[36mpath\u001b[39m: \u001b[32mString\u001b[39m = \u001b[32m\"/home/peter/AIU/AIU_CS800_Chisel/500_UCSC_HWD/003_CombLogic/001_Code/source/load-ivy.sc\"\u001b[39m"
      ]
     },
     "execution_count": 22,
     "metadata": {},
     "output_type": "execute_result"
    }
   ],
   "source": [
    "// Before we start. We test for UCB stcture and make sure they worked.\n",
    "// Below, we test for UCB stcture and make sure they worked.\n",
    "val path = System.getProperty(\"user.dir\") + \"/source/load-ivy.sc\"\n",
    "println(\"path: \"+path)\n",
    "interp.load.module(ammonite.ops.Path(java.nio.file.FileSystems.getDefault().getPath(path)))"
   ]
  },
  {
   "cell_type": "code",
   "execution_count": 23,
   "id": "960964b9-c5e9-4a42-bff0-e5a34befdbea",
   "metadata": {},
   "outputs": [
    {
     "data": {
      "text/plain": [
       "\u001b[32mimport \u001b[39m\u001b[36mchisel3._\n",
       "\u001b[39m\n",
       "\u001b[32mimport \u001b[39m\u001b[36mchisel3.util._\n",
       "\u001b[39m\n",
       "\u001b[32mimport \u001b[39m\u001b[36mchisel3.tester._\n",
       "\u001b[39m\n",
       "\u001b[32mimport \u001b[39m\u001b[36mchisel3.tester.RawTester.test\n",
       "\u001b[39m\n",
       "\u001b[32mimport \u001b[39m\u001b[36mdotvisualizer._\u001b[39m"
      ]
     },
     "execution_count": 23,
     "metadata": {},
     "output_type": "execute_result"
    }
   ],
   "source": [
    "import chisel3._\n",
    "import chisel3.util._\n",
    "import chisel3.tester._\n",
    "import chisel3.tester.RawTester.test\n",
    "import dotvisualizer._"
   ]
  },
  {
   "cell_type": "code",
   "execution_count": 24,
   "id": "28dc22f8-ac9a-439b-b3dc-578a02c6307c",
   "metadata": {},
   "outputs": [
    {
     "name": "stdout",
     "output_type": "stream",
     "text": [
      "Elaborating design...\n",
      "Done elaborating.\n",
      "module Passthrough(\n",
      "  input        clock,\n",
      "  input        reset,\n",
      "  input  [3:0] io_in,\n",
      "  output [3:0] io_out\n",
      ");\n",
      "  assign io_out = io_in; // @[cmd23.sc 6:10]\n",
      "endmodule\n",
      "\n"
     ]
    },
    {
     "data": {
      "text/plain": [
       "defined \u001b[32mclass\u001b[39m \u001b[36mPassthrough\u001b[39m"
      ]
     },
     "execution_count": 24,
     "metadata": {},
     "output_type": "execute_result"
    }
   ],
   "source": [
    "// Chisel Code: Declare a new module definition\n",
    "class Passthrough extends Module {\n",
    "  val io = IO(new Bundle {\n",
    "    val in = Input(UInt(4.W))\n",
    "    val out = Output(UInt(4.W))\n",
    "  })\n",
    "  io.out := io.in\n",
    "}\n",
    "\n",
    "// Scala Code: Elaborate our Chisel design by translating it to Verilog\n",
    "// Don't worry about understanding this code; it is very complicated Scala\n",
    "println(getVerilog(new Passthrough))"
   ]
  },
  {
   "cell_type": "markdown",
   "id": "regular-reducing",
   "metadata": {
    "slideshow": {
     "slide_type": "slide"
    }
   },
   "source": [
    "## Loading The Chisel Library Into a Notebook"
   ]
  },
  {
   "cell_type": "code",
   "execution_count": 25,
   "id": "extended-burning",
   "metadata": {
    "slideshow": {
     "slide_type": "-"
    }
   },
   "outputs": [
    {
     "data": {
      "text/plain": [
       "\u001b[32mimport \u001b[39m\u001b[36mchisel3._\n",
       "\u001b[39m\n",
       "\u001b[32mimport \u001b[39m\u001b[36mchisel3.util._\n",
       "\u001b[39m\n",
       "\u001b[32mimport \u001b[39m\u001b[36mchiseltest._\n",
       "\u001b[39m\n",
       "\u001b[32mimport \u001b[39m\u001b[36mchiseltest.RawTester.test\u001b[39m"
      ]
     },
     "execution_count": 25,
     "metadata": {},
     "output_type": "execute_result"
    }
   ],
   "source": [
    "import chisel3._\n",
    "import chisel3.util._\n",
    "import chiseltest._\n",
    "import chiseltest.RawTester.test"
   ]
  },
  {
   "cell_type": "markdown",
   "id": "4459fe66-2fd8-478d-96d4-2be76a83c0bd",
   "metadata": {
    "cell_style": "split",
    "slideshow": {
     "slide_type": "slide"
    }
   },
   "source": [
    "## Chisel Multiplexors (Mux)\n",
    "\n",
    "* Can explicitly instantiate a _mux_\n",
    "```scala\n",
    "Mux(select, in1, in0)\n",
    "```\n",
    "* _Note:_ input 1 (true case) is first, analogous to ternary (`?`) from Verilog/C\n",
    "* More flavors of muxes (e.g. `MuxCase`, `Mux1H`) available in [Chisel Library](https://javadoc.io/doc/edu.berkeley.cs/chisel3_2.13/latest/chisel3/util/Mux1H$.html)\n",
    "\n",
    "<p>\n",
    "<img src=\"images/mux.svg\" alt=\"mux schematic\" style=\"width:60%;margin:auto\"/>"
   ]
  },
  {
   "cell_type": "code",
   "execution_count": 26,
   "id": "extraordinary-recipe",
   "metadata": {
    "cell_style": "split"
   },
   "outputs": [
    {
     "name": "stdout",
     "output_type": "stream",
     "text": [
      "Elaborating design...\n",
      "Done elaborating.\n",
      "module MyMux(\n",
      "  input   clock,\n",
      "  input   reset,\n",
      "  input   io_s,\n",
      "  input   io_in0,\n",
      "  input   io_in1,\n",
      "  output  io_out\n",
      ");\n",
      "  assign io_out = io_s ? io_in1 : io_in0; // @[cmd25.sc 8:18]\n",
      "endmodule\n",
      "\n"
     ]
    },
    {
     "data": {
      "text/plain": [
       "defined \u001b[32mclass\u001b[39m \u001b[36mMyMux\u001b[39m"
      ]
     },
     "execution_count": 26,
     "metadata": {},
     "output_type": "execute_result"
    }
   ],
   "source": [
    "class MyMux extends Module {\n",
    "    val io = IO(new Bundle {\n",
    "        val s   = Input(Bool())\n",
    "        val in0 = Input(Bool())\n",
    "        val in1 = Input(Bool())\n",
    "        val out = Output(Bool())\n",
    "    })\n",
    "    io.out := Mux(io.s, io.in1, io.in0)\n",
    "}\n",
    "//printVerilog(new MyMux)\n",
    "println(getVerilog(new MyMux))"
   ]
  },
  {
   "cell_type": "markdown",
   "id": "precious-mainstream",
   "metadata": {
    "slideshow": {
     "slide_type": "slide"
    }
   },
   "source": [
    "## A Bit More on Scala's `class`\n",
    "\n",
    "* Arguments are constructor parameters\n",
    "* Make a class instance with `new`, and internals are evaluated on instantiation\n",
    "* Default scope for internals is public\n",
    "* Arguments need `val` to be made public\n",
    "* Will cover methods and overloading later"
   ]
  },
  {
   "cell_type": "code",
   "execution_count": 27,
   "id": "falling-helena",
   "metadata": {},
   "outputs": [
    {
     "name": "stdout",
     "output_type": "stream",
     "text": [
      "Created mc\n",
      "mc\n"
     ]
    },
    {
     "data": {
      "text/plain": [
       "defined \u001b[32mclass\u001b[39m \u001b[36mMyClass\u001b[39m\n",
       "\u001b[36mmc\u001b[39m: \u001b[32mMyClass\u001b[39m = ammonite.$sess.cmd26$Helper$MyClass@18f50b52"
      ]
     },
     "execution_count": 27,
     "metadata": {},
     "output_type": "execute_result"
    }
   ],
   "source": [
    "class MyClass(argS: String, argI: Int) {\n",
    "    val name = argS\n",
    "    println(\"Created \" + argS)\n",
    "}\n",
    "val mc = new MyClass(\"mc\", 4)\n",
    "// mc.name = \"foo\"\n",
    "println(mc.name)\n",
    "// println(mc.argI)"
   ]
  },
  {
   "cell_type": "markdown",
   "id": "29c45711-cd29-4e2e-9957-c9e738620cec",
   "metadata": {
    "cell_style": "split",
    "slideshow": {
     "slide_type": "slide"
    }
   },
   "source": [
    "## Parameterizing the Mux Width\n",
    "\n",
    "* Can use class arguments to parameterize our module\n",
    "* Recommend using Scala types for parameters, and then casting (if necessary) inside module\n",
    "\n",
    "<p>\n",
    "<img src=\"images/muxw.svg\" alt=\"mux schematic\" style=\"width:60%;margin:auto\"/>"
   ]
  },
  {
   "cell_type": "code",
   "execution_count": 28,
   "id": "hawaiian-worker",
   "metadata": {
    "cell_style": "split"
   },
   "outputs": [
    {
     "name": "stdout",
     "output_type": "stream",
     "text": [
      "Elaborating design...\n",
      "Done elaborating.\n",
      "module MyPMux(\n",
      "  input        clock,\n",
      "  input        reset,\n",
      "  input        io_s,\n",
      "  input  [7:0] io_in0,\n",
      "  input  [7:0] io_in1,\n",
      "  output [7:0] io_out\n",
      ");\n",
      "  assign io_out = io_s ? io_in1 : io_in0; // @[cmd27.sc 8:18]\n",
      "endmodule\n",
      "\n"
     ]
    },
    {
     "data": {
      "text/plain": [
       "defined \u001b[32mclass\u001b[39m \u001b[36mMyPMux\u001b[39m"
      ]
     },
     "execution_count": 28,
     "metadata": {},
     "output_type": "execute_result"
    }
   ],
   "source": [
    "class MyPMux(w: Int) extends Module {\n",
    "    val io = IO(new Bundle {\n",
    "        val s   = Input(Bool())\n",
    "        val in0 = Input(UInt(w.W))\n",
    "        val in1 = Input(UInt(w.W))\n",
    "        val out = Output(UInt(w.W))\n",
    "    })\n",
    "    io.out := Mux(io.s, io.in1, io.in0)\n",
    "}\n",
    "//printVerilog(new MyPMux(8))\n",
    "println(getVerilog(new MyPMux(8)))"
   ]
  },
  {
   "cell_type": "markdown",
   "id": "twelve-seven",
   "metadata": {
    "cell_style": "split",
    "slideshow": {
     "slide_type": "slide"
    }
   },
   "source": [
    "## Scala `if/else`\n",
    "\n",
    "* If/else akin to other languages\n",
    "* _Note:_ due to functional nature of language, if/else returns last value of evaluated clause\n",
    "* Can omit parenthesis if only one statement for clause\n",
    "  * If short, style recommends keeping entire if one line"
   ]
  },
  {
   "cell_type": "code",
   "execution_count": 29,
   "id": "russian-sociology",
   "metadata": {
    "cell_style": "split"
   },
   "outputs": [
    {
     "name": "stdout",
     "output_type": "stream",
     "text": [
      "true case\n",
      "3\n"
     ]
    },
    {
     "data": {
      "text/plain": [
       "\u001b[36mcondition\u001b[39m: \u001b[32mBoolean\u001b[39m = true\n",
       "\u001b[36mx\u001b[39m: \u001b[32mInt\u001b[39m = \u001b[32m3\u001b[39m"
      ]
     },
     "execution_count": 29,
     "metadata": {},
     "output_type": "execute_result"
    }
   ],
   "source": [
    "val condition = true\n",
    "if (condition) {\n",
    "    println(\"true case\")\n",
    "} else {\n",
    "    println(\"false case\")\n",
    "}\n",
    "val x = if (condition) 3 else 4\n",
    "println(x)"
   ]
  },
  {
   "cell_type": "markdown",
   "id": "dressed-poison",
   "metadata": {
    "slideshow": {
     "slide_type": "slide"
    }
   },
   "source": [
    "## Contrasting Conditional Execution/Selection"
   ]
  },
  {
   "cell_type": "markdown",
   "id": "9b18c61c-c263-4a1c-9fee-17447199500d",
   "metadata": {
    "cell_style": "split",
    "slideshow": {
     "slide_type": "fragment"
    }
   },
   "source": [
    "### In Circuit (Chisel Mux)\n",
    "\n",
    "* Selects based on actual circuit inputs\n",
    "* Hardware contains both \"ways\"\n",
    "\n",
    "```scala\n",
    "val absX = Mux(x < 0.S, -x, x)\n",
    "```\n",
    "\n",
    "<img src=\"images/absMux.svg\" alt=\"mux schematic\" style=\"width:55%;margin:auto\"/>"
   ]
  },
  {
   "cell_type": "markdown",
   "id": "36d07c0f-f157-454c-be53-36e582042162",
   "metadata": {
    "cell_style": "split",
    "slideshow": {
     "slide_type": "fragment"
    }
   },
   "source": [
    "### During Generation (Scala if/else)\n",
    "\n",
    "* Executed path generates hardware\n",
    "* Depends on generator parameters, not circuit inputs\n",
    "\n",
    "```scala\n",
    "val invX = if (invert) -x else x\n",
    "```\n",
    "\n",
    "<img src=\"images/invCond.svg\" alt=\"conditional schematic\" style=\"width:55%;margin:auto\"/>"
   ]
  },
  {
   "cell_type": "markdown",
   "id": "bd237602-4553-4fac-8b50-f43345cbdd8f",
   "metadata": {
    "slideshow": {
     "slide_type": "slide"
    }
   },
   "source": [
    "## Chisel Tool Flow Frontend (from lecture 2)\n",
    "\n",
    "<img src=\"./images/frontend.svg\" alt=\"Chisel frontend\" style=\"width:80%;margin:auto\"/>\n",
    "\n",
    "* The generated Circuit (`.fir` file) is a specific design instance, and it can be passed off to a _backend_ for simulation or implementation"
   ]
  },
  {
   "cell_type": "markdown",
   "id": "0141f7df",
   "metadata": {
    "slideshow": {
     "slide_type": "slide"
    }
   },
   "source": [
    "## Chisel Execution\n",
    "\n",
    "### Elaborated Hardware design is a useful byproduct of your Chisel program\n",
    "* Your Chisel design is a Scala program\n",
    "* As the program executes, under-the-hood it builds up your design using the Chisel Library\n",
    "* As the program ends, it _elaborates_ (outputs) the design as a firrtl file (concrete instance)"
   ]
  },
  {
   "cell_type": "markdown",
   "id": "62aaedf0",
   "metadata": {
    "slideshow": {
     "slide_type": "fragment"
    }
   },
   "source": [
    "### Core operations in Chisel are simple, Scala combines them productively\n",
    "* Chisel _components are simple_ things like logic operators, wires, registers, and modules\n",
    "* To make a design, these components need to be _instantiated_ and _connected_\n",
    "* Is _productive_ to use Scala to programmatically instantiate and connect components (meta programming)\n",
    "* Designing with Chisel is programming _spatially_ (creating & connecting components) instead of _temporally_ (conventional software which is about order of operations)"
   ]
  },
  {
   "cell_type": "markdown",
   "id": "novel-product",
   "metadata": {
    "slideshow": {
     "slide_type": "slide"
    }
   },
   "source": [
    "## Scala Values Are References to Chisel Objects\n",
    "\n",
    "* Our generators are simply instantiating Chisel objects and connecting them together\n",
    "  * Scala program allows us to control which objects & connections\n",
    "* The connect operator (`:=`) assigns output of right hand side to input of left hand side\n",
    "* Can use Scala references to name intermediate results"
   ]
  },
  {
   "cell_type": "code",
   "execution_count": 30,
   "id": "recorded-reducing",
   "metadata": {
    "cell_style": "split",
    "slideshow": {
     "slide_type": "-"
    }
   },
   "outputs": [
    {
     "name": "stdout",
     "output_type": "stream",
     "text": [
      "Elaborating design...\n",
      "Done elaborating.\n",
      "module MyXOR(\n",
      "  input   clock,\n",
      "  input   reset,\n",
      "  input   io_a,\n",
      "  input   io_b,\n",
      "  output  io_c\n",
      ");\n",
      "  assign io_c = io_a ^ io_b; // @[cmd29.sc 7:23]\n",
      "endmodule\n",
      "\n"
     ]
    },
    {
     "data": {
      "text/plain": [
       "defined \u001b[32mclass\u001b[39m \u001b[36mMyXOR\u001b[39m"
      ]
     },
     "execution_count": 30,
     "metadata": {},
     "output_type": "execute_result"
    }
   ],
   "source": [
    "class MyXOR extends Module {\n",
    "    val io = IO(new Bundle {\n",
    "        val a   = Input(Bool())\n",
    "        val b   = Input(Bool())\n",
    "        val c   = Output(Bool())\n",
    "    })\n",
    "    val myGate = io.a ^ io.b\n",
    "    io.c := myGate\n",
    "}\n",
    "//printVerilog(new MyXOR)\n",
    "println(getVerilog(new MyXOR))"
   ]
  },
  {
   "cell_type": "markdown",
   "id": "34abba6a-70d4-4da7-9bfe-fa1ce417c444",
   "metadata": {
    "cell_style": "split"
   },
   "source": [
    "<img src=\"images/xorRef.svg\" alt=\"XOR with Scala references\" style=\"width:55%;margin:auto\"/>"
   ]
  },
  {
   "cell_type": "markdown",
   "id": "weekly-lucas",
   "metadata": {
    "slideshow": {
     "slide_type": "slide"
    }
   },
   "source": [
    "## Chisel `Wire`\n",
    "\n",
    "* Sometimes need to connect things, but don't know both ends simultaneously\n",
    "* Commonly used with `when` construct (next slide)"
   ]
  },
  {
   "cell_type": "code",
   "execution_count": 31,
   "id": "fresh-thomas",
   "metadata": {
    "cell_style": "split",
    "scrolled": true
   },
   "outputs": [
    {
     "name": "stdout",
     "output_type": "stream",
     "text": [
      "Elaborating design...\n",
      "Done elaborating.\n",
      "module MyXOR2(\n",
      "  input   clock,\n",
      "  input   reset,\n",
      "  input   io_a,\n",
      "  input   io_b,\n",
      "  output  io_c\n",
      ");\n",
      "  assign io_c = io_a ^ io_b; // @[cmd30.sc 8:20]\n",
      "endmodule\n",
      "\n"
     ]
    },
    {
     "data": {
      "text/plain": [
       "defined \u001b[32mclass\u001b[39m \u001b[36mMyXOR2\u001b[39m"
      ]
     },
     "execution_count": 31,
     "metadata": {},
     "output_type": "execute_result"
    }
   ],
   "source": [
    "class MyXOR2 extends Module {\n",
    "    val io = IO(new Bundle {\n",
    "        val a   = Input(Bool())\n",
    "        val b   = Input(Bool())\n",
    "        val c   = Output(Bool())\n",
    "    })\n",
    "    val myWire = Wire(Bool())\n",
    "    myWire := io.a ^ io.b\n",
    "    io.c := myWire\n",
    "}\n",
    "//printVerilog(new MyXOR2)\n",
    "println(getVerilog(new MyXOR2))"
   ]
  },
  {
   "cell_type": "markdown",
   "id": "deadly-turkey",
   "metadata": {
    "cell_style": "split"
   },
   "source": [
    "<img src=\"images/xorWire.svg\" alt=\"XOR with Chisel Wire\" style=\"width:55%;margin:auto\"/>"
   ]
  },
  {
   "cell_type": "markdown",
   "id": "deluxe-adrian",
   "metadata": {
    "cell_style": "split",
    "slideshow": {
     "slide_type": "slide"
    }
   },
   "source": [
    "## Chisel `when`\n",
    "\n",
    "* When condition is true, performs Chisel operations contained in block\n",
    "* Generates selection in hardware\n",
    "  * Under the hood, Chisel will implement with muxes\n",
    "* Can use `.otherwise` like else\n",
    "* Can use `.elsewhen` like if else"
   ]
  },
  {
   "cell_type": "code",
   "execution_count": 32,
   "id": "applied-values",
   "metadata": {
    "cell_style": "split"
   },
   "outputs": [
    {
     "name": "stdout",
     "output_type": "stream",
     "text": [
      "Elaborating design...\n",
      "Done elaborating.\n",
      "module LastC(\n",
      "  input        clock,\n",
      "  input        reset,\n",
      "  input        io_x,\n",
      "  output [2:0] io_y\n",
      ");\n",
      "  assign io_y = io_x ? 3'h7 : 3'h1; // @[cmd31.sc 8:17 cmd31.sc 9:11 cmd31.sc 7:7]\n",
      "endmodule\n",
      "\n"
     ]
    },
    {
     "data": {
      "text/plain": [
       "defined \u001b[32mclass\u001b[39m \u001b[36mLastC\u001b[39m"
      ]
     },
     "execution_count": 32,
     "metadata": {},
     "output_type": "execute_result"
    }
   ],
   "source": [
    "class LastC extends Module {\n",
    "    val io = IO(new Bundle {\n",
    "        val x   = Input(Bool())\n",
    "        val y   = Output(UInt())\n",
    "    })\n",
    "    val w = Wire(UInt())\n",
    "    w := 1.U\n",
    "    when (io.x) {\n",
    "        w := 7.U\n",
    "    }\n",
    "    io.y := w\n",
    "}\n",
    "//printVerilog(new LastC)\n",
    "println(getVerilog(new LastC))"
   ]
  },
  {
   "cell_type": "markdown",
   "id": "c999b927",
   "metadata": {
    "cell_style": "split",
    "slideshow": {
     "slide_type": "slide"
    }
   },
   "source": [
    "## Last Connect Example\n",
    "\n",
    "* Absolute Value using `when`\n",
    "\n",
    "<img src=\"images/absMux.svg\" alt=\"mux schematic\" style=\"width:55%;margin:auto\"/>"
   ]
  },
  {
   "cell_type": "code",
   "execution_count": 33,
   "id": "e16858b3",
   "metadata": {
    "cell_style": "split"
   },
   "outputs": [
    {
     "name": "stdout",
     "output_type": "stream",
     "text": [
      "Elaborating design...\n",
      "Done elaborating.\n",
      "module WhenAbs(\n",
      "  input        clock,\n",
      "  input        reset,\n",
      "  input  [3:0] io_x,\n",
      "  output [3:0] io_absX\n",
      ");\n",
      "  wire [3:0] _T_3 = 4'sh0 - $signed(io_x); // @[cmd32.sc 8:20]\n",
      "  assign io_absX = $signed(io_x) < 4'sh0 ? $signed(_T_3) : $signed(io_x); // @[cmd32.sc 7:23 cmd32.sc 8:17 cmd32.sc 6:13]\n",
      "endmodule\n",
      "\n"
     ]
    },
    {
     "data": {
      "text/plain": [
       "defined \u001b[32mclass\u001b[39m \u001b[36mWhenAbs\u001b[39m"
      ]
     },
     "execution_count": 33,
     "metadata": {},
     "output_type": "execute_result"
    }
   ],
   "source": [
    "class WhenAbs(w: Int) extends Module {\n",
    "    val io = IO(new Bundle {\n",
    "        val x    = Input(SInt(w.W))\n",
    "        val absX = Output(SInt(w.W))\n",
    "    })\n",
    "    io.absX := io.x\n",
    "    when (io.x < 0.S) {\n",
    "        io.absX := -io.x\n",
    "    }\n",
    "}\n",
    "//printVerilog(new WhenAbs(4))\n",
    "println(getVerilog(new WhenAbs(4)))"
   ]
  },
  {
   "cell_type": "markdown",
   "id": "fitting-mailing",
   "metadata": {
    "cell_style": "split",
    "slideshow": {
     "slide_type": "slide"
    }
   },
   "source": [
    "## Bitwidth Truncation\n",
    "\n",
    "* Width inference will set widths based on rules for operator\n",
    "* Operators like add can truncate (`+`,`+%`) or grow (`+&`) to not loose data\n",
    "* If widths set, will truncate or grow\n",
    "  * UInts zero extend\n",
    "  * SInts sign extend\n",
    "* Consult [Chisel Cheat Sheet](https://github.com/freechipsproject/chisel-cheatsheet/releases/latest/download/chisel_cheatsheet.pdf)"
   ]
  },
  {
   "cell_type": "code",
   "execution_count": 34,
   "id": "monetary-delhi",
   "metadata": {
    "cell_style": "split",
    "scrolled": true
   },
   "outputs": [
    {
     "name": "stdout",
     "output_type": "stream",
     "text": [
      "Elaborating design...\n",
      "Done elaborating.\n",
      "module MyAdder(\n",
      "  input        clock,\n",
      "  input        reset,\n",
      "  input  [7:0] io_a,\n",
      "  input  [7:0] io_b,\n",
      "  output [7:0] io_c\n",
      ");\n",
      "  assign io_c = io_a + io_b; // @[cmd33.sc 7:18]\n",
      "endmodule\n",
      "\n"
     ]
    },
    {
     "data": {
      "text/plain": [
       "defined \u001b[32mclass\u001b[39m \u001b[36mMyAdder\u001b[39m"
      ]
     },
     "execution_count": 34,
     "metadata": {},
     "output_type": "execute_result"
    }
   ],
   "source": [
    "class MyAdder(w: Int) extends Module {\n",
    "    val io = IO(new Bundle {\n",
    "        val a = Input(UInt(w.W))\n",
    "        val b = Input(UInt(w.W))\n",
    "        val c = Output(UInt())\n",
    "    })\n",
    "    io.c := io.a + io.b\n",
    "//     io.c := io.a +% io.b\n",
    "//     io.c := io.a +& io.b\n",
    "}\n",
    "//printVerilog(new MyAdder(8))\n",
    "println(getVerilog(new MyAdder(8)))"
   ]
  },
  {
   "cell_type": "markdown",
   "id": "exceptional-medicare",
   "metadata": {
    "slideshow": {
     "slide_type": "slide"
    }
   },
   "source": [
    "## Example: Sign & Magnitude -> 2's Complement"
   ]
  },
  {
   "cell_type": "code",
   "execution_count": 35,
   "id": "raised-daily",
   "metadata": {
    "cell_style": "split"
   },
   "outputs": [
    {
     "data": {
      "text/plain": [
       "defined \u001b[32mclass\u001b[39m \u001b[36mSignMagConv\u001b[39m"
      ]
     },
     "execution_count": 35,
     "metadata": {},
     "output_type": "execute_result"
    }
   ],
   "source": [
    "class SignMagConv(w: Int) extends Module {\n",
    "    val io = IO(new Bundle {\n",
    "        val sign = Input(Bool())\n",
    "        val mag  = Input(UInt(w.W))\n",
    "        val twos = Output(UInt((w+1).W))\n",
    "    })\n",
    "    when (io.sign) {\n",
    "        io.twos := ~io.mag +& 1.U\n",
    "    } .otherwise {\n",
    "        io.twos := io.mag\n",
    "    }\n",
    "}"
   ]
  },
  {
   "cell_type": "code",
   "execution_count": 36,
   "id": "chief-cooler",
   "metadata": {
    "cell_style": "split",
    "scrolled": true
   },
   "outputs": [
    {
     "name": "stdout",
     "output_type": "stream",
     "text": [
      "Elaborating design...\n",
      "Done elaborating.\n",
      "module SignMagConv(\n",
      "  input        clock,\n",
      "  input        reset,\n",
      "  input        io_sign,\n",
      "  input  [6:0] io_mag,\n",
      "  output [7:0] io_twos\n",
      ");\n",
      "  wire [6:0] _T = ~io_mag; // @[cmd34.sc 8:20]\n",
      "  wire [7:0] _T_1 = _T + 7'h1; // @[cmd34.sc 8:28]\n",
      "  assign io_twos = io_sign ? _T_1 : {{1'd0}, io_mag}; // @[cmd34.sc 7:20 cmd34.sc 8:17 cmd34.sc 10:17]\n",
      "endmodule\n",
      "\n"
     ]
    }
   ],
   "source": [
    "//printVerilog(new SignMagConv(7))\n",
    "println(getVerilog(new SignMagConv(7)))"
   ]
  },
  {
   "cell_type": "markdown",
   "id": "devoted-robinson",
   "metadata": {
    "cell_style": "split",
    "slideshow": {
     "slide_type": "slide"
    }
   },
   "source": [
    "## Working With Bits\n",
    "\n",
    "### Read-only access range `x(hi,lo)`\n",
    "* Access nth bit of x `x(n)`\n",
    "* _Note:_ can't assign extracted range\n",
    "\n",
    "### Concatenation\n",
    "* Combine signals x & y together `Cat(x,y)`\n",
    "\n",
    "### Fill\n",
    "* Repeat x, n times `Fill(n,x)`"
   ]
  },
  {
   "cell_type": "code",
   "execution_count": 37,
   "id": "wireless-adoption",
   "metadata": {
    "cell_style": "split",
    "scrolled": true
   },
   "outputs": [
    {
     "name": "stdout",
     "output_type": "stream",
     "text": [
      "Elaborating design...\n",
      "Done elaborating.\n",
      "module SignExtender(\n",
      "  input        clock,\n",
      "  input        reset,\n",
      "  input  [3:0] io_in,\n",
      "  output [7:0] io_out\n",
      ");\n",
      "  wire  signBit = io_in[3]; // @[cmd36.sc 8:24]\n",
      "  wire [3:0] extension = signBit ? 4'hf : 4'h0; // @[Bitwise.scala 72:12]\n",
      "  assign io_out = {extension,io_in}; // @[Cat.scala 30:58]\n",
      "endmodule\n",
      "\n"
     ]
    },
    {
     "data": {
      "text/plain": [
       "defined \u001b[32mclass\u001b[39m \u001b[36mSignExtender\u001b[39m"
      ]
     },
     "execution_count": 37,
     "metadata": {},
     "output_type": "execute_result"
    }
   ],
   "source": [
    "class SignExtender(win: Int, wout: Int) extends Module {\n",
    "    val io = IO(new Bundle {\n",
    "        val in = Input(UInt(win.W))\n",
    "        val out = Output(UInt(wout.W))\n",
    "    })\n",
    "    assert(win > 0)\n",
    "    assert(win < wout)\n",
    "    val signBit = io.in(win-1)\n",
    "    val extension = Fill(wout-win, signBit)\n",
    "    io.out := Cat(extension, io.in)\n",
    "}\n",
    "//printVerilog(new SignExtender(4,8))\n",
    "println(getVerilog(new SignExtender(4,8)))"
   ]
  }
 ],
 "metadata": {
  "celltoolbar": "Slideshow",
  "kernelspec": {
   "display_name": "Scala 2.12.11",
   "language": "scala",
   "name": "scala_2_12_11"
  },
  "language_info": {
   "codemirror_mode": "text/x-scala",
   "file_extension": ".scala",
   "mimetype": "text/x-scala",
   "name": "scala",
   "nbconvert_exporter": "script",
   "version": "2.12.11"
  }
 },
 "nbformat": 4,
 "nbformat_minor": 5
}
