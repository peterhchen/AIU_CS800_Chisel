{
 "cells": [
  {
   "cell_type": "markdown",
   "id": "4fed62d5-4709-4108-9070-281ea57829d3",
   "metadata": {
    "slideshow": {
     "slide_type": "slide"
    }
   },
   "source": [
    "## Agile Hardware Design\n",
    "***\n",
    "# Collections\n",
    "\n",
    "<img src=\"./images/logo.svg\" alt=\"agile hardware design logo\" style=\"float:right\"/>\n",
    "\n",
    "## Prof. Scott Beamer\n",
    "### sbeamer@ucsc.edu\n",
    "\n",
    "## [CSE 228A](https://classes.soe.ucsc.edu/cse228a/Winter24/)"
   ]
  },
  {
   "cell_type": "markdown",
   "id": "nominated-consistency",
   "metadata": {
    "slideshow": {
     "slide_type": "slide"
    }
   },
   "source": [
    "## Plan for Today\n",
    "\n",
    "* Scala for & collections (only Seq for today)\n",
    "* Chisel using collections\n",
    "* Chisel Vec\n",
    "* Chisel Mem"
   ]
  },
  {
   "cell_type": "markdown",
   "id": "regular-reducing",
   "metadata": {
    "slideshow": {
     "slide_type": "slide"
    }
   },
   "source": [
    "## Loading The Chisel Library Into a Notebook"
   ]
  },
  {
   "cell_type": "code",
   "execution_count": 23,
   "id": "robust-immigration",
   "metadata": {},
   "outputs": [
    {
     "name": "stdout",
     "output_type": "stream",
     "text": [
      "path: /home/peter/AIU/AIU_CS800_Chisel/500_UCSC_HWD/005_Collect/001_Code/source/load-ivy.sc\n"
     ]
    },
    {
     "data": {
      "text/plain": [
       "\u001b[36mpath\u001b[39m: \u001b[32mString\u001b[39m = \u001b[32m\"/home/peter/AIU/AIU_CS800_Chisel/500_UCSC_HWD/005_Collect/001_Code/source/load-ivy.sc\"\u001b[39m"
      ]
     },
     "execution_count": 23,
     "metadata": {},
     "output_type": "execute_result"
    }
   ],
   "source": [
    "// Before we start. We test for UCB stcture and make sure they worked.\n",
    "// Below, we test for UCB stcture and make sure they worked.\n",
    "val path = System.getProperty(\"user.dir\") + \"/source/load-ivy.sc\"\n",
    "println(\"path: \"+path)"
   ]
  },
  {
   "cell_type": "code",
   "execution_count": 24,
   "id": "97d65160-6929-465a-8e75-16f238cb8718",
   "metadata": {},
   "outputs": [
    {
     "name": "stdout",
     "output_type": "stream",
     "text": [
      "Compiling /home/peter/AIU/AIU_CS800_Chisel/500_UCSC_HWD/005_Collect/001_Code/Main.sc"
     ]
    },
    {
     "name": "stderr",
     "output_type": "stream",
     "text": [
      "Checking https://repo1.maven.org/maven2/edu/berkeley/cs/chisel3_2.12/maven-metadata.xml\n",
      "Checked https://repo1.maven.org/maven2/edu/berkeley/cs/chisel3_2.12/maven-metadata.xml\n",
      "Checking https://repo1.maven.org/maven2/edu/berkeley/cs/chisel-iotesters_2.12/maven-metadata.xml\n",
      "Checked https://repo1.maven.org/maven2/edu/berkeley/cs/chisel-iotesters_2.12/maven-metadata.xml\n",
      "Checking https://repo1.maven.org/maven2/edu/berkeley/cs/chiseltest_2.12/maven-metadata.xml\n",
      "Checked https://repo1.maven.org/maven2/edu/berkeley/cs/chiseltest_2.12/maven-metadata.xml\n",
      "Checking https://repo1.maven.org/maven2/edu/berkeley/cs/dsptools_2.12/maven-metadata.xml\n",
      "Checked https://repo1.maven.org/maven2/edu/berkeley/cs/dsptools_2.12/maven-metadata.xml\n",
      "Checking https://repo1.maven.org/maven2/edu/berkeley/cs/firrtl-diagrammer_2.12/maven-metadata.xml\n",
      "Checked https://repo1.maven.org/maven2/edu/berkeley/cs/firrtl-diagrammer_2.12/maven-metadata.xml\n"
     ]
    },
    {
     "name": "stdout",
     "output_type": "stream",
     "text": [
      "Compiling /home/peter/AIU/AIU_CS800_Chisel/500_UCSC_HWD/005_Collect/001_Code/Main.sc #2"
     ]
    }
   ],
   "source": [
    "interp.load.module(ammonite.ops.Path(java.nio.file.FileSystems.getDefault().getPath(path)))"
   ]
  },
  {
   "cell_type": "code",
   "execution_count": 25,
   "id": "extended-burning",
   "metadata": {
    "slideshow": {
     "slide_type": "-"
    }
   },
   "outputs": [
    {
     "data": {
      "text/plain": [
       "\u001b[32mimport \u001b[39m\u001b[36mchisel3._\n",
       "\u001b[39m\n",
       "\u001b[32mimport \u001b[39m\u001b[36mchisel3.util._\n",
       "\u001b[39m\n",
       "\u001b[32mimport \u001b[39m\u001b[36mchiseltest._\n",
       "\u001b[39m\n",
       "\u001b[32mimport \u001b[39m\u001b[36mchiseltest.RawTester.test\u001b[39m"
      ]
     },
     "execution_count": 25,
     "metadata": {},
     "output_type": "execute_result"
    }
   ],
   "source": [
    "import chisel3._\n",
    "import chisel3.util._\n",
    "import chiseltest._\n",
    "import chiseltest.RawTester.test"
   ]
  },
  {
   "cell_type": "code",
   "execution_count": 26,
   "id": "6b09fca8-1ad8-4ebb-a688-01fc21e24bf2",
   "metadata": {},
   "outputs": [
    {
     "name": "stdout",
     "output_type": "stream",
     "text": [
      "Elaborating design...\n",
      "Done elaborating.\n",
      "module RegLand(\n",
      "  input   clock,\n",
      "  input   reset,\n",
      "  input   io_in,\n",
      "  input   io_en,\n",
      "  output  io_out\n",
      ");\n",
      "`ifdef RANDOMIZE_REG_INIT\n",
      "  reg [31:0] _RAND_0;\n",
      "`endif // RANDOMIZE_REG_INIT\n",
      "  reg  r; // @[cmd25.sc 7:16]\n",
      "  assign io_out = r; // @[cmd25.sc 10:12]\n",
      "  always @(posedge clock) begin\n",
      "    r <= io_in; // @[cmd25.sc 9:7]\n",
      "  end\n",
      "// Register and memory initialization\n",
      "`ifdef RANDOMIZE_GARBAGE_ASSIGN\n",
      "`define RANDOMIZE\n",
      "`endif\n",
      "`ifdef RANDOMIZE_INVALID_ASSIGN\n",
      "`define RANDOMIZE\n",
      "`endif\n",
      "`ifdef RANDOMIZE_REG_INIT\n",
      "`define RANDOMIZE\n",
      "`endif\n",
      "`ifdef RANDOMIZE_MEM_INIT\n",
      "`define RANDOMIZE\n",
      "`endif\n",
      "`ifndef RANDOM\n",
      "`define RANDOM $random\n",
      "`endif\n",
      "`ifdef RANDOMIZE_MEM_INIT\n",
      "  integer initvar;\n",
      "`endif\n",
      "`ifndef SYNTHESIS\n",
      "`ifdef FIRRTL_BEFORE_INITIAL\n",
      "`FIRRTL_BEFORE_INITIAL\n",
      "`endif\n",
      "initial begin\n",
      "  `ifdef RANDOMIZE\n",
      "    `ifdef INIT_RANDOM\n",
      "      `INIT_RANDOM\n",
      "    `endif\n",
      "    `ifndef VERILATOR\n",
      "      `ifdef RANDOMIZE_DELAY\n",
      "        #`RANDOMIZE_DELAY begin end\n",
      "      `else\n",
      "        #0.002 begin end\n",
      "      `endif\n",
      "    `endif\n",
      "`ifdef RANDOMIZE_REG_INIT\n",
      "  _RAND_0 = {1{`RANDOM}};\n",
      "  r = _RAND_0[0:0];\n",
      "`endif // RANDOMIZE_REG_INIT\n",
      "  `endif // RANDOMIZE\n",
      "end // initial\n",
      "`ifdef FIRRTL_AFTER_INITIAL\n",
      "`FIRRTL_AFTER_INITIAL\n",
      "`endif\n",
      "`endif // SYNTHESIS\n",
      "endmodule\n",
      "\n"
     ]
    },
    {
     "data": {
      "text/plain": [
       "defined \u001b[32mclass\u001b[39m \u001b[36mRegLand\u001b[39m"
      ]
     },
     "execution_count": 26,
     "metadata": {},
     "output_type": "execute_result"
    }
   ],
   "source": [
    "// Test\n",
    "class RegLand extends Module {\n",
    "    val io = IO(new Bundle {\n",
    "        val in  = Input(Bool())\n",
    "        val en  = Input(Bool())\n",
    "        val out = Output(Bool())\n",
    "    })\n",
    "    val r = Reg(Bool())\n",
    "//    val r = RegInit(0.B)\n",
    "    r := io.in\n",
    "    io.out := r\n",
    "//     io.out := RegNext(io.in, 0.B)\n",
    "//     io.out := RegEnable(io.in, 0.B, io.en)\n",
    "}\n",
    "println (getVerilog(new RegLand))"
   ]
  },
  {
   "cell_type": "markdown",
   "id": "03cca611-8705-43c7-910d-227ca76e8e69",
   "metadata": {
    "slideshow": {
     "slide_type": "slide"
    }
   },
   "source": [
    "## Scala `Seq`\n",
    "\n",
    "* Scala's [collection library](https://docs.scala-lang.org/overviews/collections-2.13/overview.html) is one of its strengths\n",
    "* [Seq](https://www.scala-lang.org/api/2.13.10/scala/collection/Seq.html) is an ordered collection (sequence), immutable by default\n",
    "* Index into it with `()`\n",
    "* A base class with multiple implementations\n",
    "  * For many of our (small) cases, fine to use directly\n",
    "  * Some style guides recommend specificity with `List` or `Vector`"
   ]
  },
  {
   "cell_type": "code",
   "execution_count": 27,
   "id": "constitutional-tumor",
   "metadata": {},
   "outputs": [
    {
     "data": {
      "text/plain": [
       "\u001b[36ml\u001b[39m: \u001b[32mSeq\u001b[39m[\u001b[32mInt\u001b[39m] = \u001b[33mList\u001b[39m(\u001b[32m1\u001b[39m, \u001b[32m2\u001b[39m, \u001b[32m3\u001b[39m)\n",
       "\u001b[36mres26_1\u001b[39m: \u001b[32mInt\u001b[39m = \u001b[32m2\u001b[39m\n",
       "\u001b[36mres26_2\u001b[39m: \u001b[32mBoolean\u001b[39m = false\n",
       "\u001b[36mres26_3\u001b[39m: \u001b[32mBoolean\u001b[39m = true\n",
       "\u001b[36mres26_4\u001b[39m: \u001b[32mInt\u001b[39m = \u001b[32m3\u001b[39m\n",
       "\u001b[36mres26_5\u001b[39m: \u001b[32mSeq\u001b[39m[\u001b[32mInt\u001b[39m] = \u001b[33mList\u001b[39m(\u001b[32m8\u001b[39m, \u001b[32m8\u001b[39m, \u001b[32m8\u001b[39m)\n",
       "\u001b[36mres26_6\u001b[39m: \u001b[32mClass\u001b[39m[\u001b[32mT\u001b[39m] = class scala.collection.immutable.$colon$colon"
      ]
     },
     "execution_count": 27,
     "metadata": {},
     "output_type": "execute_result"
    }
   ],
   "source": [
    "val l = Seq(1,2,3)\n",
    "l(1)\n",
    "l.isEmpty\n",
    "l.nonEmpty\n",
    "l.length\n",
    "Seq.fill(3)(8)\n",
    "l.getClass"
   ]
  },
  {
   "cell_type": "markdown",
   "id": "parental-receptor",
   "metadata": {
    "slideshow": {
     "slide_type": "slide"
    }
   },
   "source": [
    "## Scala Ranges\n",
    "* Can instantiate a range by `start until end` (exclusive)\n",
    "* Can make range inclusive with `start to end`\n",
    "* Can also provide a custom increment (default is 1) with `by`"
   ]
  },
  {
   "cell_type": "code",
   "execution_count": 28,
   "id": "positive-pakistan",
   "metadata": {},
   "outputs": [
    {
     "data": {
      "text/plain": [
       "\u001b[36mres27_0\u001b[39m: \u001b[32mRange\u001b[39m = \u001b[33mRange\u001b[39m(\u001b[32m0\u001b[39m, \u001b[32m1\u001b[39m, \u001b[32m2\u001b[39m, \u001b[32m3\u001b[39m)\n",
       "\u001b[36mres27_1\u001b[39m: \u001b[32mRange\u001b[39m.\u001b[32mInclusive\u001b[39m = \u001b[33mRange.Inclusive\u001b[39m(\u001b[32m0\u001b[39m, \u001b[32m1\u001b[39m, \u001b[32m2\u001b[39m, \u001b[32m3\u001b[39m)\n",
       "\u001b[36mres27_2\u001b[39m: \u001b[32mRange\u001b[39m = \u001b[33mRange.Inclusive\u001b[39m(\u001b[32m0\u001b[39m, \u001b[32m2\u001b[39m, \u001b[32m4\u001b[39m)\n",
       "\u001b[36mres27_3\u001b[39m: \u001b[32mRange\u001b[39m = \u001b[33mRange.Inclusive\u001b[39m(\u001b[32m3\u001b[39m, \u001b[32m2\u001b[39m, \u001b[32m1\u001b[39m, \u001b[32m0\u001b[39m)\n",
       "\u001b[36mres27_4\u001b[39m: \u001b[32mRange\u001b[39m.\u001b[32mInclusive\u001b[39m = \u001b[33mRange.Inclusive\u001b[39m(\u001b[32m0\u001b[39m, \u001b[32m1\u001b[39m, \u001b[32m2\u001b[39m, \u001b[32m3\u001b[39m, \u001b[32m4\u001b[39m, \u001b[32m5\u001b[39m, \u001b[32m6\u001b[39m, \u001b[32m7\u001b[39m, \u001b[32m8\u001b[39m, \u001b[32m9\u001b[39m, \u001b[32m10\u001b[39m)"
      ]
     },
     "execution_count": 28,
     "metadata": {},
     "output_type": "execute_result"
    }
   ],
   "source": [
    "0 until 4\n",
    "0 to 3\n",
    "0 to 4 by 2\n",
    "3 to 0 by -1\n",
    "0 to 10"
   ]
  },
  {
   "cell_type": "markdown",
   "id": "compound-banking",
   "metadata": {
    "cell_style": "split",
    "slideshow": {
     "slide_type": "slide"
    }
   },
   "source": [
    "## Scala `for`\n",
    "\n",
    "* Iterates over iterable (typically range or collection)\n",
    "* Sometimes use with `var` to pass results between iterations\n",
    "* Also helpful for building up state space for testing\n",
    "* Can also be used to do full [for comprehensions](https://docs.scala-lang.org/tour/for-comprehensions.html) (nested and filters)"
   ]
  },
  {
   "cell_type": "code",
   "execution_count": 29,
   "id": "legitimate-chambers",
   "metadata": {
    "cell_style": "split"
   },
   "outputs": [
    {
     "name": "stdout",
     "output_type": "stream",
     "text": [
      "Simple for loop:\n",
      "0 1 2 3 \n",
      "\n",
      "print with initial = -1:\n",
      "-1 0 1 2 \n",
      "\n",
      "print with i and j\n",
      "  i = 1 \n",
      "  j = 5 \n",
      "\n",
      "  i = 2 \n",
      "  j = 4 \n",
      "\n",
      "  i = 3 \n",
      "  j = 3 \n",
      "\n"
     ]
    },
    {
     "data": {
      "text/html": [
       "<div class=\"jp-RenderedText\">\n",
       "<pre><code><span style=\"color: rgb(0, 187, 187)\"><span class=\"ansi-cyan-fg\">last</span></span>: <span style=\"color: rgb(0, 187, 0)\"><span class=\"ansi-green-fg\">Int</span></span> = <span style=\"color: rgb(0, 187, 0)\"><span class=\"ansi-green-fg\">3</span></span></code></pre>\n",
       "</div>"
      ],
      "text/plain": [
       "\u001b[36mlast\u001b[39m: \u001b[32mInt\u001b[39m = \u001b[32m3\u001b[39m"
      ]
     },
     "metadata": {},
     "output_type": "display_data"
    }
   ],
   "source": [
    "println(\"Simple for loop:\")\n",
    "for (i <- 0 until 4)\n",
    "    print(i + \" \")\n",
    "\n",
    "println (); println()\n",
    "println(\"print with initial = -1:\")\n",
    "var last = -1\n",
    "for (i <- 0 until 4) {\n",
    "   print(last + \" \")\n",
    "   last = i\n",
    "}\n",
    "\n",
    "println (); println()\n",
    "println(\"print with i and j\")\n",
    "for (i <- 0 until 6; \n",
    "     j <- i until 6  if (i + j == 6)) {\n",
    "    println (\"  i = \" + i + \" \")\n",
    "    println (\"  j = \" + j + \" \")\n",
    "    println()\n",
    "}"
   ]
  },
  {
   "cell_type": "markdown",
   "id": "valid-union",
   "metadata": {
    "slideshow": {
     "slide_type": "slide"
    }
   },
   "source": [
    "## Example: Delay Line with `for`"
   ]
  },
  {
   "cell_type": "code",
   "execution_count": 47,
   "id": "statewide-opera",
   "metadata": {
    "cell_style": "split"
   },
   "outputs": [
    {
     "data": {
      "text/plain": [
       "defined \u001b[32mclass\u001b[39m \u001b[36mDelayNCycles\u001b[39m"
      ]
     },
     "execution_count": 47,
     "metadata": {},
     "output_type": "execute_result"
    }
   ],
   "source": [
    "class DelayNCycles(n: Int) extends Module {\n",
    "    val io = IO(new Bundle {\n",
    "        val in  = Input(Bool())\n",
    "        val out = Output(Bool())\n",
    "    })\n",
    "    require(n > 0)\n",
    "    val regs = Seq.fill(n)(Reg(Bool()))\n",
    "    regs(0) := io.in\n",
    "    for (i <- 1 until n)\n",
    "        regs(i) := regs(i-1)\n",
    "    io.out := regs(n-1)\n",
    "}\n",
    "//println(getVerilog(new DelayNCycles(2)))"
   ]
  },
  {
   "cell_type": "markdown",
   "id": "e38b0aac-05bd-4281-b287-8c30066c06cb",
   "metadata": {},
   "source": [
    "### Test 2 Lines of Registers ###"
   ]
  },
  {
   "cell_type": "code",
   "execution_count": 46,
   "id": "f6511ab7-21cc-4070-a579-f68705270776",
   "metadata": {},
   "outputs": [
    {
     "name": "stdout",
     "output_type": "stream",
     "text": [
      "Elaborating design...\n",
      "Done elaborating.\n",
      "module DelayNCycles(\n",
      "  input   clock,\n",
      "  input   reset,\n",
      "  input   io_in,\n",
      "  output  io_out\n",
      ");\n",
      "`ifdef RANDOMIZE_REG_INIT\n",
      "  reg [31:0] _RAND_0;\n",
      "  reg [31:0] _RAND_1;\n",
      "`endif // RANDOMIZE_REG_INIT\n",
      "  reg  REG; // @[cmd31.sc 8:27]\n",
      "  reg  lastConn; // @[cmd31.sc 8:27]\n",
      "  assign io_out = lastConn; // @[cmd31.sc 9:12]\n",
      "  always @(posedge clock) begin\n",
      "    REG <= io_in; // @[cmd31.sc 8:27]\n",
      "    lastConn <= REG; // @[cmd31.sc 8:27]\n",
      "  end\n",
      "// Register and memory initialization\n",
      "`ifdef RANDOMIZE_GARBAGE_ASSIGN\n",
      "`define RANDOMIZE\n",
      "`endif\n",
      "`ifdef RANDOMIZE_INVALID_ASSIGN\n",
      "`define RANDOMIZE\n",
      "`endif\n",
      "`ifdef RANDOMIZE_REG_INIT\n",
      "`define RANDOMIZE\n",
      "`endif\n",
      "`ifdef RANDOMIZE_MEM_INIT\n",
      "`define RANDOMIZE\n",
      "`endif\n",
      "`ifndef RANDOM\n",
      "`define RANDOM $random\n",
      "`endif\n",
      "`ifdef RANDOMIZE_MEM_INIT\n",
      "  integer initvar;\n",
      "`endif\n",
      "`ifndef SYNTHESIS\n",
      "`ifdef FIRRTL_BEFORE_INITIAL\n",
      "`FIRRTL_BEFORE_INITIAL\n",
      "`endif\n",
      "initial begin\n",
      "  `ifdef RANDOMIZE\n",
      "    `ifdef INIT_RANDOM\n",
      "      `INIT_RANDOM\n",
      "    `endif\n",
      "    `ifndef VERILATOR\n",
      "      `ifdef RANDOMIZE_DELAY\n",
      "        #`RANDOMIZE_DELAY begin end\n",
      "      `else\n",
      "        #0.002 begin end\n",
      "      `endif\n",
      "    `endif\n",
      "`ifdef RANDOMIZE_REG_INIT\n",
      "  _RAND_0 = {1{`RANDOM}};\n",
      "  REG = _RAND_0[0:0];\n",
      "  _RAND_1 = {1{`RANDOM}};\n",
      "  lastConn = _RAND_1[0:0];\n",
      "`endif // RANDOMIZE_REG_INIT\n",
      "  `endif // RANDOMIZE\n",
      "end // initial\n",
      "`ifdef FIRRTL_AFTER_INITIAL\n",
      "`FIRRTL_AFTER_INITIAL\n",
      "`endif\n",
      "`endif // SYNTHESIS\n",
      "endmodule\n",
      "\n"
     ]
    }
   ],
   "source": [
    "println(getVerilog(new DelayNCycles(2)))"
   ]
  },
  {
   "cell_type": "markdown",
   "id": "6420e8a4-34dd-4d73-9c6e-55e336f2a303",
   "metadata": {
    "cell_style": "split"
   },
   "source": [
    "<img src=\"images/delayN.svg\" alt=\"delay line schematic\" style=\"width:30%;\" align=\"left\"/>"
   ]
  },
  {
   "cell_type": "markdown",
   "id": "249a016c-195f-463d-9b7e-6184f2c1f055",
   "metadata": {},
   "source": [
    "### Test for 8 lines of register ###"
   ]
  },
  {
   "cell_type": "code",
   "execution_count": 31,
   "id": "06f5cb7e-0ba6-491d-9f3f-9b1b1b3f0b7d",
   "metadata": {},
   "outputs": [
    {
     "name": "stdout",
     "output_type": "stream",
     "text": [
      "Elaborating design...\n",
      "Done elaborating.\n",
      "module DelayNCycles(\n",
      "  input   clock,\n",
      "  input   reset,\n",
      "  input   io_in,\n",
      "  output  io_out\n",
      ");\n",
      "`ifdef RANDOMIZE_REG_INIT\n",
      "  reg [31:0] _RAND_0;\n",
      "  reg [31:0] _RAND_1;\n",
      "  reg [31:0] _RAND_2;\n",
      "  reg [31:0] _RAND_3;\n",
      "  reg [31:0] _RAND_4;\n",
      "  reg [31:0] _RAND_5;\n",
      "  reg [31:0] _RAND_6;\n",
      "  reg [31:0] _RAND_7;\n",
      "`endif // RANDOMIZE_REG_INIT\n",
      "  reg  regs_0; // @[cmd30.sc 7:31]\n",
      "  reg  regs_1; // @[cmd30.sc 7:31]\n",
      "  reg  regs_2; // @[cmd30.sc 7:31]\n",
      "  reg  regs_3; // @[cmd30.sc 7:31]\n",
      "  reg  regs_4; // @[cmd30.sc 7:31]\n",
      "  reg  regs_5; // @[cmd30.sc 7:31]\n",
      "  reg  regs_6; // @[cmd30.sc 7:31]\n",
      "  reg  regs_7; // @[cmd30.sc 7:31]\n",
      "  assign io_out = regs_7; // @[cmd30.sc 11:12]\n",
      "  always @(posedge clock) begin\n",
      "    regs_0 <= io_in; // @[cmd30.sc 8:13]\n",
      "    regs_1 <= regs_0; // @[cmd30.sc 10:17]\n",
      "    regs_2 <= regs_1; // @[cmd30.sc 10:17]\n",
      "    regs_3 <= regs_2; // @[cmd30.sc 10:17]\n",
      "    regs_4 <= regs_3; // @[cmd30.sc 10:17]\n",
      "    regs_5 <= regs_4; // @[cmd30.sc 10:17]\n",
      "    regs_6 <= regs_5; // @[cmd30.sc 10:17]\n",
      "    regs_7 <= regs_6; // @[cmd30.sc 10:17]\n",
      "  end\n",
      "// Register and memory initialization\n",
      "`ifdef RANDOMIZE_GARBAGE_ASSIGN\n",
      "`define RANDOMIZE\n",
      "`endif\n",
      "`ifdef RANDOMIZE_INVALID_ASSIGN\n",
      "`define RANDOMIZE\n",
      "`endif\n",
      "`ifdef RANDOMIZE_REG_INIT\n",
      "`define RANDOMIZE\n",
      "`endif\n",
      "`ifdef RANDOMIZE_MEM_INIT\n",
      "`define RANDOMIZE\n",
      "`endif\n",
      "`ifndef RANDOM\n",
      "`define RANDOM $random\n",
      "`endif\n",
      "`ifdef RANDOMIZE_MEM_INIT\n",
      "  integer initvar;\n",
      "`endif\n",
      "`ifndef SYNTHESIS\n",
      "`ifdef FIRRTL_BEFORE_INITIAL\n",
      "`FIRRTL_BEFORE_INITIAL\n",
      "`endif\n",
      "initial begin\n",
      "  `ifdef RANDOMIZE\n",
      "    `ifdef INIT_RANDOM\n",
      "      `INIT_RANDOM\n",
      "    `endif\n",
      "    `ifndef VERILATOR\n",
      "      `ifdef RANDOMIZE_DELAY\n",
      "        #`RANDOMIZE_DELAY begin end\n",
      "      `else\n",
      "        #0.002 begin end\n",
      "      `endif\n",
      "    `endif\n",
      "`ifdef RANDOMIZE_REG_INIT\n",
      "  _RAND_0 = {1{`RANDOM}};\n",
      "  regs_0 = _RAND_0[0:0];\n",
      "  _RAND_1 = {1{`RANDOM}};\n",
      "  regs_1 = _RAND_1[0:0];\n",
      "  _RAND_2 = {1{`RANDOM}};\n",
      "  regs_2 = _RAND_2[0:0];\n",
      "  _RAND_3 = {1{`RANDOM}};\n",
      "  regs_3 = _RAND_3[0:0];\n",
      "  _RAND_4 = {1{`RANDOM}};\n",
      "  regs_4 = _RAND_4[0:0];\n",
      "  _RAND_5 = {1{`RANDOM}};\n",
      "  regs_5 = _RAND_5[0:0];\n",
      "  _RAND_6 = {1{`RANDOM}};\n",
      "  regs_6 = _RAND_6[0:0];\n",
      "  _RAND_7 = {1{`RANDOM}};\n",
      "  regs_7 = _RAND_7[0:0];\n",
      "`endif // RANDOMIZE_REG_INIT\n",
      "  `endif // RANDOMIZE\n",
      "end // initial\n",
      "`ifdef FIRRTL_AFTER_INITIAL\n",
      "`FIRRTL_AFTER_INITIAL\n",
      "`endif\n",
      "`endif // SYNTHESIS\n",
      "endmodule\n",
      "\n"
     ]
    },
    {
     "data": {
      "text/plain": [
       "defined \u001b[32mclass\u001b[39m \u001b[36mDelayNCycles\u001b[39m"
      ]
     },
     "execution_count": 31,
     "metadata": {},
     "output_type": "execute_result"
    }
   ],
   "source": [
    "class DelayNCycles(n: Int) extends Module {\n",
    "    val io = IO(new Bundle {\n",
    "        val in  = Input(Bool())\n",
    "        val out = Output(Bool())\n",
    "    })\n",
    "    require(n > 0)\n",
    "    val regs = Seq.fill(n)(Reg(Bool()))\n",
    "    regs(0) := io.in\n",
    "    for (i <- 1 until n)\n",
    "        regs(i) := regs(i-1)\n",
    "    io.out := regs(n-1)\n",
    "}\n",
    "println(getVerilog(new DelayNCycles(8)))"
   ]
  },
  {
   "cell_type": "markdown",
   "id": "systematic-satellite",
   "metadata": {
    "slideshow": {
     "slide_type": "slide"
    }
   },
   "source": [
    "## Example: Delay Line with `for` and `var`\n",
    "\n",
    "* Judicious use of `var` can sometimes tidy things up\n",
    "* Later, will cover functional programming techniques to also clean up"
   ]
  },
  {
   "cell_type": "code",
   "execution_count": 32,
   "id": "color-argument",
   "metadata": {
    "cell_style": "split",
    "slideshow": {
     "slide_type": "-"
    }
   },
   "outputs": [
    {
     "data": {
      "text/plain": [
       "defined \u001b[32mclass\u001b[39m \u001b[36mDelayNCycles\u001b[39m"
      ]
     },
     "execution_count": 32,
     "metadata": {},
     "output_type": "execute_result"
    }
   ],
   "source": [
    "class DelayNCycles(n: Int) extends Module {\n",
    "    val io = IO(new Bundle {\n",
    "        val in  = Input(Bool())\n",
    "        val out = Output(Bool())\n",
    "    })\n",
    "    var lastConn = io.in\n",
    "    for (i <- 0 until n)\n",
    "        lastConn = RegNext(lastConn)\n",
    "    io.out := lastConn\n",
    "}"
   ]
  },
  {
   "cell_type": "code",
   "execution_count": 33,
   "id": "9a2e2aa8",
   "metadata": {
    "cell_style": "split"
   },
   "outputs": [
    {
     "name": "stdout",
     "output_type": "stream",
     "text": [
      "Elaborating design...\n",
      "Done elaborating.\n",
      "module DelayNCycles(\n",
      "  input   clock,\n",
      "  input   reset,\n",
      "  input   io_in,\n",
      "  output  io_out\n",
      ");\n",
      "`ifdef RANDOMIZE_REG_INIT\n",
      "  reg [31:0] _RAND_0;\n",
      "  reg [31:0] _RAND_1;\n",
      "  reg [31:0] _RAND_2;\n",
      "`endif // RANDOMIZE_REG_INIT\n",
      "  reg  REG; // @[cmd31.sc 8:27]\n",
      "  reg  REG_1; // @[cmd31.sc 8:27]\n",
      "  reg  lastConn; // @[cmd31.sc 8:27]\n",
      "  assign io_out = lastConn; // @[cmd31.sc 9:12]\n",
      "  always @(posedge clock) begin\n",
      "    REG <= io_in; // @[cmd31.sc 8:27]\n",
      "    REG_1 <= REG; // @[cmd31.sc 8:27]\n",
      "    lastConn <= REG_1; // @[cmd31.sc 8:27]\n",
      "  end\n",
      "// Register and memory initialization\n",
      "`ifdef RANDOMIZE_GARBAGE_ASSIGN\n",
      "`define RANDOMIZE\n",
      "`endif\n",
      "`ifdef RANDOMIZE_INVALID_ASSIGN\n",
      "`define RANDOMIZE\n",
      "`endif\n",
      "`ifdef RANDOMIZE_REG_INIT\n",
      "`define RANDOMIZE\n",
      "`endif\n",
      "`ifdef RANDOMIZE_MEM_INIT\n",
      "`define RANDOMIZE\n",
      "`endif\n",
      "`ifndef RANDOM\n",
      "`define RANDOM $random\n",
      "`endif\n",
      "`ifdef RANDOMIZE_MEM_INIT\n",
      "  integer initvar;\n",
      "`endif\n",
      "`ifndef SYNTHESIS\n",
      "`ifdef FIRRTL_BEFORE_INITIAL\n",
      "`FIRRTL_BEFORE_INITIAL\n",
      "`endif\n",
      "initial begin\n",
      "  `ifdef RANDOMIZE\n",
      "    `ifdef INIT_RANDOM\n",
      "      `INIT_RANDOM\n",
      "    `endif\n",
      "    `ifndef VERILATOR\n",
      "      `ifdef RANDOMIZE_DELAY\n",
      "        #`RANDOMIZE_DELAY begin end\n",
      "      `else\n",
      "        #0.002 begin end\n",
      "      `endif\n",
      "    `endif\n",
      "`ifdef RANDOMIZE_REG_INIT\n",
      "  _RAND_0 = {1{`RANDOM}};\n",
      "  REG = _RAND_0[0:0];\n",
      "  _RAND_1 = {1{`RANDOM}};\n",
      "  REG_1 = _RAND_1[0:0];\n",
      "  _RAND_2 = {1{`RANDOM}};\n",
      "  lastConn = _RAND_2[0:0];\n",
      "`endif // RANDOMIZE_REG_INIT\n",
      "  `endif // RANDOMIZE\n",
      "end // initial\n",
      "`ifdef FIRRTL_AFTER_INITIAL\n",
      "`FIRRTL_AFTER_INITIAL\n",
      "`endif\n",
      "`endif // SYNTHESIS\n",
      "endmodule\n",
      "\n"
     ]
    }
   ],
   "source": [
    "//printVerilog(new DelayNCycles(3))\n",
    "println (getVerilog(new DelayNCycles(3)))"
   ]
  },
  {
   "cell_type": "markdown",
   "id": "wound-little",
   "metadata": {
    "slideshow": {
     "slide_type": "slide"
    }
   },
   "source": [
    "## Using `for` in a Tester"
   ]
  },
  {
   "cell_type": "code",
   "execution_count": 48,
   "id": "quiet-vessel",
   "metadata": {
    "cell_style": "split"
   },
   "outputs": [
    {
     "data": {
      "text/plain": [
       "defined \u001b[32mclass\u001b[39m \u001b[36mCombLogic\u001b[39m"
      ]
     },
     "execution_count": 48,
     "metadata": {},
     "output_type": "execute_result"
    }
   ],
   "source": [
    "class CombLogic extends Module {\n",
    "    val io = IO(new Bundle {\n",
    "        val a   = Input(Bool())\n",
    "        val b   = Input(Bool())\n",
    "        val c   = Input(Bool())\n",
    "        val out = Output(Bool())\n",
    "    })\n",
    "    io.out := (io.a && io.b) || ~io.c\n",
    "    printf(p\"a: ${io.a}, b: ${io.b}, c: ${io.c}, out: ${io.out}\\n\")\n",
    "}"
   ]
  },
  {
   "cell_type": "code",
   "execution_count": 53,
   "id": "confused-cologne",
   "metadata": {
    "cell_style": "split"
   },
   "outputs": [
    {
     "name": "stdout",
     "output_type": "stream",
     "text": [
      "Elaborating design...\n",
      "Done elaborating.\n",
      "true, true, true\n",
      "a:  1, b:  1, c:  1, out:  1\n",
      "true, true, false\n",
      "a:  1, b:  1, c:  0, out:  1\n",
      "true, false, true\n",
      "a:  1, b:  0, c:  1, out:  0\n",
      "true, false, false\n",
      "a:  1, b:  0, c:  0, out:  1\n",
      "false, true, true\n",
      "a:  0, b:  1, c:  1, out:  0\n",
      "false, true, false\n",
      "a:  0, b:  1, c:  0, out:  1\n",
      "false, false, true\n",
      "a:  0, b:  0, c:  1, out:  0\n",
      "false, false, false\n",
      "a:  0, b:  0, c:  0, out:  1\n",
      "a:  0, b:  0, c:  0, out:  1\n",
      "test CombLogic Success: 0 tests passed in 10 cycles in 0.015848 seconds 630.98 Hz\n"
     ]
    }
   ],
   "source": [
    "test(new CombLogic) { dut =>\n",
    "    for (a <- Seq(true, false)) {\n",
    "        for (b <- Seq(true, false)) {\n",
    "             for (c <- Seq(true, false)) {\n",
    "                dut.io.a.poke(a.B)\n",
    "                dut.io.b.poke(b.B)\n",
    "                dut.io.c.poke(c.B)\n",
    "                println(s\"$a, $b, $c\")\n",
    "                val expected = (a && b) || !c\n",
    "                dut.io.out.expect(expected.B)\n",
    "                dut.clock.step()\n",
    "             }\n",
    "        }\n",
    "    }\n",
    "}"
   ]
  },
  {
   "cell_type": "markdown",
   "id": "99f17a51-0e10-40b1-80c5-49163cbf24c3",
   "metadata": {},
   "source": [
    "### Test with one for loop ###"
   ]
  },
  {
   "cell_type": "code",
   "execution_count": 54,
   "id": "2f50de96-1a54-4003-80c6-6512f4fb37ea",
   "metadata": {},
   "outputs": [
    {
     "name": "stdout",
     "output_type": "stream",
     "text": [
      "Elaborating design...\n",
      "Done elaborating.\n",
      "true, true, true\n",
      "a:  1, b:  1, c:  1, out:  1\n",
      "true, true, false\n",
      "a:  1, b:  1, c:  0, out:  1\n",
      "true, false, true\n",
      "a:  1, b:  0, c:  1, out:  0\n",
      "true, false, false\n",
      "a:  1, b:  0, c:  0, out:  1\n",
      "false, true, true\n",
      "a:  0, b:  1, c:  1, out:  0\n",
      "false, true, false\n",
      "a:  0, b:  1, c:  0, out:  1\n",
      "false, false, true\n",
      "a:  0, b:  0, c:  1, out:  0\n",
      "false, false, false\n",
      "a:  0, b:  0, c:  0, out:  1\n",
      "a:  0, b:  0, c:  0, out:  1\n",
      "test CombLogic Success: 0 tests passed in 10 cycles in 0.013690 seconds 730.44 Hz\n"
     ]
    },
    {
     "data": {
      "text/plain": [
       "defined \u001b[32mclass\u001b[39m \u001b[36mCombLogic\u001b[39m"
      ]
     },
     "execution_count": 54,
     "metadata": {},
     "output_type": "execute_result"
    }
   ],
   "source": [
    "class CombLogic extends Module {\n",
    "    val io = IO(new Bundle {\n",
    "        val a   = Input(Bool())\n",
    "        val b   = Input(Bool())\n",
    "        val c   = Input(Bool())\n",
    "        val out = Output(Bool())\n",
    "    })\n",
    "    io.out := (io.a && io.b) || ~io.c\n",
    "    printf(p\"a: ${io.a}, b: ${io.b}, c: ${io.c}, out: ${io.out}\\n\")\n",
    "}\n",
    "\n",
    "test(new CombLogic) { dut =>\n",
    "    for (a <- Seq(true, false);\n",
    "         b <- Seq(true, false);\n",
    "         c <- Seq(true, false)) {\n",
    "            dut.io.a.poke(a.B)\n",
    "            dut.io.b.poke(b.B)\n",
    "            dut.io.c.poke(c.B)\n",
    "            println(s\"$a, $b, $c\")\n",
    "            val expected = (a && b) || !c\n",
    "            dut.io.out.expect(expected.B)\n",
    "            dut.clock.step()\n",
    "    }\n",
    "}"
   ]
  },
  {
   "cell_type": "markdown",
   "id": "aa9b85c7-76a0-4b75-93d8-841fe52e4fad",
   "metadata": {
    "cell_style": "split",
    "slideshow": {
     "slide_type": "slide"
    }
   },
   "source": [
    "## Chisel `Vec` ##\n",
    "\n",
    "* Chisel collection construct have 2 uses:\n",
    "  * _Dynamic select_ in hardware (muxes)\n",
    "  * Paramterize number of ports\n",
    "* `Vec(num_elements, type)`\n",
    "* Most often will want a Scala collection for addressing during elaboration\n",
    "* `Vec` is a type, not a physical thing\n",
    "* Use `Reg` of `Vec` for state\n",
    "  * `Vec` of `Reg` not possible\n",
    "\n",
    "```scala\n",
    "Reg(Vec(num_elements, type))\n",
    "```\n",
    "* Can also use with `Wire`\n",
    "\n",
    "```scala\n",
    "Wire(Vec(num_elements, type))\n",
    "```"
   ]
  },
  {
   "cell_type": "code",
   "execution_count": 55,
   "id": "speaking-understanding",
   "metadata": {
    "cell_style": "split"
   },
   "outputs": [
    {
     "name": "stdout",
     "output_type": "stream",
     "text": [
      "Elaborating design...\n",
      "Done elaborating.\n",
      "module MyMuxN(\n",
      "  input        clock,\n",
      "  input        reset,\n",
      "  input        io_in_0,\n",
      "  input        io_in_1,\n",
      "  input        io_in_2,\n",
      "  input        io_in_3,\n",
      "  input  [1:0] io_sel,\n",
      "  output       io_out\n",
      ");\n",
      "  wire  _GEN_1 = 2'h1 == io_sel ? io_in_1 : io_in_0; // @[cmd54.sc 7:12 cmd54.sc 7:12]\n",
      "  wire  _GEN_2 = 2'h2 == io_sel ? io_in_2 : _GEN_1; // @[cmd54.sc 7:12 cmd54.sc 7:12]\n",
      "  assign io_out = 2'h3 == io_sel ? io_in_3 : _GEN_2; // @[cmd54.sc 7:12 cmd54.sc 7:12]\n",
      "endmodule\n",
      "\n"
     ]
    },
    {
     "data": {
      "text/plain": [
       "defined \u001b[32mclass\u001b[39m \u001b[36mMyMuxN\u001b[39m"
      ]
     },
     "execution_count": 55,
     "metadata": {},
     "output_type": "execute_result"
    }
   ],
   "source": [
    "class MyMuxN(n: Int, w: Int) extends Module {\n",
    "    val io = IO(new Bundle {\n",
    "        val in  = Input(Vec(n, UInt(w.W)))\n",
    "        val sel = Input(UInt(log2Ceil(n).W))\n",
    "        val out = Output(UInt(w.W))\n",
    "    })\n",
    "    io.out := io.in(io.sel)\n",
    "}\n",
    "//printVerilog(new MyMuxN(4,1))\n",
    "println (getVerilog(new MyMuxN(4,1)))"
   ]
  },
  {
   "cell_type": "markdown",
   "id": "twelve-istanbul",
   "metadata": {
    "slideshow": {
     "slide_type": "slide"
    }
   },
   "source": [
    "## Using `Vec` to Parameterize # of Ports"
   ]
  },
  {
   "cell_type": "code",
   "execution_count": 37,
   "id": "disturbed-outside",
   "metadata": {
    "cell_style": "split"
   },
   "outputs": [
    {
     "name": "stdout",
     "output_type": "stream",
     "text": [
      "Elaborating design...\n",
      "Done elaborating.\n",
      "module Reducer(\n",
      "  input        clock,\n",
      "  input        reset,\n",
      "  input  [1:0] io_in_0,\n",
      "  input  [1:0] io_in_1,\n",
      "  output [1:0] io_out\n",
      ");\n",
      "  assign io_out = io_in_1 + io_in_0; // @[cmd36.sc 10:31]\n",
      "endmodule\n",
      "\n"
     ]
    },
    {
     "data": {
      "text/plain": [
       "defined \u001b[32mclass\u001b[39m \u001b[36mReducer\u001b[39m"
      ]
     },
     "execution_count": 37,
     "metadata": {},
     "output_type": "execute_result"
    }
   ],
   "source": [
    "class Reducer(n: Int, w: Int) extends Module {\n",
    "    val io = IO(new Bundle {\n",
    "        val in  = Input(Vec(n, UInt(w.W)))\n",
    "// like val in  = Input(UInt((n*w).W))\n",
    "        val out = Output(UInt(w.W))\n",
    "    })\n",
    "    require(n > 0)\n",
    "    var totalSoFar = io.in(0)\n",
    "    for (i <- 1 until n)\n",
    "        totalSoFar = io.in(i) + totalSoFar\n",
    "    io.out := totalSoFar\n",
    "}\n",
    "//printVerilog(new Reducer(2,2))\n",
    "println (getVerilog(new Reducer(2,2)))"
   ]
  },
  {
   "cell_type": "markdown",
   "id": "28489195-134f-4a19-af20-fdefa539c2d1",
   "metadata": {
    "cell_style": "split"
   },
   "source": [
    "<img src=\"images/reducer.svg\" alt=\"reducer schematic\" style=\"width:30%;\" align=\"left\"/>"
   ]
  },
  {
   "cell_type": "markdown",
   "id": "remarkable-incidence",
   "metadata": {
    "slideshow": {
     "slide_type": "slide"
    }
   },
   "source": [
    "## Read-Only Memory (ROM) with `VecInit`\n",
    "* `VecInit` will create a `Wire` with its argument\n",
    "* Can also use `VecInit` to initialize registers (with `RegInit`)"
   ]
  },
  {
   "cell_type": "code",
   "execution_count": 38,
   "id": "medium-assembly",
   "metadata": {
    "cell_style": "split"
   },
   "outputs": [
    {
     "data": {
      "text/plain": [
       "defined \u001b[32mclass\u001b[39m \u001b[36mDivByXTable\u001b[39m"
      ]
     },
     "execution_count": 38,
     "metadata": {},
     "output_type": "execute_result"
    }
   ],
   "source": [
    "class DivByXTable(x: Int) extends Module {\n",
    "    val io = IO(new Bundle {\n",
    "        val in  = Input(UInt(4.W))\n",
    "        val out = Output(Bool())\n",
    "    })\n",
    "    var results = Seq[Bool]()\n",
    "    for (i <- 0 to 15) {\n",
    "        results = results :+ (i % x == 0).B\n",
    "    }\n",
    "    val table = VecInit(results)\n",
    "    io.out := table(io.in)\n",
    "}"
   ]
  },
  {
   "cell_type": "code",
   "execution_count": 39,
   "id": "pediatric-butler",
   "metadata": {
    "cell_style": "split"
   },
   "outputs": [
    {
     "name": "stdout",
     "output_type": "stream",
     "text": [
      "Elaborating design...\n",
      "Done elaborating.\n",
      "module DivByXTable(\n",
      "  input        clock,\n",
      "  input        reset,\n",
      "  input  [3:0] io_in,\n",
      "  output       io_out\n",
      ");\n",
      "  wire  _GEN_1 = 4'h1 == io_in ? 1'h0 : 1'h1; // @[cmd37.sc 11:12 cmd37.sc 11:12]\n",
      "  wire  _GEN_2 = 4'h2 == io_in ? 1'h0 : _GEN_1; // @[cmd37.sc 11:12 cmd37.sc 11:12]\n",
      "  wire  _GEN_4 = 4'h4 == io_in ? 1'h0 : 4'h3 == io_in | _GEN_2; // @[cmd37.sc 11:12 cmd37.sc 11:12]\n",
      "  wire  _GEN_5 = 4'h5 == io_in ? 1'h0 : _GEN_4; // @[cmd37.sc 11:12 cmd37.sc 11:12]\n",
      "  wire  _GEN_7 = 4'h7 == io_in ? 1'h0 : 4'h6 == io_in | _GEN_5; // @[cmd37.sc 11:12 cmd37.sc 11:12]\n",
      "  wire  _GEN_8 = 4'h8 == io_in ? 1'h0 : _GEN_7; // @[cmd37.sc 11:12 cmd37.sc 11:12]\n",
      "  wire  _GEN_10 = 4'ha == io_in ? 1'h0 : 4'h9 == io_in | _GEN_8; // @[cmd37.sc 11:12 cmd37.sc 11:12]\n",
      "  wire  _GEN_11 = 4'hb == io_in ? 1'h0 : _GEN_10; // @[cmd37.sc 11:12 cmd37.sc 11:12]\n",
      "  wire  _GEN_13 = 4'hd == io_in ? 1'h0 : 4'hc == io_in | _GEN_11; // @[cmd37.sc 11:12 cmd37.sc 11:12]\n",
      "  wire  _GEN_14 = 4'he == io_in ? 1'h0 : _GEN_13; // @[cmd37.sc 11:12 cmd37.sc 11:12]\n",
      "  assign io_out = 4'hf == io_in | _GEN_14; // @[cmd37.sc 11:12 cmd37.sc 11:12]\n",
      "endmodule\n",
      "\n"
     ]
    }
   ],
   "source": [
    "//printVerilog(new DivByXTable(3))\n",
    "println (getVerilog(new DivByXTable(3)))"
   ]
  },
  {
   "cell_type": "markdown",
   "id": "expected-ideal",
   "metadata": {
    "slideshow": {
     "slide_type": "slide"
    }
   },
   "source": [
    "## Chisel `Mem`\n",
    "\n",
    "* Construct for [memory](https://www.chisel-lang.org/chisel3/docs/explanations/memories.html) (dynamically addressable & mutable)\n",
    "* Backend will choose appropriate implementation technology\n",
    "* Default (Mem): _combinational read_ (0 cycle delay), _synchronous write_ (1 cycle delay)\n",
    "  * Can tweak delay parameters\n",
    "  * `SyncReadMem` has 1 cycle read delay\n",
    "* Memory ports can be declared implicitly or explicitly\n",
    "* Also has support for write masks"
   ]
  },
  {
   "cell_type": "markdown",
   "id": "later-drama",
   "metadata": {
    "slideshow": {
     "slide_type": "slide"
    }
   },
   "source": [
    "## Example: Register File (2R, 1W) - implicit ports"
   ]
  },
  {
   "cell_type": "code",
   "execution_count": 59,
   "id": "accomplished-teaching",
   "metadata": {
    "cell_style": "split"
   },
   "outputs": [
    {
     "data": {
      "text/plain": [
       "defined \u001b[32mclass\u001b[39m \u001b[36mRegFile\u001b[39m"
      ]
     },
     "execution_count": 59,
     "metadata": {},
     "output_type": "execute_result"
    }
   ],
   "source": [
    "class RegFile() extends Module {\n",
    "    val io = IO(new Bundle {\n",
    "        val r0addr = Input(UInt(5.W))\n",
    "        val r1addr = Input(UInt(5.W))\n",
    "        val w0addr = Input(UInt(5.W))\n",
    "        val w0en =   Input(Bool())\n",
    "        val w0data = Input(UInt(64.W))\n",
    "        val r0out =  Output(UInt(64.W))\n",
    "        val r1out =  Output(UInt(64.W))\n",
    "    })\n",
    "    //val regs = Mem(32, UInt(64.W))\n",
    "    val regs = Reg(Vec(32, UInt(64.W)))\n",
    "    io.r0out := regs(io.r0addr)\n",
    "    io.r1out := regs(io.r1addr)\n",
    "    when(io.w0en) {\n",
    "        regs(io.w0addr) := io.w0data\n",
    "    }\n",
    "}"
   ]
  },
  {
   "cell_type": "code",
   "execution_count": 60,
   "id": "extra-scoop",
   "metadata": {
    "cell_style": "split"
   },
   "outputs": [
    {
     "name": "stdout",
     "output_type": "stream",
     "text": [
      "Elaborating design...\n",
      "Done elaborating.\n",
      "module RegFile(\n",
      "  input         clock,\n",
      "  input         reset,\n",
      "  input  [4:0]  io_r0addr,\n",
      "  input  [4:0]  io_r1addr,\n",
      "  input  [4:0]  io_w0addr,\n",
      "  input         io_w0en,\n",
      "  input  [63:0] io_w0data,\n",
      "  output [63:0] io_r0out,\n",
      "  output [63:0] io_r1out\n",
      ");\n",
      "`ifdef RANDOMIZE_REG_INIT\n",
      "  reg [63:0] _RAND_0;\n",
      "  reg [63:0] _RAND_1;\n",
      "  reg [63:0] _RAND_2;\n",
      "  reg [63:0] _RAND_3;\n",
      "  reg [63:0] _RAND_4;\n",
      "  reg [63:0] _RAND_5;\n",
      "  reg [63:0] _RAND_6;\n",
      "  reg [63:0] _RAND_7;\n",
      "  reg [63:0] _RAND_8;\n",
      "  reg [63:0] _RAND_9;\n",
      "  reg [63:0] _RAND_10;\n",
      "  reg [63:0] _RAND_11;\n",
      "  reg [63:0] _RAND_12;\n",
      "  reg [63:0] _RAND_13;\n",
      "  reg [63:0] _RAND_14;\n",
      "  reg [63:0] _RAND_15;\n",
      "  reg [63:0] _RAND_16;\n",
      "  reg [63:0] _RAND_17;\n",
      "  reg [63:0] _RAND_18;\n",
      "  reg [63:0] _RAND_19;\n",
      "  reg [63:0] _RAND_20;\n",
      "  reg [63:0] _RAND_21;\n",
      "  reg [63:0] _RAND_22;\n",
      "  reg [63:0] _RAND_23;\n",
      "  reg [63:0] _RAND_24;\n",
      "  reg [63:0] _RAND_25;\n",
      "  reg [63:0] _RAND_26;\n",
      "  reg [63:0] _RAND_27;\n",
      "  reg [63:0] _RAND_28;\n",
      "  reg [63:0] _RAND_29;\n",
      "  reg [63:0] _RAND_30;\n",
      "  reg [63:0] _RAND_31;\n",
      "`endif // RANDOMIZE_REG_INIT\n",
      "  reg [63:0] regs_0; // @[cmd58.sc 12:19]\n",
      "  reg [63:0] regs_1; // @[cmd58.sc 12:19]\n",
      "  reg [63:0] regs_2; // @[cmd58.sc 12:19]\n",
      "  reg [63:0] regs_3; // @[cmd58.sc 12:19]\n",
      "  reg [63:0] regs_4; // @[cmd58.sc 12:19]\n",
      "  reg [63:0] regs_5; // @[cmd58.sc 12:19]\n",
      "  reg [63:0] regs_6; // @[cmd58.sc 12:19]\n",
      "  reg [63:0] regs_7; // @[cmd58.sc 12:19]\n",
      "  reg [63:0] regs_8; // @[cmd58.sc 12:19]\n",
      "  reg [63:0] regs_9; // @[cmd58.sc 12:19]\n",
      "  reg [63:0] regs_10; // @[cmd58.sc 12:19]\n",
      "  reg [63:0] regs_11; // @[cmd58.sc 12:19]\n",
      "  reg [63:0] regs_12; // @[cmd58.sc 12:19]\n",
      "  reg [63:0] regs_13; // @[cmd58.sc 12:19]\n",
      "  reg [63:0] regs_14; // @[cmd58.sc 12:19]\n",
      "  reg [63:0] regs_15; // @[cmd58.sc 12:19]\n",
      "  reg [63:0] regs_16; // @[cmd58.sc 12:19]\n",
      "  reg [63:0] regs_17; // @[cmd58.sc 12:19]\n",
      "  reg [63:0] regs_18; // @[cmd58.sc 12:19]\n",
      "  reg [63:0] regs_19; // @[cmd58.sc 12:19]\n",
      "  reg [63:0] regs_20; // @[cmd58.sc 12:19]\n",
      "  reg [63:0] regs_21; // @[cmd58.sc 12:19]\n",
      "  reg [63:0] regs_22; // @[cmd58.sc 12:19]\n",
      "  reg [63:0] regs_23; // @[cmd58.sc 12:19]\n",
      "  reg [63:0] regs_24; // @[cmd58.sc 12:19]\n",
      "  reg [63:0] regs_25; // @[cmd58.sc 12:19]\n",
      "  reg [63:0] regs_26; // @[cmd58.sc 12:19]\n",
      "  reg [63:0] regs_27; // @[cmd58.sc 12:19]\n",
      "  reg [63:0] regs_28; // @[cmd58.sc 12:19]\n",
      "  reg [63:0] regs_29; // @[cmd58.sc 12:19]\n",
      "  reg [63:0] regs_30; // @[cmd58.sc 12:19]\n",
      "  reg [63:0] regs_31; // @[cmd58.sc 12:19]\n",
      "  wire [63:0] _GEN_1 = 5'h1 == io_r0addr ? regs_1 : regs_0; // @[cmd58.sc 13:14 cmd58.sc 13:14]\n",
      "  wire [63:0] _GEN_2 = 5'h2 == io_r0addr ? regs_2 : _GEN_1; // @[cmd58.sc 13:14 cmd58.sc 13:14]\n",
      "  wire [63:0] _GEN_3 = 5'h3 == io_r0addr ? regs_3 : _GEN_2; // @[cmd58.sc 13:14 cmd58.sc 13:14]\n",
      "  wire [63:0] _GEN_4 = 5'h4 == io_r0addr ? regs_4 : _GEN_3; // @[cmd58.sc 13:14 cmd58.sc 13:14]\n",
      "  wire [63:0] _GEN_5 = 5'h5 == io_r0addr ? regs_5 : _GEN_4; // @[cmd58.sc 13:14 cmd58.sc 13:14]\n",
      "  wire [63:0] _GEN_6 = 5'h6 == io_r0addr ? regs_6 : _GEN_5; // @[cmd58.sc 13:14 cmd58.sc 13:14]\n",
      "  wire [63:0] _GEN_7 = 5'h7 == io_r0addr ? regs_7 : _GEN_6; // @[cmd58.sc 13:14 cmd58.sc 13:14]\n",
      "  wire [63:0] _GEN_8 = 5'h8 == io_r0addr ? regs_8 : _GEN_7; // @[cmd58.sc 13:14 cmd58.sc 13:14]\n",
      "  wire [63:0] _GEN_9 = 5'h9 == io_r0addr ? regs_9 : _GEN_8; // @[cmd58.sc 13:14 cmd58.sc 13:14]\n",
      "  wire [63:0] _GEN_10 = 5'ha == io_r0addr ? regs_10 : _GEN_9; // @[cmd58.sc 13:14 cmd58.sc 13:14]\n",
      "  wire [63:0] _GEN_11 = 5'hb == io_r0addr ? regs_11 : _GEN_10; // @[cmd58.sc 13:14 cmd58.sc 13:14]\n",
      "  wire [63:0] _GEN_12 = 5'hc == io_r0addr ? regs_12 : _GEN_11; // @[cmd58.sc 13:14 cmd58.sc 13:14]\n",
      "  wire [63:0] _GEN_13 = 5'hd == io_r0addr ? regs_13 : _GEN_12; // @[cmd58.sc 13:14 cmd58.sc 13:14]\n",
      "  wire [63:0] _GEN_14 = 5'he == io_r0addr ? regs_14 : _GEN_13; // @[cmd58.sc 13:14 cmd58.sc 13:14]\n",
      "  wire [63:0] _GEN_15 = 5'hf == io_r0addr ? regs_15 : _GEN_14; // @[cmd58.sc 13:14 cmd58.sc 13:14]\n",
      "  wire [63:0] _GEN_16 = 5'h10 == io_r0addr ? regs_16 : _GEN_15; // @[cmd58.sc 13:14 cmd58.sc 13:14]\n",
      "  wire [63:0] _GEN_17 = 5'h11 == io_r0addr ? regs_17 : _GEN_16; // @[cmd58.sc 13:14 cmd58.sc 13:14]\n",
      "  wire [63:0] _GEN_18 = 5'h12 == io_r0addr ? regs_18 : _GEN_17; // @[cmd58.sc 13:14 cmd58.sc 13:14]\n",
      "  wire [63:0] _GEN_19 = 5'h13 == io_r0addr ? regs_19 : _GEN_18; // @[cmd58.sc 13:14 cmd58.sc 13:14]\n",
      "  wire [63:0] _GEN_20 = 5'h14 == io_r0addr ? regs_20 : _GEN_19; // @[cmd58.sc 13:14 cmd58.sc 13:14]\n",
      "  wire [63:0] _GEN_21 = 5'h15 == io_r0addr ? regs_21 : _GEN_20; // @[cmd58.sc 13:14 cmd58.sc 13:14]\n",
      "  wire [63:0] _GEN_22 = 5'h16 == io_r0addr ? regs_22 : _GEN_21; // @[cmd58.sc 13:14 cmd58.sc 13:14]\n",
      "  wire [63:0] _GEN_23 = 5'h17 == io_r0addr ? regs_23 : _GEN_22; // @[cmd58.sc 13:14 cmd58.sc 13:14]\n",
      "  wire [63:0] _GEN_24 = 5'h18 == io_r0addr ? regs_24 : _GEN_23; // @[cmd58.sc 13:14 cmd58.sc 13:14]\n",
      "  wire [63:0] _GEN_25 = 5'h19 == io_r0addr ? regs_25 : _GEN_24; // @[cmd58.sc 13:14 cmd58.sc 13:14]\n",
      "  wire [63:0] _GEN_26 = 5'h1a == io_r0addr ? regs_26 : _GEN_25; // @[cmd58.sc 13:14 cmd58.sc 13:14]\n",
      "  wire [63:0] _GEN_27 = 5'h1b == io_r0addr ? regs_27 : _GEN_26; // @[cmd58.sc 13:14 cmd58.sc 13:14]\n",
      "  wire [63:0] _GEN_28 = 5'h1c == io_r0addr ? regs_28 : _GEN_27; // @[cmd58.sc 13:14 cmd58.sc 13:14]\n",
      "  wire [63:0] _GEN_29 = 5'h1d == io_r0addr ? regs_29 : _GEN_28; // @[cmd58.sc 13:14 cmd58.sc 13:14]\n",
      "  wire [63:0] _GEN_30 = 5'h1e == io_r0addr ? regs_30 : _GEN_29; // @[cmd58.sc 13:14 cmd58.sc 13:14]\n",
      "  wire [63:0] _GEN_33 = 5'h1 == io_r1addr ? regs_1 : regs_0; // @[cmd58.sc 14:14 cmd58.sc 14:14]\n",
      "  wire [63:0] _GEN_34 = 5'h2 == io_r1addr ? regs_2 : _GEN_33; // @[cmd58.sc 14:14 cmd58.sc 14:14]\n",
      "  wire [63:0] _GEN_35 = 5'h3 == io_r1addr ? regs_3 : _GEN_34; // @[cmd58.sc 14:14 cmd58.sc 14:14]\n",
      "  wire [63:0] _GEN_36 = 5'h4 == io_r1addr ? regs_4 : _GEN_35; // @[cmd58.sc 14:14 cmd58.sc 14:14]\n",
      "  wire [63:0] _GEN_37 = 5'h5 == io_r1addr ? regs_5 : _GEN_36; // @[cmd58.sc 14:14 cmd58.sc 14:14]\n",
      "  wire [63:0] _GEN_38 = 5'h6 == io_r1addr ? regs_6 : _GEN_37; // @[cmd58.sc 14:14 cmd58.sc 14:14]\n",
      "  wire [63:0] _GEN_39 = 5'h7 == io_r1addr ? regs_7 : _GEN_38; // @[cmd58.sc 14:14 cmd58.sc 14:14]\n",
      "  wire [63:0] _GEN_40 = 5'h8 == io_r1addr ? regs_8 : _GEN_39; // @[cmd58.sc 14:14 cmd58.sc 14:14]\n",
      "  wire [63:0] _GEN_41 = 5'h9 == io_r1addr ? regs_9 : _GEN_40; // @[cmd58.sc 14:14 cmd58.sc 14:14]\n",
      "  wire [63:0] _GEN_42 = 5'ha == io_r1addr ? regs_10 : _GEN_41; // @[cmd58.sc 14:14 cmd58.sc 14:14]\n",
      "  wire [63:0] _GEN_43 = 5'hb == io_r1addr ? regs_11 : _GEN_42; // @[cmd58.sc 14:14 cmd58.sc 14:14]\n",
      "  wire [63:0] _GEN_44 = 5'hc == io_r1addr ? regs_12 : _GEN_43; // @[cmd58.sc 14:14 cmd58.sc 14:14]\n",
      "  wire [63:0] _GEN_45 = 5'hd == io_r1addr ? regs_13 : _GEN_44; // @[cmd58.sc 14:14 cmd58.sc 14:14]\n",
      "  wire [63:0] _GEN_46 = 5'he == io_r1addr ? regs_14 : _GEN_45; // @[cmd58.sc 14:14 cmd58.sc 14:14]\n",
      "  wire [63:0] _GEN_47 = 5'hf == io_r1addr ? regs_15 : _GEN_46; // @[cmd58.sc 14:14 cmd58.sc 14:14]\n",
      "  wire [63:0] _GEN_48 = 5'h10 == io_r1addr ? regs_16 : _GEN_47; // @[cmd58.sc 14:14 cmd58.sc 14:14]\n",
      "  wire [63:0] _GEN_49 = 5'h11 == io_r1addr ? regs_17 : _GEN_48; // @[cmd58.sc 14:14 cmd58.sc 14:14]\n",
      "  wire [63:0] _GEN_50 = 5'h12 == io_r1addr ? regs_18 : _GEN_49; // @[cmd58.sc 14:14 cmd58.sc 14:14]\n",
      "  wire [63:0] _GEN_51 = 5'h13 == io_r1addr ? regs_19 : _GEN_50; // @[cmd58.sc 14:14 cmd58.sc 14:14]\n",
      "  wire [63:0] _GEN_52 = 5'h14 == io_r1addr ? regs_20 : _GEN_51; // @[cmd58.sc 14:14 cmd58.sc 14:14]\n",
      "  wire [63:0] _GEN_53 = 5'h15 == io_r1addr ? regs_21 : _GEN_52; // @[cmd58.sc 14:14 cmd58.sc 14:14]\n",
      "  wire [63:0] _GEN_54 = 5'h16 == io_r1addr ? regs_22 : _GEN_53; // @[cmd58.sc 14:14 cmd58.sc 14:14]\n",
      "  wire [63:0] _GEN_55 = 5'h17 == io_r1addr ? regs_23 : _GEN_54; // @[cmd58.sc 14:14 cmd58.sc 14:14]\n",
      "  wire [63:0] _GEN_56 = 5'h18 == io_r1addr ? regs_24 : _GEN_55; // @[cmd58.sc 14:14 cmd58.sc 14:14]\n",
      "  wire [63:0] _GEN_57 = 5'h19 == io_r1addr ? regs_25 : _GEN_56; // @[cmd58.sc 14:14 cmd58.sc 14:14]\n",
      "  wire [63:0] _GEN_58 = 5'h1a == io_r1addr ? regs_26 : _GEN_57; // @[cmd58.sc 14:14 cmd58.sc 14:14]\n",
      "  wire [63:0] _GEN_59 = 5'h1b == io_r1addr ? regs_27 : _GEN_58; // @[cmd58.sc 14:14 cmd58.sc 14:14]\n",
      "  wire [63:0] _GEN_60 = 5'h1c == io_r1addr ? regs_28 : _GEN_59; // @[cmd58.sc 14:14 cmd58.sc 14:14]\n",
      "  wire [63:0] _GEN_61 = 5'h1d == io_r1addr ? regs_29 : _GEN_60; // @[cmd58.sc 14:14 cmd58.sc 14:14]\n",
      "  wire [63:0] _GEN_62 = 5'h1e == io_r1addr ? regs_30 : _GEN_61; // @[cmd58.sc 14:14 cmd58.sc 14:14]\n",
      "  assign io_r0out = 5'h1f == io_r0addr ? regs_31 : _GEN_30; // @[cmd58.sc 13:14 cmd58.sc 13:14]\n",
      "  assign io_r1out = 5'h1f == io_r1addr ? regs_31 : _GEN_62; // @[cmd58.sc 14:14 cmd58.sc 14:14]\n",
      "  always @(posedge clock) begin\n",
      "    if (io_w0en) begin // @[cmd58.sc 15:19]\n",
      "      if (5'h0 == io_w0addr) begin // @[cmd58.sc 16:25]\n",
      "        regs_0 <= io_w0data; // @[cmd58.sc 16:25]\n",
      "      end\n",
      "    end\n",
      "    if (io_w0en) begin // @[cmd58.sc 15:19]\n",
      "      if (5'h1 == io_w0addr) begin // @[cmd58.sc 16:25]\n",
      "        regs_1 <= io_w0data; // @[cmd58.sc 16:25]\n",
      "      end\n",
      "    end\n",
      "    if (io_w0en) begin // @[cmd58.sc 15:19]\n",
      "      if (5'h2 == io_w0addr) begin // @[cmd58.sc 16:25]\n",
      "        regs_2 <= io_w0data; // @[cmd58.sc 16:25]\n",
      "      end\n",
      "    end\n",
      "    if (io_w0en) begin // @[cmd58.sc 15:19]\n",
      "      if (5'h3 == io_w0addr) begin // @[cmd58.sc 16:25]\n",
      "        regs_3 <= io_w0data; // @[cmd58.sc 16:25]\n",
      "      end\n",
      "    end\n",
      "    if (io_w0en) begin // @[cmd58.sc 15:19]\n",
      "      if (5'h4 == io_w0addr) begin // @[cmd58.sc 16:25]\n",
      "        regs_4 <= io_w0data; // @[cmd58.sc 16:25]\n",
      "      end\n",
      "    end\n",
      "    if (io_w0en) begin // @[cmd58.sc 15:19]\n",
      "      if (5'h5 == io_w0addr) begin // @[cmd58.sc 16:25]\n",
      "        regs_5 <= io_w0data; // @[cmd58.sc 16:25]\n",
      "      end\n",
      "    end\n",
      "    if (io_w0en) begin // @[cmd58.sc 15:19]\n",
      "      if (5'h6 == io_w0addr) begin // @[cmd58.sc 16:25]\n",
      "        regs_6 <= io_w0data; // @[cmd58.sc 16:25]\n",
      "      end\n",
      "    end\n",
      "    if (io_w0en) begin // @[cmd58.sc 15:19]\n",
      "      if (5'h7 == io_w0addr) begin // @[cmd58.sc 16:25]\n",
      "        regs_7 <= io_w0data; // @[cmd58.sc 16:25]\n",
      "      end\n",
      "    end\n",
      "    if (io_w0en) begin // @[cmd58.sc 15:19]\n",
      "      if (5'h8 == io_w0addr) begin // @[cmd58.sc 16:25]\n",
      "        regs_8 <= io_w0data; // @[cmd58.sc 16:25]\n",
      "      end\n",
      "    end\n",
      "    if (io_w0en) begin // @[cmd58.sc 15:19]\n",
      "      if (5'h9 == io_w0addr) begin // @[cmd58.sc 16:25]\n",
      "        regs_9 <= io_w0data; // @[cmd58.sc 16:25]\n",
      "      end\n",
      "    end\n",
      "    if (io_w0en) begin // @[cmd58.sc 15:19]\n",
      "      if (5'ha == io_w0addr) begin // @[cmd58.sc 16:25]\n",
      "        regs_10 <= io_w0data; // @[cmd58.sc 16:25]\n",
      "      end\n",
      "    end\n",
      "    if (io_w0en) begin // @[cmd58.sc 15:19]\n",
      "      if (5'hb == io_w0addr) begin // @[cmd58.sc 16:25]\n",
      "        regs_11 <= io_w0data; // @[cmd58.sc 16:25]\n",
      "      end\n",
      "    end\n",
      "    if (io_w0en) begin // @[cmd58.sc 15:19]\n",
      "      if (5'hc == io_w0addr) begin // @[cmd58.sc 16:25]\n",
      "        regs_12 <= io_w0data; // @[cmd58.sc 16:25]\n",
      "      end\n",
      "    end\n",
      "    if (io_w0en) begin // @[cmd58.sc 15:19]\n",
      "      if (5'hd == io_w0addr) begin // @[cmd58.sc 16:25]\n",
      "        regs_13 <= io_w0data; // @[cmd58.sc 16:25]\n",
      "      end\n",
      "    end\n",
      "    if (io_w0en) begin // @[cmd58.sc 15:19]\n",
      "      if (5'he == io_w0addr) begin // @[cmd58.sc 16:25]\n",
      "        regs_14 <= io_w0data; // @[cmd58.sc 16:25]\n",
      "      end\n",
      "    end\n",
      "    if (io_w0en) begin // @[cmd58.sc 15:19]\n",
      "      if (5'hf == io_w0addr) begin // @[cmd58.sc 16:25]\n",
      "        regs_15 <= io_w0data; // @[cmd58.sc 16:25]\n",
      "      end\n",
      "    end\n",
      "    if (io_w0en) begin // @[cmd58.sc 15:19]\n",
      "      if (5'h10 == io_w0addr) begin // @[cmd58.sc 16:25]\n",
      "        regs_16 <= io_w0data; // @[cmd58.sc 16:25]\n",
      "      end\n",
      "    end\n",
      "    if (io_w0en) begin // @[cmd58.sc 15:19]\n",
      "      if (5'h11 == io_w0addr) begin // @[cmd58.sc 16:25]\n",
      "        regs_17 <= io_w0data; // @[cmd58.sc 16:25]\n",
      "      end\n",
      "    end\n",
      "    if (io_w0en) begin // @[cmd58.sc 15:19]\n",
      "      if (5'h12 == io_w0addr) begin // @[cmd58.sc 16:25]\n",
      "        regs_18 <= io_w0data; // @[cmd58.sc 16:25]\n",
      "      end\n",
      "    end\n",
      "    if (io_w0en) begin // @[cmd58.sc 15:19]\n",
      "      if (5'h13 == io_w0addr) begin // @[cmd58.sc 16:25]\n",
      "        regs_19 <= io_w0data; // @[cmd58.sc 16:25]\n",
      "      end\n",
      "    end\n",
      "    if (io_w0en) begin // @[cmd58.sc 15:19]\n",
      "      if (5'h14 == io_w0addr) begin // @[cmd58.sc 16:25]\n",
      "        regs_20 <= io_w0data; // @[cmd58.sc 16:25]\n",
      "      end\n",
      "    end\n",
      "    if (io_w0en) begin // @[cmd58.sc 15:19]\n",
      "      if (5'h15 == io_w0addr) begin // @[cmd58.sc 16:25]\n",
      "        regs_21 <= io_w0data; // @[cmd58.sc 16:25]\n",
      "      end\n",
      "    end\n",
      "    if (io_w0en) begin // @[cmd58.sc 15:19]\n",
      "      if (5'h16 == io_w0addr) begin // @[cmd58.sc 16:25]\n",
      "        regs_22 <= io_w0data; // @[cmd58.sc 16:25]\n",
      "      end\n",
      "    end\n",
      "    if (io_w0en) begin // @[cmd58.sc 15:19]\n",
      "      if (5'h17 == io_w0addr) begin // @[cmd58.sc 16:25]\n",
      "        regs_23 <= io_w0data; // @[cmd58.sc 16:25]\n",
      "      end\n",
      "    end\n",
      "    if (io_w0en) begin // @[cmd58.sc 15:19]\n",
      "      if (5'h18 == io_w0addr) begin // @[cmd58.sc 16:25]\n",
      "        regs_24 <= io_w0data; // @[cmd58.sc 16:25]\n",
      "      end\n",
      "    end\n",
      "    if (io_w0en) begin // @[cmd58.sc 15:19]\n",
      "      if (5'h19 == io_w0addr) begin // @[cmd58.sc 16:25]\n",
      "        regs_25 <= io_w0data; // @[cmd58.sc 16:25]\n",
      "      end\n",
      "    end\n",
      "    if (io_w0en) begin // @[cmd58.sc 15:19]\n",
      "      if (5'h1a == io_w0addr) begin // @[cmd58.sc 16:25]\n",
      "        regs_26 <= io_w0data; // @[cmd58.sc 16:25]\n",
      "      end\n",
      "    end\n",
      "    if (io_w0en) begin // @[cmd58.sc 15:19]\n",
      "      if (5'h1b == io_w0addr) begin // @[cmd58.sc 16:25]\n",
      "        regs_27 <= io_w0data; // @[cmd58.sc 16:25]\n",
      "      end\n",
      "    end\n",
      "    if (io_w0en) begin // @[cmd58.sc 15:19]\n",
      "      if (5'h1c == io_w0addr) begin // @[cmd58.sc 16:25]\n",
      "        regs_28 <= io_w0data; // @[cmd58.sc 16:25]\n",
      "      end\n",
      "    end\n",
      "    if (io_w0en) begin // @[cmd58.sc 15:19]\n",
      "      if (5'h1d == io_w0addr) begin // @[cmd58.sc 16:25]\n",
      "        regs_29 <= io_w0data; // @[cmd58.sc 16:25]\n",
      "      end\n",
      "    end\n",
      "    if (io_w0en) begin // @[cmd58.sc 15:19]\n",
      "      if (5'h1e == io_w0addr) begin // @[cmd58.sc 16:25]\n",
      "        regs_30 <= io_w0data; // @[cmd58.sc 16:25]\n",
      "      end\n",
      "    end\n",
      "    if (io_w0en) begin // @[cmd58.sc 15:19]\n",
      "      if (5'h1f == io_w0addr) begin // @[cmd58.sc 16:25]\n",
      "        regs_31 <= io_w0data; // @[cmd58.sc 16:25]\n",
      "      end\n",
      "    end\n",
      "  end\n",
      "// Register and memory initialization\n",
      "`ifdef RANDOMIZE_GARBAGE_ASSIGN\n",
      "`define RANDOMIZE\n",
      "`endif\n",
      "`ifdef RANDOMIZE_INVALID_ASSIGN\n",
      "`define RANDOMIZE\n",
      "`endif\n",
      "`ifdef RANDOMIZE_REG_INIT\n",
      "`define RANDOMIZE\n",
      "`endif\n",
      "`ifdef RANDOMIZE_MEM_INIT\n",
      "`define RANDOMIZE\n",
      "`endif\n",
      "`ifndef RANDOM\n",
      "`define RANDOM $random\n",
      "`endif\n",
      "`ifdef RANDOMIZE_MEM_INIT\n",
      "  integer initvar;\n",
      "`endif\n",
      "`ifndef SYNTHESIS\n",
      "`ifdef FIRRTL_BEFORE_INITIAL\n",
      "`FIRRTL_BEFORE_INITIAL\n",
      "`endif\n",
      "initial begin\n",
      "  `ifdef RANDOMIZE\n",
      "    `ifdef INIT_RANDOM\n",
      "      `INIT_RANDOM\n",
      "    `endif\n",
      "    `ifndef VERILATOR\n",
      "      `ifdef RANDOMIZE_DELAY\n",
      "        #`RANDOMIZE_DELAY begin end\n",
      "      `else\n",
      "        #0.002 begin end\n",
      "      `endif\n",
      "    `endif\n",
      "`ifdef RANDOMIZE_REG_INIT\n",
      "  _RAND_0 = {2{`RANDOM}};\n",
      "  regs_0 = _RAND_0[63:0];\n",
      "  _RAND_1 = {2{`RANDOM}};\n",
      "  regs_1 = _RAND_1[63:0];\n",
      "  _RAND_2 = {2{`RANDOM}};\n",
      "  regs_2 = _RAND_2[63:0];\n",
      "  _RAND_3 = {2{`RANDOM}};\n",
      "  regs_3 = _RAND_3[63:0];\n",
      "  _RAND_4 = {2{`RANDOM}};\n",
      "  regs_4 = _RAND_4[63:0];\n",
      "  _RAND_5 = {2{`RANDOM}};\n",
      "  regs_5 = _RAND_5[63:0];\n",
      "  _RAND_6 = {2{`RANDOM}};\n",
      "  regs_6 = _RAND_6[63:0];\n",
      "  _RAND_7 = {2{`RANDOM}};\n",
      "  regs_7 = _RAND_7[63:0];\n",
      "  _RAND_8 = {2{`RANDOM}};\n",
      "  regs_8 = _RAND_8[63:0];\n",
      "  _RAND_9 = {2{`RANDOM}};\n",
      "  regs_9 = _RAND_9[63:0];\n",
      "  _RAND_10 = {2{`RANDOM}};\n",
      "  regs_10 = _RAND_10[63:0];\n",
      "  _RAND_11 = {2{`RANDOM}};\n",
      "  regs_11 = _RAND_11[63:0];\n",
      "  _RAND_12 = {2{`RANDOM}};\n",
      "  regs_12 = _RAND_12[63:0];\n",
      "  _RAND_13 = {2{`RANDOM}};\n",
      "  regs_13 = _RAND_13[63:0];\n",
      "  _RAND_14 = {2{`RANDOM}};\n",
      "  regs_14 = _RAND_14[63:0];\n",
      "  _RAND_15 = {2{`RANDOM}};\n",
      "  regs_15 = _RAND_15[63:0];\n",
      "  _RAND_16 = {2{`RANDOM}};\n",
      "  regs_16 = _RAND_16[63:0];\n",
      "  _RAND_17 = {2{`RANDOM}};\n",
      "  regs_17 = _RAND_17[63:0];\n",
      "  _RAND_18 = {2{`RANDOM}};\n",
      "  regs_18 = _RAND_18[63:0];\n",
      "  _RAND_19 = {2{`RANDOM}};\n",
      "  regs_19 = _RAND_19[63:0];\n",
      "  _RAND_20 = {2{`RANDOM}};\n",
      "  regs_20 = _RAND_20[63:0];\n",
      "  _RAND_21 = {2{`RANDOM}};\n",
      "  regs_21 = _RAND_21[63:0];\n",
      "  _RAND_22 = {2{`RANDOM}};\n",
      "  regs_22 = _RAND_22[63:0];\n",
      "  _RAND_23 = {2{`RANDOM}};\n",
      "  regs_23 = _RAND_23[63:0];\n",
      "  _RAND_24 = {2{`RANDOM}};\n",
      "  regs_24 = _RAND_24[63:0];\n",
      "  _RAND_25 = {2{`RANDOM}};\n",
      "  regs_25 = _RAND_25[63:0];\n",
      "  _RAND_26 = {2{`RANDOM}};\n",
      "  regs_26 = _RAND_26[63:0];\n",
      "  _RAND_27 = {2{`RANDOM}};\n",
      "  regs_27 = _RAND_27[63:0];\n",
      "  _RAND_28 = {2{`RANDOM}};\n",
      "  regs_28 = _RAND_28[63:0];\n",
      "  _RAND_29 = {2{`RANDOM}};\n",
      "  regs_29 = _RAND_29[63:0];\n",
      "  _RAND_30 = {2{`RANDOM}};\n",
      "  regs_30 = _RAND_30[63:0];\n",
      "  _RAND_31 = {2{`RANDOM}};\n",
      "  regs_31 = _RAND_31[63:0];\n",
      "`endif // RANDOMIZE_REG_INIT\n",
      "  `endif // RANDOMIZE\n",
      "end // initial\n",
      "`ifdef FIRRTL_AFTER_INITIAL\n",
      "`FIRRTL_AFTER_INITIAL\n",
      "`endif\n",
      "`endif // SYNTHESIS\n",
      "endmodule\n",
      "\n"
     ]
    }
   ],
   "source": [
    "//printVerilog(new RegFile())\n",
    "println (getVerilog(new RegFile()))"
   ]
  },
  {
   "cell_type": "markdown",
   "id": "continent-episode",
   "metadata": {
    "slideshow": {
     "slide_type": "slide"
    }
   },
   "source": [
    "## Example: Register File (2R, 1W) - explicit ports"
   ]
  },
  {
   "cell_type": "code",
   "execution_count": 61,
   "id": "boxed-capitol",
   "metadata": {
    "cell_style": "split"
   },
   "outputs": [
    {
     "data": {
      "text/plain": [
       "defined \u001b[32mclass\u001b[39m \u001b[36mRegFile\u001b[39m"
      ]
     },
     "execution_count": 61,
     "metadata": {},
     "output_type": "execute_result"
    }
   ],
   "source": [
    "class RegFile extends Module {\n",
    "    val io = IO(new Bundle {\n",
    "        val r0addr = Input(UInt(5.W))\n",
    "        val r1addr = Input(UInt(5.W))\n",
    "        val w0addr = Input(UInt(5.W))\n",
    "        val w0en =   Input(Bool())\n",
    "        val w0data = Input(UInt(64.W))\n",
    "        val r0out =  Output(UInt(64.W))\n",
    "        val r1out =  Output(UInt(64.W))\n",
    "    })\n",
    "    val regs = Mem(32, UInt(64.W))\n",
    "    io.r0out := regs.read(io.r0addr)\n",
    "    io.r1out := regs.read(io.r1addr)\n",
    "    when (io.w0en) {\n",
    "        regs.write(io.w0addr,io.w0data)\n",
    "    }\n",
    "}"
   ]
  },
  {
   "cell_type": "code",
   "execution_count": 62,
   "id": "honey-arthritis",
   "metadata": {
    "cell_style": "split"
   },
   "outputs": [
    {
     "name": "stdout",
     "output_type": "stream",
     "text": [
      "Elaborating design...\n",
      "Done elaborating.\n",
      "module RegFile(\n",
      "  input         clock,\n",
      "  input         reset,\n",
      "  input  [4:0]  io_r0addr,\n",
      "  input  [4:0]  io_r1addr,\n",
      "  input  [4:0]  io_w0addr,\n",
      "  input         io_w0en,\n",
      "  input  [63:0] io_w0data,\n",
      "  output [63:0] io_r0out,\n",
      "  output [63:0] io_r1out\n",
      ");\n",
      "`ifdef RANDOMIZE_MEM_INIT\n",
      "  reg [63:0] _RAND_0;\n",
      "`endif // RANDOMIZE_MEM_INIT\n",
      "  reg [63:0] regs [0:31]; // @[cmd60.sc 11:19]\n",
      "  wire [63:0] regs_MPORT_data; // @[cmd60.sc 11:19]\n",
      "  wire [4:0] regs_MPORT_addr; // @[cmd60.sc 11:19]\n",
      "  wire [63:0] regs_MPORT_1_data; // @[cmd60.sc 11:19]\n",
      "  wire [4:0] regs_MPORT_1_addr; // @[cmd60.sc 11:19]\n",
      "  wire [63:0] regs_MPORT_2_data; // @[cmd60.sc 11:19]\n",
      "  wire [4:0] regs_MPORT_2_addr; // @[cmd60.sc 11:19]\n",
      "  wire  regs_MPORT_2_mask; // @[cmd60.sc 11:19]\n",
      "  wire  regs_MPORT_2_en; // @[cmd60.sc 11:19]\n",
      "  assign regs_MPORT_addr = io_r0addr;\n",
      "  assign regs_MPORT_data = regs[regs_MPORT_addr]; // @[cmd60.sc 11:19]\n",
      "  assign regs_MPORT_1_addr = io_r1addr;\n",
      "  assign regs_MPORT_1_data = regs[regs_MPORT_1_addr]; // @[cmd60.sc 11:19]\n",
      "  assign regs_MPORT_2_data = io_w0data;\n",
      "  assign regs_MPORT_2_addr = io_w0addr;\n",
      "  assign regs_MPORT_2_mask = 1'h1;\n",
      "  assign regs_MPORT_2_en = io_w0en;\n",
      "  assign io_r0out = regs_MPORT_data; // @[cmd60.sc 12:14]\n",
      "  assign io_r1out = regs_MPORT_1_data; // @[cmd60.sc 13:14]\n",
      "  always @(posedge clock) begin\n",
      "    if(regs_MPORT_2_en & regs_MPORT_2_mask) begin\n",
      "      regs[regs_MPORT_2_addr] <= regs_MPORT_2_data; // @[cmd60.sc 11:19]\n",
      "    end\n",
      "  end\n",
      "// Register and memory initialization\n",
      "`ifdef RANDOMIZE_GARBAGE_ASSIGN\n",
      "`define RANDOMIZE\n",
      "`endif\n",
      "`ifdef RANDOMIZE_INVALID_ASSIGN\n",
      "`define RANDOMIZE\n",
      "`endif\n",
      "`ifdef RANDOMIZE_REG_INIT\n",
      "`define RANDOMIZE\n",
      "`endif\n",
      "`ifdef RANDOMIZE_MEM_INIT\n",
      "`define RANDOMIZE\n",
      "`endif\n",
      "`ifndef RANDOM\n",
      "`define RANDOM $random\n",
      "`endif\n",
      "`ifdef RANDOMIZE_MEM_INIT\n",
      "  integer initvar;\n",
      "`endif\n",
      "`ifndef SYNTHESIS\n",
      "`ifdef FIRRTL_BEFORE_INITIAL\n",
      "`FIRRTL_BEFORE_INITIAL\n",
      "`endif\n",
      "initial begin\n",
      "  `ifdef RANDOMIZE\n",
      "    `ifdef INIT_RANDOM\n",
      "      `INIT_RANDOM\n",
      "    `endif\n",
      "    `ifndef VERILATOR\n",
      "      `ifdef RANDOMIZE_DELAY\n",
      "        #`RANDOMIZE_DELAY begin end\n",
      "      `else\n",
      "        #0.002 begin end\n",
      "      `endif\n",
      "    `endif\n",
      "`ifdef RANDOMIZE_MEM_INIT\n",
      "  _RAND_0 = {2{`RANDOM}};\n",
      "  for (initvar = 0; initvar < 32; initvar = initvar+1)\n",
      "    regs[initvar] = _RAND_0[63:0];\n",
      "`endif // RANDOMIZE_MEM_INIT\n",
      "  `endif // RANDOMIZE\n",
      "end // initial\n",
      "`ifdef FIRRTL_AFTER_INITIAL\n",
      "`FIRRTL_AFTER_INITIAL\n",
      "`endif\n",
      "`endif // SYNTHESIS\n",
      "endmodule\n",
      "\n"
     ]
    }
   ],
   "source": [
    "//printVerilog(new RegFile())\n",
    "println (getVerilog(new RegFile()))"
   ]
  },
  {
   "cell_type": "markdown",
   "id": "passing-consumer",
   "metadata": {
    "slideshow": {
     "slide_type": "slide"
    }
   },
   "source": [
    "## Example: Register File (NR, 1W) - parameterized ports"
   ]
  },
  {
   "cell_type": "code",
   "execution_count": 63,
   "id": "decent-dinner",
   "metadata": {
    "cell_style": "split"
   },
   "outputs": [
    {
     "data": {
      "text/plain": [
       "defined \u001b[32mclass\u001b[39m \u001b[36mRegFile\u001b[39m"
      ]
     },
     "execution_count": 63,
     "metadata": {},
     "output_type": "execute_result"
    }
   ],
   "source": [
    "class RegFile(nRead: Int) extends Module {\n",
    "    val io = IO(new Bundle {\n",
    "        val raddr  = Input(Vec(nRead, UInt(5.W)))\n",
    "        val w0addr = Input(UInt(5.W))\n",
    "        val w0en =   Input(Bool())\n",
    "        val w0data = Input(UInt(64.W))\n",
    "        val rout = Output(Vec(nRead, UInt(64.W)))\n",
    "    })\n",
    "    val regs = Mem(32, UInt(64.W))\n",
    "    for (i <- 0 until nRead)\n",
    "        io.rout(i) := regs(io.raddr(i))\n",
    "    when(io.w0en) {\n",
    "        regs(io.w0addr) := io.w0data\n",
    "    }\n",
    "}"
   ]
  },
  {
   "cell_type": "code",
   "execution_count": 64,
   "id": "intensive-speaker",
   "metadata": {
    "cell_style": "split"
   },
   "outputs": [
    {
     "name": "stdout",
     "output_type": "stream",
     "text": [
      "Elaborating design...\n",
      "Done elaborating.\n",
      "module RegFile(\n",
      "  input         clock,\n",
      "  input         reset,\n",
      "  input  [4:0]  io_raddr_0,\n",
      "  input  [4:0]  io_raddr_1,\n",
      "  input  [4:0]  io_raddr_2,\n",
      "  input  [4:0]  io_raddr_3,\n",
      "  input  [4:0]  io_w0addr,\n",
      "  input         io_w0en,\n",
      "  input  [63:0] io_w0data,\n",
      "  output [63:0] io_rout_0,\n",
      "  output [63:0] io_rout_1,\n",
      "  output [63:0] io_rout_2,\n",
      "  output [63:0] io_rout_3\n",
      ");\n",
      "`ifdef RANDOMIZE_MEM_INIT\n",
      "  reg [63:0] _RAND_0;\n",
      "`endif // RANDOMIZE_MEM_INIT\n",
      "  reg [63:0] regs [0:31]; // @[cmd62.sc 9:19]\n",
      "  wire [63:0] regs_MPORT_data; // @[cmd62.sc 9:19]\n",
      "  wire [4:0] regs_MPORT_addr; // @[cmd62.sc 9:19]\n",
      "  wire [63:0] regs_MPORT_1_data; // @[cmd62.sc 9:19]\n",
      "  wire [4:0] regs_MPORT_1_addr; // @[cmd62.sc 9:19]\n",
      "  wire [63:0] regs_MPORT_2_data; // @[cmd62.sc 9:19]\n",
      "  wire [4:0] regs_MPORT_2_addr; // @[cmd62.sc 9:19]\n",
      "  wire [63:0] regs_MPORT_3_data; // @[cmd62.sc 9:19]\n",
      "  wire [4:0] regs_MPORT_3_addr; // @[cmd62.sc 9:19]\n",
      "  wire [63:0] regs_MPORT_4_data; // @[cmd62.sc 9:19]\n",
      "  wire [4:0] regs_MPORT_4_addr; // @[cmd62.sc 9:19]\n",
      "  wire  regs_MPORT_4_mask; // @[cmd62.sc 9:19]\n",
      "  wire  regs_MPORT_4_en; // @[cmd62.sc 9:19]\n",
      "  assign regs_MPORT_addr = io_raddr_0;\n",
      "  assign regs_MPORT_data = regs[regs_MPORT_addr]; // @[cmd62.sc 9:19]\n",
      "  assign regs_MPORT_1_addr = io_raddr_1;\n",
      "  assign regs_MPORT_1_data = regs[regs_MPORT_1_addr]; // @[cmd62.sc 9:19]\n",
      "  assign regs_MPORT_2_addr = io_raddr_2;\n",
      "  assign regs_MPORT_2_data = regs[regs_MPORT_2_addr]; // @[cmd62.sc 9:19]\n",
      "  assign regs_MPORT_3_addr = io_raddr_3;\n",
      "  assign regs_MPORT_3_data = regs[regs_MPORT_3_addr]; // @[cmd62.sc 9:19]\n",
      "  assign regs_MPORT_4_data = io_w0data;\n",
      "  assign regs_MPORT_4_addr = io_w0addr;\n",
      "  assign regs_MPORT_4_mask = 1'h1;\n",
      "  assign regs_MPORT_4_en = io_w0en;\n",
      "  assign io_rout_0 = regs_MPORT_data; // @[cmd62.sc 11:20]\n",
      "  assign io_rout_1 = regs_MPORT_1_data; // @[cmd62.sc 11:20]\n",
      "  assign io_rout_2 = regs_MPORT_2_data; // @[cmd62.sc 11:20]\n",
      "  assign io_rout_3 = regs_MPORT_3_data; // @[cmd62.sc 11:20]\n",
      "  always @(posedge clock) begin\n",
      "    if(regs_MPORT_4_en & regs_MPORT_4_mask) begin\n",
      "      regs[regs_MPORT_4_addr] <= regs_MPORT_4_data; // @[cmd62.sc 9:19]\n",
      "    end\n",
      "  end\n",
      "// Register and memory initialization\n",
      "`ifdef RANDOMIZE_GARBAGE_ASSIGN\n",
      "`define RANDOMIZE\n",
      "`endif\n",
      "`ifdef RANDOMIZE_INVALID_ASSIGN\n",
      "`define RANDOMIZE\n",
      "`endif\n",
      "`ifdef RANDOMIZE_REG_INIT\n",
      "`define RANDOMIZE\n",
      "`endif\n",
      "`ifdef RANDOMIZE_MEM_INIT\n",
      "`define RANDOMIZE\n",
      "`endif\n",
      "`ifndef RANDOM\n",
      "`define RANDOM $random\n",
      "`endif\n",
      "`ifdef RANDOMIZE_MEM_INIT\n",
      "  integer initvar;\n",
      "`endif\n",
      "`ifndef SYNTHESIS\n",
      "`ifdef FIRRTL_BEFORE_INITIAL\n",
      "`FIRRTL_BEFORE_INITIAL\n",
      "`endif\n",
      "initial begin\n",
      "  `ifdef RANDOMIZE\n",
      "    `ifdef INIT_RANDOM\n",
      "      `INIT_RANDOM\n",
      "    `endif\n",
      "    `ifndef VERILATOR\n",
      "      `ifdef RANDOMIZE_DELAY\n",
      "        #`RANDOMIZE_DELAY begin end\n",
      "      `else\n",
      "        #0.002 begin end\n",
      "      `endif\n",
      "    `endif\n",
      "`ifdef RANDOMIZE_MEM_INIT\n",
      "  _RAND_0 = {2{`RANDOM}};\n",
      "  for (initvar = 0; initvar < 32; initvar = initvar+1)\n",
      "    regs[initvar] = _RAND_0[63:0];\n",
      "`endif // RANDOMIZE_MEM_INIT\n",
      "  `endif // RANDOMIZE\n",
      "end // initial\n",
      "`ifdef FIRRTL_AFTER_INITIAL\n",
      "`FIRRTL_AFTER_INITIAL\n",
      "`endif\n",
      "`endif // SYNTHESIS\n",
      "endmodule\n",
      "\n"
     ]
    }
   ],
   "source": [
    "//printVerilog(new RegFile(4))\n",
    "println (getVerilog(new RegFile(4)))"
   ]
  },
  {
   "cell_type": "markdown",
   "id": "decent-charleston",
   "metadata": {
    "slideshow": {
     "slide_type": "slide"
    }
   },
   "source": [
    "### Summary - When to Use Scala or Chisel Collection?\n",
    "\n",
    "* You will want to use a Scala collection (probably `Seq`) most often\n",
    "    * In a generator, want to instantiate N things\n",
    "    * You may need to address which thing you want, but you are accessing it during hardware generation time\n",
    "* You will need Chisel collections (`Vec`, `Mem`) when ...\n",
    "    * You want the generated hardware to dynamically address components (put muxes into actual hardware)\n",
    "    * You definitely want a memory (e.g. `SyncReadMem`)"
   ]
  }
 ],
 "metadata": {
  "celltoolbar": "Slideshow",
  "kernelspec": {
   "display_name": "Scala 2.12.11",
   "language": "scala",
   "name": "scala_2_12_11"
  },
  "language_info": {
   "codemirror_mode": "text/x-scala",
   "file_extension": ".scala",
   "mimetype": "text/x-scala",
   "name": "scala",
   "nbconvert_exporter": "script",
   "version": "2.12.11"
  }
 },
 "nbformat": 4,
 "nbformat_minor": 5
}
