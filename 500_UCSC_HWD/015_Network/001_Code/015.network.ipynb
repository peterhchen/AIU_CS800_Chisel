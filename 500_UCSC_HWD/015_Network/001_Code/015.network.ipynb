{
 "cells": [
  {
   "cell_type": "markdown",
   "id": "03cd52b5-a1e3-4aea-8bf6-fc8ed13b5642",
   "metadata": {
    "cell_style": "center",
    "slideshow": {
     "slide_type": "slide"
    }
   },
   "source": [
    "## Agile Hardware Design\n",
    "***\n",
    "# Network Design Case Study\n",
    "\n",
    "<img src=\"./images/chisel_logo.svg\" alt=\"agile hardware design logo\" style=\"width: 20%; float:right\"/>\n",
    "\n",
    "Peter Hanping Chen, based on\n",
    "\n",
    "- 1. UCB Bootcamp: configuration file load-ivy.sc: \n",
    "- https://github.com/freechipsproject/chisel-bootcamp/tree/master/source\n",
    "- 2. Prof. Scott Beamer, sbeamer@ucsc.edu, CSE 228A\n",
    "- https://classes.soe.ucsc.edu/cse228a/Winter24/"
   ]
  },
  {
   "cell_type": "markdown",
   "id": "nominated-consistency",
   "metadata": {
    "jp-MarkdownHeadingCollapsed": true,
    "slideshow": {
     "slide_type": "slide"
    }
   },
   "source": [
    "## Plan for Today\n",
    "\n",
    "* Sketch of progressive development plan\n",
    "* Starting from a crossbar\n",
    "* Ending with a parameterized network generator"
   ]
  },
  {
   "cell_type": "markdown",
   "id": "regular-reducing",
   "metadata": {
    "slideshow": {
     "slide_type": "slide"
    }
   },
   "source": [
    "## Loading The Chisel Library Into a Notebook"
   ]
  },
  {
   "cell_type": "code",
   "execution_count": 26,
   "id": "robust-immigration",
   "metadata": {},
   "outputs": [
    {
     "name": "stdout",
     "output_type": "stream",
     "text": [
      "path: /home/peter/AIU/AIU_CS800_Chisel/500_UCSC_HWD/015_Network/001_Code/source/load-ivy.sc\n"
     ]
    },
    {
     "data": {
      "text/plain": [
       "\u001b[36mpath\u001b[39m: \u001b[32mString\u001b[39m = \u001b[32m\"/home/peter/AIU/AIU_CS800_Chisel/500_UCSC_HWD/015_Network/001_Code/source/load-ivy.sc\"\u001b[39m"
      ]
     },
     "execution_count": 26,
     "metadata": {},
     "output_type": "execute_result"
    }
   ],
   "source": [
    "// interp.load.module(os.Path(s\"${System.getProperty(\"user.dir\")}/../resource/chisel_deps.sc\"))\n",
    "val path = System.getProperty(\"user.dir\") + \"/source/load-ivy.sc\"\n",
    "//val path = System.getProperty(\"user.dir\") + \"/source/chisel_deps.sc\"\n",
    "println(\"path: \"+path)\n",
    "interp.load.module(ammonite.ops.Path(java.nio.file.FileSystems.getDefault().getPath(path)))"
   ]
  },
  {
   "cell_type": "code",
   "execution_count": 27,
   "id": "extended-burning",
   "metadata": {
    "slideshow": {
     "slide_type": "-"
    }
   },
   "outputs": [
    {
     "data": {
      "text/plain": [
       "\u001b[32mimport \u001b[39m\u001b[36mchisel3._\n",
       "\u001b[39m\n",
       "\u001b[32mimport \u001b[39m\u001b[36mchisel3.util._\n",
       "\u001b[39m\n",
       "\u001b[32mimport \u001b[39m\u001b[36mchiseltest._\n",
       "\u001b[39m\n",
       "\u001b[32mimport \u001b[39m\u001b[36mchiseltest.RawTester.test\u001b[39m"
      ]
     },
     "execution_count": 27,
     "metadata": {},
     "output_type": "execute_result"
    }
   ],
   "source": [
    "import chisel3._\n",
    "import chisel3.util._\n",
    "import chiseltest._\n",
    "import chiseltest.RawTester.test"
   ]
  },
  {
   "cell_type": "markdown",
   "id": "armed-order",
   "metadata": {
    "slideshow": {
     "slide_type": "slide"
    }
   },
   "source": [
    "## Goals for Today\n",
    "\n",
    "* Demonstrate progressive/iterative development of a generator for an _on-chip network_\n",
    "  * Focus on process over polished end result\n",
    "* Design abstractions and apply _inheritance_ to reuse code\n",
    "* Caveats - today's design is a network generator in spirit, but lacks:\n",
    "  * support for many messages in flight\n",
    "  * reasonable test infrastructure\n",
    "  * comprehensive flow control, multi-beat transfers\n",
    "  * deadlock avoidance, quality-of-service (QoS) guarantees"
   ]
  },
  {
   "cell_type": "code",
   "execution_count": null,
   "id": "7a9fd441-5e75-4328-bebd-85b321d24171",
   "metadata": {
    "slideshow": {
     "slide_type": "slide"
    }
   },
   "outputs": [],
   "source": [
    "## Our Crossbar (`XBar`) Revised from Prior Lectures (1/3)\n",
    "\n",
    "<p>\n",
    "<img src=\"./images/xbar.svg\" alt=\"1-way ring network\" style=\"width:50%;float:left\" />"
   ]
  },
  {
   "cell_type": "markdown",
   "id": "71507670-8590-425e-952b-64874b9fbb24",
   "metadata": {
    "slideshow": {
     "slide_type": "slide"
    }
   },
   "source": [
    "## Our Crossbar (`XBar`) Revised from Prior Lectures (2/3)"
   ]
  },
  {
   "cell_type": "code",
   "execution_count": 28,
   "id": "mental-uganda",
   "metadata": {},
   "outputs": [
    {
     "data": {
      "text/plain": [
       "defined \u001b[32mclass\u001b[39m \u001b[36mMessage\u001b[39m\n",
       "defined \u001b[32mclass\u001b[39m \u001b[36mXBarIO\u001b[39m"
      ]
     },
     "execution_count": 28,
     "metadata": {},
     "output_type": "execute_result"
    }
   ],
   "source": [
    "class Message(numDests: Int, width: Int) extends Bundle {\n",
    "    val addr = UInt(log2Ceil(numDests).W)\n",
    "    val data = UInt(width.W)\n",
    "}\n",
    "\n",
    "class XBarIO(numIns: Int, numOuts: Int, width: Int) extends Bundle {\n",
    "    val in  = Vec(numIns, Flipped(Decoupled(new Message(numOuts, width))))\n",
    "    val out = Vec(numOuts, Decoupled(new Message(numOuts, width)))\n",
    "}"
   ]
  },
  {
   "cell_type": "markdown",
   "id": "wound-success",
   "metadata": {
    "slideshow": {
     "slide_type": "slide"
    }
   },
   "source": [
    "## Our Crossbar (`XBar`) Revised from Prior Lectures (3/3)"
   ]
  },
  {
   "cell_type": "code",
   "execution_count": 29,
   "id": "seasonal-demographic",
   "metadata": {},
   "outputs": [
    {
     "data": {
      "text/plain": [
       "defined \u001b[32mclass\u001b[39m \u001b[36mXBar\u001b[39m"
      ]
     },
     "execution_count": 29,
     "metadata": {},
     "output_type": "execute_result"
    }
   ],
   "source": [
    "class XBar(numIns: Int, numOuts: Int, width: Int) extends Module {\n",
    "    val io = IO(new XBarIO(numIns, numOuts, width))\n",
    "    val arbs = Seq.fill(numOuts)(Module(new RRArbiter(new Message(numOuts, width), numIns)))\n",
    "    for (ip <- 0 until numIns) {\n",
    "        // https://www.youtube.com/watch?v=RNwI5zN3qAs\n",
    "        // io.in(ip).ready := arbs.map{ _.io.in(ip).ready }.reduce { _ || _ }\n",
    "        io.in(ip).ready := VecInit(arbs.map{ _.io.in(ip).ready })(io.in(ip).bits.addr)\n",
    "    }\n",
    "    for (op <- 0 until numOuts) {\n",
    "        arbs(op).io.in.zip(io.in).foreach { case (arbIn, ioIn) =>\n",
    "            arbIn.bits <> ioIn.bits\n",
    "            arbIn.valid := ioIn.valid && (ioIn.bits.addr === op.U)\n",
    "        }\n",
    "        io.out(op) <> arbs(op).io.out\n",
    "    }\n",
    "}\n",
    "\n",
    "// declaration example: new XBar(4,4,64)"
   ]
  },
  {
   "cell_type": "markdown",
   "id": "accessory-laser",
   "metadata": {
    "slideshow": {
     "slide_type": "slide"
    }
   },
   "source": [
    "## Refactor Parameters with Case Classes (1/2)"
   ]
  },
  {
   "cell_type": "code",
   "execution_count": 30,
   "id": "incorrect-folder",
   "metadata": {},
   "outputs": [
    {
     "data": {
      "text/plain": [
       "defined \u001b[32mclass\u001b[39m \u001b[36mXBarParams\u001b[39m\n",
       "defined \u001b[32mclass\u001b[39m \u001b[36mMessage\u001b[39m\n",
       "defined \u001b[32mclass\u001b[39m \u001b[36mPortIO\u001b[39m"
      ]
     },
     "execution_count": 30,
     "metadata": {},
     "output_type": "execute_result"
    }
   ],
   "source": [
    "case class XBarParams(numHosts: Int, payloadSize: Int) {\n",
    "    def addrBitW() = log2Ceil(numHosts)\n",
    "}\n",
    "\n",
    "class Message(p: XBarParams) extends Bundle {\n",
    "    val addr = UInt(p.addrBitW.W)\n",
    "    val data = UInt(p.payloadSize.W)\n",
    "}\n",
    "\n",
    "class PortIO(p: XBarParams) extends Bundle {\n",
    "    val in = Flipped(Decoupled(new Message(p)))\n",
    "    val out = Decoupled(new Message(p))\n",
    "}"
   ]
  },
  {
   "cell_type": "markdown",
   "id": "known-yacht",
   "metadata": {
    "slideshow": {
     "slide_type": "slide"
    }
   },
   "source": [
    "## Refactor Parameters with Case Classes (2/2)"
   ]
  },
  {
   "cell_type": "code",
   "execution_count": 31,
   "id": "higher-sandwich",
   "metadata": {},
   "outputs": [
    {
     "data": {
      "text/plain": [
       "defined \u001b[32mclass\u001b[39m \u001b[36mXBar\u001b[39m"
      ]
     },
     "execution_count": 31,
     "metadata": {},
     "output_type": "execute_result"
    }
   ],
   "source": [
    "class XBar(p: XBarParams) extends Module {\n",
    "    val io = IO(new Bundle {\n",
    "        val ports = Vec(p.numHosts, new PortIO(p))\n",
    "    })\n",
    "    val arbs = Seq.fill(p.numHosts)(Module(new RRArbiter(new Message(p), p.numHosts)))\n",
    "    for (ip <- 0 until p.numHosts) {\n",
    "        io.ports(ip).in.ready := VecInit(arbs.map{ _.io.in(ip).ready })(io.ports(ip).in.bits.addr)\n",
    "    }\n",
    "    for (op <- 0 until p.numHosts) {\n",
    "        arbs(op).io.in.zip(io.ports).foreach { case (arbIn, port) =>\n",
    "            arbIn.bits <> port.in.bits\n",
    "            arbIn.valid := port.in.valid && (port.in.bits.addr === op.U)\n",
    "        }\n",
    "        io.ports(op).out <> arbs(op).io.out\n",
    "    }\n",
    "}\n",
    "\n",
    "// declaration example: new XBar(XBarParams(4,64))"
   ]
  },
  {
   "cell_type": "markdown",
   "id": "seven-robert",
   "metadata": {
    "slideshow": {
     "slide_type": "slide"
    }
   },
   "source": [
    "## Template Payload Data Type (1/2)"
   ]
  },
  {
   "cell_type": "code",
   "execution_count": 32,
   "id": "dental-sacrifice",
   "metadata": {},
   "outputs": [
    {
     "data": {
      "text/plain": [
       "defined \u001b[32mclass\u001b[39m \u001b[36mXBarParams\u001b[39m\n",
       "defined \u001b[32mclass\u001b[39m \u001b[36mMessage\u001b[39m\n",
       "defined \u001b[32mclass\u001b[39m \u001b[36mPortIO\u001b[39m"
      ]
     },
     "execution_count": 32,
     "metadata": {},
     "output_type": "execute_result"
    }
   ],
   "source": [
    "case class XBarParams[T <: chisel3.Data](numHosts: Int, payloadT: T) {\n",
    "    def addrBitW() = log2Ceil(numHosts)\n",
    "}\n",
    "\n",
    "class Message[T <: chisel3.Data](p: XBarParams[T]) extends Bundle {\n",
    "    val addr = UInt(p.addrBitW.W)\n",
    "    val data = p.payloadT\n",
    "}\n",
    "\n",
    "class PortIO[T <: chisel3.Data](p: XBarParams[T]) extends Bundle {\n",
    "    val in = Flipped(Decoupled(new Message(p)))\n",
    "    val out = Decoupled(new Message(p))\n",
    "}"
   ]
  },
  {
   "cell_type": "markdown",
   "id": "adolescent-jewel",
   "metadata": {
    "slideshow": {
     "slide_type": "slide"
    }
   },
   "source": [
    "## Template Payload Data Type (2/2)"
   ]
  },
  {
   "cell_type": "code",
   "execution_count": 33,
   "id": "military-singing",
   "metadata": {},
   "outputs": [
    {
     "data": {
      "text/plain": [
       "defined \u001b[32mclass\u001b[39m \u001b[36mXBar\u001b[39m"
      ]
     },
     "execution_count": 33,
     "metadata": {},
     "output_type": "execute_result"
    }
   ],
   "source": [
    "class XBar[T <: chisel3.Data](p: XBarParams[T]) extends Module {\n",
    "    val io = IO(new Bundle {\n",
    "        val ports = Vec(p.numHosts, new PortIO(p))\n",
    "    })\n",
    "    val arbs = Seq.fill(p.numHosts)(Module(new RRArbiter(new Message(p), p.numHosts)))\n",
    "    for (ip <- 0 until p.numHosts) {\n",
    "        io.ports(ip).in.ready := VecInit(arbs.map{ _.io.in(ip).ready })(io.ports(ip).in.bits.addr)\n",
    "    }\n",
    "    for (op <- 0 until p.numHosts) {\n",
    "        arbs(op).io.in.zip(io.ports).foreach { case (arbIn, port) =>\n",
    "            arbIn.bits <> port.in.bits\n",
    "            arbIn.valid := port.in.valid && (port.in.bits.addr === op.U)\n",
    "        }\n",
    "        io.ports(op).out <> arbs(op).io.out\n",
    "    }\n",
    "}\n",
    "\n",
    "// declaration example: new XBar(XBarParams(4,UInt(64.W)))"
   ]
  },
  {
   "cell_type": "markdown",
   "id": "99a7f30c-f7f5-4861-8d81-16768220b10c",
   "metadata": {
    "slideshow": {
     "slide_type": "slide"
    }
   },
   "source": [
    "## Need for Multi-hop Networks\n",
    "\n",
    "* Can only make a crossbar so big, at some point will need a _multi-hop_ interconnect\n",
    "* Sending messages over multiple hops requires _routing_ messages to right next hop\n",
    "\n",
    "### Moving to a Ring Network\n",
    "* A _ring network_ is a simple topology in 1-dimension\n",
    "* _Routing:_ (for now) if not at destination, send to next hop\n",
    "* _Plan:_ will develop independently first, then will look for commonality with `XBar`\n",
    "\n",
    "<img src=\"./images/ring1.svg\" alt=\"1-way ring network\" style=\"width:50%;float:left\" />"
   ]
  },
  {
   "cell_type": "markdown",
   "id": "binary-variety",
   "metadata": {
    "slideshow": {
     "slide_type": "slide"
    }
   },
   "source": [
    "## First Implementation of a Ring Network"
   ]
  },
  {
   "cell_type": "code",
   "execution_count": 34,
   "id": "central-parts",
   "metadata": {},
   "outputs": [
    {
     "data": {
      "text/plain": [
       "defined \u001b[32mclass\u001b[39m \u001b[36mRingRouter\u001b[39m\n",
       "defined \u001b[32mclass\u001b[39m \u001b[36mRingNetwork\u001b[39m"
      ]
     },
     "execution_count": 34,
     "metadata": {},
     "output_type": "execute_result"
    }
   ],
   "source": [
    "class RingRouter[T <: chisel3.Data](p: XBarParams[T], id: Int) extends Module {\n",
    "    val io = IO(new Bundle{\n",
    "        val in = Flipped(Decoupled(new Message(p)))\n",
    "        val out = Decoupled(new Message(p))\n",
    "        val host = new PortIO(p)\n",
    "    })\n",
    "    val forMe = io.in.bits.addr === id.U\n",
    "    // INCOMPLETE, but gives spirit\n",
    "    io.host.in.ready := io.out.ready\n",
    "    io.host.out.valid := forMe && io.in.valid\n",
    "    io.host.out.bits := io.in.bits\n",
    "    io.in.ready := forMe && io.host.out.ready || io.out.ready\n",
    "    io.out.valid := (io.in.fire && !forMe) || io.host.in.fire\n",
    "    io.out.bits := Mux(io.host.in.fire, io.host.in.bits, io.in.bits)\n",
    "}\n",
    "\n",
    "class RingNetwork[T <: chisel3.Data](p: XBarParams[T]) extends Module {\n",
    "    val io = IO(new Bundle {\n",
    "        val ports = Vec(p.numHosts, new PortIO(p))\n",
    "    })\n",
    "    val routers = Seq.tabulate(p.numHosts){ id => new RingRouter(p, id)}\n",
    "    routers.foldLeft(routers.last){ (prev, curr) => prev.io.out <> curr.io.in; curr}\n",
    "    routers.zip(io.ports).foreach { case (router, port) => router.io.host <> port}\n",
    "}"
   ]
  },
  {
   "cell_type": "markdown",
   "id": "6dd81b40-3946-4d44-b387-bd539c6e0ba4",
   "metadata": {
    "slideshow": {
     "slide_type": "slide"
    }
   },
   "source": [
    "## Looking for Commonality between `XBar` & `RingNetwork`\n",
    "\n",
    "* For users, choosing one or the other requires some code changes\n",
    "* _Commonality:_ both provide abstraction of network with decoupled bidirectional ports (interface)\n",
    "\n",
    "<img src=\"./images/ring1.svg\" alt=\"1-way ring network\" style=\"width:50%;float:left\" />\n",
    "<img src=\"./images/xbar.svg\" alt=\"1-way ring network\" style=\"width:50%;float:right\" />"
   ]
  },
  {
   "cell_type": "markdown",
   "id": "28a9e8e3-a9ea-46c5-a6bb-8ba3e2079f5e",
   "metadata": {},
   "source": [
    "## Generic Port for Network"
   ]
  },
  {
   "cell_type": "code",
   "execution_count": 35,
   "id": "asian-louisville",
   "metadata": {},
   "outputs": [
    {
     "data": {
      "text/plain": [
       "defined \u001b[32mclass\u001b[39m \u001b[36mNetworkParams\u001b[39m\n",
       "defined \u001b[32mclass\u001b[39m \u001b[36mMessage\u001b[39m\n",
       "defined \u001b[32mclass\u001b[39m \u001b[36mPortIO\u001b[39m\n",
       "defined \u001b[32mclass\u001b[39m \u001b[36mNetwork\u001b[39m"
      ]
     },
     "execution_count": 35,
     "metadata": {},
     "output_type": "execute_result"
    }
   ],
   "source": [
    "case class NetworkParams[T <: chisel3.Data](numHosts: Int, payloadT: T) {\n",
    "    def addrBitW() = log2Ceil(numHosts)\n",
    "}\n",
    "\n",
    "class Message[T <: chisel3.Data](p: NetworkParams[T]) extends Bundle {\n",
    "    val addr = UInt(p.addrBitW.W)\n",
    "    val data = p.payloadT\n",
    "}\n",
    "\n",
    "class PortIO[T <: chisel3.Data](p: NetworkParams[T]) extends Bundle {\n",
    "    val in = Flipped(Decoupled(new Message(p)))\n",
    "    val out = Decoupled(new Message(p))\n",
    "}\n",
    "\n",
    "abstract class Network[T <: chisel3.Data](p: NetworkParams[T]) extends Module {\n",
    "    val io = IO(new Bundle {\n",
    "        val ports = Vec(p.numHosts, new PortIO(p))\n",
    "    })\n",
    "}"
   ]
  },
  {
   "cell_type": "markdown",
   "id": "0ca1747c-a547-4402-9f70-ee2c89705b50",
   "metadata": {
    "slideshow": {
     "slide_type": "slide"
    }
   },
   "source": [
    "## Redo `XBar` with Inherited Interface"
   ]
  },
  {
   "cell_type": "code",
   "execution_count": 36,
   "id": "beneficial-clerk",
   "metadata": {
    "slideshow": {
     "slide_type": "-"
    }
   },
   "outputs": [
    {
     "data": {
      "text/plain": [
       "defined \u001b[32mclass\u001b[39m \u001b[36mXBar\u001b[39m"
      ]
     },
     "execution_count": 36,
     "metadata": {},
     "output_type": "execute_result"
    }
   ],
   "source": [
    "class XBar[T <: chisel3.Data](p: NetworkParams[T]) extends Network[T](p) {\n",
    "    val arbs = Seq.fill(p.numHosts)(Module(new RRArbiter(new Message(p), p.numHosts)))\n",
    "    for (ip <- 0 until p.numHosts) {\n",
    "        io.ports(ip).in.ready := VecInit(arbs.map{ _.io.in(ip).ready })(io.ports(ip).in.bits.addr)\n",
    "    }\n",
    "    for (op <- 0 until p.numHosts) {\n",
    "        arbs(op).io.in.zip(io.ports).foreach { case (arbIn, port) =>\n",
    "            arbIn.bits <> port.in.bits\n",
    "            arbIn.valid := port.in.valid && (port.in.bits.addr === op.U)\n",
    "        }\n",
    "        io.ports(op).out <> arbs(op).io.out\n",
    "    }\n",
    "}\n",
    "\n",
    "// declaration example: new XBar(NetworkParams(4,UInt(64.W)))"
   ]
  },
  {
   "cell_type": "markdown",
   "id": "d4c21901-f891-4154-a778-3264c8575c03",
   "metadata": {
    "slideshow": {
     "slide_type": "slide"
    }
   },
   "source": [
    "## Redo `RingNetwork` with Inherited Interface"
   ]
  },
  {
   "cell_type": "code",
   "execution_count": 37,
   "id": "helpful-intelligence",
   "metadata": {},
   "outputs": [
    {
     "data": {
      "text/plain": [
       "defined \u001b[32mclass\u001b[39m \u001b[36mRingRouter\u001b[39m\n",
       "defined \u001b[32mclass\u001b[39m \u001b[36mRingNetwork\u001b[39m"
      ]
     },
     "execution_count": 37,
     "metadata": {},
     "output_type": "execute_result"
    }
   ],
   "source": [
    "class RingRouter[T <: chisel3.Data](p: NetworkParams[T], id: Int) extends Module {\n",
    "    val io = IO(new Bundle{\n",
    "        val in = Flipped(Decoupled(new Message(p)))\n",
    "        val out = Decoupled(new Message(p))\n",
    "        val host = new PortIO(p)\n",
    "    })\n",
    "    val forMe = io.in.bits.addr === id.U\n",
    "    // INCOMPLETE, but gives spirit\n",
    "    io.host.in.ready := io.out.ready\n",
    "    io.host.out.valid := forMe && io.in.valid\n",
    "    io.host.out.bits := io.in.bits\n",
    "    io.in.ready := forMe && io.host.out.ready || io.out.ready\n",
    "    io.out.valid := (io.in.fire && !forMe) || io.host.in.fire\n",
    "    io.out.bits := Mux(io.host.in.fire, io.host.in.bits, io.in.bits)\n",
    "}\n",
    "\n",
    "class RingNetwork[T <: chisel3.Data](p: NetworkParams[T]) extends Network[T](p) {\n",
    "    val routers = Seq.tabulate(p.numHosts){ id => new RingRouter(p, id)}\n",
    "    routers.foldLeft(routers.last){ (prev, curr) => prev.io.out <> curr.io.in; curr}\n",
    "    routers.zip(io.ports).foreach { case (router, port) => router.io.host <> port}\n",
    "}"
   ]
  },
  {
   "cell_type": "markdown",
   "id": "b94e2e1a",
   "metadata": {
    "slideshow": {
     "slide_type": "slide"
    }
   },
   "source": [
    "## Assessing Revised `RingNetwork`\n",
    "\n",
    "* Parameterized number of hosts √\n",
    "* Parameterized data type √\n",
    "* _Poor performance:_ messages potentially take long routes\n",
    "* _Missing:_ graceful interchangability with `XBar`"
   ]
  },
  {
   "cell_type": "markdown",
   "id": "69b1eb3e-f13f-46e8-b50c-ad721f93d0e8",
   "metadata": {
    "slideshow": {
     "slide_type": "slide"
    }
   },
   "source": [
    "## Improve Ring by Sending Message in Shorter Direction\n",
    "\n",
    "* Make links between routers _bidirectional_ and send message to closer one\n",
    "  * Reduces number of hops\n",
    "  * Will complicate deadlocks and such, but will overlook that for today\n",
    "\n",
    "<img src=\"./images/ring2.svg\" alt=\"2-way ring network\" style=\"width:50%;align:left\" />"
   ]
  },
  {
   "cell_type": "markdown",
   "id": "9fe86c89-a21d-4361-a7c2-4f4fefd006dc",
   "metadata": {
    "slideshow": {
     "slide_type": "slide"
    }
   },
   "source": [
    "## Improve Ring by Refactoring Router\n",
    "\n",
    "* Recognize opportunity for _reuse_\n",
    "  * Router (internally) is basically a crossbar (switch) with routing logic\n",
    "  * _Routing logic:_ current router & destination address -> next port\n",
    "\n",
    "<img src=\"./images/ringrouter.svg\" alt=\"2-way ring network\" style=\"width:70%;align:left\" />"
   ]
  },
  {
   "cell_type": "markdown",
   "id": "satisfied-companion",
   "metadata": {
    "slideshow": {
     "slide_type": "slide"
    }
   },
   "source": [
    "## `RingRouter` Revised for Bidirectional & Reuse of `XBar`"
   ]
  },
  {
   "cell_type": "code",
   "execution_count": 38,
   "id": "israeli-committee",
   "metadata": {
    "slideshow": {
     "slide_type": "-"
    }
   },
   "outputs": [
    {
     "data": {
      "text/plain": [
       "defined \u001b[32mclass\u001b[39m \u001b[36mRingRouter\u001b[39m\n",
       "defined \u001b[32mclass\u001b[39m \u001b[36mRingNetwork\u001b[39m"
      ]
     },
     "execution_count": 38,
     "metadata": {},
     "output_type": "execute_result"
    }
   ],
   "source": [
    "class RingRouter[T <: chisel3.Data](p: NetworkParams[T], id: Int) extends Module {\n",
    "    val io = IO(new Bundle{\n",
    "        val ports = Vec(3, new PortIO(p)) // port(0) for left, port(1) for right, port(2) for host\n",
    "    })\n",
    "\n",
    "    def nextHop(destAddr: UInt): UInt = { // routing logic\n",
    "        val distTowards0 = Mux(destAddr < id.U, id.U - destAddr, id.U + (p.numHosts.U - destAddr))\n",
    "        val distTowards1 = Mux(destAddr > id.U, destAddr - id.U, (p.numHosts.U - id.U) + destAddr)\n",
    "        Mux(destAddr === id.U, 2.U, Mux(distTowards0 < distTowards1, 0.U, 1.U))\n",
    "    }\n",
    "\n",
    "    val xbarParams = NetworkParams(3, new Message(p))\n",
    "    val xbar = new XBar(xbarParams)\n",
    "    val portsRouted = io.ports map { port =>  \n",
    "        val routed = Wire(new PortIO(xbarParams))\n",
    "        // INCOMPLETE, need to connect ready & valids\n",
    "        routed.in.bits.addr := nextHop(port.in.bits.addr)\n",
    "        routed.in.bits.data := port.in.bits\n",
    "        port.out.bits := routed.out.bits.data\n",
    "        routed\n",
    "    }\n",
    "\n",
    "    portsRouted.zip(xbar.io.ports).foreach{ case (extPort, xbarPort) => extPort <> xbarPort }\n",
    "}\n",
    "\n",
    "class RingNetwork[T <: chisel3.Data](p: NetworkParams[T]) extends Network[T](p) {\n",
    "    val routers = Seq.tabulate(p.numHosts){ id => new RingRouter(p, id)}\n",
    "    routers.foldLeft(routers.last){ (prev, curr) => prev.io.ports(1) <> curr.io.ports(0); curr }\n",
    "    routers.zip(io.ports).foreach { case (router, port) => router.io.ports(2) <> port}\n",
    "}"
   ]
  },
  {
   "cell_type": "markdown",
   "id": "awful-association",
   "metadata": {
    "slideshow": {
     "slide_type": "slide"
    }
   },
   "source": [
    "## Assessing Revised `RingNetwork`\n",
    "\n",
    "* Parameterized number of hosts √\n",
    "* Parameterized data type √\n",
    "* Sends messages in shorter direction √\n",
    "* _Missing:_ graceful interchangability with `XBar`"
   ]
  },
  {
   "cell_type": "markdown",
   "id": "toxic-mortgage",
   "metadata": {
    "slideshow": {
     "slide_type": "slide"
    }
   },
   "source": [
    "## Making a `Network` Factory (1/3)\n",
    "\n",
    "* Can make specific sub-types for each topology"
   ]
  },
  {
   "cell_type": "code",
   "execution_count": 39,
   "id": "seeing-groove",
   "metadata": {},
   "outputs": [
    {
     "data": {
      "text/plain": [
       "defined \u001b[32mclass\u001b[39m \u001b[36mNetworkParams\u001b[39m\n",
       "defined \u001b[32mclass\u001b[39m \u001b[36mXBarParams\u001b[39m\n",
       "defined \u001b[32mclass\u001b[39m \u001b[36mRingParams\u001b[39m\n",
       "defined \u001b[32mclass\u001b[39m \u001b[36mMessage\u001b[39m\n",
       "defined \u001b[32mclass\u001b[39m \u001b[36mPortIO\u001b[39m\n",
       "defined \u001b[32mclass\u001b[39m \u001b[36mNetwork\u001b[39m"
      ]
     },
     "execution_count": 39,
     "metadata": {},
     "output_type": "execute_result"
    }
   ],
   "source": [
    "abstract class NetworkParams[T <: chisel3.Data] {\n",
    "    def numHosts: Int\n",
    "    def payloadT: T\n",
    "    val addrBitW = log2Ceil(numHosts)\n",
    "}\n",
    "\n",
    "case class XBarParams[T <: chisel3.Data](numHosts: Int, payloadT: T) extends NetworkParams[T]\n",
    "\n",
    "case class RingParams[T <: chisel3.Data](numHosts: Int, payloadT: T) extends NetworkParams[T]\n",
    "\n",
    "class Message[T <: chisel3.Data](p: NetworkParams[T]) extends Bundle {\n",
    "    val addr = UInt(p.addrBitW.W)\n",
    "    val data = p.payloadT\n",
    "}\n",
    "\n",
    "class PortIO[T <: chisel3.Data](p: NetworkParams[T]) extends Bundle {\n",
    "    val in = Flipped(Decoupled(new Message(p)))\n",
    "    val out = Decoupled(new Message(p))\n",
    "}\n",
    "\n",
    "abstract class Network[T <: chisel3.Data](p: NetworkParams[T]) extends Module {\n",
    "    val io = IO(new Bundle {\n",
    "        val ports = Vec(p.numHosts, new PortIO(p))\n",
    "    })\n",
    "}"
   ]
  },
  {
   "cell_type": "markdown",
   "id": "excellent-visibility",
   "metadata": {
    "slideshow": {
     "slide_type": "slide"
    }
   },
   "source": [
    "## Making a `Network` Factory (2/3)\n",
    "\n",
    "* Revise generators to use params specific to their type"
   ]
  },
  {
   "cell_type": "code",
   "execution_count": 40,
   "id": "identified-python",
   "metadata": {},
   "outputs": [
    {
     "data": {
      "text/plain": [
       "defined \u001b[32mclass\u001b[39m \u001b[36mXBar\u001b[39m\n",
       "defined \u001b[32mclass\u001b[39m \u001b[36mRingRouter\u001b[39m\n",
       "defined \u001b[32mclass\u001b[39m \u001b[36mRingNetwork\u001b[39m"
      ]
     },
     "execution_count": 40,
     "metadata": {},
     "output_type": "execute_result"
    }
   ],
   "source": [
    "class XBar[T <: chisel3.Data](p: XBarParams[T]) extends Network[T](p) {\n",
    "    val arbs = Seq.fill(p.numHosts)(Module(new RRArbiter(new Message(p), p.numHosts)))\n",
    "    for (ip <- 0 until p.numHosts) {\n",
    "        io.ports(ip).in.ready := VecInit(arbs.map{ _.io.in(ip).ready })(io.ports(ip).in.bits.addr)\n",
    "    }\n",
    "    for (op <- 0 until p.numHosts) {\n",
    "        arbs(op).io.in.zip(io.ports).foreach { case (arbIn, port) =>\n",
    "            arbIn.bits <> port.in.bits\n",
    "            arbIn.valid := port.in.valid && (port.in.bits.addr === op.U)\n",
    "        }\n",
    "        io.ports(op).out <> arbs(op).io.out\n",
    "    }\n",
    "}\n",
    "\n",
    "class RingRouter[T <: chisel3.Data](p: RingParams[T], id: Int) extends Module {\n",
    "    val io = IO(new Bundle{\n",
    "        val ports = Vec(3, new PortIO(p)) // port(2) for host\n",
    "    })\n",
    "\n",
    "    val xbarParams = XBarParams(3, new Message(p))\n",
    "    val xbar = new XBar(xbarParams)\n",
    "\n",
    "    def nextHop(destAddr: UInt): UInt = {\n",
    "        val distTowards0 = Mux(destAddr < id.U, id.U - destAddr, id.U + (p.numHosts.U - destAddr))\n",
    "        val distTowards1 = Mux(destAddr > id.U, destAddr - id.U, (p.numHosts.U - id.U) + destAddr)\n",
    "        Mux(destAddr === id.U, 2.U, Mux(distTowards0 < distTowards1, 0.U, 1.U))\n",
    "    }\n",
    "    val portsRouted = io.ports map { port =>  \n",
    "        val routed = Wire(new PortIO(xbarParams))\n",
    "        // INCOMPLETE, need to connect ready & valids\n",
    "        routed.in.bits.addr := nextHop(port.in.bits.addr)\n",
    "        routed.in.bits.data := port.in.bits\n",
    "        port.out.bits := routed.out.bits.data\n",
    "        routed\n",
    "    }\n",
    "\n",
    "    portsRouted.zip(xbar.io.ports).foreach{ case (extPort, xbarPort) => extPort <> xbarPort }\n",
    "}\n",
    "\n",
    "class RingNetwork[T <: chisel3.Data](p: RingParams[T]) extends Network[T](p) {\n",
    "    val routers = Seq.tabulate(p.numHosts){ id => new RingRouter(p, id)}\n",
    "    routers.foldLeft(routers.last){ (prev, curr) => prev.io.ports(1) <> curr.io.ports(0); curr }\n",
    "    routers.zip(io.ports).foreach { case (router, port) => router.io.ports(2) <> port}\n",
    "}"
   ]
  },
  {
   "cell_type": "markdown",
   "id": "325aca51",
   "metadata": {
    "slideshow": {
     "slide_type": "slide"
    }
   },
   "source": [
    "## Making a `Network` Factory (3/3)\n",
    "\n",
    "* Can pattern match on params for type"
   ]
  },
  {
   "cell_type": "code",
   "execution_count": 41,
   "id": "random-payday",
   "metadata": {},
   "outputs": [
    {
     "data": {
      "text/plain": [
       "defined \u001b[32mobject\u001b[39m \u001b[36mNetwork\u001b[39m"
      ]
     },
     "execution_count": 41,
     "metadata": {},
     "output_type": "execute_result"
    }
   ],
   "source": [
    "object Network {\n",
    "    def apply[T <: chisel3.Data](p: NetworkParams[T]): Network[T] = p match {\n",
    "        case xp: XBarParams[T] => new XBar(xp)\n",
    "        case rp: RingParams[T] => new RingNetwork(rp)\n",
    "    }\n",
    "}\n",
    "\n",
    "// Network(XBarParams(...))"
   ]
  },
  {
   "cell_type": "markdown",
   "id": "b6224dbe",
   "metadata": {
    "slideshow": {
     "slide_type": "slide"
    }
   },
   "source": [
    "## Assessing Revised `RingNetwork`\n",
    "\n",
    "* Parameterized number of hosts √\n",
    "* Parameterized data type √\n",
    "* Sends messages in shorter direction √\n",
    "* Graceful interchangability with `XBar` √"
   ]
  },
  {
   "cell_type": "markdown",
   "id": "sunrise-equation",
   "metadata": {
    "slideshow": {
     "slide_type": "slide"
    }
   },
   "source": [
    "## Let's Add More Network Topologies\n",
    "\n",
    "* What about a _mesh_ or a _torus_ instead of just a ring?\n",
    "* Can we share components between these networks?\n",
    "* Common abstractions:\n",
    "  * Router (including routing logic)\n",
    "  * Router interconnections"
   ]
  },
  {
   "cell_type": "markdown",
   "id": "75037a81-1a02-434b-b197-809df5a644c9",
   "metadata": {
    "slideshow": {
     "slide_type": "slide"
    }
   },
   "source": [
    "## Torus Topology\n",
    "\n",
    "<img src=\"./images/torus.svg\" alt=\"torus network\" style=\"width:60%; align:left\" />"
   ]
  },
  {
   "cell_type": "markdown",
   "id": "postal-surge",
   "metadata": {
    "slideshow": {
     "slide_type": "slide"
    }
   },
   "source": [
    "## Generalizing Router"
   ]
  },
  {
   "cell_type": "code",
   "execution_count": 42,
   "id": "unexpected-sharing",
   "metadata": {
    "slideshow": {
     "slide_type": "-"
    }
   },
   "outputs": [
    {
     "data": {
      "text/plain": [
       "defined \u001b[32mclass\u001b[39m \u001b[36mRouter\u001b[39m\n",
       "defined \u001b[32mclass\u001b[39m \u001b[36mMultiHopNetwork\u001b[39m"
      ]
     },
     "execution_count": 42,
     "metadata": {},
     "output_type": "execute_result"
    }
   ],
   "source": [
    "abstract class Router[T <: chisel3.Data] (p: NetworkParams[T], numPorts: Int, id: Int) extends Module {\n",
    "    val io = IO(new Bundle{\n",
    "        val ports = Vec(numPorts, new PortIO(p))\n",
    "        // convention: last port is for attached host\n",
    "    })\n",
    "\n",
    "    def nextHop(destAddr: UInt): UInt\n",
    "    \n",
    "    val xbarParams = XBarParams(numPorts, new Message(p))\n",
    "    val xbar = new XBar(xbarParams)\n",
    "    val portsRouted = io.ports map { port =>  \n",
    "        val routed = Wire(new PortIO(xbarParams))\n",
    "        // INCOMPLETE, need to connect ready & valids\n",
    "        routed.in.bits.addr := nextHop(port.in.bits.addr)\n",
    "        routed.in.bits.data := port.in.bits\n",
    "        port.out.bits := routed.out.bits.data\n",
    "        routed\n",
    "    }\n",
    "    portsRouted.zip(xbar.io.ports).foreach{ case (extPort, xbarPort) => extPort <> xbarPort }\n",
    "}\n",
    "\n",
    "abstract class MultiHopNetwork[T <: chisel3.Data](p: NetworkParams[T]) extends Network[T](p) {\n",
    "    val routers: Seq[Router[T]]\n",
    "    def connectRouters()\n",
    "    connectRouters()\n",
    "    routers.zip(io.ports).foreach { case (router, port) => router.io.ports.last <> port}\n",
    "}"
   ]
  },
  {
   "cell_type": "markdown",
   "id": "headed-penguin",
   "metadata": {
    "slideshow": {
     "slide_type": "slide"
    }
   },
   "source": [
    "## `RingNetwork` Revised with `MultiHopNetwork`"
   ]
  },
  {
   "cell_type": "code",
   "execution_count": 43,
   "id": "subjective-windsor",
   "metadata": {},
   "outputs": [
    {
     "data": {
      "text/plain": [
       "defined \u001b[32mclass\u001b[39m \u001b[36mRingRouter\u001b[39m\n",
       "defined \u001b[32mclass\u001b[39m \u001b[36mRingNetwork\u001b[39m"
      ]
     },
     "execution_count": 43,
     "metadata": {},
     "output_type": "execute_result"
    }
   ],
   "source": [
    "class RingRouter[T <: chisel3.Data](p: RingParams[T], id: Int) extends Router[T](p,3,id) {\n",
    "    def nextHop(destAddr: UInt): UInt = {\n",
    "        val distTowards0 = Mux(destAddr < id.U, id.U - destAddr, id.U + (p.numHosts.U - destAddr))\n",
    "        val distTowards1 = Mux(destAddr > id.U, destAddr - id.U, (p.numHosts.U - id.U) + destAddr)\n",
    "        Mux(destAddr === id.U, 2.U, Mux(distTowards0 < distTowards1, 0.U, 1.U))\n",
    "    }\n",
    "}\n",
    "\n",
    "class RingNetwork[T <: chisel3.Data](p: RingParams[T]) extends MultiHopNetwork[T](p) {\n",
    "    val routers = Seq.tabulate(p.numHosts){ id => new RingRouter(p, id)}\n",
    "    def connectRouters() {\n",
    "        routers.foldLeft(routers.last){ (prev, curr) => prev.io.ports(1) <> curr.io.ports(0); curr }\n",
    "    }\n",
    "}"
   ]
  },
  {
   "cell_type": "markdown",
   "id": "secure-gambling",
   "metadata": {
    "slideshow": {
     "slide_type": "slide"
    }
   },
   "source": [
    "## What About a 2D Torus?"
   ]
  },
  {
   "cell_type": "code",
   "execution_count": 44,
   "id": "positive-response",
   "metadata": {},
   "outputs": [
    {
     "data": {
      "text/plain": [
       "defined \u001b[32mclass\u001b[39m \u001b[36mTorusParams\u001b[39m\n",
       "defined \u001b[32mclass\u001b[39m \u001b[36mTorusRouter\u001b[39m\n",
       "defined \u001b[32mclass\u001b[39m \u001b[36mTorusNetwork\u001b[39m"
      ]
     },
     "execution_count": 44,
     "metadata": {},
     "output_type": "execute_result"
    }
   ],
   "source": [
    "case class TorusParams[T <: chisel3.Data](numHosts: Int, payloadT: T, numRows: Int) extends NetworkParams[T] {\n",
    "    require(numHosts % numRows == 0)\n",
    "    val numCols = numHosts / numRows\n",
    "}\n",
    "\n",
    "class TorusRouter[T <: chisel3.Data](p: TorusParams[T], id: Int) extends Router[T](p,5,id) {\n",
    "    def nextHop(destAddr: UInt): UInt = {\n",
    "        // FILL IN routing logic, e.g. dimension-ordered routing\n",
    "        destAddr // INCORRECT, but will allow to compile\n",
    "    }\n",
    "}\n",
    "\n",
    "class TorusNetwork[T <: chisel3.Data](p: TorusParams[T]) extends MultiHopNetwork[T](p) {\n",
    "    val routers = Seq.tabulate(p.numHosts){ id => new TorusRouter(p, id)}\n",
    "    def connectRouters() {\n",
    "        // FILL IN 2D connectivity\n",
    "    }\n",
    "}"
   ]
  },
  {
   "cell_type": "markdown",
   "id": "intellectual-nancy",
   "metadata": {
    "slideshow": {
     "slide_type": "slide"
    }
   },
   "source": [
    "## We Did It!\n",
    "\n",
    "* Reused common components between network types via _inheritance_\n",
    "  * Inherited interfaces as well as standard connections\n",
    "  * Each network focuses on what makes it unique\n",
    "  * Used case classes to pass around parameters\n",
    "* Can even integrate behind a factory"
   ]
  },
  {
   "cell_type": "code",
   "execution_count": 45,
   "id": "pressing-start",
   "metadata": {},
   "outputs": [
    {
     "data": {
      "text/plain": [
       "defined \u001b[32mobject\u001b[39m \u001b[36mNetwork\u001b[39m"
      ]
     },
     "execution_count": 45,
     "metadata": {},
     "output_type": "execute_result"
    }
   ],
   "source": [
    "object Network {\n",
    "    def apply[T <: chisel3.Data](p: NetworkParams[T]): Network[T] = p match {\n",
    "        case xp: XBarParams[T] => new XBar(xp)\n",
    "        case rp: RingParams[T] => new RingNetwork(rp)\n",
    "//         case TorusParams(numHosts, payloadT, 1) => new RingNetwork(RingParams(numHosts, payloadT))\n",
    "        case tp: TorusParams[T] => new TorusNetwork(tp)\n",
    "    }\n",
    "}\n",
    "\n",
    "// Network(TorusParams(16, UInt(128.W), 4))"
   ]
  },
  {
   "cell_type": "markdown",
   "id": "second-story",
   "metadata": {
    "slideshow": {
     "slide_type": "slide"
    }
   },
   "source": [
    "## Takeaways\n",
    "\n",
    "* With progressive design, don't be afraid to make specific/concrete at first\n",
    "  * Generalize when there is more than one instance\n",
    "* Keep an eye out for _reuse_ opportunities\n",
    "  * Copying & pasting (to start a module) is a sign there may be significant overlap\n",
    "* _Inheritance_ is a powerful tool to reuse implementations and interfaces\n",
    "* Can apply generics (templating) to increase flexibility"
   ]
  }
 ],
 "metadata": {
  "celltoolbar": "Slideshow",
  "kernelspec": {
   "display_name": "Scala 2.12.11",
   "language": "scala",
   "name": "scala_2_12_11"
  },
  "language_info": {
   "codemirror_mode": "text/x-scala",
   "file_extension": ".scala",
   "mimetype": "text/x-scala",
   "name": "scala",
   "nbconvert_exporter": "script",
   "version": "2.12.11"
  }
 },
 "nbformat": 4,
 "nbformat_minor": 5
}
