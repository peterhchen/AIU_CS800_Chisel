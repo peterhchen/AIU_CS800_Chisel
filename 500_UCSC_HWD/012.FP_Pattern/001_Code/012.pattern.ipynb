{
 "cells": [
  {
   "cell_type": "markdown",
   "id": "9a3e90e4-d40b-4cad-8028-8d124c5748e4",
   "metadata": {
    "slideshow": {
     "slide_type": "slide"
    }
   },
   "source": [
    "## Agile Hardware Design\n",
    "***\n",
    "# FP Conclusion + Pattern Matching\n",
    "\n",
    "<img src=\"./images/chisel_logo.svg\" alt=\"agile hardware design logo\" style=\"width:20%;float:right\"/>\n",
    "\n",
    "by Peter Hanping Chen based on \n",
    "1. UC Berkey bootcamp: Configuration file: source/load-ivy.sc\n",
    "- https://github.com/freechipsproject/chisel-bootcamp\n",
    "2. Prof. Scott Beamer, sbeamer@ucsc.edu\n",
    "- [CSE 228A](https://classes.soe.ucsc.edu/cse228a/Winter24/)"
   ]
  },
  {
   "cell_type": "markdown",
   "id": "4ad3ea02-fde9-43c4-b985-8c9ab5958a70",
   "metadata": {
    "slideshow": {
     "slide_type": "slide"
    }
   },
   "source": [
    "## Plan for Today\n",
    "\n",
    "* FP conclusion: flatMap, filter, sum\n",
    "* Pattern matching\n",
    "* Gracefully handling Option"
   ]
  },
  {
   "cell_type": "markdown",
   "id": "regular-reducing",
   "metadata": {
    "slideshow": {
     "slide_type": "slide"
    }
   },
   "source": [
    "## Loading The Chisel Library Into a Notebook"
   ]
  },
  {
   "cell_type": "code",
   "execution_count": 3,
   "id": "robust-immigration",
   "metadata": {},
   "outputs": [
    {
     "name": "stdout",
     "output_type": "stream",
     "text": [
      "path: /home/peter/AIU/AIU_CS800_Chisel/500_UCSC_HWD/012_FP_PatMatch/001_Code/source/load-ivy.sc\n"
     ]
    },
    {
     "data": {
      "text/plain": [
       "\u001b[36mpath\u001b[39m: \u001b[32mString\u001b[39m = \u001b[32m\"/home/peter/AIU/AIU_CS800_Chisel/500_UCSC_HWD/012_FP_PatMatch/001_Code/source/load-ivy.sc\"\u001b[39m"
      ]
     },
     "execution_count": 3,
     "metadata": {},
     "output_type": "execute_result"
    }
   ],
   "source": [
    "//interp.load.module(os.Path(s\"${System.getProperty(\"user.dir\")}/../resource/chisel_deps.sc\"))\n",
    "val path = System.getProperty(\"user.dir\") + \"/source/load-ivy.sc\"\n",
    "//val path = System.getProperty(\"user.dir\") + \"/source/chisel_deps.sc\"\n",
    "println(\"path: \"+path)\n",
    "interp.load.module(ammonite.ops.Path(java.nio.file.FileSystems.getDefault().getPath(path)))"
   ]
  },
  {
   "cell_type": "code",
   "execution_count": 4,
   "id": "extended-burning",
   "metadata": {
    "slideshow": {
     "slide_type": "-"
    }
   },
   "outputs": [
    {
     "data": {
      "text/plain": [
       "\u001b[32mimport \u001b[39m\u001b[36mchisel3._\n",
       "\u001b[39m\n",
       "\u001b[32mimport \u001b[39m\u001b[36mchisel3.util._\n",
       "\u001b[39m\n",
       "\u001b[32mimport \u001b[39m\u001b[36mchiseltest._\n",
       "\u001b[39m\n",
       "\u001b[32mimport \u001b[39m\u001b[36mchiseltest.RawTester.test\u001b[39m"
      ]
     },
     "execution_count": 4,
     "metadata": {},
     "output_type": "execute_result"
    }
   ],
   "source": [
    "import chisel3._\n",
    "import chisel3.util._\n",
    "import chiseltest._\n",
    "import chiseltest.RawTester.test"
   ]
  },
  {
   "cell_type": "markdown",
   "id": "official-policy",
   "metadata": {
    "slideshow": {
     "slide_type": "slide"
    }
   },
   "source": [
    "## Scala `flatMap`\n",
    "\n",
    "* Like `map`, but concatenates output of function's\n",
    "  * More direct than calling `map` and then `flatten`\n",
    "* Helpful for aggregating results of map when they are a collection\n",
    "* Also useful if map will return 0 or more elements"
   ]
  },
  {
   "cell_type": "code",
   "execution_count": 6,
   "id": "demanding-adams",
   "metadata": {},
   "outputs": [
    {
     "name": "stdout",
     "output_type": "stream",
     "text": [
      "l: Range 0 until 5\n",
      "l map { i => Seq.fill(i)(i) }: Vector(List(), List(1), List(2, 2), List(3, 3, 3), List(4, 4, 4, 4))\n",
      "(l map { i: Int => Seq.fill(i)(i) }).flatten: Vector(1, 2, 2, 3, 3, 3, 4, 4, 4, 4)\n",
      "l flatMap { i => Seq.fill(i)(i) } : Vector(1, 2, 2, 3, 3, 3, 4, 4, 4, 4)\n"
     ]
    },
    {
     "data": {
      "text/plain": [
       "\u001b[36ml\u001b[39m: \u001b[32mRange\u001b[39m = \u001b[33mRange\u001b[39m(\u001b[32m0\u001b[39m, \u001b[32m1\u001b[39m, \u001b[32m2\u001b[39m, \u001b[32m3\u001b[39m, \u001b[32m4\u001b[39m)"
      ]
     },
     "execution_count": 6,
     "metadata": {},
     "output_type": "execute_result"
    }
   ],
   "source": [
    "val l = 0 until 5\n",
    "print (\"l: \")\n",
    "println (l)\n",
    "// Seq.fill(2)(3)\n",
    "print (\"l map { i => Seq.fill(i)(i) }: \")\n",
    "println(l map { i => Seq.fill(i)(i) })\n",
    "print (\"(l map { i: Int => Seq.fill(i)(i) }).flatten: \")\n",
    "println ((l map { i: Int => Seq.fill(i)(i) }).flatten)\n",
    "print (\"l flatMap { i => Seq.fill(i)(i) } : \")\n",
    "println (l flatMap { i => Seq.fill(i)(i) })\n",
    "\n",
    "// l flatMap { i => if (i%2 == 0) Seq(i) else Seq()}"
   ]
  },
  {
   "cell_type": "markdown",
   "id": "df4e355a-e347-4640-9807-45a8c9387499",
   "metadata": {
    "slideshow": {
     "slide_type": "slide"
    }
   },
   "source": [
    "## Visualizing `map` on Collections\n",
    "\n",
    "<img src=\"images/mapOnC.svg\" alt=\"map on collections\" style=\"width:50%; align: left\"/>"
   ]
  },
  {
   "cell_type": "markdown",
   "id": "b892acbd-9d7b-4226-8eed-8ff908106180",
   "metadata": {
    "slideshow": {
     "slide_type": "slide"
    }
   },
   "source": [
    "## Visualizing `flatMap`\n",
    "\n",
    "<img src=\"images/flatmap.svg\" alt=\"flatmap\" style=\"width:50%;align:left\"/>"
   ]
  },
  {
   "cell_type": "markdown",
   "id": "divided-impression",
   "metadata": {
    "slideshow": {
     "slide_type": "slide"
    }
   },
   "source": [
    "## Applying Predicates in Scala\n",
    "\n",
    "* A _predicate_ is a function that given a single element, returns a `Boolean`\n",
    "* `filter` - elements persists to output collection only if predicate returns true\n",
    "* `forall` - true if and only if predicate is true for all elements\n",
    "* `exists` - true if predicate is true for at least one element"
   ]
  },
  {
   "cell_type": "code",
   "execution_count": 6,
   "id": "instant-standard",
   "metadata": {
    "scrolled": true
   },
   "outputs": [
    {
     "data": {
      "text/plain": [
       "defined \u001b[32mfunction\u001b[39m \u001b[36misEven\u001b[39m\n",
       "\u001b[36ml\u001b[39m: \u001b[32mRange\u001b[39m = \u001b[33mRange\u001b[39m(\u001b[32m0\u001b[39m, \u001b[32m1\u001b[39m, \u001b[32m2\u001b[39m, \u001b[32m3\u001b[39m, \u001b[32m4\u001b[39m)\n",
       "\u001b[36mres5_2\u001b[39m: \u001b[32mcollection\u001b[39m.\u001b[32mimmutable\u001b[39m.\u001b[32mIndexedSeq\u001b[39m[\u001b[32mInt\u001b[39m] = \u001b[33mVector\u001b[39m(\u001b[32m0\u001b[39m, \u001b[32m2\u001b[39m, \u001b[32m4\u001b[39m)\n",
       "\u001b[36mres5_3\u001b[39m: \u001b[32mcollection\u001b[39m.\u001b[32mimmutable\u001b[39m.\u001b[32mIndexedSeq\u001b[39m[\u001b[32mInt\u001b[39m] = \u001b[33mVector\u001b[39m(\u001b[32m1\u001b[39m, \u001b[32m3\u001b[39m)\n",
       "\u001b[36mres5_4\u001b[39m: \u001b[32mBoolean\u001b[39m = false\n",
       "\u001b[36mres5_5\u001b[39m: \u001b[32mBoolean\u001b[39m = true"
      ]
     },
     "execution_count": 6,
     "metadata": {},
     "output_type": "execute_result"
    }
   ],
   "source": [
    "def isEven(x: Int): Boolean = x % 2 == 0\n",
    "val l = 0 until 5\n",
    "\n",
    "l filter isEven\n",
    "// l filter { x => !isEven(x) }\n",
    "l filterNot isEven\n",
    "l forall isEven\n",
    "l exists isEven"
   ]
  },
  {
   "cell_type": "markdown",
   "id": "b34f6f60-ea52-4910-9a75-d942b311b0e6",
   "metadata": {
    "slideshow": {
     "slide_type": "slide"
    }
   },
   "source": [
    "## Visualizing `filter`\n",
    "\n",
    "<img src=\"images/filter.svg\" alt=\"filter viz\" style=\"width:40%;align:left\"/>"
   ]
  },
  {
   "cell_type": "markdown",
   "id": "presidential-accent",
   "metadata": {
    "slideshow": {
     "slide_type": "slide"
    }
   },
   "source": [
    "## Example: Prime Seive in Scala"
   ]
  },
  {
   "cell_type": "code",
   "execution_count": 7,
   "id": "agricultural-eight",
   "metadata": {
    "slideshow": {
     "slide_type": "-"
    }
   },
   "outputs": [
    {
     "name": "stdout",
     "output_type": "stream",
     "text": [
      "List(2, 3, 5, 7, 11, 13, 17, 19, 23, 29, 31, 37, 41, 43, 47, 53, 59, 61, 67, 71, 73, 79, 83, 89, 97)\n"
     ]
    },
    {
     "data": {
      "text/plain": [
       "defined \u001b[32mfunction\u001b[39m \u001b[36mmultipleOf\u001b[39m\n",
       "defined \u001b[32mfunction\u001b[39m \u001b[36mremoveMultiplesOfX\u001b[39m\n",
       "\u001b[36mallNums\u001b[39m: \u001b[32mRange\u001b[39m = \u001b[33mRange\u001b[39m(\n",
       "  \u001b[32m2\u001b[39m,\n",
       "  \u001b[32m3\u001b[39m,\n",
       "  \u001b[32m4\u001b[39m,\n",
       "  \u001b[32m5\u001b[39m,\n",
       "  \u001b[32m6\u001b[39m,\n",
       "  \u001b[32m7\u001b[39m,\n",
       "  \u001b[32m8\u001b[39m,\n",
       "  \u001b[32m9\u001b[39m,\n",
       "  \u001b[32m10\u001b[39m,\n",
       "  \u001b[32m11\u001b[39m,\n",
       "  \u001b[32m12\u001b[39m,\n",
       "  \u001b[32m13\u001b[39m,\n",
       "  \u001b[32m14\u001b[39m,\n",
       "  \u001b[32m15\u001b[39m,\n",
       "  \u001b[32m16\u001b[39m,\n",
       "  \u001b[32m17\u001b[39m,\n",
       "  \u001b[32m18\u001b[39m,\n",
       "  \u001b[32m19\u001b[39m,\n",
       "  \u001b[32m20\u001b[39m,\n",
       "  \u001b[32m21\u001b[39m,\n",
       "  \u001b[32m22\u001b[39m,\n",
       "  \u001b[32m23\u001b[39m,\n",
       "  \u001b[32m24\u001b[39m,\n",
       "  \u001b[32m25\u001b[39m,\n",
       "  \u001b[32m26\u001b[39m,\n",
       "  \u001b[32m27\u001b[39m,\n",
       "  \u001b[32m28\u001b[39m,\n",
       "  \u001b[32m29\u001b[39m,\n",
       "  \u001b[32m30\u001b[39m,\n",
       "  \u001b[32m31\u001b[39m,\n",
       "  \u001b[32m32\u001b[39m,\n",
       "  \u001b[32m33\u001b[39m,\n",
       "  \u001b[32m34\u001b[39m,\n",
       "  \u001b[32m35\u001b[39m,\n",
       "  \u001b[32m36\u001b[39m,\n",
       "  \u001b[32m37\u001b[39m,\n",
       "  \u001b[32m38\u001b[39m,\n",
       "  \u001b[32m39\u001b[39m,\n",
       "...\n",
       "defined \u001b[32mfunction\u001b[39m \u001b[36mseive\u001b[39m"
      ]
     },
     "execution_count": 7,
     "metadata": {},
     "output_type": "execute_result"
    }
   ],
   "source": [
    "def multipleOf(a: Int)(b: Int): Boolean = (b % a == 0)\n",
    "\n",
    "def removeMultiplesOfX(l: Seq[Int], x: Int) = l filterNot multipleOf(x)\n",
    "\n",
    "val allNums = 2 until 100\n",
    "\n",
    "// println(allNums filterNot multipleOf(5))\n",
    "// println(removeMultiplesOfX(allNums, 5))\n",
    "\n",
    "def seive(s: Seq[Int]): Seq[Int] = {\n",
    "    if (s.isEmpty) Seq()\n",
    "    else Seq(s.head) ++ seive(removeMultiplesOfX(s.tail, s.head))\n",
    "}\n",
    "\n",
    "println(seive(allNums))"
   ]
  },
  {
   "cell_type": "markdown",
   "id": "authorized-bacon",
   "metadata": {
    "slideshow": {
     "slide_type": "slide"
    }
   },
   "source": [
    "## Scala Has Common Reductions Built-in\n",
    "\n",
    "* `sum`, `product`, `min`, `max`"
   ]
  },
  {
   "cell_type": "code",
   "execution_count": 8,
   "id": "dangerous-copyright",
   "metadata": {},
   "outputs": [
    {
     "data": {
      "text/plain": [
       "\u001b[36ml\u001b[39m: \u001b[32mRange\u001b[39m = \u001b[33mRange\u001b[39m(\u001b[32m0\u001b[39m, \u001b[32m1\u001b[39m, \u001b[32m2\u001b[39m, \u001b[32m3\u001b[39m, \u001b[32m4\u001b[39m)\n",
       "\u001b[36mres7_1\u001b[39m: \u001b[32mInt\u001b[39m = \u001b[32m10\u001b[39m\n",
       "\u001b[36mres7_2\u001b[39m: \u001b[32mInt\u001b[39m = \u001b[32m10\u001b[39m\n",
       "\u001b[36mres7_3\u001b[39m: \u001b[32mInt\u001b[39m = \u001b[32m0\u001b[39m\n",
       "\u001b[36mres7_4\u001b[39m: \u001b[32mInt\u001b[39m = \u001b[32m0\u001b[39m\n",
       "\u001b[36mres7_5\u001b[39m: \u001b[32mInt\u001b[39m = \u001b[32m0\u001b[39m\n",
       "\u001b[36mres7_6\u001b[39m: \u001b[32mInt\u001b[39m = \u001b[32m0\u001b[39m\n",
       "\u001b[36mres7_7\u001b[39m: \u001b[32mInt\u001b[39m = \u001b[32m4\u001b[39m\n",
       "\u001b[36mres7_8\u001b[39m: \u001b[32mInt\u001b[39m = \u001b[32m4\u001b[39m"
      ]
     },
     "execution_count": 8,
     "metadata": {},
     "output_type": "execute_result"
    }
   ],
   "source": [
    "val l = 0 until 5\n",
    "l reduce { _ + _ }\n",
    "l.sum\n",
    "l reduce { _ * _ }\n",
    "l.product\n",
    "l reduce { _ min _ }\n",
    "l.min\n",
    "l reduce { _ max _ }\n",
    "l.max"
   ]
  },
  {
   "cell_type": "markdown",
   "id": "46cd644e",
   "metadata": {
    "slideshow": {
     "slide_type": "slide"
    }
   },
   "source": [
    "## Aside: Learn To Things the Scala Way\n",
    "\n",
    "* In many cases, Scala provides methods for things other languages wouldn't, such as:\n",
    "    * `isEmpty`/`nonEmpty`, `to`/`until`, `filter`/`filterNot`, `foldLeft`/`foldRight`\n",
    "* _Problem:_ Language newcomers may not know about all of the features or common idioms\n",
    "* _Solution A:_ Yet another reason to use an IDE, as it may recognize common launguage misuses\n",
    "* _Solution B:_ Code reviews and looking at the code of others can help\n",
    "* _Solution C:_ Read [Scala Collections Tips and Tricks](https://pavelfatin.com/scala-collections-tips-and-tricks/) by Pavel Fatin\n",
    "    * Linked from course website under _Reference $\\rightarrow$ Scala_"
   ]
  },
  {
   "cell_type": "markdown",
   "id": "prescription-marks",
   "metadata": {
    "slideshow": {
     "slide_type": "slide"
    }
   },
   "source": [
    "## Example: Using FP to do Matrix Multiplication (1/2)"
   ]
  },
  {
   "cell_type": "code",
   "execution_count": 9,
   "id": "solved-inflation",
   "metadata": {
    "scrolled": true
   },
   "outputs": [
    {
     "data": {
      "text/plain": [
       "\u001b[36mmat\u001b[39m: \u001b[32mSeq\u001b[39m[\u001b[32mSeq\u001b[39m[\u001b[32mInt\u001b[39m]] = \u001b[33mList\u001b[39m(\n",
       "  \u001b[33mList\u001b[39m(\u001b[32m0\u001b[39m, \u001b[32m1\u001b[39m, \u001b[32m2\u001b[39m, \u001b[32m3\u001b[39m),\n",
       "  \u001b[33mList\u001b[39m(\u001b[32m1\u001b[39m, \u001b[32m2\u001b[39m, \u001b[32m3\u001b[39m, \u001b[32m4\u001b[39m),\n",
       "  \u001b[33mList\u001b[39m(\u001b[32m2\u001b[39m, \u001b[32m3\u001b[39m, \u001b[32m4\u001b[39m, \u001b[32m5\u001b[39m),\n",
       "  \u001b[33mList\u001b[39m(\u001b[32m3\u001b[39m, \u001b[32m4\u001b[39m, \u001b[32m5\u001b[39m, \u001b[32m6\u001b[39m)\n",
       ")\n",
       "defined \u001b[32mfunction\u001b[39m \u001b[36mgrabCol\u001b[39m\n",
       "\u001b[36mres8_2\u001b[39m: \u001b[32mSeq\u001b[39m[\u001b[32mInt\u001b[39m] = \u001b[33mList\u001b[39m(\u001b[32m1\u001b[39m, \u001b[32m2\u001b[39m, \u001b[32m3\u001b[39m, \u001b[32m4\u001b[39m)\n",
       "defined \u001b[32mfunction\u001b[39m \u001b[36mdotP\u001b[39m\n",
       "defined \u001b[32mfunction\u001b[39m \u001b[36mmatMul\u001b[39m\n",
       "\u001b[36mres8_5\u001b[39m: \u001b[32mSeq\u001b[39m[\u001b[32mcollection\u001b[39m.\u001b[32mimmutable\u001b[39m.\u001b[32mIndexedSeq\u001b[39m[\u001b[32mInt\u001b[39m]] = \u001b[33mList\u001b[39m(\n",
       "  \u001b[33mVector\u001b[39m(\u001b[32m14\u001b[39m, \u001b[32m20\u001b[39m, \u001b[32m26\u001b[39m, \u001b[32m32\u001b[39m),\n",
       "  \u001b[33mVector\u001b[39m(\u001b[32m20\u001b[39m, \u001b[32m30\u001b[39m, \u001b[32m40\u001b[39m, \u001b[32m50\u001b[39m),\n",
       "  \u001b[33mVector\u001b[39m(\u001b[32m26\u001b[39m, \u001b[32m40\u001b[39m, \u001b[32m54\u001b[39m, \u001b[32m68\u001b[39m),\n",
       "  \u001b[33mVector\u001b[39m(\u001b[32m32\u001b[39m, \u001b[32m50\u001b[39m, \u001b[32m68\u001b[39m, \u001b[32m86\u001b[39m)\n",
       ")"
      ]
     },
     "execution_count": 9,
     "metadata": {},
     "output_type": "execute_result"
    }
   ],
   "source": [
    "// matrix in row-major layout\n",
    "val mat = Seq.tabulate(4,4){ (i,j) => i+j }\n",
    "\n",
    "def grabCol(m: Seq[Seq[Int]], i: Int) = m map { row => row(i) }\n",
    "grabCol(mat,1)\n",
    "\n",
    "def dotP(a: Seq[Int], b: Seq[Int]) = a.zip(b).map{ case (a_i,b_i) => a_i * b_i}.sum\n",
    "\n",
    "def matMul(a: Seq[Seq[Int]], b: Seq[Seq[Int]]) = a map {\n",
    "    rowOfA => (0 until rowOfA.size) map { colIndex => dotP(rowOfA, grabCol(b, colIndex)) }\n",
    "}\n",
    "\n",
    "matMul(mat, mat)"
   ]
  },
  {
   "cell_type": "markdown",
   "id": "f84b489a",
   "metadata": {
    "slideshow": {
     "slide_type": "slide"
    }
   },
   "source": [
    "## Example: Using FP to do Matrix Multiplication (2/2)"
   ]
  },
  {
   "cell_type": "code",
   "execution_count": 10,
   "id": "72052032",
   "metadata": {},
   "outputs": [
    {
     "data": {
      "text/plain": [
       "defined \u001b[32mfunction\u001b[39m \u001b[36mmatMul\u001b[39m\n",
       "\u001b[36mres9_1\u001b[39m: \u001b[32mcollection\u001b[39m.\u001b[32mimmutable\u001b[39m.\u001b[32mIndexedSeq\u001b[39m[\u001b[32mcollection\u001b[39m.\u001b[32mimmutable\u001b[39m.\u001b[32mIndexedSeq\u001b[39m[\u001b[32mInt\u001b[39m]] = \u001b[33mVector\u001b[39m(\n",
       "  \u001b[33mVector\u001b[39m(\u001b[32m14\u001b[39m, \u001b[32m20\u001b[39m, \u001b[32m26\u001b[39m, \u001b[32m32\u001b[39m),\n",
       "  \u001b[33mVector\u001b[39m(\u001b[32m20\u001b[39m, \u001b[32m30\u001b[39m, \u001b[32m40\u001b[39m, \u001b[32m50\u001b[39m),\n",
       "  \u001b[33mVector\u001b[39m(\u001b[32m26\u001b[39m, \u001b[32m40\u001b[39m, \u001b[32m54\u001b[39m, \u001b[32m68\u001b[39m),\n",
       "  \u001b[33mVector\u001b[39m(\u001b[32m32\u001b[39m, \u001b[32m50\u001b[39m, \u001b[32m68\u001b[39m, \u001b[32m86\u001b[39m)\n",
       ")"
      ]
     },
     "execution_count": 10,
     "metadata": {},
     "output_type": "execute_result"
    }
   ],
   "source": [
    "def matMul(a: Seq[Seq[Int]], b: Seq[Seq[Int]]) = {\n",
    "    (0 until a.size) map { i => {\n",
    "        (0 until b.head.size) map {j => \n",
    "            dotP(a(i), grabCol(b, j))\n",
    "        }\n",
    "    }}\n",
    "}\n",
    "\n",
    "// def matMul(a: Seq[Seq[Int]], b: Seq[Seq[Int]]) = Seq.tabulate(a.length, b.head.length){\n",
    "//     (i,j) => dotP(a(i), grabCol(b,j))\n",
    "// }\n",
    "\n",
    "matMul(mat, mat)"
   ]
  },
  {
   "cell_type": "markdown",
   "id": "elder-doctor",
   "metadata": {
    "slideshow": {
     "slide_type": "slide"
    }
   },
   "source": [
    "## Pattern Matching in Scala\n",
    "\n",
    "* Can gracefully scale from replacing simple `if/else` and `switch` cases to more sophisticated searches\n",
    "* Start block with `match` and list matches with `case`\n",
    "* Can use `|` for or\n",
    "* Can use `if` to specify condition\n",
    "* Can use `_` for default (matched nothing above)"
   ]
  },
  {
   "cell_type": "code",
   "execution_count": 11,
   "id": "wanted-uruguay",
   "metadata": {},
   "outputs": [
    {
     "data": {
      "text/plain": [
       "\u001b[36mx\u001b[39m: \u001b[32mInt\u001b[39m = \u001b[32m0\u001b[39m\n",
       "\u001b[36mres10_1\u001b[39m: \u001b[32mString\u001b[39m = \u001b[32m\"0\"\u001b[39m"
      ]
     },
     "execution_count": 11,
     "metadata": {},
     "output_type": "execute_result"
    }
   ],
   "source": [
    "val x = 0\n",
    "\n",
    "x match {\n",
    "    case 0 => \"0\"\n",
    "    case 1 | 3 => \"nah\"\n",
    "    case y if (y%2 == 0) => \"even\"\n",
    "    case 5 => \"found it!\"\n",
    "    case _ => \"other\"\n",
    "}"
   ]
  },
  {
   "cell_type": "markdown",
   "id": "abstract-pierre",
   "metadata": {
    "slideshow": {
     "slide_type": "slide"
    }
   },
   "source": [
    "## Can Match on Case Classes\n",
    "\n",
    "* Can match on type as a whole, or even set fields"
   ]
  },
  {
   "cell_type": "code",
   "execution_count": 12,
   "id": "equivalent-pencil",
   "metadata": {},
   "outputs": [
    {
     "name": "stdout",
     "output_type": "stream",
     "text": [
      "grey helicopter\n",
      "blue helicopter\n",
      "yellow submarine\n",
      "didn't match\n",
      "Laura has a blue helicopter\n",
      "didn't match\n"
     ]
    },
    {
     "data": {
      "text/plain": [
       "defined \u001b[32mclass\u001b[39m \u001b[36mVehicle\u001b[39m\n",
       "defined \u001b[32mclass\u001b[39m \u001b[36mhelicopter\u001b[39m\n",
       "defined \u001b[32mclass\u001b[39m \u001b[36msubmarine\u001b[39m\n",
       "\u001b[36mmovers\u001b[39m: \u001b[32mSeq\u001b[39m[\u001b[32mProduct\u001b[39m with \u001b[32mSerializable\u001b[39m with \u001b[32mVehicle\u001b[39m] = \u001b[33mList\u001b[39m(\n",
       "  \u001b[33mhelicopter\u001b[39m(\u001b[32m\"grey\"\u001b[39m, \u001b[32m\"Marta\"\u001b[39m),\n",
       "  \u001b[33mhelicopter\u001b[39m(\u001b[32m\"blue\"\u001b[39m, \u001b[32m\"Laura\"\u001b[39m),\n",
       "  \u001b[33msubmarine\u001b[39m(\u001b[32m\"yellow\"\u001b[39m, \u001b[32m\"Paul\"\u001b[39m)\n",
       ")"
      ]
     },
     "execution_count": 12,
     "metadata": {},
     "output_type": "execute_result"
    }
   ],
   "source": [
    "abstract class Vehicle\n",
    "\n",
    "case class helicopter(color: String, driver: String) extends Vehicle\n",
    "\n",
    "case class submarine(color: String, driver: String) extends Vehicle\n",
    "\n",
    "val movers = Seq(helicopter(\"grey\", \"Marta\"), helicopter(\"blue\", \"Laura\"), submarine(\"yellow\", \"Paul\"))\n",
    "\n",
    "movers foreach {v => v match {\n",
    "    case h: helicopter => println(s\"${h.color} helicopter\")\n",
    "    case s: submarine => println(s\"${s.color} submarine\")\n",
    "}}\n",
    "\n",
    "movers foreach { _ match {\n",
    "    case helicopter(\"blue\", driver) => println(s\"$driver has a blue helicopter\")\n",
    "    case s: submarine if (s.color != \"yellow\") => println(s\"${s.driver}'s ${s.color} submarine\")\n",
    "    case _ => println(\"didn't match\")\n",
    "}}"
   ]
  },
  {
   "cell_type": "markdown",
   "id": "selected-communist",
   "metadata": {
    "slideshow": {
     "slide_type": "slide"
    }
   },
   "source": [
    "## More Graceful Interactions with `Option`\n",
    "\n",
    "* Many Scala operations pass over None"
   ]
  },
  {
   "cell_type": "code",
   "execution_count": 13,
   "id": "regulated-offset",
   "metadata": {},
   "outputs": [
    {
     "name": "stdout",
     "output_type": "stream",
     "text": [
      "1\n",
      "3\n"
     ]
    },
    {
     "data": {
      "text/plain": [
       "\u001b[36ml\u001b[39m: \u001b[32mSeq\u001b[39m[\u001b[32mOption\u001b[39m[\u001b[32mInt\u001b[39m]] = \u001b[33mList\u001b[39m(\u001b[32mNone\u001b[39m, \u001b[33mSome\u001b[39m(\u001b[32m1\u001b[39m), \u001b[32mNone\u001b[39m, \u001b[33mSome\u001b[39m(\u001b[32m3\u001b[39m), \u001b[32mNone\u001b[39m)"
      ]
     },
     "execution_count": 13,
     "metadata": {},
     "output_type": "execute_result"
    }
   ],
   "source": [
    "val l = Seq.tabulate(5)(i => if (i % 2 == 1) Some(i) else None)\n",
    "\n",
    "l foreach { x =>\n",
    "    if (x.isDefined) println(x.get)\n",
    "}\n",
    "\n",
    "// l(1).getOrElse(-1)\n",
    "\n",
    "// l.flatten\n",
    "\n",
    "// l foreach { _ match {\n",
    "//     case Some(i) => println(i)\n",
    "//     case None => println(\"was empty\")\n",
    "// }}\n",
    "\n",
    "// l(0) foreach println"
   ]
  },
  {
   "cell_type": "markdown",
   "id": "95592952",
   "metadata": {
    "slideshow": {
     "slide_type": "slide"
    }
   },
   "source": [
    "## Project Overview\n",
    "\n",
    "### GOAL: gain experience developing/revising a generator\n",
    "\n",
    "### Main Details\n",
    "* Working in pairs (or individually)\n",
    "* Pick an idea to build a generator for (contact instructor if need suggestion)\n",
    "* Will _propose/design/develop/test/optimize/revise/document/present_ generator\n",
    "* Ballpark for size/complexity: ~2x most recent homework problems\n",
    "  * Building largely from scratch, so much more to do"
   ]
  },
  {
   "cell_type": "markdown",
   "id": "fe1fb6f7",
   "metadata": {
    "slideshow": {
     "slide_type": "slide"
    }
   },
   "source": [
    "## Project Timeline\n",
    "\n",
    "* Weeks 5-6 (this week & next week) - find a partner and brainstorm ideas\n",
    "    * Come chat in office hours to get early feedback\n",
    "* Week 7 - propose project & get instructor feedback\n",
    "* Week 8 - close the loop early and keep developing\n",
    "* Week 9 - complete initial development & start revising\n",
    "* Week 10 - finalize/polish project & present"
   ]
  },
  {
   "cell_type": "markdown",
   "id": "8c4ddccf",
   "metadata": {
    "slideshow": {
     "slide_type": "slide"
    }
   },
   "source": [
    "## Project Deliverables\n",
    "\n",
    "* 2/20 - initial proposal (<1 page)\n",
    "  * What will generator do and what interface/parameters will it have?\n",
    "  * Consider how to bootstrap, test, and what features that can be deferred\n",
    "  * Feedback during 2/21 & 2/23\n",
    "* 3/4 - Link to working repo (can be feature incomplete)\n",
    "  * Close the loop early, and build from there\n",
    "* 3/11 - External (peer) code review\n",
    "* 3/13 or 3/15 - Presentation\n",
    "* 3/20 - Links to final repo & revised presentation\n",
    "  * Following presentation, will have time to make small revisions\n",
    "  * Encouraged (but not required) to post publicly"
   ]
  }
 ],
 "metadata": {
  "celltoolbar": "Slideshow",
  "kernelspec": {
   "display_name": "Scala 2.12.11",
   "language": "scala",
   "name": "scala_2_12_11"
  },
  "language_info": {
   "codemirror_mode": "text/x-scala",
   "file_extension": ".scala",
   "mimetype": "text/x-scala",
   "name": "scala",
   "nbconvert_exporter": "script",
   "version": "2.12.11"
  }
 },
 "nbformat": 4,
 "nbformat_minor": 5
}
