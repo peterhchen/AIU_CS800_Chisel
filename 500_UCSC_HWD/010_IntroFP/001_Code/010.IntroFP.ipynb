{
 "cells": [
  {
   "cell_type": "markdown",
   "id": "86da9597-49b1-4b08-b8a4-cda0a6c8d398",
   "metadata": {
    "slideshow": {
     "slide_type": "slide"
    }
   },
   "source": [
    "## Agile Hardware Design\n",
    "***\n",
    "# Introduction to Functional Programming Primer\n",
    "\n",
    "<img src=\"./images/chisel_logo.svg\" alt=\"agile hardware design logo\" style=\"width:20%;float:right\"/>\n",
    "\n",
    "By Peter Hanping Chen based on\n",
    "1. UCB Bootcamp load-ivy.sc\n",
    "   - https://github.com/freechipsproject/chisel-bootcamp\n",
    "2. UCSC Prof. Scott Beamer, sbeamer@ucsc.edu\n",
    "   - removed chisel_deps.sc due to dependencies error\n",
    "   - [CSE 228A](https://classes.soe.ucsc.edu/cse228a/Winter24/)\n",
    "              "
   ]
  },
  {
   "cell_type": "markdown",
   "id": "nominated-consistency",
   "metadata": {
    "slideshow": {
     "slide_type": "slide"
    }
   },
   "source": [
    "## Plan for Today\n",
    "\n",
    "* _Big Idea:_ applying functions to collections of elements\n",
    "* Anonymous functions in Scala\n",
    "* Scala `map`, `foreach`, `zip` operators\n",
    "* Chisel example"
   ]
  },
  {
   "cell_type": "markdown",
   "id": "regular-reducing",
   "metadata": {
    "slideshow": {
     "slide_type": "slide"
    }
   },
   "source": [
    "## Loading The Chisel Library Into a Notebook"
   ]
  },
  {
   "cell_type": "code",
   "execution_count": 42,
   "id": "robust-immigration",
   "metadata": {},
   "outputs": [
    {
     "name": "stdout",
     "output_type": "stream",
     "text": [
      "path: /home/peter/AIU/AIU_CS800_Chisel/500_UCSC_HWD/010_IntroFP/001_Code/source/load-ivy.sc\n",
      "Compiling /home/peter/AIU/AIU_CS800_Chisel/500_UCSC_HWD/010_IntroFP/001_Code/Main.sc"
     ]
    },
    {
     "name": "stderr",
     "output_type": "stream",
     "text": [
      "Checking https://repo1.maven.org/maven2/edu/berkeley/cs/chisel3_2.12/maven-metadata.xml\n",
      "Checked https://repo1.maven.org/maven2/edu/berkeley/cs/chisel3_2.12/maven-metadata.xml\n",
      "Checking https://repo1.maven.org/maven2/edu/berkeley/cs/chisel-iotesters_2.12/maven-metadata.xml\n",
      "Checked https://repo1.maven.org/maven2/edu/berkeley/cs/chisel-iotesters_2.12/maven-metadata.xml\n",
      "Checking https://repo1.maven.org/maven2/edu/berkeley/cs/chiseltest_2.12/maven-metadata.xml\n",
      "Checked https://repo1.maven.org/maven2/edu/berkeley/cs/chiseltest_2.12/maven-metadata.xml\n",
      "Checking https://repo1.maven.org/maven2/edu/berkeley/cs/dsptools_2.12/maven-metadata.xml\n",
      "Checked https://repo1.maven.org/maven2/edu/berkeley/cs/dsptools_2.12/maven-metadata.xml\n",
      "Checking https://repo1.maven.org/maven2/edu/berkeley/cs/firrtl-diagrammer_2.12/maven-metadata.xml\n",
      "Checked https://repo1.maven.org/maven2/edu/berkeley/cs/firrtl-diagrammer_2.12/maven-metadata.xml\n"
     ]
    },
    {
     "name": "stdout",
     "output_type": "stream",
     "text": [
      "Compiling /home/peter/AIU/AIU_CS800_Chisel/500_UCSC_HWD/010_IntroFP/001_Code/Main.sc #2"
     ]
    },
    {
     "data": {
      "text/plain": [
       "\u001b[36mpath\u001b[39m: \u001b[32mString\u001b[39m = \u001b[32m\"/home/peter/AIU/AIU_CS800_Chisel/500_UCSC_HWD/010_IntroFP/001_Code/source/load-ivy.sc\"\u001b[39m"
      ]
     },
     "execution_count": 42,
     "metadata": {},
     "output_type": "execute_result"
    }
   ],
   "source": [
    "//interp.load.module(os.Path(s\"${System.getProperty(\"user.dir\")}/../resource/chisel_deps.sc\"))\n",
    "val path = System.getProperty(\"user.dir\") + \"/source/load-ivy.sc\"\n",
    "//val path = System.getProperty(\"user.dir\") + \"/source/chisel_deps.sc\"\n",
    "println(\"path: \"+path)\n",
    "interp.load.module(ammonite.ops.Path(java.nio.file.FileSystems.getDefault().getPath(path)))"
   ]
  },
  {
   "cell_type": "code",
   "execution_count": 43,
   "id": "extended-burning",
   "metadata": {
    "slideshow": {
     "slide_type": "-"
    }
   },
   "outputs": [
    {
     "data": {
      "text/plain": [
       "\u001b[32mimport \u001b[39m\u001b[36mchisel3._\n",
       "\u001b[39m\n",
       "\u001b[32mimport \u001b[39m\u001b[36mchisel3.util._\n",
       "\u001b[39m\n",
       "\u001b[32mimport \u001b[39m\u001b[36mchiseltest._\n",
       "\u001b[39m\n",
       "\u001b[32mimport \u001b[39m\u001b[36mchiseltest.RawTester.test\u001b[39m"
      ]
     },
     "execution_count": 43,
     "metadata": {},
     "output_type": "execute_result"
    }
   ],
   "source": [
    "import chisel3._\n",
    "import chisel3.util._\n",
    "import chiseltest._\n",
    "import chiseltest.RawTester.test"
   ]
  },
  {
   "cell_type": "markdown",
   "id": "logical-plasma",
   "metadata": {
    "slideshow": {
     "slide_type": "slide"
    }
   },
   "source": [
    "## Why Use Functional Programming with Chisel?\n",
    "\n",
    "* Chisel's power comes from its ability to make parameterized hardare generators\n",
    "\n",
    "* Functional programming (FP) operations ease dealing with _functions over collections_\n",
    "  * Using standard features/patterns improves productivity, readability, and correctness\n",
    "\n",
    "* Being forced to break problem into standard patterns may help with reasoning\n",
    "  * Additionally, compiler may be able to spot more errors\n",
    "\n",
    "* Be mindful of side-effects and how to clearly convey them in code\n",
    "  * FP operations typically intended for side-effect free programming\n",
    "  * Chisel operations often have deliberate side effects (e.g. connecting things)"
   ]
  },
  {
   "cell_type": "markdown",
   "id": "outside-raising",
   "metadata": {
    "slideshow": {
     "slide_type": "slide"
    }
   },
   "source": [
    "## Motivation for Working Over Collections\n",
    "\n",
    "* Arguably, much of programming (and hardware design) works over collections rather than scalar values\n",
    "  * Collections aggregate similar things\n",
    "\n",
    "* Often, we want to apply an operation to everything in the collection\n",
    "  * Traditionally, we use iteration (e.g. `for` loops)\n",
    "\n",
    "* _Problem:_ every usage has to reinvent wheel\n",
    "\n",
    "* What if ...\n",
    "  * We could recognize _patterns_ of function application and use those?\n",
    "  * We could use the compiler to check compliance with those patterns?"
   ]
  },
  {
   "cell_type": "markdown",
   "id": "4ba525b3-cfca-407f-9a4c-7ee321e99440",
   "metadata": {
    "slideshow": {
     "slide_type": "slide"
    }
   },
   "source": [
    "## Solution - Reuse through Patterns\n",
    "\n",
    "* Note these operations are not core language constructs, but instead methods defined for these collections\n",
    "* Only some operations covered today (more to come)\n",
    "\n",
    "<img src=\"./images/map+foreach.svg\" alt=\"map & foreach viz\" style=\"width:80%;align:left\"/>"
   ]
  },
  {
   "cell_type": "markdown",
   "id": "299abe39-d6fc-4e8b-bdf0-aaaf4312f1b6",
   "metadata": {
    "slideshow": {
     "slide_type": "slide"
    }
   },
   "source": [
    "## Scala Anonymous Functions\n",
    "* Technically called _function literals_\n",
    "* Can bind to a name, but often will use within other construct and never name it explicitly (_anonymous_)\n",
    "* Syntax - argument list in parentheses on left, `=>`, function body on right\n",
    "```scala\n",
    "    (x: Int) => x + 1\n",
    "```"
   ]
  },
  {
   "cell_type": "code",
   "execution_count": 44,
   "id": "extensive-librarian",
   "metadata": {},
   "outputs": [
    {
     "name": "stdout",
     "output_type": "stream",
     "text": [
      "*** Pass parameter 2 to anonymous function with alias \"inc\" ***\n",
      "  inc(2): 3\n",
      "*** Pass parameter 2 to a normal function with name \"inc2\" ***\n",
      "  inc2(2): 3\n",
      "*** Pass parameters: (2, 3) to anonymous function with alias \"sum2\" ***\n",
      "  sum2(2, 3): 5\n"
     ]
    },
    {
     "data": {
      "text/plain": [
       "\u001b[36minc\u001b[39m: \u001b[32mInt\u001b[39m => \u001b[32mInt\u001b[39m = ammonite.$sess.cmd43$Helper$$Lambda$4495/900098489@4d54591\n",
       "defined \u001b[32mfunction\u001b[39m \u001b[36minc2\u001b[39m\n",
       "\u001b[36msum2\u001b[39m: (\u001b[32mInt\u001b[39m, \u001b[32mInt\u001b[39m) => \u001b[32mInt\u001b[39m = ammonite.$sess.cmd43$Helper$$Lambda$4496/1051160266@8965ecb"
      ]
     },
     "execution_count": 44,
     "metadata": {},
     "output_type": "execute_result"
    }
   ],
   "source": [
    "// Define an anonymous function (x: Int) without function name and with alias \"inc\"\n",
    "val inc = (x: Int) => x + 1\n",
    "println(\"*** Pass parameter 2 to anonymous function with alias \\\"inc\\\" ***\")\n",
    "println(\"  inc(2): \" + inc(2))\n",
    "\n",
    "// Define a normal function name \"inc2\"\n",
    "def inc2(x: Int) = x+1\n",
    "println(\"*** Pass parameter 2 to a normal function with name \\\"inc2\\\" ***\")\n",
    "println(\"  inc2(2): \" + inc(2))\n",
    "\n",
    "// Define an anynomous function (a: Int, b: Int) with name sum2\n",
    "val sum2 = (a: Int, b: Int) => a+b\n",
    "println (\"*** Pass parameters: (2, 3) to anonymous function with alias \\\"sum2\\\" ***\")\n",
    "println(\"  sum2(2, 3): \" + sum2(2, 3))"
   ]
  },
  {
   "cell_type": "markdown",
   "id": "embedded-guess",
   "metadata": {
    "slideshow": {
     "slide_type": "slide"
    }
   },
   "source": [
    "## `map` in Scala\n",
    "\n",
    "```scala\n",
    "l map f\n",
    "```\n",
    "\n",
    "* Applies given function to each element and returns result as new collection\n",
    "* Should not make assumptions about order in which it is applied"
   ]
  },
  {
   "cell_type": "code",
   "execution_count": 45,
   "id": "verified-mistake",
   "metadata": {},
   "outputs": [
    {
     "name": "stdout",
     "output_type": "stream",
     "text": [
      "**** l.map(inc): ****\n",
      "Vector(1, 2, 3, 4, 5)\n",
      "**** l map inc: ****\n",
      "Vector(1, 2, 3, 4, 5)\n",
      "**** l map { i => inc(i) }: ****\n",
      "Vector(1, 2, 3, 4, 5)\n",
      "**** l map { i => i + 1 }: ****\n",
      "Vector(1, 2, 3, 4, 5)\n"
     ]
    },
    {
     "data": {
      "text/plain": [
       "defined \u001b[32mfunction\u001b[39m \u001b[36minc\u001b[39m\n",
       "\u001b[36ml\u001b[39m: \u001b[32mRange\u001b[39m = \u001b[33mRange\u001b[39m(\u001b[32m0\u001b[39m, \u001b[32m1\u001b[39m, \u001b[32m2\u001b[39m, \u001b[32m3\u001b[39m, \u001b[32m4\u001b[39m)"
      ]
     },
     "execution_count": 45,
     "metadata": {},
     "output_type": "execute_result"
    }
   ],
   "source": [
    "def inc(x: Int) = x+1\n",
    "\n",
    "val l = 0 until 5\n",
    "println(\"**** l.map(inc): ****\")\n",
    "println(l.map(inc))\n",
    "println (\"**** l map inc: ****\")\n",
    "println(l map inc)\n",
    "println (\"**** l map { i => inc(i) }: ****\")\n",
    "println(l map { i => inc(i) })\n",
    "println (\"**** l map { i => i + 1 }: ****\")\n",
    "println (l map { i => i + 1 })"
   ]
  },
  {
   "cell_type": "markdown",
   "id": "cathedral-values",
   "metadata": {
    "slideshow": {
     "slide_type": "slide"
    }
   },
   "source": [
    "## `foreach` in Scala\n",
    "\n",
    "```scala\n",
    "l foreach f\n",
    "```\n",
    "\n",
    "* Applies given function to each element (like map), but does not return anything (unlike map)\n",
    "* Useful for indicating intent is the side effect and not the result"
   ]
  },
  {
   "cell_type": "code",
   "execution_count": 46,
   "id": "eastern-calculator",
   "metadata": {},
   "outputs": [
    {
     "name": "stdout",
     "output_type": "stream",
     "text": [
      "**** l foreach println: ****\n",
      "0\n",
      "1\n",
      "2\n",
      "3\n",
      "4\n"
     ]
    },
    {
     "data": {
      "text/plain": [
       "\u001b[36ml\u001b[39m: \u001b[32mRange\u001b[39m = \u001b[33mRange\u001b[39m(\u001b[32m0\u001b[39m, \u001b[32m1\u001b[39m, \u001b[32m2\u001b[39m, \u001b[32m3\u001b[39m, \u001b[32m4\u001b[39m)"
      ]
     },
     "execution_count": 46,
     "metadata": {},
     "output_type": "execute_result"
    }
   ],
   "source": [
    "val l = 0 until 5\n",
    "println (\"**** l foreach println: ****\")\n",
    "l foreach println"
   ]
  },
  {
   "cell_type": "markdown",
   "id": "funky-convert",
   "metadata": {
    "slideshow": {
     "slide_type": "slide"
    }
   },
   "source": [
    "## Using `map` and `foreach` in Chisel\n",
    "\n",
    "* Operations available on both Scala collections (e.g. `Seq`) and Chisel aggregates (e.g. `Vec`)"
   ]
  },
  {
   "cell_type": "code",
   "execution_count": 57,
   "id": "cathedral-horse",
   "metadata": {},
   "outputs": [
    {
     "data": {
      "text/plain": [
       "defined \u001b[32mclass\u001b[39m \u001b[36mConstOut\u001b[39m"
      ]
     },
     "execution_count": 57,
     "metadata": {},
     "output_type": "execute_result"
    }
   ],
   "source": [
    "class ConstOut(numElems: Int, const: Int) extends Module {\n",
    "    val io = IO(new Bundle {\n",
    "        val out = Output(Vec(numElems, UInt()))\n",
    "    })\n",
    "\n",
    "    val seqOfInts = 0 until numElems\n",
    "    val seqOfUInts = seqOfInts map { i => i.U }\n",
    "    //println(\"**** seqOfUInts: ****\")\n",
    "    //println(seqOfUInts)\n",
    "    io.out foreach { o => o := const.U }\n",
    "    //println(\"**** io.out: ****\")\n",
    "    //println(io.out)\n",
    "}"
   ]
  },
  {
   "cell_type": "code",
   "execution_count": 58,
   "id": "423b67cd-e778-4e22-844a-a5fc5982d7e5",
   "metadata": {},
   "outputs": [
    {
     "name": "stdout",
     "output_type": "stream",
     "text": [
      "Elaborating design...\n",
      "Done elaborating.\n",
      "module ConstOut(\n",
      "  input        clock,\n",
      "  input        reset,\n",
      "  output [3:0] io_out_0,\n",
      "  output [3:0] io_out_1\n",
      ");\n",
      "  assign io_out_0 = 4'h8; // @[cmd56.sc 10:29]\n",
      "  assign io_out_1 = 4'h8; // @[cmd56.sc 10:29]\n",
      "endmodule\n",
      "\n"
     ]
    }
   ],
   "source": [
    "//printVerilog(new ConstOut(2,8))\n",
    "println(getVerilog(new ConstOut(2,8)))"
   ]
  },
  {
   "cell_type": "markdown",
   "id": "bored-prescription",
   "metadata": {
    "slideshow": {
     "slide_type": "slide"
    }
   },
   "source": [
    "## Scala Tuples\n",
    "\n",
    "* Can group together heterogeneous things\n",
    "  * Doesn't name members, but can index them numerically (**starts from 1**)\n",
    "  * Often can pattern match (with `case`) or assign to access members\n",
    "\n",
    "* Best when number of things is small and producer/consumers are nearby\n",
    "  * Suggest case class to explicitly name members (for readability)\n",
    "  * Suggest collection for many elements (for manageability)"
   ]
  },
  {
   "cell_type": "code",
   "execution_count": 66,
   "id": "peripheral-ottawa",
   "metadata": {},
   "outputs": [
    {
     "name": "stdout",
     "output_type": "stream",
     "text": [
      "t1._1: 2\n",
      "t1._2: 3\n",
      "\n",
      "t2._1: My\n",
      "t2._2: 8\n",
      "\n",
      "a: 2\n",
      "b: 3\n"
     ]
    },
    {
     "data": {
      "text/plain": [
       "\u001b[36mt1\u001b[39m: (\u001b[32mInt\u001b[39m, \u001b[32mInt\u001b[39m) = (\u001b[32m2\u001b[39m, \u001b[32m3\u001b[39m)\n",
       "\u001b[36mt2\u001b[39m: (\u001b[32mString\u001b[39m, \u001b[32mInt\u001b[39m) = (\u001b[32m\"My\"\u001b[39m, \u001b[32m8\u001b[39m)\n",
       "\u001b[36ma\u001b[39m: \u001b[32mInt\u001b[39m = \u001b[32m2\u001b[39m\n",
       "\u001b[36mb\u001b[39m: \u001b[32mInt\u001b[39m = \u001b[32m3\u001b[39m"
      ]
     },
     "execution_count": 66,
     "metadata": {},
     "output_type": "execute_result"
    }
   ],
   "source": [
    "val t1 = (2,3)\n",
    "val t2 = (\"My\", 8)\n",
    "println (\"t1._1: \" + t1._1)\n",
    "println (\"t1._2: \" + t1._2)\n",
    "println()\n",
    "println (\"t2._1: \" + t2._1)\n",
    "println (\"t2._2: \" + t2._2)\n",
    "println ()\n",
    "val (a,b) = t1\n",
    "println (\"a: \" + a)\n",
    "println (\"b: \" + b)"
   ]
  },
  {
   "cell_type": "markdown",
   "id": "necessary-football",
   "metadata": {
    "slideshow": {
     "slide_type": "slide"
    }
   },
   "source": [
    "## `zip` in Scala\n",
    "\n",
    "```scala\n",
    "l1 zip l2\n",
    "```\n",
    "\n",
    "* Pairs up elements with elements of another collection\n",
    "* Commonly used to join together collections before applying other operations\n",
    "* _Note:_ If collections have different sizes, result is the minimum size"
   ]
  },
  {
   "cell_type": "code",
   "execution_count": 73,
   "id": "electrical-census",
   "metadata": {},
   "outputs": [
    {
     "name": "stdout",
     "output_type": "stream",
     "text": [
      "****l1 zip l1:****\n",
      "Vector((0,0), (1,1), (2,2), (3,3), (4,4))\n",
      "****l1 zip Seq(8):****\n",
      "Vector((0,8))\n",
      "**** l1 ****\n",
      "Range 0 until 5\n",
      "****l1 zip l1 map {case (a,b) => a+b}:****\n",
      " a: 0 b: 0\n",
      " a: 1 b: 1\n",
      " a: 2 b: 2\n",
      " a: 3 b: 3\n",
      " a: 4 b: 4\n",
      "Vector(0, 2, 4, 6, 8)\n"
     ]
    },
    {
     "data": {
      "text/plain": [
       "\u001b[36ml1\u001b[39m: \u001b[32mRange\u001b[39m = \u001b[33mRange\u001b[39m(\u001b[32m0\u001b[39m, \u001b[32m1\u001b[39m, \u001b[32m2\u001b[39m, \u001b[32m3\u001b[39m, \u001b[32m4\u001b[39m)"
      ]
     },
     "execution_count": 73,
     "metadata": {},
     "output_type": "execute_result"
    }
   ],
   "source": [
    "val l1 = 0 until 5\n",
    "println (\"****l1 zip l1:****\")\n",
    "println(l1 zip l1)\n",
    "println (\"****l1 zip Seq(8):****\")\n",
    "println(l1 zip Seq(8))\n",
    "println (\"**** l1 ****\")\n",
    "println (l1)\n",
    "println (\"****l1 zip l1 map {case (a,b) => a+b}:****\")\n",
    "println(l1 zip l1 map {case (a,b) => print (\" a: \" + a); println(\" b: \" + b); a+b})"
   ]
  },
  {
   "cell_type": "markdown",
   "id": "764f27e7-6e67-428a-b0b5-9a90eff7fe61",
   "metadata": {
    "slideshow": {
     "slide_type": "slide"
    }
   },
   "source": [
    "## `zip` Diagram\n",
    "\n",
    "<img src=\"images/zip.svg\" alt=\"zip viz\" style=\"width:70%;align: left\"/>"
   ]
  },
  {
   "cell_type": "markdown",
   "id": "gorgeous-recipient",
   "metadata": {
    "slideshow": {
     "slide_type": "slide"
    }
   },
   "source": [
    "## Chisel Example Using `foreach` and `zip`"
   ]
  },
  {
   "cell_type": "code",
   "execution_count": 74,
   "id": "important-polymer",
   "metadata": {
    "scrolled": true,
    "slideshow": {
     "slide_type": "-"
    }
   },
   "outputs": [
    {
     "data": {
      "text/plain": [
       "defined \u001b[32mclass\u001b[39m \u001b[36mVecAbs\u001b[39m"
      ]
     },
     "execution_count": 74,
     "metadata": {},
     "output_type": "execute_result"
    }
   ],
   "source": [
    "class VecAbs(numElems: Int, width: Int) extends Module {\n",
    "    val io = IO(new Bundle {\n",
    "        val in = Input(Vec(numElems, SInt(width.W)))\n",
    "        val out = Output(Vec(numElems, SInt(width.W)))\n",
    "    })\n",
    "\n",
    "    def abs(x: SInt): SInt = Mux(x < 0.S, -x, x)\n",
    "\n",
    "//     for (i <- 0 until numElems) {\n",
    "//         io.out(i) := abs(io.in(i))\n",
    "//     }\n",
    "\n",
    "    io.out.zip(io.in) foreach { case (o,i) => o := abs(i) }\n",
    "}"
   ]
  },
  {
   "cell_type": "code",
   "execution_count": 52,
   "id": "b2612b83-6484-44b5-ac6b-6fce854abe84",
   "metadata": {},
   "outputs": [
    {
     "name": "stdout",
     "output_type": "stream",
     "text": [
      "Elaborating design...\n",
      "Done elaborating.\n",
      "module VecAbs(\n",
      "  input        clock,\n",
      "  input        reset,\n",
      "  input  [7:0] io_in_0,\n",
      "  input  [7:0] io_in_1,\n",
      "  output [7:0] io_out_0,\n",
      "  output [7:0] io_out_1\n",
      ");\n",
      "  wire [7:0] _T_3 = 8'sh0 - $signed(io_in_0); // @[cmd50.sc 7:43]\n",
      "  wire [7:0] _T_8 = 8'sh0 - $signed(io_in_1); // @[cmd50.sc 7:43]\n",
      "  assign io_out_0 = $signed(io_in_0) < 8'sh0 ? $signed(_T_3) : $signed(io_in_0); // @[cmd50.sc 7:33]\n",
      "  assign io_out_1 = $signed(io_in_1) < 8'sh0 ? $signed(_T_8) : $signed(io_in_1); // @[cmd50.sc 7:33]\n",
      "endmodule\n",
      "\n"
     ]
    }
   ],
   "source": [
    "//printVerilog(new VecAbs(2,8))\n",
    "println(getVerilog((new VecAbs(2,8))))"
   ]
  },
  {
   "cell_type": "markdown",
   "id": "loved-crowd",
   "metadata": {
    "slideshow": {
     "slide_type": "slide"
    }
   },
   "source": [
    "## Scala (fuction) Placeholders\n",
    "\n",
    "* Able to make function literals even more concise by not explicitly naming arguments and then using them\n",
    "* Use `_` in place of argument, and each use advances to next argument\n",
    "* Use **CAREFULLY** to shorten code to improve readability\n",
    "  * If intent not immediately clear, fall back to explicitly naming arguments"
   ]
  },
  {
   "cell_type": "code",
   "execution_count": 53,
   "id": "knowing-valve",
   "metadata": {},
   "outputs": [
    {
     "data": {
      "text/plain": [
       "\u001b[36ml\u001b[39m: \u001b[32mRange\u001b[39m = \u001b[33mRange\u001b[39m(\u001b[32m0\u001b[39m, \u001b[32m1\u001b[39m, \u001b[32m2\u001b[39m, \u001b[32m3\u001b[39m, \u001b[32m4\u001b[39m)\n",
       "\u001b[36mres52_1\u001b[39m: \u001b[32mcollection\u001b[39m.\u001b[32mimmutable\u001b[39m.\u001b[32mIndexedSeq\u001b[39m[\u001b[32mInt\u001b[39m] = \u001b[33mVector\u001b[39m(\u001b[32m1\u001b[39m, \u001b[32m2\u001b[39m, \u001b[32m3\u001b[39m, \u001b[32m4\u001b[39m, \u001b[32m5\u001b[39m)\n",
       "\u001b[36mres52_2\u001b[39m: \u001b[32mcollection\u001b[39m.\u001b[32mimmutable\u001b[39m.\u001b[32mIndexedSeq\u001b[39m[\u001b[32mInt\u001b[39m] = \u001b[33mVector\u001b[39m(\u001b[32m1\u001b[39m, \u001b[32m2\u001b[39m, \u001b[32m3\u001b[39m, \u001b[32m4\u001b[39m, \u001b[32m5\u001b[39m)"
      ]
     },
     "execution_count": 53,
     "metadata": {},
     "output_type": "execute_result"
    }
   ],
   "source": [
    "val l = 0 until 5\n",
    "l map { i => i + 1 }\n",
    "l map { _ + 1 }"
   ]
  },
  {
   "cell_type": "markdown",
   "id": "grand-developer",
   "metadata": {
    "slideshow": {
     "slide_type": "slide"
    }
   },
   "source": [
    "## Redoing Our Arbiter with FP (1/2)"
   ]
  },
  {
   "cell_type": "code",
   "execution_count": 54,
   "id": "registered-description",
   "metadata": {},
   "outputs": [
    {
     "data": {
      "text/plain": [
       "defined \u001b[32mclass\u001b[39m \u001b[36mMyArb\u001b[39m"
      ]
     },
     "execution_count": 54,
     "metadata": {},
     "output_type": "execute_result"
    }
   ],
   "source": [
    "class MyArb(numPorts: Int, n: Int) extends Module {\n",
    "    val io = IO(new Bundle {\n",
    "        val req = Flipped(Vec(numPorts, Decoupled(UInt(n.W))))\n",
    "        val out = Decoupled(UInt(n.W))\n",
    "    })\n",
    "    require (numPorts > 0)\n",
    "    val inValids = Wire(Vec(numPorts, Bool()))\n",
    "    val inBits   = Wire(Vec(numPorts, UInt(n.W)))\n",
    "    val chosenOH = PriorityEncoderOH(inValids)\n",
    "    for (p <- 0 until numPorts) {\n",
    "        io.req(p).ready := chosenOH(p) && io.out.fire\n",
    "        inValids(p) := io.req(p).valid\n",
    "        inBits(p) := io.req(p).bits\n",
    "    }\n",
    "    io.out.valid := inValids.asUInt.orR\n",
    "    io.out.bits := Mux1H(chosenOH, inBits)\n",
    "}"
   ]
  },
  {
   "cell_type": "markdown",
   "id": "ordinary-tennessee",
   "metadata": {
    "slideshow": {
     "slide_type": "slide"
    }
   },
   "source": [
    "## Redoing Our Arbiter (2/2)"
   ]
  },
  {
   "cell_type": "code",
   "execution_count": 55,
   "id": "handmade-lightweight",
   "metadata": {
    "slideshow": {
     "slide_type": "-"
    }
   },
   "outputs": [
    {
     "data": {
      "text/plain": [
       "defined \u001b[32mclass\u001b[39m \u001b[36mMyArb\u001b[39m"
      ]
     },
     "execution_count": 55,
     "metadata": {},
     "output_type": "execute_result"
    }
   ],
   "source": [
    "class MyArb(numPorts: Int, n: Int) extends Module {\n",
    "    val io = IO(new Bundle {\n",
    "        val req = Flipped(Vec(numPorts, Decoupled(UInt(n.W))))\n",
    "        val out = Decoupled(UInt(n.W))\n",
    "    })\n",
    "    require (numPorts > 0)\n",
    "    val inValids = io.req map { _.valid }\n",
    "    io.out.valid := VecInit(inValids).asUInt.orR\n",
    "    val chosenOH = PriorityEncoderOH(inValids)\n",
    "    io.out.bits := Mux1H(chosenOH, io.req map { _.bits })\n",
    "    io.req.zip(chosenOH) foreach { case (i, c) => i.ready := c && io.out.fire}\n",
    "}"
   ]
  }
 ],
 "metadata": {
  "celltoolbar": "Slideshow",
  "kernelspec": {
   "display_name": "Scala 2.12.11",
   "language": "scala",
   "name": "scala_2_12_11"
  },
  "language_info": {
   "codemirror_mode": "text/x-scala",
   "file_extension": ".scala",
   "mimetype": "text/x-scala",
   "name": "scala",
   "nbconvert_exporter": "script",
   "version": "2.12.11"
  }
 },
 "nbformat": 4,
 "nbformat_minor": 5
}
