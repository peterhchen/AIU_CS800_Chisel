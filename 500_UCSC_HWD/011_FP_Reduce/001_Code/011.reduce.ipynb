{
 "cells": [
  {
   "cell_type": "markdown",
   "id": "4c8b7c77-eb31-4125-97dd-f6364c760115",
   "metadata": {
    "slideshow": {
     "slide_type": "slide"
    }
   },
   "source": [
    "## Agile Hardware Design\n",
    "***\n",
    "## Functional Programming: Reduce\n",
    "\n",
    "<img src=\"./images/chisel_logo.svg\" alt=\"agile hardware design logo\" style=\"width:20%;float:right\"/>\n",
    "\n",
    "- Modified by Peter Hanpin Chen based on\n",
    "\n",
    "1. UC Berkeley Bootcamp with scala configuration (load-ivy.sc)\n",
    "\n",
    "- https://github.com/freechipsproject/chisel-bootcamp\n",
    "\n",
    "2. Prof. Scott Beamer,sbeamer@ucsc.edu\n",
    "\n",
    "- [CSE 228A](https://classes.soe.ucsc.edu/cse228a/Winter24/)"
   ]
  },
  {
   "cell_type": "markdown",
   "id": "nominated-consistency",
   "metadata": {
    "slideshow": {
     "slide_type": "slide"
    }
   },
   "source": [
    "## Plan for Today\n",
    "\n",
    "* reduce + fold\n",
    "* Scala type signatures\n",
    "* zipWithIndex\n",
    "* FP considerations"
   ]
  },
  {
   "cell_type": "markdown",
   "id": "regular-reducing",
   "metadata": {
    "slideshow": {
     "slide_type": "slide"
    }
   },
   "source": [
    "## Loading The Chisel Library Into a Notebook"
   ]
  },
  {
   "cell_type": "code",
   "execution_count": 1,
   "id": "robust-immigration",
   "metadata": {},
   "outputs": [
    {
     "data": {
      "text/plain": [
       "\u001b[36mpath\u001b[39m: \u001b[32mString\u001b[39m = \u001b[32m\"/home/peter/AIU/AIU_CS800_Chisel/500_UCSC_HWD/011_FP_Reduce/001_Code/source/load-ivy.sc\"\u001b[39m"
      ]
     },
     "execution_count": 1,
     "metadata": {},
     "output_type": "execute_result"
    }
   ],
   "source": [
    "// interp.load.module(os.Path(s\"${System.getProperty(\"user.dir\")}/../resource/chisel_deps.sc\"))\n",
    "val path = System.getProperty(\"user.dir\") + \"/source/load-ivy.sc\"\n",
    "interp.load.module(ammonite.ops.Path(java.nio.file.FileSystems.getDefault().getPath(path)))"
   ]
  },
  {
   "cell_type": "code",
   "execution_count": 2,
   "id": "extended-burning",
   "metadata": {
    "slideshow": {
     "slide_type": "-"
    }
   },
   "outputs": [
    {
     "data": {
      "text/plain": [
       "\u001b[32mimport \u001b[39m\u001b[36mchisel3._\n",
       "\u001b[39m\n",
       "\u001b[32mimport \u001b[39m\u001b[36mchisel3.util._\n",
       "\u001b[39m\n",
       "\u001b[32mimport \u001b[39m\u001b[36mchiseltest._\n",
       "\u001b[39m\n",
       "\u001b[32mimport \u001b[39m\u001b[36mchiseltest.RawTester.test\u001b[39m"
      ]
     },
     "execution_count": 2,
     "metadata": {},
     "output_type": "execute_result"
    }
   ],
   "source": [
    "import chisel3._\n",
    "import chisel3.util._\n",
    "import chiseltest._\n",
    "import chiseltest.RawTester.test"
   ]
  },
  {
   "cell_type": "markdown",
   "id": "veterinary-morning",
   "metadata": {
    "slideshow": {
     "slide_type": "slide"
    }
   },
   "source": [
    "## Motivation for `reduce` and `fold`\n",
    "\n",
    "* In the last lecture, we applied a function to each element (e.g. `map`, `foreach`, `zip`)\n",
    "  * Resulting collection (if there is one), has same size as input collection\n",
    "\n",
    "* What about if we want to combine things (collapse)?\n",
    "\n",
    "* How do we gracefully handle collapsing with an empty collection?"
   ]
  },
  {
   "cell_type": "markdown",
   "id": "established-deviation",
   "metadata": {
    "slideshow": {
     "slide_type": "slide"
    }
   },
   "source": [
    "## Scala `reduce`\n",
    "\n",
    "* Given a binary operator, it applies it on collection until down to one element\n",
    "\n",
    "* Can use the placeholder syntax to have concise expressions"
   ]
  },
  {
   "cell_type": "code",
   "execution_count": 3,
   "id": "foster-literacy",
   "metadata": {},
   "outputs": [
    {
     "name": "stdout",
     "output_type": "stream",
     "text": [
      "**** l ****\n",
      "List(0, 1, 2, 3, 4, 5)\n",
      "**** l.reduce{(a, b) => a + b}: ****\n",
      "15\n",
      "**** l reduce { _ + _ } ****\n",
      "15\n",
      "**** squares ****\n",
      "List(0, 1, 4, 9, 16, 25)\n",
      "**** sumOfSquares ****\n",
      "55\n",
      "**** l map { i => i*i } reduce { _ + _ }: ****\n"
     ]
    },
    {
     "data": {
      "text/plain": [
       "\u001b[36ml\u001b[39m: \u001b[32mSeq\u001b[39m[\u001b[32mInt\u001b[39m] = \u001b[33mList\u001b[39m(\u001b[32m0\u001b[39m, \u001b[32m1\u001b[39m, \u001b[32m2\u001b[39m, \u001b[32m3\u001b[39m, \u001b[32m4\u001b[39m, \u001b[32m5\u001b[39m)\n",
       "\u001b[36msquares\u001b[39m: \u001b[32mSeq\u001b[39m[\u001b[32mInt\u001b[39m] = \u001b[33mList\u001b[39m(\u001b[32m0\u001b[39m, \u001b[32m1\u001b[39m, \u001b[32m4\u001b[39m, \u001b[32m9\u001b[39m, \u001b[32m16\u001b[39m, \u001b[32m25\u001b[39m)\n",
       "\u001b[36msumOfSquares\u001b[39m: \u001b[32mInt\u001b[39m = \u001b[32m55\u001b[39m"
      ]
     },
     "execution_count": 3,
     "metadata": {},
     "output_type": "execute_result"
    }
   ],
   "source": [
    "val l = Seq(0, 1, 2, 3, 4, 5)\n",
    "println (\"**** l ****\")\n",
    "println (l)\n",
    "println (\"**** l.reduce{(a, b) => a + b}: ****\")\n",
    "println (l.reduce{(a, b) => a + b })\n",
    "println (\"**** l reduce { _ + _ } ****\")\n",
    "println (l reduce { _ + _ })\n",
    "\n",
    "val squares = l map { i => i * i }\n",
    "println (\"**** squares ****\")\n",
    "println (squares)\n",
    "\n",
    "val sumOfSquares = squares reduce { _ + _ }\n",
    "println (\"**** sumOfSquares ****\")\n",
    "println (sumOfSquares)\n",
    "println (\"**** l map { i => i*i } reduce { _ + _ }: ****\")\n",
    "// Error in \"_\" expanded funciton.\n",
    "//println (l map { _ * _ } reduce { _ + _ })"
   ]
  },
  {
   "cell_type": "markdown",
   "id": "documented-timothy",
   "metadata": {
    "slideshow": {
     "slide_type": "slide"
    }
   },
   "source": [
    "## Tweaking Our Arbiter with FP (1/2) - original"
   ]
  },
  {
   "cell_type": "code",
   "execution_count": 4,
   "id": "touched-tobacco",
   "metadata": {},
   "outputs": [
    {
     "data": {
      "text/plain": [
       "defined \u001b[32mclass\u001b[39m \u001b[36mMyArb\u001b[39m"
      ]
     },
     "execution_count": 4,
     "metadata": {},
     "output_type": "execute_result"
    }
   ],
   "source": [
    "class MyArb(numPorts: Int, w: Int) extends Module {\n",
    "    val io = IO(new Bundle {\n",
    "        val req = Flipped(Vec(numPorts, Decoupled(UInt(w.W))))\n",
    "        val out = Decoupled(UInt(w.W))\n",
    "    })\n",
    "    require (numPorts > 0)\n",
    "    val inValids = Wire(Vec(numPorts, Bool()))\n",
    "    val inBits   = Wire(Vec(numPorts, UInt(w.W)))\n",
    "    val chosenOH = PriorityEncoderOH(inValids)\n",
    "    for (p <- 0 until numPorts) {\n",
    "        io.req(p).ready := chosenOH(p) && io.out.fire\n",
    "        inValids(p) := io.req(p).valid\n",
    "        inBits(p) := io.req(p).bits\n",
    "    }\n",
    "    io.out.valid := inValids.asUInt.orR\n",
    "    io.out.bits := Mux1H(chosenOH, inBits)\n",
    "}"
   ]
  },
  {
   "cell_type": "markdown",
   "id": "sufficient-period",
   "metadata": {
    "slideshow": {
     "slide_type": "slide"
    }
   },
   "source": [
    "## Tweaking Our Arbiter with FP (2/2) - with FP + reduce"
   ]
  },
  {
   "cell_type": "code",
   "execution_count": 5,
   "id": "laughing-airline",
   "metadata": {},
   "outputs": [
    {
     "data": {
      "text/plain": [
       "defined \u001b[32mclass\u001b[39m \u001b[36mMyArb\u001b[39m"
      ]
     },
     "execution_count": 5,
     "metadata": {},
     "output_type": "execute_result"
    }
   ],
   "source": [
    "class MyArb(numPorts: Int, w: Int) extends Module {\n",
    "    val io = IO(new Bundle {\n",
    "        val req = Flipped(Vec(numPorts, Decoupled(UInt(w.W))))\n",
    "        val out = Decoupled(UInt(w.W))\n",
    "    })\n",
    "    require (numPorts > 0)\n",
    "    val inValids = io.req map { _.valid }\n",
    "//     io.out.valid := VecInit(inValids).asUInt.orR\n",
    "    io.out.valid := inValids reduce { _ || _ }\n",
    "    val chosenOH = PriorityEncoderOH(inValids)\n",
    "    io.out.bits := Mux1H(chosenOH, io.req map { _.bits })\n",
    "    io.req.zip(chosenOH) foreach { case (i, c) => i.ready := c && io.out.fire}\n",
    "}"
   ]
  },
  {
   "cell_type": "markdown",
   "id": "painted-integral",
   "metadata": {
    "slideshow": {
     "slide_type": "slide"
    }
   },
   "source": [
    "## How Do You Reduce on 0 Elements?\n",
    "\n",
    "* What should `reduce` return when the collection has 0 elements?\n",
    "\n",
    "* Alternatively, what if we want to collapse a collection into a different type?"
   ]
  },
  {
   "cell_type": "markdown",
   "id": "boxed-public",
   "metadata": {
    "slideshow": {
     "slide_type": "slide"
    }
   },
   "source": [
    "## Scala `foldLeft`\n",
    "\n",
    "* Given initial value and operator, applies _left to right_\n",
    "  * \"Left\" is element 0, i.e. in iterable's order\n",
    "* Can be used to implement `reduce`\n",
    "* Can return a type different than initial collection"
   ]
  },
  {
   "cell_type": "markdown",
   "id": "eee175dc-f0cc-4271-ba27-619b0165b02c",
   "metadata": {},
   "source": [
    "#### Scala Code: foldLeft ####"
   ]
  },
  {
   "cell_type": "code",
   "execution_count": 17,
   "id": "printable-nowhere",
   "metadata": {},
   "outputs": [
    {
     "name": "stdout",
     "output_type": "stream",
     "text": [
      "**** l ****\n",
      "List(1, 2, 3, 4, 5)\n",
      "**** l.foldLeft(0)((totalSoFar, elem) => totalSoFar + elem) ****\n",
      "15\n",
      "**** l.foldLeft(0)(_ + _) ****\n",
      "15\n",
      "**** l reduce { _ + _ } ****\n",
      "15\n",
      "**** l.sum ****\n",
      "15\n",
      "**** l.max ****\n",
      "5\n"
     ]
    },
    {
     "data": {
      "text/plain": [
       "\u001b[36ml\u001b[39m: \u001b[32mSeq\u001b[39m[\u001b[32mInt\u001b[39m] = \u001b[33mList\u001b[39m(\u001b[32m1\u001b[39m, \u001b[32m2\u001b[39m, \u001b[32m3\u001b[39m, \u001b[32m4\u001b[39m, \u001b[32m5\u001b[39m)\n",
       "defined \u001b[32mfunction\u001b[39m \u001b[36mmyMax\u001b[39m\n",
       "\u001b[36mmaxTheHardWay\u001b[39m: \u001b[32mInt\u001b[39m = \u001b[32m5\u001b[39m"
      ]
     },
     "execution_count": 17,
     "metadata": {},
     "output_type": "execute_result"
    }
   ],
   "source": [
    "//val l = Seq(1, 2, 3, 4, 5)\n",
    "val l = Seq[Int](1, 2, 3, 4, 5)\n",
    "println (\"**** l ****\")\n",
    "println (l)\n",
    "\n",
    "println (\"**** l.foldLeft(0)((totalSoFar, elem) => totalSoFar + elem) ****\")\n",
    "println (l.foldLeft(0)((totalSoFar, elem) => totalSoFar + elem))\n",
    "\n",
    "println (\"**** l.foldLeft(0)(_ + _) ****\")\n",
    "println (l.foldLeft(0)(_ + _))\n",
    "println (\"**** l reduce { _ + _ } ****\")\n",
    "println (l reduce { _ + _ })\n",
    "println (\"**** l.sum ****\")\n",
    "println (l.sum)\n",
    "\n",
    "def myMax(maxSoFar: Int, x: Int) = if (maxSoFar > x) maxSoFar else x\n",
    "val maxTheHardWay = l.foldLeft(0)(myMax)\n",
    "println (\"**** l.max ****\")\n",
    "println (l.max)"
   ]
  },
  {
   "cell_type": "markdown",
   "id": "192a1df2-d897-422e-9c42-ccec6507dd64",
   "metadata": {
    "slideshow": {
     "slide_type": "slide"
    }
   },
   "source": [
    "## Visualizing `foldLeft` & `foldRight`\n",
    "\n",
    "<img src=\"images/folds.svg\" alt=\"foldLeft & foldRight\" style=\"width:50%; align:left \"/>"
   ]
  },
  {
   "cell_type": "markdown",
   "id": "visible-history",
   "metadata": {
    "slideshow": {
     "slide_type": "slide"
    }
   },
   "source": [
    "## Brief Detour: Currying (functions) in Scala\n",
    "\n",
    "* Multiple argument lists to a function\n",
    "* We have seen it and used it without talking about it yet\n",
    "  * e.g. `Seq.fill(4)(0)`\n",
    "* Can create partially applied functions to pass to FP operation"
   ]
  },
  {
   "cell_type": "code",
   "execution_count": 34,
   "id": "western-plasma",
   "metadata": {},
   "outputs": [
    {
     "name": "stdout",
     "output_type": "stream",
     "text": [
      "f: ammonite.$sess.cmd33$Helper$$Lambda$5766/986641377@38e38244\n",
      "f(2): 3\n",
      "plusX(1)(2): 3\n",
      "Seq(0,1,2,3,4) map plusX(10): List(10, 11, 12, 13, 14)\n"
     ]
    },
    {
     "data": {
      "text/plain": [
       "defined \u001b[32mfunction\u001b[39m \u001b[36msum\u001b[39m\n",
       "defined \u001b[32mfunction\u001b[39m \u001b[36mplusX\u001b[39m\n",
       "\u001b[36mf\u001b[39m: \u001b[32mInt\u001b[39m => \u001b[32mInt\u001b[39m = ammonite.$sess.cmd33$Helper$$Lambda$5766/986641377@38e38244"
      ]
     },
     "execution_count": 34,
     "metadata": {},
     "output_type": "execute_result"
    }
   ],
   "source": [
    "def sum(a: Int, b: Int) = a + b\n",
    "\n",
    "def plusX(x: Int)(b: Int) = x + b\n",
    "\n",
    "val f = plusX(1)_        // give the x = 1, and leave the outher unbound (_).\n",
    "// val f1 = plusX(_)(1)  // Error\n",
    "\n",
    "println (\"f: \" + f)\n",
    "println (\"f(2): \" + f(2))  // f(2) => plusX(1)_ => plusX(1)(2) => 1 + 2 = 3 \n",
    "println(\"plusX(1)(2): \" + plusX(1)(2))  // plusX(1)(2) => 1 + 2 = 3\n",
    "print (\"Seq(0,1,2,3,4) map plusX(10): \")\n",
    "println (Seq(0,1,2,3,4) map plusX(10)) \n",
    "// (0, 1, 2, 3, 4) map plusX(10) => (0, 1, 2, 3, 4) map (x + 10)\n",
    "// => (0 + 10, 1 + 10, 2 + 10, 3 + 10, 4 + 10) \n",
    "// => (10, 11, 12, 13, 14)"
   ]
  },
  {
   "cell_type": "markdown",
   "id": "lovely-newton",
   "metadata": {
    "slideshow": {
     "slide_type": "slide"
    }
   },
   "source": [
    "## Brief Detour: Scala Function Signatures\n",
    "\n",
    "<img src=\"images/map.png\" alt=\"map signature\" style=\"width:70%;margin-left:auto;margin-right:auto\"/>\n",
    "<img src=\"images/foldLeft.png\" alt=\"foldLeft signature\" style=\"width:70%;margin-left:auto;margin-right:auto\"/>\n",
    "\n",
    "* Screenshots from language API docs, will want to peruse for available FP operations\n",
    "  * Example from [Seq](https://www.scala-lang.org/api/2.13.10/scala/collection/Seq.html)\n",
    "* Square brackets `[]` indicate parameterized types (generics), and often type inference determines them (e.g. `A`)\n",
    "* Recognize these operations take in functions (as `op`): (_input arg types_) `=>` _return type_"
   ]
  },
  {
   "cell_type": "markdown",
   "id": "scheduled-angel",
   "metadata": {
    "slideshow": {
     "slide_type": "slide"
    }
   },
   "source": [
    "## `reduce`X vs `fold`Y\n",
    "\n",
    "* All 6 variants exist (`reduce`, `reduceLeft`, `reduceRight`, `fold`, `foldLeft`, `foldRight`)\n",
    "\n",
    "* Directions give explicit evaluation order, otherwise unspecified\n",
    "\n",
    "* In practice, `foldLeft` is often most versatile/appropriate, but brevity of `reduce` makes it tempting\n",
    "  * Typically use `reduce` to collapse, but `foldLeft` to do it in deliberate order\n",
    "\n",
    "* Can use `foldRight` and `reduceRight` to effectively do things in reverse (can also use `.reverse` before going from left)"
   ]
  },
  {
   "cell_type": "markdown",
   "id": "standard-outdoors",
   "metadata": {
    "slideshow": {
     "slide_type": "slide"
    }
   },
   "source": [
    "## Redoing Reducer with `reduce`"
   ]
  },
  {
   "cell_type": "markdown",
   "id": "50e54d9a-a5d8-4841-ba34-f096acf12ffb",
   "metadata": {},
   "source": [
    "#### Class Reduce using Loop ####"
   ]
  },
  {
   "cell_type": "code",
   "execution_count": 8,
   "id": "stone-selling",
   "metadata": {},
   "outputs": [
    {
     "data": {
      "text/plain": [
       "defined \u001b[32mclass\u001b[39m \u001b[36mReducer\u001b[39m"
      ]
     },
     "execution_count": 8,
     "metadata": {},
     "output_type": "execute_result"
    }
   ],
   "source": [
    "class Reducer(n: Int, w: Int) extends Module {\n",
    "    val io = IO(new Bundle {\n",
    "        val in  = Input(Vec(n, UInt(w.W)))\n",
    "        val out = Output(UInt(w.W))\n",
    "    })\n",
    "    require(n > 0)\n",
    "    var totalSoFar = io.in(0)\n",
    "    for (i <- 1 until n)\n",
    "        totalSoFar = io.in(i) + totalSoFar\n",
    "    io.out := totalSoFar\n",
    "//     io.out := io.in.reduce{ _ + _ }\n",
    "}\n",
    "//printVerilog(new Reducer(4,2))"
   ]
  },
  {
   "cell_type": "code",
   "execution_count": 9,
   "id": "17c7cbf0-3351-47c6-869a-6c8037322274",
   "metadata": {},
   "outputs": [
    {
     "name": "stdout",
     "output_type": "stream",
     "text": [
      "Elaborating design...\n",
      "Done elaborating.\n",
      "module Reducer(\n",
      "  input        clock,\n",
      "  input        reset,\n",
      "  input  [1:0] io_in_0,\n",
      "  input  [1:0] io_in_1,\n",
      "  input  [1:0] io_in_2,\n",
      "  input  [1:0] io_in_3,\n",
      "  output [1:0] io_out\n",
      ");\n",
      "  wire [1:0] _T_1 = io_in_1 + io_in_0; // @[cmd7.sc 9:31]\n",
      "  wire [1:0] _T_3 = io_in_2 + _T_1; // @[cmd7.sc 9:31]\n",
      "  assign io_out = io_in_3 + _T_3; // @[cmd7.sc 9:31]\n",
      "endmodule\n",
      "\n"
     ]
    }
   ],
   "source": [
    "//printVerilog(new Reducer(4,2))\n",
    "println (getVerilog (new Reducer(4,2)))"
   ]
  },
  {
   "cell_type": "markdown",
   "id": "df66371a-88d6-44e4-bc85-093ebbf7b309",
   "metadata": {},
   "source": [
    "#### Class Reducer using reduce to replace loop ####"
   ]
  },
  {
   "cell_type": "code",
   "execution_count": 35,
   "id": "4cb349d7-8942-4bd1-a25e-e89aa4702a06",
   "metadata": {},
   "outputs": [
    {
     "data": {
      "text/plain": [
       "defined \u001b[32mclass\u001b[39m \u001b[36mReducer\u001b[39m"
      ]
     },
     "execution_count": 35,
     "metadata": {},
     "output_type": "execute_result"
    }
   ],
   "source": [
    "// Class Reducer using reduce\n",
    "class Reducer(n: Int, w: Int) extends Module {\n",
    "    val io = IO(new Bundle {\n",
    "        val in  = Input(Vec(n, UInt(w.W)))\n",
    "        val out = Output(UInt(w.W))\n",
    "    })\n",
    "    require(n > 0)\n",
    "//    var totalSoFar = io.in(0)\n",
    "//    for (i <- 1 until n)\n",
    "//        totalSoFar = io.in(i) + totalSoFar\n",
    "//    io.out := totalSoFar\n",
    "    io.out := io.in.reduce{ _ + _ }\n",
    "}"
   ]
  },
  {
   "cell_type": "code",
   "execution_count": 36,
   "id": "c793e441-f3a5-406d-862f-2f25cc2f4162",
   "metadata": {},
   "outputs": [
    {
     "name": "stdout",
     "output_type": "stream",
     "text": [
      "Elaborating design...\n",
      "Done elaborating.\n",
      "module Reducer(\n",
      "  input        clock,\n",
      "  input        reset,\n",
      "  input  [1:0] io_in_0,\n",
      "  input  [1:0] io_in_1,\n",
      "  input  [1:0] io_in_2,\n",
      "  input  [1:0] io_in_3,\n",
      "  output [1:0] io_out\n",
      ");\n",
      "  wire [1:0] _T_1 = io_in_0 + io_in_1; // @[cmd34.sc 11:31]\n",
      "  wire [1:0] _T_3 = _T_1 + io_in_2; // @[cmd34.sc 11:31]\n",
      "  assign io_out = _T_3 + io_in_3; // @[cmd34.sc 11:31]\n",
      "endmodule\n",
      "\n"
     ]
    }
   ],
   "source": [
    "//printVerilog(new Reducer(4,2))\n",
    "println (getVerilog (new Reducer(4,2)))"
   ]
  },
  {
   "cell_type": "markdown",
   "id": "tight-postcard",
   "metadata": {
    "slideshow": {
     "slide_type": "slide"
    }
   },
   "source": [
    "## Redoing DelayN (Pipe) with `foldLeft`"
   ]
  },
  {
   "cell_type": "markdown",
   "id": "3a78f388-ff98-4b17-9075-6586799117aa",
   "metadata": {},
   "source": [
    "#### Class DelayNCycles Use Recusive ####"
   ]
  },
  {
   "cell_type": "code",
   "execution_count": 10,
   "id": "proof-white",
   "metadata": {
    "scrolled": true
   },
   "outputs": [
    {
     "data": {
      "text/plain": [
       "defined \u001b[32mclass\u001b[39m \u001b[36mDelayNCycles\u001b[39m"
      ]
     },
     "execution_count": 10,
     "metadata": {},
     "output_type": "execute_result"
    }
   ],
   "source": [
    "class DelayNCycles(n: Int) extends Module {\n",
    "    val io = IO(new Bundle {\n",
    "        val in  = Input(Bool())\n",
    "        val out = Output(Bool())\n",
    "    })\n",
    "    require(n >= 0)\n",
    "    def helper(n: Int, lastConn: Bool): Bool = {\n",
    "        if (n == 0) lastConn\n",
    "        else helper(n-1, RegNext(lastConn))\n",
    "    }\n",
    "    io.out := helper(n, io.in)\n",
    "//     io.out := (0 until n).foldLeft(io.in){(lastConn,i) => RegNext(lastConn)}\n",
    "}\n",
    "//printVerilog(new DelayNCycles(3))"
   ]
  },
  {
   "cell_type": "code",
   "execution_count": 11,
   "id": "c7904cc5-96d9-4860-88f7-9236f85874e3",
   "metadata": {},
   "outputs": [
    {
     "name": "stdout",
     "output_type": "stream",
     "text": [
      "Elaborating design...\n",
      "Done elaborating.\n",
      "module DelayNCycles(\n",
      "  input   clock,\n",
      "  input   reset,\n",
      "  input   io_in,\n",
      "  output  io_out\n",
      ");\n",
      "`ifdef RANDOMIZE_REG_INIT\n",
      "  reg [31:0] _RAND_0;\n",
      "  reg [31:0] _RAND_1;\n",
      "  reg [31:0] _RAND_2;\n",
      "`endif // RANDOMIZE_REG_INIT\n",
      "  reg  REG; // @[cmd9.sc 9:33]\n",
      "  reg  REG_1; // @[cmd9.sc 9:33]\n",
      "  reg  REG_2; // @[cmd9.sc 9:33]\n",
      "  assign io_out = REG_2; // @[cmd9.sc 11:12]\n",
      "  always @(posedge clock) begin\n",
      "    REG <= io_in; // @[cmd9.sc 9:33]\n",
      "    REG_1 <= REG; // @[cmd9.sc 9:33]\n",
      "    REG_2 <= REG_1; // @[cmd9.sc 9:33]\n",
      "  end\n",
      "// Register and memory initialization\n",
      "`ifdef RANDOMIZE_GARBAGE_ASSIGN\n",
      "`define RANDOMIZE\n",
      "`endif\n",
      "`ifdef RANDOMIZE_INVALID_ASSIGN\n",
      "`define RANDOMIZE\n",
      "`endif\n",
      "`ifdef RANDOMIZE_REG_INIT\n",
      "`define RANDOMIZE\n",
      "`endif\n",
      "`ifdef RANDOMIZE_MEM_INIT\n",
      "`define RANDOMIZE\n",
      "`endif\n",
      "`ifndef RANDOM\n",
      "`define RANDOM $random\n",
      "`endif\n",
      "`ifdef RANDOMIZE_MEM_INIT\n",
      "  integer initvar;\n",
      "`endif\n",
      "`ifndef SYNTHESIS\n",
      "`ifdef FIRRTL_BEFORE_INITIAL\n",
      "`FIRRTL_BEFORE_INITIAL\n",
      "`endif\n",
      "initial begin\n",
      "  `ifdef RANDOMIZE\n",
      "    `ifdef INIT_RANDOM\n",
      "      `INIT_RANDOM\n",
      "    `endif\n",
      "    `ifndef VERILATOR\n",
      "      `ifdef RANDOMIZE_DELAY\n",
      "        #`RANDOMIZE_DELAY begin end\n",
      "      `else\n",
      "        #0.002 begin end\n",
      "      `endif\n",
      "    `endif\n",
      "`ifdef RANDOMIZE_REG_INIT\n",
      "  _RAND_0 = {1{`RANDOM}};\n",
      "  REG = _RAND_0[0:0];\n",
      "  _RAND_1 = {1{`RANDOM}};\n",
      "  REG_1 = _RAND_1[0:0];\n",
      "  _RAND_2 = {1{`RANDOM}};\n",
      "  REG_2 = _RAND_2[0:0];\n",
      "`endif // RANDOMIZE_REG_INIT\n",
      "  `endif // RANDOMIZE\n",
      "end // initial\n",
      "`ifdef FIRRTL_AFTER_INITIAL\n",
      "`FIRRTL_AFTER_INITIAL\n",
      "`endif\n",
      "`endif // SYNTHESIS\n",
      "endmodule\n",
      "\n"
     ]
    }
   ],
   "source": [
    "//printVerilog(new DelayNCycles(3))\n",
    "println (getVerilog (new DelayNCycles(3)))"
   ]
  },
  {
   "cell_type": "markdown",
   "id": "44114879-45f6-4cae-9485-69cf820a876d",
   "metadata": {},
   "source": [
    "#### DelayNCycles using foldLeft ####"
   ]
  },
  {
   "cell_type": "code",
   "execution_count": 37,
   "id": "272c345f-2e17-4c5c-aad3-fe6adc0f65d2",
   "metadata": {},
   "outputs": [
    {
     "data": {
      "text/plain": [
       "defined \u001b[32mclass\u001b[39m \u001b[36mDelayNCycles\u001b[39m"
      ]
     },
     "execution_count": 37,
     "metadata": {},
     "output_type": "execute_result"
    }
   ],
   "source": [
    "class DelayNCycles(n: Int) extends Module {\n",
    "    val io = IO(new Bundle {\n",
    "        val in  = Input(Bool())\n",
    "        val out = Output(Bool())\n",
    "    })\n",
    "    require(n >= 0)\n",
    "    //def helper(n: Int, lastConn: Bool): Bool = {\n",
    "    //    if (n == 0) lastConn\n",
    "    //    else helper(n-1, RegNext(lastConn))\n",
    "    //}\n",
    "    //io.out := helper(n, io.in)\n",
    "    io.out := (0 until n).foldLeft(io.in){(lastConn,i) => RegNext(lastConn)}\n",
    "}"
   ]
  },
  {
   "cell_type": "code",
   "execution_count": 38,
   "id": "68ee87fc-8a2e-4c05-b599-1dfdd001ec37",
   "metadata": {},
   "outputs": [
    {
     "name": "stdout",
     "output_type": "stream",
     "text": [
      "Elaborating design...\n",
      "Done elaborating.\n",
      "module DelayNCycles(\n",
      "  input   clock,\n",
      "  input   reset,\n",
      "  input   io_in,\n",
      "  output  io_out\n",
      ");\n",
      "`ifdef RANDOMIZE_REG_INIT\n",
      "  reg [31:0] _RAND_0;\n",
      "  reg [31:0] _RAND_1;\n",
      "  reg [31:0] _RAND_2;\n",
      "`endif // RANDOMIZE_REG_INIT\n",
      "  reg  REG; // @[cmd36.sc 12:66]\n",
      "  reg  REG_1; // @[cmd36.sc 12:66]\n",
      "  reg  REG_2; // @[cmd36.sc 12:66]\n",
      "  assign io_out = REG_2; // @[cmd36.sc 12:12]\n",
      "  always @(posedge clock) begin\n",
      "    REG <= io_in; // @[cmd36.sc 12:66]\n",
      "    REG_1 <= REG; // @[cmd36.sc 12:66]\n",
      "    REG_2 <= REG_1; // @[cmd36.sc 12:66]\n",
      "  end\n",
      "// Register and memory initialization\n",
      "`ifdef RANDOMIZE_GARBAGE_ASSIGN\n",
      "`define RANDOMIZE\n",
      "`endif\n",
      "`ifdef RANDOMIZE_INVALID_ASSIGN\n",
      "`define RANDOMIZE\n",
      "`endif\n",
      "`ifdef RANDOMIZE_REG_INIT\n",
      "`define RANDOMIZE\n",
      "`endif\n",
      "`ifdef RANDOMIZE_MEM_INIT\n",
      "`define RANDOMIZE\n",
      "`endif\n",
      "`ifndef RANDOM\n",
      "`define RANDOM $random\n",
      "`endif\n",
      "`ifdef RANDOMIZE_MEM_INIT\n",
      "  integer initvar;\n",
      "`endif\n",
      "`ifndef SYNTHESIS\n",
      "`ifdef FIRRTL_BEFORE_INITIAL\n",
      "`FIRRTL_BEFORE_INITIAL\n",
      "`endif\n",
      "initial begin\n",
      "  `ifdef RANDOMIZE\n",
      "    `ifdef INIT_RANDOM\n",
      "      `INIT_RANDOM\n",
      "    `endif\n",
      "    `ifndef VERILATOR\n",
      "      `ifdef RANDOMIZE_DELAY\n",
      "        #`RANDOMIZE_DELAY begin end\n",
      "      `else\n",
      "        #0.002 begin end\n",
      "      `endif\n",
      "    `endif\n",
      "`ifdef RANDOMIZE_REG_INIT\n",
      "  _RAND_0 = {1{`RANDOM}};\n",
      "  REG = _RAND_0[0:0];\n",
      "  _RAND_1 = {1{`RANDOM}};\n",
      "  REG_1 = _RAND_1[0:0];\n",
      "  _RAND_2 = {1{`RANDOM}};\n",
      "  REG_2 = _RAND_2[0:0];\n",
      "`endif // RANDOMIZE_REG_INIT\n",
      "  `endif // RANDOMIZE\n",
      "end // initial\n",
      "`ifdef FIRRTL_AFTER_INITIAL\n",
      "`FIRRTL_AFTER_INITIAL\n",
      "`endif\n",
      "`endif // SYNTHESIS\n",
      "endmodule\n",
      "\n"
     ]
    }
   ],
   "source": [
    "println (getVerilog (new DelayNCycles(3)))"
   ]
  },
  {
   "cell_type": "markdown",
   "id": "dated-constraint",
   "metadata": {
    "slideshow": {
     "slide_type": "slide"
    }
   },
   "source": [
    "## Scala `zipWithIndex`\n",
    "\n",
    "* Sometimes want to have access to index when performing FP op\n",
    "  * Analogous to `enumerate` in Python"
   ]
  },
  {
   "cell_type": "code",
   "execution_count": 47,
   "id": "431f79e1-2e62-4d6c-a1cd-766101574dd7",
   "metadata": {},
   "outputs": [
    {
     "name": "stdout",
     "output_type": "stream",
     "text": [
      "5\n",
      "6\n",
      "7\n",
      "8\n",
      "(5,0)\n",
      "(6,1)\n",
      "(7,2)\n",
      "(8,3)\n"
     ]
    },
    {
     "data": {
      "text/plain": [
       "\u001b[36ml\u001b[39m: \u001b[32mSeq\u001b[39m[\u001b[32mInt\u001b[39m] = \u001b[33mList\u001b[39m(\u001b[32m5\u001b[39m, \u001b[32m6\u001b[39m, \u001b[32m7\u001b[39m, \u001b[32m8\u001b[39m)"
      ]
     },
     "execution_count": 47,
     "metadata": {},
     "output_type": "execute_result"
    }
   ],
   "source": [
    "// Print the list and index.\n",
    "val l = Seq(5,6,7,8)\n",
    "for (x <- l) {\n",
    "    println(x)\n",
    "}\n",
    "for (i <- 0 until l.size) {\n",
    "    println (l(i), i)\n",
    "}"
   ]
  },
  {
   "cell_type": "code",
   "execution_count": 49,
   "id": "eight-emphasis",
   "metadata": {},
   "outputs": [
    {
     "name": "stdout",
     "output_type": "stream",
     "text": [
      "l.zip(0 until l.size): List((5,0), (6,1), (7,2), (8,3))\n",
      "l.zip(0 until l.size): List((5,0), (6,1), (7,2), (8,3))\n",
      "l.zip: List((5,0), (6,1), (7,2), (8,3))\n",
      "l.zipWithIndex.map{ t => t._1 * t._2 }: List(0, 6, 14, 24)\n",
      "l.zipWithIndex.map{ case (x, i) => x * i }: List(0, 6, 14, 24)\n"
     ]
    },
    {
     "data": {
      "text/plain": [
       "\u001b[36ml\u001b[39m: \u001b[32mSeq\u001b[39m[\u001b[32mInt\u001b[39m] = \u001b[33mList\u001b[39m(\u001b[32m5\u001b[39m, \u001b[32m6\u001b[39m, \u001b[32m7\u001b[39m, \u001b[32m8\u001b[39m)"
      ]
     },
     "execution_count": 49,
     "metadata": {},
     "output_type": "execute_result"
    }
   ],
   "source": [
    "// Use zip to print the list and index.\n",
    "val l = Seq(5,6,7,8)\n",
    "print (\"l.zip(0 until l.size): \")\n",
    "println (l.zip(0 until l.size))\n",
    "print (\"l.zip(0 until l.size): \")\n",
    "println (l.zip(0 until l.size))\n",
    "print (\"l.zip: \")\n",
    "println (l.zipWithIndex)\n",
    "print (\"l.zipWithIndex.map{ t => t._1 * t._2 }: \")\n",
    "println (l.zipWithIndex.map{ t => t._1 * t._2 })\n",
    "print (\"l.zipWithIndex.map{ case (x, i) => x * i }: \")\n",
    "println (l.zipWithIndex.map{ case (x, i) => x * i })"
   ]
  },
  {
   "cell_type": "markdown",
   "id": "ca3a1703-b949-4c11-8a00-9aa7065a780f",
   "metadata": {
    "slideshow": {
     "slide_type": "slide"
    }
   },
   "source": [
    "## `zipWithIndex` Diagram\n",
    "\n",
    "<p>\n",
    "<img src=\"images/zipWithIndex.svg\" alt=\"zipWithIndex\" style= \"width:50%; align:left\" />"
   ]
  },
  {
   "cell_type": "markdown",
   "id": "horizontal-entertainment",
   "metadata": {
    "slideshow": {
     "slide_type": "slide"
    }
   },
   "source": [
    "## One-Hot Priority Encoder (with muxes) Redone with FP"
   ]
  },
  {
   "cell_type": "code",
   "execution_count": 13,
   "id": "involved-tackle",
   "metadata": {},
   "outputs": [
    {
     "name": "stdout",
     "output_type": "stream",
     "text": [
      "Elaborating design...\n",
      "Done elaborating.\n",
      "  0 ->   0\n",
      "  1 ->   1\n",
      " 10 ->  10\n",
      " 11 ->   1\n",
      "100 -> 100\n",
      "101 ->   1\n",
      "110 ->  10\n",
      "111 ->   1\n",
      "  0 ->   0\n",
      "test MyPriEncodeOH Success: 0 tests passed in 10 cycles in 0.059343 seconds 168.51 Hz\n"
     ]
    },
    {
     "data": {
      "text/plain": [
       "defined \u001b[32mclass\u001b[39m \u001b[36mMyPriEncodeOH\u001b[39m"
      ]
     },
     "execution_count": 13,
     "metadata": {},
     "output_type": "execute_result"
    }
   ],
   "source": [
    "class MyPriEncodeOH(n: Int) extends Module {\n",
    "    val io = IO(new Bundle {\n",
    "        val in  = Input(UInt(n.W))\n",
    "        val out = Output(UInt())\n",
    "    })\n",
    "    require (n > 0)\n",
    "    def withMuxes(index: Int): UInt = {\n",
    "        if (index < n) Mux(io.in(index), (1 << index).U, withMuxes(index+1))\n",
    "        else 0.U\n",
    "    }\n",
    "    io.out := withMuxes(0)\n",
    "//     io.out := io.in.asBools.zipWithIndex.reverse.foldLeft(0.U) {\n",
    "//         case (soFar, (b, index)) => Mux(b, (1 << index).U, soFar)\n",
    "// //         case ((b, index), soFar) => Mux(b, (1 << index).U, soFar)\n",
    "//     }\n",
    "//     io.out := PriorityEncoderOH(io.in)    // Standard Library\n",
    "    printf(\"%b -> %b\\n\", io.in, io.out)\n",
    "}\n",
    "\n",
    "// printVerilog(new MyPriEncodeOH(3))\n",
    "test(new MyPriEncodeOH(3)) { c =>\n",
    "    for (i <- 0 until 8) {\n",
    "        c.io.in.poke(i.U)\n",
    "        c.clock.step()\n",
    "    }\n",
    "}"
   ]
  },
  {
   "cell_type": "markdown",
   "id": "robust-foster",
   "metadata": {
    "slideshow": {
     "slide_type": "slide"
    }
   },
   "source": [
    "## Redoing Crossbar with FP (1/4) - IO decs"
   ]
  },
  {
   "cell_type": "code",
   "execution_count": 14,
   "id": "structural-representative",
   "metadata": {},
   "outputs": [
    {
     "data": {
      "text/plain": [
       "defined \u001b[32mclass\u001b[39m \u001b[36mMessage\u001b[39m\n",
       "defined \u001b[32mclass\u001b[39m \u001b[36mXBarIO\u001b[39m"
      ]
     },
     "execution_count": 14,
     "metadata": {},
     "output_type": "execute_result"
    }
   ],
   "source": [
    "class Message(numOuts: Int, length: Int) extends Bundle {\n",
    "    val addr = UInt(log2Ceil(numOuts).W)\n",
    "    val data = UInt(length.W)\n",
    "}\n",
    "\n",
    "class XBarIO(numIns: Int, numOuts: Int, length: Int) extends Bundle {\n",
    "    val in  = Vec(numIns, Flipped(Decoupled(new Message(numOuts, length))))\n",
    "    val out = Vec(numOuts, Decoupled(new Message(numOuts, length)))\n",
    "}"
   ]
  },
  {
   "cell_type": "markdown",
   "id": "common-bacon",
   "metadata": {
    "slideshow": {
     "slide_type": "slide"
    }
   },
   "source": [
    "## Redoing Crossbar with FP (2/4) - inner loops only"
   ]
  },
  {
   "cell_type": "code",
   "execution_count": 15,
   "id": "senior-sponsorship",
   "metadata": {},
   "outputs": [
    {
     "data": {
      "text/plain": [
       "defined \u001b[32mclass\u001b[39m \u001b[36mXBar\u001b[39m"
      ]
     },
     "execution_count": 15,
     "metadata": {},
     "output_type": "execute_result"
    }
   ],
   "source": [
    "class XBar(numIns: Int, numOuts: Int, length: Int) extends Module {\n",
    "    val io = IO(new XBarIO(numIns, numOuts, length))\n",
    "    val arbs = Seq.fill(numOuts)(Module(new RRArbiter(new Message(numOuts, length), numIns)))\n",
    "    for (ip <- 0 until numIns) {\n",
    "        val inReadys = Wire(Vec(numOuts, Bool()))\n",
    "        for (op <- 0 until numOuts) {\n",
    "            inReadys(op) := arbs(op).io.in(ip).ready\n",
    "        }\n",
    "        io.in(ip).ready := inReadys.asUInt.orR\n",
    "//         io.in(ip).ready := arbs.map{ _.io.in(ip).ready }.reduce{ _ || _ }\n",
    "    }\n",
    "    for (op <- 0 until numOuts) {\n",
    "        for (ip <- 0 until numIns) {\n",
    "            arbs(op).io.in(ip).bits <> io.in(ip).bits\n",
    "            arbs(op).io.in(ip).valid := io.in(ip).valid && (io.in(ip).bits.addr === op.U)\n",
    "        }\n",
    "//         arbs(op).io.in.zip(io.in).foreach { case (arbIn, ioIn) =>\n",
    "//             arbIn.bits <> ioIn.bits\n",
    "//             arbIn.valid := ioIn.valid && (ioIn.bits.addr === op.U)\n",
    "//         }\n",
    "        io.out(op) <> arbs(op).io.out\n",
    "    }\n",
    "    for (op <- 0 until numOuts) {\n",
    "        printf(\" %d -> %d (%b)\", io.out(op).bits.data, op.U, io.out(op).valid)\n",
    "    }\n",
    "    printf(\"\\n\")\n",
    "}"
   ]
  },
  {
   "cell_type": "markdown",
   "id": "italic-circular",
   "metadata": {
    "slideshow": {
     "slide_type": "slide"
    }
   },
   "source": [
    "## Redoing Crossbar with FP (3/4) - all loops"
   ]
  },
  {
   "cell_type": "code",
   "execution_count": 16,
   "id": "informal-heather",
   "metadata": {},
   "outputs": [
    {
     "data": {
      "text/plain": [
       "defined \u001b[32mclass\u001b[39m \u001b[36mXBar\u001b[39m"
      ]
     },
     "execution_count": 16,
     "metadata": {},
     "output_type": "execute_result"
    }
   ],
   "source": [
    "class XBar(numIns: Int, numOuts: Int, length: Int) extends Module {\n",
    "    val io = IO(new XBarIO(numIns, numOuts, length))\n",
    "    val arbs = Seq.fill(numOuts)(Module(new RRArbiter(new Message(numOuts, length), numIns)))\n",
    "    for (ip <- 0 until numIns) {\n",
    "        io.in(ip).ready := arbs.map{ _.io.in(ip).ready }.reduce{ _ || _ }\n",
    "    }\n",
    "//     io.in.zipWithIndex.foreach { case (in, ip) =>\n",
    "//         in.ready := arbs.map{ _.io.in(ip).ready }.reduce{ _ || _ }\n",
    "//     }\n",
    "    for (op <- 0 until numOuts) {\n",
    "        arbs(op).io.in.zip(io.in).foreach { case (arbIn, ioIn) =>\n",
    "            arbIn.bits <> ioIn.bits\n",
    "            arbIn.valid := ioIn.valid && (ioIn.bits.addr === op.U)\n",
    "        }\n",
    "        io.out(op) <> arbs(op).io.out\n",
    "    }\n",
    "//     io.out.zip(arbs).zipWithIndex.foreach { case ((ioOut, arbOut), op) =>\n",
    "//         arbOut.io.in.zip(io.in).foreach { case (arbIn, ioIn) =>\n",
    "//             arbIn.bits <> ioIn.bits\n",
    "//             arbIn.valid := ioIn.valid && (ioIn.bits.addr === op.U)\n",
    "//         }\n",
    "//         ioOut <> arbOut.io.out\n",
    "//     }\n",
    "    for (op <- 0 until numOuts) {\n",
    "        printf(\" %d -> %d (%b)\", io.out(op).bits.data, op.U, io.out(op).valid)\n",
    "    }\n",
    "//     io.out.zipWithIndex.foreach{\n",
    "//         case (outP, op) => printf(\" %d -> %d (%b)\", outP.bits.data, op.U, outP.valid)\n",
    "//     }\n",
    "    printf(\"\\n\")\n",
    "}"
   ]
  },
  {
   "cell_type": "code",
   "execution_count": 16,
   "id": "1d9d3cde-96f1-4409-b908-f1bb16e7400f",
   "metadata": {},
   "outputs": [],
   "source": [
    "//\n",
    "//println (getVerilog (new XBar(1, 1, 8)))"
   ]
  },
  {
   "cell_type": "markdown",
   "id": "hindu-delaware",
   "metadata": {
    "slideshow": {
     "slide_type": "slide"
    }
   },
   "source": [
    "## Redoing Crossbar with FP (4/4) - Tests"
   ]
  },
  {
   "cell_type": "code",
   "execution_count": 16,
   "id": "comprehensive-regulation",
   "metadata": {},
   "outputs": [],
   "source": [
    "/*\n",
    "val numIns = 4\n",
    "val numOuts = 2\n",
    "test(new XBar(numIns,numOuts,8)) { c =>\n",
    "    for (ip <- 0 until numIns) {\n",
    "        c.io.in(ip).valid.poke(true.B)\n",
    "        c.io.in(ip).bits.data.poke(ip.U)\n",
    "        c.io.in(ip).bits.addr.poke((ip % numOuts).U)\n",
    "    }\n",
    "    for (op <- 0 until numOuts) {\n",
    "        c.io.out(op).ready.poke(true.B)\n",
    "    }\n",
    "    for (cycle <- 0 until 4) {\n",
    "        c.clock.step(0)\n",
    "    }\n",
    "    c.clock.step(4)\n",
    "}\n",
    "*/"
   ]
  },
  {
   "cell_type": "markdown",
   "id": "fitted-silicon",
   "metadata": {
    "slideshow": {
     "slide_type": "slide"
    }
   },
   "source": [
    "## Only Use FP When it is an Improvement!\n",
    "\n",
    "* FP used well...\n",
    "  * Leverages FP operation to execute commmon pattern\n",
    "  * Improves readability and simplifies code\n",
    "\n",
    "* FP used over-eagerly...\n",
    "  * Harder to read/understand\n",
    "  * Brittle\n",
    "\n",
    "* Consider...\n",
    "  * Would a simple for loop or even recursion be more clear?\n",
    "  * Limit self to 2-3 FP operations per line at most\n",
    "  * Multiple lines for the function literal?\n",
    "    * Maybe pull into a named helper function or fall back to _for_"
   ]
  }
 ],
 "metadata": {
  "celltoolbar": "Slideshow",
  "kernelspec": {
   "display_name": "Scala 2.12.11",
   "language": "scala",
   "name": "scala_2_12_11"
  },
  "language_info": {
   "codemirror_mode": "text/x-scala",
   "file_extension": ".scala",
   "mimetype": "text/x-scala",
   "name": "scala",
   "nbconvert_exporter": "script",
   "version": "2.12.11"
  }
 },
 "nbformat": 4,
 "nbformat_minor": 5
}
