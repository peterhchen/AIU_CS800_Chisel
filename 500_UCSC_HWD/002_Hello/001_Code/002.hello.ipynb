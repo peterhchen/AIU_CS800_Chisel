{
 "cells": [
  {
   "cell_type": "markdown",
   "id": "0c04a6e3-7d8a-46b9-813d-34bc56ef4f05",
   "metadata": {
    "slideshow": {
     "slide_type": "slide"
    }
   },
   "source": [
    "## Agile Hardware Design\n",
    "***\n",
    "# Hello Chisel\n",
    "\n",
    "<img src=\"./images/chisel_logo.svg\" alt=\"scala logo\" style=\"float:right; width: 200px;\"/>\n",
    "\n",
    "## Prof. Scott Beamer\n",
    "### sbeamer@ucsc.edu\n",
    "\n",
    "## [CSE 228A](https://classes.soe.ucsc.edu/cse228a/Winter24/)"
   ]
  },
  {
   "cell_type": "markdown",
   "id": "782aa938-9590-4ad4-b85a-b3c726d5e235",
   "metadata": {},
   "source": [
    "## Before we started. We test UCB Chisel Structure and make sure it worked."
   ]
  },
  {
   "cell_type": "code",
   "execution_count": 1,
   "id": "bd2aa1c7-1293-45aa-b6e7-f69f285f6d0f",
   "metadata": {},
   "outputs": [
    {
     "data": {
      "text/plain": [
       "\u001b[36mpath\u001b[39m: \u001b[32mString\u001b[39m = \u001b[32m\"/home/peter/AIU/AIU_CS800_Chisel/500_UCSC_HWD/002_HelloChisel/001_Code/source/load-ivy.sc\"\u001b[39m"
      ]
     },
     "execution_count": 1,
     "metadata": {},
     "output_type": "execute_result"
    }
   ],
   "source": [
    "// Before we start. We test for UCB stcture and make sure they worked.\n",
    "// Below, we test for UCB stcture and make sure they worked.\n",
    "val path = System.getProperty(\"user.dir\") + \"/source/load-ivy.sc\"\n",
    "interp.load.module(ammonite.ops.Path(java.nio.file.FileSystems.getDefault().getPath(path)))"
   ]
  },
  {
   "cell_type": "code",
   "execution_count": 2,
   "id": "298aeb55-f8e1-475a-9b8a-8204e63fa8f8",
   "metadata": {},
   "outputs": [
    {
     "data": {
      "text/plain": [
       "\u001b[32mimport \u001b[39m\u001b[36mchisel3._\n",
       "\u001b[39m\n",
       "\u001b[32mimport \u001b[39m\u001b[36mchisel3.util._\n",
       "\u001b[39m\n",
       "\u001b[32mimport \u001b[39m\u001b[36mchisel3.tester._\n",
       "\u001b[39m\n",
       "\u001b[32mimport \u001b[39m\u001b[36mchisel3.tester.RawTester.test\n",
       "\u001b[39m\n",
       "\u001b[32mimport \u001b[39m\u001b[36mdotvisualizer._\u001b[39m"
      ]
     },
     "execution_count": 2,
     "metadata": {},
     "output_type": "execute_result"
    }
   ],
   "source": [
    "import chisel3._\n",
    "import chisel3.util._\n",
    "import chisel3.tester._\n",
    "import chisel3.tester.RawTester.test\n",
    "import dotvisualizer._"
   ]
  },
  {
   "cell_type": "code",
   "execution_count": 3,
   "id": "1f7a9751-e929-4275-9ad2-4e39587cf376",
   "metadata": {},
   "outputs": [
    {
     "name": "stdout",
     "output_type": "stream",
     "text": [
      "Elaborating design...\n",
      "Done elaborating.\n",
      "module Passthrough(\n",
      "  input        clock,\n",
      "  input        reset,\n",
      "  input  [3:0] io_in,\n",
      "  output [3:0] io_out\n",
      ");\n",
      "  assign io_out = io_in; // @[cmd2.sc 6:10]\n",
      "endmodule\n",
      "\n"
     ]
    },
    {
     "data": {
      "text/plain": [
       "defined \u001b[32mclass\u001b[39m \u001b[36mPassthrough\u001b[39m"
      ]
     },
     "execution_count": 3,
     "metadata": {},
     "output_type": "execute_result"
    }
   ],
   "source": [
    "// Chisel Code: Declare a new module definition\n",
    "class Passthrough extends Module {\n",
    "  val io = IO(new Bundle {\n",
    "    val in = Input(UInt(4.W))\n",
    "    val out = Output(UInt(4.W))\n",
    "  })\n",
    "  io.out := io.in\n",
    "}\n",
    "\n",
    "// Scala Code: Elaborate our Chisel design by translating it to Verilog\n",
    "// Don't worry about understanding this code; it is very complicated Scala\n",
    "println(getVerilog(new Passthrough))"
   ]
  },
  {
   "cell_type": "code",
   "execution_count": 4,
   "id": "184e7c3c-03e4-4f14-b420-84610e8a7214",
   "metadata": {},
   "outputs": [
    {
     "name": "stdout",
     "output_type": "stream",
     "text": [
      "Elaborating design...\n",
      "Done elaborating.\n",
      "module Passthrough(\n",
      "  input        clock,\n",
      "  input        reset,\n",
      "  input  [3:0] io_in,\n",
      "  output [3:0] io_out\n",
      ");\n",
      "  assign io_out = io_in; // @[cmd3.sc 6:10]\n",
      "endmodule\n",
      "\n",
      "Elaborating design...\n",
      "Done elaborating.\n",
      "module PassthroughGenerator(\n",
      "  input        clock,\n",
      "  input        reset,\n",
      "  input  [9:0] io_in,\n",
      "  output [9:0] io_out\n",
      ");\n",
      "  assign io_out = io_in; // @[cmd3.sc 15:10]\n",
      "endmodule\n",
      "\n",
      "Elaborating design...\n",
      "Done elaborating.\n",
      "module PassthroughGenerator(\n",
      "  input         clock,\n",
      "  input         reset,\n",
      "  input  [19:0] io_in,\n",
      "  output [19:0] io_out\n",
      ");\n",
      "  assign io_out = io_in; // @[cmd3.sc 15:10]\n",
      "endmodule\n",
      "\n"
     ]
    },
    {
     "data": {
      "text/plain": [
       "defined \u001b[32mclass\u001b[39m \u001b[36mPassthrough\u001b[39m\n",
       "defined \u001b[32mclass\u001b[39m \u001b[36mPassthroughGenerator\u001b[39m"
      ]
     },
     "execution_count": 4,
     "metadata": {},
     "output_type": "execute_result"
    }
   ],
   "source": [
    "// Chisel Code: Declare a new module definition\n",
    "class Passthrough extends Module {\n",
    "  val io = IO(new Bundle {\n",
    "    val in = Input(UInt(4.W))\n",
    "    val out = Output(UInt(4.W))\n",
    "  })\n",
    "  io.out := io.in\n",
    "}\n",
    "\n",
    "// Chisel Code, but pass in a parameter to set widths of ports\n",
    "class PassthroughGenerator(width: Int) extends Module { \n",
    "  val io = IO(new Bundle {\n",
    "    val in = Input(UInt(width.W))\n",
    "    val out = Output(UInt(width.W))\n",
    "  })\n",
    "  io.out := io.in\n",
    "}\n",
    "// Scala Code: Elaborate our Chisel design by translating it to Verilog\n",
    "// Don't worry about understanding this code; it is very complicated Scala\n",
    "println(getVerilog(new Passthrough))\n",
    "\n",
    "// Let's now generate modules with different widths\n",
    "println(getVerilog(new PassthroughGenerator(10)))\n",
    "println(getVerilog(new PassthroughGenerator(20)))"
   ]
  },
  {
   "cell_type": "markdown",
   "id": "german-support",
   "metadata": {
    "slideshow": {
     "slide_type": "slide"
    }
   },
   "source": [
    "## Play With Today's Slides\n",
    "\n",
    "### [https://github.com/agile-hw/lectures](https://github.com/agile-hw/lectures)\n",
    "* Can work with it directly in browser via [Binder](https://mybinder.org/v2/gh/agile-hw/lectures/HEAD?urlpath=tree)\n",
    "* Can clone and run Jupyter locally\n",
    "  * Will need to install additional things for presentation, Scala, and Chisel\n",
    "  * Repo contains `install.sh` to help with this"
   ]
  },
  {
   "cell_type": "markdown",
   "id": "positive-wrong",
   "metadata": {
    "slideshow": {
     "slide_type": "slide"
    }
   },
   "source": [
    "## Plan for Today\n",
    "\n",
    "* Brief taste of Scala\n",
    "* Brief taste of Chisel\n",
    "* _Close the loop:_ build & test simple Chisel module"
   ]
  },
  {
   "cell_type": "markdown",
   "id": "7bb924e4-a33c-46da-bfda-690a26866e6b",
   "metadata": {
    "slideshow": {
     "slide_type": "slide"
    }
   },
   "source": [
    "## Scala Language Summary\n",
    "\n",
    "<img src=\"./images/scala-spiral.png\" alt=\"scala logo\" style=\"float:right; width: 100px;\"/>\n",
    "\n",
    "_**Language Features**_\n",
    "* Object oriented with strong static type system\n",
    "* Native support for functional programing\n",
    "* Runs on top of the JVM (and can interoperate with Java binaries)\n",
    "* Tries to catch many potential errors at compile time\n",
    "\n",
    "_**Rationale for Using Scala**_\n",
    "* Great support for implementing embedded domain-specific languages (DSL), e.g. Chisel\n",
    "* Object oriented and functional features help make great _generators_\n",
    "* Type system and included standard library’s collections"
   ]
  },
  {
   "cell_type": "markdown",
   "id": "urban-plaza",
   "metadata": {
    "slideshow": {
     "slide_type": "slide"
    }
   },
   "source": [
    "## Scala Execution Mechanisms\n",
    "\n",
    "_**Standard Compilation -> Execution**_\n",
    "* Compile Scala program (as Java bytecode) and run on JVM\n",
    "* Code needs to be structured in classes and have a `main`\n",
    "* Typically use appropriate build tool (e.g. sbt) or an IDE (e.g. IntelliJ)\n",
    "\n",
    "_**Read-Eval-Print Loop (REPL)**_\n",
    "* Can launch a REPL (interpreter) and write (then evaluate) a single line at a time\n",
    "* Great for testing out features\n",
    "* The Jupyter notebooks in this course (where we can execute snippets in isolation) are built on an extension to this ([Almond](https://almond.sh))"
   ]
  },
  {
   "cell_type": "markdown",
   "id": "advised-designation",
   "metadata": {
    "slideshow": {
     "slide_type": "slide"
    }
   },
   "source": [
    "## Scala Literals\n",
    "\n",
    "* Common Simple Scala Types - `Int`, `Float`, `Long`, `Double`, `Byte`, `Char`, `String`\n",
    "* _Syntax Note:_ semicolons are optional and rarely used"
   ]
  },
  {
   "cell_type": "code",
   "execution_count": 5,
   "id": "varied-shareware",
   "metadata": {},
   "outputs": [
    {
     "data": {
      "text/plain": [
       "\u001b[36mres4_0\u001b[39m: \u001b[32mInt\u001b[39m = \u001b[32m5\u001b[39m\n",
       "\u001b[36mres4_1\u001b[39m: \u001b[32mDouble\u001b[39m = \u001b[32m2.5\u001b[39m\n",
       "\u001b[36mres4_2\u001b[39m: \u001b[32mString\u001b[39m = \u001b[32m\"hello\"\u001b[39m"
      ]
     },
     "execution_count": 5,
     "metadata": {},
     "output_type": "execute_result"
    }
   ],
   "source": [
    "2 + 3\n",
    "5.0 / 2\n",
    "\"hello\""
   ]
  },
  {
   "cell_type": "markdown",
   "id": "nonprofit-installation",
   "metadata": {
    "slideshow": {
     "slide_type": "slide"
    }
   },
   "source": [
    "## Scala Type Inference\n",
    "\n",
    "* Everything is an object, even simple types\n",
    "* Types must be known/resolved at compile time (_statically typed_)\n",
    "* Scala has _type inference_, so can often omit type specifier\n",
    "* _Syntax Note:_ unlike C/Java, type goes after name (instead of before)"
   ]
  },
  {
   "cell_type": "code",
   "execution_count": 6,
   "id": "conscious-olive",
   "metadata": {},
   "outputs": [
    {
     "data": {
      "text/plain": [
       "\u001b[36mres5_0\u001b[39m: \u001b[32mInt\u001b[39m = \u001b[32m4\u001b[39m\n",
       "\u001b[36mres5_1\u001b[39m: \u001b[32mInt\u001b[39m = \u001b[32m4\u001b[39m\n",
       "\u001b[36mres5_2\u001b[39m: \u001b[32mFloat\u001b[39m = \u001b[32m4.0F\u001b[39m\n",
       "\u001b[36mres5_3\u001b[39m: \u001b[32mDouble\u001b[39m = \u001b[32m4.0\u001b[39m\n",
       "\u001b[36mres5_4\u001b[39m: \u001b[32mChar\u001b[39m = \u001b[32m'\\u0004'\u001b[39m\n",
       "\u001b[36mres5_5\u001b[39m: \u001b[32mFloat\u001b[39m = \u001b[32m4.0F\u001b[39m"
      ]
     },
     "execution_count": 6,
     "metadata": {},
     "output_type": "execute_result"
    }
   ],
   "source": [
    "4\n",
    "4: Int\n",
    "4: Float\n",
    "4: Double\n",
    "4: Char\n",
    "4.toFloat"
   ]
  },
  {
   "cell_type": "markdown",
   "id": "corrected-november",
   "metadata": {
    "slideshow": {
     "slide_type": "slide"
    }
   },
   "source": [
    "## Declaring Scala Variables\n",
    "\n",
    "### `var` - **Mutable** variable (_discouraged_)\n",
    "* Can reassign, like conventional languages\n",
    "\n",
    "### `val` - **Immutable** variable (_encouraged_)\n",
    "* Enables write-once semantics common to many functional languages\n",
    "* Allows compiler to safely perform more ambitious optimizations\n",
    "* Can increase code clarity by renaming values each step of the way"
   ]
  },
  {
   "cell_type": "code",
   "execution_count": 7,
   "id": "experienced-marathon",
   "metadata": {},
   "outputs": [
    {
     "data": {
      "text/html": [
       "<div class=\"jp-RenderedText\">\n",
       "<pre><code><span style=\"color: rgb(0, 187, 187)\"><span class=\"ansi-cyan-fg\">mutX</span></span>: <span style=\"color: rgb(0, 187, 0)\"><span class=\"ansi-green-fg\">Int</span></span> = <span style=\"color: rgb(0, 187, 0)\"><span class=\"ansi-green-fg\">2</span></span>\n",
       "<span style=\"color: rgb(0, 187, 187)\"><span class=\"ansi-cyan-fg\">constX</span></span>: <span style=\"color: rgb(0, 187, 0)\"><span class=\"ansi-green-fg\">Int</span></span> = <span style=\"color: rgb(0, 187, 0)\"><span class=\"ansi-green-fg\">42</span></span></code></pre>\n",
       "</div>"
      ],
      "text/plain": [
       "\u001b[36mmutX\u001b[39m: \u001b[32mInt\u001b[39m = \u001b[32m2\u001b[39m\n",
       "\u001b[36mconstX\u001b[39m: \u001b[32mInt\u001b[39m = \u001b[32m42\u001b[39m"
      ]
     },
     "metadata": {},
     "output_type": "display_data"
    }
   ],
   "source": [
    "var mutX = 0\n",
    "mutX = 2\n",
    "val constX = 42"
   ]
  },
  {
   "cell_type": "markdown",
   "id": "beautiful-seminar",
   "metadata": {
    "slideshow": {
     "slide_type": "slide"
    }
   },
   "source": [
    "## Chisel Is Embedded in Scala\n",
    "\n",
    "* Chisel designs are Scala programs (i.e. everything we write in this course is Scala)\n",
    "* A Chisel design is simply a Scala program that makes use of the Chisel library\n",
    "* Thanks to Scala language features, using Chisel library operations often feels like a full-fledged language\n",
    "  * Operator overloading and concise syntax"
   ]
  },
  {
   "cell_type": "markdown",
   "id": "fiscal-heather",
   "metadata": {
    "slideshow": {
     "slide_type": "slide"
    }
   },
   "source": [
    "## Chisel Tool Flow (Frontend)\n",
    "\n",
    "<img src=\"images/frontend.svg\" alt=\"Chisel frontend\" style=\"width:80%;margin:auto\"/>\n",
    "\n",
    "* The generated Circuit (`.fir` file) is a specific design instance, and it can be passed off to a _backend_ for simulation or implementation"
   ]
  },
  {
   "cell_type": "markdown",
   "id": "regular-reducing",
   "metadata": {
    "slideshow": {
     "slide_type": "slide"
    }
   },
   "source": [
    "## Loading The Chisel Library Into a Notebook"
   ]
  },
  {
   "cell_type": "code",
   "execution_count": 8,
   "id": "robust-immigration",
   "metadata": {},
   "outputs": [
    {
     "data": {
      "text/plain": [
       "\u001b[36mpath\u001b[39m: \u001b[32mString\u001b[39m = \u001b[32m\"/home/peter/AIU/AIU_CS800_Chisel/500_UCSC_HWD/002_HelloChisel/001_Code/source/load-ivy.sc\"\u001b[39m"
      ]
     },
     "execution_count": 8,
     "metadata": {},
     "output_type": "execute_result"
    }
   ],
   "source": [
    "// UCB path\n",
    "val path = System.getProperty(\"user.dir\") + \"/source/load-ivy.sc\"\n",
    "interp.load.module(ammonite.ops.Path(java.nio.file.FileSystems.getDefault().getPath(path)))\n",
    "//println(\"UCSC:\")\n",
    "//val path1 = System.getProperty(\"user.dir\") + \"/resource/chisel_deps.sc\"\n",
    "//println (\"path1:\" + path1)\n",
    "//interp.load.module(ammonite.ops.Path(java.nio.file.FileSystems.getDefault().getPath(path1)))"
   ]
  },
  {
   "cell_type": "code",
   "execution_count": 9,
   "id": "extended-burning",
   "metadata": {
    "slideshow": {
     "slide_type": "-"
    }
   },
   "outputs": [
    {
     "data": {
      "text/plain": [
       "\u001b[32mimport \u001b[39m\u001b[36mchisel3._\n",
       "\u001b[39m\n",
       "\u001b[32mimport \u001b[39m\u001b[36mchisel3.util._\n",
       "\u001b[39m\n",
       "\u001b[32mimport \u001b[39m\u001b[36mchisel3.tester._\n",
       "\u001b[39m\n",
       "\u001b[32mimport \u001b[39m\u001b[36mchisel3.tester.RawTester.test\n",
       "\u001b[39m\n",
       "\u001b[32mimport \u001b[39m\u001b[36mdotvisualizer._\u001b[39m"
      ]
     },
     "execution_count": 9,
     "metadata": {},
     "output_type": "execute_result"
    }
   ],
   "source": [
    "/* import chisel3._\n",
    "import chisel3.util._\n",
    "import chiseltest._\n",
    "import chiseltest.RawTester.test\n",
    "*/\n",
    "import chisel3._\n",
    "import chisel3.util._\n",
    "import chisel3.tester._\n",
    "import chisel3.tester.RawTester.test\n",
    "import dotvisualizer._"
   ]
  },
  {
   "cell_type": "code",
   "execution_count": 10,
   "id": "48280f44-9a9b-4c5b-939f-2a21d536f81b",
   "metadata": {},
   "outputs": [
    {
     "data": {
      "text/plain": [
       "defined \u001b[32mclass\u001b[39m \u001b[36mPassthrough\u001b[39m"
      ]
     },
     "execution_count": 10,
     "metadata": {},
     "output_type": "execute_result"
    }
   ],
   "source": [
    "// Chisel Code: Declare a new module definition\n",
    "class Passthrough extends Module {\n",
    "  val io = IO(new Bundle {\n",
    "    val in = Input(UInt(4.W))\n",
    "    val out = Output(UInt(4.W))\n",
    "  })\n",
    "  io.out := io.in\n",
    "}"
   ]
  },
  {
   "cell_type": "code",
   "execution_count": 11,
   "id": "99dae667-2a0e-4a28-ac85-3daaf21edfcb",
   "metadata": {},
   "outputs": [
    {
     "name": "stdout",
     "output_type": "stream",
     "text": [
      "Elaborating design...\n",
      "Done elaborating.\n",
      "module Passthrough(\n",
      "  input        clock,\n",
      "  input        reset,\n",
      "  input  [3:0] io_in,\n",
      "  output [3:0] io_out\n",
      ");\n",
      "  assign io_out = io_in; // @[cmd9.sc 6:10]\n",
      "endmodule\n",
      "\n"
     ]
    }
   ],
   "source": [
    "// Scala Code: Elaborate our Chisel design by translating it to Verilog\n",
    "// Don't worry about understanding this code; it is very complicated Scala\n",
    "println(getVerilog(new Passthrough))"
   ]
  },
  {
   "cell_type": "markdown",
   "id": "competitive-legislation",
   "metadata": {
    "cell_style": "split",
    "slideshow": {
     "slide_type": "slide"
    }
   },
   "source": [
    "## Simple Chisel Types\n",
    "\n",
    "* Scala literals must be cast to Chisel\n",
    "\n",
    "### `Bool` - single-bit logic signal (`.B`)\n",
    "* Do not confuse with Scala's `Boolean`\n",
    "\n",
    "### `UInt` - unsigned integer (`.U`)\n",
    "* Bitwidth set explicitly or inferred\n",
    "\n",
    "### `SInt` - signed integer (`.S`)\n",
    "* Operates like `UInt` but signed\n"
   ]
  },
  {
   "cell_type": "code",
   "execution_count": 12,
   "id": "sexual-dream",
   "metadata": {
    "cell_style": "split"
   },
   "outputs": [
    {
     "data": {
      "text/plain": [
       "\u001b[36mres11_0\u001b[39m: \u001b[32mBool\u001b[39m = Bool(false)\n",
       "\u001b[36mres11_1\u001b[39m: \u001b[32mBoolean\u001b[39m = true\n",
       "\u001b[36mres11_2\u001b[39m: \u001b[32mBool\u001b[39m = Bool(true)\n",
       "\u001b[36mmyBool\u001b[39m: \u001b[32mBool\u001b[39m = Bool(true)\n",
       "\u001b[36mres11_4\u001b[39m: \u001b[32mInt\u001b[39m = \u001b[32m6\u001b[39m\n",
       "\u001b[36mres11_5\u001b[39m: \u001b[32mUInt\u001b[39m = UInt<3>(6)\n",
       "\u001b[36mres11_6\u001b[39m: \u001b[32mUInt\u001b[39m = UInt<8>(6)\n",
       "\u001b[36mmyUInt\u001b[39m: \u001b[32mUInt\u001b[39m = UInt<3>(4)\n",
       "\u001b[36mmyUInt8\u001b[39m: \u001b[32mUInt\u001b[39m = UInt<8>(4)\n",
       "\u001b[36mres11_9\u001b[39m: \u001b[32mInt\u001b[39m = \u001b[32m-2\u001b[39m\n",
       "\u001b[36mres11_10\u001b[39m: \u001b[32mSInt\u001b[39m = SInt<2>(-2)"
      ]
     },
     "execution_count": 12,
     "metadata": {},
     "output_type": "execute_result"
    }
   ],
   "source": [
    "0.B\n",
    "true\n",
    "true.B\n",
    "val myBool: Bool = true.B\n",
    "\n",
    "6\n",
    "6.U\n",
    "6.U(8.W)\n",
    "val myUInt: UInt = 4.U\n",
    "val myUInt8 = 4.U(8.W)\n",
    "\n",
    "-2\n",
    "-2.S"
   ]
  },
  {
   "cell_type": "markdown",
   "id": "handy-desktop",
   "metadata": {
    "slideshow": {
     "slide_type": "slide"
    }
   },
   "source": [
    "## Chisel Operators (Brief Intro)"
   ]
  },
  {
   "cell_type": "markdown",
   "id": "funky-flesh",
   "metadata": {
    "cell_style": "center",
    "slideshow": {
     "slide_type": "-"
    }
   },
   "source": [
    "* Most of the operators you would expect exist\n",
    "    * Some of them have different symbols (e.g. `===` for equality test)\n",
    "    * Pay attention to result widths\n",
    "    * Consult [Chisel Cheat Sheet](https://github.com/freechipsproject/chisel-cheatsheet/releases/download/3.6.0/chisel_cheatsheet.pdf) for brief summary\n",
    "* _**Logical:**_ `!`, `&&`, `||`\n",
    "* _**Arithmetic:**_ `+`, `-`, `*`, `/`, `%`\n",
    "* _**Bitwise:**_ `~`, `&`, `|`, `^`\n",
    "* _**Relational:**_ `===`, `=/=`, `<`, `<=`, `>`, `>=`\n",
    "* _**Shifts:**_ `<<`, `>>`\n",
    "* _**Others:**_ extraction, fill, concatenation, mux, reductions\n"
   ]
  },
  {
   "cell_type": "code",
   "execution_count": 13,
   "id": "abstract-heritage",
   "metadata": {
    "cell_style": "center"
   },
   "outputs": [
    {
     "data": {
      "text/plain": [
       "\u001b[36ma\u001b[39m: \u001b[32mUInt\u001b[39m = UInt<3>(7)\n",
       "\u001b[36mb\u001b[39m: \u001b[32mUInt\u001b[39m = UInt<3>(5)"
      ]
     },
     "execution_count": 13,
     "metadata": {},
     "output_type": "execute_result"
    }
   ],
   "source": [
    "val a = 7.U\n",
    "val b = 5.U\n",
    "\n",
    "// Not expected to work (needs to be inside Module)\n",
    "// a + b"
   ]
  },
  {
   "cell_type": "markdown",
   "id": "configured-victoria",
   "metadata": {
    "slideshow": {
     "slide_type": "slide"
    }
   },
   "source": [
    "## First Chisel Module"
   ]
  },
  {
   "cell_type": "code",
   "execution_count": 14,
   "id": "sound-documentation",
   "metadata": {
    "cell_style": "split"
   },
   "outputs": [
    {
     "data": {
      "text/plain": [
       "defined \u001b[32mclass\u001b[39m \u001b[36mMyXOR\u001b[39m"
      ]
     },
     "execution_count": 14,
     "metadata": {},
     "output_type": "execute_result"
    }
   ],
   "source": [
    "class MyXOR extends Module {\n",
    "    val io = IO(new Bundle {\n",
    "        val a   = Input(Bool())\n",
    "        val b   = Input(Bool())\n",
    "        val c   = Output(Bool())\n",
    "    })\n",
    "    io.c := io.a ^ io.b\n",
    "    //io.c := io.a\n",
    "}"
   ]
  },
  {
   "cell_type": "markdown",
   "id": "divided-green",
   "metadata": {
    "cell_style": "split"
   },
   "source": [
    "<img src=\"images/myxor.svg\" alt=\"MyXOR schematic\"  style=\"width:80%;margin:auto\"/>"
   ]
  },
  {
   "cell_type": "markdown",
   "id": "operating-sailing",
   "metadata": {
    "slideshow": {
     "slide_type": "slide"
    }
   },
   "source": [
    "## Looking At Generated Design"
   ]
  },
  {
   "cell_type": "code",
   "execution_count": 15,
   "id": "cloudy-suggestion",
   "metadata": {
    "cell_style": "split",
    "slideshow": {
     "slide_type": "fragment"
    }
   },
   "outputs": [
    {
     "name": "stdout",
     "output_type": "stream",
     "text": [
      "Elaborating design...\n",
      "Done elaborating.\n",
      "module MyXOR(\n",
      "  input   clock,\n",
      "  input   reset,\n",
      "  input   io_a,\n",
      "  input   io_b,\n",
      "  output  io_c\n",
      ");\n",
      "  assign io_c = io_a ^ io_b; // @[cmd13.sc 7:18]\n",
      "endmodule\n",
      "\n"
     ]
    }
   ],
   "source": [
    "//printVerilog(new MyXOR)\n",
    "println(getVerilog(new MyXOR))"
   ]
  },
  {
   "cell_type": "code",
   "execution_count": 16,
   "id": "a7d9d844-8c57-432a-bd78-38663a74d4ef",
   "metadata": {},
   "outputs": [
    {
     "data": {
      "text/plain": [
       "defined \u001b[32mclass\u001b[39m \u001b[36mPassthrough\u001b[39m"
      ]
     },
     "execution_count": 16,
     "metadata": {},
     "output_type": "execute_result"
    }
   ],
   "source": [
    "// Chisel Code: Declare a new module definition\n",
    "class Passthrough extends Module {\n",
    "  val io = IO(new Bundle {\n",
    "    val in = Input(UInt(4.W))\n",
    "    val out = Output(UInt(4.W))\n",
    "  })\n",
    "  io.out := io.in\n",
    "}"
   ]
  },
  {
   "cell_type": "code",
   "execution_count": 17,
   "id": "a2d8bd35-5272-4f21-a01f-0a5058a872ab",
   "metadata": {},
   "outputs": [
    {
     "name": "stdout",
     "output_type": "stream",
     "text": [
      "Elaborating design...\n",
      "Done elaborating.\n",
      "module Passthrough(\n",
      "  input        clock,\n",
      "  input        reset,\n",
      "  input  [3:0] io_in,\n",
      "  output [3:0] io_out\n",
      ");\n",
      "  assign io_out = io_in; // @[cmd15.sc 6:10]\n",
      "endmodule\n",
      "\n"
     ]
    }
   ],
   "source": [
    "println(getVerilog(new Passthrough))"
   ]
  },
  {
   "cell_type": "code",
   "execution_count": 18,
   "id": "6e1c95e8-d362-47fb-8529-6de130fc214c",
   "metadata": {},
   "outputs": [
    {
     "name": "stdout",
     "output_type": "stream",
     "text": [
      "Elaborating design...\n",
      "Done elaborating.\n",
      "module PassthroughGenerator(\n",
      "  input        clock,\n",
      "  input        reset,\n",
      "  input  [9:0] io_in,\n",
      "  output [9:0] io_out\n",
      ");\n",
      "  assign io_out = io_in; // @[cmd17.sc 6:10]\n",
      "endmodule\n",
      "\n",
      "Elaborating design...\n",
      "Done elaborating.\n",
      "module PassthroughGenerator(\n",
      "  input         clock,\n",
      "  input         reset,\n",
      "  input  [19:0] io_in,\n",
      "  output [19:0] io_out\n",
      ");\n",
      "  assign io_out = io_in; // @[cmd17.sc 6:10]\n",
      "endmodule\n",
      "\n"
     ]
    },
    {
     "data": {
      "text/plain": [
       "defined \u001b[32mclass\u001b[39m \u001b[36mPassthroughGenerator\u001b[39m"
      ]
     },
     "execution_count": 18,
     "metadata": {},
     "output_type": "execute_result"
    }
   ],
   "source": [
    "// Chisel Code, but pass in a parameter to set widths of ports\n",
    "class PassthroughGenerator(width: Int) extends Module { \n",
    "  val io = IO(new Bundle {\n",
    "    val in = Input(UInt(width.W))\n",
    "    val out = Output(UInt(width.W))\n",
    "  })\n",
    "  io.out := io.in\n",
    "}\n",
    "// Let's now generate modules with different widths\n",
    "println(getVerilog(new PassthroughGenerator(10)))\n",
    "println(getVerilog(new PassthroughGenerator(20)))"
   ]
  },
  {
   "cell_type": "code",
   "execution_count": 19,
   "id": "duplicate-timber",
   "metadata": {
    "cell_style": "split",
    "slideshow": {
     "slide_type": "fragment"
    }
   },
   "outputs": [
    {
     "data": {
      "text/html": [
       "<div width=\"100%\" height=\"100%\" overflow=\"scroll\"><?xml version=\"1.0\" encoding=\"UTF-8\" standalone=\"no\"?>\n",
       "<?xml-stylesheet href=\"styles.css\" type=\"text/css\"?>\n",
       "<!DOCTYPE svg PUBLIC \"-//W3C//DTD SVG 1.1//EN\"\n",
       " \"http://www.w3.org/Graphics/SVG/1.1/DTD/svg11.dtd\">\n",
       "<!-- Generated by graphviz version 2.43.0 (0)\n",
       " -->\n",
       "<!-- Title: MyXOR Pages: 1 -->\n",
       "<svg width=\"325pt\" height=\"261pt\"\n",
       " viewBox=\"0.00 0.00 325.00 261.00\" xmlns=\"http://www.w3.org/2000/svg\" xmlns:xlink=\"http://www.w3.org/1999/xlink\">\n",
       "<g id=\"graph0\" class=\"graph\" transform=\"scale(1 1) rotate(0) translate(4 257)\">\n",
       "<title>MyXOR</title>\n",
       "<polygon fill=\"white\" stroke=\"transparent\" points=\"-4,4 -4,-257 321,-257 321,4 -4,4\"/>\n",
       "<g id=\"clust1\" class=\"cluster\">\n",
       "<title>cluster_MyXOR</title>\n",
       "<polygon fill=\"#fff8dc\" stroke=\"black\" points=\"8,-8 8,-245 309,-245 309,-8 8,-8\"/>\n",
       "<text text-anchor=\"middle\" x=\"158.5\" y=\"-229.8\" font-family=\"Times,serif\" font-size=\"14.00\">MyXOR</text>\n",
       "</g>\n",
       "<!-- cluster_MyXOR_clock -->\n",
       "<g id=\"node1\" class=\"node\">\n",
       "<title>cluster_MyXOR_clock</title>\n",
       "<polygon fill=\"#cccccc\" stroke=\"black\" points=\"70,-214 16,-214 16,-178 70,-178 70,-214\"/>\n",
       "<text text-anchor=\"middle\" x=\"43\" y=\"-192.3\" font-family=\"Times,serif\" font-size=\"14.00\">clock</text>\n",
       "</g>\n",
       "<!-- cluster_MyXOR_reset -->\n",
       "<g id=\"node2\" class=\"node\">\n",
       "<title>cluster_MyXOR_reset</title>\n",
       "<polygon fill=\"#cccccc\" stroke=\"black\" points=\"70,-160 16,-160 16,-124 70,-124 70,-160\"/>\n",
       "<text text-anchor=\"middle\" x=\"43\" y=\"-138.3\" font-family=\"Times,serif\" font-size=\"14.00\">reset</text>\n",
       "</g>\n",
       "<!-- cluster_MyXOR_io_a -->\n",
       "<g id=\"node3\" class=\"node\">\n",
       "<title>cluster_MyXOR_io_a</title>\n",
       "<polygon fill=\"#cccccc\" stroke=\"black\" points=\"70,-106 16,-106 16,-70 70,-70 70,-106\"/>\n",
       "<text text-anchor=\"middle\" x=\"43\" y=\"-84.3\" font-family=\"Times,serif\" font-size=\"14.00\">io_a</text>\n",
       "</g>\n",
       "<!-- op_xor_1 -->\n",
       "<g id=\"node6\" class=\"node\">\n",
       "<title>op_xor_1</title>\n",
       "<polygon fill=\"#d8bfd8\" stroke=\"transparent\" points=\"114,-36 114,-86 203,-86 203,-36 114,-36\"/>\n",
       "<polygon fill=\"none\" stroke=\"black\" points=\"114.5,-61 114.5,-86 137.5,-86 137.5,-61 114.5,-61\"/>\n",
       "<text text-anchor=\"start\" x=\"119.5\" y=\"-69.8\" font-family=\"Times,serif\" font-size=\"14.00\">●</text>\n",
       "<polygon fill=\"none\" stroke=\"black\" points=\"137.5,-36 137.5,-86 180.5,-86 180.5,-36 137.5,-36\"/>\n",
       "<text text-anchor=\"start\" x=\"142.5\" y=\"-57.3\" font-family=\"Times,serif\" font-size=\"14.00\"> xor </text>\n",
       "<polygon fill=\"none\" stroke=\"black\" points=\"180.5,-36 180.5,-86 203.5,-86 203.5,-36 180.5,-36\"/>\n",
       "<text text-anchor=\"start\" x=\"185.5\" y=\"-57.3\" font-family=\"Times,serif\" font-size=\"14.00\">●</text>\n",
       "<polygon fill=\"none\" stroke=\"black\" points=\"114.5,-36 114.5,-61 137.5,-61 137.5,-36 114.5,-36\"/>\n",
       "<text text-anchor=\"start\" x=\"119.5\" y=\"-44.8\" font-family=\"Times,serif\" font-size=\"14.00\">●</text>\n",
       "</g>\n",
       "<!-- cluster_MyXOR_io_a&#45;&gt;op_xor_1 -->\n",
       "<g id=\"edge1\" class=\"edge\">\n",
       "<title>cluster_MyXOR_io_a&#45;&gt;op_xor_1:in1</title>\n",
       "<path fill=\"none\" stroke=\"black\" d=\"M70.15,-80.18C80.15,-77.7 91.92,-75.36 103.47,-74.43\"/>\n",
       "<polygon fill=\"black\" stroke=\"black\" points=\"103.66,-77.92 113.5,-74 103.36,-70.93 103.66,-77.92\"/>\n",
       "</g>\n",
       "<!-- cluster_MyXOR_io_b -->\n",
       "<g id=\"node4\" class=\"node\">\n",
       "<title>cluster_MyXOR_io_b</title>\n",
       "<polygon fill=\"#cccccc\" stroke=\"black\" points=\"70,-52 16,-52 16,-16 70,-16 70,-52\"/>\n",
       "<text text-anchor=\"middle\" x=\"43\" y=\"-30.3\" font-family=\"Times,serif\" font-size=\"14.00\">io_b</text>\n",
       "</g>\n",
       "<!-- cluster_MyXOR_io_b&#45;&gt;op_xor_1 -->\n",
       "<g id=\"edge3\" class=\"edge\">\n",
       "<title>cluster_MyXOR_io_b&#45;&gt;op_xor_1:in2</title>\n",
       "<path fill=\"none\" stroke=\"black\" d=\"M70.15,-41.82C80.15,-44.3 91.92,-46.64 103.47,-47.57\"/>\n",
       "<polygon fill=\"black\" stroke=\"black\" points=\"103.36,-51.07 113.5,-48 103.66,-44.08 103.36,-51.07\"/>\n",
       "</g>\n",
       "<!-- cluster_MyXOR_io_c -->\n",
       "<g id=\"node5\" class=\"node\">\n",
       "<title>cluster_MyXOR_io_c</title>\n",
       "<polygon fill=\"#e0ffff\" stroke=\"black\" points=\"301,-79 247,-79 247,-43 301,-43 301,-79\"/>\n",
       "<text text-anchor=\"middle\" x=\"274\" y=\"-57.3\" font-family=\"Times,serif\" font-size=\"14.00\">io_c</text>\n",
       "</g>\n",
       "<!-- op_xor_1&#45;&gt;cluster_MyXOR_io_c -->\n",
       "<g id=\"edge2\" class=\"edge\">\n",
       "<title>op_xor_1:out&#45;&gt;cluster_MyXOR_io_c</title>\n",
       "<path fill=\"none\" stroke=\"black\" d=\"M204.5,-61C215.02,-61 226.46,-61 236.92,-61\"/>\n",
       "<polygon fill=\"black\" stroke=\"black\" points=\"236.98,-64.5 246.98,-61 236.98,-57.5 236.98,-64.5\"/>\n",
       "</g>\n",
       "</g>\n",
       "</svg>\n",
       "</div>"
      ]
     },
     "metadata": {},
     "output_type": "display_data"
    }
   ],
   "source": [
    "visualize(() => new MyXOR)"
   ]
  },
  {
   "cell_type": "markdown",
   "id": "automated-logistics",
   "metadata": {
    "slideshow": {
     "slide_type": "slide"
    }
   },
   "source": [
    "## Chisel Tool Flow (Backend)\n",
    "<p><p>\n",
    "\n",
    "<img src=\"images/backend.svg\" alt=\"Chisel backend\" style=\"width:75%;margin:auto\"/>"
   ]
  },
  {
   "cell_type": "markdown",
   "id": "optical-glenn",
   "metadata": {
    "slideshow": {
     "slide_type": "slide"
    }
   },
   "source": [
    "## Brief ChiselTest Intro\n",
    "\n",
    "* Can write a Scala program to interact with simulation of elaborated design\n",
    "* Can set inputs and look at outputs\n",
    "* Can use full power of Scala to generate test inputs and outputs to compare with\n",
    "* Will continue to cover more features in coming lectures\n",
    "\n",
    "### `poke` - set value of wire\n",
    "\n",
    "### `peek` - read value of wire\n",
    "\n",
    "### `expect` - read value and compare (assert)"
   ]
  },
  {
   "cell_type": "markdown",
   "id": "lesser-terrorist",
   "metadata": {
    "slideshow": {
     "slide_type": "slide"
    }
   },
   "source": [
    "## ChiselTest Execution"
   ]
  },
  {
   "cell_type": "code",
   "execution_count": 20,
   "id": "peaceful-daniel",
   "metadata": {},
   "outputs": [
    {
     "name": "stdout",
     "output_type": "stream",
     "text": [
      "Elaborating design...\n",
      "Done elaborating.\n",
      "test MyXOR Success: 0 tests passed in 2 cycles in 0.032805 seconds 60.97 Hz\n"
     ]
    }
   ],
   "source": [
    "test(new MyXOR()) { x =>\n",
    "    x.io.a.poke(0.B)\n",
    "    x.io.b.poke(0.B)\n",
    "    x.io.c.expect(0.B)  // 0 ^ 0\n",
    "\n",
    "    x.io.a.poke(0.B)\n",
    "    x.io.b.poke(1.B)\n",
    "    x.io.c.expect(1.B)  // 0 ^ 1\n",
    "\n",
    "    x.io.a.poke(1.B)\n",
    "    x.io.b.poke(0.B)\n",
    "    x.io.c.expect(1.B)  // 1 ^ 0\n",
    "\n",
    "    x.io.a.poke(1.B)\n",
    "    x.io.b.poke(1.B)\n",
    "    x.io.c.expect(0.B)  // 1 ^ 1\n",
    "}"
   ]
  },
  {
   "cell_type": "markdown",
   "id": "60d4e64c-2e3e-46a0-9d97-093b566c01aa",
   "metadata": {
    "slideshow": {
     "slide_type": "slide"
    }
   },
   "source": [
    "## Chisel Versioning\n",
    "\n",
    "<img src=\"./images/chisel_logo.svg\" alt=\"scala logo\" style=\"float:right; width: 200px;\"/>\n",
    "\n",
    "* This quarter, we will be using **Chisel 3.6** for lecture, labs, and homework\n",
    "  * You are welcome to use a newer Chisel for the project\n",
    "  * _Rationale:_ Chisel is undergoing big changes, and not quite stabilized\n",
    "* Provided code and environments will correctly pull in the right version\n",
    "  * When reading documentation, be aware may be describing a feature in newer version\n",
    "* Relevant Chisel versions\n",
    "  * 3.6 (April 2023) is the bridge from the old to the new\n",
    "  * 5.1 (November 2023) is the most recent released version\n",
    "  * 6 is under public development\n",
    "  * There is no version 4, as it was skipped to make version jump apparent"
   ]
  }
 ],
 "metadata": {
  "celltoolbar": "Slideshow",
  "kernelspec": {
   "display_name": "Scala 2.12.11",
   "language": "scala",
   "name": "scala_2_12_11"
  },
  "language_info": {
   "codemirror_mode": "text/x-scala",
   "file_extension": ".scala",
   "mimetype": "text/x-scala",
   "name": "scala",
   "nbconvert_exporter": "script",
   "version": "2.12.11"
  }
 },
 "nbformat": 4,
 "nbformat_minor": 5
}
