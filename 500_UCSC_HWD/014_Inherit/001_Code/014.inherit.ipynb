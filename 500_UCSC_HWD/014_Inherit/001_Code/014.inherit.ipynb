{
 "cells": [
  {
   "cell_type": "markdown",
   "id": "b48147c8-2abc-45c2-bbb3-ea82d86dcbb8",
   "metadata": {
    "slideshow": {
     "slide_type": "slide"
    }
   },
   "source": [
    "## Agile Hardware Design\n",
    "***\n",
    "# Inheritance\n",
    "\n",
    "<img src=\"./images/chisel_logo.svg\" alt=\"agile hardware design logo\" style=\"float:right\"/>\n",
    "\n",
    "Peter Hanping Chen based on\n",
    "1. UC Berkley, Bootcamp, load-ivy.sc\n",
    "https://github.com/freechipsproject/chisel-bootcamp/tree/master/source\n",
    "2. Prof. Scott Beamer, sbeamer@ucsc.edu\n",
    "[CSE 228A](https://classes.soe.ucsc.edu/cse228a/Winter24/)"
   ]
  },
  {
   "cell_type": "markdown",
   "id": "nominated-consistency",
   "metadata": {
    "slideshow": {
     "slide_type": "slide"
    }
   },
   "source": [
    "## Plan for Today\n",
    "\n",
    "* Inheritance in Scala\n",
    "* Inheritance with Chisel\n",
    "* Type parameterization\n",
    "* Project Advice"
   ]
  },
  {
   "cell_type": "markdown",
   "id": "regular-reducing",
   "metadata": {
    "slideshow": {
     "slide_type": "slide"
    }
   },
   "source": [
    "## Loading The Chisel Library Into a Notebook"
   ]
  },
  {
   "cell_type": "code",
   "execution_count": 1,
   "id": "robust-immigration",
   "metadata": {},
   "outputs": [
    {
     "name": "stdout",
     "output_type": "stream",
     "text": [
      "path: /home/peter/AIU/AIU_CS800_Chisel/500_UCSC_HWD/014_Inherit/001_Code/source/load-ivy.sc\n"
     ]
    },
    {
     "data": {
      "text/plain": [
       "\u001b[36mpath\u001b[39m: \u001b[32mString\u001b[39m = \u001b[32m\"/home/peter/AIU/AIU_CS800_Chisel/500_UCSC_HWD/014_Inherit/001_Code/source/load-ivy.sc\"\u001b[39m"
      ]
     },
     "execution_count": 1,
     "metadata": {},
     "output_type": "execute_result"
    }
   ],
   "source": [
    "//interp.load.module(os.Path(s\"${System.getProperty(\"user.dir\")}/../resource/chisel_deps.sc\"))\n",
    "val path = System.getProperty(\"user.dir\") + \"/source/load-ivy.sc\"\n",
    "//val path = System.getProperty(\"user.dir\") + \"/source/chisel_deps.sc\"\n",
    "println(\"path: \"+path)\n",
    "interp.load.module(ammonite.ops.Path(java.nio.file.FileSystems.getDefault().getPath(path)))"
   ]
  },
  {
   "cell_type": "code",
   "execution_count": 2,
   "id": "extended-burning",
   "metadata": {
    "scrolled": true,
    "slideshow": {
     "slide_type": "-"
    }
   },
   "outputs": [
    {
     "data": {
      "text/plain": [
       "\u001b[32mimport \u001b[39m\u001b[36mchisel3._\n",
       "\u001b[39m\n",
       "\u001b[32mimport \u001b[39m\u001b[36mchisel3.util._\n",
       "\u001b[39m\n",
       "\u001b[32mimport \u001b[39m\u001b[36mchiseltest._\n",
       "\u001b[39m\n",
       "\u001b[32mimport \u001b[39m\u001b[36mchiseltest.RawTester.test\u001b[39m"
      ]
     },
     "execution_count": 2,
     "metadata": {},
     "output_type": "execute_result"
    }
   ],
   "source": [
    "import chisel3._\n",
    "import chisel3.util._\n",
    "import chiseltest._\n",
    "import chiseltest.RawTester.test"
   ]
  },
  {
   "cell_type": "markdown",
   "id": "random-significance",
   "metadata": {
    "slideshow": {
     "slide_type": "slide"
    }
   },
   "source": [
    "## Why Use (Object-Oriented) Inheritance?\n",
    "\n",
    "* Increase productivity through _reuse_\n",
    "  * Less effort to reuse a component than implementing from scratch\n",
    "\n",
    "* _Inheritance_ is most helpful for reuse between similar components\n",
    "  * What about different components that behave the same in same cases?\n",
    "  * What about different components that present the same interface?\n",
    "\n",
    "* Due to diversity of potential reuse cases, Scala has a diversity of inheritance mechanisms"
   ]
  },
  {
   "cell_type": "markdown",
   "id": "flexible-emission",
   "metadata": {
    "slideshow": {
     "slide_type": "slide"
    }
   },
   "source": [
    "## Scala `class` Inheritance\n",
    "\n",
    "* Simply use the `extend` keyword\n",
    "  * Can only extend one class at a time\n",
    "\n",
    "* Can overide fields with `override`"
   ]
  },
  {
   "cell_type": "code",
   "execution_count": 3,
   "id": "global-furniture",
   "metadata": {},
   "outputs": [
    {
     "name": "stdout",
     "output_type": "stream",
     "text": [
      "hello Kate\n",
      "hola Pablo\n"
     ]
    },
    {
     "data": {
      "text/plain": [
       "defined \u001b[32mclass\u001b[39m \u001b[36mParent\u001b[39m\n",
       "\u001b[36mp\u001b[39m: \u001b[32mParent\u001b[39m = ammonite.$sess.cmd2$Helper$Parent@74bf73de\n",
       "defined \u001b[32mclass\u001b[39m \u001b[36mChild\u001b[39m\n",
       "\u001b[36mc\u001b[39m: \u001b[32mChild\u001b[39m = ammonite.$sess.cmd2$Helper$Child@2fddb34c"
      ]
     },
     "execution_count": 3,
     "metadata": {},
     "output_type": "execute_result"
    }
   ],
   "source": [
    "class Parent(name: String) {\n",
    "    val phrase = \"hello\"\n",
    "    \n",
    "    def greet() { println(s\"$phrase $name\") }\n",
    "}\n",
    "\n",
    "val p = new Parent(\"Kate\")\n",
    "p.greet\n",
    "\n",
    "class Child(name: String) extends Parent(name) {\n",
    "    override val phrase = \"hola\"\n",
    "}\n",
    "\n",
    "val c = new Child(\"Pablo\")\n",
    "c.greet"
   ]
  },
  {
   "cell_type": "markdown",
   "id": "atmospheric-resistance",
   "metadata": {
    "slideshow": {
     "slide_type": "slide"
    }
   },
   "source": [
    "## Scala `abstract class` Inheritance\n",
    "\n",
    "* Sometimes don't want to provide implementations of the inherited things\n",
    "* Can't instantiate an abstract class, must inherit from it\n",
    "* For multiple inheritance, will need to consider _trait_"
   ]
  },
  {
   "cell_type": "code",
   "execution_count": 4,
   "id": "basic-stationery",
   "metadata": {},
   "outputs": [
    {
     "name": "stdout",
     "output_type": "stream",
     "text": [
      "hello Kate\n",
      "hola Pablo\n"
     ]
    },
    {
     "data": {
      "text/plain": [
       "defined \u001b[32mclass\u001b[39m \u001b[36mParent\u001b[39m\n",
       "defined \u001b[32mclass\u001b[39m \u001b[36mInEnglish\u001b[39m\n",
       "\u001b[36me\u001b[39m: \u001b[32mInEnglish\u001b[39m = ammonite.$sess.cmd3$Helper$InEnglish@439eb9c8\n",
       "defined \u001b[32mclass\u001b[39m \u001b[36mInSpanish\u001b[39m\n",
       "\u001b[36ms\u001b[39m: \u001b[32mInSpanish\u001b[39m = ammonite.$sess.cmd3$Helper$InSpanish@3546cfb6"
      ]
     },
     "execution_count": 4,
     "metadata": {},
     "output_type": "execute_result"
    }
   ],
   "source": [
    "abstract class Parent(name: String) {\n",
    "    val phrase: String\n",
    "    \n",
    "    def greet() { println(s\"$phrase $name\") }\n",
    "}\n",
    "\n",
    "class InEnglish(name: String) extends Parent(name) {\n",
    "    val phrase = \"hello\"\n",
    "}\n",
    "\n",
    "val e = new InEnglish(\"Kate\")\n",
    "e.greet\n",
    "\n",
    "class InSpanish(name: String) extends Parent(name) {\n",
    "    val phrase = \"hola\"\n",
    "}\n",
    "\n",
    "val s = new InSpanish(\"Pablo\")\n",
    "s.greet"
   ]
  },
  {
   "cell_type": "markdown",
   "id": "84782f5a-a220-4c73-af39-fc1babb1588a",
   "metadata": {
    "slideshow": {
     "slide_type": "slide"
    }
   },
   "source": [
    "## Example Type Hierarchy: Scala's Immutable Collections\n",
    "\n",
    "<img src=\"images/collections-immutable-diagram.svg\" alt=\"Scala's immutable collections type hierarchy\" style=\"width:50%;align:left\" />\n",
    "\n",
    "* source:\n",
    "https://docs.scala-lang.org/overviews/collections-2.13/overview.html)"
   ]
  },
  {
   "cell_type": "markdown",
   "id": "traditional-world",
   "metadata": {
    "slideshow": {
     "slide_type": "slide"
    }
   },
   "source": [
    "## Types of Reuse in Using Chisel\n",
    "\n",
    "* To enable agile development, we have been going after reuse in different places:\n",
    "\n",
    "* _**Parameterized hardware generators**_ - hopefully sufficiently flexible to be used in more places\n",
    "  * Both at module level as well as functionality not even wrapped in a Module\n",
    "\n",
    "* _**Composable/customizable Bundles**_ - can reduce effort defining interfaces\n",
    "\n",
    "* _**via Inheritance**_ - (today) similar modules can share functionality\n",
    "  * Design decision of using different classes (inheritance) or more generator parameters\n",
    "  * _Note:_ Chisel itself is implemented using inheritance (e.g. `extend Module`)\n"
   ]
  },
  {
   "cell_type": "markdown",
   "id": "professional-cameroon",
   "metadata": {
    "slideshow": {
     "slide_type": "slide"
    }
   },
   "source": [
    "## Chisel Simple `abstract class` Inheritance"
   ]
  },
  {
   "cell_type": "code",
   "execution_count": 5,
   "id": "backed-throat",
   "metadata": {},
   "outputs": [
    {
     "data": {
      "text/plain": [
       "defined \u001b[32mclass\u001b[39m \u001b[36mUnaryOperatorModule\u001b[39m\n",
       "defined \u001b[32mclass\u001b[39m \u001b[36mPassThruMod\u001b[39m\n",
       "defined \u001b[32mclass\u001b[39m \u001b[36mNegMod\u001b[39m"
      ]
     },
     "execution_count": 5,
     "metadata": {},
     "output_type": "execute_result"
    }
   ],
   "source": [
    "abstract class UnaryOperatorModule(width: Int) extends Module {\n",
    "    def op(x: UInt): UInt\n",
    "    val io = IO(new Bundle {\n",
    "        val in = Input(UInt(width.W))\n",
    "        val out = Output(UInt(width.W))\n",
    "    })\n",
    "    io.out := op(io.in)\n",
    "}\n",
    "\n",
    "class PassThruMod(width: Int) extends UnaryOperatorModule(width) {\n",
    "    def op(x: UInt) = x\n",
    "}\n",
    "\n",
    "class NegMod(width: Int) extends UnaryOperatorModule(width) {\n",
    "    def op(x: UInt) = ~x\n",
    "}"
   ]
  },
  {
   "cell_type": "code",
   "execution_count": 6,
   "id": "db867d45-ae25-4811-a9d4-08ab5beb3a72",
   "metadata": {},
   "outputs": [
    {
     "name": "stdout",
     "output_type": "stream",
     "text": [
      "Elaborating design...\n",
      "Done elaborating.\n",
      "module PassThruMod(\n",
      "  input        clock,\n",
      "  input        reset,\n",
      "  input  [7:0] io_in,\n",
      "  output [7:0] io_out\n",
      ");\n",
      "  assign io_out = io_in; // @[cmd4.sc 7:12]\n",
      "endmodule\n",
      "\n"
     ]
    }
   ],
   "source": [
    "//printVerilog(new PassThruMod(8))\n",
    "println (getVerilog(new PassThruMod(8)))"
   ]
  },
  {
   "cell_type": "markdown",
   "id": "visible-constraint",
   "metadata": {
    "slideshow": {
     "slide_type": "slide"
    }
   },
   "source": [
    "## Chisel Example - Building Operator Library (1/3)"
   ]
  },
  {
   "cell_type": "code",
   "execution_count": 7,
   "id": "headed-technical",
   "metadata": {},
   "outputs": [
    {
     "data": {
      "text/plain": [
       "defined \u001b[32mclass\u001b[39m \u001b[36mDecoupledOperator\u001b[39m"
      ]
     },
     "execution_count": 7,
     "metadata": {},
     "output_type": "execute_result"
    }
   ],
   "source": [
    "//  c = op(a,b)\n",
    "abstract class DecoupledOperator(width: Int) extends Module {\n",
    "    val io = IO(new Bundle {\n",
    "        val a = Flipped(Decoupled(UInt(width.W)))\n",
    "        val b = Flipped(Decoupled(UInt(width.W)))\n",
    "        val c = Decoupled(UInt(width.W))\n",
    "    })\n",
    "\n",
    "    def op(a: UInt, b: UInt): UInt\n",
    "\n",
    "    val buffer = Reg(UInt(width.W))\n",
    "    val full = RegInit(false.B)\n",
    "    io.a.ready := !full\n",
    "    io.b.ready := !full\n",
    "    io.c.valid := full\n",
    "    io.c.bits := buffer\n",
    "    when (io.a.fire && io.b.fire && !full) {\n",
    "        buffer := op(io.a.bits, io.b.bits)\n",
    "        full := true.B\n",
    "    }\n",
    "    when (io.c.fire) {\n",
    "        full := false.B\n",
    "    }\n",
    "}"
   ]
  },
  {
   "cell_type": "markdown",
   "id": "heard-herald",
   "metadata": {
    "slideshow": {
     "slide_type": "slide"
    }
   },
   "source": [
    "## Chisel Example - Building Operator Library (2/3)"
   ]
  },
  {
   "cell_type": "code",
   "execution_count": 8,
   "id": "healthy-excerpt",
   "metadata": {
    "scrolled": true
   },
   "outputs": [
    {
     "data": {
      "text/plain": [
       "defined \u001b[32mclass\u001b[39m \u001b[36mDecoupledAdd\u001b[39m\n",
       "defined \u001b[32mclass\u001b[39m \u001b[36mDecoupledSub\u001b[39m\n",
       "defined \u001b[32mobject\u001b[39m \u001b[36mDecoupledFactory\u001b[39m"
      ]
     },
     "execution_count": 8,
     "metadata": {},
     "output_type": "execute_result"
    }
   ],
   "source": [
    "class DecoupledAdd(width: Int) extends DecoupledOperator(width) {\n",
    "    def op(a: UInt, b: UInt): UInt = a + b\n",
    "}\n",
    "\n",
    "class DecoupledSub(width: Int) extends DecoupledOperator(width) {\n",
    "    def op(a: UInt, b: UInt): UInt = a - b\n",
    "}\n",
    "\n",
    "object DecoupledFactory {\n",
    "    def apply(op: String, width: Int): DecoupledOperator = op match {\n",
    "        case \"+\" => new DecoupledAdd(width)\n",
    "        case \"-\" => new DecoupledSub(width)\n",
    "        case _ => throw new Exception(s\"Couldn't find $op\")\n",
    "    }\n",
    "}"
   ]
  },
  {
   "cell_type": "markdown",
   "id": "a9905a87",
   "metadata": {
    "slideshow": {
     "slide_type": "slide"
    }
   },
   "source": [
    "## Chisel Example - Building Operator Library (3/3)"
   ]
  },
  {
   "cell_type": "code",
   "execution_count": 8,
   "id": "eba10461",
   "metadata": {},
   "outputs": [],
   "source": [
    "/* printVerilog(DecoupledFactory(\"+\", 8))\n",
    "\n",
    "// test(DecoupledFactory(\"+\", 8)) { c =>\n",
    "//     for (cycle <- 0 until 5) {\n",
    "//         c.io.a.bits.poke((cycle+1).U)\n",
    "//         c.io.a.valid.poke(true.B)\n",
    "//         c.io.b.bits.poke(cycle.U)\n",
    "//         c.io.b.valid.poke(true.B)\n",
    "//         c.io.c.ready.poke(true.B)\n",
    "//         println(s\"$cycle:$cycle ${c.io.c.bits.peek} ${c.io.c.valid.peek}\")\n",
    "//         c.clock.step()\n",
    "//     }\n",
    "// }\n",
    "*/"
   ]
  },
  {
   "cell_type": "code",
   "execution_count": 9,
   "id": "f05bce0c-8619-4128-8a93-b3821e412796",
   "metadata": {},
   "outputs": [
    {
     "name": "stdout",
     "output_type": "stream",
     "text": [
      "Elaborating design...\n",
      "Done elaborating.\n",
      "module DecoupledAdd(\n",
      "  input        clock,\n",
      "  input        reset,\n",
      "  output       io_a_ready,\n",
      "  input        io_a_valid,\n",
      "  input  [7:0] io_a_bits,\n",
      "  output       io_b_ready,\n",
      "  input        io_b_valid,\n",
      "  input  [7:0] io_b_bits,\n",
      "  input        io_c_ready,\n",
      "  output       io_c_valid,\n",
      "  output [7:0] io_c_bits\n",
      ");\n",
      "`ifdef RANDOMIZE_REG_INIT\n",
      "  reg [31:0] _RAND_0;\n",
      "  reg [31:0] _RAND_1;\n",
      "`endif // RANDOMIZE_REG_INIT\n",
      "  reg [7:0] buffer; // @[cmd6.sc 10:21]\n",
      "  reg  full; // @[cmd6.sc 11:23]\n",
      "  wire  _T = ~full; // @[cmd6.sc 12:19]\n",
      "  wire  _T_2 = io_a_ready & io_a_valid; // @[Decoupled.scala 40:37]\n",
      "  wire  _T_3 = io_b_ready & io_b_valid; // @[Decoupled.scala 40:37]\n",
      "  wire [7:0] _T_8 = io_a_bits + io_b_bits; // @[cmd7.sc 2:40]\n",
      "  wire  _GEN_1 = _T_2 & _T_3 & _T | full; // @[cmd6.sc 16:44 cmd6.sc 18:14 cmd6.sc 11:23]\n",
      "  wire  _T_9 = io_c_ready & io_c_valid; // @[Decoupled.scala 40:37]\n",
      "  assign io_a_ready = ~full; // @[cmd6.sc 12:19]\n",
      "  assign io_b_ready = ~full; // @[cmd6.sc 13:19]\n",
      "  assign io_c_valid = full; // @[cmd6.sc 14:16]\n",
      "  assign io_c_bits = buffer; // @[cmd6.sc 15:15]\n",
      "  always @(posedge clock) begin\n",
      "    if (_T_2 & _T_3 & _T) begin // @[cmd6.sc 16:44]\n",
      "      buffer <= _T_8; // @[cmd6.sc 17:16]\n",
      "    end\n",
      "    if (reset) begin // @[cmd6.sc 11:23]\n",
      "      full <= 1'h0; // @[cmd6.sc 11:23]\n",
      "    end else if (_T_9) begin // @[cmd6.sc 20:22]\n",
      "      full <= 1'h0; // @[cmd6.sc 21:14]\n",
      "    end else begin\n",
      "      full <= _GEN_1;\n",
      "    end\n",
      "  end\n",
      "// Register and memory initialization\n",
      "`ifdef RANDOMIZE_GARBAGE_ASSIGN\n",
      "`define RANDOMIZE\n",
      "`endif\n",
      "`ifdef RANDOMIZE_INVALID_ASSIGN\n",
      "`define RANDOMIZE\n",
      "`endif\n",
      "`ifdef RANDOMIZE_REG_INIT\n",
      "`define RANDOMIZE\n",
      "`endif\n",
      "`ifdef RANDOMIZE_MEM_INIT\n",
      "`define RANDOMIZE\n",
      "`endif\n",
      "`ifndef RANDOM\n",
      "`define RANDOM $random\n",
      "`endif\n",
      "`ifdef RANDOMIZE_MEM_INIT\n",
      "  integer initvar;\n",
      "`endif\n",
      "`ifndef SYNTHESIS\n",
      "`ifdef FIRRTL_BEFORE_INITIAL\n",
      "`FIRRTL_BEFORE_INITIAL\n",
      "`endif\n",
      "initial begin\n",
      "  `ifdef RANDOMIZE\n",
      "    `ifdef INIT_RANDOM\n",
      "      `INIT_RANDOM\n",
      "    `endif\n",
      "    `ifndef VERILATOR\n",
      "      `ifdef RANDOMIZE_DELAY\n",
      "        #`RANDOMIZE_DELAY begin end\n",
      "      `else\n",
      "        #0.002 begin end\n",
      "      `endif\n",
      "    `endif\n",
      "`ifdef RANDOMIZE_REG_INIT\n",
      "  _RAND_0 = {1{`RANDOM}};\n",
      "  buffer = _RAND_0[7:0];\n",
      "  _RAND_1 = {1{`RANDOM}};\n",
      "  full = _RAND_1[0:0];\n",
      "`endif // RANDOMIZE_REG_INIT\n",
      "  `endif // RANDOMIZE\n",
      "end // initial\n",
      "`ifdef FIRRTL_AFTER_INITIAL\n",
      "`FIRRTL_AFTER_INITIAL\n",
      "`endif\n",
      "`endif // SYNTHESIS\n",
      "endmodule\n",
      "\n"
     ]
    }
   ],
   "source": [
    "println (getVerilog(DecoupledFactory(\"+\", 8)))"
   ]
  },
  {
   "cell_type": "markdown",
   "id": "automotive-client",
   "metadata": {
    "slideshow": {
     "slide_type": "slide"
    }
   },
   "source": [
    "## Scala `trait`\n",
    "\n",
    "* More flexible than `abstract class` in most ways\n",
    "  * Can inherit from multiple traits\n",
    "  * Can't take constructor parameters\n",
    "* Sometimes refered to as _mixin_\n",
    "  * Good conceptual model: think of inheriting from trait to \"mix in\" some needed functionality (or interface)\n",
    "* Great in Chisel for adding a little functionality to different types of modules"
   ]
  },
  {
   "cell_type": "markdown",
   "id": "smooth-walker",
   "metadata": {
    "slideshow": {
     "slide_type": "slide"
    }
   },
   "source": [
    "## Example Chisel Use of `trait`\n",
    "\n",
    "* Want to add standardized way of querying module"
   ]
  },
  {
   "cell_type": "code",
   "execution_count": 9,
   "id": "instructional-backing",
   "metadata": {},
   "outputs": [],
   "source": [
    "/*\n",
    "// trait PrintInSim {\n",
    "trait PrintInSim extends Module {\n",
    "    val printEnable = IO(Input(Bool()))\n",
    "    \n",
    "    def msg: String\n",
    "\n",
    "    when (printEnable) {\n",
    "        printf(p\"$msg\\n\")\n",
    "    }\n",
    "}\n",
    "\n",
    "//class CounterMod extends Module with PrintInSim {\n",
    "abstract class CounterMod extends Module with PrintInSim {\n",
    "    val out = IO(Output(UInt(8.W)))\n",
    "    def msg = \"hello from counter\"\n",
    "    val count = Counter(255)\n",
    "    out := count.value\n",
    "}\n",
    "\n",
    "class CountMed1 extends CounterMod {}\n",
    "\n",
    "//test(new CounterMod) { c =>\n",
    "test(new CounterMod1) { c =>\n",
    "    c.printEnable.poke(false.B)\n",
    "    c.clock.step(2)\n",
    "    c.printEnable.poke(true.B)\n",
    "    c.clock.step(2)\n",
    "}\n",
    "*/"
   ]
  },
  {
   "cell_type": "code",
   "execution_count": 9,
   "id": "ea15f701-0f1b-449d-b513-5825f0390167",
   "metadata": {},
   "outputs": [],
   "source": [
    "/*\n",
    "trait PrintInSim {\n",
    "    val printEnable = IO(Input(Bool()))\n",
    "    \n",
    "    def msg: String\n",
    "\n",
    "    when (printEnable) {\n",
    "        printf(p\"$msg\\n\")\n",
    "    }\n",
    "}\n",
    "\n",
    "class CounterMod extends Module with PrintInSim {\n",
    "    val out = IO(Output(UInt(8.W)))\n",
    "    def msg = \"hello from counter\"\n",
    "    val count = Counter(255)\n",
    "    out := count.value\n",
    "}\n",
    "\n",
    "test(new CounterMod) { c =>\n",
    "    c.printEnable.poke(false.B)\n",
    "    c.clock.step(2)\n",
    "    c.printEnable.poke(true.B)\n",
    "    c.clock.step(2)\n",
    "}\n",
    "*/"
   ]
  },
  {
   "cell_type": "markdown",
   "id": "6b6a4e92",
   "metadata": {
    "slideshow": {
     "slide_type": "slide"
    }
   },
   "source": [
    "## Scala Class Mechanism Recap (& Common Uses in Chisel)\n",
    "\n",
    "* **`class`** - \"regular\" class, most commonly used\n",
    "    * With Chisel, use for most things including modules, bundles, etc...\n",
    "* **`object`** - singleton object, can be companion object\n",
    "    * Can get multiple constructors (via factory method)\n",
    "    * Can also group stateless code blocks or constants\n",
    "* **`case class`** - restricted form of class with some functionality built-in\n",
    "    * With Chisel, great for parameters and for use with pattern matching\n",
    "* **`abstract class`** - virtual class useful when inherited\n",
    "    * With Chisel, enables sharing functionality across different classes\n",
    "* **`trait`** - like an interface in other languages, allows multiple inheritance\n",
    "    * With Chisel, useful for \"mixing-in\" functionality\n",
    "    * Not as rigid as inheriting from an abstract class"
   ]
  },
  {
   "cell_type": "markdown",
   "id": "shaped-courage",
   "metadata": {
    "slideshow": {
     "slide_type": "slide"
    }
   },
   "source": [
    "## Templating Types\n",
    "\n",
    "* Possible to parameterize a type (e.g. a generic) in Scala\n",
    "* Typically want to use _type bounds_ to ensure functionality is there\n",
    "* Can sometimes come run into issue of [_type erasure_](https://squidarth.com/scala/types/2019/01/11/type-erasure-scala.html)"
   ]
  },
  {
   "cell_type": "markdown",
   "id": "robust-voltage",
   "metadata": {
    "slideshow": {
     "slide_type": "slide"
    }
   },
   "source": [
    "## Chisel with Templated Type\n",
    "\n",
    "* With Chisel, usually want to specify _type bounds_ to ensure is hardware\n",
    "* Need to explicitly pass _gen_ to get type constructor"
   ]
  },
  {
   "cell_type": "code",
   "execution_count": 10,
   "id": "centered-configuration",
   "metadata": {
    "scrolled": true
   },
   "outputs": [
    {
     "data": {
      "text/plain": [
       "defined \u001b[32mclass\u001b[39m \u001b[36mGenericPassThru\u001b[39m"
      ]
     },
     "execution_count": 10,
     "metadata": {},
     "output_type": "execute_result"
    }
   ],
   "source": [
    "class GenericPassThru[T <: chisel3.Data](gen: T) extends Module {\n",
    "    val io = IO(new Bundle {\n",
    "        val in = Input(gen)\n",
    "        val out = Output(gen)\n",
    "    })\n",
    "    io.out := io.in\n",
    "}"
   ]
  },
  {
   "cell_type": "code",
   "execution_count": 11,
   "id": "3face497-6f99-4333-a9f7-5cb9e70f0d3a",
   "metadata": {},
   "outputs": [
    {
     "name": "stdout",
     "output_type": "stream",
     "text": [
      "Elaborating design...\n",
      "Done elaborating.\n",
      "module GenericPassThru(\n",
      "  input        clock,\n",
      "  input        reset,\n",
      "  input  [7:0] io_in,\n",
      "  output [7:0] io_out\n",
      ");\n",
      "  assign io_out = io_in; // @[cmd9.sc 6:12]\n",
      "endmodule\n",
      "\n"
     ]
    }
   ],
   "source": [
    "//printVerilog(new GenericPassThru(UInt(8.W)))\n",
    "println (getVerilog (new GenericPassThru(UInt(8.W))))"
   ]
  },
  {
   "cell_type": "markdown",
   "id": "departmental-system",
   "metadata": {
    "slideshow": {
     "slide_type": "slide"
    }
   },
   "source": [
    "## Chisel Type Hierarchy"
   ]
  },
  {
   "cell_type": "markdown",
   "id": "71ca35ca-2991-4dda-97ff-8d3937d35c68",
   "metadata": {},
   "source": [
    "<img src=\"images/chisel_hierarchy.svg\" alt=\"Chisel's type hierarchy\" style=\"width:50%;align:left\" />\n",
    "\n",
    "- source:\n",
    "https://github.com/chipsalliance/chisel3)"
   ]
  },
  {
   "cell_type": "markdown",
   "id": "catholic-regression",
   "metadata": {
    "slideshow": {
     "slide_type": "slide"
    }
   },
   "source": [
    "## Templating Our Queue (from last lecture)"
   ]
  },
  {
   "cell_type": "code",
   "execution_count": 12,
   "id": "occasional-hartford",
   "metadata": {},
   "outputs": [
    {
     "data": {
      "text/plain": [
       "defined \u001b[32mclass\u001b[39m \u001b[36mMyQueueV7\u001b[39m"
      ]
     },
     "execution_count": 12,
     "metadata": {},
     "output_type": "execute_result"
    }
   ],
   "source": [
    "class MyQueueV7[T <: chisel3.Data](numEntries: Int, gen: T, pipe: Boolean=true) extends Module {\n",
    "    val io = IO(new Bundle {\n",
    "        val enq = Flipped(Decoupled(gen))\n",
    "        val deq = Decoupled(gen)\n",
    "    })\n",
    "    require(numEntries > 1)\n",
    "//     require(isPow2(numEntries))\n",
    "    val entries = Mem(numEntries, gen)\n",
    "    val enqIndex = Counter(numEntries)\n",
    "    val deqIndex = Counter(numEntries)\n",
    "    val maybeFull = RegInit(false.B)\n",
    "    val indicesEqual = enqIndex.value === deqIndex.value\n",
    "    val empty = indicesEqual && !maybeFull\n",
    "    val full = indicesEqual && maybeFull\n",
    "    if (pipe)\n",
    "        io.enq.ready := !full || io.deq.ready\n",
    "    else\n",
    "        io.enq.ready := !full\n",
    "    io.deq.valid := !empty\n",
    "    io.deq.bits := entries(deqIndex.value)\n",
    "    when (io.deq.fire =/= io.enq.fire) {\n",
    "        maybeFull := io.enq.fire\n",
    "    }\n",
    "    when (io.deq.fire) {\n",
    "        deqIndex.inc()\n",
    "    }\n",
    "    when (io.enq.fire) {\n",
    "        entries(enqIndex.value) := io.enq.bits\n",
    "        enqIndex.inc()\n",
    "    }\n",
    "}"
   ]
  },
  {
   "cell_type": "code",
   "execution_count": 12,
   "id": "68c8af97-b6a7-4c06-ba9e-6353c2d98de1",
   "metadata": {},
   "outputs": [],
   "source": [
    "//println (getVerilog (new MyQueueV7(1, 1.T, true)))"
   ]
  },
  {
   "cell_type": "code",
   "execution_count": 13,
   "id": "particular-notion",
   "metadata": {
    "slideshow": {
     "slide_type": "slide"
    }
   },
   "outputs": [
    {
     "data": {
      "text/plain": [
       "defined \u001b[32mclass\u001b[39m \u001b[36mQueueModel\u001b[39m"
      ]
     },
     "execution_count": 13,
     "metadata": {},
     "output_type": "execute_result"
    }
   ],
   "source": [
    "class QueueModel(numEntries: Int, pipe: Boolean=true) {\n",
    "    val mq = scala.collection.mutable.Queue[Int]()\n",
    "\n",
    "    var deqReady = false  // set externally\n",
    "    def deqValid() = mq.nonEmpty\n",
    "    // be sure to call attemptDeq before attemptEnq within a cycle\n",
    "    def attemptDeq() = if (deqReady && deqValid) Some(mq.dequeue()) else None\n",
    "    \n",
    "    def enqReady() = mq.size < numEntries-1 || \n",
    "                    (mq.size == numEntries-1 && !deqReady) ||\n",
    "                    (mq.size == numEntries-1 && deqReady && pipe)\n",
    "    def attemptEnq(elem: Int): Unit = if (enqReady()) mq += elem    // implies enqValid\n",
    "}"
   ]
  },
  {
   "cell_type": "code",
   "execution_count": 14,
   "id": "demonstrated-greenhouse",
   "metadata": {
    "slideshow": {
     "slide_type": "slide"
    }
   },
   "outputs": [
    {
     "name": "stdout",
     "output_type": "stream",
     "text": [
      "Elaborating design...\n",
      "Done elaborating.\n",
      "Queue()\n",
      "Queue(1)\n",
      "Queue(1, 2)\n",
      "Queue(1, 2, 3)\n",
      "Queue(2, 3)\n",
      "test MyQueueV7 Success: 0 tests passed in 7 cycles in 0.072530 seconds 96.51 Hz\n"
     ]
    },
    {
     "data": {
      "text/plain": [
       "defined \u001b[32mfunction\u001b[39m \u001b[36msimCycle\u001b[39m"
      ]
     },
     "execution_count": 14,
     "metadata": {},
     "output_type": "execute_result"
    }
   ],
   "source": [
    "def simCycle(qm: QueueModel, c: MyQueueV7[UInt], enqValid: Boolean, deqReady: Boolean, enqData: Int=0) {\n",
    "    qm.deqReady = deqReady\n",
    "    c.io.deq.ready.poke(qm.deqReady.B)\n",
    "    c.io.deq.valid.expect(qm.deqValid.B)\n",
    "    val deqResult = qm.attemptDeq()\n",
    "    if (deqResult.isDefined)\n",
    "        c.io.deq.bits.expect(deqResult.get.U)\n",
    "    c.io.enq.ready.expect(qm.enqReady.B)\n",
    "    c.io.enq.valid.poke(enqValid.B)\n",
    "    c.io.enq.bits.poke(enqData.U)\n",
    "    if (enqValid)\n",
    "        qm.attemptEnq(enqData)\n",
    "    c.clock.step()\n",
    "    println(qm.mq)\n",
    "}\n",
    "\n",
    "test(new MyQueueV7(3, UInt(8.W))) { c =>\n",
    "    val qm = new QueueModel(3)\n",
    "    simCycle(qm, c, false, false)\n",
    "    simCycle(qm, c, true, false, 1)\n",
    "    simCycle(qm, c, true, false, 2)\n",
    "    simCycle(qm, c, true, false, 3)\n",
    "    simCycle(qm, c, false, true)\n",
    "}"
   ]
  },
  {
   "cell_type": "markdown",
   "id": "controversial-hungarian",
   "metadata": {
    "slideshow": {
     "slide_type": "slide"
    }
   },
   "source": [
    "## Project Suggestions\n",
    "\n",
    "### GOAL: gain experience developing/revising a generator\n",
    "\n",
    "### Things to Consider\n",
    "* App or domains you are interested in (to speed up getting started)\n",
    "* Opportunities for parameterization / generation (avoid fixed single instance)\n",
    "* Allows for incremental progress (avoid all or nothing)\n",
    "* Prior work on the topic? In Chisel? How can yours be different?\n",
    "* How will you get started? What do defer? Code to bootstrap?"
   ]
  },
  {
   "cell_type": "markdown",
   "id": "individual-shanghai",
   "metadata": {
    "slideshow": {
     "slide_type": "slide"
    }
   },
   "source": [
    "## Past Project Highlights\n",
    "\n",
    "* Cipher / hashes (e.g. 3GPP LTE)\n",
    "* Neural net (generator)\n",
    "* TPU (systolic matrix multiplication)\n",
    "* Bloom filter (generator)\n",
    "* Mandlebrot (fractal)\n",
    "* Smith-Waterman (sequence alignment)\n",
    "* Image histogram equalization"
   ]
  }
 ],
 "metadata": {
  "celltoolbar": "Slideshow",
  "kernelspec": {
   "display_name": "Scala 2.12.11",
   "language": "scala",
   "name": "scala_2_12_11"
  },
  "language_info": {
   "codemirror_mode": "text/x-scala",
   "file_extension": ".scala",
   "mimetype": "text/x-scala",
   "name": "scala",
   "nbconvert_exporter": "script",
   "version": "2.12.11"
  }
 },
 "nbformat": 4,
 "nbformat_minor": 5
}
