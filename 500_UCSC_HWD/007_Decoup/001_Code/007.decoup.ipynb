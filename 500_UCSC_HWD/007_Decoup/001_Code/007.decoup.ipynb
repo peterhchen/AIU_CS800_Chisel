{
 "cells": [
  {
   "cell_type": "markdown",
   "id": "da7efa97-ad21-46c3-8e1d-b93ecdceba49",
   "metadata": {
    "slideshow": {
     "slide_type": "slide"
    }
   },
   "source": [
    "## Agile Hardware Design\n",
    "***\n",
    "# Decoupling\n",
    "\n",
    "<img src=\"./images/logo.svg\" alt=\"agile hardware design logo\" style=\"float:right\"/>\n",
    "\n",
    "## Prof. Scott Beamer \n",
    "\n",
    "\n",
    "## [CSE 228A](https://classes.soe.ucsc.edu/cse228a/Winter24/)\n",
    "Note: by Peter Hanping Chen \n",
    "1. Why do I modify? \n",
    "I cannot use configuration file (chisel_deps.sc) from Prof. Scott Beamer which have error in dependencies on my Ubuntu OS. \n",
    "2. Instead, I used UCB bootcamp configuration file (load_ivy.sc) below. \n",
    "Since load-ivy.sc is not 100% compatible in dependencies as chisel.deps.sc, I made some modification to make them work.\n",
    "3. source/load-ivy.sc (https://github.com/freechipsproject/chisel-bootcamp)"
   ]
  },
  {
   "cell_type": "markdown",
   "id": "nominated-consistency",
   "metadata": {
    "slideshow": {
     "slide_type": "slide"
    }
   },
   "source": [
    "## Plan for Today\n",
    "\n",
    "* Scala case classes\n",
    "* Decoupling blocks in Chisel\n",
    "* Chisel Queue demo"
   ]
  },
  {
   "cell_type": "markdown",
   "id": "f4bf0152",
   "metadata": {
    "slideshow": {
     "slide_type": "slide"
    }
   },
   "source": [
    "## Motivation for Decoupling Components\n",
    "\n",
    "* _**Decoupled**_ - connection with time insensitivity\n",
    "  * Some flexibility about when data is sent or received\n",
    "* Decoupling can _simplify design_, as can focus on each component individually\n",
    "* Decoupling can improve _reusability_, since component is more flexible about its timing interactions"
   ]
  },
  {
   "cell_type": "markdown",
   "id": "regular-reducing",
   "metadata": {
    "slideshow": {
     "slide_type": "slide"
    }
   },
   "source": [
    "## Loading The Chisel Library Into a Notebook"
   ]
  },
  {
   "cell_type": "code",
   "execution_count": 45,
   "id": "robust-immigration",
   "metadata": {},
   "outputs": [
    {
     "name": "stdout",
     "output_type": "stream",
     "text": [
      "path: /home/peter/AIU/AIU_CS800_Chisel/500_UCSC_HWD/007_Decoup/001_Code/source/load-ivy.sc\n"
     ]
    },
    {
     "data": {
      "text/plain": [
       "\u001b[36mpath\u001b[39m: \u001b[32mString\u001b[39m = \u001b[32m\"/home/peter/AIU/AIU_CS800_Chisel/500_UCSC_HWD/007_Decoup/001_Code/source/load-ivy.sc\"\u001b[39m"
      ]
     },
     "execution_count": 45,
     "metadata": {},
     "output_type": "execute_result"
    }
   ],
   "source": [
    "//CompilationError: Failed to resolve ivy dependencies:Error downloading edu.berkeley.cs:chiseltest_2.12:0.6.2\n",
    "//interp.load.module(os.Path(s\"${System.getProperty(\"user.dir\")}/../resource/chisel_deps.sc\"))\n",
    "// CompilationError: Failed to resolve ivy dependencies:Error downloading edu.berkeley.cs:chiseltest_2.12:0.6.2\n",
    "//val path = System.getProperty(\"user.dir\") + \"/source/chisel_deps.sc\"\n",
    "// ammonite.util.CompilationError: Failed to resolve ivy dependencies:Error downloading edu.berkeley.cs:chiseltest_2.12:0.6.2\n",
    "val path = System.getProperty(\"user.dir\") + \"/source/load-ivy.sc\"\n",
    "println(\"path: \"+path)"
   ]
  },
  {
   "cell_type": "code",
   "execution_count": 46,
   "id": "9a5e7dfe-060c-4519-a30b-565466fbc03d",
   "metadata": {},
   "outputs": [],
   "source": [
    "interp.load.module(ammonite.ops.Path(java.nio.file.FileSystems.getDefault().getPath(path)))"
   ]
  },
  {
   "cell_type": "code",
   "execution_count": 47,
   "id": "extended-burning",
   "metadata": {
    "slideshow": {
     "slide_type": "-"
    }
   },
   "outputs": [
    {
     "data": {
      "text/plain": [
       "\u001b[32mimport \u001b[39m\u001b[36mchisel3._\n",
       "\u001b[39m\n",
       "\u001b[32mimport \u001b[39m\u001b[36mchisel3.util._\n",
       "\u001b[39m\n",
       "\u001b[32mimport \u001b[39m\u001b[36mchiseltest._\n",
       "\u001b[39m\n",
       "\u001b[32mimport \u001b[39m\u001b[36mchiseltest.RawTester.test\u001b[39m"
      ]
     },
     "execution_count": 47,
     "metadata": {},
     "output_type": "execute_result"
    }
   ],
   "source": [
    "import chisel3._\n",
    "import chisel3.util._\n",
    "import chiseltest._\n",
    "import chiseltest.RawTester.test"
   ]
  },
  {
   "cell_type": "code",
   "execution_count": 48,
   "id": "bedd6da1-dff1-4a42-b9c7-cb3b1ccad6da",
   "metadata": {},
   "outputs": [
    {
     "name": "stdout",
     "output_type": "stream",
     "text": [
      "Elaborating design...\n",
      "Done elaborating.\n",
      "module RegLand(\n",
      "  input   clock,\n",
      "  input   reset,\n",
      "  input   io_in,\n",
      "  input   io_en,\n",
      "  output  io_out\n",
      ");\n",
      "`ifdef RANDOMIZE_REG_INIT\n",
      "  reg [31:0] _RAND_0;\n",
      "`endif // RANDOMIZE_REG_INIT\n",
      "  reg  r; // @[cmd47.sc 7:16]\n",
      "  assign io_out = r; // @[cmd47.sc 10:12]\n",
      "  always @(posedge clock) begin\n",
      "    r <= io_in; // @[cmd47.sc 9:7]\n",
      "  end\n",
      "// Register and memory initialization\n",
      "`ifdef RANDOMIZE_GARBAGE_ASSIGN\n",
      "`define RANDOMIZE\n",
      "`endif\n",
      "`ifdef RANDOMIZE_INVALID_ASSIGN\n",
      "`define RANDOMIZE\n",
      "`endif\n",
      "`ifdef RANDOMIZE_REG_INIT\n",
      "`define RANDOMIZE\n",
      "`endif\n",
      "`ifdef RANDOMIZE_MEM_INIT\n",
      "`define RANDOMIZE\n",
      "`endif\n",
      "`ifndef RANDOM\n",
      "`define RANDOM $random\n",
      "`endif\n",
      "`ifdef RANDOMIZE_MEM_INIT\n",
      "  integer initvar;\n",
      "`endif\n",
      "`ifndef SYNTHESIS\n",
      "`ifdef FIRRTL_BEFORE_INITIAL\n",
      "`FIRRTL_BEFORE_INITIAL\n",
      "`endif\n",
      "initial begin\n",
      "  `ifdef RANDOMIZE\n",
      "    `ifdef INIT_RANDOM\n",
      "      `INIT_RANDOM\n",
      "    `endif\n",
      "    `ifndef VERILATOR\n",
      "      `ifdef RANDOMIZE_DELAY\n",
      "        #`RANDOMIZE_DELAY begin end\n",
      "      `else\n",
      "        #0.002 begin end\n",
      "      `endif\n",
      "    `endif\n",
      "`ifdef RANDOMIZE_REG_INIT\n",
      "  _RAND_0 = {1{`RANDOM}};\n",
      "  r = _RAND_0[0:0];\n",
      "`endif // RANDOMIZE_REG_INIT\n",
      "  `endif // RANDOMIZE\n",
      "end // initial\n",
      "`ifdef FIRRTL_AFTER_INITIAL\n",
      "`FIRRTL_AFTER_INITIAL\n",
      "`endif\n",
      "`endif // SYNTHESIS\n",
      "endmodule\n",
      "\n"
     ]
    },
    {
     "data": {
      "text/plain": [
       "defined \u001b[32mclass\u001b[39m \u001b[36mRegLand\u001b[39m"
      ]
     },
     "execution_count": 48,
     "metadata": {},
     "output_type": "execute_result"
    }
   ],
   "source": [
    "// Test\n",
    "class RegLand extends Module {\n",
    "    val io = IO(new Bundle {\n",
    "        val in  = Input(Bool())\n",
    "        val en  = Input(Bool())\n",
    "        val out = Output(Bool())\n",
    "    })\n",
    "    val r = Reg(Bool())\n",
    "//    val r = RegInit(0.B)\n",
    "    r := io.in\n",
    "    io.out := r\n",
    "//     io.out := RegNext(io.in, 0.B)\n",
    "//     io.out := RegEnable(io.in, 0.B, io.en)\n",
    "}\n",
    "println (getVerilog(new RegLand))"
   ]
  },
  {
   "cell_type": "markdown",
   "id": "referenced-sister",
   "metadata": {
    "slideshow": {
     "slide_type": "slide"
    }
   },
   "source": [
    "## Scala Case Classes\n",
    "\n",
    "* Special type of class with additional features built-in\n",
    "  * Companion object (with constructor) (don't need `new` to instantiate)\n",
    "  * All parameters are automatically public (don't need to make them `val`)\n",
    "  * Automatic implementations of `toString`, `equals`, and `copy` \n",
    "  * Great for pattern matching (future lecture)\n"
   ]
  },
  {
   "cell_type": "markdown",
   "id": "59b67974-2bc0-4429-a1b7-8bf386cf4392",
   "metadata": {},
   "source": [
    "### Case Class with Parameters ###"
   ]
  },
  {
   "cell_type": "code",
   "execution_count": 9,
   "id": "c8426c54-9199-4e00-8b10-99c9fea26eb5",
   "metadata": {},
   "outputs": [
    {
     "name": "stdout",
     "output_type": "stream",
     "text": [
      "message1.sender: guillaume@quebec.ca\n"
     ]
    },
    {
     "data": {
      "text/plain": [
       "defined \u001b[32mclass\u001b[39m \u001b[36mMessage\u001b[39m\n",
       "\u001b[36mmessage1\u001b[39m: \u001b[32mMessage\u001b[39m = \u001b[33mMessage\u001b[39m(\n",
       "  \u001b[32m\"guillaume@quebec.ca\"\u001b[39m,\n",
       "  \u001b[32m\"jorge@catalonia.es\"\u001b[39m,\n",
       "  \u001b[32m\"\\u00c7a va ?\"\u001b[39m\n",
       ")"
      ]
     },
     "execution_count": 9,
     "metadata": {},
     "output_type": "execute_result"
    }
   ],
   "source": [
    "// https://docs.scala-lang.org/tour/case-classes.html\n",
    "case class Message(sender: String, recipient: String, body: String)\n",
    "val message1 = Message(\"guillaume@quebec.ca\", \"jorge@catalonia.es\", \"Ça va ?\")\n",
    "\n",
    "println(\"message1.sender: \" + message1.sender)  // prints guillaume@quebec.ca\n"
   ]
  },
  {
   "cell_type": "markdown",
   "id": "424508b1-f169-448a-8568-7ecb2056c3bb",
   "metadata": {},
   "source": [
    "### Case class with Comparison ###"
   ]
  },
  {
   "cell_type": "code",
   "execution_count": 10,
   "id": "c303e774-c6ed-4dc1-94b4-8f9400aab890",
   "metadata": {},
   "outputs": [
    {
     "name": "stdout",
     "output_type": "stream",
     "text": [
      "messagesAreTheSame: true\n"
     ]
    },
    {
     "data": {
      "text/plain": [
       "defined \u001b[32mclass\u001b[39m \u001b[36mMessage\u001b[39m\n",
       "\u001b[36mmessage2\u001b[39m: \u001b[32mMessage\u001b[39m = \u001b[33mMessage\u001b[39m(\n",
       "  \u001b[32m\"jorge@catalonia.es\"\u001b[39m,\n",
       "  \u001b[32m\"guillaume@quebec.ca\"\u001b[39m,\n",
       "  \u001b[32m\"Com va?\"\u001b[39m\n",
       ")\n",
       "\u001b[36mmessage3\u001b[39m: \u001b[32mMessage\u001b[39m = \u001b[33mMessage\u001b[39m(\n",
       "  \u001b[32m\"jorge@catalonia.es\"\u001b[39m,\n",
       "  \u001b[32m\"guillaume@quebec.ca\"\u001b[39m,\n",
       "  \u001b[32m\"Com va?\"\u001b[39m\n",
       ")\n",
       "\u001b[36mmessagesAreTheSame\u001b[39m: \u001b[32mBoolean\u001b[39m = true"
      ]
     },
     "execution_count": 10,
     "metadata": {},
     "output_type": "execute_result"
    }
   ],
   "source": [
    "// https://docs.scala-lang.org/tour/case-classes.html\n",
    "case class Message(sender: String, recipient: String, body: String)\n",
    "\n",
    "val message2 = Message(\"jorge@catalonia.es\", \"guillaume@quebec.ca\", \"Com va?\")\n",
    "val message3 = Message(\"jorge@catalonia.es\", \"guillaume@quebec.ca\", \"Com va?\")\n",
    "val messagesAreTheSame = message2 == message3\n",
    "println (\"messagesAreTheSame: \" + messagesAreTheSame)  // true"
   ]
  },
  {
   "cell_type": "markdown",
   "id": "94944204-4b13-45b8-93b8-1ed8e55b00e5",
   "metadata": {},
   "source": [
    "### Case Class Copy ###"
   ]
  },
  {
   "cell_type": "code",
   "execution_count": 13,
   "id": "746550a1-7245-4d76-b8d1-cc27ecbe8bd9",
   "metadata": {},
   "outputs": [
    {
     "name": "stdout",
     "output_type": "stream",
     "text": [
      "message5.sender: travis@washington.us\n",
      "message5.recipient: claire@bourgogne.fr\n",
      "message5.body: Me zo o komz gant ma amezeg\n"
     ]
    },
    {
     "data": {
      "text/plain": [
       "defined \u001b[32mclass\u001b[39m \u001b[36mMessage\u001b[39m\n",
       "\u001b[36mmessage4\u001b[39m: \u001b[32mMessage\u001b[39m = \u001b[33mMessage\u001b[39m(\n",
       "  \u001b[32m\"julien@bretagne.fr\"\u001b[39m,\n",
       "  \u001b[32m\"travis@washington.us\"\u001b[39m,\n",
       "  \u001b[32m\"Me zo o komz gant ma amezeg\"\u001b[39m\n",
       ")\n",
       "\u001b[36mmessage5\u001b[39m: \u001b[32mMessage\u001b[39m = \u001b[33mMessage\u001b[39m(\n",
       "  \u001b[32m\"travis@washington.us\"\u001b[39m,\n",
       "  \u001b[32m\"claire@bourgogne.fr\"\u001b[39m,\n",
       "  \u001b[32m\"Me zo o komz gant ma amezeg\"\u001b[39m\n",
       ")"
      ]
     },
     "execution_count": 13,
     "metadata": {},
     "output_type": "execute_result"
    }
   ],
   "source": [
    "// https://docs.scala-lang.org/tour/case-classes.html\n",
    "// Copy meesage5 to message 4.\n",
    "case class Message(sender: String, recipient: String, body: String)\n",
    "val message4 = Message(\"julien@bretagne.fr\", \"travis@washington.us\", \"Me zo o komz gant ma amezeg\")\n",
    "val message5 = message4.copy(sender = message4.recipient, recipient = \"claire@bourgogne.fr\")\n",
    "println (\"message5.sender: \" + message5.sender)   // travis@washington.us\n",
    "println (\"message5.recipient: \" + message5.recipient) // claire@bourgogne.fr\n",
    "println (\"message5.body: \" + message5.body)  // \"Me zo o komz gant ma amezeg\""
   ]
  },
  {
   "cell_type": "markdown",
   "id": "0faee388-9d77-44ce-9a50-d7dd22837964",
   "metadata": {},
   "source": [
    "### Case Class Example ###"
   ]
  },
  {
   "cell_type": "code",
   "execution_count": 3,
   "id": "armed-median",
   "metadata": {},
   "outputs": [
    {
     "name": "stdout",
     "output_type": "stream",
     "text": [
      "m1.genre: drama\n",
      "m2.genre: action\n",
      "m2.decade: 1990s\n"
     ]
    },
    {
     "data": {
      "text/plain": [
       "defined \u001b[32mclass\u001b[39m \u001b[36mMovie\u001b[39m\n",
       "\u001b[36mm1\u001b[39m: \u001b[32mMovie\u001b[39m = \u001b[33mMovie\u001b[39m(\u001b[32m\"Gattaca\"\u001b[39m, \u001b[32m1997\u001b[39m, \u001b[32m\"drama\"\u001b[39m)\n",
       "\u001b[36mm2\u001b[39m: \u001b[32mMovie\u001b[39m = \u001b[33mMovie\u001b[39m(\u001b[32m\"The Avengers\"\u001b[39m, \u001b[32m1998\u001b[39m, \u001b[32m\"action\"\u001b[39m)\n",
       "\u001b[36mres2_4\u001b[39m: \u001b[32mMovie\u001b[39m = \u001b[33mMovie\u001b[39m(\u001b[32m\"The Avengers\"\u001b[39m, \u001b[32m2012\u001b[39m, \u001b[32m\"action\"\u001b[39m)"
      ]
     },
     "execution_count": 3,
     "metadata": {},
     "output_type": "execute_result"
    }
   ],
   "source": [
    "case class Movie(name: String, year: Int, genre: String) {\n",
    "    def decade(): String = (year - year%10) + \"s\"\n",
    "}\n",
    "\n",
    "val m1 = Movie(\"Gattaca\", 1997, \"drama\")\n",
    "println(\"m1.genre: \" + m1.genre)\n",
    "val m2 = Movie(\"The Avengers\", 1998, \"action\")\n",
    "m2.copy(year=2012)\n",
    "println(\"m2.genre: \" + m2.genre)\n",
    "println(\"m2.decade: \" + m2.decade)"
   ]
  },
  {
   "cell_type": "markdown",
   "id": "monthly-resort",
   "metadata": {
    "slideshow": {
     "slide_type": "slide"
    }
   },
   "source": [
    "## Using `case class` for Parameters in Chisel"
   ]
  },
  {
   "cell_type": "code",
   "execution_count": 50,
   "id": "attempted-private",
   "metadata": {
    "cell_style": "center"
   },
   "outputs": [
    {
     "data": {
      "text/plain": [
       "defined \u001b[32mclass\u001b[39m \u001b[36mCounterParams\u001b[39m\n",
       "defined \u001b[32mclass\u001b[39m \u001b[36mMyCounter\u001b[39m"
      ]
     },
     "execution_count": 50,
     "metadata": {},
     "output_type": "execute_result"
    }
   ],
   "source": [
    "case class CounterParams(limit: Int, start: Int = 0) {\n",
    "    val width = log2Ceil(limit + 1)\n",
    "}\n",
    "\n",
    "class MyCounter(cp: CounterParams) extends Module {\n",
    "    val io = IO(new Bundle {\n",
    "        val en  = Input(Bool())\n",
    "        val out = Output(UInt(cp.width.W))\n",
    "    })\n",
    "    val count = RegInit(cp.start.U(cp.width.W))\n",
    "    when (io.en) {\n",
    "        when (count < cp.limit.U) {\n",
    "            count := count + 1.U\n",
    "        } .otherwise {\n",
    "            count := cp.start.U\n",
    "        }\n",
    "    }\n",
    "    io.out := count\n",
    "}\n",
    "\n",
    "//printVerilog(new MyCounter(CounterParams(14)))"
   ]
  },
  {
   "cell_type": "code",
   "execution_count": 51,
   "id": "4805c034-02c6-4f01-a51c-1dc0aa08fff7",
   "metadata": {},
   "outputs": [
    {
     "name": "stdout",
     "output_type": "stream",
     "text": [
      "Elaborating design...\n",
      "Done elaborating.\n",
      "module MyCounter(\n",
      "  input        clock,\n",
      "  input        reset,\n",
      "  input        io_en,\n",
      "  output [3:0] io_out\n",
      ");\n",
      "`ifdef RANDOMIZE_REG_INIT\n",
      "  reg [31:0] _RAND_0;\n",
      "`endif // RANDOMIZE_REG_INIT\n",
      "  reg [3:0] count; // @[cmd49.sc 10:24]\n",
      "  wire [3:0] _T_2 = count + 4'h1; // @[cmd49.sc 13:28]\n",
      "  assign io_out = count; // @[cmd49.sc 18:12]\n",
      "  always @(posedge clock) begin\n",
      "    if (reset) begin // @[cmd49.sc 10:24]\n",
      "      count <= 4'h0; // @[cmd49.sc 10:24]\n",
      "    end else if (io_en) begin // @[cmd49.sc 11:18]\n",
      "      if (count < 4'he) begin // @[cmd49.sc 12:35]\n",
      "        count <= _T_2; // @[cmd49.sc 13:19]\n",
      "      end else begin\n",
      "        count <= 4'h0; // @[cmd49.sc 15:19]\n",
      "      end\n",
      "    end\n",
      "  end\n",
      "// Register and memory initialization\n",
      "`ifdef RANDOMIZE_GARBAGE_ASSIGN\n",
      "`define RANDOMIZE\n",
      "`endif\n",
      "`ifdef RANDOMIZE_INVALID_ASSIGN\n",
      "`define RANDOMIZE\n",
      "`endif\n",
      "`ifdef RANDOMIZE_REG_INIT\n",
      "`define RANDOMIZE\n",
      "`endif\n",
      "`ifdef RANDOMIZE_MEM_INIT\n",
      "`define RANDOMIZE\n",
      "`endif\n",
      "`ifndef RANDOM\n",
      "`define RANDOM $random\n",
      "`endif\n",
      "`ifdef RANDOMIZE_MEM_INIT\n",
      "  integer initvar;\n",
      "`endif\n",
      "`ifndef SYNTHESIS\n",
      "`ifdef FIRRTL_BEFORE_INITIAL\n",
      "`FIRRTL_BEFORE_INITIAL\n",
      "`endif\n",
      "initial begin\n",
      "  `ifdef RANDOMIZE\n",
      "    `ifdef INIT_RANDOM\n",
      "      `INIT_RANDOM\n",
      "    `endif\n",
      "    `ifndef VERILATOR\n",
      "      `ifdef RANDOMIZE_DELAY\n",
      "        #`RANDOMIZE_DELAY begin end\n",
      "      `else\n",
      "        #0.002 begin end\n",
      "      `endif\n",
      "    `endif\n",
      "`ifdef RANDOMIZE_REG_INIT\n",
      "  _RAND_0 = {1{`RANDOM}};\n",
      "  count = _RAND_0[3:0];\n",
      "`endif // RANDOMIZE_REG_INIT\n",
      "  `endif // RANDOMIZE\n",
      "end // initial\n",
      "`ifdef FIRRTL_AFTER_INITIAL\n",
      "`FIRRTL_AFTER_INITIAL\n",
      "`endif\n",
      "`endif // SYNTHESIS\n",
      "endmodule\n",
      "\n"
     ]
    }
   ],
   "source": [
    "println (getVerilog(new MyCounter(CounterParams(14))))"
   ]
  },
  {
   "cell_type": "markdown",
   "id": "217587b1-fe15-46e8-bbda-7942deeab0ee",
   "metadata": {
    "slideshow": {
     "slide_type": "slide"
    }
   },
   "source": [
    "## Motivation for Handshaking Protocol\n",
    "\n",
    "* Can already be difficult to correctly implement a seqentual component, but what about two sequential components interacting?\n",
    "\n",
    "* For today, let's only focus on transferring data\n",
    "  * A _producer_ sending data to a _consumer_\n",
    "\n",
    "* _**Challenge:**_ recognize when a side is (or is not) able to send/receive data\n",
    "\n",
    "<img src=\"images/producer.svg\" alt=\"ready/valid schematic\" style=\"width:75%;margin-left:auto;margin-right:auto\"/>"
   ]
  },
  {
   "cell_type": "markdown",
   "id": "refined-distributor",
   "metadata": {
    "slideshow": {
     "slide_type": "slide"
    }
   },
   "source": [
    "## Best to Distribute Control\n",
    "\n",
    "* When to use _centralized_ vs _distributed_ control?\n",
    "  * Common tradeoff throughout systems\n",
    "  * Centralized can be more efficient and easier to implement (for small scale)\n",
    "  * Distributed (peer-to-peer) can scale to larger designs much more easily\n",
    "  * _Common outcome:_ centralized within components and distributed between them\n",
    "  * Thus, question: _\"At what scale to switch from centralized to distributed?\"_\n",
    "\n",
    "* For data transfer between components, may need ...\n",
    "  * Ability for producer to indicate no data is being sent\n",
    "  * Ability for consumer to indicate inability to receive data (_back pressure_)"
   ]
  },
  {
   "cell_type": "markdown",
   "id": "1ea01a05-89aa-4928-8f12-a68d422697e6",
   "metadata": {
    "slideshow": {
     "slide_type": "slide"
    }
   },
   "source": [
    "## Ready/Valid Protocol\n",
    "\n",
    "* Common hardware design pattern for producer-consumer data transfer\n",
    "\n",
    "<img src=\"images/handshake-wave.svg\" alt=\"ready/valid waveform\" style=\"width:35%;float:right\"/>\n",
    "\n",
    "* _**valid**_ - output from producer indicating sending data\n",
    "\n",
    "* _**ready**_ - output from consumer indicating able to receive\n",
    "\n",
    "* _**bits**_ - the payload producer is sending consumer\n",
    "\n",
    "* Transfer occurs when both _ready & valid_ in same cycle\n",
    "\n",
    "<img src=\"images/readyValid.svg\" alt=\"ready/valid schematic\" style=\"width:75%;margin-left:auto;margin-right:auto\"/>\n",
    "\n",
    "<!-- for waveform\n",
    "https://wavedrom.com/editor.html\n",
    "{signal: [\n",
    "  {name: 'clock', wave: 'p....'},\n",
    "  {name: 'valid', wave: '01..0'},\n",
    "  {name: 'ready', wave: '0.1..'},\n",
    "  {name: 'bits', wave: 'x3.4x', data: ['d0', 'd1']},\n",
    "]} -->"
   ]
  },
  {
   "cell_type": "markdown",
   "id": "checked-commerce",
   "metadata": {
    "slideshow": {
     "slide_type": "slide"
    }
   },
   "source": [
    "## Chisel Supports Ready/Valid\n",
    "\n",
    "* Best to use standard library's support for these patterns\n",
    "  * Less code to write, less chance of error, standardization improves readability\n",
    "* To use, wrap data to transfer with desired protocol\n",
    "  * Library will add additional signals & provide helper functions\n",
    "  * By default, sending data in output direction, use `Flipped` to reverse"
   ]
  },
  {
   "cell_type": "markdown",
   "id": "developing-spending",
   "metadata": {
    "cell_style": "split"
   },
   "source": [
    "### [Valid](https://javadoc.io/doc/edu.berkeley.cs/chisel3_2.13/latest/chisel3/util/Valid.html) - only `valid`\n",
    "\n",
    "* Consumer can't say no\n",
    "  * Must consume when sent\n",
    "* Indicates the existence of data\n",
    "  * Amost like hardware equivalent of Scala's `Option`"
   ]
  },
  {
   "cell_type": "markdown",
   "id": "interested-lightweight",
   "metadata": {
    "cell_style": "split"
   },
   "source": [
    "### [Decoupled](https://javadoc.io/doc/edu.berkeley.cs/chisel3_2.13/latest/chisel3/util/Decoupled$.html) - `ready & valid`\n",
    "\n",
    "* Consumer can apply backpressure\n",
    "* _**BEWARE**_ of _combinational loops_\n",
    "  * Avoid using ready/valid input to combinationally create ready/valid output"
   ]
  },
  {
   "cell_type": "markdown",
   "id": "electoral-economy",
   "metadata": {
    "slideshow": {
     "slide_type": "slide"
    }
   },
   "source": [
    "## Combinational Loops\n",
    "\n",
    "* (Uncontrolled) feedback paths that do NOT pass through state elements (registers or memories)\n",
    "    * State elements provide _synchronization_ and thus control feedback\n",
    "    * Generated hardware can have unpredictable values, or even get trapped in metastable state\n",
    "* Generally want to avoid combinational loops (usually a mistake)\n",
    "    * Can sometimes prove will converge, but should be very deliberate"
   ]
  },
  {
   "cell_type": "code",
   "execution_count": 52,
   "id": "outstanding-reducing",
   "metadata": {
    "cell_style": "split"
   },
   "outputs": [
    {
     "data": {
      "text/plain": [
       "defined \u001b[32mclass\u001b[39m \u001b[36mLoopyCounter\u001b[39m"
      ]
     },
     "execution_count": 52,
     "metadata": {},
     "output_type": "execute_result"
    }
   ],
   "source": [
    "class LoopyCounter(width: Int) extends Module {\n",
    "    val io = IO(new Bundle {\n",
    "        val count = Output(UInt(width.W))\n",
    "    })\n",
    "    // Error below\n",
    "//    io.count := io.count + 1.U\n",
    "    io.count := RegNext(io.count + 1.U)\n",
    "}\n",
    "//printVerilog(new LoopyCounter(4))"
   ]
  },
  {
   "cell_type": "code",
   "execution_count": 53,
   "id": "b7e3e18f-dccd-432b-8c77-f1809093c559",
   "metadata": {},
   "outputs": [
    {
     "name": "stdout",
     "output_type": "stream",
     "text": [
      "Elaborating design...\n",
      "Done elaborating.\n",
      "module LoopyCounter(\n",
      "  input        clock,\n",
      "  input        reset,\n",
      "  output [3:0] io_count\n",
      ");\n",
      "`ifdef RANDOMIZE_REG_INIT\n",
      "  reg [31:0] _RAND_0;\n",
      "`endif // RANDOMIZE_REG_INIT\n",
      "  reg [3:0] REG; // @[cmd51.sc 7:24]\n",
      "  assign io_count = REG; // @[cmd51.sc 7:14]\n",
      "  always @(posedge clock) begin\n",
      "    REG <= io_count + 4'h1; // @[cmd51.sc 7:34]\n",
      "  end\n",
      "// Register and memory initialization\n",
      "`ifdef RANDOMIZE_GARBAGE_ASSIGN\n",
      "`define RANDOMIZE\n",
      "`endif\n",
      "`ifdef RANDOMIZE_INVALID_ASSIGN\n",
      "`define RANDOMIZE\n",
      "`endif\n",
      "`ifdef RANDOMIZE_REG_INIT\n",
      "`define RANDOMIZE\n",
      "`endif\n",
      "`ifdef RANDOMIZE_MEM_INIT\n",
      "`define RANDOMIZE\n",
      "`endif\n",
      "`ifndef RANDOM\n",
      "`define RANDOM $random\n",
      "`endif\n",
      "`ifdef RANDOMIZE_MEM_INIT\n",
      "  integer initvar;\n",
      "`endif\n",
      "`ifndef SYNTHESIS\n",
      "`ifdef FIRRTL_BEFORE_INITIAL\n",
      "`FIRRTL_BEFORE_INITIAL\n",
      "`endif\n",
      "initial begin\n",
      "  `ifdef RANDOMIZE\n",
      "    `ifdef INIT_RANDOM\n",
      "      `INIT_RANDOM\n",
      "    `endif\n",
      "    `ifndef VERILATOR\n",
      "      `ifdef RANDOMIZE_DELAY\n",
      "        #`RANDOMIZE_DELAY begin end\n",
      "      `else\n",
      "        #0.002 begin end\n",
      "      `endif\n",
      "    `endif\n",
      "`ifdef RANDOMIZE_REG_INIT\n",
      "  _RAND_0 = {1{`RANDOM}};\n",
      "  REG = _RAND_0[3:0];\n",
      "`endif // RANDOMIZE_REG_INIT\n",
      "  `endif // RANDOMIZE\n",
      "end // initial\n",
      "`ifdef FIRRTL_AFTER_INITIAL\n",
      "`FIRRTL_AFTER_INITIAL\n",
      "`endif\n",
      "`endif // SYNTHESIS\n",
      "endmodule\n",
      "\n"
     ]
    }
   ],
   "source": [
    "println (getVerilog(new LoopyCounter(4)))"
   ]
  },
  {
   "cell_type": "markdown",
   "id": "1f387103-1aad-41d9-b4e0-6178cb5e70c8",
   "metadata": {
    "cell_style": "split"
   },
   "source": [
    "<img src=\"images/combo.svg\" alt=\"combinational loop example\" style=\"width:60%;margin-left:auto;margin-right:auto\"/>"
   ]
  },
  {
   "cell_type": "markdown",
   "id": "featured-luxury",
   "metadata": {
    "slideshow": {
     "slide_type": "slide"
    }
   },
   "source": [
    "## Example: Using Chisel `Valid` (1/2)"
   ]
  },
  {
   "cell_type": "code",
   "execution_count": 54,
   "id": "nutritional-pioneer",
   "metadata": {},
   "outputs": [
    {
     "data": {
      "text/plain": [
       "defined \u001b[32mclass\u001b[39m \u001b[36mMakeValid\u001b[39m"
      ]
     },
     "execution_count": 54,
     "metadata": {},
     "output_type": "execute_result"
    }
   ],
   "source": [
    "class MakeValid(w: Int) extends Module {\n",
    "    val io = IO(new Bundle {\n",
    "        val en  = Input(Bool())\n",
    "        val in  = Input(UInt(w.W))\n",
    "        val out = Valid(UInt(w.W))\n",
    "    })\n",
    "    io.out.valid := io.en\n",
    "    io.out.bits := io.in\n",
    "}\n",
    "\n",
    "//printVerilog(new MakeValid(4))"
   ]
  },
  {
   "cell_type": "code",
   "execution_count": 55,
   "id": "e63f54ad-b6f9-42f4-a76b-ef27b96a87df",
   "metadata": {},
   "outputs": [
    {
     "name": "stdout",
     "output_type": "stream",
     "text": [
      "Elaborating design...\n",
      "Done elaborating.\n",
      "module MakeValid(\n",
      "  input        clock,\n",
      "  input        reset,\n",
      "  input        io_en,\n",
      "  input  [3:0] io_in,\n",
      "  output       io_out_valid,\n",
      "  output [3:0] io_out_bits\n",
      ");\n",
      "  assign io_out_valid = io_en; // @[cmd53.sc 7:18]\n",
      "  assign io_out_bits = io_in; // @[cmd53.sc 8:17]\n",
      "endmodule\n",
      "\n"
     ]
    }
   ],
   "source": [
    "println (getVerilog(new MakeValid(4)))"
   ]
  },
  {
   "cell_type": "markdown",
   "id": "altered-absorption",
   "metadata": {
    "slideshow": {
     "slide_type": "slide"
    }
   },
   "source": [
    "## Example: Using Chisel `Valid` (2/2)"
   ]
  },
  {
   "cell_type": "code",
   "execution_count": 56,
   "id": "thrown-footage",
   "metadata": {},
   "outputs": [
    {
     "name": "stdout",
     "output_type": "stream",
     "text": [
      "Elaborating design...\n",
      "Done elaborating.\n",
      "cycle: 0\n",
      "  received   0\n",
      "cycle: 1\n",
      "cycle: 2\n",
      "  received   2\n",
      "cycle: 3\n",
      "cycle: 4\n",
      "  received   4\n",
      "cycle: 5\n",
      "cycle: 6\n",
      "  received   6\n",
      "cycle: 7\n",
      "test ValidReceiver Success: 0 tests passed in 10 cycles in 0.015906 seconds 628.70 Hz\n"
     ]
    },
    {
     "data": {
      "text/plain": [
       "defined \u001b[32mclass\u001b[39m \u001b[36mValidReceiver\u001b[39m"
      ]
     },
     "execution_count": 56,
     "metadata": {},
     "output_type": "execute_result"
    }
   ],
   "source": [
    "class ValidReceiver(w: Int) extends Module {\n",
    "    val io = IO(new Bundle {\n",
    "        val in = Flipped(Valid(UInt(w.W)))\n",
    "    })\n",
    "    when (io.in.valid) {\n",
    "        printf(\"  received %d\\n\", io.in.bits)\n",
    "    }\n",
    "}\n",
    "\n",
    "// printVerilog(new ValidReceiver(4))\n",
    "test(new ValidReceiver(4)) { c =>\n",
    "    for (cycle <- 0 until 8) {\n",
    "        c.io.in.bits.poke(cycle.U)\n",
    "        println(s\"cycle: $cycle\")\n",
    "        c.io.in.valid.poke((cycle%2 == 0).B)\n",
    "        c.clock.step()\n",
    "    }\n",
    "}"
   ]
  },
  {
   "cell_type": "code",
   "execution_count": 57,
   "id": "77328eb6-4f51-4b85-bca3-b5d9674e1797",
   "metadata": {},
   "outputs": [
    {
     "name": "stdout",
     "output_type": "stream",
     "text": [
      "Elaborating design...\n",
      "Done elaborating.\n",
      "module ValidReceiver(\n",
      "  input        clock,\n",
      "  input        reset,\n",
      "  input        io_in_valid,\n",
      "  input  [3:0] io_in_bits\n",
      ");\n",
      "  always @(posedge clock) begin\n",
      "    `ifndef SYNTHESIS\n",
      "    `ifdef PRINTF_COND\n",
      "      if (`PRINTF_COND) begin\n",
      "    `endif\n",
      "        if (io_in_valid & ~reset) begin\n",
      "          $fwrite(32'h80000002,\"  received %d\\n\",io_in_bits); // @[cmd55.sc 6:15]\n",
      "        end\n",
      "    `ifdef PRINTF_COND\n",
      "      end\n",
      "    `endif\n",
      "    `endif // SYNTHESIS\n",
      "  end\n",
      "endmodule\n",
      "\n"
     ]
    }
   ],
   "source": [
    "println (getVerilog(new ValidReceiver(4)))"
   ]
  },
  {
   "cell_type": "markdown",
   "id": "systematic-arrest",
   "metadata": {
    "slideshow": {
     "slide_type": "slide"
    }
   },
   "source": [
    "## Example: Using Chisel `Decoupled` (1/2)"
   ]
  },
  {
   "cell_type": "code",
   "execution_count": 58,
   "id": "infectious-coach",
   "metadata": {},
   "outputs": [
    {
     "data": {
      "text/plain": [
       "defined \u001b[32mclass\u001b[39m \u001b[36mCountWhenReady\u001b[39m"
      ]
     },
     "execution_count": 58,
     "metadata": {},
     "output_type": "execute_result"
    }
   ],
   "source": [
    "class CountWhenReady(maxVal: Int) extends Module {\n",
    "    val io = IO(new Bundle {\n",
    "        val en  = Input(Bool())\n",
    "        val out = Decoupled(UInt())\n",
    "    })\n",
    "    val advanceCounter = io.en && io.out.ready\n",
    "    val (count, wrap) = Counter(advanceCounter, maxVal)\n",
    "    io.out.bits := count\n",
    "    io.out.valid := io.en\n",
    "}\n",
    "\n",
    "//printVerilog(new CountWhenReady(4))"
   ]
  },
  {
   "cell_type": "code",
   "execution_count": 59,
   "id": "0109416f-7b5f-45cb-a6b7-32912f00762b",
   "metadata": {},
   "outputs": [
    {
     "name": "stdout",
     "output_type": "stream",
     "text": [
      "Elaborating design...\n",
      "Done elaborating.\n",
      "module CountWhenReady(\n",
      "  input        clock,\n",
      "  input        reset,\n",
      "  input        io_en,\n",
      "  input        io_out_ready,\n",
      "  output       io_out_valid,\n",
      "  output [1:0] io_out_bits\n",
      ");\n",
      "`ifdef RANDOMIZE_REG_INIT\n",
      "  reg [31:0] _RAND_0;\n",
      "`endif // RANDOMIZE_REG_INIT\n",
      "  wire  advanceCounter = io_en & io_out_ready; // @[cmd57.sc 6:32]\n",
      "  reg [1:0] count; // @[Counter.scala 60:40]\n",
      "  wire [1:0] _wrap_value_T_1 = count + 2'h1; // @[Counter.scala 76:24]\n",
      "  assign io_out_valid = io_en; // @[cmd57.sc 9:18]\n",
      "  assign io_out_bits = count; // @[cmd57.sc 8:17]\n",
      "  always @(posedge clock) begin\n",
      "    if (reset) begin // @[Counter.scala 60:40]\n",
      "      count <= 2'h0; // @[Counter.scala 60:40]\n",
      "    end else if (advanceCounter) begin // @[Counter.scala 118:17]\n",
      "      count <= _wrap_value_T_1; // @[Counter.scala 76:15]\n",
      "    end\n",
      "  end\n",
      "// Register and memory initialization\n",
      "`ifdef RANDOMIZE_GARBAGE_ASSIGN\n",
      "`define RANDOMIZE\n",
      "`endif\n",
      "`ifdef RANDOMIZE_INVALID_ASSIGN\n",
      "`define RANDOMIZE\n",
      "`endif\n",
      "`ifdef RANDOMIZE_REG_INIT\n",
      "`define RANDOMIZE\n",
      "`endif\n",
      "`ifdef RANDOMIZE_MEM_INIT\n",
      "`define RANDOMIZE\n",
      "`endif\n",
      "`ifndef RANDOM\n",
      "`define RANDOM $random\n",
      "`endif\n",
      "`ifdef RANDOMIZE_MEM_INIT\n",
      "  integer initvar;\n",
      "`endif\n",
      "`ifndef SYNTHESIS\n",
      "`ifdef FIRRTL_BEFORE_INITIAL\n",
      "`FIRRTL_BEFORE_INITIAL\n",
      "`endif\n",
      "initial begin\n",
      "  `ifdef RANDOMIZE\n",
      "    `ifdef INIT_RANDOM\n",
      "      `INIT_RANDOM\n",
      "    `endif\n",
      "    `ifndef VERILATOR\n",
      "      `ifdef RANDOMIZE_DELAY\n",
      "        #`RANDOMIZE_DELAY begin end\n",
      "      `else\n",
      "        #0.002 begin end\n",
      "      `endif\n",
      "    `endif\n",
      "`ifdef RANDOMIZE_REG_INIT\n",
      "  _RAND_0 = {1{`RANDOM}};\n",
      "  count = _RAND_0[1:0];\n",
      "`endif // RANDOMIZE_REG_INIT\n",
      "  `endif // RANDOMIZE\n",
      "end // initial\n",
      "`ifdef FIRRTL_AFTER_INITIAL\n",
      "`FIRRTL_AFTER_INITIAL\n",
      "`endif\n",
      "`endif // SYNTHESIS\n",
      "endmodule\n",
      "\n"
     ]
    }
   ],
   "source": [
    "println (getVerilog(new CountWhenReady(4)))"
   ]
  },
  {
   "cell_type": "markdown",
   "id": "emotional-thailand",
   "metadata": {
    "slideshow": {
     "slide_type": "slide"
    }
   },
   "source": [
    "## `Decoupled` Helper Functions\n",
    "\n",
    "* Convenience functions that wrap up functionality & improve readability ([code](https://github.com/chipsalliance/chisel/blob/0600e1e1875311fbe6ad8584f24def61594f79cc/src/main/scala/chisel3/util/Decoupled.scala#L48))\n",
    "    * Internally, they are Scala functions working on Chisel things\n",
    "* `fire` - Bool that is true if and only if ready & valid\n",
    "* `enq(data)` - Sends data and sets valid to true (doesn't check ready)\n",
    "* `noenq` - Sets valid to false\n",
    "* `deq`/`nodeq` - Like enq/noenq for receiver"
   ]
  },
  {
   "cell_type": "markdown",
   "id": "stuffed-feelings",
   "metadata": {
    "slideshow": {
     "slide_type": "slide"
    }
   },
   "source": [
    "## Example: Using Chisel `Decoupled` (2/2)"
   ]
  },
  {
   "cell_type": "code",
   "execution_count": 60,
   "id": "above-sunday",
   "metadata": {
    "cell_style": "center"
   },
   "outputs": [
    {
     "name": "stdout",
     "output_type": "stream",
     "text": [
      "Elaborating design...\n",
      "Done elaborating.\n",
      "cycle: 0, count: UInt<1>(0)\n",
      "cycle: 1, count: UInt<1>(0)\n",
      "cycle: 2, count: UInt<1>(1)\n",
      "cycle: 3, count: UInt<1>(1)\n",
      "cycle: 4, count: UInt<2>(2)\n",
      "cycle: 5, count: UInt<2>(2)\n",
      "cycle: 6, count: UInt<1>(0)\n",
      "test CountWhenReady Success: 0 tests passed in 9 cycles in 0.009036 seconds 995.96 Hz\n"
     ]
    },
    {
     "data": {
      "text/plain": [
       "defined \u001b[32mclass\u001b[39m \u001b[36mCountWhenReady\u001b[39m"
      ]
     },
     "execution_count": 60,
     "metadata": {},
     "output_type": "execute_result"
    }
   ],
   "source": [
    "class CountWhenReady(maxVal: Int) extends Module {\n",
    "    val io = IO(new Bundle {\n",
    "        val en  = Input(Bool())\n",
    "        val out = Decoupled(UInt())\n",
    "    })\n",
    "    val (count, wrap) = Counter(io.out.fire, maxVal)\n",
    "    when (io.en) {\n",
    "        io.out.enq(count)\n",
    "//         io.out.bits := count\n",
    "//         io.out.valid := true.B\n",
    "    } .otherwise {\n",
    "        io.out.noenq()\n",
    "//         io.out.bits := DontCare\n",
    "//         io.out.valid := false.B\n",
    "    }\n",
    "}\n",
    "\n",
    "// printVerilog(new CountWhenReady(3))\n",
    "\n",
    "test(new CountWhenReady(3)) { c =>\n",
    "    c.io.en.poke(true.B)\n",
    "    for (cycle <- 0 until 7) {\n",
    "        c.io.out.ready.poke((cycle%2 == 1).B)\n",
    "        println(s\"cycle: $cycle, count: ${c.io.out.bits.peek()}\")\n",
    "        c.clock.step()\n",
    "    }\n",
    "}"
   ]
  },
  {
   "cell_type": "code",
   "execution_count": 61,
   "id": "c30e5348-9d6f-4d4d-9521-d8acc166320e",
   "metadata": {},
   "outputs": [
    {
     "name": "stdout",
     "output_type": "stream",
     "text": [
      "Elaborating design...\n",
      "Done elaborating.\n",
      "module CountWhenReady(\n",
      "  input        clock,\n",
      "  input        reset,\n",
      "  input        io_en,\n",
      "  input        io_out_ready,\n",
      "  output       io_out_valid,\n",
      "  output [1:0] io_out_bits\n",
      ");\n",
      "`ifdef RANDOMIZE_REG_INIT\n",
      "  reg [31:0] _RAND_0;\n",
      "`endif // RANDOMIZE_REG_INIT\n",
      "  wire  _T = io_out_ready & io_out_valid; // @[Decoupled.scala 40:37]\n",
      "  reg [1:0] count; // @[Counter.scala 60:40]\n",
      "  wire  wrap_wrap = count == 2'h2; // @[Counter.scala 72:24]\n",
      "  wire [1:0] _wrap_value_T_1 = count + 2'h1; // @[Counter.scala 76:24]\n",
      "  assign io_out_valid = io_en; // @[cmd59.sc 7:18 Decoupled.scala 47:20 Decoupled.scala 56:20]\n",
      "  assign io_out_bits = count; // @[cmd59.sc 7:18 Decoupled.scala 48:19]\n",
      "  always @(posedge clock) begin\n",
      "    if (reset) begin // @[Counter.scala 60:40]\n",
      "      count <= 2'h0; // @[Counter.scala 60:40]\n",
      "    end else if (_T) begin // @[Counter.scala 118:17]\n",
      "      if (wrap_wrap) begin // @[Counter.scala 86:20]\n",
      "        count <= 2'h0; // @[Counter.scala 86:28]\n",
      "      end else begin\n",
      "        count <= _wrap_value_T_1; // @[Counter.scala 76:15]\n",
      "      end\n",
      "    end\n",
      "  end\n",
      "// Register and memory initialization\n",
      "`ifdef RANDOMIZE_GARBAGE_ASSIGN\n",
      "`define RANDOMIZE\n",
      "`endif\n",
      "`ifdef RANDOMIZE_INVALID_ASSIGN\n",
      "`define RANDOMIZE\n",
      "`endif\n",
      "`ifdef RANDOMIZE_REG_INIT\n",
      "`define RANDOMIZE\n",
      "`endif\n",
      "`ifdef RANDOMIZE_MEM_INIT\n",
      "`define RANDOMIZE\n",
      "`endif\n",
      "`ifndef RANDOM\n",
      "`define RANDOM $random\n",
      "`endif\n",
      "`ifdef RANDOMIZE_MEM_INIT\n",
      "  integer initvar;\n",
      "`endif\n",
      "`ifndef SYNTHESIS\n",
      "`ifdef FIRRTL_BEFORE_INITIAL\n",
      "`FIRRTL_BEFORE_INITIAL\n",
      "`endif\n",
      "initial begin\n",
      "  `ifdef RANDOMIZE\n",
      "    `ifdef INIT_RANDOM\n",
      "      `INIT_RANDOM\n",
      "    `endif\n",
      "    `ifndef VERILATOR\n",
      "      `ifdef RANDOMIZE_DELAY\n",
      "        #`RANDOMIZE_DELAY begin end\n",
      "      `else\n",
      "        #0.002 begin end\n",
      "      `endif\n",
      "    `endif\n",
      "`ifdef RANDOMIZE_REG_INIT\n",
      "  _RAND_0 = {1{`RANDOM}};\n",
      "  count = _RAND_0[1:0];\n",
      "`endif // RANDOMIZE_REG_INIT\n",
      "  `endif // RANDOMIZE\n",
      "end // initial\n",
      "`ifdef FIRRTL_AFTER_INITIAL\n",
      "`FIRRTL_AFTER_INITIAL\n",
      "`endif\n",
      "`endif // SYNTHESIS\n",
      "endmodule\n",
      "\n"
     ]
    }
   ],
   "source": [
    "println (getVerilog(new CountWhenReady(3)))"
   ]
  },
  {
   "cell_type": "markdown",
   "id": "b923c483-e01d-438b-b3e4-312973d29b5a",
   "metadata": {
    "slideshow": {
     "slide_type": "slide"
    }
   },
   "source": [
    "## Using Queues to Handle Backpressure\n",
    "\n",
    "* If traffic is bursty, can use a _queue_ to smooth traffic rate\n",
    "  * Queue fills up when too much demand\n",
    "  * When demand wanes, can drain queue\n",
    "* A queue can't solve a throughput mismatch\n",
    "  * If always _production rate_ > _consumption rate_, queue can't help\n",
    "* A queue is a great place to use _decoupled_ interfaces\n",
    "* Chisel's util provides `Queue` generator\n",
    "\n",
    "<img src=\"images/queue.svg\" alt=\"ready/valid schematic\" style=\"width:65%;margin-left:auto;margin-right:auto\"/>"
   ]
  },
  {
   "cell_type": "markdown",
   "id": "c0c4aebc-662d-4a9c-bf71-3cc477440714",
   "metadata": {
    "slideshow": {
     "slide_type": "slide"
    }
   },
   "source": [
    "## Using Chisel's `Queue`\n",
    "\n",
    "* Part of `util` ([docs](https://javadoc.io/doc/edu.berkeley.cs/chisel3_2.13/latest/chisel3/util/Queue.html))\n",
    "* Uses `Decoupled` for both input and output\n",
    "* Specify type and number of entries `Queue(UInt(4.W), 8)`\n",
    "* Additional optional arguments\n",
    "  * `pipe` - if full, allow enqueue/dequeue at same time\n",
    "  * `flow` - if empty, enqueued value available immediately for dequeue\n",
    "\n",
    "<img src=\"images/queueReady.svg\" alt=\"ready/valid schematic\" style=\"width:85%;margin-left:auto;margin-right:auto\"/>"
   ]
  },
  {
   "cell_type": "markdown",
   "id": "micro-animation",
   "metadata": {
    "slideshow": {
     "slide_type": "slide"
    }
   },
   "source": [
    "## Chisel `Queue` Demo (1/2)"
   ]
  },
  {
   "cell_type": "code",
   "execution_count": 62,
   "id": "varying-gambling",
   "metadata": {
    "scrolled": true
   },
   "outputs": [
    {
     "data": {
      "text/plain": [
       "defined \u001b[32mclass\u001b[39m \u001b[36mCountIntoQueue\u001b[39m"
      ]
     },
     "execution_count": 62,
     "metadata": {},
     "output_type": "execute_result"
    }
   ],
   "source": [
    "class CountIntoQueue(maxVal: Int, numEntries: Int, pipe: Boolean, flow: Boolean) extends Module {\n",
    "    val io = IO(new Bundle {\n",
    "        val en  = Input(Bool())\n",
    "        val out = Decoupled(UInt())\n",
    "        val count = Output(UInt())\n",
    "    })\n",
    "    val q = Module(new Queue(UInt(), numEntries, pipe=pipe, flow=flow))\n",
    "    val (count, wrap) = Counter(q.io.enq.fire, maxVal)\n",
    "    q.io.enq.valid := io.en\n",
    "    q.io.enq.bits := count\n",
    "    io.out <> q.io.deq\n",
    "    io.count := count // for visibility\n",
    "}\n",
    "\n",
    "// printVerilog(new CountIntoQueue(3,1,false,false))"
   ]
  },
  {
   "cell_type": "code",
   "execution_count": 63,
   "id": "b3b81037-05fa-4337-8af5-bce286d15df2",
   "metadata": {
    "scrolled": true
   },
   "outputs": [
    {
     "name": "stdout",
     "output_type": "stream",
     "text": [
      "Elaborating design...\n",
      "Done elaborating.\n",
      "module Queue(\n",
      "  input        clock,\n",
      "  input        reset,\n",
      "  output       io_enq_ready,\n",
      "  input        io_enq_valid,\n",
      "  input  [1:0] io_enq_bits,\n",
      "  input        io_deq_ready,\n",
      "  output       io_deq_valid,\n",
      "  output [1:0] io_deq_bits\n",
      ");\n",
      "`ifdef RANDOMIZE_MEM_INIT\n",
      "  reg [31:0] _RAND_0;\n",
      "`endif // RANDOMIZE_MEM_INIT\n",
      "`ifdef RANDOMIZE_REG_INIT\n",
      "  reg [31:0] _RAND_1;\n",
      "`endif // RANDOMIZE_REG_INIT\n",
      "  reg [1:0] ram [0:0]; // @[Decoupled.scala 218:16]\n",
      "  wire [1:0] ram_io_deq_bits_MPORT_data; // @[Decoupled.scala 218:16]\n",
      "  wire  ram_io_deq_bits_MPORT_addr; // @[Decoupled.scala 218:16]\n",
      "  wire [1:0] ram_MPORT_data; // @[Decoupled.scala 218:16]\n",
      "  wire  ram_MPORT_addr; // @[Decoupled.scala 218:16]\n",
      "  wire  ram_MPORT_mask; // @[Decoupled.scala 218:16]\n",
      "  wire  ram_MPORT_en; // @[Decoupled.scala 218:16]\n",
      "  reg  maybe_full; // @[Decoupled.scala 221:27]\n",
      "  wire  empty = ~maybe_full; // @[Decoupled.scala 224:28]\n",
      "  wire  do_enq = io_enq_ready & io_enq_valid; // @[Decoupled.scala 40:37]\n",
      "  wire  do_deq = io_deq_ready & io_deq_valid; // @[Decoupled.scala 40:37]\n",
      "  assign ram_io_deq_bits_MPORT_addr = 1'h0;\n",
      "  assign ram_io_deq_bits_MPORT_data = ram[ram_io_deq_bits_MPORT_addr]; // @[Decoupled.scala 218:16]\n",
      "  assign ram_MPORT_data = io_enq_bits;\n",
      "  assign ram_MPORT_addr = 1'h0;\n",
      "  assign ram_MPORT_mask = 1'h1;\n",
      "  assign ram_MPORT_en = io_enq_ready & io_enq_valid;\n",
      "  assign io_enq_ready = ~maybe_full; // @[Decoupled.scala 241:19]\n",
      "  assign io_deq_valid = ~empty; // @[Decoupled.scala 240:19]\n",
      "  assign io_deq_bits = ram_io_deq_bits_MPORT_data; // @[Decoupled.scala 242:15]\n",
      "  always @(posedge clock) begin\n",
      "    if(ram_MPORT_en & ram_MPORT_mask) begin\n",
      "      ram[ram_MPORT_addr] <= ram_MPORT_data; // @[Decoupled.scala 218:16]\n",
      "    end\n",
      "    if (reset) begin // @[Decoupled.scala 221:27]\n",
      "      maybe_full <= 1'h0; // @[Decoupled.scala 221:27]\n",
      "    end else if (do_enq != do_deq) begin // @[Decoupled.scala 236:28]\n",
      "      maybe_full <= do_enq; // @[Decoupled.scala 237:16]\n",
      "    end\n",
      "  end\n",
      "// Register and memory initialization\n",
      "`ifdef RANDOMIZE_GARBAGE_ASSIGN\n",
      "`define RANDOMIZE\n",
      "`endif\n",
      "`ifdef RANDOMIZE_INVALID_ASSIGN\n",
      "`define RANDOMIZE\n",
      "`endif\n",
      "`ifdef RANDOMIZE_REG_INIT\n",
      "`define RANDOMIZE\n",
      "`endif\n",
      "`ifdef RANDOMIZE_MEM_INIT\n",
      "`define RANDOMIZE\n",
      "`endif\n",
      "`ifndef RANDOM\n",
      "`define RANDOM $random\n",
      "`endif\n",
      "`ifdef RANDOMIZE_MEM_INIT\n",
      "  integer initvar;\n",
      "`endif\n",
      "`ifndef SYNTHESIS\n",
      "`ifdef FIRRTL_BEFORE_INITIAL\n",
      "`FIRRTL_BEFORE_INITIAL\n",
      "`endif\n",
      "initial begin\n",
      "  `ifdef RANDOMIZE\n",
      "    `ifdef INIT_RANDOM\n",
      "      `INIT_RANDOM\n",
      "    `endif\n",
      "    `ifndef VERILATOR\n",
      "      `ifdef RANDOMIZE_DELAY\n",
      "        #`RANDOMIZE_DELAY begin end\n",
      "      `else\n",
      "        #0.002 begin end\n",
      "      `endif\n",
      "    `endif\n",
      "`ifdef RANDOMIZE_MEM_INIT\n",
      "  _RAND_0 = {1{`RANDOM}};\n",
      "  for (initvar = 0; initvar < 1; initvar = initvar+1)\n",
      "    ram[initvar] = _RAND_0[1:0];\n",
      "`endif // RANDOMIZE_MEM_INIT\n",
      "`ifdef RANDOMIZE_REG_INIT\n",
      "  _RAND_1 = {1{`RANDOM}};\n",
      "  maybe_full = _RAND_1[0:0];\n",
      "`endif // RANDOMIZE_REG_INIT\n",
      "  `endif // RANDOMIZE\n",
      "end // initial\n",
      "`ifdef FIRRTL_AFTER_INITIAL\n",
      "`FIRRTL_AFTER_INITIAL\n",
      "`endif\n",
      "`endif // SYNTHESIS\n",
      "endmodule\n",
      "module CountIntoQueue(\n",
      "  input        clock,\n",
      "  input        reset,\n",
      "  input        io_en,\n",
      "  input        io_out_ready,\n",
      "  output       io_out_valid,\n",
      "  output [1:0] io_out_bits,\n",
      "  output [1:0] io_count\n",
      ");\n",
      "`ifdef RANDOMIZE_REG_INIT\n",
      "  reg [31:0] _RAND_0;\n",
      "`endif // RANDOMIZE_REG_INIT\n",
      "  wire  q_clock; // @[cmd61.sc 7:19]\n",
      "  wire  q_reset; // @[cmd61.sc 7:19]\n",
      "  wire  q_io_enq_ready; // @[cmd61.sc 7:19]\n",
      "  wire  q_io_enq_valid; // @[cmd61.sc 7:19]\n",
      "  wire [1:0] q_io_enq_bits; // @[cmd61.sc 7:19]\n",
      "  wire  q_io_deq_ready; // @[cmd61.sc 7:19]\n",
      "  wire  q_io_deq_valid; // @[cmd61.sc 7:19]\n",
      "  wire [1:0] q_io_deq_bits; // @[cmd61.sc 7:19]\n",
      "  wire  _T = q_io_enq_ready & q_io_enq_valid; // @[Decoupled.scala 40:37]\n",
      "  reg [1:0] count; // @[Counter.scala 60:40]\n",
      "  wire  wrap_wrap = count == 2'h2; // @[Counter.scala 72:24]\n",
      "  wire [1:0] _wrap_value_T_1 = count + 2'h1; // @[Counter.scala 76:24]\n",
      "  Queue q ( // @[cmd61.sc 7:19]\n",
      "    .clock(q_clock),\n",
      "    .reset(q_reset),\n",
      "    .io_enq_ready(q_io_enq_ready),\n",
      "    .io_enq_valid(q_io_enq_valid),\n",
      "    .io_enq_bits(q_io_enq_bits),\n",
      "    .io_deq_ready(q_io_deq_ready),\n",
      "    .io_deq_valid(q_io_deq_valid),\n",
      "    .io_deq_bits(q_io_deq_bits)\n",
      "  );\n",
      "  assign io_out_valid = q_io_deq_valid; // @[cmd61.sc 11:12]\n",
      "  assign io_out_bits = q_io_deq_bits; // @[cmd61.sc 11:12]\n",
      "  assign io_count = count; // @[cmd61.sc 12:14]\n",
      "  assign q_clock = clock;\n",
      "  assign q_reset = reset;\n",
      "  assign q_io_enq_valid = io_en; // @[cmd61.sc 9:20]\n",
      "  assign q_io_enq_bits = count; // @[cmd61.sc 10:19]\n",
      "  assign q_io_deq_ready = io_out_ready; // @[cmd61.sc 11:12]\n",
      "  always @(posedge clock) begin\n",
      "    if (reset) begin // @[Counter.scala 60:40]\n",
      "      count <= 2'h0; // @[Counter.scala 60:40]\n",
      "    end else if (_T) begin // @[Counter.scala 118:17]\n",
      "      if (wrap_wrap) begin // @[Counter.scala 86:20]\n",
      "        count <= 2'h0; // @[Counter.scala 86:28]\n",
      "      end else begin\n",
      "        count <= _wrap_value_T_1; // @[Counter.scala 76:15]\n",
      "      end\n",
      "    end\n",
      "  end\n",
      "// Register and memory initialization\n",
      "`ifdef RANDOMIZE_GARBAGE_ASSIGN\n",
      "`define RANDOMIZE\n",
      "`endif\n",
      "`ifdef RANDOMIZE_INVALID_ASSIGN\n",
      "`define RANDOMIZE\n",
      "`endif\n",
      "`ifdef RANDOMIZE_REG_INIT\n",
      "`define RANDOMIZE\n",
      "`endif\n",
      "`ifdef RANDOMIZE_MEM_INIT\n",
      "`define RANDOMIZE\n",
      "`endif\n",
      "`ifndef RANDOM\n",
      "`define RANDOM $random\n",
      "`endif\n",
      "`ifdef RANDOMIZE_MEM_INIT\n",
      "  integer initvar;\n",
      "`endif\n",
      "`ifndef SYNTHESIS\n",
      "`ifdef FIRRTL_BEFORE_INITIAL\n",
      "`FIRRTL_BEFORE_INITIAL\n",
      "`endif\n",
      "initial begin\n",
      "  `ifdef RANDOMIZE\n",
      "    `ifdef INIT_RANDOM\n",
      "      `INIT_RANDOM\n",
      "    `endif\n",
      "    `ifndef VERILATOR\n",
      "      `ifdef RANDOMIZE_DELAY\n",
      "        #`RANDOMIZE_DELAY begin end\n",
      "      `else\n",
      "        #0.002 begin end\n",
      "      `endif\n",
      "    `endif\n",
      "`ifdef RANDOMIZE_REG_INIT\n",
      "  _RAND_0 = {1{`RANDOM}};\n",
      "  count = _RAND_0[1:0];\n",
      "`endif // RANDOMIZE_REG_INIT\n",
      "  `endif // RANDOMIZE\n",
      "end // initial\n",
      "`ifdef FIRRTL_AFTER_INITIAL\n",
      "`FIRRTL_AFTER_INITIAL\n",
      "`endif\n",
      "`endif // SYNTHESIS\n",
      "endmodule\n",
      "\n"
     ]
    }
   ],
   "source": [
    "println (getVerilog(new CountIntoQueue(3,1,false,false)))"
   ]
  },
  {
   "cell_type": "markdown",
   "id": "banned-reaction",
   "metadata": {
    "slideshow": {
     "slide_type": "slide"
    }
   },
   "source": [
    "## Chisel `Queue` Demo (2/2)"
   ]
  },
  {
   "cell_type": "code",
   "execution_count": 64,
   "id": "cathedral-toolbox",
   "metadata": {},
   "outputs": [
    {
     "name": "stdout",
     "output_type": "stream",
     "text": [
      "Elaborating design...\n",
      "Done elaborating.\n",
      "f count:UInt<1>(0) out:UInt<1>(0) v:Bool(false)\n",
      "f count:UInt<1>(1) out:UInt<1>(0) v:Bool(true)\n",
      "f count:UInt<2>(2) out:UInt<1>(0) v:Bool(true)\n",
      "f count:UInt<2>(3) out:UInt<1>(0) v:Bool(true)\n",
      "\n",
      "d count:UInt<2>(3) out:UInt<1>(0) v:Bool(true)\n",
      "d count:UInt<2>(3) out:UInt<1>(1) v:Bool(true)\n",
      "d count:UInt<2>(3) out:UInt<2>(2) v:Bool(true)\n",
      "d count:UInt<2>(3) out:UInt<1>(0) v:Bool(false)\n",
      "\n",
      "s count:UInt<2>(3) out:UInt<1>(0) v:Bool(false)\n",
      "s count:UInt<1>(0) out:UInt<2>(3) v:Bool(true)\n",
      "s count:UInt<1>(1) out:UInt<1>(0) v:Bool(true)\n",
      "s count:UInt<2>(2) out:UInt<1>(1) v:Bool(true)\n",
      "test CountIntoQueue Success: 0 tests passed in 14 cycles in 0.020419 seconds 685.63 Hz\n"
     ]
    }
   ],
   "source": [
    "test(new CountIntoQueue(4,3,pipe=false,flow=false)) { c =>\n",
    "    c.io.en.poke(true.B)\n",
    "    c.io.out.ready.poke(false.B)\n",
    "    for (cycle <- 0 until 4) {   // Fill up queue\n",
    "        println(s\"f count:${c.io.count.peek()} out:${c.io.out.bits.peek()} v:${c.io.out.valid.peek()}\")\n",
    "        c.clock.step()\n",
    "    }\n",
    "    println()\n",
    "    c.io.en.poke(false.B)\n",
    "    c.io.out.ready.poke(true.B)\n",
    "    for (cycle <- 0 until 4) {   // Drain queue\n",
    "        println(s\"d count:${c.io.count.peek()} out:${c.io.out.bits.peek()} v:${c.io.out.valid.peek()}\")\n",
    "        c.clock.step()\n",
    "    }\n",
    "    println()\n",
    "    c.io.en.poke(true.B)\n",
    "    for (cycle <- 0 until 4) {   // Simultaneous\n",
    "        println(s\"s count:${c.io.count.peek()} out:${c.io.out.bits.peek()} v:${c.io.out.valid.peek()}\")\n",
    "        c.clock.step()\n",
    "    }\n",
    "}"
   ]
  }
 ],
 "metadata": {
  "celltoolbar": "Slideshow",
  "kernelspec": {
   "display_name": "Scala 2.12.11",
   "language": "scala",
   "name": "scala_2_12_11"
  },
  "language_info": {
   "codemirror_mode": "text/x-scala",
   "file_extension": ".scala",
   "mimetype": "text/x-scala",
   "name": "scala",
   "nbconvert_exporter": "script",
   "version": "2.12.11"
  }
 },
 "nbformat": 4,
 "nbformat_minor": 5
}
