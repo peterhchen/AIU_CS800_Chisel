{
 "cells": [
  {
   "cell_type": "markdown",
   "id": "external-thermal",
   "metadata": {
    "slideshow": {
     "slide_type": "slide"
    }
   },
   "source": [
    "## Agile Hardware Design\n",
    "***\n",
    "# Sequential Circuits\n",
    "\n",
    "<img src=\"../resource/logo.svg\" alt=\"agile hardware design logo\" style=\"float:right\"/>\n",
    "\n",
    "## Prof. Scott Beamer\n",
    "### sbeamer@ucsc.edu\n",
    "\n",
    "## [CSE 228A](https://classes.soe.ucsc.edu/cse228a/Winter24/)"
   ]
  },
  {
   "cell_type": "markdown",
   "id": "nominated-consistency",
   "metadata": {
    "slideshow": {
     "slide_type": "slide"
    }
   },
   "source": [
    "## Plan for Today\n",
    "\n",
    "* Registers!\n",
    "* Example sequential blocks\n",
    "* State machines\n",
    "* Viewing simulation results"
   ]
  },
  {
   "cell_type": "markdown",
   "id": "242cf4d3-2b56-48d5-9b58-13f5ba18050a",
   "metadata": {},
   "source": [
    "## Test Chisel Library ##"
   ]
  },
  {
   "cell_type": "code",
   "execution_count": 1,
   "id": "3d648d76-18bd-4efb-8dbd-bde41dc44098",
   "metadata": {
    "scrolled": true
   },
   "outputs": [
    {
     "name": "stdout",
     "output_type": "stream",
     "text": [
      "path: /home/peter/AIU/AIU_CS800_Chisel/500_UCSC_HWD/004_SeqCircuit/001_Code/source/load-ivy.sc\n",
      "Compiling /home/peter/AIU/AIU_CS800_Chisel/500_UCSC_HWD/004_SeqCircuit/001_Code/Main.scCompiling /home/peter/AIU/AIU_CS800_Chisel/500_UCSC_HWD/004_SeqCircuit/001_Code/Main.sc #2"
     ]
    },
    {
     "data": {
      "text/plain": [
       "\u001b[36mpath\u001b[39m: \u001b[32mString\u001b[39m = \u001b[32m\"/home/peter/AIU/AIU_CS800_Chisel/500_UCSC_HWD/004_SeqCircuit/001_Code/source/load-ivy.sc\"\u001b[39m"
      ]
     },
     "execution_count": 1,
     "metadata": {},
     "output_type": "execute_result"
    }
   ],
   "source": [
    "// Before we start. We test for UCB stcture and make sure they worked.\n",
    "// Below, we test for UCB stcture and make sure they worked.\n",
    "val path = System.getProperty(\"user.dir\") + \"/source/load-ivy.sc\"\n",
    "println(\"path: \"+path)\n",
    "interp.load.module(ammonite.ops.Path(java.nio.file.FileSystems.getDefault().getPath(path)))"
   ]
  },
  {
   "cell_type": "markdown",
   "id": "regular-reducing",
   "metadata": {
    "slideshow": {
     "slide_type": "slide"
    }
   },
   "source": [
    "## Loading The Chisel Library Into a Notebook"
   ]
  },
  {
   "cell_type": "code",
   "execution_count": 3,
   "id": "robust-immigration",
   "metadata": {},
   "outputs": [],
   "source": [
    "//interp.load.module(os.Path(s\"${System.getProperty(\"user.dir\")}/../resource/chisel_deps.sc\"))\n",
    "interp.load.module(ammonite.ops.Path(java.nio.file.FileSystems.getDefault().getPath(path)))"
   ]
  },
  {
   "cell_type": "code",
   "execution_count": 12,
   "id": "extended-burning",
   "metadata": {
    "slideshow": {
     "slide_type": "-"
    }
   },
   "outputs": [
    {
     "data": {
      "text/plain": [
       "\u001b[32mimport \u001b[39m\u001b[36mchisel3._\n",
       "\u001b[39m\n",
       "\u001b[32mimport \u001b[39m\u001b[36mchisel3.util._\n",
       "\u001b[39m\n",
       "\u001b[32mimport \u001b[39m\u001b[36mchiseltest._\n",
       "\u001b[39m\n",
       "\u001b[32mimport \u001b[39m\u001b[36mchiseltest.RawTester.test\n",
       "\u001b[39m\n",
       "\u001b[32mimport \u001b[39m\u001b[36mtreadle._\n",
       "// ChiselEnum\n",
       "\u001b[39m\n",
       "\u001b[32mimport \u001b[39m\u001b[36mchisel3.experimental.ChiselEnum\u001b[39m"
      ]
     },
     "execution_count": 12,
     "metadata": {},
     "output_type": "execute_result"
    }
   ],
   "source": [
    "import chisel3._\n",
    "import chisel3.util._\n",
    "import chiseltest._\n",
    "import chiseltest.RawTester.test\n",
    "import treadle._\n",
    "// ChiselEnum\n",
    "import chisel3.experimental.ChiselEnum"
   ]
  },
  {
   "cell_type": "markdown",
   "id": "valued-register",
   "metadata": {
    "cell_style": "center",
    "slideshow": {
     "slide_type": "slide"
    }
   },
   "source": [
    "## Registers"
   ]
  },
  {
   "cell_type": "markdown",
   "id": "prompt-settlement",
   "metadata": {
    "cell_style": "split"
   },
   "source": [
    "* Explicitly declare a register with `Reg(type)`\n",
    "  * Contrast from Verilog where registers are synthesized\n",
    "* A register is simply another block, no special semantics for time\n",
    "  * Simply need to connect its input and its output\n",
    "* `clock` and `reset` are implicit\n",
    "* Not covered today: functionality for using other clocks ([multi-clock](https://www.chisel-lang.org/chisel3/docs/explanations/multi-clock.html) and [asynchronous reset](https://www.chisel-lang.org/chisel3/docs/explanations/reset.html)"
   ]
  },
  {
   "cell_type": "markdown",
   "id": "d6c42d83-4f37-4fa1-9617-c46026a4e40b",
   "metadata": {
    "cell_style": "split"
   },
   "source": [
    "<img src=\"images/reg.svg\" alt=\"register schamic\" style=\"width:100%;\" align=\"center\"/>"
   ]
  },
  {
   "cell_type": "markdown",
   "id": "raising-budget",
   "metadata": {
    "cell_style": "split",
    "slideshow": {
     "slide_type": "slide"
    }
   },
   "source": [
    "## Other Flavors of `Reg`\n",
    "\n",
    "* Helper functions streamline\n",
    "\n",
    "### [Set Initial Value](https://javadoc.io/doc/edu.berkeley.cs/chisel3_2.13/latest/chisel3/RegInit$.html) - `RegInit(init)`\n",
    "* Value applied synchronously when `reset` true\n",
    "\n",
    "### [Attach Input](https://javadoc.io/static/edu.berkeley.cs/chisel3_2.13/3.6.0/chisel3/RegNext$.html) - `RegNext(next)`\n",
    "* Useful for delaying a signal by a cycle\n",
    "* Connects input in same line\n",
    "\n",
    "### [Enable](https://javadoc.io/doc/edu.berkeley.cs/chisel3_2.13/latest/chisel3/util/RegEnable$.html) - `RegEnable(next, en)`\n",
    "* Write enable for when to update"
   ]
  },
  {
   "cell_type": "code",
   "execution_count": 5,
   "id": "recovered-technique",
   "metadata": {
    "cell_style": "split"
   },
   "outputs": [
    {
     "name": "stdout",
     "output_type": "stream",
     "text": [
      "Elaborating design...\n",
      "Done elaborating.\n",
      "module RegLand(\n",
      "  input   clock,\n",
      "  input   reset,\n",
      "  input   io_in,\n",
      "  input   io_en,\n",
      "  output  io_out\n",
      ");\n",
      "`ifdef RANDOMIZE_REG_INIT\n",
      "  reg [31:0] _RAND_0;\n",
      "`endif // RANDOMIZE_REG_INIT\n",
      "  reg  r; // @[cmd4.sc 7:16]\n",
      "  assign io_out = r; // @[cmd4.sc 10:12]\n",
      "  always @(posedge clock) begin\n",
      "    r <= io_in; // @[cmd4.sc 9:7]\n",
      "  end\n",
      "// Register and memory initialization\n",
      "`ifdef RANDOMIZE_GARBAGE_ASSIGN\n",
      "`define RANDOMIZE\n",
      "`endif\n",
      "`ifdef RANDOMIZE_INVALID_ASSIGN\n",
      "`define RANDOMIZE\n",
      "`endif\n",
      "`ifdef RANDOMIZE_REG_INIT\n",
      "`define RANDOMIZE\n",
      "`endif\n",
      "`ifdef RANDOMIZE_MEM_INIT\n",
      "`define RANDOMIZE\n",
      "`endif\n",
      "`ifndef RANDOM\n",
      "`define RANDOM $random\n",
      "`endif\n",
      "`ifdef RANDOMIZE_MEM_INIT\n",
      "  integer initvar;\n",
      "`endif\n",
      "`ifndef SYNTHESIS\n",
      "`ifdef FIRRTL_BEFORE_INITIAL\n",
      "`FIRRTL_BEFORE_INITIAL\n",
      "`endif\n",
      "initial begin\n",
      "  `ifdef RANDOMIZE\n",
      "    `ifdef INIT_RANDOM\n",
      "      `INIT_RANDOM\n",
      "    `endif\n",
      "    `ifndef VERILATOR\n",
      "      `ifdef RANDOMIZE_DELAY\n",
      "        #`RANDOMIZE_DELAY begin end\n",
      "      `else\n",
      "        #0.002 begin end\n",
      "      `endif\n",
      "    `endif\n",
      "`ifdef RANDOMIZE_REG_INIT\n",
      "  _RAND_0 = {1{`RANDOM}};\n",
      "  r = _RAND_0[0:0];\n",
      "`endif // RANDOMIZE_REG_INIT\n",
      "  `endif // RANDOMIZE\n",
      "end // initial\n",
      "`ifdef FIRRTL_AFTER_INITIAL\n",
      "`FIRRTL_AFTER_INITIAL\n",
      "`endif\n",
      "`endif // SYNTHESIS\n",
      "endmodule\n",
      "\n"
     ]
    },
    {
     "data": {
      "text/plain": [
       "defined \u001b[32mclass\u001b[39m \u001b[36mRegLand\u001b[39m"
      ]
     },
     "execution_count": 5,
     "metadata": {},
     "output_type": "execute_result"
    }
   ],
   "source": [
    "class RegLand extends Module {\n",
    "    val io = IO(new Bundle {\n",
    "        val in  = Input(Bool())\n",
    "        val en  = Input(Bool())\n",
    "        val out = Output(Bool())\n",
    "    })\n",
    "    val r = Reg(Bool())\n",
    "//     val r = RegInit(0.B)\n",
    "    r := io.in\n",
    "    io.out := r\n",
    "//     io.out := RegNext(io.in, 0.B)\n",
    "//     io.out := RegEnable(io.in, 0.B, io.en)\n",
    "}\n",
    "//printVerilog(new RegLand)\n",
    "println (getVerilog(new RegLand))"
   ]
  },
  {
   "cell_type": "markdown",
   "id": "wicked-violation",
   "metadata": {
    "slideshow": {
     "slide_type": "slide"
    }
   },
   "source": [
    "## Example: Counter (done manually)"
   ]
  },
  {
   "cell_type": "code",
   "execution_count": 6,
   "id": "organized-auditor",
   "metadata": {},
   "outputs": [
    {
     "name": "stdout",
     "output_type": "stream",
     "text": [
      "Elaborating design...\n",
      "Done elaborating.\n",
      "module MyCounter(\n",
      "  input        clock,\n",
      "  input        reset,\n",
      "  input        io_en,\n",
      "  output [3:0] io_out\n",
      ");\n",
      "`ifdef RANDOMIZE_REG_INIT\n",
      "  reg [31:0] _RAND_0;\n",
      "`endif // RANDOMIZE_REG_INIT\n",
      "  reg [3:0] count; // @[cmd5.sc 6:20]\n",
      "  wire [3:0] _T_2 = count + 4'h1; // @[cmd5.sc 7:47]\n",
      "  assign io_out = count; // @[cmd5.sc 10:12]\n",
      "  always @(posedge clock) begin\n",
      "    if (reset) begin // @[cmd5.sc 9:17]\n",
      "      count <= 4'h0;\n",
      "    end else if (io_en) begin // @[cmd5.sc 8:22]\n",
      "      if (count < 4'hf) begin // @[cmd5.sc 7:22]\n",
      "        count <= _T_2;\n",
      "      end else begin\n",
      "        count <= 4'h0;\n",
      "      end\n",
      "    end\n",
      "  end\n",
      "// Register and memory initialization\n",
      "`ifdef RANDOMIZE_GARBAGE_ASSIGN\n",
      "`define RANDOMIZE\n",
      "`endif\n",
      "`ifdef RANDOMIZE_INVALID_ASSIGN\n",
      "`define RANDOMIZE\n",
      "`endif\n",
      "`ifdef RANDOMIZE_REG_INIT\n",
      "`define RANDOMIZE\n",
      "`endif\n",
      "`ifdef RANDOMIZE_MEM_INIT\n",
      "`define RANDOMIZE\n",
      "`endif\n",
      "`ifndef RANDOM\n",
      "`define RANDOM $random\n",
      "`endif\n",
      "`ifdef RANDOMIZE_MEM_INIT\n",
      "  integer initvar;\n",
      "`endif\n",
      "`ifndef SYNTHESIS\n",
      "`ifdef FIRRTL_BEFORE_INITIAL\n",
      "`FIRRTL_BEFORE_INITIAL\n",
      "`endif\n",
      "initial begin\n",
      "  `ifdef RANDOMIZE\n",
      "    `ifdef INIT_RANDOM\n",
      "      `INIT_RANDOM\n",
      "    `endif\n",
      "    `ifndef VERILATOR\n",
      "      `ifdef RANDOMIZE_DELAY\n",
      "        #`RANDOMIZE_DELAY begin end\n",
      "      `else\n",
      "        #0.002 begin end\n",
      "      `endif\n",
      "    `endif\n",
      "`ifdef RANDOMIZE_REG_INIT\n",
      "  _RAND_0 = {1{`RANDOM}};\n",
      "  count = _RAND_0[3:0];\n",
      "`endif // RANDOMIZE_REG_INIT\n",
      "  `endif // RANDOMIZE\n",
      "end // initial\n",
      "`ifdef FIRRTL_AFTER_INITIAL\n",
      "`FIRRTL_AFTER_INITIAL\n",
      "`endif\n",
      "`endif // SYNTHESIS\n",
      "endmodule\n",
      "\n"
     ]
    },
    {
     "data": {
      "text/plain": [
       "defined \u001b[32mclass\u001b[39m \u001b[36mMyCounter\u001b[39m"
      ]
     },
     "execution_count": 6,
     "metadata": {},
     "output_type": "execute_result"
    }
   ],
   "source": [
    "class MyCounter(maxVal: Int) extends Module {\n",
    "    val io = IO(new Bundle {\n",
    "        val en  = Input(Bool())\n",
    "        val out = Output(UInt())\n",
    "    })\n",
    "    val count = Reg(UInt(log2Ceil(maxVal+1).W))\n",
    "    val nextVal = Mux(count < maxVal.U, count + 1.U, 0.U)\n",
    "    val applyEn = Mux(io.en, nextVal, count)\n",
    "    count := Mux(reset.asBool, 0.U, applyEn)\n",
    "    io.out := count\n",
    "}\n",
    "//printVerilog(new MyCounter(15))\n",
    "println (getVerilog(new MyCounter(15)))"
   ]
  },
  {
   "cell_type": "markdown",
   "id": "primary-dubai",
   "metadata": {
    "slideshow": {
     "slide_type": "slide"
    }
   },
   "source": [
    "## Example: Counter (using RegInit)"
   ]
  },
  {
   "cell_type": "code",
   "execution_count": 7,
   "id": "surgical-webmaster",
   "metadata": {},
   "outputs": [
    {
     "name": "stdout",
     "output_type": "stream",
     "text": [
      "Elaborating design...\n",
      "Done elaborating.\n",
      "module MyCounter(\n",
      "  input        clock,\n",
      "  input        reset,\n",
      "  input        io_en,\n",
      "  output [3:0] io_out\n",
      ");\n",
      "`ifdef RANDOMIZE_REG_INIT\n",
      "  reg [31:0] _RAND_0;\n",
      "`endif // RANDOMIZE_REG_INIT\n",
      "  reg [3:0] count; // @[cmd6.sc 6:24]\n",
      "  wire [3:0] _T_2 = count + 4'h1; // @[cmd6.sc 7:47]\n",
      "  assign io_out = count; // @[cmd6.sc 9:12]\n",
      "  always @(posedge clock) begin\n",
      "    if (reset) begin // @[cmd6.sc 6:24]\n",
      "      count <= 4'h0; // @[cmd6.sc 6:24]\n",
      "    end else if (io_en) begin // @[cmd6.sc 8:17]\n",
      "      if (count < 4'hf) begin // @[cmd6.sc 7:22]\n",
      "        count <= _T_2;\n",
      "      end else begin\n",
      "        count <= 4'h0;\n",
      "      end\n",
      "    end\n",
      "  end\n",
      "// Register and memory initialization\n",
      "`ifdef RANDOMIZE_GARBAGE_ASSIGN\n",
      "`define RANDOMIZE\n",
      "`endif\n",
      "`ifdef RANDOMIZE_INVALID_ASSIGN\n",
      "`define RANDOMIZE\n",
      "`endif\n",
      "`ifdef RANDOMIZE_REG_INIT\n",
      "`define RANDOMIZE\n",
      "`endif\n",
      "`ifdef RANDOMIZE_MEM_INIT\n",
      "`define RANDOMIZE\n",
      "`endif\n",
      "`ifndef RANDOM\n",
      "`define RANDOM $random\n",
      "`endif\n",
      "`ifdef RANDOMIZE_MEM_INIT\n",
      "  integer initvar;\n",
      "`endif\n",
      "`ifndef SYNTHESIS\n",
      "`ifdef FIRRTL_BEFORE_INITIAL\n",
      "`FIRRTL_BEFORE_INITIAL\n",
      "`endif\n",
      "initial begin\n",
      "  `ifdef RANDOMIZE\n",
      "    `ifdef INIT_RANDOM\n",
      "      `INIT_RANDOM\n",
      "    `endif\n",
      "    `ifndef VERILATOR\n",
      "      `ifdef RANDOMIZE_DELAY\n",
      "        #`RANDOMIZE_DELAY begin end\n",
      "      `else\n",
      "        #0.002 begin end\n",
      "      `endif\n",
      "    `endif\n",
      "`ifdef RANDOMIZE_REG_INIT\n",
      "  _RAND_0 = {1{`RANDOM}};\n",
      "  count = _RAND_0[3:0];\n",
      "`endif // RANDOMIZE_REG_INIT\n",
      "  `endif // RANDOMIZE\n",
      "end // initial\n",
      "`ifdef FIRRTL_AFTER_INITIAL\n",
      "`FIRRTL_AFTER_INITIAL\n",
      "`endif\n",
      "`endif // SYNTHESIS\n",
      "endmodule\n",
      "\n"
     ]
    },
    {
     "data": {
      "text/plain": [
       "defined \u001b[32mclass\u001b[39m \u001b[36mMyCounter\u001b[39m"
      ]
     },
     "execution_count": 7,
     "metadata": {},
     "output_type": "execute_result"
    }
   ],
   "source": [
    "class MyCounter(maxVal: Int) extends Module {\n",
    "    val io = IO(new Bundle {\n",
    "        val en  = Input(Bool())\n",
    "        val out = Output(UInt())\n",
    "    })\n",
    "    val count = RegInit(0.U(log2Ceil(maxVal+1).W))\n",
    "    val nextVal = Mux(count < maxVal.U, count + 1.U, 0.U)\n",
    "    count := Mux(io.en, nextVal, count)\n",
    "    io.out := count\n",
    "}\n",
    "//printVerilog(new MyCounter(15))\n",
    "println (getVerilog(new MyCounter(15)))"
   ]
  },
  {
   "cell_type": "markdown",
   "id": "inner-fabric",
   "metadata": {
    "slideshow": {
     "slide_type": "slide"
    }
   },
   "source": [
    "## Example: Counter (using when)"
   ]
  },
  {
   "cell_type": "code",
   "execution_count": 8,
   "id": "classical-pontiac",
   "metadata": {},
   "outputs": [
    {
     "name": "stdout",
     "output_type": "stream",
     "text": [
      "Elaborating design...\n",
      "Done elaborating.\n",
      "module MyCounter(\n",
      "  input        clock,\n",
      "  input        reset,\n",
      "  input        io_en,\n",
      "  output [3:0] io_out\n",
      ");\n",
      "`ifdef RANDOMIZE_REG_INIT\n",
      "  reg [31:0] _RAND_0;\n",
      "`endif // RANDOMIZE_REG_INIT\n",
      "  reg [3:0] count; // @[cmd7.sc 6:24]\n",
      "  wire [3:0] _T_2 = count + 4'h1; // @[cmd7.sc 9:28]\n",
      "  assign io_out = count; // @[cmd7.sc 14:12]\n",
      "  always @(posedge clock) begin\n",
      "    if (reset) begin // @[cmd7.sc 6:24]\n",
      "      count <= 4'h0; // @[cmd7.sc 6:24]\n",
      "    end else if (io_en) begin // @[cmd7.sc 7:18]\n",
      "      if (count < 4'hf) begin // @[cmd7.sc 8:33]\n",
      "        count <= _T_2; // @[cmd7.sc 9:19]\n",
      "      end else begin\n",
      "        count <= 4'h0; // @[cmd7.sc 11:19]\n",
      "      end\n",
      "    end\n",
      "  end\n",
      "// Register and memory initialization\n",
      "`ifdef RANDOMIZE_GARBAGE_ASSIGN\n",
      "`define RANDOMIZE\n",
      "`endif\n",
      "`ifdef RANDOMIZE_INVALID_ASSIGN\n",
      "`define RANDOMIZE\n",
      "`endif\n",
      "`ifdef RANDOMIZE_REG_INIT\n",
      "`define RANDOMIZE\n",
      "`endif\n",
      "`ifdef RANDOMIZE_MEM_INIT\n",
      "`define RANDOMIZE\n",
      "`endif\n",
      "`ifndef RANDOM\n",
      "`define RANDOM $random\n",
      "`endif\n",
      "`ifdef RANDOMIZE_MEM_INIT\n",
      "  integer initvar;\n",
      "`endif\n",
      "`ifndef SYNTHESIS\n",
      "`ifdef FIRRTL_BEFORE_INITIAL\n",
      "`FIRRTL_BEFORE_INITIAL\n",
      "`endif\n",
      "initial begin\n",
      "  `ifdef RANDOMIZE\n",
      "    `ifdef INIT_RANDOM\n",
      "      `INIT_RANDOM\n",
      "    `endif\n",
      "    `ifndef VERILATOR\n",
      "      `ifdef RANDOMIZE_DELAY\n",
      "        #`RANDOMIZE_DELAY begin end\n",
      "      `else\n",
      "        #0.002 begin end\n",
      "      `endif\n",
      "    `endif\n",
      "`ifdef RANDOMIZE_REG_INIT\n",
      "  _RAND_0 = {1{`RANDOM}};\n",
      "  count = _RAND_0[3:0];\n",
      "`endif // RANDOMIZE_REG_INIT\n",
      "  `endif // RANDOMIZE\n",
      "end // initial\n",
      "`ifdef FIRRTL_AFTER_INITIAL\n",
      "`FIRRTL_AFTER_INITIAL\n",
      "`endif\n",
      "`endif // SYNTHESIS\n",
      "endmodule\n",
      "\n"
     ]
    },
    {
     "data": {
      "text/plain": [
       "defined \u001b[32mclass\u001b[39m \u001b[36mMyCounter\u001b[39m"
      ]
     },
     "execution_count": 8,
     "metadata": {},
     "output_type": "execute_result"
    }
   ],
   "source": [
    "class MyCounter(maxVal: Int) extends Module {\n",
    "    val io = IO(new Bundle {\n",
    "        val en  = Input(Bool())\n",
    "        val out = Output(UInt())\n",
    "    })\n",
    "    val count = RegInit(0.U(log2Ceil(maxVal+1).W))\n",
    "    when (io.en) {\n",
    "        when (count < maxVal.U) {\n",
    "            count := count + 1.U\n",
    "        } .otherwise {\n",
    "            count := 0.U\n",
    "        }\n",
    "    }\n",
    "    io.out := count\n",
    "}\n",
    "//printVerilog(new MyCounter(15))\n",
    "println (getVerilog(new MyCounter(15)))"
   ]
  },
  {
   "cell_type": "markdown",
   "id": "sexual-reducing",
   "metadata": {
    "slideshow": {
     "slide_type": "slide"
    }
   },
   "source": [
    "## Example: Counter (using RegEnable, too dense?)"
   ]
  },
  {
   "cell_type": "code",
   "execution_count": 9,
   "id": "abroad-outdoors",
   "metadata": {},
   "outputs": [
    {
     "name": "stdout",
     "output_type": "stream",
     "text": [
      "Elaborating design...\n",
      "Done elaborating.\n",
      "module MyCounter(\n",
      "  input        clock,\n",
      "  input        reset,\n",
      "  input        io_en,\n",
      "  output [3:0] io_out\n",
      ");\n",
      "`ifdef RANDOMIZE_REG_INIT\n",
      "  reg [31:0] _RAND_0;\n",
      "`endif // RANDOMIZE_REG_INIT\n",
      "  wire [3:0] _T_2 = io_out + 4'h1; // @[cmd8.sc 6:55]\n",
      "  reg [3:0] r; // @[Reg.scala 27:20]\n",
      "  assign io_out = r; // @[cmd8.sc 6:12]\n",
      "  always @(posedge clock) begin\n",
      "    if (reset) begin // @[Reg.scala 27:20]\n",
      "      r <= 4'h0; // @[Reg.scala 27:20]\n",
      "    end else if (io_en) begin // @[Reg.scala 28:19]\n",
      "      if (io_out < 4'hf) begin // @[cmd8.sc 6:28]\n",
      "        r <= _T_2;\n",
      "      end else begin\n",
      "        r <= 4'h0;\n",
      "      end\n",
      "    end\n",
      "  end\n",
      "// Register and memory initialization\n",
      "`ifdef RANDOMIZE_GARBAGE_ASSIGN\n",
      "`define RANDOMIZE\n",
      "`endif\n",
      "`ifdef RANDOMIZE_INVALID_ASSIGN\n",
      "`define RANDOMIZE\n",
      "`endif\n",
      "`ifdef RANDOMIZE_REG_INIT\n",
      "`define RANDOMIZE\n",
      "`endif\n",
      "`ifdef RANDOMIZE_MEM_INIT\n",
      "`define RANDOMIZE\n",
      "`endif\n",
      "`ifndef RANDOM\n",
      "`define RANDOM $random\n",
      "`endif\n",
      "`ifdef RANDOMIZE_MEM_INIT\n",
      "  integer initvar;\n",
      "`endif\n",
      "`ifndef SYNTHESIS\n",
      "`ifdef FIRRTL_BEFORE_INITIAL\n",
      "`FIRRTL_BEFORE_INITIAL\n",
      "`endif\n",
      "initial begin\n",
      "  `ifdef RANDOMIZE\n",
      "    `ifdef INIT_RANDOM\n",
      "      `INIT_RANDOM\n",
      "    `endif\n",
      "    `ifndef VERILATOR\n",
      "      `ifdef RANDOMIZE_DELAY\n",
      "        #`RANDOMIZE_DELAY begin end\n",
      "      `else\n",
      "        #0.002 begin end\n",
      "      `endif\n",
      "    `endif\n",
      "`ifdef RANDOMIZE_REG_INIT\n",
      "  _RAND_0 = {1{`RANDOM}};\n",
      "  r = _RAND_0[3:0];\n",
      "`endif // RANDOMIZE_REG_INIT\n",
      "  `endif // RANDOMIZE\n",
      "end // initial\n",
      "`ifdef FIRRTL_AFTER_INITIAL\n",
      "`FIRRTL_AFTER_INITIAL\n",
      "`endif\n",
      "`endif // SYNTHESIS\n",
      "endmodule\n",
      "\n"
     ]
    },
    {
     "data": {
      "text/plain": [
       "defined \u001b[32mclass\u001b[39m \u001b[36mMyCounter\u001b[39m"
      ]
     },
     "execution_count": 9,
     "metadata": {},
     "output_type": "execute_result"
    }
   ],
   "source": [
    "class MyCounter(maxVal: Int) extends Module {\n",
    "    val io = IO(new Bundle {\n",
    "        val en  = Input(Bool())\n",
    "        val out = Output(UInt(log2Ceil(maxVal+1).W))\n",
    "    })\n",
    "    io.out := RegEnable(Mux(io.out < maxVal.U, io.out + 1.U, 0.U), 0.U, io.en)\n",
    "}\n",
    "//printVerilog(new MyCounter(15))\n",
    "println (getVerilog(new MyCounter(15)))"
   ]
  },
  {
   "cell_type": "markdown",
   "id": "normal-awareness",
   "metadata": {
    "slideshow": {
     "slide_type": "slide"
    }
   },
   "source": [
    "## Testing MyCounter"
   ]
  },
  {
   "cell_type": "code",
   "execution_count": 10,
   "id": "still-pulse",
   "metadata": {},
   "outputs": [
    {
     "name": "stdout",
     "output_type": "stream",
     "text": [
      "Elaborating design...\n",
      "Done elaborating.\n",
      "test MyCounter Success: 0 tests passed in 8 cycles in 0.037396 seconds 213.93 Hz\n"
     ]
    }
   ],
   "source": [
    "test(new MyCounter(3)) { c =>\n",
    "    c.io.en.poke(1.B)\n",
    "    c.io.out.expect(0.U)\n",
    "    c.clock.step()\n",
    "\n",
    "    c.io.en.poke(1.B)\n",
    "    c.io.out.expect(1.U)\n",
    "    c.clock.step()\n",
    "\n",
    "    c.io.en.poke(1.B)\n",
    "    c.io.out.expect(2.U)\n",
    "    c.clock.step()\n",
    "\n",
    "    c.io.en.poke(0.B)\n",
    "    c.io.out.expect(3.U)\n",
    "    c.clock.step()\n",
    "\n",
    "    c.io.en.poke(1.B)\n",
    "    c.io.out.expect(3.U)\n",
    "    c.clock.step()\n",
    "\n",
    "    c.io.en.poke(1.B)\n",
    "    c.io.out.expect(0.U)\n",
    "    c.clock.step()\n",
    "}"
   ]
  },
  {
   "cell_type": "markdown",
   "id": "849581a3",
   "metadata": {
    "slideshow": {
     "slide_type": "slide"
    }
   },
   "source": [
    "## Enums in Chisel (`ChiselEnum`)\n",
    "\n",
    "* [`ChiselEnum`](https://javadoc.io/static/edu.berkeley.cs/chisel3_2.13/3.6.0/chisel3/ChiselEnum.html) provides [enumerations](https://www.chisel-lang.org/docs/explanations/chisel-enum) by assigning them `UInt`s (`Enumeration` is Scala)\n",
    "* Helpful for putting human-sensical names to distinct values\n",
    "* Example use cases\n",
    "  * Naming states in a state machine\n",
    "  * Labeling mux way selection options\n",
    "  * Labeling options for interfaces\n",
    "* [`Enum`](https://javadoc.io/static/edu.berkeley.cs/chisel3_2.13/3.6.0/chisel3/util/Enum.html) is the prior mechanism for Chisel you might see in older code"
   ]
  },
  {
   "cell_type": "code",
   "execution_count": 13,
   "id": "a088af1f",
   "metadata": {},
   "outputs": [
    {
     "name": "stdout",
     "output_type": "stream",
     "text": [
      "(DemoEnum(0=nameA),DemoEnum(1=nameB),DemoEnum(2=nameC),DemoEnum(5=nameD))\n"
     ]
    },
    {
     "data": {
      "text/plain": [
       "\u001b[32mimport \u001b[39m\u001b[36mchisel3.experimental.ChiselEnum\n",
       "\u001b[39m\n",
       "defined \u001b[32mobject\u001b[39m \u001b[36mDemoEnum\u001b[39m"
      ]
     },
     "execution_count": 13,
     "metadata": {},
     "output_type": "execute_result"
    }
   ],
   "source": [
    "// import ChiseNum\n",
    "import chisel3.experimental.ChiselEnum\n",
    "object DemoEnum extends ChiselEnum {\n",
    "  val nameA, nameB, nameC = Value\n",
    "  val nameD = Value(5.U)\n",
    "}\n",
    "\n",
    "println(DemoEnum.nameA, DemoEnum.nameB, DemoEnum.nameC, DemoEnum.nameD)"
   ]
  },
  {
   "cell_type": "markdown",
   "id": "inside-honduras",
   "metadata": {
    "cell_style": "center",
    "slideshow": {
     "slide_type": "slide"
    }
   },
   "source": [
    "## Example State Machine (Raccoon 🦝)\n",
    "\n",
    "<img src=\"images/raccoon.svg\" alt=\"raccoon fsm\" style=\"width:45%;margin:auto\"/>"
   ]
  },
  {
   "cell_type": "code",
   "execution_count": 14,
   "id": "804eccce",
   "metadata": {
    "slideshow": {
     "slide_type": "slide"
    }
   },
   "outputs": [
    {
     "name": "stdout",
     "output_type": "stream",
     "text": [
      "Elaborating design...\n",
      "Done elaborating.\n",
      "module Raccoon(\n",
      "  input        clock,\n",
      "  input        reset,\n",
      "  input        io_noise,\n",
      "  input        io_trash,\n",
      "  input        io_food,\n",
      "  output [1:0] io_action\n",
      ");\n",
      "`ifdef RANDOMIZE_REG_INIT\n",
      "  reg [31:0] _RAND_0;\n",
      "`endif // RANDOMIZE_REG_INIT\n",
      "  reg [1:0] state; // @[cmd13.sc 11:24]\n",
      "  wire [1:0] _GEN_1 = io_trash ? 2'h2 : state; // @[cmd13.sc 16:30 cmd13.sc 16:38 cmd13.sc 11:24]\n",
      "  wire [1:0] _GEN_3 = io_food ? 2'h3 : state; // @[cmd13.sc 19:29 cmd13.sc 19:37 cmd13.sc 11:24]\n",
      "  wire [1:0] _GEN_4 = io_noise ? 2'h0 : _GEN_3; // @[cmd13.sc 18:25 cmd13.sc 18:33]\n",
      "  wire [1:0] _GEN_5 = ~io_food ? 2'h1 : state; // @[cmd13.sc 22:30 cmd13.sc 22:38 cmd13.sc 11:24]\n",
      "  wire [1:0] _GEN_6 = io_noise ? 2'h0 : _GEN_5; // @[cmd13.sc 21:25 cmd13.sc 21:33]\n",
      "  wire [1:0] _GEN_7 = state == 2'h3 ? _GEN_6 : state; // @[cmd13.sc 20:44 cmd13.sc 11:24]\n",
      "  assign io_action = state; // @[cmd13.sc 24:15]\n",
      "  always @(posedge clock) begin\n",
      "    if (reset) begin // @[cmd13.sc 11:24]\n",
      "      state <= 2'h0; // @[cmd13.sc 11:24]\n",
      "    end else if (state == 2'h0) begin // @[cmd13.sc 12:38]\n",
      "      if (~io_noise) begin // @[cmd13.sc 13:26]\n",
      "        state <= 2'h1; // @[cmd13.sc 13:34]\n",
      "      end\n",
      "    end else if (state == 2'h1) begin // @[cmd13.sc 14:47]\n",
      "      if (io_noise) begin // @[cmd13.sc 15:25]\n",
      "        state <= 2'h0; // @[cmd13.sc 15:33]\n",
      "      end else begin\n",
      "        state <= _GEN_1;\n",
      "      end\n",
      "    end else if (state == 2'h2) begin // @[cmd13.sc 17:48]\n",
      "      state <= _GEN_4;\n",
      "    end else begin\n",
      "      state <= _GEN_7;\n",
      "    end\n",
      "  end\n",
      "// Register and memory initialization\n",
      "`ifdef RANDOMIZE_GARBAGE_ASSIGN\n",
      "`define RANDOMIZE\n",
      "`endif\n",
      "`ifdef RANDOMIZE_INVALID_ASSIGN\n",
      "`define RANDOMIZE\n",
      "`endif\n",
      "`ifdef RANDOMIZE_REG_INIT\n",
      "`define RANDOMIZE\n",
      "`endif\n",
      "`ifdef RANDOMIZE_MEM_INIT\n",
      "`define RANDOMIZE\n",
      "`endif\n",
      "`ifndef RANDOM\n",
      "`define RANDOM $random\n",
      "`endif\n",
      "`ifdef RANDOMIZE_MEM_INIT\n",
      "  integer initvar;\n",
      "`endif\n",
      "`ifndef SYNTHESIS\n",
      "`ifdef FIRRTL_BEFORE_INITIAL\n",
      "`FIRRTL_BEFORE_INITIAL\n",
      "`endif\n",
      "initial begin\n",
      "  `ifdef RANDOMIZE\n",
      "    `ifdef INIT_RANDOM\n",
      "      `INIT_RANDOM\n",
      "    `endif\n",
      "    `ifndef VERILATOR\n",
      "      `ifdef RANDOMIZE_DELAY\n",
      "        #`RANDOMIZE_DELAY begin end\n",
      "      `else\n",
      "        #0.002 begin end\n",
      "      `endif\n",
      "    `endif\n",
      "`ifdef RANDOMIZE_REG_INIT\n",
      "  _RAND_0 = {1{`RANDOM}};\n",
      "  state = _RAND_0[1:0];\n",
      "`endif // RANDOMIZE_REG_INIT\n",
      "  `endif // RANDOMIZE\n",
      "end // initial\n",
      "`ifdef FIRRTL_AFTER_INITIAL\n",
      "`FIRRTL_AFTER_INITIAL\n",
      "`endif\n",
      "`endif // SYNTHESIS\n",
      "endmodule\n",
      "\n"
     ]
    },
    {
     "data": {
      "text/plain": [
       "defined \u001b[32mobject\u001b[39m \u001b[36mRaccAction\u001b[39m\n",
       "defined \u001b[32mclass\u001b[39m \u001b[36mRaccoon\u001b[39m"
      ]
     },
     "execution_count": 14,
     "metadata": {},
     "output_type": "execute_result"
    }
   ],
   "source": [
    "object RaccAction extends ChiselEnum {\n",
    "    val hide, wander, rummage, eat = Value\n",
    "}\n",
    "class Raccoon extends Module { // using when\n",
    "    val io = IO(new Bundle {\n",
    "        val noise = Input(Bool())\n",
    "        val trash = Input(Bool())\n",
    "        val food  = Input(Bool())\n",
    "        val action = Output(RaccAction())\n",
    "    })\n",
    "    val state = RegInit(RaccAction.hide)\n",
    "    when (state === RaccAction.hide) {\n",
    "        when (!io.noise) { state := RaccAction.wander }\n",
    "    } .elsewhen (state === RaccAction.wander) {\n",
    "        when (io.noise) { state := RaccAction.hide }\n",
    "        .elsewhen (io.trash) { state := RaccAction.rummage }\n",
    "    } .elsewhen (state === RaccAction.rummage) {\n",
    "        when (io.noise) { state := RaccAction.hide }\n",
    "        .elsewhen (io.food) { state := RaccAction.eat }\n",
    "    } .elsewhen (state === RaccAction.eat) {\n",
    "        when (io.noise) { state := RaccAction.hide }\n",
    "        .elsewhen (!io.food) { state := RaccAction.wander }\n",
    "    }\n",
    "    io.action := state\n",
    "}\n",
    "//printVerilog(new Raccoon)\n",
    "println (getVerilog(new Raccoon))"
   ]
  },
  {
   "cell_type": "code",
   "execution_count": 15,
   "id": "intelligent-sound",
   "metadata": {
    "cell_style": "center",
    "slideshow": {
     "slide_type": "slide"
    }
   },
   "outputs": [
    {
     "name": "stdout",
     "output_type": "stream",
     "text": [
      "Elaborating design...\n",
      "Done elaborating.\n",
      "module Raccoon(\n",
      "  input        clock,\n",
      "  input        reset,\n",
      "  input        io_noise,\n",
      "  input        io_trash,\n",
      "  input        io_food,\n",
      "  output [1:0] io_action\n",
      ");\n",
      "`ifdef RANDOMIZE_REG_INIT\n",
      "  reg [31:0] _RAND_0;\n",
      "`endif // RANDOMIZE_REG_INIT\n",
      "  reg [1:0] state; // @[cmd14.sc 11:24]\n",
      "  wire  _T_2 = 2'h0 == state; // @[Conditional.scala 37:30]\n",
      "  wire  _T_6 = 2'h1 == state; // @[Conditional.scala 37:30]\n",
      "  wire [1:0] _GEN_1 = io_trash ? 2'h2 : state; // @[cmd14.sc 18:34 cmd14.sc 18:42 cmd14.sc 11:24]\n",
      "  wire  _T_9 = 2'h2 == state; // @[Conditional.scala 37:30]\n",
      "  wire [1:0] _GEN_3 = io_food ? 2'h3 : state; // @[cmd14.sc 22:33 cmd14.sc 22:41 cmd14.sc 11:24]\n",
      "  wire [1:0] _GEN_4 = io_noise ? 2'h0 : _GEN_3; // @[cmd14.sc 21:29 cmd14.sc 21:37]\n",
      "  wire  _T_12 = 2'h3 == state; // @[Conditional.scala 37:30]\n",
      "  wire [1:0] _GEN_5 = ~io_food ? 2'h1 : state; // @[cmd14.sc 26:34 cmd14.sc 26:42 cmd14.sc 11:24]\n",
      "  wire [1:0] _GEN_6 = io_noise ? 2'h0 : _GEN_5; // @[cmd14.sc 25:29 cmd14.sc 25:37]\n",
      "  wire [1:0] _GEN_7 = _T_12 ? _GEN_6 : state; // @[Conditional.scala 39:67 cmd14.sc 11:24]\n",
      "  assign io_action = state; // @[cmd14.sc 29:15]\n",
      "  always @(posedge clock) begin\n",
      "    if (reset) begin // @[cmd14.sc 11:24]\n",
      "      state <= 2'h0; // @[cmd14.sc 11:24]\n",
      "    end else if (_T_2) begin // @[Conditional.scala 40:58]\n",
      "      if (~io_noise) begin // @[cmd14.sc 14:30]\n",
      "        state <= 2'h1; // @[cmd14.sc 14:38]\n",
      "      end\n",
      "    end else if (_T_6) begin // @[Conditional.scala 39:67]\n",
      "      if (io_noise) begin // @[cmd14.sc 17:29]\n",
      "        state <= 2'h0; // @[cmd14.sc 17:37]\n",
      "      end else begin\n",
      "        state <= _GEN_1;\n",
      "      end\n",
      "    end else if (_T_9) begin // @[Conditional.scala 39:67]\n",
      "      state <= _GEN_4;\n",
      "    end else begin\n",
      "      state <= _GEN_7;\n",
      "    end\n",
      "  end\n",
      "// Register and memory initialization\n",
      "`ifdef RANDOMIZE_GARBAGE_ASSIGN\n",
      "`define RANDOMIZE\n",
      "`endif\n",
      "`ifdef RANDOMIZE_INVALID_ASSIGN\n",
      "`define RANDOMIZE\n",
      "`endif\n",
      "`ifdef RANDOMIZE_REG_INIT\n",
      "`define RANDOMIZE\n",
      "`endif\n",
      "`ifdef RANDOMIZE_MEM_INIT\n",
      "`define RANDOMIZE\n",
      "`endif\n",
      "`ifndef RANDOM\n",
      "`define RANDOM $random\n",
      "`endif\n",
      "`ifdef RANDOMIZE_MEM_INIT\n",
      "  integer initvar;\n",
      "`endif\n",
      "`ifndef SYNTHESIS\n",
      "`ifdef FIRRTL_BEFORE_INITIAL\n",
      "`FIRRTL_BEFORE_INITIAL\n",
      "`endif\n",
      "initial begin\n",
      "  `ifdef RANDOMIZE\n",
      "    `ifdef INIT_RANDOM\n",
      "      `INIT_RANDOM\n",
      "    `endif\n",
      "    `ifndef VERILATOR\n",
      "      `ifdef RANDOMIZE_DELAY\n",
      "        #`RANDOMIZE_DELAY begin end\n",
      "      `else\n",
      "        #0.002 begin end\n",
      "      `endif\n",
      "    `endif\n",
      "`ifdef RANDOMIZE_REG_INIT\n",
      "  _RAND_0 = {1{`RANDOM}};\n",
      "  state = _RAND_0[1:0];\n",
      "`endif // RANDOMIZE_REG_INIT\n",
      "  `endif // RANDOMIZE\n",
      "end // initial\n",
      "`ifdef FIRRTL_AFTER_INITIAL\n",
      "`FIRRTL_AFTER_INITIAL\n",
      "`endif\n",
      "`endif // SYNTHESIS\n",
      "endmodule\n",
      "\n"
     ]
    },
    {
     "data": {
      "text/plain": [
       "defined \u001b[32mobject\u001b[39m \u001b[36mRaccAction\u001b[39m\n",
       "defined \u001b[32mclass\u001b[39m \u001b[36mRaccoon\u001b[39m"
      ]
     },
     "execution_count": 15,
     "metadata": {},
     "output_type": "execute_result"
    }
   ],
   "source": [
    "object RaccAction extends ChiselEnum {\n",
    "    val hide, wander, rummage, eat = Value\n",
    "}\n",
    "class Raccoon extends Module { // using switch\n",
    "    val io = IO(new Bundle {\n",
    "        val noise = Input(Bool())\n",
    "        val trash = Input(Bool())\n",
    "        val food  = Input(Bool())\n",
    "        val action = Output(RaccAction())\n",
    "    })\n",
    "    val state = RegInit(RaccAction.hide)\n",
    "    switch(state) {\n",
    "        is (RaccAction.hide) {\n",
    "            when (!io.noise) { state := RaccAction.wander }\n",
    "        }\n",
    "        is (RaccAction.wander) {\n",
    "            when (io.noise) { state := RaccAction.hide }\n",
    "            .elsewhen (io.trash) { state := RaccAction.rummage }\n",
    "        }\n",
    "        is (RaccAction.rummage) {\n",
    "            when (io.noise) { state := RaccAction.hide }\n",
    "            .elsewhen (io.food) { state := RaccAction.eat }\n",
    "        }\n",
    "        is (RaccAction.eat) {\n",
    "            when (io.noise) { state := RaccAction.hide }\n",
    "            .elsewhen (!io.food) { state := RaccAction.wander }\n",
    "        }\n",
    "    }\n",
    "    io.action := state\n",
    "}\n",
    "//printVerilog(new Raccoon)\n",
    "println (getVerilog(new Raccoon))"
   ]
  },
  {
   "cell_type": "code",
   "execution_count": 16,
   "id": "meaningful-threshold",
   "metadata": {
    "slideshow": {
     "slide_type": "slide"
    }
   },
   "outputs": [
    {
     "name": "stdout",
     "output_type": "stream",
     "text": [
      "Elaborating design...\n",
      "Done elaborating.\n",
      "test Raccoon Success: 0 tests passed in 9 cycles in 0.006769 seconds 1329.52 Hz\n"
     ]
    }
   ],
   "source": [
    "test(new Raccoon()) { r =>\n",
    "    r.io.noise.poke(1.B)\n",
    "    r.io.trash.poke(0.B)\n",
    "    r.io.food.poke(0.B)\n",
    "    r.clock.step()\n",
    "    r.io.action.expect(RaccAction.hide)\n",
    "\n",
    "    r.io.noise.poke(0.B)\n",
    "    r.clock.step()\n",
    "    r.io.action.expect(RaccAction.wander)\n",
    "\n",
    "    r.io.trash.poke(1.B)\n",
    "    r.clock.step()\n",
    "    r.io.action.expect(RaccAction.rummage)\n",
    "\n",
    "    r.io.trash.poke(0.B)\n",
    "    r.io.food.poke(1.B)\n",
    "    r.clock.step()\n",
    "    r.io.action.expect(RaccAction.eat)\n",
    "\n",
    "    r.io.food.poke(1.B)\n",
    "    r.clock.step()\n",
    "    r.io.action.expect(RaccAction.eat)\n",
    "\n",
    "    r.io.food.poke(0.B)\n",
    "    r.clock.step()\n",
    "    r.io.action.expect(RaccAction.wander)\n",
    "\n",
    "    r.io.noise.poke(1.B)\n",
    "    r.clock.step()\n",
    "    r.io.action.expect(RaccAction.hide)\n",
    "}"
   ]
  },
  {
   "cell_type": "markdown",
   "id": "fresh-rover",
   "metadata": {
    "slideshow": {
     "slide_type": "slide"
    }
   },
   "source": [
    "## Collecting Useful Output from Simulation\n",
    "\n",
    "* So far, we have used a PeekPoke tester to interact with the design\n",
    "    * Running tests is a specific form of simulation\n",
    "    * Tests can explicitly check for certain behavior\n",
    "* Can set up explicit print statements (next slide)\n",
    "* Can record waveforms as VCD (demo)\n",
    "* Recommend building extensive tests, use waveforms & prints _only for debugging_\n",
    "    * Tests should be automated (e.g. using ChiselTest), and should not require a human to inspect print output or waveforms\n",
    "* When debugging, recommend waveforms"
   ]
  },
  {
   "cell_type": "markdown",
   "id": "seventh-production",
   "metadata": {
    "slideshow": {
     "slide_type": "slide"
    }
   },
   "source": [
    "## Printing - In Scala (during generation)\n",
    "* Can use `println`\n",
    "* Scala string interpolation allows for variable names or even expressions inside strings\n",
    "```scala\n",
    "println(s\"this is $myVal and ${foo.bar}\")\n",
    "```"
   ]
  },
  {
   "cell_type": "code",
   "execution_count": 17,
   "id": "aggregate-finish",
   "metadata": {},
   "outputs": [
    {
     "name": "stdout",
     "output_type": "stream",
     "text": [
      "this is 4 and it is int\n"
     ]
    },
    {
     "data": {
      "text/plain": [
       "\u001b[36mmyVal\u001b[39m: \u001b[32mInt\u001b[39m = \u001b[32m4\u001b[39m"
      ]
     },
     "execution_count": 17,
     "metadata": {},
     "output_type": "execute_result"
    }
   ],
   "source": [
    "val myVal = 4\n",
    "println(s\"this is $myVal and it is ${myVal.getClass}\")"
   ]
  },
  {
   "cell_type": "markdown",
   "id": "restricted-luxury",
   "metadata": {
    "slideshow": {
     "slide_type": "slide"
    }
   },
   "source": [
    "### Printing - In Chisel (during simulation, once per cycle)\n",
    "* Can use `printf` in C-style\n",
    "```scala\n",
    "printf(\"myVal: %d\", myVal)\n",
    "```\n",
    "* ... or interpolation style\n",
    "```scala\n",
    "printf(p\"myVal: $myVal\")\n",
    "```"
   ]
  },
  {
   "cell_type": "code",
   "execution_count": 18,
   "id": "liquid-shark",
   "metadata": {
    "collapsed": true,
    "jupyter": {
     "outputs_hidden": true
    },
    "scrolled": true
   },
   "outputs": [
    {
     "name": "stdout",
     "output_type": "stream",
     "text": [
      "Elaborating design...\n",
      "Done elaborating.\n",
      "module MyCounter(\n",
      "  input        clock,\n",
      "  input        reset,\n",
      "  input        io_en,\n",
      "  output [3:0] io_out\n",
      ");\n",
      "`ifdef RANDOMIZE_REG_INIT\n",
      "  reg [31:0] _RAND_0;\n",
      "`endif // RANDOMIZE_REG_INIT\n",
      "  reg [3:0] count; // @[cmd17.sc 6:24]\n",
      "  wire  _T = count < 4'hf; // @[cmd17.sc 8:21]\n",
      "  wire  _T_2 = ~reset; // @[cmd17.sc 9:19]\n",
      "  wire [3:0] _T_4 = count + 4'h1; // @[cmd17.sc 11:28]\n",
      "  assign io_out = count; // @[cmd17.sc 17:12]\n",
      "  always @(posedge clock) begin\n",
      "    if (reset) begin // @[cmd17.sc 6:24]\n",
      "      count <= 4'h0; // @[cmd17.sc 6:24]\n",
      "    end else if (io_en) begin // @[cmd17.sc 7:18]\n",
      "      if (count < 4'hf) begin // @[cmd17.sc 8:33]\n",
      "        count <= _T_4; // @[cmd17.sc 11:19]\n",
      "      end else begin\n",
      "        count <= 4'h0; // @[cmd17.sc 13:19]\n",
      "      end\n",
      "    end\n",
      "    `ifndef SYNTHESIS\n",
      "    `ifdef PRINTF_COND\n",
      "      if (`PRINTF_COND) begin\n",
      "    `endif\n",
      "        if (io_en & _T & ~reset) begin\n",
      "          $fwrite(32'h80000002,\"incrementing to %d\\n\",count); // @[cmd17.sc 9:19]\n",
      "        end\n",
      "    `ifdef PRINTF_COND\n",
      "      end\n",
      "    `endif\n",
      "    `endif // SYNTHESIS\n",
      "    `ifndef SYNTHESIS\n",
      "    `ifdef PRINTF_COND\n",
      "      if (`PRINTF_COND) begin\n",
      "    `endif\n",
      "        if (io_en & ~_T & _T_2) begin\n",
      "          $fwrite(32'h80000002,\"wrapping to      0\\n\"); // @[cmd17.sc 14:19]\n",
      "        end\n",
      "    `ifdef PRINTF_COND\n",
      "      end\n",
      "    `endif\n",
      "    `endif // SYNTHESIS\n",
      "  end\n",
      "// Register and memory initialization\n",
      "`ifdef RANDOMIZE_GARBAGE_ASSIGN\n",
      "`define RANDOMIZE\n",
      "`endif\n",
      "`ifdef RANDOMIZE_INVALID_ASSIGN\n",
      "`define RANDOMIZE\n",
      "`endif\n",
      "`ifdef RANDOMIZE_REG_INIT\n",
      "`define RANDOMIZE\n",
      "`endif\n",
      "`ifdef RANDOMIZE_MEM_INIT\n",
      "`define RANDOMIZE\n",
      "`endif\n",
      "`ifndef RANDOM\n",
      "`define RANDOM $random\n",
      "`endif\n",
      "`ifdef RANDOMIZE_MEM_INIT\n",
      "  integer initvar;\n",
      "`endif\n",
      "`ifndef SYNTHESIS\n",
      "`ifdef FIRRTL_BEFORE_INITIAL\n",
      "`FIRRTL_BEFORE_INITIAL\n",
      "`endif\n",
      "initial begin\n",
      "  `ifdef RANDOMIZE\n",
      "    `ifdef INIT_RANDOM\n",
      "      `INIT_RANDOM\n",
      "    `endif\n",
      "    `ifndef VERILATOR\n",
      "      `ifdef RANDOMIZE_DELAY\n",
      "        #`RANDOMIZE_DELAY begin end\n",
      "      `else\n",
      "        #0.002 begin end\n",
      "      `endif\n",
      "    `endif\n",
      "`ifdef RANDOMIZE_REG_INIT\n",
      "  _RAND_0 = {1{`RANDOM}};\n",
      "  count = _RAND_0[3:0];\n",
      "`endif // RANDOMIZE_REG_INIT\n",
      "  `endif // RANDOMIZE\n",
      "end // initial\n",
      "`ifdef FIRRTL_AFTER_INITIAL\n",
      "`FIRRTL_AFTER_INITIAL\n",
      "`endif\n",
      "`endif // SYNTHESIS\n",
      "endmodule\n",
      "\n"
     ]
    },
    {
     "data": {
      "text/plain": [
       "defined \u001b[32mclass\u001b[39m \u001b[36mMyCounter\u001b[39m"
      ]
     },
     "execution_count": 18,
     "metadata": {},
     "output_type": "execute_result"
    }
   ],
   "source": [
    "class MyCounter(maxVal: Int) extends Module {\n",
    "    val io = IO(new Bundle {\n",
    "        val en  = Input(Bool())\n",
    "        val out = Output(UInt())\n",
    "    })\n",
    "    val count = RegInit(0.U(log2Ceil(maxVal+1).W))\n",
    "    when (io.en) {\n",
    "        when (count < maxVal.U) {\n",
    "            printf(\"incrementing to %d\\n\", count)\n",
    "//             printf(p\"incrementing to $count\\n\")\n",
    "            count := count + 1.U\n",
    "        } .otherwise {\n",
    "            count := 0.U\n",
    "            printf(\"wrapping to      0\\n\")\n",
    "        }\n",
    "    }\n",
    "    io.out := count\n",
    "}\n",
    "// printVerilog(new MyCounter(15))\n",
    "println (getVerilog(new MyCounter(15)))"
   ]
  },
  {
   "cell_type": "markdown",
   "id": "broad-postcard",
   "metadata": {
    "slideshow": {
     "slide_type": "slide"
    }
   },
   "source": [
    "### Printing - In Chisel (during simulation) Demo"
   ]
  },
  {
   "cell_type": "code",
   "execution_count": 19,
   "id": "logical-cholesterol",
   "metadata": {},
   "outputs": [
    {
     "name": "stdout",
     "output_type": "stream",
     "text": [
      "Elaborating design...\n",
      "Done elaborating.\n",
      "incrementing to  0\n",
      "incrementing to  1\n",
      "incrementing to  2\n",
      "wrapping to      0\n",
      "incrementing to  0\n",
      "test MyCounter Success: 0 tests passed in 7 cycles in 0.006368 seconds 1099.20 Hz\n"
     ]
    }
   ],
   "source": [
    "test(new MyCounter(3)) { c =>\n",
    "// test(new MyCounter(3), Seq(WriteVcdAnnotation)) { c =>\n",
    "    c.io.en.poke(1.B)\n",
    "    c.clock.step(5)\n",
    "}"
   ]
  },
  {
   "cell_type": "markdown",
   "id": "concerned-camera",
   "metadata": {
    "slideshow": {
     "slide_type": "slide"
    }
   },
   "source": [
    "## Additional Ways to Express Literals\n",
    "\n",
    "* Can add `.U`, `.S`, `.B` to cast to `UInt`, `SInt`, `Bool`\n",
    "* Can specify bitwidth with more explicit types\n",
    "* Can prefix a string with encoding `h` (hex), `o` (octal), `b` (binary)\n",
    "* Can break up long literals with `_`"
   ]
  },
  {
   "cell_type": "code",
   "execution_count": 20,
   "id": "bearing-insertion",
   "metadata": {},
   "outputs": [
    {
     "data": {
      "text/plain": [
       "\u001b[36mres19_0\u001b[39m: \u001b[32mUInt\u001b[39m = UInt<4>(10)\n",
       "\u001b[36mres19_1\u001b[39m: \u001b[32mUInt\u001b[39m = UInt<4>(10)\n",
       "\u001b[36mres19_2\u001b[39m: \u001b[32mUInt\u001b[39m = UInt<32>(3735928559)\n",
       "\u001b[36mres19_3\u001b[39m: \u001b[32mUInt\u001b[39m = UInt<4>(10)\n",
       "\u001b[36mres19_4\u001b[39m: \u001b[32mUInt\u001b[39m = UInt<8>(10)\n",
       "\u001b[36mres19_5\u001b[39m: \u001b[32mUInt\u001b[39m = UInt<8>(10)"
      ]
     },
     "execution_count": 20,
     "metadata": {},
     "output_type": "execute_result"
    }
   ],
   "source": [
    "\"b1010\".U\n",
    "\"ha\".U\n",
    "\"h_dead_beef\".U\n",
    "\"ha\".U\n",
    "\"ha\".U(8.W)\n",
    "\"ha\".asUInt(8.W)"
   ]
  }
 ],
 "metadata": {
  "celltoolbar": "Slideshow",
  "kernelspec": {
   "display_name": "Scala 2.12.11",
   "language": "scala",
   "name": "scala_2_12_11"
  },
  "language_info": {
   "codemirror_mode": "text/x-scala",
   "file_extension": ".scala",
   "mimetype": "text/x-scala",
   "name": "scala",
   "nbconvert_exporter": "script",
   "version": "2.12.11"
  }
 },
 "nbformat": 4,
 "nbformat_minor": 5
}
