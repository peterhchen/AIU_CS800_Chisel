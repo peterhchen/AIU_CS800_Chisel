{
 "cells": [
  {
   "cell_type": "markdown",
   "id": "beca36b1-712f-4d77-9be5-870d4333bd89",
   "metadata": {
    "slideshow": {
     "slide_type": "slide"
    }
   },
   "source": [
    "## Agile Hardware Design\n",
    "***\n",
    "# Encapsulation\n",
    "\n",
    "<img src=\"../images/logo.svg\" alt=\"agile hardware design logo\" style=\"float:right\"/>\n",
    "\n",
    "## Based on class note from Prof. Scott Beamer\n",
    "## [CSE 228A](https://classes.soe.ucsc.edu/cse228a/Winter24/)"
   ]
  },
  {
   "cell_type": "markdown",
   "id": "nominated-consistency",
   "metadata": {
    "slideshow": {
     "slide_type": "slide"
    }
   },
   "source": [
    "## Plan for Today\n",
    "\n",
    "* Scala methods, recursion, and objects\n",
    "* Using Scala methods to build Chisel components\n",
    "* Chisel Bundles"
   ]
  },
  {
   "cell_type": "markdown",
   "id": "regular-reducing",
   "metadata": {
    "slideshow": {
     "slide_type": "slide"
    }
   },
   "source": [
    "## Loading The Chisel Library Into a Notebook"
   ]
  },
  {
   "cell_type": "code",
   "execution_count": 25,
   "id": "robust-immigration",
   "metadata": {},
   "outputs": [
    {
     "name": "stdout",
     "output_type": "stream",
     "text": [
      "path: /home/peter/AIU/AIU_CS800_Chisel/500_UCSC_HWD/006_Encap/001_Code/source/load-ivy.sc\n"
     ]
    },
    {
     "data": {
      "text/plain": [
       "\u001b[36mpath\u001b[39m: \u001b[32mString\u001b[39m = \u001b[32m\"/home/peter/AIU/AIU_CS800_Chisel/500_UCSC_HWD/006_Encap/001_Code/source/load-ivy.sc\"\u001b[39m"
      ]
     },
     "execution_count": 25,
     "metadata": {},
     "output_type": "execute_result"
    }
   ],
   "source": [
    "//interp.load.module(os.Path(s\"${System.getProperty(\"user.dir\")}/../resource/chisel_deps.sc\"))\n",
    "// Before we start. We test for UCB stcture and make sure they worked.\n",
    "// Below, we test for UCB stcture and make sure they worked.\n",
    "val path = System.getProperty(\"user.dir\") + \"/source/load-ivy.sc\"\n",
    "println(\"path: \"+path)"
   ]
  },
  {
   "cell_type": "code",
   "execution_count": 26,
   "id": "dac617dd-edee-4dd7-a529-afb341c9de66",
   "metadata": {},
   "outputs": [],
   "source": [
    "interp.load.module(ammonite.ops.Path(java.nio.file.FileSystems.getDefault().getPath(path)))"
   ]
  },
  {
   "cell_type": "code",
   "execution_count": 27,
   "id": "extended-burning",
   "metadata": {
    "slideshow": {
     "slide_type": "-"
    }
   },
   "outputs": [
    {
     "data": {
      "text/plain": [
       "\u001b[32mimport \u001b[39m\u001b[36mchisel3._\n",
       "\u001b[39m\n",
       "\u001b[32mimport \u001b[39m\u001b[36mchisel3.util._\n",
       "\u001b[39m\n",
       "\u001b[32mimport \u001b[39m\u001b[36mchiseltest._\n",
       "\u001b[39m\n",
       "\u001b[32mimport \u001b[39m\u001b[36mchiseltest.RawTester.test\u001b[39m"
      ]
     },
     "execution_count": 27,
     "metadata": {},
     "output_type": "execute_result"
    }
   ],
   "source": [
    "//import chisel3._\n",
    "//import chisel3.util._\n",
    "//import chiseltest._\n",
    "//import chiseltest.RawTester.test\n",
    "import chisel3._\n",
    "import chisel3.util._\n",
    "import chiseltest._\n",
    "import chiseltest.RawTester.test"
   ]
  },
  {
   "cell_type": "code",
   "execution_count": 28,
   "id": "de726975-9e17-42f1-9c66-7c0df0ad33cb",
   "metadata": {},
   "outputs": [
    {
     "name": "stdout",
     "output_type": "stream",
     "text": [
      "Elaborating design...\n",
      "Done elaborating.\n",
      "module RegLand(\n",
      "  input   clock,\n",
      "  input   reset,\n",
      "  input   io_in,\n",
      "  input   io_en,\n",
      "  output  io_out\n",
      ");\n",
      "`ifdef RANDOMIZE_REG_INIT\n",
      "  reg [31:0] _RAND_0;\n",
      "`endif // RANDOMIZE_REG_INIT\n",
      "  reg  r; // @[cmd27.sc 7:16]\n",
      "  assign io_out = r; // @[cmd27.sc 10:12]\n",
      "  always @(posedge clock) begin\n",
      "    r <= io_in; // @[cmd27.sc 9:7]\n",
      "  end\n",
      "// Register and memory initialization\n",
      "`ifdef RANDOMIZE_GARBAGE_ASSIGN\n",
      "`define RANDOMIZE\n",
      "`endif\n",
      "`ifdef RANDOMIZE_INVALID_ASSIGN\n",
      "`define RANDOMIZE\n",
      "`endif\n",
      "`ifdef RANDOMIZE_REG_INIT\n",
      "`define RANDOMIZE\n",
      "`endif\n",
      "`ifdef RANDOMIZE_MEM_INIT\n",
      "`define RANDOMIZE\n",
      "`endif\n",
      "`ifndef RANDOM\n",
      "`define RANDOM $random\n",
      "`endif\n",
      "`ifdef RANDOMIZE_MEM_INIT\n",
      "  integer initvar;\n",
      "`endif\n",
      "`ifndef SYNTHESIS\n",
      "`ifdef FIRRTL_BEFORE_INITIAL\n",
      "`FIRRTL_BEFORE_INITIAL\n",
      "`endif\n",
      "initial begin\n",
      "  `ifdef RANDOMIZE\n",
      "    `ifdef INIT_RANDOM\n",
      "      `INIT_RANDOM\n",
      "    `endif\n",
      "    `ifndef VERILATOR\n",
      "      `ifdef RANDOMIZE_DELAY\n",
      "        #`RANDOMIZE_DELAY begin end\n",
      "      `else\n",
      "        #0.002 begin end\n",
      "      `endif\n",
      "    `endif\n",
      "`ifdef RANDOMIZE_REG_INIT\n",
      "  _RAND_0 = {1{`RANDOM}};\n",
      "  r = _RAND_0[0:0];\n",
      "`endif // RANDOMIZE_REG_INIT\n",
      "  `endif // RANDOMIZE\n",
      "end // initial\n",
      "`ifdef FIRRTL_AFTER_INITIAL\n",
      "`FIRRTL_AFTER_INITIAL\n",
      "`endif\n",
      "`endif // SYNTHESIS\n",
      "endmodule\n",
      "\n"
     ]
    },
    {
     "data": {
      "text/plain": [
       "defined \u001b[32mclass\u001b[39m \u001b[36mRegLand\u001b[39m"
      ]
     },
     "execution_count": 28,
     "metadata": {},
     "output_type": "execute_result"
    }
   ],
   "source": [
    "// Test\n",
    "class RegLand extends Module {\n",
    "    val io = IO(new Bundle {\n",
    "        val in  = Input(Bool())\n",
    "        val en  = Input(Bool())\n",
    "        val out = Output(Bool())\n",
    "    })\n",
    "    val r = Reg(Bool())\n",
    "//    val r = RegInit(0.B)\n",
    "    r := io.in\n",
    "    io.out := r\n",
    "//     io.out := RegNext(io.in, 0.B)\n",
    "//     io.out := RegEnable(io.in, 0.B, io.en)\n",
    "}\n",
    "println (getVerilog(new RegLand))"
   ]
  },
  {
   "cell_type": "code",
   "execution_count": 29,
   "id": "b1be3749-4f6e-445c-9862-3ca40d565b7e",
   "metadata": {},
   "outputs": [
    {
     "data": {
      "text/plain": [
       "defined \u001b[32mclass\u001b[39m \u001b[36mDelayNCycles\u001b[39m"
      ]
     },
     "execution_count": 29,
     "metadata": {},
     "output_type": "execute_result"
    }
   ],
   "source": [
    "class DelayNCycles(n: Int) extends Module {\n",
    "    val io = IO(new Bundle {\n",
    "        val in  = Input(Bool())\n",
    "        val out = Output(Bool())\n",
    "    })\n",
    "    require(n > 0)\n",
    "    val regs = Seq.fill(n)(Reg(Bool()))\n",
    "    regs(0) := io.in\n",
    "    for (i <- 1 until n)\n",
    "        regs(i) := regs(i-1)\n",
    "    io.out := regs(n-1)\n",
    "}\n",
    "//println(getVerilog(new DelayNCycles(2)))"
   ]
  },
  {
   "cell_type": "code",
   "execution_count": 30,
   "id": "5cb0874d-cf34-456b-aa2a-5daa32f96e50",
   "metadata": {},
   "outputs": [
    {
     "name": "stdout",
     "output_type": "stream",
     "text": [
      "Elaborating design...\n",
      "Done elaborating.\n",
      "module DelayNCycles(\n",
      "  input   clock,\n",
      "  input   reset,\n",
      "  input   io_in,\n",
      "  output  io_out\n",
      ");\n",
      "`ifdef RANDOMIZE_REG_INIT\n",
      "  reg [31:0] _RAND_0;\n",
      "  reg [31:0] _RAND_1;\n",
      "`endif // RANDOMIZE_REG_INIT\n",
      "  reg  regs_0; // @[cmd28.sc 7:31]\n",
      "  reg  regs_1; // @[cmd28.sc 7:31]\n",
      "  assign io_out = regs_1; // @[cmd28.sc 11:12]\n",
      "  always @(posedge clock) begin\n",
      "    regs_0 <= io_in; // @[cmd28.sc 8:13]\n",
      "    regs_1 <= regs_0; // @[cmd28.sc 10:17]\n",
      "  end\n",
      "// Register and memory initialization\n",
      "`ifdef RANDOMIZE_GARBAGE_ASSIGN\n",
      "`define RANDOMIZE\n",
      "`endif\n",
      "`ifdef RANDOMIZE_INVALID_ASSIGN\n",
      "`define RANDOMIZE\n",
      "`endif\n",
      "`ifdef RANDOMIZE_REG_INIT\n",
      "`define RANDOMIZE\n",
      "`endif\n",
      "`ifdef RANDOMIZE_MEM_INIT\n",
      "`define RANDOMIZE\n",
      "`endif\n",
      "`ifndef RANDOM\n",
      "`define RANDOM $random\n",
      "`endif\n",
      "`ifdef RANDOMIZE_MEM_INIT\n",
      "  integer initvar;\n",
      "`endif\n",
      "`ifndef SYNTHESIS\n",
      "`ifdef FIRRTL_BEFORE_INITIAL\n",
      "`FIRRTL_BEFORE_INITIAL\n",
      "`endif\n",
      "initial begin\n",
      "  `ifdef RANDOMIZE\n",
      "    `ifdef INIT_RANDOM\n",
      "      `INIT_RANDOM\n",
      "    `endif\n",
      "    `ifndef VERILATOR\n",
      "      `ifdef RANDOMIZE_DELAY\n",
      "        #`RANDOMIZE_DELAY begin end\n",
      "      `else\n",
      "        #0.002 begin end\n",
      "      `endif\n",
      "    `endif\n",
      "`ifdef RANDOMIZE_REG_INIT\n",
      "  _RAND_0 = {1{`RANDOM}};\n",
      "  regs_0 = _RAND_0[0:0];\n",
      "  _RAND_1 = {1{`RANDOM}};\n",
      "  regs_1 = _RAND_1[0:0];\n",
      "`endif // RANDOMIZE_REG_INIT\n",
      "  `endif // RANDOMIZE\n",
      "end // initial\n",
      "`ifdef FIRRTL_AFTER_INITIAL\n",
      "`FIRRTL_AFTER_INITIAL\n",
      "`endif\n",
      "`endif // SYNTHESIS\n",
      "endmodule\n",
      "\n"
     ]
    }
   ],
   "source": [
    "println(getVerilog(new DelayNCycles(2)))"
   ]
  },
  {
   "cell_type": "markdown",
   "id": "personalized-paragraph",
   "metadata": {
    "cell_style": "split",
    "slideshow": {
     "slide_type": "slide"
    }
   },
   "source": [
    "## Scala Methods\n",
    "\n",
    "* Syntax examples on right\n",
    "  * Multi-line bodies need braces\n",
    "  * Last line is returned\n",
    "  * Normally inside `class` or `object`\n",
    "\n",
    "* Arguments are immutable by default\n",
    "\n",
    "* Can give default argument values\n"
   ]
  },
  {
   "cell_type": "markdown",
   "id": "31af3a3a-c04a-41ce-8151-d3c48cd92efd",
   "metadata": {},
   "source": [
    "### One Line Method ###"
   ]
  },
  {
   "cell_type": "code",
   "execution_count": 31,
   "id": "subject-puppy",
   "metadata": {
    "cell_style": "split"
   },
   "outputs": [
    {
     "data": {
      "text/plain": [
       "defined \u001b[32mfunction\u001b[39m \u001b[36mplusOne\u001b[39m\n",
       "\u001b[36mres30_1\u001b[39m: \u001b[32mInt\u001b[39m = \u001b[32m6\u001b[39m\n",
       "defined \u001b[32mfunction\u001b[39m \u001b[36mplusX\u001b[39m\n",
       "\u001b[36mres30_3\u001b[39m: \u001b[32mInt\u001b[39m = \u001b[32m7\u001b[39m\n",
       "\u001b[36mres30_4\u001b[39m: \u001b[32mInt\u001b[39m = \u001b[32m6\u001b[39m"
      ]
     },
     "execution_count": 31,
     "metadata": {},
     "output_type": "execute_result"
    }
   ],
   "source": [
    "def plusOne(n: Int) = n + 1\n",
    "\n",
    "plusOne(5)\n",
    "\n",
    "def plusX(n: Int, x: Int = 1) = n + x\n",
    "\n",
    "plusX(5,2)\n",
    "plusX(5)"
   ]
  },
  {
   "cell_type": "markdown",
   "id": "2727501a-886e-4f94-805b-e0fed75f31f9",
   "metadata": {},
   "source": [
    "### Several Lines Method ###"
   ]
  },
  {
   "cell_type": "code",
   "execution_count": 32,
   "id": "07a4d882-cb02-43a3-98ef-49d34bd1db9c",
   "metadata": {},
   "outputs": [
    {
     "data": {
      "text/plain": [
       "defined \u001b[32mfunction\u001b[39m \u001b[36mplusOne1\u001b[39m\n",
       "defined \u001b[32mfunction\u001b[39m \u001b[36mplusX1\u001b[39m\n",
       "\u001b[36mres31_2\u001b[39m: \u001b[32mInt\u001b[39m = \u001b[32m4\u001b[39m\n",
       "\u001b[36mres31_3\u001b[39m: \u001b[32mInt\u001b[39m = \u001b[32m7\u001b[39m"
      ]
     },
     "execution_count": 32,
     "metadata": {},
     "output_type": "execute_result"
    }
   ],
   "source": [
    "def plusOne1(n: Int) = {\n",
    "    n + 1\n",
    "}\n",
    "\n",
    "def plusX1 (n: Int, x: Int = 1) = {\n",
    "    n + x\n",
    "}\n",
    "\n",
    "plusOne1 (3)\n",
    "plusX1 (5, 2)"
   ]
  },
  {
   "cell_type": "markdown",
   "id": "peripheral-leeds",
   "metadata": {
    "cell_style": "split",
    "slideshow": {
     "slide_type": "slide"
    }
   },
   "source": [
    "## Recursive Scala Methods\n",
    "\n",
    "\n",
    "* Need be sure to specify return type\n",
    "  * `Unit` is nothing (like void)\n",
    "* Be sure to think of base case\n",
    "* Helpful for iteration or decomposing a problem\n"
   ]
  },
  {
   "cell_type": "code",
   "execution_count": 33,
   "id": "dutch-installation",
   "metadata": {
    "cell_style": "split"
   },
   "outputs": [
    {
     "name": "stdout",
     "output_type": "stream",
     "text": [
      "n = 0, reSum(0) = 0\n",
      "n = 1, reSum(1) = 1\n",
      "n = 2, reSum(2) = 3\n",
      "n = 3, reSum(3) = 6\n",
      "n = 4, reSum(4) = 10\n",
      "n = 5, reSum(5) = 15\n",
      "n = 6, reSum(6) = 21\n",
      "n = 7, reSum(7) = 28\n",
      "n = 8, reSum(8) = 36\n",
      "n = 9, reSum(9) = 45\n"
     ]
    },
    {
     "data": {
      "text/plain": [
       "defined \u001b[32mfunction\u001b[39m \u001b[36mrecSum\u001b[39m"
      ]
     },
     "execution_count": 33,
     "metadata": {},
     "output_type": "execute_result"
    }
   ],
   "source": [
    "// recusrive sum\n",
    "def recSum(n: Int): Int = {\n",
    "    if (n <= 0) 0\n",
    "    else n + recSum(n - 1)\n",
    "}\n",
    "\n",
    "for (n <- 0 until 10)\n",
    "   println(\"n = \" + n + \", reSum(\" + n + \") = \" + recSum(n))"
   ]
  },
  {
   "cell_type": "code",
   "execution_count": 34,
   "id": "1c392494-6f0e-4799-9ea0-ee54f4f6eb0f",
   "metadata": {},
   "outputs": [
    {
     "name": "stdout",
     "output_type": "stream",
     "text": [
      "n = 0, fib(0) = 0\n",
      "n = 1, fib(1) = 1\n",
      "n = 2, fib(2) = 1\n",
      "n = 3, fib(3) = 2\n",
      "n = 4, fib(4) = 3\n",
      "n = 5, fib(5) = 5\n",
      "n = 6, fib(6) = 8\n",
      "n = 7, fib(7) = 13\n",
      "n = 8, fib(8) = 21\n",
      "n = 9, fib(9) = 34\n"
     ]
    },
    {
     "data": {
      "text/plain": [
       "defined \u001b[32mfunction\u001b[39m \u001b[36mfib\u001b[39m"
      ]
     },
     "execution_count": 34,
     "metadata": {},
     "output_type": "execute_result"
    }
   ],
   "source": [
    "// Fibobacci Recusrive Sequence\n",
    "def fib(n: Int): Int = {\n",
    "    if (n < 2) n\n",
    "    else fib(n-1) + fib(n-2)\n",
    "}\n",
    "\n",
    "for (n <- 0 until 10)\n",
    "    println(\"n = \" + n + \", fib(\" + n + \") = \" + fib(n))"
   ]
  },
  {
   "cell_type": "markdown",
   "id": "independent-thinking",
   "metadata": {
    "slideshow": {
     "slide_type": "slide"
    }
   },
   "source": [
    "## Using Scala to Construct Chisel Components\n",
    "\n",
    "* Chisel components are just objects in Scala, so can use methods to build them up\n",
    "  * Can _encapsulate_ (hide) complexity\n",
    "  * Can declare once, use in many places\n",
    "  * Use recursion to perform iteration (to implement paramterized flexibility)\n",
    "\n",
    "* Although testers requires a `Module`, valid to construct components outside\n",
    "  * Chisel's `Module` & `Bundle` add things to class (through inheritance)"
   ]
  },
  {
   "cell_type": "markdown",
   "id": "hollow-withdrawal",
   "metadata": {
    "slideshow": {
     "slide_type": "slide"
    }
   },
   "source": [
    "## DelayN (shift register) Revised with Helper Function"
   ]
  },
  {
   "cell_type": "code",
   "execution_count": 35,
   "id": "touched-effort",
   "metadata": {
    "cell_style": "split"
   },
   "outputs": [
    {
     "data": {
      "text/plain": [
       "defined \u001b[32mclass\u001b[39m \u001b[36mDelayNCycles\u001b[39m"
      ]
     },
     "execution_count": 35,
     "metadata": {},
     "output_type": "execute_result"
    }
   ],
   "source": [
    "class DelayNCycles(n: Int) extends Module {\n",
    "    val io = IO(new Bundle {\n",
    "        val in  = Input(Bool())\n",
    "        val out = Output(Bool())\n",
    "    })\n",
    "    require(n >= 0)\n",
    "    var lastConn = io.in\n",
    "    for (i <- 0 until n)\n",
    "        lastConn = RegNext(lastConn)\n",
    "    io.out := lastConn\n",
    "}\n",
    "//printVerilog(new DelayNCycles(2))"
   ]
  },
  {
   "cell_type": "code",
   "execution_count": 36,
   "id": "9f52236f-0956-4a7c-9ff5-d771b38c4a14",
   "metadata": {},
   "outputs": [
    {
     "name": "stdout",
     "output_type": "stream",
     "text": [
      "Elaborating design...\n",
      "Done elaborating.\n",
      "module DelayNCycles(\n",
      "  input   clock,\n",
      "  input   reset,\n",
      "  input   io_in,\n",
      "  output  io_out\n",
      ");\n",
      "`ifdef RANDOMIZE_REG_INIT\n",
      "  reg [31:0] _RAND_0;\n",
      "  reg [31:0] _RAND_1;\n",
      "`endif // RANDOMIZE_REG_INIT\n",
      "  reg  REG; // @[cmd34.sc 9:27]\n",
      "  reg  lastConn; // @[cmd34.sc 9:27]\n",
      "  assign io_out = lastConn; // @[cmd34.sc 10:12]\n",
      "  always @(posedge clock) begin\n",
      "    REG <= io_in; // @[cmd34.sc 9:27]\n",
      "    lastConn <= REG; // @[cmd34.sc 9:27]\n",
      "  end\n",
      "// Register and memory initialization\n",
      "`ifdef RANDOMIZE_GARBAGE_ASSIGN\n",
      "`define RANDOMIZE\n",
      "`endif\n",
      "`ifdef RANDOMIZE_INVALID_ASSIGN\n",
      "`define RANDOMIZE\n",
      "`endif\n",
      "`ifdef RANDOMIZE_REG_INIT\n",
      "`define RANDOMIZE\n",
      "`endif\n",
      "`ifdef RANDOMIZE_MEM_INIT\n",
      "`define RANDOMIZE\n",
      "`endif\n",
      "`ifndef RANDOM\n",
      "`define RANDOM $random\n",
      "`endif\n",
      "`ifdef RANDOMIZE_MEM_INIT\n",
      "  integer initvar;\n",
      "`endif\n",
      "`ifndef SYNTHESIS\n",
      "`ifdef FIRRTL_BEFORE_INITIAL\n",
      "`FIRRTL_BEFORE_INITIAL\n",
      "`endif\n",
      "initial begin\n",
      "  `ifdef RANDOMIZE\n",
      "    `ifdef INIT_RANDOM\n",
      "      `INIT_RANDOM\n",
      "    `endif\n",
      "    `ifndef VERILATOR\n",
      "      `ifdef RANDOMIZE_DELAY\n",
      "        #`RANDOMIZE_DELAY begin end\n",
      "      `else\n",
      "        #0.002 begin end\n",
      "      `endif\n",
      "    `endif\n",
      "`ifdef RANDOMIZE_REG_INIT\n",
      "  _RAND_0 = {1{`RANDOM}};\n",
      "  REG = _RAND_0[0:0];\n",
      "  _RAND_1 = {1{`RANDOM}};\n",
      "  lastConn = _RAND_1[0:0];\n",
      "`endif // RANDOMIZE_REG_INIT\n",
      "  `endif // RANDOMIZE\n",
      "end // initial\n",
      "`ifdef FIRRTL_AFTER_INITIAL\n",
      "`FIRRTL_AFTER_INITIAL\n",
      "`endif\n",
      "`endif // SYNTHESIS\n",
      "endmodule\n",
      "\n"
     ]
    }
   ],
   "source": [
    "println(getVerilog(new DelayNCycles(2)))"
   ]
  },
  {
   "cell_type": "code",
   "execution_count": 37,
   "id": "broadband-number",
   "metadata": {
    "cell_style": "split",
    "slideshow": {
     "slide_type": "fragment"
    }
   },
   "outputs": [
    {
     "name": "stdout",
     "output_type": "stream",
     "text": [
      "Elaborating design...\n",
      "Done elaborating.\n",
      "module DelayNCycles(\n",
      "  input   clock,\n",
      "  input   reset,\n",
      "  input   io_in,\n",
      "  output  io_out\n",
      ");\n",
      "`ifdef RANDOMIZE_REG_INIT\n",
      "  reg [31:0] _RAND_0;\n",
      "  reg [31:0] _RAND_1;\n",
      "`endif // RANDOMIZE_REG_INIT\n",
      "  reg  REG; // @[cmd36.sc 9:33]\n",
      "  reg  REG_1; // @[cmd36.sc 9:33]\n",
      "  assign io_out = REG_1; // @[cmd36.sc 11:12]\n",
      "  always @(posedge clock) begin\n",
      "    REG <= io_in; // @[cmd36.sc 9:33]\n",
      "    REG_1 <= REG; // @[cmd36.sc 9:33]\n",
      "  end\n",
      "// Register and memory initialization\n",
      "`ifdef RANDOMIZE_GARBAGE_ASSIGN\n",
      "`define RANDOMIZE\n",
      "`endif\n",
      "`ifdef RANDOMIZE_INVALID_ASSIGN\n",
      "`define RANDOMIZE\n",
      "`endif\n",
      "`ifdef RANDOMIZE_REG_INIT\n",
      "`define RANDOMIZE\n",
      "`endif\n",
      "`ifdef RANDOMIZE_MEM_INIT\n",
      "`define RANDOMIZE\n",
      "`endif\n",
      "`ifndef RANDOM\n",
      "`define RANDOM $random\n",
      "`endif\n",
      "`ifdef RANDOMIZE_MEM_INIT\n",
      "  integer initvar;\n",
      "`endif\n",
      "`ifndef SYNTHESIS\n",
      "`ifdef FIRRTL_BEFORE_INITIAL\n",
      "`FIRRTL_BEFORE_INITIAL\n",
      "`endif\n",
      "initial begin\n",
      "  `ifdef RANDOMIZE\n",
      "    `ifdef INIT_RANDOM\n",
      "      `INIT_RANDOM\n",
      "    `endif\n",
      "    `ifndef VERILATOR\n",
      "      `ifdef RANDOMIZE_DELAY\n",
      "        #`RANDOMIZE_DELAY begin end\n",
      "      `else\n",
      "        #0.002 begin end\n",
      "      `endif\n",
      "    `endif\n",
      "`ifdef RANDOMIZE_REG_INIT\n",
      "  _RAND_0 = {1{`RANDOM}};\n",
      "  REG = _RAND_0[0:0];\n",
      "  _RAND_1 = {1{`RANDOM}};\n",
      "  REG_1 = _RAND_1[0:0];\n",
      "`endif // RANDOMIZE_REG_INIT\n",
      "  `endif // RANDOMIZE\n",
      "end // initial\n",
      "`ifdef FIRRTL_AFTER_INITIAL\n",
      "`FIRRTL_AFTER_INITIAL\n",
      "`endif\n",
      "`endif // SYNTHESIS\n",
      "endmodule\n",
      "\n"
     ]
    },
    {
     "data": {
      "text/plain": [
       "defined \u001b[32mclass\u001b[39m \u001b[36mDelayNCycles\u001b[39m"
      ]
     },
     "execution_count": 37,
     "metadata": {},
     "output_type": "execute_result"
    }
   ],
   "source": [
    "class DelayNCycles(n: Int) extends Module {\n",
    "    val io = IO(new Bundle {\n",
    "        val in  = Input(Bool())\n",
    "        val out = Output(Bool())\n",
    "    })\n",
    "    require(n >= 0)\n",
    "    def helper(n: Int, lastConn: Bool): Bool = {\n",
    "        if (n == 0) lastConn\n",
    "        else helper(n-1, RegNext(lastConn))\n",
    "    }\n",
    "    io.out := helper(n, io.in)\n",
    "}\n",
    "//printVerilog(new DelayNCycles(2))\n",
    "println(getVerilog(new DelayNCycles(2)))"
   ]
  },
  {
   "cell_type": "markdown",
   "id": "younger-second",
   "metadata": {
    "cell_style": "split",
    "slideshow": {
     "slide_type": "slide"
    }
   },
   "source": [
    "## Scala `object`\n",
    "\n",
    "* _Singleton_ object\n",
    "  * Exacly one always exists\n",
    "  * By contrast, must instantiate a `class` to use\n",
    "\n",
    "* Typical uses\n",
    "  * Shared state (constant or mutable)\n",
    "  * Stateless functions\n",
    "  * Factory methods (as _companion object_)\n",
    "  * ChiselEnums"
   ]
  },
  {
   "cell_type": "markdown",
   "id": "da8f9676-feb9-46e4-aba9-e941a527a91d",
   "metadata": {},
   "source": [
    "### Create Object and Access the Method of class MyPair ###"
   ]
  },
  {
   "cell_type": "code",
   "execution_count": 38,
   "id": "instrumental-stanford",
   "metadata": {
    "cell_style": "split"
   },
   "outputs": [
    {
     "name": "stdout",
     "output_type": "stream",
     "text": [
      "val mpc = new MyPair(3,4):\n",
      "mpc.sum(): 7\n",
      "mpc.sum: 7\n"
     ]
    },
    {
     "data": {
      "text/plain": [
       "defined \u001b[32mclass\u001b[39m \u001b[36mMyPair\u001b[39m\n",
       "defined \u001b[32mobject\u001b[39m \u001b[36mMyPair\u001b[39m\n",
       "\u001b[36mmpc\u001b[39m: \u001b[32mMyPair\u001b[39m = ammonite.$sess.cmd37$Helper$MyPair@5d3d4c56"
      ]
     },
     "execution_count": 38,
     "metadata": {},
     "output_type": "execute_result"
    }
   ],
   "source": [
    "class MyPair(a: Int, b: Int) {\n",
    "    def sum() = a + b\n",
    "}\n",
    "\n",
    "object MyPair {\n",
    "    var numPairs = 0\n",
    "    def apply(a: Int, b: Int) = {\n",
    "        numPairs += 1\n",
    "        new MyPair(a,b)\n",
    "    }\n",
    "    def apply(a: Int): MyPair = apply(a, 0)\n",
    "}\n",
    "\n",
    "println(\"val mpc = new MyPair(3,4):\")\n",
    "val mpc = new MyPair(3,4)\n",
    "println(\"mpc.sum(): \" + mpc.sum())\n",
    "println(\"mpc.sum: \" + mpc.sum)"
   ]
  },
  {
   "cell_type": "markdown",
   "id": "f56a7503-8a74-4fe6-b071-2b6c76c262e6",
   "metadata": {},
   "source": [
    "### Direct Access Method and Data with Object ###"
   ]
  },
  {
   "cell_type": "code",
   "execution_count": 39,
   "id": "9cac29c3-b960-4fe3-98dd-58c8479a576c",
   "metadata": {},
   "outputs": [
    {
     "name": "stdout",
     "output_type": "stream",
     "text": [
      "MyPair(2,3): ammonite.$sess.cmd38$Helper$MyPair@78e87c11\n",
      "MyPair(2,3).sum: 5\n",
      "MyPair.numPairs: 2\n",
      "\n",
      "val mpo = MyPair(3):\n",
      "mpo.sum: 3\n",
      "MyPair.numPairs: 3\n"
     ]
    },
    {
     "data": {
      "text/plain": [
       "defined \u001b[32mclass\u001b[39m \u001b[36mMyPair\u001b[39m\n",
       "defined \u001b[32mobject\u001b[39m \u001b[36mMyPair\u001b[39m\n",
       "\u001b[36mmpo\u001b[39m: \u001b[32mMyPair\u001b[39m = ammonite.$sess.cmd38$Helper$MyPair@6602c532"
      ]
     },
     "execution_count": 39,
     "metadata": {},
     "output_type": "execute_result"
    }
   ],
   "source": [
    "class MyPair(a: Int, b: Int) {\n",
    "    def sum() = a + b\n",
    "}\n",
    "\n",
    "object MyPair {\n",
    "    var numPairs = 0\n",
    "    def apply(a: Int, b: Int) = {\n",
    "        numPairs += 1\n",
    "        new MyPair(a,b)\n",
    "    }\n",
    "    def apply(a: Int): MyPair = apply(a, 0)\n",
    "}\n",
    "\n",
    "println (\"MyPair(2,3): \" + MyPair(2,3))\n",
    "println (\"MyPair(2,3).sum: \" + MyPair(2,3).sum)\n",
    "println (\"MyPair.numPairs: \" + MyPair.numPairs)\n",
    "println()\n",
    "println (\"val mpo = MyPair(3):\")\n",
    "val mpo = MyPair(3)\n",
    "println (\"mpo.sum: \" + mpo.sum)\n",
    "println (\"MyPair.numPairs: \" + MyPair.numPairs)"
   ]
  },
  {
   "cell_type": "markdown",
   "id": "second-syntax",
   "metadata": {
    "slideshow": {
     "slide_type": "slide"
    }
   },
   "source": [
    "## Factory Method for `MyCounter` ##"
   ]
  },
  {
   "cell_type": "code",
   "execution_count": 40,
   "id": "written-halloween",
   "metadata": {
    "cell_style": "split"
   },
   "outputs": [
    {
     "data": {
      "text/plain": [
       "defined \u001b[32mclass\u001b[39m \u001b[36mMyCounter\u001b[39m\n",
       "defined \u001b[32mobject\u001b[39m \u001b[36mMyCounter\u001b[39m"
      ]
     },
     "execution_count": 40,
     "metadata": {},
     "output_type": "execute_result"
    }
   ],
   "source": [
    "class MyCounter(maxVal: Int) extends Module {\n",
    "    val io = IO(new Bundle {\n",
    "        val en  = Input(Bool())\n",
    "        val out = Output(UInt())\n",
    "    })\n",
    "    val count = RegInit(0.U(log2Ceil(maxVal+1).W))\n",
    "    when (io.en) {\n",
    "        when (count < maxVal.U) {\n",
    "            count := count + 1.U\n",
    "        } .otherwise {\n",
    "            count := 0.U\n",
    "        }\n",
    "    }\n",
    "    io.out := count\n",
    "}\n",
    "\n",
    "object MyCounter {\n",
    "    def apply(maxVal: Int) = new MyCounter(maxVal)\n",
    "}"
   ]
  },
  {
   "cell_type": "code",
   "execution_count": 41,
   "id": "neural-builder",
   "metadata": {
    "cell_style": "split"
   },
   "outputs": [
    {
     "name": "stdout",
     "output_type": "stream",
     "text": [
      "Elaborating design...\n",
      "Done elaborating.\n",
      "module MyCounter(\n",
      "  input        clock,\n",
      "  input        reset,\n",
      "  input        io_en,\n",
      "  output [3:0] io_out\n",
      ");\n",
      "`ifdef RANDOMIZE_REG_INIT\n",
      "  reg [31:0] _RAND_0;\n",
      "`endif // RANDOMIZE_REG_INIT\n",
      "  reg [3:0] count; // @[cmd39.sc 6:24]\n",
      "  wire [3:0] _T_2 = count + 4'h1; // @[cmd39.sc 9:28]\n",
      "  assign io_out = count; // @[cmd39.sc 14:12]\n",
      "  always @(posedge clock) begin\n",
      "    if (reset) begin // @[cmd39.sc 6:24]\n",
      "      count <= 4'h0; // @[cmd39.sc 6:24]\n",
      "    end else if (io_en) begin // @[cmd39.sc 7:18]\n",
      "      if (count < 4'hf) begin // @[cmd39.sc 8:33]\n",
      "        count <= _T_2; // @[cmd39.sc 9:19]\n",
      "      end else begin\n",
      "        count <= 4'h0; // @[cmd39.sc 11:19]\n",
      "      end\n",
      "    end\n",
      "  end\n",
      "// Register and memory initialization\n",
      "`ifdef RANDOMIZE_GARBAGE_ASSIGN\n",
      "`define RANDOMIZE\n",
      "`endif\n",
      "`ifdef RANDOMIZE_INVALID_ASSIGN\n",
      "`define RANDOMIZE\n",
      "`endif\n",
      "`ifdef RANDOMIZE_REG_INIT\n",
      "`define RANDOMIZE\n",
      "`endif\n",
      "`ifdef RANDOMIZE_MEM_INIT\n",
      "`define RANDOMIZE\n",
      "`endif\n",
      "`ifndef RANDOM\n",
      "`define RANDOM $random\n",
      "`endif\n",
      "`ifdef RANDOMIZE_MEM_INIT\n",
      "  integer initvar;\n",
      "`endif\n",
      "`ifndef SYNTHESIS\n",
      "`ifdef FIRRTL_BEFORE_INITIAL\n",
      "`FIRRTL_BEFORE_INITIAL\n",
      "`endif\n",
      "initial begin\n",
      "  `ifdef RANDOMIZE\n",
      "    `ifdef INIT_RANDOM\n",
      "      `INIT_RANDOM\n",
      "    `endif\n",
      "    `ifndef VERILATOR\n",
      "      `ifdef RANDOMIZE_DELAY\n",
      "        #`RANDOMIZE_DELAY begin end\n",
      "      `else\n",
      "        #0.002 begin end\n",
      "      `endif\n",
      "    `endif\n",
      "`ifdef RANDOMIZE_REG_INIT\n",
      "  _RAND_0 = {1{`RANDOM}};\n",
      "  count = _RAND_0[3:0];\n",
      "`endif // RANDOMIZE_REG_INIT\n",
      "  `endif // RANDOMIZE\n",
      "end // initial\n",
      "`ifdef FIRRTL_AFTER_INITIAL\n",
      "`FIRRTL_AFTER_INITIAL\n",
      "`endif\n",
      "`endif // SYNTHESIS\n",
      "endmodule\n",
      "\n"
     ]
    }
   ],
   "source": [
    "//printVerilog(new MyCounter(15))\n",
    "println(getVerilog(new MyCounter(15)))"
   ]
  },
  {
   "cell_type": "markdown",
   "id": "radical-picnic",
   "metadata": {
    "slideshow": {
     "slide_type": "slide"
    }
   },
   "source": [
    "## MyCounter without `Module`"
   ]
  },
  {
   "cell_type": "markdown",
   "id": "5ef99d9f-55f5-4eda-b1e5-a324d5c39378",
   "metadata": {},
   "source": [
    "### Factory Method without Module ###\n",
    "1. Define a class MyCounter without extends Module.\n",
    "2. Define an object to access MyCounter object. "
   ]
  },
  {
   "cell_type": "markdown",
   "id": "ef49d026-d898-449e-a8d5-aa426bc3b8a4",
   "metadata": {
    "cell_style": "split"
   },
   "source": [
    "class MyCounter(maxVal: Int, en: Bool) {\n",
    "    val count = RegInit(0.U(log2Ceil(maxVal+1).W))\n",
    "    when (en) {\n",
    "        when (count < maxVal.U) {\n",
    "            count := count + 1.U\n",
    "        } .otherwise {\n",
    "            count := 0.U\n",
    "        }\n",
    "    }\n",
    "}\n",
    "\n",
    "object MyCounter {\n",
    "    def apply(maxVal: Int, en: Bool) = {\n",
    "        val mc = new MyCounter(maxVal, en)\n",
    "        mc.count\n",
    "    }\n",
    "}"
   ]
  },
  {
   "cell_type": "code",
   "execution_count": 42,
   "id": "d476aa35-dfaf-4f31-8542-03c9c2c41fe2",
   "metadata": {},
   "outputs": [
    {
     "data": {
      "text/plain": [
       "defined \u001b[32mclass\u001b[39m \u001b[36mMyCounter\u001b[39m\n",
       "defined \u001b[32mobject\u001b[39m \u001b[36mMyCounter\u001b[39m"
      ]
     },
     "execution_count": 42,
     "metadata": {},
     "output_type": "execute_result"
    }
   ],
   "source": [
    "class MyCounter(maxVal: Int, en: Bool) {\n",
    "    val count = RegInit(0.U(log2Ceil(maxVal+1).W))\n",
    "    when (en) {\n",
    "        when (count < maxVal.U) {\n",
    "            count := count + 1.U\n",
    "        } .otherwise {\n",
    "            count := 0.U\n",
    "        }\n",
    "    }\n",
    "}\n",
    "\n",
    "object MyCounter {\n",
    "    def apply(maxVal: Int, en: Bool) = {\n",
    "        val mc = new MyCounter(maxVal, en)\n",
    "        mc.count\n",
    "    }\n",
    "}"
   ]
  },
  {
   "cell_type": "markdown",
   "id": "139217e5-cf0b-4c9e-832d-d991cab9a2b4",
   "metadata": {},
   "source": [
    "### Create class to access the MyCounter Object ### "
   ]
  },
  {
   "cell_type": "code",
   "execution_count": 43,
   "id": "initial-manual",
   "metadata": {
    "cell_style": "split"
   },
   "outputs": [
    {
     "data": {
      "text/plain": [
       "defined \u001b[32mclass\u001b[39m \u001b[36mCounterInstMod\u001b[39m"
      ]
     },
     "execution_count": 43,
     "metadata": {},
     "output_type": "execute_result"
    }
   ],
   "source": [
    "class CounterInstMod(n: Int) extends Module {\n",
    "    val io = IO(new Bundle {\n",
    "        val en  = Input(Bool())\n",
    "        val count = Output(UInt())\n",
    "    })\n",
    "    io.count := MyCounter(n, io.en)\n",
    "}"
   ]
  },
  {
   "cell_type": "code",
   "execution_count": 44,
   "id": "4abb2193-71ec-4e13-9ad4-40de37a365ee",
   "metadata": {},
   "outputs": [
    {
     "name": "stdout",
     "output_type": "stream",
     "text": [
      "Elaborating design...\n",
      "Done elaborating.\n",
      "module CounterInstMod(\n",
      "  input        clock,\n",
      "  input        reset,\n",
      "  input        io_en,\n",
      "  output [2:0] io_count\n",
      ");\n",
      "`ifdef RANDOMIZE_REG_INIT\n",
      "  reg [31:0] _RAND_0;\n",
      "`endif // RANDOMIZE_REG_INIT\n",
      "  reg [2:0] REG; // @[cmd41.sc 2:24]\n",
      "  wire [2:0] _T_2 = REG + 3'h1; // @[cmd41.sc 5:28]\n",
      "  assign io_count = REG; // @[cmd42.sc 6:14]\n",
      "  always @(posedge clock) begin\n",
      "    if (reset) begin // @[cmd41.sc 2:24]\n",
      "      REG <= 3'h0; // @[cmd41.sc 2:24]\n",
      "    end else if (io_en) begin // @[cmd41.sc 3:15]\n",
      "      if (REG < 3'h4) begin // @[cmd41.sc 4:33]\n",
      "        REG <= _T_2; // @[cmd41.sc 5:19]\n",
      "      end else begin\n",
      "        REG <= 3'h0; // @[cmd41.sc 7:19]\n",
      "      end\n",
      "    end\n",
      "  end\n",
      "// Register and memory initialization\n",
      "`ifdef RANDOMIZE_GARBAGE_ASSIGN\n",
      "`define RANDOMIZE\n",
      "`endif\n",
      "`ifdef RANDOMIZE_INVALID_ASSIGN\n",
      "`define RANDOMIZE\n",
      "`endif\n",
      "`ifdef RANDOMIZE_REG_INIT\n",
      "`define RANDOMIZE\n",
      "`endif\n",
      "`ifdef RANDOMIZE_MEM_INIT\n",
      "`define RANDOMIZE\n",
      "`endif\n",
      "`ifndef RANDOM\n",
      "`define RANDOM $random\n",
      "`endif\n",
      "`ifdef RANDOMIZE_MEM_INIT\n",
      "  integer initvar;\n",
      "`endif\n",
      "`ifndef SYNTHESIS\n",
      "`ifdef FIRRTL_BEFORE_INITIAL\n",
      "`FIRRTL_BEFORE_INITIAL\n",
      "`endif\n",
      "initial begin\n",
      "  `ifdef RANDOMIZE\n",
      "    `ifdef INIT_RANDOM\n",
      "      `INIT_RANDOM\n",
      "    `endif\n",
      "    `ifndef VERILATOR\n",
      "      `ifdef RANDOMIZE_DELAY\n",
      "        #`RANDOMIZE_DELAY begin end\n",
      "      `else\n",
      "        #0.002 begin end\n",
      "      `endif\n",
      "    `endif\n",
      "`ifdef RANDOMIZE_REG_INIT\n",
      "  _RAND_0 = {1{`RANDOM}};\n",
      "  REG = _RAND_0[2:0];\n",
      "`endif // RANDOMIZE_REG_INIT\n",
      "  `endif // RANDOMIZE\n",
      "end // initial\n",
      "`ifdef FIRRTL_AFTER_INITIAL\n",
      "`FIRRTL_AFTER_INITIAL\n",
      "`endif\n",
      "`endif // SYNTHESIS\n",
      "endmodule\n",
      "\n"
     ]
    }
   ],
   "source": [
    "println(getVerilog(new CounterInstMod(4)))"
   ]
  },
  {
   "cell_type": "markdown",
   "id": "f7c65fe5-8109-4a72-8c01-fbb74e5951ef",
   "metadata": {
    "slideshow": {
     "slide_type": "slide"
    }
   },
   "source": [
    "## Chisel Counter ###\n",
    "\n",
    "1. In the previous slides, we write our own counter (MyCounter).\n",
    "2. In this example, we can use Chisel Counter Library:\n",
    "[`Counter`](https://javadoc.io/doc/edu.berkeley.cs/chisel3_2.13/latest/chisel3/util/Counter.html)\n",
    "3. Or click the link below:\n",
    "https://javadoc.io/doc/edu.berkeley.cs/chisel3_2.13/latest/chisel3/util/Counter.html"
   ]
  },
  {
   "cell_type": "code",
   "execution_count": 45,
   "id": "widespread-celtic",
   "metadata": {
    "cell_style": "split"
   },
   "outputs": [
    {
     "data": {
      "text/plain": [
       "defined \u001b[32mclass\u001b[39m \u001b[36mCounterInstMod\u001b[39m"
      ]
     },
     "execution_count": 45,
     "metadata": {},
     "output_type": "execute_result"
    }
   ],
   "source": [
    "class CounterInstMod(n: Int) extends Module {\n",
    "    val io = IO(new Bundle {\n",
    "        val en  = Input(Bool())\n",
    "        val count = Output(UInt())\n",
    "        val limit = Output(Bool())\n",
    "    })\n",
    "    val (value, wrap) = Counter(io.en, n)\n",
    "//     val (value, wrap) = Counter(0 until n by 2, io.en)\n",
    "    io.count := value\n",
    "    io.limit := wrap\n",
    "}"
   ]
  },
  {
   "cell_type": "code",
   "execution_count": 46,
   "id": "twelve-medline",
   "metadata": {
    "cell_style": "split"
   },
   "outputs": [
    {
     "name": "stdout",
     "output_type": "stream",
     "text": [
      "Elaborating design...\n",
      "Done elaborating.\n",
      "module CounterInstMod(\n",
      "  input        clock,\n",
      "  input        reset,\n",
      "  input        io_en,\n",
      "  output [1:0] io_count,\n",
      "  output       io_limit\n",
      ");\n",
      "`ifdef RANDOMIZE_REG_INIT\n",
      "  reg [31:0] _RAND_0;\n",
      "`endif // RANDOMIZE_REG_INIT\n",
      "  reg [1:0] value; // @[Counter.scala 60:40]\n",
      "  wire  wrap_wrap = value == 2'h3; // @[Counter.scala 72:24]\n",
      "  wire [1:0] _wrap_value_T_1 = value + 2'h1; // @[Counter.scala 76:24]\n",
      "  assign io_count = value; // @[cmd44.sc 9:14]\n",
      "  assign io_limit = io_en & wrap_wrap; // @[Counter.scala 118:17 Counter.scala 118:24]\n",
      "  always @(posedge clock) begin\n",
      "    if (reset) begin // @[Counter.scala 60:40]\n",
      "      value <= 2'h0; // @[Counter.scala 60:40]\n",
      "    end else if (io_en) begin // @[Counter.scala 118:17]\n",
      "      value <= _wrap_value_T_1; // @[Counter.scala 76:15]\n",
      "    end\n",
      "  end\n",
      "// Register and memory initialization\n",
      "`ifdef RANDOMIZE_GARBAGE_ASSIGN\n",
      "`define RANDOMIZE\n",
      "`endif\n",
      "`ifdef RANDOMIZE_INVALID_ASSIGN\n",
      "`define RANDOMIZE\n",
      "`endif\n",
      "`ifdef RANDOMIZE_REG_INIT\n",
      "`define RANDOMIZE\n",
      "`endif\n",
      "`ifdef RANDOMIZE_MEM_INIT\n",
      "`define RANDOMIZE\n",
      "`endif\n",
      "`ifndef RANDOM\n",
      "`define RANDOM $random\n",
      "`endif\n",
      "`ifdef RANDOMIZE_MEM_INIT\n",
      "  integer initvar;\n",
      "`endif\n",
      "`ifndef SYNTHESIS\n",
      "`ifdef FIRRTL_BEFORE_INITIAL\n",
      "`FIRRTL_BEFORE_INITIAL\n",
      "`endif\n",
      "initial begin\n",
      "  `ifdef RANDOMIZE\n",
      "    `ifdef INIT_RANDOM\n",
      "      `INIT_RANDOM\n",
      "    `endif\n",
      "    `ifndef VERILATOR\n",
      "      `ifdef RANDOMIZE_DELAY\n",
      "        #`RANDOMIZE_DELAY begin end\n",
      "      `else\n",
      "        #0.002 begin end\n",
      "      `endif\n",
      "    `endif\n",
      "`ifdef RANDOMIZE_REG_INIT\n",
      "  _RAND_0 = {1{`RANDOM}};\n",
      "  value = _RAND_0[1:0];\n",
      "`endif // RANDOMIZE_REG_INIT\n",
      "  `endif // RANDOMIZE\n",
      "end // initial\n",
      "`ifdef FIRRTL_AFTER_INITIAL\n",
      "`FIRRTL_AFTER_INITIAL\n",
      "`endif\n",
      "`endif // SYNTHESIS\n",
      "endmodule\n",
      "\n"
     ]
    }
   ],
   "source": [
    "//printVerilog(new CounterInstMod(4))\n",
    "println(getVerilog(new CounterInstMod(4)))"
   ]
  },
  {
   "cell_type": "markdown",
   "id": "moral-theology",
   "metadata": {
    "cell_style": "split",
    "slideshow": {
     "slide_type": "slide"
    }
   },
   "source": [
    "## Chisel `Bundle`\n",
    "\n",
    "* Aggregate type with named fields\n",
    "  * Like a `struct` in C\n",
    "* Not only used to make IO interfaces\n",
    "* Can declare once & use in many places"
   ]
  },
  {
   "cell_type": "code",
   "execution_count": 47,
   "id": "round-pound",
   "metadata": {
    "cell_style": "split"
   },
   "outputs": [
    {
     "name": "stdout",
     "output_type": "stream",
     "text": [
      "Elaborating design...\n",
      "Done elaborating.\n",
      "module OutMod(\n",
      "  input        clock,\n",
      "  input        reset,\n",
      "  output [3:0] io_m\n",
      ");\n",
      "  assign io_m = 4'h2; // @[cmd46.sc 7:10]\n",
      "endmodule\n",
      "\n"
     ]
    },
    {
     "data": {
      "text/plain": [
       "defined \u001b[32mclass\u001b[39m \u001b[36mMag\u001b[39m\n",
       "defined \u001b[32mclass\u001b[39m \u001b[36mOutMod\u001b[39m"
      ]
     },
     "execution_count": 47,
     "metadata": {},
     "output_type": "execute_result"
    }
   ],
   "source": [
    "class Mag extends Bundle {\n",
    "    val m = UInt(4.W)\n",
    "}\n",
    "\n",
    "class OutMod(a: Int) extends Module {\n",
    "    val io = IO(Output(new Mag))\n",
    "    io.m := a.U\n",
    "}\n",
    "\n",
    "//printVerilog(new OutMod(2))\n",
    "println(getVerilog(new OutMod(2)))"
   ]
  },
  {
   "cell_type": "markdown",
   "id": "continent-grace",
   "metadata": {
    "cell_style": "split",
    "slideshow": {
     "slide_type": "slide"
    }
   },
   "source": [
    "## `Bundle` Composition\n",
    "\n",
    "* Bundles can ...\n",
    "  * be _extended_\n",
    "  * be nested\n",
    "  * go in `Vec`s or include `Vec`s\n"
   ]
  },
  {
   "cell_type": "code",
   "execution_count": 48,
   "id": "abstract-cabinet",
   "metadata": {
    "cell_style": "split"
   },
   "outputs": [
    {
     "data": {
      "text/plain": [
       "defined \u001b[32mclass\u001b[39m \u001b[36mMag\u001b[39m\n",
       "defined \u001b[32mclass\u001b[39m \u001b[36mSignMag\u001b[39m\n",
       "defined \u001b[32mclass\u001b[39m \u001b[36mPairSignMag\u001b[39m\n",
       "defined \u001b[32mclass\u001b[39m \u001b[36mOutMod\u001b[39m"
      ]
     },
     "execution_count": 48,
     "metadata": {},
     "output_type": "execute_result"
    }
   ],
   "source": [
    "class Mag extends Bundle {\n",
    "    val m = Output(UInt(4.W))\n",
    "}\n",
    "\n",
    "class SignMag extends Mag {\n",
    "    val s = Output(Bool())\n",
    "}\n",
    "\n",
    "class PairSignMag extends Bundle {\n",
    "    val nums = Vec(2, new SignMag)\n",
    "}\n",
    "\n",
    "class OutMod(a: Int, b: Int) extends Module {\n",
    "    val io = IO(new PairSignMag)\n",
    "    io.nums(0).m := a.U\n",
    "    io.nums(0).s := false.B\n",
    "    io.nums(1).m := b.U\n",
    "    io.nums(1).s := false.B\n",
    "}"
   ]
  },
  {
   "cell_type": "code",
   "execution_count": 48,
   "id": "d0e29279-818e-42f2-8b1e-df0e24622d54",
   "metadata": {},
   "outputs": [],
   "source": [
    "//printVerilog(new OutMod(3,4))\n",
    "// OK\n",
    "//println(getVerilog(new CounterInstMod(4)))\n",
    "// Unknow Error\n",
    "//println(getVerilog(new OutMod(3, 4)))"
   ]
  },
  {
   "cell_type": "markdown",
   "id": "satellite-brighton",
   "metadata": {
    "slideshow": {
     "slide_type": "slide"
    }
   },
   "source": [
    "## `cloneType` Boilerplate\n",
    "\n",
    "* Unfortunately, due to embedding Chisel in Scala, had to include `cloneType`\n",
    "  * Most often occurs when parameterizing a Bundle\n",
    "* ~~Future versions of Chisel hope to have smoother work around~~\n",
    "    * **Chisel 3.5 fixed this!**"
   ]
  },
  {
   "cell_type": "code",
   "execution_count": 49,
   "id": "distinguished-saver",
   "metadata": {},
   "outputs": [
    {
     "data": {
      "text/plain": [
       "defined \u001b[32mclass\u001b[39m \u001b[36mSignMag\u001b[39m\n",
       "defined \u001b[32mclass\u001b[39m \u001b[36mOutMod\u001b[39m"
      ]
     },
     "execution_count": 49,
     "metadata": {},
     "output_type": "execute_result"
    }
   ],
   "source": [
    "class SignMag(n: Int) extends Bundle {\n",
    "    val x = Output(UInt(n.W))\n",
    "    val s = Output(Bool())\n",
    "    // No longer necessary\n",
    "    // override def cloneType = (new SignMag(n)).asInstanceOf[this.type]\n",
    "}\n",
    "\n",
    "class OutMod(n: Int, a: Int) extends Module {\n",
    "    val io = IO(Output(new SignMag(8)))\n",
    "    io.x := a.U\n",
    "    io.s := false.B\n",
    "}"
   ]
  },
  {
   "cell_type": "code",
   "execution_count": 49,
   "id": "b0727e23-24a6-4722-b2c9-645cb22f19c9",
   "metadata": {},
   "outputs": [],
   "source": [
    "//printVerilog(new OutMod(8,4))\n",
    "// Unknow error\n",
    "//println(getVerilog(new OutMod(8,4)))"
   ]
  },
  {
   "cell_type": "markdown",
   "id": "american-guest",
   "metadata": {
    "cell_style": "split",
    "slideshow": {
     "slide_type": "slide"
    }
   },
   "source": [
    "## Working With Bundles Hierarchically\n",
    "\n",
    "* `<>` is a _bulk connection_\n",
    "    * Will connect an entire Bundle\n",
    "* Newest versions of Chisel (newer than this course) have much [richer connection operators](https://www.chisel-lang.org/docs/explanations/connectable) available"
   ]
  },
  {
   "cell_type": "code",
   "execution_count": 50,
   "id": "bacterial-advocate",
   "metadata": {
    "cell_style": "split"
   },
   "outputs": [
    {
     "data": {
      "text/plain": [
       "defined \u001b[32mclass\u001b[39m \u001b[36mSignMag\u001b[39m\n",
       "defined \u001b[32mclass\u001b[39m \u001b[36mPassThru\u001b[39m"
      ]
     },
     "execution_count": 50,
     "metadata": {},
     "output_type": "execute_result"
    }
   ],
   "source": [
    "class SignMag(w: Int) extends Bundle {\n",
    "    val m = UInt(w.W)\n",
    "    val s = Bool()\n",
    "}\n",
    "\n",
    "class PassThru(w: Int) extends Module {\n",
    "    val io = IO(new Bundle {\n",
    "        val in = Input(new SignMag(w))\n",
    "        val out = Output(new SignMag(w))\n",
    "    })\n",
    "//     io.out.m := io.in.m\n",
    "//     io.out.s := io.in.s\n",
    "   io.in <> io.out\n",
    "}\n",
    "\n",
    "//printVerilog(new PassThru(4))"
   ]
  },
  {
   "cell_type": "code",
   "execution_count": 50,
   "id": "8ffd409b-9f9e-4c27-9aa7-6bf3a5f90435",
   "metadata": {},
   "outputs": [],
   "source": [
    "//printVerilog(new PassThru(4))\n",
    "// Unknown error\n",
    "//println(getVerilog(new PassThru(4)))"
   ]
  },
  {
   "cell_type": "markdown",
   "id": "dependent-corpus",
   "metadata": {
    "cell_style": "split",
    "slideshow": {
     "slide_type": "slide"
    }
   },
   "source": [
    "## Bundles Can Have Wires in Both Directions\n",
    "\n",
    "* `Flipped` reverses directions\n",
    "\n"
   ]
  },
  {
   "cell_type": "code",
   "execution_count": 51,
   "id": "designing-rhythm",
   "metadata": {
    "cell_style": "split"
   },
   "outputs": [
    {
     "data": {
      "text/plain": [
       "defined \u001b[32mclass\u001b[39m \u001b[36mHandshake\u001b[39m\n",
       "defined \u001b[32mclass\u001b[39m \u001b[36mPassThru\u001b[39m"
      ]
     },
     "execution_count": 51,
     "metadata": {},
     "output_type": "execute_result"
    }
   ],
   "source": [
    "class Handshake(w: Int) extends Bundle {\n",
    "    val ready = Input(Bool())\n",
    "    val data  = Output(UInt(w.W))\n",
    "}\n",
    "\n",
    "class PassThru(w: Int) extends Module {\n",
    "    val io = IO(new Bundle {\n",
    "        val in = Flipped(new Handshake(w))\n",
    "        val out = new Handshake(w)\n",
    "    })\n",
    "    io.in <> io.out\n",
    "}\n",
    "\n",
    "//printVerilog(new PassThru(4))"
   ]
  },
  {
   "cell_type": "code",
   "execution_count": 51,
   "id": "4f90a918-cc0b-4768-a2fe-d358a10aebf2",
   "metadata": {},
   "outputs": [],
   "source": [
    "//printVerilog(new PassThru(4))\n",
    "// Unknown error\n",
    "//println(getVerilog(new PassThru(4)))"
   ]
  },
  {
   "cell_type": "markdown",
   "id": "worse-complaint",
   "metadata": {
    "slideshow": {
     "slide_type": "slide"
    }
   },
   "source": [
    "## Scala `Option`\n",
    "\n",
    "* Scala's `Option[T]` is a type wrapper around `T` to indicate of potential non-existence\n",
    "  * Is either `None` or `Some(x)`\n",
    "* Brief Option API primer (will learn more graceful methods later)\n",
    "  * `isDefined` - returns `Boolean` indicating if it is has something\n",
    "  * `get` - returns value if it has something, otherwise exception\n",
    "* _Motivation:_ can use Option to have optional fields in a Bundle"
   ]
  },
  {
   "cell_type": "code",
   "execution_count": 57,
   "id": "usual-mayor",
   "metadata": {},
   "outputs": [
    {
     "name": "stdout",
     "output_type": "stream",
     "text": [
      "o.get:4\n"
     ]
    },
    {
     "data": {
      "text/plain": [
       "\u001b[36mo\u001b[39m: \u001b[32mOption\u001b[39m[\u001b[32mInt\u001b[39m] = \u001b[33mSome\u001b[39m(\u001b[32m4\u001b[39m)"
      ]
     },
     "execution_count": 57,
     "metadata": {},
     "output_type": "execute_result"
    }
   ],
   "source": [
    "val o: Option[Int] = Some(4)\n",
    "// val o: Option[Int] = None\n",
    "if (o.isDefined)\n",
    "    println(\"o.get:\" + o.get)\n",
    "else\n",
    "    println(\"empty\")"
   ]
  },
  {
   "cell_type": "markdown",
   "id": "tough-asbestos",
   "metadata": {
    "slideshow": {
     "slide_type": "slide"
    }
   },
   "source": [
    "## Making Optional IOs in Chisel"
   ]
  },
  {
   "cell_type": "code",
   "execution_count": 53,
   "id": "joint-stage",
   "metadata": {},
   "outputs": [
    {
     "data": {
      "text/plain": [
       "defined \u001b[32mclass\u001b[39m \u001b[36mMaybePair\u001b[39m\n",
       "defined \u001b[32mclass\u001b[39m \u001b[36mOutMod\u001b[39m"
      ]
     },
     "execution_count": 53,
     "metadata": {},
     "output_type": "execute_result"
    }
   ],
   "source": [
    "class MaybePair(w: Int, hasY: Boolean) extends Bundle {\n",
    "    val x = Output(UInt(w.W))\n",
    "    val y: Option[UInt] = if (hasY) Some(Output(UInt(w.W))) else None\n",
    "}\n",
    "\n",
    "class OutMod(w: Int, a: Int, useY: Boolean) extends Module {\n",
    "    val io = IO(Output(new MaybePair(w, useY)))\n",
    "    io.x := a.U\n",
    "    if (useY)\n",
    "//     if (io.y.isDefined)\n",
    "        io.y.get := a.U\n",
    "}\n",
    "\n",
    "//printVerilog(new OutMod(8,4,true))"
   ]
  },
  {
   "cell_type": "code",
   "execution_count": 53,
   "id": "ac60e8fc-8f2b-4066-994d-71a83591a70e",
   "metadata": {},
   "outputs": [],
   "source": [
    "//printVerilog(new OutMod(8,4,true))\n",
    "// Unknown error\n",
    "//println(getVerilog(new OutMod(8,4,true)))"
   ]
  },
  {
   "cell_type": "markdown",
   "id": "manual-boating",
   "metadata": {
    "slideshow": {
     "slide_type": "slide"
    }
   },
   "source": [
    "## Scala `tabulate`\n",
    "\n",
    "* May have seen this method used in assignments\n",
    "* More general way (than `fill`) to populate a collection\n",
    "* Will produce new collection by calling _anonymous function_ on every element\n",
    "  * This function takes a single argument (index)\n",
    "  * Can use `_` to wildcard replace first use, but be careful"
   ]
  },
  {
   "cell_type": "code",
   "execution_count": 54,
   "id": "stretch-trash",
   "metadata": {},
   "outputs": [
    {
     "data": {
      "text/plain": [
       "\u001b[36mres53_0\u001b[39m: \u001b[32mSeq\u001b[39m[\u001b[32mInt\u001b[39m] = \u001b[33mList\u001b[39m(\u001b[32m0\u001b[39m, \u001b[32m0\u001b[39m, \u001b[32m0\u001b[39m, \u001b[32m0\u001b[39m)\n",
       "\u001b[36mres53_1\u001b[39m: \u001b[32mSeq\u001b[39m[\u001b[32mInt\u001b[39m] = \u001b[33mList\u001b[39m(\u001b[32m0\u001b[39m, \u001b[32m1\u001b[39m, \u001b[32m2\u001b[39m, \u001b[32m3\u001b[39m)\n",
       "\u001b[36mres53_2\u001b[39m: \u001b[32mSeq\u001b[39m[\u001b[32mInt\u001b[39m] = \u001b[33mList\u001b[39m(\u001b[32m0\u001b[39m, \u001b[32m2\u001b[39m, \u001b[32m4\u001b[39m, \u001b[32m6\u001b[39m)"
      ]
     },
     "execution_count": 54,
     "metadata": {},
     "output_type": "execute_result"
    }
   ],
   "source": [
    "Seq.fill(4)(0)\n",
    "Seq.tabulate(4)(i => i)\n",
    "Seq.tabulate(4)(_*2)"
   ]
  },
  {
   "cell_type": "markdown",
   "id": "7fd4802e",
   "metadata": {
    "slideshow": {
     "slide_type": "slide"
    }
   },
   "source": [
    "## Summary\n",
    "\n",
    "* We covered many mechanisms today - try to think of how to use them in your code to make it _safer_, more _productive_, or _easier to read_\n",
    "  * Think about complexity, the best way to encapsulate it, both in hardware & software\n",
    "* Methods are a great way to group hardware smaller than a module\n",
    "  * Also allow for programmatic construction of hardware\n",
    "* Factory methods (via companion object) - can be nice for overloading constructors\n",
    "* Bundles are extremely versatile (not just I/O)"
   ]
  }
 ],
 "metadata": {
  "celltoolbar": "Slideshow",
  "kernelspec": {
   "display_name": "Scala 2.12.11",
   "language": "scala",
   "name": "scala_2_12_11"
  },
  "language_info": {
   "codemirror_mode": "text/x-scala",
   "file_extension": ".scala",
   "mimetype": "text/x-scala",
   "name": "scala",
   "nbconvert_exporter": "script",
   "version": "2.12.11"
  }
 },
 "nbformat": 4,
 "nbformat_minor": 5
}
