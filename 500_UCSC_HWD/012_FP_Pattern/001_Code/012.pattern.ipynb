{
 "cells": [
  {
   "cell_type": "markdown",
   "id": "c952e69b-0e09-42ec-8a98-d45039cce4e6",
   "metadata": {
    "slideshow": {
     "slide_type": "slide"
    }
   },
   "source": [
    "## Agile Hardware Design\n",
    "***\n",
    "# FP Conclusion + Pattern Matching\n",
    "\n",
    "<img src=\"./images/chisel_logo.svg\" alt=\"agile hardware design logo\" style=\"width:20%;float:right\"/>\n",
    "\n",
    "by Peter Hanping Chen based on \n",
    "1. UC Berkey bootcamp: Configuration file: source/load-ivy.sc\n",
    "- https://github.com/freechipsproject/chisel-bootcamp\n",
    "2. Prof. Scott Beamer, sbeamer@ucsc.edu\n",
    "- [CSE 228A](https://classes.soe.ucsc.edu/cse228a/Winter24/)"
   ]
  },
  {
   "cell_type": "markdown",
   "id": "4ad3ea02-fde9-43c4-b985-8c9ab5958a70",
   "metadata": {
    "slideshow": {
     "slide_type": "slide"
    }
   },
   "source": [
    "## Plan for Today\n",
    "\n",
    "* FP conclusion: flatMap, filter, sum\n",
    "* Pattern matching\n",
    "* Gracefully handling Option"
   ]
  },
  {
   "cell_type": "markdown",
   "id": "regular-reducing",
   "metadata": {
    "slideshow": {
     "slide_type": "slide"
    }
   },
   "source": [
    "## Loading The Chisel Library Into a Notebook"
   ]
  },
  {
   "cell_type": "code",
   "execution_count": 1,
   "id": "robust-immigration",
   "metadata": {
    "scrolled": true
   },
   "outputs": [
    {
     "name": "stdout",
     "output_type": "stream",
     "text": [
      "path: /home/peter/AIU/AIU_CS800_Chisel/500_UCSC_HWD/012_FP_Pattern/001_Code/source/load-ivy.sc\n",
      "Compiling /home/peter/AIU/AIU_CS800_Chisel/500_UCSC_HWD/012_FP_Pattern/001_Code/Main.scCompiling /home/peter/AIU/AIU_CS800_Chisel/500_UCSC_HWD/012_FP_Pattern/001_Code/Main.sc #2"
     ]
    },
    {
     "data": {
      "text/plain": [
       "\u001b[36mpath\u001b[39m: \u001b[32mString\u001b[39m = \u001b[32m\"/home/peter/AIU/AIU_CS800_Chisel/500_UCSC_HWD/012_FP_Pattern/001_Code/source/load-ivy.sc\"\u001b[39m"
      ]
     },
     "execution_count": 1,
     "metadata": {},
     "output_type": "execute_result"
    }
   ],
   "source": [
    "//interp.load.module(os.Path(s\"${System.getProperty(\"user.dir\")}/../resource/chisel_deps.sc\"))\n",
    "val path = System.getProperty(\"user.dir\") + \"/source/load-ivy.sc\"\n",
    "//val path = System.getProperty(\"user.dir\") + \"/source/chisel_deps.sc\"\n",
    "println(\"path: \"+path)\n",
    "interp.load.module(ammonite.ops.Path(java.nio.file.FileSystems.getDefault().getPath(path)))"
   ]
  },
  {
   "cell_type": "code",
   "execution_count": 2,
   "id": "extended-burning",
   "metadata": {
    "slideshow": {
     "slide_type": "-"
    }
   },
   "outputs": [
    {
     "data": {
      "text/plain": [
       "\u001b[32mimport \u001b[39m\u001b[36mchisel3._\n",
       "\u001b[39m\n",
       "\u001b[32mimport \u001b[39m\u001b[36mchisel3.util._\n",
       "\u001b[39m\n",
       "\u001b[32mimport \u001b[39m\u001b[36mchiseltest._\n",
       "\u001b[39m\n",
       "\u001b[32mimport \u001b[39m\u001b[36mchiseltest.RawTester.test\u001b[39m"
      ]
     },
     "execution_count": 2,
     "metadata": {},
     "output_type": "execute_result"
    }
   ],
   "source": [
    "import chisel3._\n",
    "import chisel3.util._\n",
    "import chiseltest._\n",
    "import chiseltest.RawTester.test"
   ]
  },
  {
   "cell_type": "markdown",
   "id": "official-policy",
   "metadata": {
    "slideshow": {
     "slide_type": "slide"
    }
   },
   "source": [
    "## Scala `flatMap`\n",
    "\n",
    "* Like `map`, but concatenates output of function's\n",
    "  * More direct than calling `map` and then `flatten`\n",
    "* Helpful for aggregating results of map when they are a collection\n",
    "* Also useful if map will return 0 or more elements"
   ]
  },
  {
   "cell_type": "markdown",
   "id": "d72f4ca1-cab1-477f-bba2-cd17fff60146",
   "metadata": {},
   "source": [
    "### 1. fill ###"
   ]
  },
  {
   "cell_type": "code",
   "execution_count": 38,
   "id": "7248bfd4-c22a-4182-9230-940a0d3c9f25",
   "metadata": {},
   "outputs": [
    {
     "name": "stdout",
     "output_type": "stream",
     "text": [
      "list l: Range 0 until 5\n",
      "1. Seq.fill(2)(3): List(3, 3)\n",
      "1. Seq.fill(5)(1): List(1, 1, 1, 1, 1)\n"
     ]
    },
    {
     "data": {
      "text/plain": [
       "\u001b[36ml\u001b[39m: \u001b[32mRange\u001b[39m = \u001b[33mRange\u001b[39m(\u001b[32m0\u001b[39m, \u001b[32m1\u001b[39m, \u001b[32m2\u001b[39m, \u001b[32m3\u001b[39m, \u001b[32m4\u001b[39m)"
      ]
     },
     "execution_count": 38,
     "metadata": {},
     "output_type": "execute_result"
    }
   ],
   "source": [
    "val l = 0 until 5\n",
    "println (\"list l: \" + l)\n",
    "\n",
    "// 1. fill with different parameters\n",
    "// Seq.fill(2)(3)\n",
    "println (\"1. Seq.fill(2)(3): \" + Seq.fill(2)(3)) \n",
    "// List(3, 3)\n",
    "println (\"1. Seq.fill(5)(1): \" + Seq.fill(5)(1))\n",
    "// List(1, 1, 1, 1, 1)"
   ]
  },
  {
   "cell_type": "markdown",
   "id": "4cb95223-2d5d-4969-8343-59fd2f09a8ae",
   "metadata": {},
   "source": [
    "### 2. map and fill ###"
   ]
  },
  {
   "cell_type": "code",
   "execution_count": 37,
   "id": "9bd6f8d8-80a1-4df9-ace9-64fbc3d45885",
   "metadata": {},
   "outputs": [
    {
     "name": "stdout",
     "output_type": "stream",
     "text": [
      "list l: Range 0 until 5\n",
      "2. l map { i => Seq.fill(i)(i) }: \n",
      "Vector(List(), List(1), List(2, 2), List(3, 3, 3), List(4, 4, 4, 4))\n"
     ]
    },
    {
     "data": {
      "text/plain": [
       "\u001b[36ml\u001b[39m: \u001b[32mRange\u001b[39m = \u001b[33mRange\u001b[39m(\u001b[32m0\u001b[39m, \u001b[32m1\u001b[39m, \u001b[32m2\u001b[39m, \u001b[32m3\u001b[39m, \u001b[32m4\u001b[39m)"
      ]
     },
     "execution_count": 37,
     "metadata": {},
     "output_type": "execute_result"
    }
   ],
   "source": [
    "val l = 0 until 5\n",
    "println (\"list l: \" + l)\n",
    "\n",
    "// 2. list map, then fill function\n",
    "println (\"2. l map { i => Seq.fill(i)(i) }: \")\n",
    "println (l map { i => Seq.fill(i)(i) }) "
   ]
  },
  {
   "cell_type": "markdown",
   "id": "9bde7fdc-b18f-4d4c-bcb9-7c0387dd121d",
   "metadata": {},
   "source": [
    "### 3. map, fill, and flatten ###"
   ]
  },
  {
   "cell_type": "code",
   "execution_count": 39,
   "id": "a6f4cd80-153a-4a9d-a790-12ab0e81e978",
   "metadata": {},
   "outputs": [
    {
     "name": "stdout",
     "output_type": "stream",
     "text": [
      "list l: Range 0 until 5\n",
      "3. (l map { i: Int => Seq.fill(i)(i) }).flatten: \n",
      "Vector(1, 2, 2, 3, 3, 3, 4, 4, 4, 4)\n"
     ]
    },
    {
     "data": {
      "text/plain": [
       "\u001b[36ml\u001b[39m: \u001b[32mRange\u001b[39m = \u001b[33mRange\u001b[39m(\u001b[32m0\u001b[39m, \u001b[32m1\u001b[39m, \u001b[32m2\u001b[39m, \u001b[32m3\u001b[39m, \u001b[32m4\u001b[39m)"
      ]
     },
     "execution_count": 39,
     "metadata": {},
     "output_type": "execute_result"
    }
   ],
   "source": [
    "val l = 0 until 5\n",
    "println (\"list l: \" + l)\n",
    "\n",
    "// 3. list map, fill, and flatten \n",
    "println (\"3. (l map { i: Int => Seq.fill(i)(i) }).flatten: \")\n",
    "println ((l map { i: Int => Seq.fill(i)(i) }).flatten)\n",
    "// Vector(1, 2, 2, 3, 3, 3, 4, 4, 4, 4)"
   ]
  },
  {
   "cell_type": "markdown",
   "id": "023514c6-46d3-4347-9451-9df6f829e79b",
   "metadata": {},
   "source": [
    "### 4. flatMap and fill ###"
   ]
  },
  {
   "cell_type": "code",
   "execution_count": 40,
   "id": "f38afe58-7ffa-4e53-af84-bb86ea042396",
   "metadata": {},
   "outputs": [
    {
     "name": "stdout",
     "output_type": "stream",
     "text": [
      "list l: Range 0 until 5\n",
      "4. l flatMap { i => Seq.fill(i)(i) }: \n",
      "Vector(1, 2, 2, 3, 3, 3, 4, 4, 4, 4)\n"
     ]
    },
    {
     "data": {
      "text/plain": [
       "\u001b[36ml\u001b[39m: \u001b[32mRange\u001b[39m = \u001b[33mRange\u001b[39m(\u001b[32m0\u001b[39m, \u001b[32m1\u001b[39m, \u001b[32m2\u001b[39m, \u001b[32m3\u001b[39m, \u001b[32m4\u001b[39m)"
      ]
     },
     "execution_count": 40,
     "metadata": {},
     "output_type": "execute_result"
    }
   ],
   "source": [
    "val l = 0 until 5\n",
    "println (\"list l: \" + l)\n",
    "\n",
    "// 4. flatMap and fill\n",
    "println (\"4. l flatMap { i => Seq.fill(i)(i) }: \")\n",
    "println (l flatMap { i => Seq.fill(i)(i) })\n",
    "// Vector(1, 2, 2, 3, 3, 3, 4, 4, 4, 4)"
   ]
  },
  {
   "cell_type": "markdown",
   "id": "1f052fbc-5464-4b50-a45e-0bac529169ac",
   "metadata": {},
   "source": [
    "### 5. flatMap with logic operation ###"
   ]
  },
  {
   "cell_type": "code",
   "execution_count": 41,
   "id": "39a8d180-a0ad-417e-bc3d-cd5536ab3b26",
   "metadata": {},
   "outputs": [
    {
     "name": "stdout",
     "output_type": "stream",
     "text": [
      "list l: Range 0 until 5\n",
      "5. l flatMap { i => if (i%2 == 0) Seq(i) else Seq()}: \n",
      "Vector(0, 2, 4)\n"
     ]
    },
    {
     "data": {
      "text/plain": [
       "\u001b[36ml\u001b[39m: \u001b[32mRange\u001b[39m = \u001b[33mRange\u001b[39m(\u001b[32m0\u001b[39m, \u001b[32m1\u001b[39m, \u001b[32m2\u001b[39m, \u001b[32m3\u001b[39m, \u001b[32m4\u001b[39m)"
      ]
     },
     "execution_count": 41,
     "metadata": {},
     "output_type": "execute_result"
    }
   ],
   "source": [
    "val l = 0 until 5\n",
    "println (\"list l: \" + l)\n",
    "\n",
    "// 5. flatMap, fill, logic operation\n",
    "println (\"5. l flatMap { i => if (i%2 == 0) Seq(i) else Seq()}: \")\n",
    "println (l flatMap { i => if (i%2 == 0) Seq(i) else Seq()})\n",
    "// Vector(0, 2, 4)"
   ]
  },
  {
   "cell_type": "code",
   "execution_count": 41,
   "id": "772a079b-d5c8-4954-a3c9-b95c6db0019f",
   "metadata": {},
   "outputs": [],
   "source": [
    "/*\n",
    "val l = 0 until 5\n",
    "println (\"list l: \" + l)\n",
    "\n",
    "// 1. fill with different parameters\n",
    "// Seq.fill(2)(3)\n",
    "println (\"1. Seq.fill(2)(3): \" + Seq.fill(2)(3)) \n",
    "// List(3, 3)\n",
    "println (\"1. Seq.fill(5)(1): \" + Seq.fill(5)(1))\n",
    "// List(1, 1, 1, 1, 1)\n",
    "println()\n",
    "\n",
    "// 2. list map, then fill function\n",
    "println (\"2. l map { i => Seq.fill(i)(i) }: \")\n",
    "println (l map { i => Seq.fill(i)(i) }) \n",
    "println()\n",
    "// 3. list map, fill, and flatten \n",
    "println (\"3. (l map { i: Int => Seq.fill(i)(i) }).flatten: \")\n",
    "println ((l map { i: Int => Seq.fill(i)(i) }).flatten)\n",
    "// Vector(1, 2, 2, 3, 3, 3, 4, 4, 4, 4)\n",
    "println()\n",
    "\n",
    "// 4. flatMap and fill\n",
    "println (\"4. l flatMap { i => Seq.fill(i)(i) }: \")\n",
    "println (l flatMap { i => Seq.fill(i)(i) })\n",
    "// Vector(1, 2, 2, 3, 3, 3, 4, 4, 4, 4)\n",
    "println()\n",
    "\n",
    "// 5. flatMap, fill, logic operation\n",
    "println (\"5. l flatMap { i => if (i%2 == 0) Seq(i) else Seq()}: \")\n",
    "println (l flatMap { i => if (i%2 == 0) Seq(i) else Seq()})\n",
    "// Vector(0, 2, 4)\n",
    "*/"
   ]
  },
  {
   "cell_type": "markdown",
   "id": "df4e355a-e347-4640-9807-45a8c9387499",
   "metadata": {
    "slideshow": {
     "slide_type": "slide"
    }
   },
   "source": [
    "## Visualizing `map` on Collections\n",
    "\n",
    "<img src=\"images/mapOnC.svg\" alt=\"map on collections\" style=\"width:50%; align: left\"/>"
   ]
  },
  {
   "cell_type": "markdown",
   "id": "b892acbd-9d7b-4226-8eed-8ff908106180",
   "metadata": {
    "slideshow": {
     "slide_type": "slide"
    }
   },
   "source": [
    "## Visualizing `flatMap`\n",
    "\n",
    "<img src=\"images/flatmap.svg\" alt=\"flatmap\" style=\"width:50%;align:left\"/>"
   ]
  },
  {
   "cell_type": "markdown",
   "id": "divided-impression",
   "metadata": {
    "slideshow": {
     "slide_type": "slide"
    }
   },
   "source": [
    "## Applying Predicates in Scala\n",
    "\n",
    "* A _predicate_ is a function that given a single element, returns a `Boolean`\n",
    "* `filter` - elements persists to output collection only if predicate returns true\n",
    "* `forall` - true if and only if predicate is true for all elements\n",
    "* `exists` - true if predicate is true for at least one element"
   ]
  },
  {
   "cell_type": "code",
   "execution_count": 5,
   "id": "instant-standard",
   "metadata": {},
   "outputs": [
    {
     "name": "stdout",
     "output_type": "stream",
     "text": [
      "l filter isEven: Vector(0, 2, 4)\n",
      "l filter { _ % 2 == 0}: Vector(0, 2, 4)\n",
      "l filterNot isEven: Vector(1, 3)\n",
      "l forall isEven: false\n",
      "l exists isEven: true\n"
     ]
    },
    {
     "data": {
      "text/plain": [
       "defined \u001b[32mfunction\u001b[39m \u001b[36misEven\u001b[39m\n",
       "\u001b[36ml\u001b[39m: \u001b[32mRange\u001b[39m = \u001b[33mRange\u001b[39m(\u001b[32m0\u001b[39m, \u001b[32m1\u001b[39m, \u001b[32m2\u001b[39m, \u001b[32m3\u001b[39m, \u001b[32m4\u001b[39m)"
      ]
     },
     "execution_count": 5,
     "metadata": {},
     "output_type": "execute_result"
    }
   ],
   "source": [
    "// define isEven\n",
    "def isEven(x: Int): Boolean = x % 2 == 0\n",
    "val l = 0 until 5\n",
    "\n",
    "// filter if even\n",
    "print(\"l filter isEven: \")\n",
    "println (l filter isEven)\n",
    "print (\"l filter { _ % 2 == 0}: \")\n",
    "println (l filter { _ % 2 == 0 })\n",
    "\n",
    "// l filter { x => !isEven(x) }\n",
    "print(\"l filterNot isEven: \")\n",
    "println (l filterNot isEven)\n",
    "print(\"l forall isEven: \")\n",
    "println (l forall isEven)\n",
    "print(\"l exists isEven: \")\n",
    "println (l exists isEven)"
   ]
  },
  {
   "cell_type": "markdown",
   "id": "b34f6f60-ea52-4910-9a75-d942b311b0e6",
   "metadata": {
    "slideshow": {
     "slide_type": "slide"
    }
   },
   "source": [
    "## Visualizing `filter`\n",
    "\n",
    "<img src=\"images/filter.svg\" alt=\"filter viz\" style=\"width:40%;align:left\"/>"
   ]
  },
  {
   "cell_type": "markdown",
   "id": "ccc15110-4639-4d59-b111-7f295f0a4c8b",
   "metadata": {
    "slideshow": {
     "slide_type": "slide"
    }
   },
   "source": [
    "## Example: Prime Sieve in Scala"
   ]
  },
  {
   "cell_type": "markdown",
   "id": "ffddb486-2a9d-497b-aa5a-7c6ebf990a95",
   "metadata": {},
   "source": [
    "#### 1. Remove some number in the list ####"
   ]
  },
  {
   "cell_type": "code",
   "execution_count": 24,
   "id": "agricultural-eight",
   "metadata": {
    "slideshow": {
     "slide_type": "-"
    }
   },
   "outputs": [
    {
     "name": "stdout",
     "output_type": "stream",
     "text": [
      "allNums: Range 2 until 30\n",
      "allNums filter multipleOf(5): \n",
      "Vector(5, 10, 15, 20, 25)\n",
      "\n",
      "allNums filterNot multipleOf(5): \n",
      "Vector(2, 3, 4, 6, 7, 8, 9, 11, 12, 13, 14, 16, 17, 18, 19, 21, 22, 23, 24, 26, 27, 28, 29)\n",
      "\n",
      "removeMultiplesOfX(allNums, 5): \n",
      "Vector(2, 3, 4, 6, 7, 8, 9, 11, 12, 13, 14, 16, 17, 18, 19, 21, 22, 23, 24, 26, 27, 28, 29)\n"
     ]
    },
    {
     "data": {
      "text/plain": [
       "defined \u001b[32mfunction\u001b[39m \u001b[36mmultipleOf\u001b[39m\n",
       "defined \u001b[32mfunction\u001b[39m \u001b[36mremoveMultiplesOfX\u001b[39m\n",
       "\u001b[36mallNums\u001b[39m: \u001b[32mRange\u001b[39m = \u001b[33mRange\u001b[39m(\n",
       "  \u001b[32m2\u001b[39m,\n",
       "  \u001b[32m3\u001b[39m,\n",
       "  \u001b[32m4\u001b[39m,\n",
       "  \u001b[32m5\u001b[39m,\n",
       "  \u001b[32m6\u001b[39m,\n",
       "  \u001b[32m7\u001b[39m,\n",
       "  \u001b[32m8\u001b[39m,\n",
       "  \u001b[32m9\u001b[39m,\n",
       "  \u001b[32m10\u001b[39m,\n",
       "  \u001b[32m11\u001b[39m,\n",
       "  \u001b[32m12\u001b[39m,\n",
       "  \u001b[32m13\u001b[39m,\n",
       "  \u001b[32m14\u001b[39m,\n",
       "  \u001b[32m15\u001b[39m,\n",
       "  \u001b[32m16\u001b[39m,\n",
       "  \u001b[32m17\u001b[39m,\n",
       "  \u001b[32m18\u001b[39m,\n",
       "  \u001b[32m19\u001b[39m,\n",
       "  \u001b[32m20\u001b[39m,\n",
       "  \u001b[32m21\u001b[39m,\n",
       "  \u001b[32m22\u001b[39m,\n",
       "  \u001b[32m23\u001b[39m,\n",
       "  \u001b[32m24\u001b[39m,\n",
       "  \u001b[32m25\u001b[39m,\n",
       "  \u001b[32m26\u001b[39m,\n",
       "  \u001b[32m27\u001b[39m,\n",
       "  \u001b[32m28\u001b[39m,\n",
       "  \u001b[32m29\u001b[39m\n",
       ")"
      ]
     },
     "execution_count": 24,
     "metadata": {},
     "output_type": "execute_result"
    }
   ],
   "source": [
    "// Remove some number in the list.\n",
    "def multipleOf(a: Int)(b: Int): Boolean = (b % a == 0)\n",
    "\n",
    "def removeMultiplesOfX(l: Seq[Int], x: Int) = l filterNot multipleOf(x)\n",
    "\n",
    "// val allNums = 2 until 100\n",
    "val allNums = 2 until 30\n",
    "print (\"allNums: \")\n",
    "println (allNums)\n",
    "\n",
    "// 1. filter/get 5 x n\n",
    "println(\"allNums filter multipleOf(5): \")\n",
    "println(allNums filter multipleOf(5))\n",
    "println ()\n",
    "\n",
    "// 2. remove  5 x n\n",
    "println(\"allNums filterNot multipleOf(5): \")\n",
    "println(allNums filterNot multipleOf(5))\n",
    "println() \n",
    "// 3. remove 5 x n\n",
    "println(\"removeMultiplesOfX(allNums, 5): \")\n",
    "println(allNums filterNot multipleOf(5))"
   ]
  },
  {
   "cell_type": "markdown",
   "id": "b2103a76-5f9a-479a-8791-f8f457f0e3cb",
   "metadata": {},
   "source": [
    "#### 2. list head, tail, init, and last ####"
   ]
  },
  {
   "cell_type": "code",
   "execution_count": 29,
   "id": "cfb4d710-617a-4659-b9f5-55be6f89ca33",
   "metadata": {},
   "outputs": [
    {
     "name": "stdout",
     "output_type": "stream",
     "text": [
      "allNums.head: 2\n",
      "allNums.tail: Range 3 until 100\n",
      "allNums.init: Range 2 to 98\n",
      "allNums.last: 99\n"
     ]
    },
    {
     "data": {
      "text/plain": [
       "\u001b[36mallNums\u001b[39m: \u001b[32mRange\u001b[39m = \u001b[33mRange\u001b[39m(\n",
       "  \u001b[32m2\u001b[39m,\n",
       "  \u001b[32m3\u001b[39m,\n",
       "  \u001b[32m4\u001b[39m,\n",
       "  \u001b[32m5\u001b[39m,\n",
       "  \u001b[32m6\u001b[39m,\n",
       "  \u001b[32m7\u001b[39m,\n",
       "  \u001b[32m8\u001b[39m,\n",
       "  \u001b[32m9\u001b[39m,\n",
       "  \u001b[32m10\u001b[39m,\n",
       "  \u001b[32m11\u001b[39m,\n",
       "  \u001b[32m12\u001b[39m,\n",
       "  \u001b[32m13\u001b[39m,\n",
       "  \u001b[32m14\u001b[39m,\n",
       "  \u001b[32m15\u001b[39m,\n",
       "  \u001b[32m16\u001b[39m,\n",
       "  \u001b[32m17\u001b[39m,\n",
       "  \u001b[32m18\u001b[39m,\n",
       "  \u001b[32m19\u001b[39m,\n",
       "  \u001b[32m20\u001b[39m,\n",
       "  \u001b[32m21\u001b[39m,\n",
       "  \u001b[32m22\u001b[39m,\n",
       "  \u001b[32m23\u001b[39m,\n",
       "  \u001b[32m24\u001b[39m,\n",
       "  \u001b[32m25\u001b[39m,\n",
       "  \u001b[32m26\u001b[39m,\n",
       "  \u001b[32m27\u001b[39m,\n",
       "  \u001b[32m28\u001b[39m,\n",
       "  \u001b[32m29\u001b[39m,\n",
       "  \u001b[32m30\u001b[39m,\n",
       "  \u001b[32m31\u001b[39m,\n",
       "  \u001b[32m32\u001b[39m,\n",
       "  \u001b[32m33\u001b[39m,\n",
       "  \u001b[32m34\u001b[39m,\n",
       "  \u001b[32m35\u001b[39m,\n",
       "  \u001b[32m36\u001b[39m,\n",
       "  \u001b[32m37\u001b[39m,\n",
       "  \u001b[32m38\u001b[39m,\n",
       "  \u001b[32m39\u001b[39m,\n",
       "..."
      ]
     },
     "execution_count": 29,
     "metadata": {},
     "output_type": "execute_result"
    }
   ],
   "source": [
    "val allNums = 2 until 100\n",
    "print (\"allNums.head: \")\n",
    "println(allNums.head)\n",
    "print (\"allNums.tail: \")\n",
    "println (allNums.tail)\n",
    "print (\"allNums.init: \")\n",
    "println (allNums.init)\n",
    "print (\"allNums.last: \")\n",
    "println (allNums.last)"
   ]
  },
  {
   "cell_type": "markdown",
   "id": "d01ab3df-909b-4730-baf2-249e5f47ca12",
   "metadata": {},
   "source": [
    "#### 3. Keep the prime (Remove non-prime) in the list ####"
   ]
  },
  {
   "cell_type": "code",
   "execution_count": 37,
   "id": "693a3041-7c75-4105-8616-3b3f7a57577c",
   "metadata": {},
   "outputs": [
    {
     "name": "stdout",
     "output_type": "stream",
     "text": [
      "allNums: Range 2 until 100\n",
      "sieve(allNums): \n",
      "List(2, 3, 5, 7, 11, 13, 17, 19, 23, 29, 31, 37, 41, 43, 47, 53, 59, 61, 67, 71, 73, 79, 83, 89, 97)\n"
     ]
    },
    {
     "data": {
      "text/plain": [
       "\u001b[36mallNums\u001b[39m: \u001b[32mRange\u001b[39m = \u001b[33mRange\u001b[39m(\n",
       "  \u001b[32m2\u001b[39m,\n",
       "  \u001b[32m3\u001b[39m,\n",
       "  \u001b[32m4\u001b[39m,\n",
       "  \u001b[32m5\u001b[39m,\n",
       "  \u001b[32m6\u001b[39m,\n",
       "  \u001b[32m7\u001b[39m,\n",
       "  \u001b[32m8\u001b[39m,\n",
       "  \u001b[32m9\u001b[39m,\n",
       "  \u001b[32m10\u001b[39m,\n",
       "  \u001b[32m11\u001b[39m,\n",
       "  \u001b[32m12\u001b[39m,\n",
       "  \u001b[32m13\u001b[39m,\n",
       "  \u001b[32m14\u001b[39m,\n",
       "  \u001b[32m15\u001b[39m,\n",
       "  \u001b[32m16\u001b[39m,\n",
       "  \u001b[32m17\u001b[39m,\n",
       "  \u001b[32m18\u001b[39m,\n",
       "  \u001b[32m19\u001b[39m,\n",
       "  \u001b[32m20\u001b[39m,\n",
       "  \u001b[32m21\u001b[39m,\n",
       "  \u001b[32m22\u001b[39m,\n",
       "  \u001b[32m23\u001b[39m,\n",
       "  \u001b[32m24\u001b[39m,\n",
       "  \u001b[32m25\u001b[39m,\n",
       "  \u001b[32m26\u001b[39m,\n",
       "  \u001b[32m27\u001b[39m,\n",
       "  \u001b[32m28\u001b[39m,\n",
       "  \u001b[32m29\u001b[39m,\n",
       "  \u001b[32m30\u001b[39m,\n",
       "  \u001b[32m31\u001b[39m,\n",
       "  \u001b[32m32\u001b[39m,\n",
       "  \u001b[32m33\u001b[39m,\n",
       "  \u001b[32m34\u001b[39m,\n",
       "  \u001b[32m35\u001b[39m,\n",
       "  \u001b[32m36\u001b[39m,\n",
       "  \u001b[32m37\u001b[39m,\n",
       "  \u001b[32m38\u001b[39m,\n",
       "  \u001b[32m39\u001b[39m,\n",
       "...\n",
       "defined \u001b[32mfunction\u001b[39m \u001b[36msieve\u001b[39m"
      ]
     },
     "execution_count": 37,
     "metadata": {},
     "output_type": "execute_result"
    }
   ],
   "source": [
    "// We kepp the prime number and remove all non-prime number in the list\n",
    "val allNums = 2 until 100\n",
    "print (\"allNums: \")\n",
    "println (allNums)\n",
    "// 1. Define sieve\n",
    "// Remove all: \"++\" Increment operator. \n",
    "// removeMultiplesOfX (list_tail, x = head), \n",
    "// loop all element and remove multiple of 2, 3, etc.\n",
    "def sieve(s: Seq[Int]): Seq[Int] = {\n",
    "    //print (s.size + \" \") // 98 49 32 25 21 20 19 18 17 16 15 14 13 12 11 10 9 8 7 6 5 4 3 2 1 0\n",
    "    if (s.isEmpty) Seq()\n",
    "    else Seq(s.head) ++ sieve(removeMultiplesOfX(s.tail, s.head))\n",
    "}\n",
    "\n",
    "// 2. call sieve to remove all no-prime.\n",
    "println (\"sieve(allNums): \")\n",
    "println(sieve(allNums))"
   ]
  },
  {
   "cell_type": "markdown",
   "id": "authorized-bacon",
   "metadata": {
    "slideshow": {
     "slide_type": "slide"
    }
   },
   "source": [
    "## Scala Has Common Reductions Built-in\n",
    "\n",
    "* `sum`, `product`, `min`, `max`"
   ]
  },
  {
   "cell_type": "code",
   "execution_count": 47,
   "id": "dangerous-copyright",
   "metadata": {},
   "outputs": [
    {
     "name": "stdout",
     "output_type": "stream",
     "text": [
      "l: Range 0 until 5\n",
      "l reduce { _ + _ }: 10\n",
      "l.sum: 10\n",
      "l reduce { _ * _ }: 0\n",
      "l.product: 0\n",
      "l reduce { _ min _ }: 0\n",
      "l.min: 0\n",
      "l reduce { _ max _ }: 4\n",
      "l.max: 4\n"
     ]
    },
    {
     "data": {
      "text/plain": [
       "\u001b[36ml\u001b[39m: \u001b[32mRange\u001b[39m = \u001b[33mRange\u001b[39m(\u001b[32m0\u001b[39m, \u001b[32m1\u001b[39m, \u001b[32m2\u001b[39m, \u001b[32m3\u001b[39m, \u001b[32m4\u001b[39m)"
      ]
     },
     "execution_count": 47,
     "metadata": {},
     "output_type": "execute_result"
    }
   ],
   "source": [
    "val l = 0 until 5\n",
    "print (\"l: \")\n",
    "println (l)\n",
    "print(\"l reduce { _ + _ }: \")\n",
    "println (l reduce { _ + _ })\n",
    "print(\"l.sum: \")\n",
    "println (l.sum)\n",
    "print(\"l reduce { _ * _ }: \")\n",
    "println (l reduce { _ * _ })\n",
    "print(\"l.product: \")\n",
    "println (l.product)\n",
    "print (\"l reduce { _ min _ }: \")\n",
    "println (l reduce { _ min _ })\n",
    "print (\"l.min: \")\n",
    "println (l.min)\n",
    "print (\"l reduce { _ max _ }: \")\n",
    "println (l reduce { _ max _ })\n",
    "print (\"l.max: \")\n",
    "println (l.max)"
   ]
  },
  {
   "cell_type": "markdown",
   "id": "46cd644e",
   "metadata": {
    "slideshow": {
     "slide_type": "slide"
    }
   },
   "source": [
    "## Aside: Learn To Things the Scala Way\n",
    "\n",
    "* In many cases, Scala provides methods for things other languages wouldn't, such as:\n",
    "    * `isEmpty`/`nonEmpty`, `to`/`until`, `filter`/`filterNot`, `foldLeft`/`foldRight`\n",
    "* _Problem:_ Language newcomers may not know about all of the features or common idioms\n",
    "* _Solution A:_ Yet another reason to use an IDE, as it may recognize common launguage misuses\n",
    "* _Solution B:_ Code reviews and looking at the code of others can help\n",
    "* _Solution C:_ Read [Scala Collections Tips and Tricks](https://pavelfatin.com/scala-collections-tips-and-tricks/) by Pavel Fatin\n",
    "    * Linked from course website under _Reference $\\rightarrow$ Scala_"
   ]
  },
  {
   "cell_type": "markdown",
   "id": "prescription-marks",
   "metadata": {
    "slideshow": {
     "slide_type": "slide"
    }
   },
   "source": [
    "## Example: Using FP to do Matrix Multiplication (1/2)"
   ]
  },
  {
   "cell_type": "markdown",
   "id": "c53c516c-628a-4b5e-a4c3-bcde9084bf81",
   "metadata": {},
   "source": [
    "#### 1. Generate matrix data #### "
   ]
  },
  {
   "cell_type": "code",
   "execution_count": 49,
   "id": "solved-inflation",
   "metadata": {},
   "outputs": [
    {
     "name": "stdout",
     "output_type": "stream",
     "text": [
      "mat: List(List(0, 1, 2, 3), List(1, 2, 3, 4), List(2, 3, 4, 5), List(3, 4, 5, 6))\n"
     ]
    },
    {
     "data": {
      "text/plain": [
       "\u001b[36mmat\u001b[39m: \u001b[32mSeq\u001b[39m[\u001b[32mSeq\u001b[39m[\u001b[32mInt\u001b[39m]] = \u001b[33mList\u001b[39m(\n",
       "  \u001b[33mList\u001b[39m(\u001b[32m0\u001b[39m, \u001b[32m1\u001b[39m, \u001b[32m2\u001b[39m, \u001b[32m3\u001b[39m),\n",
       "  \u001b[33mList\u001b[39m(\u001b[32m1\u001b[39m, \u001b[32m2\u001b[39m, \u001b[32m3\u001b[39m, \u001b[32m4\u001b[39m),\n",
       "  \u001b[33mList\u001b[39m(\u001b[32m2\u001b[39m, \u001b[32m3\u001b[39m, \u001b[32m4\u001b[39m, \u001b[32m5\u001b[39m),\n",
       "  \u001b[33mList\u001b[39m(\u001b[32m3\u001b[39m, \u001b[32m4\u001b[39m, \u001b[32m5\u001b[39m, \u001b[32m6\u001b[39m)\n",
       ")"
      ]
     },
     "execution_count": 49,
     "metadata": {},
     "output_type": "execute_result"
    }
   ],
   "source": [
    "// matrix in row-major layout\n",
    "val mat = Seq.tabulate(4,4){ (i,j) => i+j }\n",
    "print(\"mat: \")\n",
    "println(mat)"
   ]
  },
  {
   "cell_type": "markdown",
   "id": "ae2b37a8-357d-4791-acfa-bddbb6bbd036",
   "metadata": {},
   "source": [
    "#### 2. Grab the column ####"
   ]
  },
  {
   "cell_type": "code",
   "execution_count": 52,
   "id": "119bcad4-9631-45df-bc83-db979bb47c2b",
   "metadata": {},
   "outputs": [
    {
     "name": "stdout",
     "output_type": "stream",
     "text": [
      "mat: List(List(0, 1, 2, 3), List(1, 2, 3, 4), List(2, 3, 4, 5), List(3, 4, 5, 6))\n",
      "grabCol: List(1, 2, 3, 4)\n"
     ]
    },
    {
     "data": {
      "text/plain": [
       "\u001b[36mmat\u001b[39m: \u001b[32mSeq\u001b[39m[\u001b[32mSeq\u001b[39m[\u001b[32mInt\u001b[39m]] = \u001b[33mList\u001b[39m(\n",
       "  \u001b[33mList\u001b[39m(\u001b[32m0\u001b[39m, \u001b[32m1\u001b[39m, \u001b[32m2\u001b[39m, \u001b[32m3\u001b[39m),\n",
       "  \u001b[33mList\u001b[39m(\u001b[32m1\u001b[39m, \u001b[32m2\u001b[39m, \u001b[32m3\u001b[39m, \u001b[32m4\u001b[39m),\n",
       "  \u001b[33mList\u001b[39m(\u001b[32m2\u001b[39m, \u001b[32m3\u001b[39m, \u001b[32m4\u001b[39m, \u001b[32m5\u001b[39m),\n",
       "  \u001b[33mList\u001b[39m(\u001b[32m3\u001b[39m, \u001b[32m4\u001b[39m, \u001b[32m5\u001b[39m, \u001b[32m6\u001b[39m)\n",
       ")\n",
       "defined \u001b[32mfunction\u001b[39m \u001b[36mgrabCol\u001b[39m"
      ]
     },
     "execution_count": 52,
     "metadata": {},
     "output_type": "execute_result"
    }
   ],
   "source": [
    "// matrix in row-major layout\n",
    "val mat = Seq.tabulate(4,4){ (i,j) => i+j }\n",
    "print(\"mat: \")\n",
    "println(mat)\n",
    "\n",
    "def grabCol(m: Seq[Seq[Int]], i: Int) = m map { row => row(i) }\n",
    "print (\"grabCol: \")\n",
    "println (grabCol(mat,1))"
   ]
  },
  {
   "cell_type": "markdown",
   "id": "54d3b8b0-e497-45c2-9b85-e10daacecd91",
   "metadata": {},
   "source": [
    "#### 3. dot product ####"
   ]
  },
  {
   "cell_type": "code",
   "execution_count": 56,
   "id": "37b17110-acdf-4e40-bd01-41d09737a529",
   "metadata": {},
   "outputs": [
    {
     "name": "stdout",
     "output_type": "stream",
     "text": [
      "mat(0): List(0, 1, 2, 3)\n",
      "mat(1): List(1, 2, 3, 4)\n",
      "dot Product: 20\n"
     ]
    },
    {
     "data": {
      "text/plain": [
       "\u001b[36mmat\u001b[39m: \u001b[32mSeq\u001b[39m[\u001b[32mSeq\u001b[39m[\u001b[32mInt\u001b[39m]] = \u001b[33mList\u001b[39m(\n",
       "  \u001b[33mList\u001b[39m(\u001b[32m0\u001b[39m, \u001b[32m1\u001b[39m, \u001b[32m2\u001b[39m, \u001b[32m3\u001b[39m),\n",
       "  \u001b[33mList\u001b[39m(\u001b[32m1\u001b[39m, \u001b[32m2\u001b[39m, \u001b[32m3\u001b[39m, \u001b[32m4\u001b[39m),\n",
       "  \u001b[33mList\u001b[39m(\u001b[32m2\u001b[39m, \u001b[32m3\u001b[39m, \u001b[32m4\u001b[39m, \u001b[32m5\u001b[39m),\n",
       "  \u001b[33mList\u001b[39m(\u001b[32m3\u001b[39m, \u001b[32m4\u001b[39m, \u001b[32m5\u001b[39m, \u001b[32m6\u001b[39m)\n",
       ")\n",
       "defined \u001b[32mfunction\u001b[39m \u001b[36mgrabCol\u001b[39m\n",
       "\u001b[36mres55_2\u001b[39m: \u001b[32mSeq\u001b[39m[\u001b[32mInt\u001b[39m] = \u001b[33mList\u001b[39m(\u001b[32m1\u001b[39m, \u001b[32m2\u001b[39m, \u001b[32m3\u001b[39m, \u001b[32m4\u001b[39m)\n",
       "defined \u001b[32mfunction\u001b[39m \u001b[36mdotP\u001b[39m"
      ]
     },
     "execution_count": 56,
     "metadata": {},
     "output_type": "execute_result"
    }
   ],
   "source": [
    "// matrix in row-major layout\n",
    "val mat = Seq.tabulate(4,4){ (i,j) => i+j }\n",
    "\n",
    "def grabCol(m: Seq[Seq[Int]], i: Int) = m map { row => row(i) }\n",
    "grabCol(mat,1)\n",
    "\n",
    "def dotP(a: Seq[Int], b: Seq[Int]) = a.zip(b).map{ case (a_i,b_i) => a_i * b_i}.sum\n",
    "print (\"mat(0): \" )\n",
    "println (mat(0))\n",
    "print (\"mat(1): \" )\n",
    "println (mat(1))\n",
    "print (\"dot Product: \" )\n",
    "println (dotP(mat(0), mat(1)))  // 0 * 1 + 1 * 2 + 2 * 3 + 3 * 4 => 2 + 6 + 12 => 20"
   ]
  },
  {
   "cell_type": "markdown",
   "id": "f8032ad4-e104-409e-80c6-3b2b2995a3e5",
   "metadata": {},
   "source": [
    "#### 4. matrix multiplication by zipWithIndex ####"
   ]
  },
  {
   "cell_type": "code",
   "execution_count": 64,
   "id": "d99e2fde-dbdb-4586-af6e-b53f46344d1b",
   "metadata": {},
   "outputs": [
    {
     "name": "stdout",
     "output_type": "stream",
     "text": [
      "matMulZipWithIndex(mat, mat): rowOfA.zipWithIndex: List((0,0), (1,1), (2,2), (3,3))\n",
      "rowOfA.zipWithIndex: List((1,0), (2,1), (3,2), (4,3))\n",
      "rowOfA.zipWithIndex: List((2,0), (3,1), (4,2), (5,3))\n",
      "rowOfA.zipWithIndex: List((3,0), (4,1), (5,2), (6,3))\n",
      "List(List(14, 20, 26, 32), List(20, 30, 40, 50), List(26, 40, 54, 68), List(32, 50, 68, 86))\n"
     ]
    },
    {
     "data": {
      "text/plain": [
       "\u001b[36mmat\u001b[39m: \u001b[32mSeq\u001b[39m[\u001b[32mSeq\u001b[39m[\u001b[32mInt\u001b[39m]] = \u001b[33mList\u001b[39m(\n",
       "  \u001b[33mList\u001b[39m(\u001b[32m0\u001b[39m, \u001b[32m1\u001b[39m, \u001b[32m2\u001b[39m, \u001b[32m3\u001b[39m),\n",
       "  \u001b[33mList\u001b[39m(\u001b[32m1\u001b[39m, \u001b[32m2\u001b[39m, \u001b[32m3\u001b[39m, \u001b[32m4\u001b[39m),\n",
       "  \u001b[33mList\u001b[39m(\u001b[32m2\u001b[39m, \u001b[32m3\u001b[39m, \u001b[32m4\u001b[39m, \u001b[32m5\u001b[39m),\n",
       "  \u001b[33mList\u001b[39m(\u001b[32m3\u001b[39m, \u001b[32m4\u001b[39m, \u001b[32m5\u001b[39m, \u001b[32m6\u001b[39m)\n",
       ")\n",
       "defined \u001b[32mfunction\u001b[39m \u001b[36mgrabCol\u001b[39m\n",
       "\u001b[36mres63_2\u001b[39m: \u001b[32mSeq\u001b[39m[\u001b[32mInt\u001b[39m] = \u001b[33mList\u001b[39m(\u001b[32m1\u001b[39m, \u001b[32m2\u001b[39m, \u001b[32m3\u001b[39m, \u001b[32m4\u001b[39m)\n",
       "defined \u001b[32mfunction\u001b[39m \u001b[36mdotP\u001b[39m\n",
       "defined \u001b[32mfunction\u001b[39m \u001b[36mmatMulZipWithIndex\u001b[39m"
      ]
     },
     "execution_count": 64,
     "metadata": {},
     "output_type": "execute_result"
    }
   ],
   "source": [
    "// matrix in row-major layout\n",
    "val mat = Seq.tabulate(4,4){ (i,j) => i+j }\n",
    "\n",
    "def grabCol(m: Seq[Seq[Int]], i: Int) = m map { row => row(i) }\n",
    "grabCol(mat,1)\n",
    "\n",
    "def dotP(a: Seq[Int], b: Seq[Int]) = a.zip(b).map{ case (a_i,b_i) => a_i * b_i}.sum\n",
    "\n",
    "def matMulZipWithIndex(a: Seq[Seq[Int]], b: Seq[Seq[Int]]): Seq[Seq[Int]] = a map {\n",
    "    rowOfA => {\n",
    "            print (\"rowOfA.zipWithIndex: \")\n",
    "            println (rowOfA.zipWithIndex)\n",
    "            rowOfA.zipWithIndex map {\n",
    "            case (element, colIndex) => dotP (rowOfA, grabCol(b, colIndex))\n",
    "        }\n",
    "    }\n",
    "}\n",
    "\n",
    "print (\"matMulZipWithIndex(mat, mat): \")\n",
    "println (matMulZipWithIndex(mat, mat))"
   ]
  },
  {
   "cell_type": "markdown",
   "id": "6fe771ba-746b-4033-913a-a86b1bc6c1aa",
   "metadata": {},
   "source": [
    "#### 5. matrix multiplication by loop and map ####"
   ]
  },
  {
   "cell_type": "code",
   "execution_count": 61,
   "id": "d577baf0-05d9-4da6-a986-1575eb3d5a1b",
   "metadata": {},
   "outputs": [
    {
     "name": "stdout",
     "output_type": "stream",
     "text": [
      "matMulLoopMap(mat, mat): List(Vector(14, 20, 26, 32), Vector(20, 30, 40, 50), Vector(26, 40, 54, 68), Vector(32, 50, 68, 86))\n"
     ]
    },
    {
     "data": {
      "text/plain": [
       "\u001b[36mmat\u001b[39m: \u001b[32mSeq\u001b[39m[\u001b[32mSeq\u001b[39m[\u001b[32mInt\u001b[39m]] = \u001b[33mList\u001b[39m(\n",
       "  \u001b[33mList\u001b[39m(\u001b[32m0\u001b[39m, \u001b[32m1\u001b[39m, \u001b[32m2\u001b[39m, \u001b[32m3\u001b[39m),\n",
       "  \u001b[33mList\u001b[39m(\u001b[32m1\u001b[39m, \u001b[32m2\u001b[39m, \u001b[32m3\u001b[39m, \u001b[32m4\u001b[39m),\n",
       "  \u001b[33mList\u001b[39m(\u001b[32m2\u001b[39m, \u001b[32m3\u001b[39m, \u001b[32m4\u001b[39m, \u001b[32m5\u001b[39m),\n",
       "  \u001b[33mList\u001b[39m(\u001b[32m3\u001b[39m, \u001b[32m4\u001b[39m, \u001b[32m5\u001b[39m, \u001b[32m6\u001b[39m)\n",
       ")\n",
       "defined \u001b[32mfunction\u001b[39m \u001b[36mgrabCol\u001b[39m\n",
       "\u001b[36mres60_2\u001b[39m: \u001b[32mSeq\u001b[39m[\u001b[32mInt\u001b[39m] = \u001b[33mList\u001b[39m(\u001b[32m1\u001b[39m, \u001b[32m2\u001b[39m, \u001b[32m3\u001b[39m, \u001b[32m4\u001b[39m)\n",
       "defined \u001b[32mfunction\u001b[39m \u001b[36mdotP\u001b[39m\n",
       "defined \u001b[32mfunction\u001b[39m \u001b[36mmatMulLoopMap\u001b[39m"
      ]
     },
     "execution_count": 61,
     "metadata": {},
     "output_type": "execute_result"
    }
   ],
   "source": [
    "// matrix in row-major layout\n",
    "val mat = Seq.tabulate(4,4){ (i,j) => i+j }\n",
    "\n",
    "def grabCol(m: Seq[Seq[Int]], i: Int) = m map { row => row(i) }\n",
    "grabCol(mat,1)\n",
    "\n",
    "def dotP(a: Seq[Int], b: Seq[Int]) = a.zip(b).map{ case (a_i,b_i) => a_i * b_i}.sum\n",
    "\n",
    "def matMulLoopMap(a: Seq[Seq[Int]], b: Seq[Seq[Int]]): Seq[Seq[Int]] = a map {\n",
    "    //rowOfA => rowOfA.zipWithIndex map {\n",
    "    //    case (element, colIndex) => dotP (rowOfA, grabCol(b, colIndex))\n",
    "    //}\n",
    "    rowOfA => (0 until rowOfA.size) map { colIndex => dotP (rowOfA, grabCol(b, colIndex)) }\n",
    "}\n",
    "\n",
    "print (\"matMulLoopMap(mat, mat): \")\n",
    "println (matMulLoopMap(mat, mat))"
   ]
  },
  {
   "cell_type": "markdown",
   "id": "f84b489a",
   "metadata": {
    "slideshow": {
     "slide_type": "slide"
    }
   },
   "source": [
    "## Example: Using FP to do Matrix Multiplication (2/2)"
   ]
  },
  {
   "cell_type": "markdown",
   "id": "57373191-0710-4685-85c3-cce25258fb13",
   "metadata": {},
   "source": [
    "#### 6. Two Loop and map ####"
   ]
  },
  {
   "cell_type": "code",
   "execution_count": 62,
   "id": "f419d7e9-66ee-42de-ab5e-2363576401d2",
   "metadata": {},
   "outputs": [
    {
     "name": "stdout",
     "output_type": "stream",
     "text": [
      "matMul (mat, mat): Vector(Vector(14, 20, 26, 32), Vector(20, 30, 40, 50), Vector(26, 40, 54, 68), Vector(32, 50, 68, 86))\n"
     ]
    },
    {
     "data": {
      "text/plain": [
       "\u001b[36mmat\u001b[39m: \u001b[32mSeq\u001b[39m[\u001b[32mSeq\u001b[39m[\u001b[32mInt\u001b[39m]] = \u001b[33mList\u001b[39m(\n",
       "  \u001b[33mList\u001b[39m(\u001b[32m0\u001b[39m, \u001b[32m1\u001b[39m, \u001b[32m2\u001b[39m, \u001b[32m3\u001b[39m),\n",
       "  \u001b[33mList\u001b[39m(\u001b[32m1\u001b[39m, \u001b[32m2\u001b[39m, \u001b[32m3\u001b[39m, \u001b[32m4\u001b[39m),\n",
       "  \u001b[33mList\u001b[39m(\u001b[32m2\u001b[39m, \u001b[32m3\u001b[39m, \u001b[32m4\u001b[39m, \u001b[32m5\u001b[39m),\n",
       "  \u001b[33mList\u001b[39m(\u001b[32m3\u001b[39m, \u001b[32m4\u001b[39m, \u001b[32m5\u001b[39m, \u001b[32m6\u001b[39m)\n",
       ")\n",
       "defined \u001b[32mfunction\u001b[39m \u001b[36mgrabCol\u001b[39m\n",
       "\u001b[36mres61_2\u001b[39m: \u001b[32mSeq\u001b[39m[\u001b[32mInt\u001b[39m] = \u001b[33mList\u001b[39m(\u001b[32m1\u001b[39m, \u001b[32m2\u001b[39m, \u001b[32m3\u001b[39m, \u001b[32m4\u001b[39m)\n",
       "defined \u001b[32mfunction\u001b[39m \u001b[36mdotP\u001b[39m\n",
       "defined \u001b[32mfunction\u001b[39m \u001b[36mmatMul\u001b[39m"
      ]
     },
     "execution_count": 62,
     "metadata": {},
     "output_type": "execute_result"
    }
   ],
   "source": [
    "// matrix in row-major layout\n",
    "val mat = Seq.tabulate(4,4){ (i,j) => i+j }\n",
    "\n",
    "def grabCol(m: Seq[Seq[Int]], i: Int) = m map { row => row(i) }\n",
    "grabCol(mat,1)\n",
    "\n",
    "def dotP(a: Seq[Int], b: Seq[Int]) = a.zip(b).map{ case (a_i,b_i) => a_i * b_i}.sum\n",
    "\n",
    "def matMul(a: Seq[Seq[Int]], b: Seq[Seq[Int]]) = {\n",
    "    (0 until a.size) map { i => {\n",
    "        (0 until b.head.size) map {j => \n",
    "            dotP(a(i), grabCol(b, j))\n",
    "        }\n",
    "    }}\n",
    "}\n",
    "print (\"matMul (mat, mat): \")\n",
    "println (matMul(mat, mat))"
   ]
  },
  {
   "cell_type": "markdown",
   "id": "44a3d659-95fa-4497-b06b-56a794c475a7",
   "metadata": {},
   "source": [
    "#### 7. Tabulate with dotP and grabCol #### "
   ]
  },
  {
   "cell_type": "code",
   "execution_count": 63,
   "id": "afecc4cc-8cdb-4ce3-b269-a170bb81389f",
   "metadata": {},
   "outputs": [
    {
     "name": "stdout",
     "output_type": "stream",
     "text": [
      "matMulTabDotGrab (mat, mat): List(List(14, 20, 26, 32), List(20, 30, 40, 50), List(26, 40, 54, 68), List(32, 50, 68, 86))\n"
     ]
    },
    {
     "data": {
      "text/plain": [
       "\u001b[36mmat\u001b[39m: \u001b[32mSeq\u001b[39m[\u001b[32mSeq\u001b[39m[\u001b[32mInt\u001b[39m]] = \u001b[33mList\u001b[39m(\n",
       "  \u001b[33mList\u001b[39m(\u001b[32m0\u001b[39m, \u001b[32m1\u001b[39m, \u001b[32m2\u001b[39m, \u001b[32m3\u001b[39m),\n",
       "  \u001b[33mList\u001b[39m(\u001b[32m1\u001b[39m, \u001b[32m2\u001b[39m, \u001b[32m3\u001b[39m, \u001b[32m4\u001b[39m),\n",
       "  \u001b[33mList\u001b[39m(\u001b[32m2\u001b[39m, \u001b[32m3\u001b[39m, \u001b[32m4\u001b[39m, \u001b[32m5\u001b[39m),\n",
       "  \u001b[33mList\u001b[39m(\u001b[32m3\u001b[39m, \u001b[32m4\u001b[39m, \u001b[32m5\u001b[39m, \u001b[32m6\u001b[39m)\n",
       ")\n",
       "defined \u001b[32mfunction\u001b[39m \u001b[36mgrabCol\u001b[39m\n",
       "\u001b[36mres62_2\u001b[39m: \u001b[32mSeq\u001b[39m[\u001b[32mInt\u001b[39m] = \u001b[33mList\u001b[39m(\u001b[32m1\u001b[39m, \u001b[32m2\u001b[39m, \u001b[32m3\u001b[39m, \u001b[32m4\u001b[39m)\n",
       "defined \u001b[32mfunction\u001b[39m \u001b[36mdotP\u001b[39m\n",
       "defined \u001b[32mfunction\u001b[39m \u001b[36mmatMulTabDotGrab\u001b[39m"
      ]
     },
     "execution_count": 63,
     "metadata": {},
     "output_type": "execute_result"
    }
   ],
   "source": [
    "// matrix in row-major layout\n",
    "val mat = Seq.tabulate(4,4){ (i,j) => i+j }\n",
    "\n",
    "def grabCol(m: Seq[Seq[Int]], i: Int) = m map { row => row(i) }\n",
    "grabCol(mat,1)\n",
    "\n",
    "def dotP(a: Seq[Int], b: Seq[Int]) = a.zip(b).map{ case (a_i,b_i) => a_i * b_i}.sum\n",
    "\n",
    "def matMulTabDotGrab(a: Seq[Seq[Int]], b: Seq[Seq[Int]]) = Seq.tabulate(a.length, a.head.length) {\n",
    "     (i, j) => dotP(a(i), grabCol(b, j))\n",
    "}\n",
    "print (\"matMulTabDotGrab (mat, mat): \")\n",
    "println (matMulTabDotGrab (mat, mat))"
   ]
  },
  {
   "cell_type": "code",
   "execution_count": 61,
   "id": "72052032",
   "metadata": {},
   "outputs": [],
   "source": [
    "/*\n",
    "def matMul(a: Seq[Seq[Int]], b: Seq[Seq[Int]]) = {\n",
    "    (0 until a.size) map { i => {\n",
    "        (0 until b.head.size) map {j => \n",
    "            dotP(a(i), grabCol(b, j))\n",
    "        }\n",
    "    }}\n",
    "}\n",
    "\n",
    "// def matMul(a: Seq[Seq[Int]], b: Seq[Seq[Int]]) = Seq.tabulate(a.length, b.head.length){\n",
    "//     (i,j) => dotP(a(i), grabCol(b,j))\n",
    "// }\n",
    "\n",
    "matMul(mat, mat)\n",
    "*/"
   ]
  },
  {
   "cell_type": "markdown",
   "id": "elder-doctor",
   "metadata": {
    "slideshow": {
     "slide_type": "slide"
    }
   },
   "source": [
    "## Pattern Matching in Scala\n",
    "\n",
    "* Can gracefully scale from replacing simple `if/else` and `switch` cases to more sophisticated searches\n",
    "* Start block with `match` and list matches with `case`\n",
    "* Can use `|` for or\n",
    "* Can use `if` to specify condition\n",
    "* Can use `_` for default (matched nothing above)"
   ]
  },
  {
   "cell_type": "code",
   "execution_count": 67,
   "id": "wanted-uruguay",
   "metadata": {},
   "outputs": [
    {
     "data": {
      "text/plain": [
       "\u001b[36mx\u001b[39m: \u001b[32mInt\u001b[39m = \u001b[32m0\u001b[39m\n",
       "\u001b[36mres66_1\u001b[39m: \u001b[32mString\u001b[39m = \u001b[32m\"0\"\u001b[39m"
      ]
     },
     "execution_count": 67,
     "metadata": {},
     "output_type": "execute_result"
    }
   ],
   "source": [
    "val x = 0\n",
    "// val x = 7 \n",
    "x match {\n",
    "    case 0 => \"0\"\n",
    "    case 1 | 3 => \"nah\"\n",
    "    case y if (y%2 == 0) => \"even\"\n",
    "    case 5 => \"found it!\"\n",
    "    case _ => \"other\"\n",
    "}"
   ]
  },
  {
   "cell_type": "markdown",
   "id": "abstract-pierre",
   "metadata": {
    "slideshow": {
     "slide_type": "slide"
    }
   },
   "source": [
    "## Can Match on Case Classes\n",
    "\n",
    "* Can match on type as a whole, or even set fields"
   ]
  },
  {
   "cell_type": "markdown",
   "id": "99a53bff-b98c-411a-ab4b-142c739c6f57",
   "metadata": {},
   "source": [
    "#### 1. Match with class name #### "
   ]
  },
  {
   "cell_type": "code",
   "execution_count": 70,
   "id": "equivalent-pencil",
   "metadata": {},
   "outputs": [
    {
     "name": "stdout",
     "output_type": "stream",
     "text": [
      "grey helicopter\n",
      "blue helicopter\n",
      "yellow submarine\n"
     ]
    },
    {
     "data": {
      "text/plain": [
       "defined \u001b[32mclass\u001b[39m \u001b[36mVehicle\u001b[39m\n",
       "defined \u001b[32mclass\u001b[39m \u001b[36mhelicopter\u001b[39m\n",
       "defined \u001b[32mclass\u001b[39m \u001b[36msubmarine\u001b[39m\n",
       "\u001b[36mmovers\u001b[39m: \u001b[32mSeq\u001b[39m[\u001b[32mProduct\u001b[39m with \u001b[32mSerializable\u001b[39m with \u001b[32mVehicle\u001b[39m] = \u001b[33mList\u001b[39m(\n",
       "  \u001b[33mhelicopter\u001b[39m(\u001b[32m\"grey\"\u001b[39m, \u001b[32m\"Marta\"\u001b[39m),\n",
       "  \u001b[33mhelicopter\u001b[39m(\u001b[32m\"blue\"\u001b[39m, \u001b[32m\"Laura\"\u001b[39m),\n",
       "  \u001b[33msubmarine\u001b[39m(\u001b[32m\"yellow\"\u001b[39m, \u001b[32m\"Paul\"\u001b[39m)\n",
       ")"
      ]
     },
     "execution_count": 70,
     "metadata": {},
     "output_type": "execute_result"
    }
   ],
   "source": [
    "abstract class Vehicle\n",
    "\n",
    "case class helicopter(color: String, driver: String) extends Vehicle\n",
    "\n",
    "case class submarine(color: String, driver: String) extends Vehicle\n",
    "\n",
    "val movers = Seq(helicopter(\"grey\", \"Marta\"), helicopter(\"blue\", \"Laura\"), submarine(\"yellow\", \"Paul\"))\n",
    "\n",
    "movers foreach {v => v match {\n",
    "    case h: helicopter => println(s\"${h.color} helicopter\")\n",
    "    case s: submarine => println(s\"${s.color} submarine\")\n",
    "}}"
   ]
  },
  {
   "cell_type": "markdown",
   "id": "551ce9b6-a5f2-4a0d-8730-4b4ea9db0e28",
   "metadata": {},
   "source": [
    "#### 2. Match with class name, srting, and condition ####"
   ]
  },
  {
   "cell_type": "code",
   "execution_count": 69,
   "id": "8109a5e8-89f8-4e4c-aeed-f49fb5cdf6c3",
   "metadata": {},
   "outputs": [
    {
     "name": "stdout",
     "output_type": "stream",
     "text": [
      "didn't match\n",
      "Laura has a blue helicopter\n",
      "didn't match\n"
     ]
    },
    {
     "data": {
      "text/plain": [
       "defined \u001b[32mclass\u001b[39m \u001b[36mVehicle\u001b[39m\n",
       "defined \u001b[32mclass\u001b[39m \u001b[36mhelicopter\u001b[39m\n",
       "defined \u001b[32mclass\u001b[39m \u001b[36msubmarine\u001b[39m\n",
       "\u001b[36mmovers\u001b[39m: \u001b[32mSeq\u001b[39m[\u001b[32mProduct\u001b[39m with \u001b[32mSerializable\u001b[39m with \u001b[32mVehicle\u001b[39m] = \u001b[33mList\u001b[39m(\n",
       "  \u001b[33mhelicopter\u001b[39m(\u001b[32m\"grey\"\u001b[39m, \u001b[32m\"Marta\"\u001b[39m),\n",
       "  \u001b[33mhelicopter\u001b[39m(\u001b[32m\"blue\"\u001b[39m, \u001b[32m\"Laura\"\u001b[39m),\n",
       "  \u001b[33msubmarine\u001b[39m(\u001b[32m\"yellow\"\u001b[39m, \u001b[32m\"Paul\"\u001b[39m)\n",
       ")"
      ]
     },
     "execution_count": 69,
     "metadata": {},
     "output_type": "execute_result"
    }
   ],
   "source": [
    "abstract class Vehicle\n",
    "\n",
    "case class helicopter(color: String, driver: String) extends Vehicle\n",
    "\n",
    "case class submarine(color: String, driver: String) extends Vehicle\n",
    "\n",
    "val movers = Seq(helicopter(\"grey\", \"Marta\"), helicopter(\"blue\", \"Laura\"), submarine(\"yellow\", \"Paul\"))\n",
    "\n",
    "movers foreach { _ match {\n",
    "    case helicopter(\"blue\", driver) => println(s\"$driver has a blue helicopter\")\n",
    "    case s: submarine if (s.color != \"yellow\") => println(s\"${s.driver}'s ${s.color} submarine\")\n",
    "    case _ => println(\"didn't match\")\n",
    "}}"
   ]
  },
  {
   "cell_type": "code",
   "execution_count": 69,
   "id": "3f759f1b-9c99-4b8c-b11a-ae65a5d090e2",
   "metadata": {},
   "outputs": [],
   "source": [
    "/* \n",
    "abstract class Vehicle\n",
    "\n",
    "case class helicopter(color: String, driver: String) extends Vehicle\n",
    "\n",
    "case class submarine(color: String, driver: String) extends Vehicle\n",
    "\n",
    "val movers = Seq(helicopter(\"grey\", \"Marta\"), helicopter(\"blue\", \"Laura\"), submarine(\"yellow\", \"Paul\"))\n",
    "\n",
    "movers foreach {v => v match {\n",
    "    case h: helicopter => println(s\"${h.color} helicopter\")\n",
    "    case s: submarine => println(s\"${s.color} submarine\")\n",
    "}}\n",
    "\n",
    "movers foreach { _ match {\n",
    "    case helicopter(\"blue\", driver) => println(s\"$driver has a blue helicopter\")\n",
    "    case s: submarine if (s.color != \"yellow\") => println(s\"${s.driver}'s ${s.color} submarine\")\n",
    "    case _ => println(\"didn't match\")\n",
    "}}\n",
    "*/"
   ]
  },
  {
   "cell_type": "markdown",
   "id": "selected-communist",
   "metadata": {
    "slideshow": {
     "slide_type": "slide"
    }
   },
   "source": [
    "## More Graceful Interactions with `Option`\n",
    "\n",
    "* Many Scala operations pass over None"
   ]
  },
  {
   "cell_type": "code",
   "execution_count": 79,
   "id": "regulated-offset",
   "metadata": {},
   "outputs": [
    {
     "name": "stdout",
     "output_type": "stream",
     "text": [
      "l: List(None, Some(1), None, Some(3), None)\n",
      "1. l foreach: \n",
      "1\n",
      "3\n",
      "\n",
      "2. l(1).getOrElse(-1): 1\n",
      "\n",
      "3. l.flatten: List(1, 3)\n",
      "\n",
      "4. l foreach { _ match {:\n",
      "was empty\n",
      "1\n",
      "was empty\n",
      "3\n",
      "was empty\n",
      "\n",
      "5. l(0) foreach println: \n",
      "()\n"
     ]
    },
    {
     "data": {
      "text/plain": [
       "\u001b[36ml\u001b[39m: \u001b[32mSeq\u001b[39m[\u001b[32mOption\u001b[39m[\u001b[32mInt\u001b[39m]] = \u001b[33mList\u001b[39m(\u001b[32mNone\u001b[39m, \u001b[33mSome\u001b[39m(\u001b[32m1\u001b[39m), \u001b[32mNone\u001b[39m, \u001b[33mSome\u001b[39m(\u001b[32m3\u001b[39m), \u001b[32mNone\u001b[39m)"
      ]
     },
     "execution_count": 79,
     "metadata": {},
     "output_type": "execute_result"
    }
   ],
   "source": [
    "val l = Seq.tabulate(5)(i => if (i % 2 == 1) Some(i) else None)\n",
    "\n",
    "print(\"l: \")\n",
    "println (l) // None, Some(1), None,l foreach  Some(3), None\n",
    "println (\"1. l foreach: \")\n",
    "l foreach { x =>\n",
    "    if (x.isDefined) println(x.get)  // Only defined is printed.\n",
    "}\n",
    "println()\n",
    "// l(1).getOrElse(-1)\n",
    "print (\"2. l(1).getOrElse(-1): \")\n",
    "println (l(1).getOrElse(-1))\n",
    "println()\n",
    "// l.flatten\n",
    "print (\"3. l.flatten: \")\n",
    "println (l.flatten)\n",
    "println()\n",
    "println (\"4. l foreach { _ match {:\")\n",
    "l foreach { _ match {\n",
    "     case Some(i) => println(i)\n",
    "     case None => println(\"was empty\")\n",
    "}}\n",
    "println()\n",
    "// l(0) foreach println\n",
    "println (\"5. l(0) foreach println: \")\n",
    "println (l(0) foreach println)"
   ]
  },
  {
   "cell_type": "markdown",
   "id": "95592952",
   "metadata": {
    "slideshow": {
     "slide_type": "slide"
    }
   },
   "source": [
    "## Project Overview\n",
    "\n",
    "### GOAL: gain experience developing/revising a generator\n",
    "\n",
    "### Main Details\n",
    "* Working in pairs (or individually)\n",
    "* Pick an idea to build a generator for (contact instructor if need suggestion)\n",
    "* Will _propose/design/develop/test/optimize/revise/document/present_ generator\n",
    "* Ballpark for size/complexity: ~2x most recent homework problems\n",
    "  * Building largely from scratch, so much more to do"
   ]
  },
  {
   "cell_type": "markdown",
   "id": "fe1fb6f7",
   "metadata": {
    "slideshow": {
     "slide_type": "slide"
    }
   },
   "source": [
    "## Project Timeline\n",
    "\n",
    "* Weeks 5-6 (this week & next week) - find a partner and brainstorm ideas\n",
    "    * Come chat in office hours to get early feedback\n",
    "* Week 7 - propose project & get instructor feedback\n",
    "* Week 8 - close the loop early and keep developing\n",
    "* Week 9 - complete initial development & start revising\n",
    "* Week 10 - finalize/polish project & present"
   ]
  },
  {
   "cell_type": "markdown",
   "id": "8c4ddccf",
   "metadata": {
    "slideshow": {
     "slide_type": "slide"
    }
   },
   "source": [
    "## Project Deliverables\n",
    "\n",
    "* 2/20 - initial proposal (<1 page)\n",
    "  * What will generator do and what interface/parameters will it have?\n",
    "  * Consider how to bootstrap, test, and what features that can be deferred\n",
    "  * Feedback during 2/21 & 2/23\n",
    "* 3/4 - Link to working repo (can be feature incomplete)\n",
    "  * Close the loop early, and build from there\n",
    "* 3/11 - External (peer) code review\n",
    "* 3/13 or 3/15 - Presentation\n",
    "* 3/20 - Links to final repo & revised presentation\n",
    "  * Following presentation, will have time to make small revisions\n",
    "  * Encouraged (but not required) to post publicly"
   ]
  }
 ],
 "metadata": {
  "celltoolbar": "Slideshow",
  "kernelspec": {
   "display_name": "Scala 2.12.11",
   "language": "scala",
   "name": "scala_2_12_11"
  },
  "language_info": {
   "codemirror_mode": "text/x-scala",
   "file_extension": ".scala",
   "mimetype": "text/x-scala",
   "name": "scala",
   "nbconvert_exporter": "script",
   "version": "2.12.11"
  }
 },
 "nbformat": 4,
 "nbformat_minor": 5
}
