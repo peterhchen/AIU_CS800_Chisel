{
 "cells": [
  {
   "cell_type": "markdown",
   "id": "c983204f-2bd3-493c-bc81-e179ac86d549",
   "metadata": {
    "slideshow": {
     "slide_type": "slide"
    }
   },
   "source": [
    "## Agile Hardware Design\n",
    "***\n",
    "# Queue Design Case Study\n",
    "\n",
    "<img src=\"./images/chisel_logo.svg\" alt=\"agile hardware design logo\" style=\"width:20%;float:right\" />\n",
    "\n",
    "by Peter Hanping Chen, based on:\n",
    "\n",
    "1. UC Berkley Bootcamp: configuration file: load-ivy.sc\n",
    "- https://github.com/freechipsproject/chisel-bootcamp\n",
    "2. Prof. Scott Beamer, sbeamer@ucsc.edu\n",
    "- [CSE 228A](https://classes.soe.ucsc.edu/cse228a/Winter24/)"
   ]
  },
  {
   "cell_type": "markdown",
   "id": "nominated-consistency",
   "metadata": {
    "slideshow": {
     "slide_type": "slide"
    }
   },
   "source": [
    "## Plan for Today\n",
    "\n",
    "* Designing for reuse\n",
    "* Designing a Queue\n",
    "* Iteratively improving Queue design"
   ]
  },
  {
   "cell_type": "markdown",
   "id": "regular-reducing",
   "metadata": {
    "slideshow": {
     "slide_type": "slide"
    }
   },
   "source": [
    "## Loading The Chisel Library Into a Notebook"
   ]
  },
  {
   "cell_type": "code",
   "execution_count": 1,
   "id": "robust-immigration",
   "metadata": {},
   "outputs": [
    {
     "name": "stdout",
     "output_type": "stream",
     "text": [
      "path: /home/peter/AIU/AIU_CS800_Chisel/500_UCSC_HWD/013_Queue/001_Code/source/load-ivy.sc\n"
     ]
    },
    {
     "data": {
      "text/plain": [
       "\u001b[36mpath\u001b[39m: \u001b[32mString\u001b[39m = \u001b[32m\"/home/peter/AIU/AIU_CS800_Chisel/500_UCSC_HWD/013_Queue/001_Code/source/load-ivy.sc\"\u001b[39m"
      ]
     },
     "execution_count": 1,
     "metadata": {},
     "output_type": "execute_result"
    }
   ],
   "source": [
    "// interp.load.module(os.Path(s\"${System.getProperty(\"user.dir\")}/../resource/chisel_deps.sc\"))\n",
    "val path = System.getProperty(\"user.dir\") + \"/source/load-ivy.sc\"\n",
    "//val path = System.getProperty(\"user.dir\") + \"/source/chisel_deps.sc\"\n",
    "println(\"path: \"+path)\n",
    "interp.load.module(ammonite.ops.Path(java.nio.file.FileSystems.getDefault().getPath(path)))"
   ]
  },
  {
   "cell_type": "code",
   "execution_count": 2,
   "id": "extended-burning",
   "metadata": {
    "slideshow": {
     "slide_type": "-"
    }
   },
   "outputs": [
    {
     "data": {
      "text/plain": [
       "\u001b[32mimport \u001b[39m\u001b[36mchisel3._\n",
       "\u001b[39m\n",
       "\u001b[32mimport \u001b[39m\u001b[36mchisel3.util._\n",
       "\u001b[39m\n",
       "\u001b[32mimport \u001b[39m\u001b[36mchiseltest._\n",
       "\u001b[39m\n",
       "\u001b[32mimport \u001b[39m\u001b[36mchiseltest.RawTester.test\u001b[39m"
      ]
     },
     "execution_count": 2,
     "metadata": {},
     "output_type": "execute_result"
    }
   ],
   "source": [
    "import chisel3._\n",
    "import chisel3.util._\n",
    "import chiseltest._\n",
    "import chiseltest.RawTester.test"
   ]
  },
  {
   "cell_type": "markdown",
   "id": "6ac7781b-7440-4088-85e7-d1cf93206245",
   "metadata": {
    "slideshow": {
     "slide_type": "slide"
    }
   },
   "source": [
    "## Goals for Reuse\n",
    "\n",
    "* Need to recognize _pattern_ of functionality\n",
    "\n",
    "* Include necessary parameterization and generation to support users' needs"
   ]
  },
  {
   "cell_type": "markdown",
   "id": "sunset-marshall",
   "metadata": {
    "slideshow": {
     "slide_type": "slide"
    }
   },
   "source": [
    "## Planning for Progressive Design\n",
    "\n",
    "* Reduce the complexity/challenge of any one step\n",
    "* _Close the loop_ as early as possible, then augment/extend/revise\n",
    "* Look for opportunities to defer features/optimizations to later\n",
    "* While developing, re-evaluate plan and revise as needed\n",
    "* Consider\n",
    "  * What is the simplest thing I can implement?\n",
    "  * How can I test it? (both at start and as it evolves)\n",
    "  * Plotting a roadmap to order development of features/optimizations"
   ]
  },
  {
   "cell_type": "markdown",
   "id": "f88c99e7-f04d-435e-ad85-236b3803a0d8",
   "metadata": {
    "jp-MarkdownHeadingCollapsed": true,
    "slideshow": {
     "slide_type": "slide"
    }
   },
   "source": [
    "## Case Study: Designing a Queue\n",
    "\n",
    "* **Goal:** A _Queue_ with `Decoupled` interfaces on both sides\n",
    "  * Would like to parameterize queue depth and data types\n",
    "  * Power/performance/area (PPA) goals\n",
    "\n",
    "* **How to get started:** deferring features\n",
    "  * Parameters (queue depth & data type)\n",
    "  * Performance (correct but slow ok at first)\n",
    "\n",
    "<img src=\"images/queue.svg\" alt=\"queue high-level\" style=\"width:50%;align:left\"/>"
   ]
  },
  {
   "cell_type": "markdown",
   "id": "c3a8fd75-2322-484f-9ee4-754ed93b2e4b",
   "metadata": {
    "jp-MarkdownHeadingCollapsed": true,
    "slideshow": {
     "slide_type": "slide"
    }
   },
   "source": [
    "## First Attempt at Queue\n",
    "\n",
    "* _Simplification_: only single entry\n",
    "* _Behavior_: can enqueue if full and dequeueing (`pipe` is true), but can't bypass if empty (`flow` is false)\n",
    "\n",
    "<img src=\"images/single.svg\" alt=\"single-entry queue\" style=\"width:50%;align:left\"/>"
   ]
  },
  {
   "cell_type": "markdown",
   "id": "outdoor-arkansas",
   "metadata": {
    "slideshow": {
     "slide_type": "slide"
    }
   },
   "source": [
    "## V0 - First Attempt at Queue"
   ]
  },
  {
   "cell_type": "markdown",
   "id": "762cc614-92d8-4930-ae77-1c6ed278931b",
   "metadata": {},
   "source": [
    "#### 1. Define basic class MyQueue with IO  ####\n",
    "- All Queue have the same IO.\n",
    "- Here, we define class MyQueue() with \n",
    "\n",
    "- a. Scala input:   \n",
    "    - a.1 numEntries: Number of entry,\n",
    "    - a.2 bitWidth: Number of bits\n",
    "\n",
    "- b. Chisel IO:\n",
    "    - b.1 enq = Flioppped\n",
    "    - b.2 deq = Decoupled"
   ]
  },
  {
   "cell_type": "code",
   "execution_count": 3,
   "id": "ideal-ghana",
   "metadata": {},
   "outputs": [
    {
     "data": {
      "text/plain": [
       "defined \u001b[32mclass\u001b[39m \u001b[36mMyQueue\u001b[39m"
      ]
     },
     "execution_count": 3,
     "metadata": {},
     "output_type": "execute_result"
    }
   ],
   "source": [
    "class MyQueue(val numEntries: Int, bitWidth: Int) extends Module {\n",
    "    val io = IO(new Bundle {\n",
    "        val enq = Flipped(Decoupled(UInt(bitWidth.W)))\n",
    "        val deq = Decoupled(UInt(bitWidth.W))\n",
    "    })\n",
    "}"
   ]
  },
  {
   "cell_type": "code",
   "execution_count": 3,
   "id": "087b4d89-3034-41af-bfdd-7eb6d75ecc5e",
   "metadata": {},
   "outputs": [],
   "source": [
    "// Error\n",
    "//val bitWidth: Int = 8\n",
    "//println (getVerilog (new MyQueue(1, bitWidth)))"
   ]
  },
  {
   "cell_type": "markdown",
   "id": "95c69b3c-c5b7-4cab-b0bf-26f8596ae935",
   "metadata": {},
   "source": [
    "#### 2. Define class MyQueueV0 ####"
   ]
  },
  {
   "cell_type": "code",
   "execution_count": 4,
   "id": "4cf8b8ca-b690-4337-878d-94b025c18a2e",
   "metadata": {},
   "outputs": [
    {
     "data": {
      "text/plain": [
       "defined \u001b[32mclass\u001b[39m \u001b[36mMyQueueV0\u001b[39m"
      ]
     },
     "execution_count": 4,
     "metadata": {},
     "output_type": "execute_result"
    }
   ],
   "source": [
    "class MyQueueV0(bitWidth: Int) extends MyQueue(1, bitWidth) {\n",
    "    val entry = Reg(UInt(bitWidth.W))\n",
    "    val full = RegInit(false.B)\n",
    "    io.enq.ready := !full || io.deq.fire\n",
    "    io.deq.valid := full\n",
    "    io.deq.bits := entry\n",
    "    when (io.deq.fire) {\n",
    "        full := false.B\n",
    "    }\n",
    "    when (io.enq.fire) {\n",
    "        entry := io.enq.bits\n",
    "        full := true.B\n",
    "    }\n",
    "}"
   ]
  },
  {
   "cell_type": "code",
   "execution_count": 5,
   "id": "692f6859-f776-4f72-942e-8460a1e26ff9",
   "metadata": {},
   "outputs": [
    {
     "name": "stdout",
     "output_type": "stream",
     "text": [
      "Elaborating design...\n",
      "Done elaborating.\n",
      "module MyQueueV0(\n",
      "  input        clock,\n",
      "  input        reset,\n",
      "  output       io_enq_ready,\n",
      "  input        io_enq_valid,\n",
      "  input  [1:0] io_enq_bits,\n",
      "  input        io_deq_ready,\n",
      "  output       io_deq_valid,\n",
      "  output [1:0] io_deq_bits\n",
      ");\n",
      "`ifdef RANDOMIZE_REG_INIT\n",
      "  reg [31:0] _RAND_0;\n",
      "  reg [31:0] _RAND_1;\n",
      "`endif // RANDOMIZE_REG_INIT\n",
      "  reg [1:0] entry; // @[cmd3.sc 2:20]\n",
      "  reg  full; // @[cmd3.sc 3:23]\n",
      "  wire  _T_1 = io_deq_ready & io_deq_valid; // @[Decoupled.scala 40:37]\n",
      "  wire  _GEN_0 = _T_1 ? 1'h0 : full; // @[cmd3.sc 7:24 cmd3.sc 8:14 cmd3.sc 3:23]\n",
      "  wire  _T_4 = io_enq_ready & io_enq_valid; // @[Decoupled.scala 40:37]\n",
      "  wire  _GEN_2 = _T_4 | _GEN_0; // @[cmd3.sc 10:24 cmd3.sc 12:14]\n",
      "  assign io_enq_ready = ~full | _T_1; // @[cmd3.sc 4:27]\n",
      "  assign io_deq_valid = full; // @[cmd3.sc 5:18]\n",
      "  assign io_deq_bits = entry; // @[cmd3.sc 6:17]\n",
      "  always @(posedge clock) begin\n",
      "    if (_T_4) begin // @[cmd3.sc 10:24]\n",
      "      entry <= io_enq_bits; // @[cmd3.sc 11:15]\n",
      "    end\n",
      "    if (reset) begin // @[cmd3.sc 3:23]\n",
      "      full <= 1'h0; // @[cmd3.sc 3:23]\n",
      "    end else begin\n",
      "      full <= _GEN_2;\n",
      "    end\n",
      "  end\n",
      "// Register and memory initialization\n",
      "`ifdef RANDOMIZE_GARBAGE_ASSIGN\n",
      "`define RANDOMIZE\n",
      "`endif\n",
      "`ifdef RANDOMIZE_INVALID_ASSIGN\n",
      "`define RANDOMIZE\n",
      "`endif\n",
      "`ifdef RANDOMIZE_REG_INIT\n",
      "`define RANDOMIZE\n",
      "`endif\n",
      "`ifdef RANDOMIZE_MEM_INIT\n",
      "`define RANDOMIZE\n",
      "`endif\n",
      "`ifndef RANDOM\n",
      "`define RANDOM $random\n",
      "`endif\n",
      "`ifdef RANDOMIZE_MEM_INIT\n",
      "  integer initvar;\n",
      "`endif\n",
      "`ifndef SYNTHESIS\n",
      "`ifdef FIRRTL_BEFORE_INITIAL\n",
      "`FIRRTL_BEFORE_INITIAL\n",
      "`endif\n",
      "initial begin\n",
      "  `ifdef RANDOMIZE\n",
      "    `ifdef INIT_RANDOM\n",
      "      `INIT_RANDOM\n",
      "    `endif\n",
      "    `ifndef VERILATOR\n",
      "      `ifdef RANDOMIZE_DELAY\n",
      "        #`RANDOMIZE_DELAY begin end\n",
      "      `else\n",
      "        #0.002 begin end\n",
      "      `endif\n",
      "    `endif\n",
      "`ifdef RANDOMIZE_REG_INIT\n",
      "  _RAND_0 = {1{`RANDOM}};\n",
      "  entry = _RAND_0[1:0];\n",
      "  _RAND_1 = {1{`RANDOM}};\n",
      "  full = _RAND_1[0:0];\n",
      "`endif // RANDOMIZE_REG_INIT\n",
      "  `endif // RANDOMIZE\n",
      "end // initial\n",
      "`ifdef FIRRTL_AFTER_INITIAL\n",
      "`FIRRTL_AFTER_INITIAL\n",
      "`endif\n",
      "`endif // SYNTHESIS\n",
      "endmodule\n",
      "\n"
     ]
    }
   ],
   "source": [
    "println (getVerilog (new MyQueueV0(2)))"
   ]
  },
  {
   "cell_type": "markdown",
   "id": "miniature-projector",
   "metadata": {
    "slideshow": {
     "slide_type": "slide"
    }
   },
   "source": [
    "## Testing Our Queue - Scala Model"
   ]
  },
  {
   "cell_type": "code",
   "execution_count": 6,
   "id": "proud-unemployment",
   "metadata": {},
   "outputs": [
    {
     "data": {
      "text/plain": [
       "defined \u001b[32mclass\u001b[39m \u001b[36mQueueModel\u001b[39m"
      ]
     },
     "execution_count": 6,
     "metadata": {},
     "output_type": "execute_result"
    }
   ],
   "source": [
    "class QueueModel(numEntries: Int, pipe: Boolean=true) {\n",
    "    val mq = scala.collection.mutable.Queue[Int]()\n",
    "\n",
    "    var deqReady = false  // set externally\n",
    "    def deqValid() = mq.nonEmpty\n",
    "    // be sure to call attemptDeq before attemptEnq within a cycle\n",
    "    def attemptDeq() = if (deqReady && deqValid) Some(mq.dequeue()) else None\n",
    "    \n",
    "    def enqReady() = mq.size < numEntries-1 || \n",
    "                    (mq.size == numEntries-1 && !deqReady) ||\n",
    "                    (mq.size == numEntries-1 && deqReady && pipe)\n",
    "    def attemptEnq(elem: Int): Unit = if (enqReady()) mq += elem    // implies enqValid\n",
    "}"
   ]
  },
  {
   "cell_type": "code",
   "execution_count": 6,
   "id": "62afeded-ee1b-4c87-bf33-94dcee25326b",
   "metadata": {},
   "outputs": [],
   "source": [
    "//println (getVerilog (new QueueModel(2)))\n",
    "// How to pass pipe: Boolean=true?"
   ]
  },
  {
   "cell_type": "markdown",
   "id": "necessary-suffering",
   "metadata": {
    "slideshow": {
     "slide_type": "slide"
    }
   },
   "source": [
    "## Testing Our Queue - Harness + Simulation"
   ]
  },
  {
   "cell_type": "code",
   "execution_count": 7,
   "id": "cardiac-religion",
   "metadata": {},
   "outputs": [
    {
     "data": {
      "text/plain": [
       "defined \u001b[32mfunction\u001b[39m \u001b[36msimCycle\u001b[39m"
      ]
     },
     "execution_count": 7,
     "metadata": {},
     "output_type": "execute_result"
    }
   ],
   "source": [
    "def simCycle(qm: QueueModel, c: MyQueue, enqValid: Boolean, deqReady: Boolean, enqData: Int=0) {\n",
    "    qm.deqReady = deqReady\n",
    "    c.io.deq.ready.poke(qm.deqReady.B)\n",
    "    c.io.deq.valid.expect(qm.deqValid.B)\n",
    "    val deqResult = qm.attemptDeq()\n",
    "    if (deqResult.isDefined)\n",
    "        c.io.deq.bits.expect(deqResult.get.U)\n",
    "    c.io.enq.ready.expect(qm.enqReady.B)\n",
    "    c.io.enq.valid.poke(enqValid.B)\n",
    "    c.io.enq.bits.poke(enqData.U)\n",
    "    if (enqValid)\n",
    "        qm.attemptEnq(enqData)\n",
    "    c.clock.step()\n",
    "    println(qm.mq)\n",
    "}"
   ]
  },
  {
   "cell_type": "markdown",
   "id": "composite-vegetarian",
   "metadata": {
    "slideshow": {
     "slide_type": "slide"
    }
   },
   "source": [
    "## Testing Our Queue - Simulation"
   ]
  },
  {
   "cell_type": "markdown",
   "id": "72e474c4-ed02-40b6-b802-4b3af7506422",
   "metadata": {},
   "source": [
    "#### Test Sequnces 1 ####"
   ]
  },
  {
   "cell_type": "code",
   "execution_count": 30,
   "id": "forty-yugoslavia",
   "metadata": {},
   "outputs": [
    {
     "name": "stdout",
     "output_type": "stream",
     "text": [
      "Elaborating design...\n",
      "Done elaborating.\n",
      "Test 1: simCycle(qm, c, enqValid=false, deqReady=false): Queue()\n",
      "Test 2: simCycle(qm, c, enqValid=true,  deqReady=false, 1): Queue(1)\n",
      "Test 3: simCycle(qm, c, enqValid=true,  deqReady=false, 2): Queue(1)\n",
      "Test 4: simCycle(qm, c, enqValid=true,  deqReady=false, 3): Queue(3)\n",
      "Test 5: simCycle(qm, c, enqValid=false, deqReady=false): Queue()\n",
      "test MyQueueV0 Success: 0 tests passed in 7 cycles in 0.006340 seconds 1104.11 Hz\n"
     ]
    }
   ],
   "source": [
    "test(new MyQueueV0(8)) { c =>\n",
    "    val qm = new QueueModel(c.numEntries)\n",
    "    print (\"Test 1: simCycle(qm, c, enqValid=false, deqReady=false): \")\n",
    "    simCycle(qm, c, enqValid=false, deqReady=false)\n",
    "    print (\"Test 2: simCycle(qm, c, enqValid=true,  deqReady=false, 1): \")\n",
    "    simCycle(qm, c, enqValid=true,  deqReady=false, 1)\n",
    "    print (\"Test 3: simCycle(qm, c, enqValid=true,  deqReady=false, 2): \")\n",
    "    simCycle(qm, c, enqValid=true,  deqReady=false, 2)\n",
    "    print (\"Test 4: simCycle(qm, c, enqValid=true,  deqReady=false, 3): \")\n",
    "    simCycle(qm, c, enqValid=true,  deqReady=true,  3)\n",
    "    print (\"Test 5: simCycle(qm, c, enqValid=false, deqReady=false): \")\n",
    "    simCycle(qm, c, enqValid=false, deqReady=true)\n",
    "}"
   ]
  },
  {
   "cell_type": "markdown",
   "id": "81ed1083-3279-4d70-a983-06eaf85dbd3f",
   "metadata": {},
   "source": [
    "#### Test Sequence 2 ####"
   ]
  },
  {
   "cell_type": "code",
   "execution_count": 33,
   "id": "28194784-29dc-411a-bd44-e1fd234941e5",
   "metadata": {},
   "outputs": [
    {
     "name": "stdout",
     "output_type": "stream",
     "text": [
      "Elaborating design...\n",
      "Done elaborating.\n",
      "Test 1: simCycle(qm, c, enqValid=false, deqReady=false): Queue()\n",
      "Test 2: simCycle(qm, c, enqValid=true,  deqReady=false, 4): Queue(4)\n",
      "Test 3: simCycle(qm, c, enqValid=true,  deqReady=false, 5): Queue(4)\n",
      "Test 4: simCycle(qm, c, enqValid=true,  deqReady=false, 6): Queue(6)\n",
      "Test 5: simCycle(qm, c, enqValid=false, deqReady=false): Queue()\n",
      "test MyQueueV0 Success: 0 tests passed in 7 cycles in 0.007791 seconds 898.51 Hz\n"
     ]
    }
   ],
   "source": [
    "test(new MyQueueV0(8)) { c =>\n",
    "    val qm = new QueueModel(c.numEntries)\n",
    "    print (\"Test 1: simCycle(qm, c, enqValid=false, deqReady=false): \")\n",
    "    simCycle(qm, c, enqValid=false, deqReady=false)\n",
    "    print (\"Test 2: simCycle(qm, c, enqValid=true,  deqReady=false, 4): \")\n",
    "    simCycle(qm, c, enqValid=true,  deqReady=false, 4)\n",
    "    print (\"Test 3: simCycle(qm, c, enqValid=true,  deqReady=false, 5): \")\n",
    "    simCycle(qm, c, enqValid=true,  deqReady=false, 5)\n",
    "    print (\"Test 4: simCycle(qm, c, enqValid=true,  deqReady=false, 6): \")\n",
    "    simCycle(qm, c, enqValid=true,  deqReady=true,  6)\n",
    "    print (\"Test 5: simCycle(qm, c, enqValid=false, deqReady=false): \")\n",
    "    simCycle(qm, c, enqValid=false, deqReady=true)\n",
    "}"
   ]
  },
  {
   "cell_type": "markdown",
   "id": "automatic-lecture",
   "metadata": {
    "slideshow": {
     "slide_type": "slide"
    }
   },
   "source": [
    "## Assessing MyQueue `V0`\n",
    "\n",
    "* Accomplished\n",
    "    * Implements queueing behavior\n",
    "    * Parameterized data width (still limited to `UInt`)\n",
    "* Shortcommings\n",
    "    * Only one entry (_next goal_ to fix)"
   ]
  },
  {
   "cell_type": "markdown",
   "id": "432fc5d7-a5f8-4bbf-91e9-7fb18a829ce4",
   "metadata": {
    "slideshow": {
     "slide_type": "slide"
    }
   },
   "source": [
    "## Parameterizing Number of Queue Entries\n",
    "\n",
    "* First attempt at parameterizing number of entries: _shift register_\n",
    "\n",
    "<img src=\"images/shift.svg\" alt=\"queue via shift register\" style=\"width:50%;align:left\" />"
   ]
  },
  {
   "cell_type": "markdown",
   "id": "referenced-cleaner",
   "metadata": {
    "slideshow": {
     "slide_type": "slide"
    }
   },
   "source": [
    "## V1 - Parameterizing Number of Queue Entries"
   ]
  },
  {
   "cell_type": "code",
   "execution_count": 9,
   "id": "presidential-treatment",
   "metadata": {},
   "outputs": [
    {
     "data": {
      "text/plain": [
       "defined \u001b[32mclass\u001b[39m \u001b[36mMyQueueV1\u001b[39m"
      ]
     },
     "execution_count": 9,
     "metadata": {},
     "output_type": "execute_result"
    }
   ],
   "source": [
    "class MyQueueV1(numEntries: Int, bitWidth: Int) extends MyQueue(numEntries, bitWidth) {\n",
    "    require(numEntries > 0)\n",
    "    // enqueue into index numEntries-1 (last) and dequeue from index 0 (head)\n",
    "    val entries = Seq.fill(numEntries)(Reg(UInt(bitWidth.W)))\n",
    "    val fullBits = Seq.fill(numEntries)(RegInit(false.B))\n",
    "    val shiftDown = io.deq.fire || !fullBits.head\n",
    "    io.enq.ready := !fullBits.last || shiftDown\n",
    "    io.deq.valid := fullBits.head\n",
    "    io.deq.bits := entries.head\n",
    "    when (shiftDown) { // dequeue / shift\n",
    "        for (i <- 0 until numEntries - 1) {\n",
    "            entries(i) := entries(i+1)\n",
    "            fullBits(i) := fullBits(i+1)\n",
    "        }\n",
    "        fullBits.last := false.B\n",
    "    }\n",
    "    when (io.enq.fire) { // enqueue\n",
    "        entries.last := io.enq.bits\n",
    "        fullBits.last := true.B\n",
    "    }\n",
    "//     when (shiftDown || io.enq.fire) {  // not quite right\n",
    "//         entries.foldRight(io.enq.bits){(thisEntry, lastEntry) => thisEntry := lastEntry; thisEntry}\n",
    "//         fullBits.foldRight(io.enq.fire){(thisEntry, lastEntry) => thisEntry := lastEntry; thisEntry}\n",
    "//     }\n",
    "}"
   ]
  },
  {
   "cell_type": "code",
   "execution_count": 10,
   "id": "e03333b1-7d88-4286-b69a-c435d749971e",
   "metadata": {},
   "outputs": [
    {
     "name": "stdout",
     "output_type": "stream",
     "text": [
      "Elaborating design...\n",
      "Done elaborating.\n",
      "module MyQueueV1(\n",
      "  input        clock,\n",
      "  input        reset,\n",
      "  output       io_enq_ready,\n",
      "  input        io_enq_valid,\n",
      "  input  [7:0] io_enq_bits,\n",
      "  input        io_deq_ready,\n",
      "  output       io_deq_valid,\n",
      "  output [7:0] io_deq_bits\n",
      ");\n",
      "`ifdef RANDOMIZE_REG_INIT\n",
      "  reg [31:0] _RAND_0;\n",
      "  reg [31:0] _RAND_1;\n",
      "  reg [31:0] _RAND_2;\n",
      "  reg [31:0] _RAND_3;\n",
      "`endif // RANDOMIZE_REG_INIT\n",
      "  reg [7:0] entries_0; // @[cmd8.sc 4:43]\n",
      "  reg [7:0] entries_1; // @[cmd8.sc 4:43]\n",
      "  reg  fullBits_0; // @[cmd8.sc 5:48]\n",
      "  reg  fullBits_1; // @[cmd8.sc 5:48]\n",
      "  wire  _T = io_deq_ready & io_deq_valid; // @[Decoupled.scala 40:37]\n",
      "  wire  shiftDown = _T | ~fullBits_0; // @[cmd8.sc 6:33]\n",
      "  wire  _GEN_2 = shiftDown ? 1'h0 : fullBits_1; // @[cmd8.sc 10:22 cmd8.sc 15:23 cmd8.sc 5:48]\n",
      "  wire  _T_4 = io_enq_ready & io_enq_valid; // @[Decoupled.scala 40:37]\n",
      "  wire  _GEN_4 = _T_4 | _GEN_2; // @[cmd8.sc 17:24 cmd8.sc 19:23]\n",
      "  assign io_enq_ready = ~fullBits_1 | shiftDown; // @[cmd8.sc 7:36]\n",
      "  assign io_deq_valid = fullBits_0; // @[cmd8.sc 8:18]\n",
      "  assign io_deq_bits = entries_0; // @[cmd8.sc 9:17]\n",
      "  always @(posedge clock) begin\n",
      "    if (shiftDown) begin // @[cmd8.sc 10:22]\n",
      "      entries_0 <= entries_1; // @[cmd8.sc 12:24]\n",
      "    end\n",
      "    if (_T_4) begin // @[cmd8.sc 17:24]\n",
      "      entries_1 <= io_enq_bits; // @[cmd8.sc 18:22]\n",
      "    end\n",
      "    if (reset) begin // @[cmd8.sc 5:48]\n",
      "      fullBits_0 <= 1'h0; // @[cmd8.sc 5:48]\n",
      "    end else if (shiftDown) begin // @[cmd8.sc 10:22]\n",
      "      fullBits_0 <= fullBits_1; // @[cmd8.sc 13:25]\n",
      "    end\n",
      "    if (reset) begin // @[cmd8.sc 5:48]\n",
      "      fullBits_1 <= 1'h0; // @[cmd8.sc 5:48]\n",
      "    end else begin\n",
      "      fullBits_1 <= _GEN_4;\n",
      "    end\n",
      "  end\n",
      "// Register and memory initialization\n",
      "`ifdef RANDOMIZE_GARBAGE_ASSIGN\n",
      "`define RANDOMIZE\n",
      "`endif\n",
      "`ifdef RANDOMIZE_INVALID_ASSIGN\n",
      "`define RANDOMIZE\n",
      "`endif\n",
      "`ifdef RANDOMIZE_REG_INIT\n",
      "`define RANDOMIZE\n",
      "`endif\n",
      "`ifdef RANDOMIZE_MEM_INIT\n",
      "`define RANDOMIZE\n",
      "`endif\n",
      "`ifndef RANDOM\n",
      "`define RANDOM $random\n",
      "`endif\n",
      "`ifdef RANDOMIZE_MEM_INIT\n",
      "  integer initvar;\n",
      "`endif\n",
      "`ifndef SYNTHESIS\n",
      "`ifdef FIRRTL_BEFORE_INITIAL\n",
      "`FIRRTL_BEFORE_INITIAL\n",
      "`endif\n",
      "initial begin\n",
      "  `ifdef RANDOMIZE\n",
      "    `ifdef INIT_RANDOM\n",
      "      `INIT_RANDOM\n",
      "    `endif\n",
      "    `ifndef VERILATOR\n",
      "      `ifdef RANDOMIZE_DELAY\n",
      "        #`RANDOMIZE_DELAY begin end\n",
      "      `else\n",
      "        #0.002 begin end\n",
      "      `endif\n",
      "    `endif\n",
      "`ifdef RANDOMIZE_REG_INIT\n",
      "  _RAND_0 = {1{`RANDOM}};\n",
      "  entries_0 = _RAND_0[7:0];\n",
      "  _RAND_1 = {1{`RANDOM}};\n",
      "  entries_1 = _RAND_1[7:0];\n",
      "  _RAND_2 = {1{`RANDOM}};\n",
      "  fullBits_0 = _RAND_2[0:0];\n",
      "  _RAND_3 = {1{`RANDOM}};\n",
      "  fullBits_1 = _RAND_3[0:0];\n",
      "`endif // RANDOMIZE_REG_INIT\n",
      "  `endif // RANDOMIZE\n",
      "end // initial\n",
      "`ifdef FIRRTL_AFTER_INITIAL\n",
      "`FIRRTL_AFTER_INITIAL\n",
      "`endif\n",
      "`endif // SYNTHESIS\n",
      "endmodule\n",
      "\n"
     ]
    }
   ],
   "source": [
    "println (getVerilog (new MyQueueV1(2, 8)))"
   ]
  },
  {
   "cell_type": "markdown",
   "id": "threaded-softball",
   "metadata": {
    "slideshow": {
     "slide_type": "slide"
    }
   },
   "source": [
    "## Testing MyQueueV1"
   ]
  },
  {
   "cell_type": "code",
   "execution_count": 11,
   "id": "processed-counter",
   "metadata": {},
   "outputs": [
    {
     "name": "stdout",
     "output_type": "stream",
     "text": [
      "Elaborating design...\n",
      "Done elaborating.\n",
      "Queue()\n",
      "Queue(1)\n",
      "Queue(1, 2)\n",
      "Queue(1, 2)\n",
      "Queue(2)\n",
      "test MyQueueV1 Success: 0 tests passed in 7 cycles in 0.014515 seconds 482.27 Hz\n"
     ]
    },
    {
     "data": {
      "text/plain": [
       "defined \u001b[32mfunction\u001b[39m \u001b[36msimCycleV1\u001b[39m"
      ]
     },
     "execution_count": 11,
     "metadata": {},
     "output_type": "execute_result"
    }
   ],
   "source": [
    "def simCycleV1(qm: QueueModel, c: MyQueue, enqValid: Boolean, deqReady: Boolean, enqData: Int=0) {\n",
    "    qm.deqReady = deqReady\n",
    "    c.io.deq.ready.poke(qm.deqReady.B)\n",
    "    if (c.io.deq.valid.peek.litToBoolean && deqReady) {    // oddity to handle bubbles\n",
    "        assert(qm.deqValid)\n",
    "        c.io.deq.bits.expect(qm.attemptDeq().get.U)\n",
    "    }\n",
    "    c.io.enq.ready.expect(qm.enqReady.B)\n",
    "    c.io.enq.valid.poke(enqValid.B)\n",
    "    c.io.enq.bits.poke(enqData.U)\n",
    "    if (enqValid)\n",
    "        qm.attemptEnq(enqData)\n",
    "    c.clock.step()\n",
    "    println(qm.mq)\n",
    "}\n",
    "\n",
    "test(new MyQueueV1(3,8)) { c =>\n",
    "    val qm = new QueueModel(c.numEntries)\n",
    "    simCycleV1(qm, c, enqValid=false, deqReady=false)\n",
    "    simCycleV1(qm, c, enqValid=true,  deqReady=false, 1)\n",
    "    simCycleV1(qm, c, enqValid=true,  deqReady=true,  2)\n",
    "    simCycleV1(qm, c, enqValid=false, deqReady=true)\n",
    "    simCycleV1(qm, c, enqValid=false, deqReady=true)\n",
    "}"
   ]
  },
  {
   "cell_type": "markdown",
   "id": "nutritional-interest",
   "metadata": {
    "slideshow": {
     "slide_type": "slide"
    }
   },
   "source": [
    "## Assessing MyQueue `V1`\n",
    "\n",
    "* Accomplished\n",
    "    * Implements queueing behavior\n",
    "    * Parameterized data width & _number of entries_\n",
    "* Shortcommings\n",
    "    * Long latency when queue is empty (all elements go through all entries)\n",
    "    * Not good at handling bubbles midway (might even be buggy)"
   ]
  },
  {
   "cell_type": "markdown",
   "id": "8ca9c76e-87ff-476e-822d-7f49edcae4d6",
   "metadata": {
    "slideshow": {
     "slide_type": "slide"
    }
   },
   "source": [
    "## Squishing Bubbles in Queue\n",
    "\n",
    "* Use a _Priority Encoder_ to squeeze out bubbles\n",
    "  * Insert in first free slot\n",
    "\n",
    "<img src=\"images/priority.svg\" alt=\"priority encoder queue\" style=\"width:50%;align:left\" />"
   ]
  },
  {
   "cell_type": "markdown",
   "id": "personalized-slovenia",
   "metadata": {
    "slideshow": {
     "slide_type": "slide"
    }
   },
   "source": [
    "## V2 - Using Priority Encoder for Insertion"
   ]
  },
  {
   "cell_type": "code",
   "execution_count": 12,
   "id": "positive-lesson",
   "metadata": {},
   "outputs": [
    {
     "data": {
      "text/plain": [
       "defined \u001b[32mclass\u001b[39m \u001b[36mMyQueueV2\u001b[39m"
      ]
     },
     "execution_count": 12,
     "metadata": {},
     "output_type": "execute_result"
    }
   ],
   "source": [
    "class MyQueueV2(numEntries: Int, bitWidth: Int) extends MyQueue(numEntries, bitWidth) {\n",
    "    require(numEntries > 0)\n",
    "    // enqueue into lowest empty and dequeue from index 0 (head)\n",
    "    val entries = Reg(Vec(numEntries, UInt(bitWidth.W)))\n",
    "    val fullBits = RegInit(VecInit(Seq.fill(numEntries)(false.B)))\n",
    "    val emptyBits = fullBits map { !_ }\n",
    "    io.enq.ready := emptyBits reduce { _ || _ } // any empties?\n",
    "    io.deq.valid := fullBits.head\n",
    "    io.deq.bits := entries.head\n",
    "    when (io.deq.fire) { // dequeue & shift up\n",
    "        fullBits.last := false.B\n",
    "        for (i <- 0 until numEntries - 1) {\n",
    "            entries(i) := entries(i+1)\n",
    "            fullBits(i) := fullBits(i+1)\n",
    "        }\n",
    "    }\n",
    "    when (io.enq.fire) { // priority enqueue\n",
    "        val currFreeIndex = PriorityEncoder(emptyBits)\n",
    "        val writeIndex = Mux(io.deq.fire, currFreeIndex - 1.U, currFreeIndex)\n",
    "        entries(writeIndex) := io.enq.bits\n",
    "        fullBits(writeIndex) := true.B\n",
    "    }\n",
    "}"
   ]
  },
  {
   "cell_type": "code",
   "execution_count": 13,
   "id": "331c32b4-add9-4ccb-8746-40a657e01716",
   "metadata": {},
   "outputs": [
    {
     "name": "stdout",
     "output_type": "stream",
     "text": [
      "Elaborating design...\n",
      "Done elaborating.\n",
      "module MyQueueV2(\n",
      "  input        clock,\n",
      "  input        reset,\n",
      "  output       io_enq_ready,\n",
      "  input        io_enq_valid,\n",
      "  input  [7:0] io_enq_bits,\n",
      "  input        io_deq_ready,\n",
      "  output       io_deq_valid,\n",
      "  output [7:0] io_deq_bits\n",
      ");\n",
      "`ifdef RANDOMIZE_REG_INIT\n",
      "  reg [31:0] _RAND_0;\n",
      "  reg [31:0] _RAND_1;\n",
      "  reg [31:0] _RAND_2;\n",
      "  reg [31:0] _RAND_3;\n",
      "`endif // RANDOMIZE_REG_INIT\n",
      "  reg [7:0] entries_0; // @[cmd11.sc 4:22]\n",
      "  reg [7:0] entries_1; // @[cmd11.sc 4:22]\n",
      "  reg  fullBits_0; // @[cmd11.sc 5:27]\n",
      "  reg  fullBits_1; // @[cmd11.sc 5:27]\n",
      "  wire  emptyBits_0 = ~fullBits_0; // @[cmd11.sc 6:36]\n",
      "  wire  emptyBits_1 = ~fullBits_1; // @[cmd11.sc 6:36]\n",
      "  wire  _T_1 = io_deq_ready & io_deq_valid; // @[Decoupled.scala 40:37]\n",
      "  wire  _GEN_0 = _T_1 ? 1'h0 : fullBits_1; // @[cmd11.sc 10:24 cmd11.sc 11:23 cmd11.sc 5:27]\n",
      "  wire [7:0] _GEN_1 = _T_1 ? entries_1 : entries_0; // @[cmd11.sc 10:24 cmd11.sc 13:24 cmd11.sc 4:22]\n",
      "  wire  _GEN_2 = _T_1 ? fullBits_1 : fullBits_0; // @[cmd11.sc 10:24 cmd11.sc 14:25 cmd11.sc 5:27]\n",
      "  wire  _T_2 = io_enq_ready & io_enq_valid; // @[Decoupled.scala 40:37]\n",
      "  wire  _T_3 = emptyBits_0 ? 1'h0 : 1'h1; // @[Mux.scala 47:69]\n",
      "  wire  _T_7 = _T_1 ? _T_3 - 1'h1 : _T_3; // @[cmd11.sc 19:29]\n",
      "  wire  _GEN_5 = ~_T_7 | _GEN_2; // @[cmd11.sc 21:30 cmd11.sc 21:30]\n",
      "  wire  _GEN_6 = _T_7 | _GEN_0; // @[cmd11.sc 21:30 cmd11.sc 21:30]\n",
      "  assign io_enq_ready = emptyBits_0 | emptyBits_1; // @[cmd11.sc 7:42]\n",
      "  assign io_deq_valid = fullBits_0; // @[cmd11.sc 8:18]\n",
      "  assign io_deq_bits = entries_0; // @[cmd11.sc 9:17]\n",
      "  always @(posedge clock) begin\n",
      "    if (_T_2) begin // @[cmd11.sc 17:24]\n",
      "      if (~_T_7) begin // @[cmd11.sc 20:29]\n",
      "        entries_0 <= io_enq_bits; // @[cmd11.sc 20:29]\n",
      "      end else begin\n",
      "        entries_0 <= _GEN_1;\n",
      "      end\n",
      "    end else begin\n",
      "      entries_0 <= _GEN_1;\n",
      "    end\n",
      "    if (_T_2) begin // @[cmd11.sc 17:24]\n",
      "      if (_T_7) begin // @[cmd11.sc 20:29]\n",
      "        entries_1 <= io_enq_bits; // @[cmd11.sc 20:29]\n",
      "      end\n",
      "    end\n",
      "    if (reset) begin // @[cmd11.sc 5:27]\n",
      "      fullBits_0 <= 1'h0; // @[cmd11.sc 5:27]\n",
      "    end else if (_T_2) begin // @[cmd11.sc 17:24]\n",
      "      fullBits_0 <= _GEN_5;\n",
      "    end else if (_T_1) begin // @[cmd11.sc 10:24]\n",
      "      fullBits_0 <= fullBits_1; // @[cmd11.sc 14:25]\n",
      "    end\n",
      "    if (reset) begin // @[cmd11.sc 5:27]\n",
      "      fullBits_1 <= 1'h0; // @[cmd11.sc 5:27]\n",
      "    end else if (_T_2) begin // @[cmd11.sc 17:24]\n",
      "      fullBits_1 <= _GEN_6;\n",
      "    end else if (_T_1) begin // @[cmd11.sc 10:24]\n",
      "      fullBits_1 <= 1'h0; // @[cmd11.sc 11:23]\n",
      "    end\n",
      "  end\n",
      "// Register and memory initialization\n",
      "`ifdef RANDOMIZE_GARBAGE_ASSIGN\n",
      "`define RANDOMIZE\n",
      "`endif\n",
      "`ifdef RANDOMIZE_INVALID_ASSIGN\n",
      "`define RANDOMIZE\n",
      "`endif\n",
      "`ifdef RANDOMIZE_REG_INIT\n",
      "`define RANDOMIZE\n",
      "`endif\n",
      "`ifdef RANDOMIZE_MEM_INIT\n",
      "`define RANDOMIZE\n",
      "`endif\n",
      "`ifndef RANDOM\n",
      "`define RANDOM $random\n",
      "`endif\n",
      "`ifdef RANDOMIZE_MEM_INIT\n",
      "  integer initvar;\n",
      "`endif\n",
      "`ifndef SYNTHESIS\n",
      "`ifdef FIRRTL_BEFORE_INITIAL\n",
      "`FIRRTL_BEFORE_INITIAL\n",
      "`endif\n",
      "initial begin\n",
      "  `ifdef RANDOMIZE\n",
      "    `ifdef INIT_RANDOM\n",
      "      `INIT_RANDOM\n",
      "    `endif\n",
      "    `ifndef VERILATOR\n",
      "      `ifdef RANDOMIZE_DELAY\n",
      "        #`RANDOMIZE_DELAY begin end\n",
      "      `else\n",
      "        #0.002 begin end\n",
      "      `endif\n",
      "    `endif\n",
      "`ifdef RANDOMIZE_REG_INIT\n",
      "  _RAND_0 = {1{`RANDOM}};\n",
      "  entries_0 = _RAND_0[7:0];\n",
      "  _RAND_1 = {1{`RANDOM}};\n",
      "  entries_1 = _RAND_1[7:0];\n",
      "  _RAND_2 = {1{`RANDOM}};\n",
      "  fullBits_0 = _RAND_2[0:0];\n",
      "  _RAND_3 = {1{`RANDOM}};\n",
      "  fullBits_1 = _RAND_3[0:0];\n",
      "`endif // RANDOMIZE_REG_INIT\n",
      "  `endif // RANDOMIZE\n",
      "end // initial\n",
      "`ifdef FIRRTL_AFTER_INITIAL\n",
      "`FIRRTL_AFTER_INITIAL\n",
      "`endif\n",
      "`endif // SYNTHESIS\n",
      "endmodule\n",
      "\n"
     ]
    }
   ],
   "source": [
    "println (getVerilog (new MyQueueV2(2, 8)))"
   ]
  },
  {
   "cell_type": "markdown",
   "id": "labeled-fraud",
   "metadata": {
    "slideshow": {
     "slide_type": "slide"
    }
   },
   "source": [
    "## Testing MyQueueV2"
   ]
  },
  {
   "cell_type": "code",
   "execution_count": 14,
   "id": "weekly-custom",
   "metadata": {},
   "outputs": [
    {
     "name": "stdout",
     "output_type": "stream",
     "text": [
      "Elaborating design...\n",
      "Done elaborating.\n",
      "Queue()\n",
      "Queue(1)\n",
      "Queue(1)\n",
      "Queue(1, 2)\n",
      "Queue(2)\n",
      "Queue()\n",
      "test MyQueueV2 Success: 0 tests passed in 8 cycles in 0.014150 seconds 565.36 Hz\n"
     ]
    }
   ],
   "source": [
    "test(new MyQueueV2(4, 8)) { c =>\n",
    "    val qm = new QueueModel(c.numEntries, false)\n",
    "    simCycle(qm, c, enqValid=false, deqReady=false)\n",
    "    simCycle(qm, c, enqValid=true,  deqReady=false, 1)\n",
    "    simCycle(qm, c, enqValid=false, deqReady=false)\n",
    "    simCycle(qm, c, enqValid=true,  deqReady=false, 2)\n",
    "    simCycle(qm, c, enqValid=false, deqReady=true)\n",
    "    simCycle(qm, c, enqValid=false, deqReady=true)\n",
    "}"
   ]
  },
  {
   "cell_type": "markdown",
   "id": "central-gnome",
   "metadata": {
    "slideshow": {
     "slide_type": "slide"
    }
   },
   "source": [
    "## Assessing MyQueue `V2`\n",
    "\n",
    "* Accomplished\n",
    "  * Implements queueing behavior\n",
    "  * Parameterized data width & number of entries\n",
    "  * Latency based on occupancy\n",
    "\n",
    "* Shortcommings\n",
    "  * _Performance:_ can't simultaneously enqueue/dequeue to a full queue\n",
    "  * _Power Efficiency:_ lots of bits toggling\n",
    "  * _Potential Critical Path:_ priority encoder logic depth"
   ]
  },
  {
   "cell_type": "markdown",
   "id": "4e24c49e-d0b5-4c8b-a286-9d118bf0b3e6",
   "metadata": {
    "slideshow": {
     "slide_type": "slide"
    }
   },
   "source": [
    "## Keeping Data in Place with a Circular Buffer\n",
    "\n",
    "* _Circular buffer_ uses two pointers (indices) and fixed size storage to make a FIFO\n",
    "  * Insert new data at _in_ (and increment _in_)\n",
    "  * Pop from _out_ (and increment _out_)\n",
    "  * Wrap pointers around when they get to end\n",
    "* How to tell when empty vs full?\n",
    "  * First try: _empty_ when pointers are equal, _full_ when in+1 == out\n",
    "\n",
    "<img src=\"images/circular.svg\" alt=\"circular buffer\" style=\"width:50%;align:left\" />"
   ]
  },
  {
   "cell_type": "markdown",
   "id": "dirty-copyright",
   "metadata": {
    "slideshow": {
     "slide_type": "slide"
    }
   },
   "source": [
    "## V3 - Keeping Data in Place with Circular Buffer"
   ]
  },
  {
   "cell_type": "code",
   "execution_count": 15,
   "id": "parental-separate",
   "metadata": {},
   "outputs": [
    {
     "data": {
      "text/plain": [
       "defined \u001b[32mclass\u001b[39m \u001b[36mMyQueueV3\u001b[39m"
      ]
     },
     "execution_count": 15,
     "metadata": {},
     "output_type": "execute_result"
    }
   ],
   "source": [
    "class MyQueueV3(numEntries: Int, bitWidth: Int) extends MyQueue(numEntries, bitWidth) {\n",
    "    require(numEntries > 1)\n",
    "    require(isPow2(numEntries))\n",
    "    val entries = Reg(Vec(numEntries, UInt(bitWidth.W))) // Mem?\n",
    "    val enqIndex = RegInit(0.U(log2Ceil(numEntries).W))\n",
    "    val deqIndex = RegInit(0.U(log2Ceil(numEntries).W))\n",
    "    val empty = enqIndex === deqIndex\n",
    "    val full = (enqIndex +% 1.U) === deqIndex\n",
    "    io.enq.ready := !full\n",
    "    io.deq.valid := !empty\n",
    "    io.deq.bits := entries(deqIndex)\n",
    "    when (io.deq.fire) {\n",
    "        deqIndex := deqIndex +% 1.U\n",
    "    }\n",
    "    when (io.enq.fire) {\n",
    "        entries(enqIndex) := io.enq.bits\n",
    "        enqIndex := enqIndex +% 1.U\n",
    "    }\n",
    "}"
   ]
  },
  {
   "cell_type": "code",
   "execution_count": 16,
   "id": "e8317cc9-ccf2-491c-8519-25c58d666d81",
   "metadata": {},
   "outputs": [
    {
     "name": "stdout",
     "output_type": "stream",
     "text": [
      "Elaborating design...\n",
      "Done elaborating.\n",
      "module MyQueueV3(\n",
      "  input        clock,\n",
      "  input        reset,\n",
      "  output       io_enq_ready,\n",
      "  input        io_enq_valid,\n",
      "  input  [7:0] io_enq_bits,\n",
      "  input        io_deq_ready,\n",
      "  output       io_deq_valid,\n",
      "  output [7:0] io_deq_bits\n",
      ");\n",
      "`ifdef RANDOMIZE_REG_INIT\n",
      "  reg [31:0] _RAND_0;\n",
      "  reg [31:0] _RAND_1;\n",
      "  reg [31:0] _RAND_2;\n",
      "  reg [31:0] _RAND_3;\n",
      "`endif // RANDOMIZE_REG_INIT\n",
      "  reg [7:0] entries_0; // @[cmd14.sc 4:22]\n",
      "  reg [7:0] entries_1; // @[cmd14.sc 4:22]\n",
      "  reg  enqIndex; // @[cmd14.sc 5:27]\n",
      "  reg  deqIndex; // @[cmd14.sc 6:27]\n",
      "  wire  empty = enqIndex == deqIndex; // @[cmd14.sc 7:26]\n",
      "  wire  _T_1 = enqIndex + 1'h1; // @[cmd14.sc 8:26]\n",
      "  wire  full = enqIndex + 1'h1 == deqIndex; // @[cmd14.sc 8:34]\n",
      "  wire  _T_4 = io_deq_ready & io_deq_valid; // @[Decoupled.scala 40:37]\n",
      "  wire  _T_7 = io_enq_ready & io_enq_valid; // @[Decoupled.scala 40:37]\n",
      "  assign io_enq_ready = ~full; // @[cmd14.sc 9:21]\n",
      "  assign io_deq_valid = ~empty; // @[cmd14.sc 10:21]\n",
      "  assign io_deq_bits = deqIndex ? entries_1 : entries_0; // @[cmd14.sc 11:17 cmd14.sc 11:17]\n",
      "  always @(posedge clock) begin\n",
      "    if (_T_7) begin // @[cmd14.sc 15:24]\n",
      "      if (~enqIndex) begin // @[cmd14.sc 16:27]\n",
      "        entries_0 <= io_enq_bits; // @[cmd14.sc 16:27]\n",
      "      end\n",
      "    end\n",
      "    if (_T_7) begin // @[cmd14.sc 15:24]\n",
      "      if (enqIndex) begin // @[cmd14.sc 16:27]\n",
      "        entries_1 <= io_enq_bits; // @[cmd14.sc 16:27]\n",
      "      end\n",
      "    end\n",
      "    if (reset) begin // @[cmd14.sc 5:27]\n",
      "      enqIndex <= 1'h0; // @[cmd14.sc 5:27]\n",
      "    end else if (_T_7) begin // @[cmd14.sc 15:24]\n",
      "      enqIndex <= _T_1; // @[cmd14.sc 17:18]\n",
      "    end\n",
      "    if (reset) begin // @[cmd14.sc 6:27]\n",
      "      deqIndex <= 1'h0; // @[cmd14.sc 6:27]\n",
      "    end else if (_T_4) begin // @[cmd14.sc 12:24]\n",
      "      deqIndex <= deqIndex + 1'h1; // @[cmd14.sc 13:18]\n",
      "    end\n",
      "  end\n",
      "// Register and memory initialization\n",
      "`ifdef RANDOMIZE_GARBAGE_ASSIGN\n",
      "`define RANDOMIZE\n",
      "`endif\n",
      "`ifdef RANDOMIZE_INVALID_ASSIGN\n",
      "`define RANDOMIZE\n",
      "`endif\n",
      "`ifdef RANDOMIZE_REG_INIT\n",
      "`define RANDOMIZE\n",
      "`endif\n",
      "`ifdef RANDOMIZE_MEM_INIT\n",
      "`define RANDOMIZE\n",
      "`endif\n",
      "`ifndef RANDOM\n",
      "`define RANDOM $random\n",
      "`endif\n",
      "`ifdef RANDOMIZE_MEM_INIT\n",
      "  integer initvar;\n",
      "`endif\n",
      "`ifndef SYNTHESIS\n",
      "`ifdef FIRRTL_BEFORE_INITIAL\n",
      "`FIRRTL_BEFORE_INITIAL\n",
      "`endif\n",
      "initial begin\n",
      "  `ifdef RANDOMIZE\n",
      "    `ifdef INIT_RANDOM\n",
      "      `INIT_RANDOM\n",
      "    `endif\n",
      "    `ifndef VERILATOR\n",
      "      `ifdef RANDOMIZE_DELAY\n",
      "        #`RANDOMIZE_DELAY begin end\n",
      "      `else\n",
      "        #0.002 begin end\n",
      "      `endif\n",
      "    `endif\n",
      "`ifdef RANDOMIZE_REG_INIT\n",
      "  _RAND_0 = {1{`RANDOM}};\n",
      "  entries_0 = _RAND_0[7:0];\n",
      "  _RAND_1 = {1{`RANDOM}};\n",
      "  entries_1 = _RAND_1[7:0];\n",
      "  _RAND_2 = {1{`RANDOM}};\n",
      "  enqIndex = _RAND_2[0:0];\n",
      "  _RAND_3 = {1{`RANDOM}};\n",
      "  deqIndex = _RAND_3[0:0];\n",
      "`endif // RANDOMIZE_REG_INIT\n",
      "  `endif // RANDOMIZE\n",
      "end // initial\n",
      "`ifdef FIRRTL_AFTER_INITIAL\n",
      "`FIRRTL_AFTER_INITIAL\n",
      "`endif\n",
      "`endif // SYNTHESIS\n",
      "endmodule\n",
      "\n"
     ]
    }
   ],
   "source": [
    "println (getVerilog (new MyQueueV3(2, 8)))"
   ]
  },
  {
   "cell_type": "markdown",
   "id": "088f3435",
   "metadata": {
    "slideshow": {
     "slide_type": "slide"
    }
   },
   "source": [
    "## Testing MyQueueV3"
   ]
  },
  {
   "cell_type": "code",
   "execution_count": 17,
   "id": "written-retail",
   "metadata": {
    "slideshow": {
     "slide_type": "-"
    }
   },
   "outputs": [
    {
     "name": "stdout",
     "output_type": "stream",
     "text": [
      "Elaborating design...\n",
      "Done elaborating.\n",
      "Queue()\n",
      "Queue(1)\n",
      "Queue(1, 2)\n",
      "Queue(1, 2, 3)\n",
      "Queue(1, 2, 3)\n",
      "Queue(2, 3)\n",
      "Queue(3)\n",
      "test MyQueueV3 Success: 0 tests passed in 9 cycles in 0.025057 seconds 359.17 Hz\n"
     ]
    }
   ],
   "source": [
    "test(new MyQueueV3(4, 8)) { c =>\n",
    "    val qm = new QueueModel(c.numEntries-1, false)\n",
    "    simCycle(qm, c, enqValid=false, deqReady=false)\n",
    "    simCycle(qm, c, enqValid=true,  deqReady=false, 1)\n",
    "    simCycle(qm, c, enqValid=true,  deqReady=false, 2)\n",
    "    simCycle(qm, c, enqValid=true,  deqReady=false, 3)\n",
    "    simCycle(qm, c, enqValid=true,  deqReady=false, 4)\n",
    "    simCycle(qm, c, enqValid=false, deqReady=true)\n",
    "    simCycle(qm, c, enqValid=false, deqReady=true)\n",
    "}"
   ]
  },
  {
   "cell_type": "markdown",
   "id": "basic-expression",
   "metadata": {
    "slideshow": {
     "slide_type": "slide"
    }
   },
   "source": [
    "## Assessing MyQueue `V3`\n",
    "\n",
    "* Accomplished\n",
    "  * Implements queueing behavior\n",
    "  * Parameterized data width & number of entries\n",
    "  * Latency based on occupancy\n",
    "  * _Efficient:_ less bits toggling and shallower logic\n",
    "\n",
    "* Shortcommings\n",
    "  * _Capacity:_ loose one entry (to detect if full), and must be power of 2\n",
    "  * _Performance:_ can't simultaneously enqueue/dequeue to a full queue"
   ]
  },
  {
   "cell_type": "markdown",
   "id": "sized-ceremony",
   "metadata": {
    "slideshow": {
     "slide_type": "slide"
    }
   },
   "source": [
    "## Reclaiming Last Entry\n",
    "\n",
    "* _Problem:_ with circular buffer (initially), had to keep last entry empty to differentiate a full queue from an empty queue\n",
    "    * Otherwise, if `enqIndex === deqIndex`, is it full or empty?\n",
    "* _Solution:_ add an extra bit of state (`maybeFull`) to capture this corner case\n",
    "    * If indices are equal and `maybeFull` $\\Rightarrow$ _full_\n",
    "    * If indices are equal and `!maybeFull` $\\Rightarrow$ _empty_\n",
    "    * If indices are not equal $\\Rightarrow$ not full or empty (has room)"
   ]
  },
  {
   "cell_type": "markdown",
   "id": "strong-florence",
   "metadata": {
    "slideshow": {
     "slide_type": "slide"
    }
   },
   "source": [
    "## V4 - Adding State (`maybeFull`) Track Last Entry"
   ]
  },
  {
   "cell_type": "code",
   "execution_count": 18,
   "id": "natural-bullet",
   "metadata": {},
   "outputs": [
    {
     "data": {
      "text/plain": [
       "defined \u001b[32mclass\u001b[39m \u001b[36mMyQueueV4\u001b[39m"
      ]
     },
     "execution_count": 18,
     "metadata": {},
     "output_type": "execute_result"
    }
   ],
   "source": [
    "class MyQueueV4(numEntries: Int, bitWidth: Int) extends MyQueue(numEntries, bitWidth) {\n",
    "    require(numEntries > 1)\n",
    "    require(isPow2(numEntries))\n",
    "    val entries = Reg(Vec(numEntries, UInt(bitWidth.W)))\n",
    "    val enqIndex = RegInit(0.U(log2Ceil(numEntries).W))\n",
    "    val deqIndex = RegInit(0.U(log2Ceil(numEntries).W))\n",
    "    val maybeFull = RegInit(false.B)\n",
    "    val empty = enqIndex === deqIndex && !maybeFull\n",
    "    val full = enqIndex === deqIndex && maybeFull\n",
    "    io.enq.ready := !full\n",
    "    io.deq.valid := !empty\n",
    "    io.deq.bits := entries(deqIndex)\n",
    "    when (io.deq.fire) {\n",
    "        deqIndex := deqIndex +% 1.U\n",
    "        when (enqIndex =/= deqIndex) {\n",
    "            maybeFull := false.B\n",
    "        }\n",
    "    }\n",
    "    when (io.enq.fire) {\n",
    "        entries(enqIndex) := io.enq.bits\n",
    "        enqIndex := enqIndex +% 1.U\n",
    "        when ((enqIndex +% 1.U) === deqIndex) {\n",
    "            maybeFull := true.B\n",
    "        }\n",
    "    }\n",
    "}"
   ]
  },
  {
   "cell_type": "code",
   "execution_count": 19,
   "id": "f3d159d6-62bc-4ca8-bd14-79e9aaaf5ee6",
   "metadata": {},
   "outputs": [
    {
     "name": "stdout",
     "output_type": "stream",
     "text": [
      "Elaborating design...\n",
      "Done elaborating.\n",
      "module MyQueueV4(\n",
      "  input        clock,\n",
      "  input        reset,\n",
      "  output       io_enq_ready,\n",
      "  input        io_enq_valid,\n",
      "  input  [7:0] io_enq_bits,\n",
      "  input        io_deq_ready,\n",
      "  output       io_deq_valid,\n",
      "  output [7:0] io_deq_bits\n",
      ");\n",
      "`ifdef RANDOMIZE_REG_INIT\n",
      "  reg [31:0] _RAND_0;\n",
      "  reg [31:0] _RAND_1;\n",
      "  reg [31:0] _RAND_2;\n",
      "  reg [31:0] _RAND_3;\n",
      "  reg [31:0] _RAND_4;\n",
      "`endif // RANDOMIZE_REG_INIT\n",
      "  reg [7:0] entries_0; // @[cmd17.sc 4:22]\n",
      "  reg [7:0] entries_1; // @[cmd17.sc 4:22]\n",
      "  reg  enqIndex; // @[cmd17.sc 5:27]\n",
      "  reg  deqIndex; // @[cmd17.sc 6:27]\n",
      "  reg  maybeFull; // @[cmd17.sc 7:28]\n",
      "  wire  _T = enqIndex == deqIndex; // @[cmd17.sc 8:26]\n",
      "  wire  empty = enqIndex == deqIndex & ~maybeFull; // @[cmd17.sc 8:39]\n",
      "  wire  full = _T & maybeFull; // @[cmd17.sc 9:38]\n",
      "  wire  _T_5 = io_deq_ready & io_deq_valid; // @[Decoupled.scala 40:37]\n",
      "  wire  _GEN_2 = enqIndex != deqIndex ? 1'h0 : maybeFull; // @[cmd17.sc 15:38 cmd17.sc 16:23 cmd17.sc 7:28]\n",
      "  wire  _GEN_4 = _T_5 ? _GEN_2 : maybeFull; // @[cmd17.sc 13:24 cmd17.sc 7:28]\n",
      "  wire  _T_9 = io_enq_ready & io_enq_valid; // @[Decoupled.scala 40:37]\n",
      "  wire  _T_11 = enqIndex + 1'h1; // @[cmd17.sc 21:30]\n",
      "  wire  _GEN_7 = _T_11 == deqIndex | _GEN_4; // @[cmd17.sc 22:47 cmd17.sc 23:23]\n",
      "  assign io_enq_ready = ~full; // @[cmd17.sc 10:21]\n",
      "  assign io_deq_valid = ~empty; // @[cmd17.sc 11:21]\n",
      "  assign io_deq_bits = deqIndex ? entries_1 : entries_0; // @[cmd17.sc 12:17 cmd17.sc 12:17]\n",
      "  always @(posedge clock) begin\n",
      "    if (_T_9) begin // @[cmd17.sc 19:24]\n",
      "      if (~enqIndex) begin // @[cmd17.sc 20:27]\n",
      "        entries_0 <= io_enq_bits; // @[cmd17.sc 20:27]\n",
      "      end\n",
      "    end\n",
      "    if (_T_9) begin // @[cmd17.sc 19:24]\n",
      "      if (enqIndex) begin // @[cmd17.sc 20:27]\n",
      "        entries_1 <= io_enq_bits; // @[cmd17.sc 20:27]\n",
      "      end\n",
      "    end\n",
      "    if (reset) begin // @[cmd17.sc 5:27]\n",
      "      enqIndex <= 1'h0; // @[cmd17.sc 5:27]\n",
      "    end else if (_T_9) begin // @[cmd17.sc 19:24]\n",
      "      enqIndex <= enqIndex + 1'h1; // @[cmd17.sc 21:18]\n",
      "    end\n",
      "    if (reset) begin // @[cmd17.sc 6:27]\n",
      "      deqIndex <= 1'h0; // @[cmd17.sc 6:27]\n",
      "    end else if (_T_5) begin // @[cmd17.sc 13:24]\n",
      "      deqIndex <= deqIndex + 1'h1; // @[cmd17.sc 14:18]\n",
      "    end\n",
      "    if (reset) begin // @[cmd17.sc 7:28]\n",
      "      maybeFull <= 1'h0; // @[cmd17.sc 7:28]\n",
      "    end else if (_T_9) begin // @[cmd17.sc 19:24]\n",
      "      maybeFull <= _GEN_7;\n",
      "    end else if (_T_5) begin // @[cmd17.sc 13:24]\n",
      "      if (enqIndex != deqIndex) begin // @[cmd17.sc 15:38]\n",
      "        maybeFull <= 1'h0; // @[cmd17.sc 16:23]\n",
      "      end\n",
      "    end\n",
      "  end\n",
      "// Register and memory initialization\n",
      "`ifdef RANDOMIZE_GARBAGE_ASSIGN\n",
      "`define RANDOMIZE\n",
      "`endif\n",
      "`ifdef RANDOMIZE_INVALID_ASSIGN\n",
      "`define RANDOMIZE\n",
      "`endif\n",
      "`ifdef RANDOMIZE_REG_INIT\n",
      "`define RANDOMIZE\n",
      "`endif\n",
      "`ifdef RANDOMIZE_MEM_INIT\n",
      "`define RANDOMIZE\n",
      "`endif\n",
      "`ifndef RANDOM\n",
      "`define RANDOM $random\n",
      "`endif\n",
      "`ifdef RANDOMIZE_MEM_INIT\n",
      "  integer initvar;\n",
      "`endif\n",
      "`ifndef SYNTHESIS\n",
      "`ifdef FIRRTL_BEFORE_INITIAL\n",
      "`FIRRTL_BEFORE_INITIAL\n",
      "`endif\n",
      "initial begin\n",
      "  `ifdef RANDOMIZE\n",
      "    `ifdef INIT_RANDOM\n",
      "      `INIT_RANDOM\n",
      "    `endif\n",
      "    `ifndef VERILATOR\n",
      "      `ifdef RANDOMIZE_DELAY\n",
      "        #`RANDOMIZE_DELAY begin end\n",
      "      `else\n",
      "        #0.002 begin end\n",
      "      `endif\n",
      "    `endif\n",
      "`ifdef RANDOMIZE_REG_INIT\n",
      "  _RAND_0 = {1{`RANDOM}};\n",
      "  entries_0 = _RAND_0[7:0];\n",
      "  _RAND_1 = {1{`RANDOM}};\n",
      "  entries_1 = _RAND_1[7:0];\n",
      "  _RAND_2 = {1{`RANDOM}};\n",
      "  enqIndex = _RAND_2[0:0];\n",
      "  _RAND_3 = {1{`RANDOM}};\n",
      "  deqIndex = _RAND_3[0:0];\n",
      "  _RAND_4 = {1{`RANDOM}};\n",
      "  maybeFull = _RAND_4[0:0];\n",
      "`endif // RANDOMIZE_REG_INIT\n",
      "  `endif // RANDOMIZE\n",
      "end // initial\n",
      "`ifdef FIRRTL_AFTER_INITIAL\n",
      "`FIRRTL_AFTER_INITIAL\n",
      "`endif\n",
      "`endif // SYNTHESIS\n",
      "endmodule\n",
      "\n"
     ]
    }
   ],
   "source": [
    "println (getVerilog (new MyQueueV4(2, 8)))"
   ]
  },
  {
   "cell_type": "markdown",
   "id": "46e2485a",
   "metadata": {
    "slideshow": {
     "slide_type": "slide"
    }
   },
   "source": [
    "## Testing MyQueueV4"
   ]
  },
  {
   "cell_type": "code",
   "execution_count": 20,
   "id": "experienced-principle",
   "metadata": {
    "scrolled": true,
    "slideshow": {
     "slide_type": "-"
    }
   },
   "outputs": [
    {
     "name": "stdout",
     "output_type": "stream",
     "text": [
      "Elaborating design...\n",
      "Done elaborating.\n",
      "Queue()\n",
      "Queue(1)\n",
      "Queue(1, 2)\n",
      "Queue(1, 2, 3)\n",
      "Queue(1, 2, 3, 4)\n",
      "Queue(2, 3, 4)\n",
      "Queue(3, 4)\n",
      "test MyQueueV4 Success: 0 tests passed in 9 cycles in 0.016295 seconds 552.31 Hz\n"
     ]
    }
   ],
   "source": [
    "test(new MyQueueV4(4, 8)) { c =>\n",
    "    val qm = new QueueModel(c.numEntries, false)\n",
    "    simCycle(qm, c, enqValid=false, deqReady=false)\n",
    "    simCycle(qm, c, enqValid=true,  deqReady=false, 1)\n",
    "    simCycle(qm, c, enqValid=true,  deqReady=false, 2)\n",
    "    simCycle(qm, c, enqValid=true,  deqReady=false, 3)\n",
    "    simCycle(qm, c, enqValid=true,  deqReady=false, 4)\n",
    "    simCycle(qm, c, enqValid=false, deqReady=true)\n",
    "    simCycle(qm, c, enqValid=false, deqReady=true)\n",
    "}"
   ]
  },
  {
   "cell_type": "markdown",
   "id": "private-laser",
   "metadata": {
    "slideshow": {
     "slide_type": "slide"
    }
   },
   "source": [
    "## Assessing MyQueue `V4`\n",
    "\n",
    "* Accomplished\n",
    "  * Implements queueing behavior\n",
    "  * Parameterized data width & number of entries (_can now use all of them all_)\n",
    "  * Latency based on occupancy\n",
    "  * _Efficient:_ less bits shifting and shallower logic\n",
    "\n",
    "* Shortcommings\n",
    "  * _Capacity:_ must be power of 2\n",
    "  * _Performance:_ can't simultaneously enqueue/dequeue to a full queue"
   ]
  },
  {
   "cell_type": "markdown",
   "id": "worse-anger",
   "metadata": {
    "slideshow": {
     "slide_type": "slide"
    }
   },
   "source": [
    "## V5 - Simultaneous Enqueue/Dequeue When Full"
   ]
  },
  {
   "cell_type": "code",
   "execution_count": 21,
   "id": "registered-soviet",
   "metadata": {},
   "outputs": [
    {
     "data": {
      "text/plain": [
       "defined \u001b[32mclass\u001b[39m \u001b[36mMyQueueV5\u001b[39m"
      ]
     },
     "execution_count": 21,
     "metadata": {},
     "output_type": "execute_result"
    }
   ],
   "source": [
    "class MyQueueV5(numEntries: Int, bitWidth: Int) extends MyQueue(numEntries, bitWidth) {\n",
    "    require(numEntries > 1)\n",
    "    require(isPow2(numEntries))\n",
    "    val entries = Reg(Vec(numEntries, UInt(bitWidth.W)))\n",
    "    val enqIndex = RegInit(0.U(log2Ceil(numEntries).W))\n",
    "    val deqIndex = RegInit(0.U(log2Ceil(numEntries).W))\n",
    "    val maybeFull = RegInit(false.B)\n",
    "    val empty = enqIndex === deqIndex && !maybeFull\n",
    "    val full = enqIndex === deqIndex && maybeFull\n",
    "    io.enq.ready := !full || io.deq.ready  // NOTE: io.enq.ready now attached to io.deq.ready\n",
    "    io.deq.valid := !empty\n",
    "    io.deq.bits := entries(deqIndex)\n",
    "    when (io.deq.fire) {\n",
    "        deqIndex := deqIndex +% 1.U\n",
    "        when (enqIndex =/= deqIndex) {\n",
    "            maybeFull := false.B\n",
    "        }\n",
    "    }\n",
    "    when (io.enq.fire) {\n",
    "        entries(enqIndex) := io.enq.bits\n",
    "        enqIndex := enqIndex +% 1.U\n",
    "        when ((enqIndex +% 1.U) === deqIndex) {\n",
    "            maybeFull := true.B\n",
    "        }\n",
    "    }\n",
    "}"
   ]
  },
  {
   "cell_type": "code",
   "execution_count": 22,
   "id": "bda69359-b405-4148-bb6c-59a3ee7bed6c",
   "metadata": {},
   "outputs": [
    {
     "name": "stdout",
     "output_type": "stream",
     "text": [
      "Elaborating design...\n",
      "Done elaborating.\n",
      "module MyQueueV5(\n",
      "  input        clock,\n",
      "  input        reset,\n",
      "  output       io_enq_ready,\n",
      "  input        io_enq_valid,\n",
      "  input  [7:0] io_enq_bits,\n",
      "  input        io_deq_ready,\n",
      "  output       io_deq_valid,\n",
      "  output [7:0] io_deq_bits\n",
      ");\n",
      "`ifdef RANDOMIZE_REG_INIT\n",
      "  reg [31:0] _RAND_0;\n",
      "  reg [31:0] _RAND_1;\n",
      "  reg [31:0] _RAND_2;\n",
      "  reg [31:0] _RAND_3;\n",
      "  reg [31:0] _RAND_4;\n",
      "`endif // RANDOMIZE_REG_INIT\n",
      "  reg [7:0] entries_0; // @[cmd20.sc 4:22]\n",
      "  reg [7:0] entries_1; // @[cmd20.sc 4:22]\n",
      "  reg  enqIndex; // @[cmd20.sc 5:27]\n",
      "  reg  deqIndex; // @[cmd20.sc 6:27]\n",
      "  reg  maybeFull; // @[cmd20.sc 7:28]\n",
      "  wire  _T = enqIndex == deqIndex; // @[cmd20.sc 8:26]\n",
      "  wire  empty = enqIndex == deqIndex & ~maybeFull; // @[cmd20.sc 8:39]\n",
      "  wire  full = _T & maybeFull; // @[cmd20.sc 9:38]\n",
      "  wire  _T_6 = io_deq_ready & io_deq_valid; // @[Decoupled.scala 40:37]\n",
      "  wire  _GEN_2 = enqIndex != deqIndex ? 1'h0 : maybeFull; // @[cmd20.sc 15:38 cmd20.sc 16:23 cmd20.sc 7:28]\n",
      "  wire  _GEN_4 = _T_6 ? _GEN_2 : maybeFull; // @[cmd20.sc 13:24 cmd20.sc 7:28]\n",
      "  wire  _T_10 = io_enq_ready & io_enq_valid; // @[Decoupled.scala 40:37]\n",
      "  wire  _T_12 = enqIndex + 1'h1; // @[cmd20.sc 21:30]\n",
      "  wire  _GEN_7 = _T_12 == deqIndex | _GEN_4; // @[cmd20.sc 22:47 cmd20.sc 23:23]\n",
      "  assign io_enq_ready = ~full | io_deq_ready; // @[cmd20.sc 10:27]\n",
      "  assign io_deq_valid = ~empty; // @[cmd20.sc 11:21]\n",
      "  assign io_deq_bits = deqIndex ? entries_1 : entries_0; // @[cmd20.sc 12:17 cmd20.sc 12:17]\n",
      "  always @(posedge clock) begin\n",
      "    if (_T_10) begin // @[cmd20.sc 19:24]\n",
      "      if (~enqIndex) begin // @[cmd20.sc 20:27]\n",
      "        entries_0 <= io_enq_bits; // @[cmd20.sc 20:27]\n",
      "      end\n",
      "    end\n",
      "    if (_T_10) begin // @[cmd20.sc 19:24]\n",
      "      if (enqIndex) begin // @[cmd20.sc 20:27]\n",
      "        entries_1 <= io_enq_bits; // @[cmd20.sc 20:27]\n",
      "      end\n",
      "    end\n",
      "    if (reset) begin // @[cmd20.sc 5:27]\n",
      "      enqIndex <= 1'h0; // @[cmd20.sc 5:27]\n",
      "    end else if (_T_10) begin // @[cmd20.sc 19:24]\n",
      "      enqIndex <= enqIndex + 1'h1; // @[cmd20.sc 21:18]\n",
      "    end\n",
      "    if (reset) begin // @[cmd20.sc 6:27]\n",
      "      deqIndex <= 1'h0; // @[cmd20.sc 6:27]\n",
      "    end else if (_T_6) begin // @[cmd20.sc 13:24]\n",
      "      deqIndex <= deqIndex + 1'h1; // @[cmd20.sc 14:18]\n",
      "    end\n",
      "    if (reset) begin // @[cmd20.sc 7:28]\n",
      "      maybeFull <= 1'h0; // @[cmd20.sc 7:28]\n",
      "    end else if (_T_10) begin // @[cmd20.sc 19:24]\n",
      "      maybeFull <= _GEN_7;\n",
      "    end else if (_T_6) begin // @[cmd20.sc 13:24]\n",
      "      if (enqIndex != deqIndex) begin // @[cmd20.sc 15:38]\n",
      "        maybeFull <= 1'h0; // @[cmd20.sc 16:23]\n",
      "      end\n",
      "    end\n",
      "  end\n",
      "// Register and memory initialization\n",
      "`ifdef RANDOMIZE_GARBAGE_ASSIGN\n",
      "`define RANDOMIZE\n",
      "`endif\n",
      "`ifdef RANDOMIZE_INVALID_ASSIGN\n",
      "`define RANDOMIZE\n",
      "`endif\n",
      "`ifdef RANDOMIZE_REG_INIT\n",
      "`define RANDOMIZE\n",
      "`endif\n",
      "`ifdef RANDOMIZE_MEM_INIT\n",
      "`define RANDOMIZE\n",
      "`endif\n",
      "`ifndef RANDOM\n",
      "`define RANDOM $random\n",
      "`endif\n",
      "`ifdef RANDOMIZE_MEM_INIT\n",
      "  integer initvar;\n",
      "`endif\n",
      "`ifndef SYNTHESIS\n",
      "`ifdef FIRRTL_BEFORE_INITIAL\n",
      "`FIRRTL_BEFORE_INITIAL\n",
      "`endif\n",
      "initial begin\n",
      "  `ifdef RANDOMIZE\n",
      "    `ifdef INIT_RANDOM\n",
      "      `INIT_RANDOM\n",
      "    `endif\n",
      "    `ifndef VERILATOR\n",
      "      `ifdef RANDOMIZE_DELAY\n",
      "        #`RANDOMIZE_DELAY begin end\n",
      "      `else\n",
      "        #0.002 begin end\n",
      "      `endif\n",
      "    `endif\n",
      "`ifdef RANDOMIZE_REG_INIT\n",
      "  _RAND_0 = {1{`RANDOM}};\n",
      "  entries_0 = _RAND_0[7:0];\n",
      "  _RAND_1 = {1{`RANDOM}};\n",
      "  entries_1 = _RAND_1[7:0];\n",
      "  _RAND_2 = {1{`RANDOM}};\n",
      "  enqIndex = _RAND_2[0:0];\n",
      "  _RAND_3 = {1{`RANDOM}};\n",
      "  deqIndex = _RAND_3[0:0];\n",
      "  _RAND_4 = {1{`RANDOM}};\n",
      "  maybeFull = _RAND_4[0:0];\n",
      "`endif // RANDOMIZE_REG_INIT\n",
      "  `endif // RANDOMIZE\n",
      "end // initial\n",
      "`ifdef FIRRTL_AFTER_INITIAL\n",
      "`FIRRTL_AFTER_INITIAL\n",
      "`endif\n",
      "`endif // SYNTHESIS\n",
      "endmodule\n",
      "\n"
     ]
    }
   ],
   "source": [
    "println (getVerilog (new MyQueueV5(2, 8)))"
   ]
  },
  {
   "cell_type": "markdown",
   "id": "2df29adc",
   "metadata": {
    "slideshow": {
     "slide_type": "slide"
    }
   },
   "source": [
    "## Testing MyQueueV5"
   ]
  },
  {
   "cell_type": "code",
   "execution_count": 23,
   "id": "abstract-incident",
   "metadata": {
    "slideshow": {
     "slide_type": "-"
    }
   },
   "outputs": [
    {
     "name": "stdout",
     "output_type": "stream",
     "text": [
      "Elaborating design...\n",
      "Done elaborating.\n",
      "Queue()\n",
      "Queue(1)\n",
      "Queue(1, 2)\n",
      "Queue(2, 3)\n",
      "Queue(3, 4)\n",
      "Queue(4)\n",
      "test MyQueueV5 Success: 0 tests passed in 8 cycles in 0.009524 seconds 839.98 Hz\n"
     ]
    }
   ],
   "source": [
    "test(new MyQueueV5(2, 8)) { c =>\n",
    "    val qm = new QueueModel(c.numEntries, true)\n",
    "    simCycle(qm, c, enqValid=false, deqReady=false)\n",
    "    simCycle(qm, c, enqValid=true,  deqReady=false, 1)\n",
    "    simCycle(qm, c, enqValid=true,  deqReady=false, 2)\n",
    "    simCycle(qm, c, enqValid=true,  deqReady=true,  3)\n",
    "    simCycle(qm, c, enqValid=true,  deqReady=true,  4)\n",
    "    simCycle(qm, c, enqValid=false, deqReady=true)\n",
    "}"
   ]
  },
  {
   "cell_type": "markdown",
   "id": "plain-vintage",
   "metadata": {
    "slideshow": {
     "slide_type": "slide"
    }
   },
   "source": [
    "## Assessing MyQueue `V5`\n",
    "\n",
    "* Accomplished\n",
    "  * Implements queueing behavior\n",
    "  * Parameterized data width & number of entries\n",
    "  * Latency based on occupancy\n",
    "  * _Efficient:_ less bits shifting and shallower logic\n",
    "  * Can now enqueue/dequeue in same cycle\n",
    "\n",
    "* Shortcommings\n",
    "  * _Capacity:_ must be power of 2\n",
    "  * _Possible combinational loop_ more likely with `io.enq.ready` now attached to `io.deq.ready`"
   ]
  },
  {
   "cell_type": "markdown",
   "id": "imperial-departure",
   "metadata": {
    "slideshow": {
     "slide_type": "slide"
    }
   },
   "source": [
    "## V6 - Tidying up Code"
   ]
  },
  {
   "cell_type": "code",
   "execution_count": 24,
   "id": "classical-string",
   "metadata": {
    "slideshow": {
     "slide_type": "-"
    }
   },
   "outputs": [
    {
     "data": {
      "text/plain": [
       "defined \u001b[32mclass\u001b[39m \u001b[36mMyQueueV6\u001b[39m"
      ]
     },
     "execution_count": 24,
     "metadata": {},
     "output_type": "execute_result"
    }
   ],
   "source": [
    "class MyQueueV6(numEntries: Int, bitWidth: Int, pipe: Boolean=true) extends MyQueue(numEntries, bitWidth) {\n",
    "    require(numEntries > 1)\n",
    "//     require(isPow2(numEntries))    // no longer needed\n",
    "    val entries = Mem(numEntries, UInt(bitWidth.W))\n",
    "    val enqIndex = Counter(numEntries)\n",
    "    val deqIndex = Counter(numEntries)\n",
    "    val maybeFull = RegInit(false.B)\n",
    "    val indicesEqual = enqIndex.value === deqIndex.value\n",
    "    val empty = indicesEqual && !maybeFull\n",
    "    val full = indicesEqual && maybeFull\n",
    "    if (pipe)\n",
    "        io.enq.ready := !full || io.deq.ready\n",
    "    else\n",
    "        io.enq.ready := !full\n",
    "    io.deq.valid := !empty\n",
    "    io.deq.bits := entries(deqIndex.value)\n",
    "    when (io.deq.fire =/= io.enq.fire) {\n",
    "        maybeFull := io.enq.fire\n",
    "    }\n",
    "    when (io.deq.fire) {\n",
    "        deqIndex.inc()\n",
    "    }\n",
    "    when (io.enq.fire) {\n",
    "        entries(enqIndex.value) := io.enq.bits\n",
    "        enqIndex.inc()\n",
    "    }\n",
    "}"
   ]
  },
  {
   "cell_type": "code",
   "execution_count": 25,
   "id": "0a411658-771d-402d-a851-9c62dd7443a6",
   "metadata": {},
   "outputs": [
    {
     "name": "stdout",
     "output_type": "stream",
     "text": [
      "Elaborating design...\n",
      "Done elaborating.\n",
      "module MyQueueV6(\n",
      "  input        clock,\n",
      "  input        reset,\n",
      "  output       io_enq_ready,\n",
      "  input        io_enq_valid,\n",
      "  input  [7:0] io_enq_bits,\n",
      "  input        io_deq_ready,\n",
      "  output       io_deq_valid,\n",
      "  output [7:0] io_deq_bits\n",
      ");\n",
      "`ifdef RANDOMIZE_MEM_INIT\n",
      "  reg [31:0] _RAND_0;\n",
      "`endif // RANDOMIZE_MEM_INIT\n",
      "`ifdef RANDOMIZE_REG_INIT\n",
      "  reg [31:0] _RAND_1;\n",
      "  reg [31:0] _RAND_2;\n",
      "  reg [31:0] _RAND_3;\n",
      "`endif // RANDOMIZE_REG_INIT\n",
      "  reg [7:0] entries [0:1]; // @[cmd23.sc 4:22]\n",
      "  wire [7:0] entries_MPORT_data; // @[cmd23.sc 4:22]\n",
      "  wire  entries_MPORT_addr; // @[cmd23.sc 4:22]\n",
      "  wire [7:0] entries_MPORT_1_data; // @[cmd23.sc 4:22]\n",
      "  wire  entries_MPORT_1_addr; // @[cmd23.sc 4:22]\n",
      "  wire  entries_MPORT_1_mask; // @[cmd23.sc 4:22]\n",
      "  wire  entries_MPORT_1_en; // @[cmd23.sc 4:22]\n",
      "  reg  value; // @[Counter.scala 60:40]\n",
      "  reg  value_1; // @[Counter.scala 60:40]\n",
      "  reg  maybeFull; // @[cmd23.sc 7:28]\n",
      "  wire  indicesEqual = value == value_1; // @[cmd23.sc 8:39]\n",
      "  wire  empty = indicesEqual & ~maybeFull; // @[cmd23.sc 9:30]\n",
      "  wire  full = indicesEqual & maybeFull; // @[cmd23.sc 10:29]\n",
      "  wire  _T_4 = io_deq_ready & io_deq_valid; // @[Decoupled.scala 40:37]\n",
      "  wire  _T_5 = io_enq_ready & io_enq_valid; // @[Decoupled.scala 40:37]\n",
      "  assign entries_MPORT_addr = value_1;\n",
      "  assign entries_MPORT_data = entries[entries_MPORT_addr]; // @[cmd23.sc 4:22]\n",
      "  assign entries_MPORT_1_data = io_enq_bits;\n",
      "  assign entries_MPORT_1_addr = value;\n",
      "  assign entries_MPORT_1_mask = 1'h1;\n",
      "  assign entries_MPORT_1_en = io_enq_ready & io_enq_valid;\n",
      "  assign io_enq_ready = ~full | io_deq_ready; // @[cmd23.sc 12:31]\n",
      "  assign io_deq_valid = ~empty; // @[cmd23.sc 15:21]\n",
      "  assign io_deq_bits = entries_MPORT_data; // @[cmd23.sc 16:17]\n",
      "  always @(posedge clock) begin\n",
      "    if(entries_MPORT_1_en & entries_MPORT_1_mask) begin\n",
      "      entries[entries_MPORT_1_addr] <= entries_MPORT_1_data; // @[cmd23.sc 4:22]\n",
      "    end\n",
      "    if (reset) begin // @[Counter.scala 60:40]\n",
      "      value <= 1'h0; // @[Counter.scala 60:40]\n",
      "    end else if (_T_5) begin // @[cmd23.sc 23:24]\n",
      "      value <= value + 1'h1; // @[Counter.scala 76:15]\n",
      "    end\n",
      "    if (reset) begin // @[Counter.scala 60:40]\n",
      "      value_1 <= 1'h0; // @[Counter.scala 60:40]\n",
      "    end else if (_T_4) begin // @[cmd23.sc 20:24]\n",
      "      value_1 <= value_1 + 1'h1; // @[Counter.scala 76:15]\n",
      "    end\n",
      "    if (reset) begin // @[cmd23.sc 7:28]\n",
      "      maybeFull <= 1'h0; // @[cmd23.sc 7:28]\n",
      "    end else if (_T_4 != _T_5) begin // @[cmd23.sc 17:40]\n",
      "      maybeFull <= _T_5; // @[cmd23.sc 18:19]\n",
      "    end\n",
      "  end\n",
      "// Register and memory initialization\n",
      "`ifdef RANDOMIZE_GARBAGE_ASSIGN\n",
      "`define RANDOMIZE\n",
      "`endif\n",
      "`ifdef RANDOMIZE_INVALID_ASSIGN\n",
      "`define RANDOMIZE\n",
      "`endif\n",
      "`ifdef RANDOMIZE_REG_INIT\n",
      "`define RANDOMIZE\n",
      "`endif\n",
      "`ifdef RANDOMIZE_MEM_INIT\n",
      "`define RANDOMIZE\n",
      "`endif\n",
      "`ifndef RANDOM\n",
      "`define RANDOM $random\n",
      "`endif\n",
      "`ifdef RANDOMIZE_MEM_INIT\n",
      "  integer initvar;\n",
      "`endif\n",
      "`ifndef SYNTHESIS\n",
      "`ifdef FIRRTL_BEFORE_INITIAL\n",
      "`FIRRTL_BEFORE_INITIAL\n",
      "`endif\n",
      "initial begin\n",
      "  `ifdef RANDOMIZE\n",
      "    `ifdef INIT_RANDOM\n",
      "      `INIT_RANDOM\n",
      "    `endif\n",
      "    `ifndef VERILATOR\n",
      "      `ifdef RANDOMIZE_DELAY\n",
      "        #`RANDOMIZE_DELAY begin end\n",
      "      `else\n",
      "        #0.002 begin end\n",
      "      `endif\n",
      "    `endif\n",
      "`ifdef RANDOMIZE_MEM_INIT\n",
      "  _RAND_0 = {1{`RANDOM}};\n",
      "  for (initvar = 0; initvar < 2; initvar = initvar+1)\n",
      "    entries[initvar] = _RAND_0[7:0];\n",
      "`endif // RANDOMIZE_MEM_INIT\n",
      "`ifdef RANDOMIZE_REG_INIT\n",
      "  _RAND_1 = {1{`RANDOM}};\n",
      "  value = _RAND_1[0:0];\n",
      "  _RAND_2 = {1{`RANDOM}};\n",
      "  value_1 = _RAND_2[0:0];\n",
      "  _RAND_3 = {1{`RANDOM}};\n",
      "  maybeFull = _RAND_3[0:0];\n",
      "`endif // RANDOMIZE_REG_INIT\n",
      "  `endif // RANDOMIZE\n",
      "end // initial\n",
      "`ifdef FIRRTL_AFTER_INITIAL\n",
      "`FIRRTL_AFTER_INITIAL\n",
      "`endif\n",
      "`endif // SYNTHESIS\n",
      "endmodule\n",
      "\n"
     ]
    }
   ],
   "source": [
    "println (getVerilog (new MyQueueV6(2, 8)))"
   ]
  },
  {
   "cell_type": "markdown",
   "id": "3337d97a",
   "metadata": {
    "slideshow": {
     "slide_type": "slide"
    }
   },
   "source": [
    "## Testing MyQueueV6"
   ]
  },
  {
   "cell_type": "code",
   "execution_count": 26,
   "id": "suspended-absorption",
   "metadata": {
    "scrolled": true,
    "slideshow": {
     "slide_type": "-"
    }
   },
   "outputs": [
    {
     "name": "stdout",
     "output_type": "stream",
     "text": [
      "Elaborating design...\n",
      "Done elaborating.\n",
      "Queue()\n",
      "Queue(1)\n",
      "Queue(1, 2)\n",
      "Queue(1, 2, 3)\n",
      "Queue(2, 3, 4)\n",
      "Queue(3, 4, 5)\n",
      "Queue(4, 5)\n",
      "test MyQueueV6 Success: 0 tests passed in 9 cycles in 0.017444 seconds 515.93 Hz\n"
     ]
    }
   ],
   "source": [
    "test(new MyQueueV6(3, 8)) { c =>\n",
    "    val qm = new QueueModel(c.numEntries)\n",
    "    simCycle(qm, c, enqValid=false, deqReady=false)\n",
    "    simCycle(qm, c, enqValid=true,  deqReady=false, 1)\n",
    "    simCycle(qm, c, enqValid=true,  deqReady=false, 2)\n",
    "    simCycle(qm, c, enqValid=true,  deqReady=false, 3)\n",
    "    simCycle(qm, c, enqValid=true,  deqReady=true,  4)\n",
    "    simCycle(qm, c, enqValid=true,  deqReady=true,  5)\n",
    "    simCycle(qm, c, enqValid=false, deqReady=true)\n",
    "}"
   ]
  },
  {
   "cell_type": "markdown",
   "id": "correct-township",
   "metadata": {
    "slideshow": {
     "slide_type": "slide"
    }
   },
   "source": [
    "## Assessing MyQueue `V6`\n",
    "\n",
    "* Accomplished\n",
    "  * Implements queueing behavior\n",
    "  * Parameterized data width & number of entries\n",
    "  * Latency based on occupancy\n",
    "  * _Efficient:_ less bits shifting and shallower logic\n",
    "  * Can now enqueue/dequeue in same cycle (optionally) and support non-power of 2 capacities\n",
    "\n",
    "* Shortcommings\n",
    "  * Data type is `UInt` - What about arbitrary data?"
   ]
  }
 ],
 "metadata": {
  "celltoolbar": "Slideshow",
  "kernelspec": {
   "display_name": "Scala 2.12.11",
   "language": "scala",
   "name": "scala_2_12_11"
  },
  "language_info": {
   "codemirror_mode": "text/x-scala",
   "file_extension": ".scala",
   "mimetype": "text/x-scala",
   "name": "scala",
   "nbconvert_exporter": "script",
   "version": "2.12.11"
  }
 },
 "nbformat": 4,
 "nbformat_minor": 5
}
