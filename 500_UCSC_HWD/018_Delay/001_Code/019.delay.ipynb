{
 "cells": [
  {
   "cell_type": "code",
   "execution_count": null,
   "id": "6371376b-c264-43c3-91fd-20f88ba83217",
   "metadata": {
    "slideshow": {
     "slide_type": "slide"
    }
   },
   "outputs": [],
   "source": [
    "## Agile Hardware Design\n",
    "***\n",
    "# Optimizing for Delay\n",
    "\n",
    "<img src=\"./images/chisel_logo.svg\" alt=\"agile hardware design logo\" style=\"width: 20%; float:right\"/>\n",
    "\n",
    "Peter Hanping Chen, based on\n",
    "\n",
    "- 1. UCB Bootcamp: configuration file load-ivy.sc: \n",
    "- https://github.com/freechipsproject/chisel-bootcamp/tree/master/source\n",
    "- 2. Prof. Scott Beamer, sbeamer@ucsc.edu, CSE 228A\n",
    "- https://classes.soe.ucsc.edu/cse228a/Winter24/\n"
   ]
  },
  {
   "cell_type": "markdown",
   "id": "nominated-consistency",
   "metadata": {
    "slideshow": {
     "slide_type": "slide"
    }
   },
   "source": [
    "## Plan for Today\n",
    "\n",
    "* Sources of logic delay\n",
    "* Techniques to reduce delay"
   ]
  },
  {
   "cell_type": "markdown",
   "id": "regular-reducing",
   "metadata": {
    "slideshow": {
     "slide_type": "slide"
    }
   },
   "source": [
    "## Loading The Chisel Library Into a Notebook"
   ]
  },
  {
   "cell_type": "code",
   "execution_count": 3,
   "id": "robust-immigration",
   "metadata": {},
   "outputs": [
    {
     "name": "stdout",
     "output_type": "stream",
     "text": [
      "path: /home/peter/AIU/AIU_CS800_Chisel/500_UCSC_HWD/019_Delay/001_Code/source/load-ivy.sc\n"
     ]
    },
    {
     "data": {
      "text/plain": [
       "\u001b[36mpath\u001b[39m: \u001b[32mString\u001b[39m = \u001b[32m\"/home/peter/AIU/AIU_CS800_Chisel/500_UCSC_HWD/019_Delay/001_Code/source/load-ivy.sc\"\u001b[39m"
      ]
     },
     "execution_count": 3,
     "metadata": {},
     "output_type": "execute_result"
    }
   ],
   "source": [
    "//interp.load.module(os.Path(s\"${System.getProperty(\"user.dir\")}/../resource/chisel_deps.sc\"))\n",
    "val path = System.getProperty(\"user.dir\") + \"/source/load-ivy.sc\"\n",
    "//val path = System.getProperty(\"user.dir\") + \"/source/chisel_deps.sc\"\n",
    "println(\"path: \"+path)\n",
    "interp.load.module(ammonite.ops.Path(java.nio.file.FileSystems.getDefault().getPath(path)))"
   ]
  },
  {
   "cell_type": "code",
   "execution_count": 4,
   "id": "extended-burning",
   "metadata": {
    "slideshow": {
     "slide_type": "-"
    }
   },
   "outputs": [
    {
     "data": {
      "text/plain": [
       "\u001b[32mimport \u001b[39m\u001b[36mchisel3._\n",
       "\u001b[39m\n",
       "\u001b[32mimport \u001b[39m\u001b[36mchisel3.util._\n",
       "\u001b[39m\n",
       "\u001b[32mimport \u001b[39m\u001b[36mchiseltest._\n",
       "\u001b[39m\n",
       "\u001b[32mimport \u001b[39m\u001b[36mchiseltest.RawTester.test\u001b[39m"
      ]
     },
     "execution_count": 4,
     "metadata": {},
     "output_type": "execute_result"
    }
   ],
   "source": [
    "import chisel3._\n",
    "import chisel3.util._\n",
    "import chiseltest._\n",
    "import chiseltest.RawTester.test"
   ]
  },
  {
   "cell_type": "markdown",
   "id": "d866a01b-8522-4e0b-b361-dfed2b47de48",
   "metadata": {
    "slideshow": {
     "slide_type": "slide"
    }
   },
   "source": [
    "## Sources of Delay\n",
    "\n",
    "* _**Gate Delay**_ - time it takes for gates to compute result\n",
    "  * More complicated gates or more inputs (_fan-in_) can increase delay\n",
    "\n",
    "* _**Wire Delay**_ - time to transmit signals between gates\n",
    "  * Can be worsenned by _fan-out_ (broadcasting to multiple outputs)\n",
    "  * Can be much more pronounced on FPGAs\n",
    "\n",
    "<img src=\"./images/delay.svg\" alt=\"sources of delay\" style=\"width:50%; align:left\" />"
   ]
  },
  {
   "cell_type": "markdown",
   "id": "c8c769f8-228c-4be6-91b3-7f81af8c7b1b",
   "metadata": {
    "slideshow": {
     "slide_type": "slide"
    }
   },
   "source": [
    "## Units for Delay\n",
    "\n",
    "* Typical time units\n",
    "  * _nanosecond (ns)_ = $10^{-9}$ seconds\n",
    "  * _picosecond (ps)_ = $10^{-12}$ seconds\n",
    "\n",
    "* _Fanout of 4_ (**FO4**)\n",
    "  * Slightly agnostic to tech (or even operating voltage)\n",
    "  * Example: Intel Pentium 4 @ 3.4 GHz had 16.3 FO4 => FO4 Delay ~ 18ps \n",
    "  * source: https://en.wikipedia.org/wiki/FO4#cite_note-4\n",
    "\n",
    "<img src=\"./images/fo4.svg\" alt=\"FO4\" style=\"width:25%; align:left\" />"
   ]
  },
  {
   "cell_type": "markdown",
   "id": "f6e88645-85e8-4ac4-8bab-3f39c55c400f",
   "metadata": {
    "slideshow": {
     "slide_type": "slide"
    }
   },
   "source": [
    "## Critical Path\n",
    "\n",
    "* Longest _delay_ path through design (under worst case conditions)\n",
    "* Clock period must be longer than critical path delay\n",
    "  * Paths \"shorter\" (less delay) than critical path do not affect clock frequency\n",
    "* Reducing critical path delay helps in two ways:\n",
    "  * 1 - can increase clock frequency (improve performance)\n",
    "  * 2 - can reduce supply voltage (reduce power)\n",
    "\n",
    "<img src=\"./images/critical.svg\" alt=\"critical path\" style=\"width:50%; align: Left\" />"
   ]
  },
  {
   "cell_type": "markdown",
   "id": "91971a3f-4707-4fde-b858-d456048b61ad",
   "metadata": {
    "slideshow": {
     "slide_type": "slide"
    }
   },
   "source": [
    "## Static Timing Analysis (STA)\n",
    "\n",
    "* Process to analyze a design and determine its timing behavior\n",
    "* Models performance of gates and wires\n",
    "* Usually concerned with worst case\n",
    "* Can be after only synthesis (doesn't consider wire delays) or also post place & route\n",
    "\n",
    "<img src=\"./images/sta.svg\" alt=\"STA example\" style=\"width:50%; align:left\" />"
   ]
  },
  {
   "cell_type": "markdown",
   "id": "fe28f5ba-74bf-4624-8dd3-ebe3eddf56a3",
   "metadata": {
    "slideshow": {
     "slide_type": "slide"
    }
   },
   "source": [
    "## Fixing Critical Paths\n",
    "\n",
    "* Even though most paths are \"short,\" clock period set by _critical path_\n",
    "* Want to decrease clock period to increase throughput (assuming no hazards or bubbles)\n",
    "* _Process:_ optimize longest (delay) path by reducing delay, then do next longest, repeat\n",
    "  * Can initially be done by tools, but usually humans needed for large interventions\n",
    "  * Can be very time consuming\n",
    "\n",
    "<img src=\"./images/histogram.svg\" alt=\"\" style=\"width:70%; align:left\" />"
   ]
  },
  {
   "cell_type": "markdown",
   "id": "chief-track",
   "metadata": {
    "slideshow": {
     "slide_type": "slide"
    }
   },
   "source": [
    "## Who Fixes Delay?\n",
    "\n",
    "* In order to let/make _the tools do the work_, need to appreciate what tools can do to make designer effort complementary and not redundant\n",
    "* _What the **tools** do best_\n",
    "    * Decades of research & development have gone into logic optimization\n",
    "    * Tools can reduce logic to reduce cost as well as restructure it to reduce delay\n",
    "    * Tools can also choose to use faster components at the cost of area or power\n",
    "    * Can do most things that _do not change semantics of design_\n",
    "* _What **designer** does best_\n",
    "    * _Can change the design_ (semantics)\n",
    "    * Consider major architectural changes\n",
    "    * Make changes to enable more optimization from tools"
   ]
  },
  {
   "cell_type": "markdown",
   "id": "cca4e0d1-8f83-4f0e-9b09-03b355d766b2",
   "metadata": {
    "slideshow": {
     "slide_type": "slide"
    }
   },
   "source": [
    "## Pipelining\n",
    "\n",
    "* Break up long paths by inserting registers\n",
    "  * Data still travels over long path, but now over multiple cycles\n",
    "  * Requires _parallelism_, as now multiple elements in flight\n",
    "* Where to put registers?\n",
    "  * Want to balance delay\n",
    "  * Sometimes very semantically clear, but that may not always be best\n",
    "  * Manually moving logic back and forth across registers can be labor intensive\n",
    "\n",
    "<img src=\"./images/pipeline.svg\" alt=\"pipeline\" style=\"width:70%; align: left\"/>"
   ]
  },
  {
   "cell_type": "markdown",
   "id": "ce7e35c3-f425-4132-8edb-d955aa13235e",
   "metadata": {
    "slideshow": {
     "slide_type": "slide"
    }
   },
   "source": [
    "## Retiming\n",
    "\n",
    "* Automated way tools can move registers to balance path lengths\n",
    "* Can't always move a register, such as if it has feedback\n",
    "* Some tools have varying levels of sophistication or flexibility\n",
    "  * e.g. can only go forward or backward or only in some cases\n",
    "* Can sometimes complicate verification\n",
    "\n",
    "<img src=\"./images/retimed.svg\" alt=\"retiming\" style=\"width:70%; align: left\" />"
   ]
  },
  {
   "cell_type": "markdown",
   "id": "portable-dominican",
   "metadata": {
    "slideshow": {
     "slide_type": "slide"
    }
   },
   "source": [
    "## Coding for Retiming in Chisel\n",
    "\n",
    "* Add ability for a component to be pipelined, but _parameterize_ depth\n",
    "* Make tools do the work retiming to spread registers out appropriately\n",
    "* Chisel's `Pipe` object is a sequence of (shift) registers\n",
    "* Example below places additional registers at end of combinational logic block\n",
    "  * Some tools may prefer registers in front\n",
    "\n",
    "```scala\n",
    "class PipelinedModule(pipelineDepth: Int) extends Module {\n",
    "    val io = IO ...\n",
    "    // combinational logic produces: result\n",
    "    io.out := Pipe(result, pipelineDepth)\n",
    "}\n",
    "```"
   ]
  },
  {
   "cell_type": "markdown",
   "id": "ab8af0f9-4c81-4e21-a104-1fc28853dd19",
   "metadata": {
    "slideshow": {
     "slide_type": "slide"
    }
   },
   "source": [
    "## Reduce Depth of Structures\n",
    "\n",
    "* Logic optimization in CAD tools can solve many inefficiencies, but still may need help\n",
    "  * Tools aren't allowed to change observable behavior, so you will need to change design\n",
    "  * May have (inadvertently) constructed highly unusual corner case tools can't optimize\n",
    "* Be wary of logic depth for things that grow linearly\n",
    "  * Consider pipelining\n",
    "  * Consider a tree (sometimes trades area for delay)\n",
    "  * Be sure to confirm it is on critical path first before optimizing\n",
    "    * Even if linear, may still not be the critical path\n",
    "    * Tools may be optimizing it just fine on their own"
   ]
  },
  {
   "cell_type": "markdown",
   "id": "702bc8a0-7de8-4539-83fb-7902e6289261",
   "metadata": {
    "slideshow": {
     "slide_type": "slide"
    }
   },
   "source": [
    "## Example Depth Reduction (for a Reduction) - 1/3\n",
    "\n",
    "<img src=\"./images/reduction.svg\" alt=\"toolflow phases\" style=\"width:70%; align:left\" />"
   ]
  },
  {
   "cell_type": "markdown",
   "id": "operational-browse",
   "metadata": {
    "slideshow": {
     "slide_type": "slide"
    }
   },
   "source": [
    "## Example Depth Reduction (for a Reduction) - 2/3"
   ]
  },
  {
   "cell_type": "code",
   "execution_count": 5,
   "id": "critical-canada",
   "metadata": {
    "slideshow": {
     "slide_type": "-"
    }
   },
   "outputs": [
    {
     "data": {
      "text/plain": [
       "defined \u001b[32mfunction\u001b[39m \u001b[36mlinearPopCount\u001b[39m\n",
       "defined \u001b[32mfunction\u001b[39m \u001b[36mtreePopCount\u001b[39m\n",
       "defined \u001b[32mclass\u001b[39m \u001b[36mCountOnes\u001b[39m"
      ]
     },
     "execution_count": 5,
     "metadata": {},
     "output_type": "execute_result"
    }
   ],
   "source": [
    "def linearPopCount(l: Seq[Bool]): UInt = {\n",
    "    if (l.isEmpty) 0.U\n",
    "    else l.head +& linearPopCount(l.tail)\n",
    "}\n",
    "\n",
    "// PopCount (edited) from chisel3/SeqUtils.scala\n",
    "def treePopCount(l: Seq[Bool]): UInt = l.size match {\n",
    "    case 0 => 0.U\n",
    "    case 1 => l.head\n",
    "    case n => treePopCount(l take n/2) +& treePopCount(l drop n/2)\n",
    "}\n",
    "\n",
    "class CountOnes(n: Int) extends Module { // PopCount\n",
    "    val io = IO(new Bundle {\n",
    "        val in = Input(Vec(n, Bool()))\n",
    "        val out = Output(UInt())\n",
    "    })\n",
    "    require(n > 0)\n",
    "    io.out := linearPopCount(io.in)\n",
    "//     io.out := treePopCount(io.in)\n",
    "//     io.out := PopCount(io.in)    // from chisel3.util\n",
    "}"
   ]
  },
  {
   "cell_type": "markdown",
   "id": "df65a8f6",
   "metadata": {
    "slideshow": {
     "slide_type": "slide"
    }
   },
   "source": [
    "## Example Depth Reduction (for a Reduction) - 3/3"
   ]
  },
  {
   "cell_type": "code",
   "execution_count": 6,
   "id": "ac392a60",
   "metadata": {},
   "outputs": [
    {
     "name": "stdout",
     "output_type": "stream",
     "text": [
      "Elaborating design...\n",
      "Done elaborating.\n",
      "module CountOnes(\n",
      "  input        clock,\n",
      "  input        reset,\n",
      "  input        io_in_0,\n",
      "  input        io_in_1,\n",
      "  input        io_in_2,\n",
      "  input        io_in_3,\n",
      "  output [4:0] io_out\n",
      ");\n",
      "  wire [1:0] _T = {{1'd0}, io_in_3}; // @[cmd4.sc 3:17]\n",
      "  wire [1:0] _GEN_0 = {{1'd0}, io_in_2}; // @[cmd4.sc 3:17]\n",
      "  wire [2:0] _T_1 = _GEN_0 + _T; // @[cmd4.sc 3:17]\n",
      "  wire [2:0] _GEN_1 = {{2'd0}, io_in_1}; // @[cmd4.sc 3:17]\n",
      "  wire [3:0] _T_2 = _GEN_1 + _T_1; // @[cmd4.sc 3:17]\n",
      "  wire [3:0] _GEN_2 = {{3'd0}, io_in_0}; // @[cmd4.sc 3:17]\n",
      "  assign io_out = _GEN_2 + _T_2; // @[cmd4.sc 3:17]\n",
      "endmodule\n",
      "\n"
     ]
    }
   ],
   "source": [
    "//printVerilog(new CountOnes(4))\n",
    "println (getVerilog (new CountOnes(4)))"
   ]
  }
 ],
 "metadata": {
  "celltoolbar": "Slideshow",
  "kernelspec": {
   "display_name": "Scala 2.12.11",
   "language": "scala",
   "name": "scala_2_12_11"
  },
  "language_info": {
   "codemirror_mode": "text/x-scala",
   "file_extension": ".scala",
   "mimetype": "text/x-scala",
   "name": "scala",
   "nbconvert_exporter": "script",
   "version": "2.12.11"
  }
 },
 "nbformat": 4,
 "nbformat_minor": 5
}
