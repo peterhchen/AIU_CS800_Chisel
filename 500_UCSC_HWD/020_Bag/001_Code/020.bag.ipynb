{
 "cells": [
  {
   "cell_type": "code",
   "execution_count": null,
   "id": "f3b183d9-8d62-4b98-83c6-369e5842c814",
   "metadata": {
    "slideshow": {
     "slide_type": "slide"
    }
   },
   "outputs": [],
   "source": [
    "## Agile Hardware Design\n",
    "***\n",
    "# Chisel Bag\n",
    "\n",
    "<img src=\"./images/chisel_logo.svg\" alt=\"agile hardware design logo\" style=\"width: 20%; float:right\"/>\n",
    "\n",
    "Peter Hanping Chen, based on\n",
    "\n",
    "- 1. UCB Bootcamp: configuration file load-ivy.sc: \n",
    "- https://github.com/freechipsproject/chisel-bootcamp/tree/master/source\n",
    "- 2. Prof. Scott Beamer, sbeamer@ucsc.edu, CSE 228A\n",
    "- https://classes.soe.ucsc.edu/cse228a/Winter24/"
   ]
  },
  {
   "cell_type": "markdown",
   "id": "nominated-consistency",
   "metadata": {
    "slideshow": {
     "slide_type": "slide"
    }
   },
   "source": [
    "## Plan for Today\n",
    "\n",
    "* Recap how Chisel \"works\"\n",
    "* Tips for common mistakes to avoid"
   ]
  },
  {
   "cell_type": "markdown",
   "id": "improved-paraguay",
   "metadata": {
    "slideshow": {
     "slide_type": "slide"
    }
   },
   "source": [
    "## Loading The Chisel Library Into a Notebook"
   ]
  },
  {
   "cell_type": "code",
   "execution_count": 16,
   "id": "robust-immigration",
   "metadata": {},
   "outputs": [
    {
     "name": "stdout",
     "output_type": "stream",
     "text": [
      "path: /home/peter/AIU/AIU_CS800_Chisel/500_UCSC_HWD/020_Misc/001_Code/source/load-ivy.sc\n"
     ]
    },
    {
     "data": {
      "text/plain": [
       "\u001b[36mpath\u001b[39m: \u001b[32mString\u001b[39m = \u001b[32m\"/home/peter/AIU/AIU_CS800_Chisel/500_UCSC_HWD/020_Misc/001_Code/source/load-ivy.sc\"\u001b[39m"
      ]
     },
     "execution_count": 16,
     "metadata": {},
     "output_type": "execute_result"
    }
   ],
   "source": [
    "// interp.load.module(os.Path(s\"${System.getProperty(\"user.dir\")}/../resource/chisel_deps.sc\"))\n",
    "val path = System.getProperty(\"user.dir\") + \"/source/load-ivy.sc\"\n",
    "//val path = System.getProperty(\"user.dir\") + \"/source/chisel_deps.sc\"\n",
    "println(\"path: \"+path)\n",
    "interp.load.module(ammonite.ops.Path(java.nio.file.FileSystems.getDefault().getPath(path)))"
   ]
  },
  {
   "cell_type": "code",
   "execution_count": 17,
   "id": "extended-burning",
   "metadata": {
    "slideshow": {
     "slide_type": "-"
    }
   },
   "outputs": [
    {
     "data": {
      "text/plain": [
       "\u001b[32mimport \u001b[39m\u001b[36mchisel3._\n",
       "\u001b[39m\n",
       "\u001b[32mimport \u001b[39m\u001b[36mchisel3.util._\n",
       "\u001b[39m\n",
       "\u001b[32mimport \u001b[39m\u001b[36mchiseltest._\n",
       "\u001b[39m\n",
       "\u001b[32mimport \u001b[39m\u001b[36mchiseltest.RawTester.test\u001b[39m"
      ]
     },
     "execution_count": 17,
     "metadata": {},
     "output_type": "execute_result"
    }
   ],
   "source": [
    "import chisel3._\n",
    "import chisel3.util._\n",
    "import chiseltest._\n",
    "import chiseltest.RawTester.test"
   ]
  },
  {
   "cell_type": "markdown",
   "id": "balanced-animation",
   "metadata": {
    "slideshow": {
     "slide_type": "slide"
    }
   },
   "source": [
    "## Recap of What Chisel/Scala Does\n",
    "\n",
    "* Your \"Chisel\" design is a valid Scala program (otherwise will get a Scala compile error)\n",
    "  * Chisel is a Scala library, and we treat it like an _embedded domain-specific language_\n",
    "* While executing, any Chisel object referenced/constructed is instantiated\n",
    "  * Includes even a literal (e.g. `4.U`) or a slight tweak (e.g. `~io.in`)\n",
    "  * Every object has _inputs_ and/or _outputs_\n",
    "  * Under the hood, those objects are tracked (e.g. inside `extends Module`)\n",
    "* Chisel connections (`:=` and `<>`) induce side-effects on the Chisel objects\n",
    "  * Changes inputs by connecting them to outputs\n",
    "* _Summary:_ think of your Chisel design as a Scala program that _instantiates_ Chisel things and _connects_ them\n",
    "  * Much of the parameterizability/flexibility is coming from the Scala program\n",
    "* Your goal is to properly connect things to the inputs/outputs of modules\n",
    "  * Tools will prune components that are unreachable from an input or output"
   ]
  },
  {
   "cell_type": "markdown",
   "id": "plain-school",
   "metadata": {
    "slideshow": {
     "slide_type": "slide"
    }
   },
   "source": [
    "## Hardware Designs Are _Static Structurally_ with _Dynamic Signals_\n",
    "\n",
    "* Hardware's connectivity/structure is _static_ after _elaboration_\n",
    "  * Even though we are only simulating and not manufacturing the physical designs, the design is unchanged\n",
    "  * A mux input can change its output, but it has static connections externally\n",
    "* A wire can carry different values in different cycles (in simulation or real world), but the wire's endpoint connections are unchanged\n",
    "  * A wire has no internal state, and directly propagates its input to its output\n",
    "  * A wire changing value over \"time\" is caused by its input changing over time\n",
    "* A _register_ (or memory) has internal state, but only changes value at the rising clock edge\n",
    "  * At rising edge, input value becomes output (and internal state) value\n",
    "  * Typically in Chisel we don't explicitly show clock, so sometimes easy to loose track of when things change"
   ]
  },
  {
   "cell_type": "markdown",
   "id": "82a65136",
   "metadata": {
    "slideshow": {
     "slide_type": "slide"
    }
   },
   "source": [
    "## Even with _Last Connect Semantics_, Hardware Structure is Static\n",
    "\n",
    "* When there are multiple connections to the same input, Chisel must choose a winner\n",
    "  * The actual hardware can only be connected to one thing\n",
    "* _Last Connect Semantics_ - last connect performed in Scala program order \"wins\"\n",
    "* `when` statements are handled specially with muxes\n",
    "  * What to connect to depends on when's condition => use mux\n",
    "  * Mux output is the one thing hardware is connected to\n",
    "  * The when condition is used for mux select"
   ]
  },
  {
   "cell_type": "code",
   "execution_count": 18,
   "id": "802514c8",
   "metadata": {},
   "outputs": [
    {
     "data": {
      "text/plain": [
       "defined \u001b[32mclass\u001b[39m \u001b[36mClipper\u001b[39m"
      ]
     },
     "execution_count": 18,
     "metadata": {},
     "output_type": "execute_result"
    }
   ],
   "source": [
    "class Clipper extends Module {\n",
    "    val io = IO(new Bundle {\n",
    "        val in = Input(UInt(8.W))\n",
    "        val out = Output(UInt(8.W))\n",
    "    })\n",
    "    io.out := io.in\n",
    "    when (io.in > 3.U) {\n",
    "        io.out := 3.U\n",
    "    }\n",
    "}\n",
    "\n",
    "//printVerilog(new Clipper)"
   ]
  },
  {
   "cell_type": "code",
   "execution_count": 19,
   "id": "3d4f69cd-a7b8-4b28-8e78-13d66091dfa0",
   "metadata": {},
   "outputs": [
    {
     "name": "stdout",
     "output_type": "stream",
     "text": [
      "Elaborating design...\n",
      "Done elaborating.\n",
      "module Clipper(\n",
      "  input        clock,\n",
      "  input        reset,\n",
      "  input  [7:0] io_in,\n",
      "  output [7:0] io_out\n",
      ");\n",
      "  assign io_out = io_in > 8'h3 ? 8'h3 : io_in; // @[cmd17.sc 7:24 cmd17.sc 8:16 cmd17.sc 6:12]\n",
      "endmodule\n",
      "\n"
     ]
    }
   ],
   "source": [
    "//printVerilog(new Clipper)\n",
    "println (getVerilog(new Clipper))"
   ]
  },
  {
   "cell_type": "markdown",
   "id": "8aee535b",
   "metadata": {
    "slideshow": {
     "slide_type": "slide"
    }
   },
   "source": [
    "# Easy Simplification: Convert Nested Whens -> AND\n",
    "\n"
   ]
  },
  {
   "cell_type": "code",
   "execution_count": 20,
   "id": "84b3c023",
   "metadata": {},
   "outputs": [
    {
     "data": {
      "text/plain": [
       "defined \u001b[32mclass\u001b[39m \u001b[36mNestedWhens\u001b[39m"
      ]
     },
     "execution_count": 20,
     "metadata": {},
     "output_type": "execute_result"
    }
   ],
   "source": [
    "class NestedWhens() extends Module {\n",
    "    val io = IO(new Bundle {\n",
    "        val in = Input(UInt(3.W))\n",
    "        val out = Output(Bool())\n",
    "    })\n",
    "    io.out := false.B\n",
    "    when (io.in(0)) {\n",
    "        when (io.in(1)) {\n",
    "            when (io.in(2)) {\n",
    "                io.out := true.B\n",
    "            }\n",
    "        }\n",
    "    }\n",
    "}\n",
    "\n",
    "//printVerilog(new NestedWhens)"
   ]
  },
  {
   "cell_type": "code",
   "execution_count": 21,
   "id": "432362e0-8a60-4592-9120-7e980123703a",
   "metadata": {},
   "outputs": [
    {
     "name": "stdout",
     "output_type": "stream",
     "text": [
      "Elaborating design...\n",
      "Done elaborating.\n",
      "module NestedWhens(\n",
      "  input        clock,\n",
      "  input        reset,\n",
      "  input  [2:0] io_in,\n",
      "  output       io_out\n",
      ");\n",
      "  wire  _GEN_1 = io_in[1] & io_in[2]; // @[cmd19.sc 8:25 cmd19.sc 6:12]\n",
      "  assign io_out = io_in[0] & _GEN_1; // @[cmd19.sc 7:21 cmd19.sc 6:12]\n",
      "endmodule\n",
      "\n"
     ]
    }
   ],
   "source": [
    "//printVerilog(new NestedWhens)\n",
    "println (getVerilog(new NestedWhens))"
   ]
  },
  {
   "cell_type": "markdown",
   "id": "responsible-liberty",
   "metadata": {
    "slideshow": {
     "slide_type": "slide"
    }
   },
   "source": [
    "## Mutability, but When & Where?\n",
    "\n",
    "* _Mutability_ (e.g. `var` in Scala) impacts how your Scala program will behave\n",
    "  * Chisel tools mostly can't tell if you declare things with `val` or `var`\n",
    "  * Do not confuse mutability in Scala with hardware signal values varying in time\n",
    "* Example of implementing a counter\n",
    "    * **Incorrect** (`counter` (in elaborated hardware) will always be `0 + 1`)\n",
    "    ```scala\n",
    "    var counter = 0.U\n",
    "    counter = counter + 1.U\n",
    "    ```\n",
    "\n",
    "    * **Better** (will increment over time, but may need to worry about reset & bitwidth)\n",
    "    ```scala\n",
    "    val counter = Reg(UInt())\n",
    "    counter := counter + 1.U\n",
    "    ```"
   ]
  },
  {
   "cell_type": "markdown",
   "id": "impossible-conversation",
   "metadata": {
    "slideshow": {
     "slide_type": "slide"
    }
   },
   "source": [
    "## More Reason to Avoid `var`\n",
    "* Reassignments can do weird things to your Chisel design that make it hard to debug \n",
    "* Chisel tools can't outright stop use of `var`, but progress has been made in detection/warning\n",
    "  * ```Source has escaped the scope of the when in which it was constructed.```\n",
    "* We have now covered `map`,`reduce`, and others, so not much need"
   ]
  },
  {
   "cell_type": "code",
   "execution_count": 22,
   "id": "thorough-master",
   "metadata": {},
   "outputs": [
    {
     "data": {
      "text/plain": [
       "defined \u001b[32mclass\u001b[39m \u001b[36mDangerousVar\u001b[39m"
      ]
     },
     "execution_count": 22,
     "metadata": {},
     "output_type": "execute_result"
    }
   ],
   "source": [
    "class DangerousVar extends Module {\n",
    "    val io = IO(new Bundle {\n",
    "        val in = Input(SInt(8.W))\n",
    "        val out = Output(SInt(8.W))\n",
    "    })\n",
    "    var w = WireInit(io.in)\n",
    "    when (io.in < 0.S) {\n",
    "        w := 0.S   // what if typo: w = 0.S\n",
    "    }\n",
    "    io.out := w\n",
    "}\n",
    "\n",
    "//printVerilog(new DangerousVar)"
   ]
  },
  {
   "cell_type": "code",
   "execution_count": 23,
   "id": "1bcede95-e4b8-458d-b2eb-1a44737f9fc9",
   "metadata": {},
   "outputs": [
    {
     "name": "stdout",
     "output_type": "stream",
     "text": [
      "Elaborating design...\n",
      "Done elaborating.\n",
      "module DangerousVar(\n",
      "  input        clock,\n",
      "  input        reset,\n",
      "  input  [7:0] io_in,\n",
      "  output [7:0] io_out\n",
      ");\n",
      "  assign io_out = $signed(io_in) < 8'sh0 ? $signed(8'sh0) : $signed(io_in); // @[cmd21.sc 7:24 cmd21.sc 8:11]\n",
      "endmodule\n",
      "\n"
     ]
    }
   ],
   "source": [
    "//printVerilog(new DangerousVar)\n",
    "println (getVerilog(new DangerousVar))"
   ]
  },
  {
   "cell_type": "markdown",
   "id": "bridal-sector",
   "metadata": {
    "slideshow": {
     "slide_type": "slide"
    }
   },
   "source": [
    "## Use Mutable Collections Sparingly\n",
    "\n",
    "* We used them for HW3 because we hadn't covered functional programming yet\n",
    "* Now with functional programming, can often avoid the need\n",
    "  * If things are independent, can use `map`, `foreach` (for Chisel connections), or `.tabulate` (to populate a `Seq`)\n",
    "  * If some sort of loop-carried dependence, can use `foldLeft` or recursion\n",
    "* Example of incrementing all values\n",
    "    * **Gross**\n",
    "        ```scala\n",
    "        val a = ArrayBuffer.tabulate(5)(_.toInt)\n",
    "        for (i <- 0 until 5)\n",
    "          a(i) += 1\n",
    "        ```\n",
    "        * Uses mutation and iteration is a distraction\n",
    "    * **Better**\n",
    "        ```scala\n",
    "        val orig = Seq.tabulate(5)(_.toInt)\n",
    "        val incremented = orig.map{ _+1 }\n",
    "        ```\n",
    "        * No mutation or unnecessary iteration\n",
    "\n"
   ]
  },
  {
   "cell_type": "markdown",
   "id": "underlying-amazon",
   "metadata": {
    "slideshow": {
     "slide_type": "slide"
    }
   },
   "source": [
    "## Reduce Number of Special Cases\n",
    "\n",
    "* Saw some submissions which hardcoded cases for every parameter value anticipated\n",
    "  * Not scalable if number of parameter values is large\n",
    "* In general, look to reduce special cases in code\n",
    "  * Many constructs (e.g. `foldLeft`) work gracefully with 0 elements, so just need to handle _sufficiently general_ case\n",
    "  * If you do need to handle a special case, try to limit it to only one\n",
    "    * If you need more, see if you can't _generalize_"
   ]
  },
  {
   "cell_type": "markdown",
   "id": "phantom-addiction",
   "metadata": {
    "slideshow": {
     "slide_type": "slide"
    }
   },
   "source": [
    "## How Does `for` or `foreach` Interact with Chisel?\n",
    "\n",
    "* Both `for` and `foreach` impact Scala execution when constructing the Chisel design\n",
    "* Typically they are best used for creating arbitrary number of connections\n",
    "  * The benefit is the side effect of connection(s) being made\n",
    "  * If a result is the goal, then `map` is probably a better fit\n",
    "* Style wise typically prefer...\n",
    "  * `foreach` if collection/range already exists\n",
    "  * `for` if creating range or need index variable\n",
    "    * Yes, could use `.zipWithIndex` with `foreach`, but cumbersome\n",
    "  "
   ]
  },
  {
   "cell_type": "markdown",
   "id": "compliant-conference",
   "metadata": {
    "slideshow": {
     "slide_type": "slide"
    }
   },
   "source": [
    "## Avoid Unnecessary Extra Logic\n",
    "\n",
    "* Although CAD tools can often optimize away inefficient logic, still make modest effort\n",
    "  * Simpler logic can also be simpler to read/maintain\n",
    "* For working with 2D grids, we often saw `%` and `/` to pull out row & column indices from a single counter\n",
    "  * Consider using 2 counters (1 for row & 1 for column)\n",
    "  * `%` and `/` are quite expensive in hardware, so avoid if possible\n",
    "  * Also saw `*` for generating single index, but may also be avoidable\n",
    "* For accessing bits or moving bits, saw `<<` and `&` (with masks)\n",
    "  * Necessary in software, but not in Chisel\n",
    "  * Chisel has bit select `x(hi,lo)`, `tail` and `head` to select\n",
    "  * Chisel has `Cat` to put them together"
   ]
  },
  {
   "cell_type": "markdown",
   "id": "double-scoop",
   "metadata": {
    "slideshow": {
     "slide_type": "slide"
    }
   },
   "source": [
    "## Chisel Style - Avoid Declaring Significant HW inside `when`\n",
    "\n",
    "* Hardware declared inside a `when` block is always instantiated/exists\n",
    "  * The conditional aspects of `when` only control when connections to it are active (via muxes)\n",
    "  * By contrast, a declaration inside a Scala `if` may not be instantiated\n",
    "* Arguably, sometimes more clear to instantiate things outside to clarify intent"
   ]
  },
  {
   "cell_type": "code",
   "execution_count": 24,
   "id": "centered-configuration",
   "metadata": {},
   "outputs": [
    {
     "data": {
      "text/plain": [
       "defined \u001b[32mclass\u001b[39m \u001b[36mCounterWhenDemo\u001b[39m"
      ]
     },
     "execution_count": 24,
     "metadata": {},
     "output_type": "execute_result"
    }
   ],
   "source": [
    "class CounterWhenDemo extends Module {\n",
    "    val io = IO(new Bundle {\n",
    "        val en = Input(Bool())\n",
    "        val in = Input(UInt(8.W))\n",
    "        val out = Output(UInt(8.W))\n",
    "    })\n",
    "    io.out := 0.U\n",
    "    when (io.en) {\n",
    "        val (count, wrap) = Counter(0 until 4)\n",
    "        io.out := count\n",
    "    }\n",
    "}\n",
    "\n",
    "//printVerilog(new CounterWhenDemo)"
   ]
  },
  {
   "cell_type": "code",
   "execution_count": 25,
   "id": "c925d063-9c88-4180-9ea8-99b057414272",
   "metadata": {},
   "outputs": [
    {
     "name": "stdout",
     "output_type": "stream",
     "text": [
      "Elaborating design...\n",
      "Done elaborating.\n",
      "module CounterWhenDemo(\n",
      "  input        clock,\n",
      "  input        reset,\n",
      "  input        io_en,\n",
      "  input  [7:0] io_in,\n",
      "  output [7:0] io_out\n",
      ");\n",
      "`ifdef RANDOMIZE_REG_INIT\n",
      "  reg [31:0] _RAND_0;\n",
      "`endif // RANDOMIZE_REG_INIT\n",
      "  reg [1:0] value; // @[Counter.scala 60:40]\n",
      "  wire [1:0] _wrap_value_T_1 = value + 2'h1; // @[Counter.scala 76:24]\n",
      "  wire [1:0] _GEN_4 = io_en ? value : 2'h0; // @[cmd23.sc 8:18 cmd23.sc 10:16 cmd23.sc 7:12]\n",
      "  assign io_out = {{6'd0}, _GEN_4}; // @[cmd23.sc 8:18 cmd23.sc 10:16 cmd23.sc 7:12]\n",
      "  always @(posedge clock) begin\n",
      "    if (reset) begin // @[Counter.scala 60:40]\n",
      "      value <= 2'h0; // @[Counter.scala 60:40]\n",
      "    end else begin\n",
      "      value <= _wrap_value_T_1;\n",
      "    end\n",
      "  end\n",
      "// Register and memory initialization\n",
      "`ifdef RANDOMIZE_GARBAGE_ASSIGN\n",
      "`define RANDOMIZE\n",
      "`endif\n",
      "`ifdef RANDOMIZE_INVALID_ASSIGN\n",
      "`define RANDOMIZE\n",
      "`endif\n",
      "`ifdef RANDOMIZE_REG_INIT\n",
      "`define RANDOMIZE\n",
      "`endif\n",
      "`ifdef RANDOMIZE_MEM_INIT\n",
      "`define RANDOMIZE\n",
      "`endif\n",
      "`ifndef RANDOM\n",
      "`define RANDOM $random\n",
      "`endif\n",
      "`ifdef RANDOMIZE_MEM_INIT\n",
      "  integer initvar;\n",
      "`endif\n",
      "`ifndef SYNTHESIS\n",
      "`ifdef FIRRTL_BEFORE_INITIAL\n",
      "`FIRRTL_BEFORE_INITIAL\n",
      "`endif\n",
      "initial begin\n",
      "  `ifdef RANDOMIZE\n",
      "    `ifdef INIT_RANDOM\n",
      "      `INIT_RANDOM\n",
      "    `endif\n",
      "    `ifndef VERILATOR\n",
      "      `ifdef RANDOMIZE_DELAY\n",
      "        #`RANDOMIZE_DELAY begin end\n",
      "      `else\n",
      "        #0.002 begin end\n",
      "      `endif\n",
      "    `endif\n",
      "`ifdef RANDOMIZE_REG_INIT\n",
      "  _RAND_0 = {1{`RANDOM}};\n",
      "  value = _RAND_0[1:0];\n",
      "`endif // RANDOMIZE_REG_INIT\n",
      "  `endif // RANDOMIZE\n",
      "end // initial\n",
      "`ifdef FIRRTL_AFTER_INITIAL\n",
      "`FIRRTL_AFTER_INITIAL\n",
      "`endif\n",
      "`endif // SYNTHESIS\n",
      "endmodule\n",
      "\n"
     ]
    }
   ],
   "source": [
    "//printVerilog(new CounterWhenDemo)\n",
    "println (getVerilog(new CounterWhenDemo))"
   ]
  },
  {
   "cell_type": "markdown",
   "id": "amazing-injection",
   "metadata": {
    "slideshow": {
     "slide_type": "slide"
    }
   },
   "source": [
    "## Scala Style - Use either `until` or `to`\n",
    "\n",
    "* Scala provides both `until` (exclusive bounds) and `to` (inclusive bounds)\n",
    "  * Thus, usually shouldn't need to have `n-1` or `n+1` in a bound\n",
    "* Can convert `0 to n-1` to `0 until n`"
   ]
  },
  {
   "cell_type": "code",
   "execution_count": 26,
   "id": "novel-haven",
   "metadata": {},
   "outputs": [
    {
     "name": "stdout",
     "output_type": "stream",
     "text": [
      "0\n",
      "1\n",
      "2\n",
      "3\n"
     ]
    },
    {
     "data": {
      "text/plain": [
       "\u001b[36mn\u001b[39m: \u001b[32mInt\u001b[39m = \u001b[32m4\u001b[39m"
      ]
     },
     "execution_count": 26,
     "metadata": {},
     "output_type": "execute_result"
    }
   ],
   "source": [
    "val n = 4\n",
    "(0 until n) foreach println"
   ]
  },
  {
   "cell_type": "markdown",
   "id": "pharmaceutical-chamber",
   "metadata": {
    "slideshow": {
     "slide_type": "slide"
    }
   },
   "source": [
    "## When to use `require` vs `assert`?\n",
    "\n",
    "* Part of confusion is which `assert` (Chisel or Scala) gets called?\n",
    "* Chisel `assert` checks value in _simulation,_ but not during _construction_\n",
    "  * Emits non-synthesizable Verilog\n",
    "  * Chisel one is used when result is `Bool` (i.e. result of Chisel comparison)\n",
    "  * Can also customize assertion with failure message\n",
    "* Scala `assert` checks during _construction_ but not _simulation_\n",
    "  * Will be used if result is `Boolean` (i.e. result of Scala comparison)\n",
    "* Recommend using `require` instead of Scala `assert`\n",
    "  * Both `require` and `assert` built into Scala and evaluated at run time\n",
    "  * Stylistically, `require` is for checking input sanity while `assert` is for checking internal consistency\n",
    "    * Can also use flags to remove Scala `assert` (but not `require`) at compile time to reduce binary size"
   ]
  },
  {
   "cell_type": "markdown",
   "id": "random-planning",
   "metadata": {
    "slideshow": {
     "slide_type": "slide"
    }
   },
   "source": [
    "## Playing with Different Types of `assert`"
   ]
  },
  {
   "cell_type": "code",
   "execution_count": 27,
   "id": "phantom-ultimate",
   "metadata": {},
   "outputs": [
    {
     "data": {
      "text/plain": [
       "defined \u001b[32mclass\u001b[39m \u001b[36mCheckNonZero\u001b[39m"
      ]
     },
     "execution_count": 27,
     "metadata": {},
     "output_type": "execute_result"
    }
   ],
   "source": [
    "class CheckNonZero(width: Int) extends Module {\n",
    "    val io = IO(new Bundle {\n",
    "        val in = Input(UInt(width.W))\n",
    "        val out = Output(UInt(width.W))\n",
    "    })\n",
    "    require(width > 0)\n",
    "    assert(io.in > 0.U, \"saw >0 input\")\n",
    "    io.out := io.in\n",
    "}\n",
    "\n",
    "//printVerilog(new CheckNonZero(8))"
   ]
  },
  {
   "cell_type": "code",
   "execution_count": 28,
   "id": "db8d0a85-7097-4a79-bfc7-f49443b31600",
   "metadata": {},
   "outputs": [
    {
     "name": "stdout",
     "output_type": "stream",
     "text": [
      "Elaborating design...\n",
      "Done elaborating.\n",
      "module CheckNonZero(\n",
      "  input        clock,\n",
      "  input        reset,\n",
      "  input  [7:0] io_in,\n",
      "  output [7:0] io_out\n",
      ");\n",
      "  assign io_out = io_in; // @[cmd26.sc 8:12]\n",
      "  always @(posedge clock) begin\n",
      "    `ifndef SYNTHESIS\n",
      "    `ifdef PRINTF_COND\n",
      "      if (`PRINTF_COND) begin\n",
      "    `endif\n",
      "        if (~(io_in > 8'h0 | reset)) begin\n",
      "          $fwrite(32'h80000002,\n",
      "            \"Assertion failed: saw >0 input\\n    at cmd26.sc:7 assert(io.in > 0.U, \\\"saw >0 input\\\")\\n\"); // @[cmd26.sc 7:11]\n",
      "        end\n",
      "    `ifdef PRINTF_COND\n",
      "      end\n",
      "    `endif\n",
      "    `endif // SYNTHESIS\n",
      "    `ifndef SYNTHESIS\n",
      "    `ifdef STOP_COND\n",
      "      if (`STOP_COND) begin\n",
      "    `endif\n",
      "        if (~(io_in > 8'h0 | reset)) begin\n",
      "          $fatal; // @[cmd26.sc 7:11]\n",
      "        end\n",
      "    `ifdef STOP_COND\n",
      "      end\n",
      "    `endif\n",
      "    `endif // SYNTHESIS\n",
      "  end\n",
      "endmodule\n",
      "\n"
     ]
    }
   ],
   "source": [
    "//printVerilog(new CheckNonZero(8))\n",
    "println (getVerilog(new CheckNonZero(8)))"
   ]
  },
  {
   "cell_type": "markdown",
   "id": "50569b1a",
   "metadata": {
    "slideshow": {
     "slide_type": "slide"
    }
   },
   "source": [
    "## Common Question: What Should Go in a Module vs Function vs Class?\n",
    "\n",
    "* Do what makes it most clear to humans and easiest to reuse\n",
    "    * Other apects are all secondary\n",
    "* Defaulting to using just modules is just fine\n",
    "    * Class that is not also a module is probably not commonly needed\n",
    "* Things to consider what goes into an entity (module, function, etc...):\n",
    "    * Design for _reuse_\n",
    "    * Design for ease of _testing_ (with unit tests)\n",
    "    * Design to _pull complexity downwards_\n",
    "* Why ever not use a module?\n",
    "    * Sometimes simpler/easier to make a function than making a full module including IO\n",
    "    * Functions are easier to compose with a functional programming collective operation\n",
    "    * If many instances, sometimes easier to work with (tool run time, Verilog hierarchy, waveforms) if lowest-level entities disolved as functions instead of modules\n"
   ]
  },
  {
   "cell_type": "markdown",
   "id": "velvet-sailing",
   "metadata": {
    "slideshow": {
     "slide_type": "slide"
    }
   },
   "source": [
    "## \"Flattening\" & \"Unflattening\" Bundles\n",
    "\n",
    "* Chisel generates a separate memory for each field of a `Bundle` (or element of a `Vec`)\n",
    "  * This is usually what you want, so good default\n",
    "  * However, sometimes, you may want to keep them all as one memory\n",
    "* Can use `.getWidth` on a Bundle instance to see how many bits it is\n",
    "* Can use `.asTypeOf` to cast bits into desired Bundle (sometimes called _reverse concatenation_)"
   ]
  },
  {
   "cell_type": "code",
   "execution_count": 29,
   "id": "c6dcf353",
   "metadata": {},
   "outputs": [
    {
     "data": {
      "text/plain": [
       "defined \u001b[32mclass\u001b[39m \u001b[36mPair\u001b[39m\n",
       "defined \u001b[32mclass\u001b[39m \u001b[36mMemCohesion\u001b[39m"
      ]
     },
     "execution_count": 29,
     "metadata": {},
     "output_type": "execute_result"
    }
   ],
   "source": [
    "class Pair extends Bundle {\n",
    "    val a = UInt(1.W)\n",
    "    val b = UInt(7.W)\n",
    "}\n",
    "\n",
    "class MemCohesion extends Module {\n",
    "    val io = IO(new Bundle {\n",
    "        val addr = Input(UInt(8.W))\n",
    "        val out = Output(new Pair())\n",
    "    })\n",
    "    val m = Mem(256, new Pair)\n",
    "    io.out := m(io.addr)\n",
    "//     val m = Mem(256, UInt((new Pair).getWidth.W))\n",
    "//     io.out := m(io.addr).asTypeOf(new Pair)\n",
    "}\n",
    "\n",
    "//printVerilog(new MemCohesion)"
   ]
  },
  {
   "cell_type": "code",
   "execution_count": 30,
   "id": "28c2c281-a5d2-4375-9ba8-0150fecbdcc4",
   "metadata": {},
   "outputs": [
    {
     "name": "stdout",
     "output_type": "stream",
     "text": [
      "Elaborating design...\n",
      "Done elaborating.\n",
      "module MemCohesion(\n",
      "  input        clock,\n",
      "  input        reset,\n",
      "  input  [7:0] io_addr,\n",
      "  output       io_out_a,\n",
      "  output [6:0] io_out_b\n",
      ");\n",
      "`ifdef RANDOMIZE_MEM_INIT\n",
      "  reg [31:0] _RAND_0;\n",
      "  reg [31:0] _RAND_1;\n",
      "`endif // RANDOMIZE_MEM_INIT\n",
      "  reg  m_a [0:255]; // @[cmd28.sc 11:16]\n",
      "  wire  m_a_MPORT_data; // @[cmd28.sc 11:16]\n",
      "  wire [7:0] m_a_MPORT_addr; // @[cmd28.sc 11:16]\n",
      "  reg [6:0] m_b [0:255]; // @[cmd28.sc 11:16]\n",
      "  wire [6:0] m_b_MPORT_data; // @[cmd28.sc 11:16]\n",
      "  wire [7:0] m_b_MPORT_addr; // @[cmd28.sc 11:16]\n",
      "  assign m_a_MPORT_addr = io_addr;\n",
      "  assign m_a_MPORT_data = m_a[m_a_MPORT_addr]; // @[cmd28.sc 11:16]\n",
      "  assign m_b_MPORT_addr = io_addr;\n",
      "  assign m_b_MPORT_data = m_b[m_b_MPORT_addr]; // @[cmd28.sc 11:16]\n",
      "  assign io_out_a = m_a_MPORT_data; // @[cmd28.sc 12:12]\n",
      "  assign io_out_b = m_b_MPORT_data; // @[cmd28.sc 12:12]\n",
      "// Register and memory initialization\n",
      "`ifdef RANDOMIZE_GARBAGE_ASSIGN\n",
      "`define RANDOMIZE\n",
      "`endif\n",
      "`ifdef RANDOMIZE_INVALID_ASSIGN\n",
      "`define RANDOMIZE\n",
      "`endif\n",
      "`ifdef RANDOMIZE_REG_INIT\n",
      "`define RANDOMIZE\n",
      "`endif\n",
      "`ifdef RANDOMIZE_MEM_INIT\n",
      "`define RANDOMIZE\n",
      "`endif\n",
      "`ifndef RANDOM\n",
      "`define RANDOM $random\n",
      "`endif\n",
      "`ifdef RANDOMIZE_MEM_INIT\n",
      "  integer initvar;\n",
      "`endif\n",
      "`ifndef SYNTHESIS\n",
      "`ifdef FIRRTL_BEFORE_INITIAL\n",
      "`FIRRTL_BEFORE_INITIAL\n",
      "`endif\n",
      "initial begin\n",
      "  `ifdef RANDOMIZE\n",
      "    `ifdef INIT_RANDOM\n",
      "      `INIT_RANDOM\n",
      "    `endif\n",
      "    `ifndef VERILATOR\n",
      "      `ifdef RANDOMIZE_DELAY\n",
      "        #`RANDOMIZE_DELAY begin end\n",
      "      `else\n",
      "        #0.002 begin end\n",
      "      `endif\n",
      "    `endif\n",
      "`ifdef RANDOMIZE_MEM_INIT\n",
      "  _RAND_0 = {1{`RANDOM}};\n",
      "  for (initvar = 0; initvar < 256; initvar = initvar+1)\n",
      "    m_a[initvar] = _RAND_0[0:0];\n",
      "  _RAND_1 = {1{`RANDOM}};\n",
      "  for (initvar = 0; initvar < 256; initvar = initvar+1)\n",
      "    m_b[initvar] = _RAND_1[6:0];\n",
      "`endif // RANDOMIZE_MEM_INIT\n",
      "  `endif // RANDOMIZE\n",
      "end // initial\n",
      "`ifdef FIRRTL_AFTER_INITIAL\n",
      "`FIRRTL_AFTER_INITIAL\n",
      "`endif\n",
      "`endif // SYNTHESIS\n",
      "endmodule\n",
      "\n"
     ]
    }
   ],
   "source": [
    "//printVerilog(new MemCohesion)\n",
    "println (getVerilog(new MemCohesion))"
   ]
  }
 ],
 "metadata": {
  "celltoolbar": "Slideshow",
  "kernelspec": {
   "display_name": "Scala 2.12.11",
   "language": "scala",
   "name": "scala_2_12_11"
  },
  "language_info": {
   "codemirror_mode": "text/x-scala",
   "file_extension": ".scala",
   "mimetype": "text/x-scala",
   "name": "scala",
   "nbconvert_exporter": "script",
   "version": "2.12.11"
  }
 },
 "nbformat": 4,
 "nbformat_minor": 5
}
