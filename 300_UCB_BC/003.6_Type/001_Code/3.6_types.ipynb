{
 "cells": [
  {
   "attachments": {},
   "cell_type": "markdown",
   "metadata": {},
   "source": [
    "<a name=\"top\"></a><img src=\"images/chisel_1024.png\" alt=\"Chisel logo\" style=\"width:480px;\" />"
   ]
  },
  {
   "attachments": {},
   "cell_type": "markdown",
   "metadata": {},
   "source": [
    "# Module 3.6: Generators: Types\n",
    "**Prev: [Object Oriented Programming](3.5_object_oriented_programming.ipynb)**<br>\n",
    "**Next: [Introduction to FIRRTL](4.1_firrtl_ast.ipynb)**\n",
    "\n",
    "## Motivation\n",
    "Scala is a strongly-typed programming language.\n",
    "This is a two-edged sword; on one hand, many programs that would compile and execute in Python (a dynamically-typed language) would fail at compile time in Scala.\n",
    "On the other hand, programs that compile in Scala will contain many fewer runtime errors than a similar Python program.\n",
    "\n",
    "In this section, our goal is to familiarize you with types as a first class citizen in Scala.\n",
    "While initially you may feel you have limited productivity, you will soon learn to understand compile-time error messages and how to architect your programs with the type system in mind to catch more errors for you. \n",
    "\n",
    "\n",
    "## Setup"
   ]
  },
  {
   "cell_type": "code",
   "execution_count": 68,
   "metadata": {},
   "outputs": [
    {
     "data": {
      "text/plain": [
       "\u001b[36mpath\u001b[39m: \u001b[32mString\u001b[39m = \u001b[32m\"/home/peter/AIU/AIU_CS800_Chisel/300_UCB_BC/003.6_Type/001_Code/source/load-ivy.sc\"\u001b[39m"
      ]
     },
     "execution_count": 68,
     "metadata": {},
     "output_type": "execute_result"
    }
   ],
   "source": [
    "val path = System.getProperty(\"user.dir\") + \"/source/load-ivy.sc\"\n",
    "interp.load.module(ammonite.ops.Path(java.nio.file.FileSystems.getDefault().getPath(path)))"
   ]
  },
  {
   "cell_type": "code",
   "execution_count": 69,
   "metadata": {},
   "outputs": [
    {
     "data": {
      "text/plain": [
       "\u001b[32mimport \u001b[39m\u001b[36mchisel3._\n",
       "\u001b[39m\n",
       "\u001b[32mimport \u001b[39m\u001b[36mchisel3.util._\n",
       "\u001b[39m\n",
       "\u001b[32mimport \u001b[39m\u001b[36mchisel3.tester._\n",
       "\u001b[39m\n",
       "\u001b[32mimport \u001b[39m\u001b[36mchisel3.tester.RawTester.test\u001b[39m"
      ]
     },
     "execution_count": 69,
     "metadata": {},
     "output_type": "execute_result"
    }
   ],
   "source": [
    "import chisel3._\n",
    "import chisel3.util._\n",
    "import chisel3.tester._\n",
    "import chisel3.tester.RawTester.test"
   ]
  },
  {
   "attachments": {},
   "cell_type": "markdown",
   "metadata": {},
   "source": [
    "---\n",
    "# Static Types<a name=\"types-in-scala\"></a>\n",
    "\n",
    "## Types in Scala\n",
    "\n",
    "All objects in Scala have a type, which is usually the object's class.\n",
    "Let's see some:"
   ]
  },
  {
   "cell_type": "code",
   "execution_count": 70,
   "metadata": {},
   "outputs": [
    {
     "name": "stdout",
     "output_type": "stream",
     "text": [
      "int\n",
      "double\n",
      "class java.lang.String\n"
     ]
    }
   ],
   "source": [
    "println(10.getClass)\n",
    "println(10.0.getClass)\n",
    "println(\"ten\".getClass)"
   ]
  },
  {
   "attachments": {},
   "cell_type": "markdown",
   "metadata": {},
   "source": [
    "When you declare your own class, it has an associated type."
   ]
  },
  {
   "cell_type": "code",
   "execution_count": 71,
   "metadata": {},
   "outputs": [
    {
     "name": "stdout",
     "output_type": "stream",
     "text": [
      "class ammonite.$sess.cmd70$Helper$MyClass\n"
     ]
    },
    {
     "data": {
      "text/plain": [
       "defined \u001b[32mclass\u001b[39m \u001b[36mMyClass\u001b[39m"
      ]
     },
     "execution_count": 71,
     "metadata": {},
     "output_type": "execute_result"
    }
   ],
   "source": [
    "class MyClass {\n",
    "    def myMethod = ???\n",
    "}\n",
    "println(new MyClass().getClass)"
   ]
  },
  {
   "attachments": {},
   "cell_type": "markdown",
   "metadata": {},
   "source": [
    "While not required, it is HIGHLY recommended that you **define input and output types for all function declarations**.\n",
    "This will let the Scala compiler catch improper use of a function."
   ]
  },
  {
   "cell_type": "code",
   "execution_count": 72,
   "metadata": {},
   "outputs": [
    {
     "data": {
      "text/plain": [
       "defined \u001b[32mfunction\u001b[39m \u001b[36mdouble\u001b[39m"
      ]
     },
     "execution_count": 72,
     "metadata": {},
     "output_type": "execute_result"
    }
   ],
   "source": [
    "def double(s: String): String = s + s\n",
    "// Uncomment the code below to test it\n",
    "// double(\"hi\")      // Proper use of double\n",
    "// double(10)        // Bad input argument!\n",
    "// double(\"hi\") / 10 // Inproper use of double's output!"
   ]
  },
  {
   "attachments": {},
   "cell_type": "markdown",
   "metadata": {},
   "source": [
    "Functions that don't return anything return type `Unit`."
   ]
  },
  {
   "cell_type": "code",
   "execution_count": 73,
   "metadata": {},
   "outputs": [
    {
     "data": {
      "text/html": [
       "<div class=\"jp-RenderedText\">\n",
       "<pre><code><span style=\"color: rgb(0, 187, 187)\"><span class=\"ansi-cyan-fg\">counter</span></span>: <span style=\"color: rgb(0, 187, 0)\"><span class=\"ansi-green-fg\">Int</span></span> = <span style=\"color: rgb(0, 187, 0)\"><span class=\"ansi-green-fg\">1</span></span>\n",
       "defined <span style=\"color: rgb(0, 187, 0)\"><span class=\"ansi-green-fg\">function</span></span> <span style=\"color: rgb(0, 187, 187)\"><span class=\"ansi-cyan-fg\">increment</span></span></code></pre>\n",
       "</div>"
      ],
      "text/plain": [
       "\u001b[36mcounter\u001b[39m: \u001b[32mInt\u001b[39m = \u001b[32m1\u001b[39m\n",
       "defined \u001b[32mfunction\u001b[39m \u001b[36mincrement\u001b[39m"
      ]
     },
     "metadata": {},
     "output_type": "display_data"
    }
   ],
   "source": [
    "var counter = 0\n",
    "def increment(): Unit = {\n",
    "    counter += 1\n",
    "}\n",
    "increment()"
   ]
  },
  {
   "attachments": {},
   "cell_type": "markdown",
   "metadata": {
    "jp-MarkdownHeadingCollapsed": true
   },
   "source": [
    "## Scala vs. Chisel Types<a name=\"scala-vs-chisel-types\"></a>\n",
    "\n",
    "Recap: Module 2.2 discussed the difference between Chisel types and Scala types, for example the fact that\n",
    "```scala\n",
    "val a = Wire(UInt(4.W))\n",
    "a := 0.U\n",
    "```\n",
    "is legal because `0.U` is of type `UInt` (a Chisel type), whereas\n",
    "```scala\n",
    "val a = Wire(UInt(4.W))\n",
    "a := 0\n",
    "```\n",
    "is illegal because 0 is type `Int` (a Scala type).\n",
    "\n",
    "This is also true of `Bool`, a Chisel type which is distinct from `Boolean`.\n",
    "```scala\n",
    "val bool = Wire(Bool())\n",
    "val boolean: Boolean = false\n",
    "// legal\n",
    "when (bool) { ... }\n",
    "if (boolean) { ... }\n",
    "// illegal\n",
    "if (bool) { ... }\n",
    "when (boolean) { ... }\n",
    "```\n",
    "\n",
    "If you make a mistake and mix up `UInt` and `Int` or `Bool` and `Boolean`, the Scala compiler will generally catch it for you.\n",
    "This is because of Scala's static typing.\n",
    "At compile time, the compiler is able to distinguish between Chisel and Scala types and also able to understand that `if ()` expects a `Boolean` and `when ()` expects a `Bool`.\n"
   ]
  },
  {
   "attachments": {},
   "cell_type": "markdown",
   "metadata": {},
   "source": [
    "## Scala Type Coercion<a name=\"type-coercion\"></a>\n",
    "\n",
    "<!-- typeOf. Scala has a function called `typeOf[T]` which returns a type object for `T`. -->\n",
    "<!-- This doesn't actually seem useful to Chisel users... -->"
   ]
  },
  {
   "attachments": {},
   "cell_type": "markdown",
   "metadata": {
    "collapsed": true,
    "jupyter": {
     "outputs_hidden": true
    }
   },
   "source": [
    "### asInstanceOf\n",
    "\n",
    "`x.asInstanceOf[T]` casts the object `x` to the type `T`. It throws an exception if the given object cannot be cast to type `T`."
   ]
  },
  {
   "cell_type": "code",
   "execution_count": 74,
   "metadata": {},
   "outputs": [
    {
     "name": "stdout",
     "output_type": "stream",
     "text": [
      "As expected, we can't cast UInt to Int\n",
      "UInt<2>(3)\n"
     ]
    },
    {
     "data": {
      "text/plain": [
       "\u001b[36mx\u001b[39m: \u001b[32mUInt\u001b[39m = UInt<2>(3)"
      ]
     },
     "execution_count": 74,
     "metadata": {},
     "output_type": "execute_result"
    }
   ],
   "source": [
    "val x: UInt = 3.U\n",
    "try {\n",
    "  println(x.asInstanceOf[Int])\n",
    "} catch {\n",
    "  case e: java.lang.ClassCastException => println(\"As expected, we can't cast UInt to Int\")\n",
    "}\n",
    "\n",
    "// But we can cast UInt to Data since UInt inherits from Data.\n",
    "println(x.asInstanceOf[Data])"
   ]
  },
  {
   "attachments": {},
   "cell_type": "markdown",
   "metadata": {},
   "source": [
    "\n",
    "### Type Casting in Chisel\n",
    "\n",
    "The code below will give an error if you try to run it without removing the comment.\n",
    "What's the problem?\n",
    "It is trying to assign a `UInt` to an `SInt`, which is illegal.\n",
    "\n",
    "Chisel has a set of type casting functions.\n",
    "The most general is `asTypeOf()`, which is shown below.\n",
    "Some chisel objects also define `asUInt()` and `asSInt()` as well as some others.\n",
    "\n",
    "If you remove the `//` from the code block below, the example should work for you.\n"
   ]
  },
  {
   "cell_type": "code",
   "execution_count": 75,
   "metadata": {},
   "outputs": [
    {
     "name": "stdout",
     "output_type": "stream",
     "text": [
      "Elaborating design...\n",
      "Done elaborating.\n",
      "test TypeConvertDemo Success: 0 tests passed in 2 cycles in 0.001783 seconds 1121.71 Hz\n"
     ]
    },
    {
     "data": {
      "text/plain": [
       "defined \u001b[32mclass\u001b[39m \u001b[36mTypeConvertDemo\u001b[39m"
      ]
     },
     "execution_count": 75,
     "metadata": {},
     "output_type": "execute_result"
    }
   ],
   "source": [
    "class TypeConvertDemo extends Module {\n",
    "    val io = IO(new Bundle {\n",
    "        val in  = Input(UInt(4.W))\n",
    "        val out = Output(SInt(4.W))\n",
    "    })\n",
    "    // The code between /* ... */ does not working\n",
    "    /* io.out := io.in//.asTypeOf(io.out) */\n",
    "    io.out := io.in.asTypeOf(io.out)\n",
    "}\n",
    "\n",
    "test(new TypeConvertDemo) { c =>\n",
    "      c.io.in.poke(3.U)\n",
    "      c.io.out.expect(3.S)\n",
    "      c.io.in.poke(15.U)\n",
    "      c.io.out.expect(-1.S)\n",
    "}"
   ]
  },
  {
   "attachments": {},
   "cell_type": "markdown",
   "metadata": {},
   "source": [
    "---\n",
    "# Type Matching<a name=\"type-matching\"></a>\n",
    "\n",
    "## Match Operator\n",
    "Recall that in 3.1 the match operator was introduced.\n",
    "Type matching is especially useful when trying to write type-generic generators.\n",
    "The following example shows an example of a \"generator\" that can add two literals of type `UInt` or `SInt`.\n",
    "Later sections will talk more about writing type-generic generators.\n",
    "\n",
    "**Note: there are much better and safer ways to write type-generic generators in Scala**."
   ]
  },
  {
   "cell_type": "code",
   "execution_count": 76,
   "metadata": {},
   "outputs": [
    {
     "name": "stdout",
     "output_type": "stream",
     "text": [
      "Elaborating design...\n",
      "Done elaborating.\n",
      "module ConstantSum(\n",
      "  input        clock,\n",
      "  input        reset,\n",
      "  output [1:0] io_out\n",
      ");\n",
      "  assign io_out = 2'h3; // @[cmd75.sc 6:43]\n",
      "endmodule\n",
      "\n",
      "Elaborating design...\n",
      "Done elaborating.\n",
      "module ConstantSum(\n",
      "  input        clock,\n",
      "  input        reset,\n",
      "  output [2:0] io_out\n",
      ");\n",
      "  assign io_out = 3'sh1; // @[cmd75.sc 7:43]\n",
      "endmodule\n",
      "\n"
     ]
    },
    {
     "data": {
      "text/plain": [
       "defined \u001b[32mclass\u001b[39m \u001b[36mConstantSum\u001b[39m"
      ]
     },
     "execution_count": 76,
     "metadata": {},
     "output_type": "execute_result"
    }
   ],
   "source": [
    "// The last line of code is commented out to prevent error.\n",
    "class ConstantSum(in1: Data, in2: Data) extends Module {\n",
    "    val io = IO(new Bundle {\n",
    "        val out = Output(chiselTypeOf(in1)) // in case in1 is literal then just get its type\n",
    "    })\n",
    "    (in1, in2) match {\n",
    "        case (x: UInt, y: UInt) => io.out := x + y\n",
    "        case (x: SInt, y: SInt) => io.out := x + y\n",
    "        case _ => throw new Exception(\"I give up!\")\n",
    "    }\n",
    "}\n",
    "println(getVerilog(dut = new ConstantSum(3.U, 4.U)))\n",
    "println(getVerilog(dut = new ConstantSum(-3.S, 4.S)))\n",
    "// Below, we have to commented out to prevent error.\n",
    "/* println(getVerilog(dut = new ConstantSum(3.U, 4.S))) */"
   ]
  },
  {
   "attachments": {},
   "cell_type": "markdown",
   "metadata": {},
   "source": [
    "It is good to remember that Chisel types generally should not be value matched.\n",
    "Scala's match executes during circuit elaboration, but what you probably want is a post-elaboration comparison.\n",
    "The following gives a syntax error:"
   ]
  },
  {
   "cell_type": "code",
   "execution_count": 77,
   "metadata": {},
   "outputs": [
    {
     "name": "stdout",
     "output_type": "stream",
     "text": [
      "Elaborating design...\n",
      "Done elaborating.\n",
      "module InputIsZero(\n",
      "  input         clock,\n",
      "  input         reset,\n",
      "  input  [15:0] io_in,\n",
      "  output        io_out\n",
      ");\n",
      "  assign io_out = 1'h1; // @[cmd76.sc 6:12]\n",
      "endmodule\n",
      "\n"
     ]
    },
    {
     "data": {
      "text/plain": [
       "defined \u001b[32mclass\u001b[39m \u001b[36mInputIsZero\u001b[39m"
      ]
     },
     "execution_count": 77,
     "metadata": {},
     "output_type": "execute_result"
    }
   ],
   "source": [
    "// Below, we comment out /*  ...  */ and add new case type check.\n",
    "class InputIsZero extends Module {\n",
    "    val io = IO(new Bundle {\n",
    "        val in  = Input(UInt(16.W))\n",
    "        val out = Output(Bool())\n",
    "    })\n",
    "    io.out := (io.in match {\n",
    "        // note that case 0.U is an error\n",
    "        /* case (0.U) => true.B */\n",
    "        case io.in => true.B\n",
    "        case _   => false.B\n",
    "    })\n",
    "}\n",
    "println(getVerilog(new InputIsZero))"
   ]
  },
  {
   "attachments": {},
   "cell_type": "markdown",
   "metadata": {},
   "source": [
    "## Unapply\n",
    "What's actually going on when you do a match?\n",
    "How does Scala let you do fancy value matching with case classes like this:\n",
    "```scala\n",
    "case class Something(a: String, b: Int)\n",
    "val a = Something(\"A\", 3)\n",
    "a match {\n",
    "    case Something(\"A\", value) => value\n",
    "    case Something(str, 3)     => 0\n",
    "}\n",
    "```\n",
    "\n",
    "As it turns out, the companion object that is created for every case class also contains an **unapply** method, in addition to an **apply** method.\n",
    "What is an **unapply** method?\n",
    "\n",
    "Scala unapply methods are another form of syntactic sugar that give match statements the ability to both match on types and **extract values** from those types during the matching.\n",
    "\n",
    "Let's look at the following example.\n",
    "For some reason, let's say that if the generator is being pipelined, the delay is `3*totalWidth`, otherwise the delay is `2*someOtherWidth`.\n",
    "Because case classes have **unapply** defined, we can match values inside the case class, like so:"
   ]
  },
  {
   "cell_type": "code",
   "execution_count": 78,
   "metadata": {},
   "outputs": [
    {
     "name": "stdout",
     "output_type": "stream",
     "text": [
      "20\n",
      "60\n"
     ]
    },
    {
     "data": {
      "text/plain": [
       "defined \u001b[32mclass\u001b[39m \u001b[36mSomeGeneratorParameters\u001b[39m\n",
       "defined \u001b[32mfunction\u001b[39m \u001b[36mdelay\u001b[39m"
      ]
     },
     "execution_count": 78,
     "metadata": {},
     "output_type": "execute_result"
    }
   ],
   "source": [
    "case class SomeGeneratorParameters(\n",
    "    someWidth: Int,\n",
    "    someOtherWidth: Int = 10,\n",
    "    pipelineMe: Boolean = false\n",
    ") {\n",
    "    require(someWidth >= 0)\n",
    "    require(someOtherWidth >= 0)\n",
    "    val totalWidth = someWidth + someOtherWidth\n",
    "}\n",
    "\n",
    "def delay(p: SomeGeneratorParameters): Int = p match {\n",
    "    case SomeGeneratorParameters(_, sw, false) => sw * 2\n",
    "    case sg @SomeGeneratorParameters(_, _, true) => sg.totalWidth * 3\n",
    "}\n",
    "\n",
    "println(delay(SomeGeneratorParameters(10, 10)))\n",
    "println(delay(SomeGeneratorParameters(10, 10, true)))"
   ]
  },
  {
   "attachments": {},
   "cell_type": "markdown",
   "metadata": {},
   "source": [
    "If you look at the `delay` function, you should note that in addition to matching on the type of each character, we are also:\n",
    "- Directly referencing internal values of the parameters\n",
    "- Sometimes, are matching directly on the internal values of the parameters\n",
    "\n",
    "These are possible due to the compiler implementing an `unapply` method. Note that unapplying the case is just syntactic sugar; e.g. the following two cases examples are equivalent:\n",
    "```scala\n",
    "case p: SomeGeneratorParameters => p.sw * 2\n",
    "case SomeGeneratorParameters(_, sw, _) => sw * 2\n",
    "```\n",
    "\n",
    "In addition, there are more syntaxes and styles of matching. The following two cases are also equivalent, but the second allows you to match on internal values while still referencing the parent value:\n",
    "```scala\n",
    "case SomeGeneratorParameters(_, sw, true) => sw\n",
    "case sg @SomeGeneratorParameters(_, sw, true) => sw\n",
    "```\n",
    "\n",
    "Finally, you can directly embed condition checking into match statements, as demonstrated by the third of these equivalent examples:\n",
    "```scala\n",
    "case SomeGeneratorParameters(_, sw, false) => sw * 2\n",
    "case s @SomeGeneratorParameters(_, sw, false) => s.sw * 2\n",
    "case s: SomeGeneratorParameters if s.pipelineMe => s.sw * 2\n",
    "```\n",
    "\n",
    "All these syntaxes are enabled by a Scala unapply method contained in a class's companion object. If you want to unapply a class but do not want to make it a case class, you can manually implement the unapply method. The following example demonstrates how one can manually implement a class's apply and unapply methods:"
   ]
  },
  {
   "cell_type": "code",
   "execution_count": 79,
   "metadata": {},
   "outputs": [
    {
     "name": "stdout",
     "output_type": "stream",
     "text": [
      "Pinta and Nina are small boats!\n"
     ]
    },
    {
     "data": {
      "text/plain": [
       "defined \u001b[32mclass\u001b[39m \u001b[36mBoat\u001b[39m\n",
       "defined \u001b[32mobject\u001b[39m \u001b[36mBoat\u001b[39m\n",
       "defined \u001b[32mfunction\u001b[39m \u001b[36mgetSmallBoats\u001b[39m\n",
       "\u001b[36mboats\u001b[39m: \u001b[32mSeq\u001b[39m[\u001b[32mBoat\u001b[39m] = \u001b[33mList\u001b[39m(\n",
       "  ammonite.$sess.cmd78$Helper$Boat@7ed3ceb,\n",
       "  ammonite.$sess.cmd78$Helper$Boat@11b94faf,\n",
       "  ammonite.$sess.cmd78$Helper$Boat@462dfc21\n",
       ")"
      ]
     },
     "execution_count": 79,
     "metadata": {},
     "output_type": "execute_result"
    }
   ],
   "source": [
    "class Boat(val name: String, val length: Int)\n",
    "object Boat {\n",
    "    def unapply(b: Boat): Option[(String, Int)] = Some((b.name, b.length))\n",
    "    def apply(name: String, length: Int): Boat = new Boat(name, length)\n",
    "}\n",
    "\n",
    "def getSmallBoats(seq: Seq[Boat]): Seq[Boat] = seq.filter { b =>\n",
    "    b match {\n",
    "        case Boat(_, length) if length < 60 => true\n",
    "        case Boat(_, _) => false\n",
    "    }\n",
    "}\n",
    "\n",
    "val boats = Seq(Boat(\"Santa Maria\", 62), Boat(\"Pinta\", 56), Boat(\"Nina\", 50))\n",
    "println(getSmallBoats(boats).map(_.name).mkString(\" and \") + \" are small boats!\")"
   ]
  },
  {
   "attachments": {},
   "cell_type": "markdown",
   "metadata": {},
   "source": [
    "## Partial Functions\n",
    "This is a brief overview; [this guide](https://twitter.github.io/scala_school/pattern-matching-and-functional-composition.html#PartialFunction) has a more detailed overview.\n",
    "\n",
    "Partial functions are functions that are only defined on a subset of their inputs.\n",
    "Like an option, a partial function may not have a value for a particular input.\n",
    "This can be tested with `isDefinedAt(...)`.\n",
    "\n",
    "Partial functions can be chained together with `orElse`.\n",
    "\n",
    "Note that calling a `PartialFunction` with an undefined input will result in a runtime error. This can happen, for example, if the input to the `PartialFunction` is user-defined. To be more type-safe, we recommend writing functions that return an `Option` instead."
   ]
  },
  {
   "cell_type": "code",
   "execution_count": 80,
   "metadata": {},
   "outputs": [
    {
     "name": "stdout",
     "output_type": "stream",
     "text": [
      "partialFunc1.isDefinedAt(2) = true\n",
      "partialFunc1.isDefinedAt(5) = true\n",
      "partialFunc1.isDefinedAt(1) = false\n",
      "partialFunc1.isDefinedAt(0) = false\n",
      "partialFunc1(2) = Something\n",
      "partialFunc1(0) = can't apply PartialFunctions where they are not defined\n",
      "partialFunc2.isDefinedAt(1) = true\n",
      "partialFunc2.isDefinedAt(0) = false\n",
      "partialFunc2(1) = Something else\n",
      "partialFunc2(0) = can't apply PartialFunctions where they are not defined\n",
      "partialFunc3.isDefinedAt(0) = false\n",
      "partialFunc3.isDefinedAt(1) = true\n",
      "partialFunc3.isDefinedAt(2) = true\n",
      "partialFunc3.isDefinedAt(3) = false\n",
      "partialFunc3(1) = Something else\n",
      "partialFunc3(2) = Something\n"
     ]
    },
    {
     "data": {
      "text/plain": [
       "defined \u001b[32mfunction\u001b[39m \u001b[36mprintAndAssert\u001b[39m\n",
       "\u001b[36mpartialFunc1\u001b[39m: \u001b[32mPartialFunction\u001b[39m[\u001b[32mInt\u001b[39m, \u001b[32mString\u001b[39m] = <function1>\n",
       "\u001b[36mpartialFunc2\u001b[39m: \u001b[32mPartialFunction\u001b[39m[\u001b[32mInt\u001b[39m, \u001b[32mString\u001b[39m] = <function1>\n",
       "\u001b[36mpartialFunc3\u001b[39m: \u001b[32mPartialFunction\u001b[39m[\u001b[32mInt\u001b[39m, \u001b[32mString\u001b[39m] = <function1>"
      ]
     },
     "execution_count": 80,
     "metadata": {},
     "output_type": "execute_result"
    }
   ],
   "source": [
    "// Helper function to make this cell a bit less tedious.\n",
    "def printAndAssert(cmd: String, result: Boolean, expected: Boolean): Unit = {\n",
    "  println(s\"$cmd = $result\")\n",
    "  assert(result == expected)\n",
    "}\n",
    "\n",
    "// Defined for -1, 2, 5, etc.\n",
    "val partialFunc1: PartialFunction[Int, String] = {\n",
    "  case i if (i + 1) % 3 == 0 => \"Something\"\n",
    "}\n",
    "printAndAssert(\"partialFunc1.isDefinedAt(2)\", partialFunc1.isDefinedAt(2), true)\n",
    "printAndAssert(\"partialFunc1.isDefinedAt(5)\", partialFunc1.isDefinedAt(5), true)\n",
    "printAndAssert(\"partialFunc1.isDefinedAt(1)\", partialFunc1.isDefinedAt(1), false)\n",
    "printAndAssert(\"partialFunc1.isDefinedAt(0)\", partialFunc1.isDefinedAt(0), false)\n",
    "println(s\"partialFunc1(2) = ${partialFunc1(2)}\")\n",
    "try {\n",
    "  println(partialFunc1(0))\n",
    "} catch {\n",
    "  case e: scala.MatchError => println(\"partialFunc1(0) = can't apply PartialFunctions where they are not defined\")\n",
    "}\n",
    "\n",
    "// Defined for 1, 4, 7, etc.\n",
    "val partialFunc2: PartialFunction[Int, String] = {\n",
    "  case i if (i + 2) % 3 == 0 => \"Something else\"\n",
    "}\n",
    "printAndAssert(\"partialFunc2.isDefinedAt(1)\", partialFunc2.isDefinedAt(1), true)\n",
    "printAndAssert(\"partialFunc2.isDefinedAt(0)\", partialFunc2.isDefinedAt(0), false)\n",
    "println(s\"partialFunc2(1) = ${partialFunc2(1)}\")\n",
    "try {\n",
    "  println(partialFunc2(0))\n",
    "} catch {\n",
    "  case e: scala.MatchError => println(\"partialFunc2(0) = can't apply PartialFunctions where they are not defined\")\n",
    "}\n",
    "\n",
    "val partialFunc3 = partialFunc1 orElse partialFunc2\n",
    "printAndAssert(\"partialFunc3.isDefinedAt(0)\", partialFunc3.isDefinedAt(0), false)\n",
    "printAndAssert(\"partialFunc3.isDefinedAt(1)\", partialFunc3.isDefinedAt(1), true)\n",
    "printAndAssert(\"partialFunc3.isDefinedAt(2)\", partialFunc3.isDefinedAt(2), true)\n",
    "printAndAssert(\"partialFunc3.isDefinedAt(3)\", partialFunc3.isDefinedAt(3), false)\n",
    "println(s\"partialFunc3(1) = ${partialFunc3(1)}\")\n",
    "println(s\"partialFunc3(2) = ${partialFunc3(2)}\")"
   ]
  },
  {
   "attachments": {},
   "cell_type": "markdown",
   "metadata": {},
   "source": [
    "---\n",
    "# Type Safe Connections<a name=\"type-safe-connections\"></a>\n",
    "\n",
    "Chisel can check the type for many connections, including:\n",
    "* Bool/UInt to Clock\n",
    "\n",
    "For other types, Chisel will let you connect them, but may truncate/pad bits as appropriate.\n",
    "* Bool/UInt to Bool/UInt\n",
    "* Bundle to Bundle"
   ]
  },
  {
   "cell_type": "code",
   "execution_count": 81,
   "metadata": {},
   "outputs": [
    {
     "data": {
      "text/plain": [
       "defined \u001b[32mclass\u001b[39m \u001b[36mBundle1\u001b[39m\n",
       "defined \u001b[32mclass\u001b[39m \u001b[36mBundle2\u001b[39m\n",
       "defined \u001b[32mclass\u001b[39m \u001b[36mBadTypeModule\u001b[39m"
      ]
     },
     "execution_count": 81,
     "metadata": {},
     "output_type": "execute_result"
    }
   ],
   "source": [
    "class Bundle1 extends Bundle {\n",
    "  val a = UInt(8.W)\n",
    "}\n",
    "\n",
    "class Bundle2 extends Bundle1 {\n",
    "  val b = UInt(16.W)\n",
    "}\n",
    "\n",
    "class BadTypeModule extends Module {\n",
    "  val io = IO(new Bundle {\n",
    "    val c  = Input(Clock())\n",
    "    val in = Input(UInt(2.W))\n",
    "    val out = Output(Bool())\n",
    "\n",
    "    val bundleIn = Input(new Bundle2)\n",
    "    val bundleOut = Output(new Bundle1)\n",
    "  })\n",
    "  \n",
    "  //io.out := io.c // won't work due to different types\n",
    "\n",
    "  // Okay, but Chisel will truncate the input width to 1 to match the output.\n",
    "  //   io.out := io.in\n",
    "\n",
    "  // Compiles; Chisel will connect the common subelements of the two Bundles (in this case, 'a').\n",
    "  //io.bundleOut := io.bundleIn\n",
    "}\n",
    "\n",
    "//println(getVerilog(new BadTypeModule))"
   ]
  },
  {
   "attachments": {},
   "cell_type": "markdown",
   "metadata": {},
   "source": [
    "---\n",
    "# Type Generics<a name=\"type-generics\"></a>\n",
    "Scala's generic types (also known as polymorphism) is very complicated, especially when coupling it with inheritance.\n",
    "\n",
    "This section will just get your toes wet; to understand more, check out [this tutorial](https://twitter.github.io/scala_school/type-basics.html).\n",
    "\n",
    "Classes can be polymorphic in their types. One good example is sequences, which require knowing their contained type."
   ]
  },
  {
   "cell_type": "code",
   "execution_count": 82,
   "metadata": {},
   "outputs": [
    {
     "data": {
      "text/plain": [
       "\u001b[36mseq1\u001b[39m: \u001b[32mSeq\u001b[39m[\u001b[32mString\u001b[39m] = \u001b[33mList\u001b[39m(\u001b[32m\"1\"\u001b[39m, \u001b[32m\"2\"\u001b[39m, \u001b[32m\"3\"\u001b[39m)\n",
       "\u001b[36mseq2\u001b[39m: \u001b[32mSeq\u001b[39m[\u001b[32mInt\u001b[39m] = \u001b[33mList\u001b[39m(\u001b[32m1\u001b[39m, \u001b[32m2\u001b[39m, \u001b[32m3\u001b[39m)\n",
       "\u001b[36mseq3\u001b[39m: \u001b[32mSeq\u001b[39m[\u001b[32mAny\u001b[39m] = \u001b[33mList\u001b[39m(\u001b[32m1\u001b[39m, \u001b[32m\"2\"\u001b[39m, true)"
      ]
     },
     "execution_count": 82,
     "metadata": {},
     "output_type": "execute_result"
    }
   ],
   "source": [
    "val seq1 = Seq(\"1\", \"2\", \"3\") // Type is Seq[String]\n",
    "val seq2 = Seq(1, 2, 3)       // Type is Seq[Int]\n",
    "val seq3 = Seq(1, \"2\", true)  // Type is Seq[Any]"
   ]
  },
  {
   "attachments": {},
   "cell_type": "markdown",
   "metadata": {},
   "source": [
    "Sometimes, the Scala compiler needs help determining a polymorphic type, which requires the user to explicitly put the type:"
   ]
  },
  {
   "cell_type": "code",
   "execution_count": 83,
   "metadata": {},
   "outputs": [
    {
     "data": {
      "text/plain": [
       "\u001b[36mdefault\u001b[39m: \u001b[32mSeq\u001b[39m[\u001b[32mString\u001b[39m] = \u001b[33mList\u001b[39m()\n",
       "\u001b[36mres82_1\u001b[39m: \u001b[32mSeq\u001b[39m[\u001b[32mString\u001b[39m] = \u001b[33mList\u001b[39m(\u001b[32m\"2\"\u001b[39m)"
      ]
     },
     "execution_count": 83,
     "metadata": {},
     "output_type": "execute_result"
    }
   ],
   "source": [
    "//val default = Seq() // Error!\n",
    "val default = Seq[String]() // User must tell compiler that default is of type Seq[String]\n",
    "Seq(1, \"2\", true).foldLeft(default){ (strings, next) =>\n",
    "    next match {\n",
    "        case s: String => strings ++ Seq(s)\n",
    "        case _ => strings\n",
    "    }\n",
    "}"
   ]
  },
  {
   "attachments": {},
   "cell_type": "markdown",
   "metadata": {},
   "source": [
    "Functions can also be polymorphic in their input or output types. The following example defines a function that times how long it takes to run a block of code. It is parameterized based on the return type of the block of code. *Note that the `=> T` syntax encodes an anonymous function that does not have an argument list, e.g. `{ ... }` versus `{ x => ... }`.*"
   ]
  },
  {
   "cell_type": "code",
   "execution_count": 84,
   "metadata": {},
   "outputs": [
    {
     "name": "stdout",
     "output_type": "stream",
     "text": [
      "Block took 17.140355 milliseconds!\n",
      "Add 1 through a million is 1784293664\n",
      "Block took 79.388941 milliseconds!\n",
      "The largest number under a million that has beef: ebeef\n"
     ]
    },
    {
     "data": {
      "text/plain": [
       "defined \u001b[32mfunction\u001b[39m \u001b[36mtime\u001b[39m\n",
       "\u001b[36mint\u001b[39m: \u001b[32mInt\u001b[39m = \u001b[32m1784293664\u001b[39m\n",
       "\u001b[36mstring\u001b[39m: \u001b[32mString\u001b[39m = \u001b[32m\"ebeef\"\u001b[39m"
      ]
     },
     "execution_count": 84,
     "metadata": {},
     "output_type": "execute_result"
    }
   ],
   "source": [
    "def time[T](block: => T): T = {\n",
    "    val t0 = System.nanoTime()\n",
    "    val result = block\n",
    "    val t1 = System.nanoTime()\n",
    "    val timeMillis = (t1 - t0) / 1000000.0\n",
    "    println(s\"Block took $timeMillis milliseconds!\")\n",
    "    result\n",
    "}\n",
    "\n",
    "// Adds 1 through a million\n",
    "val int = time { (1 to 1000000).reduce(_ + _) }\n",
    "println(s\"Add 1 through a million is $int\")\n",
    "\n",
    "// Finds the largest number under a million that, in hex, contains \"beef\"\n",
    "val string = time {\n",
    "    (1 to 1000000).map(_.toHexString).filter(_.contains(\"beef\")).last\n",
    "}\n",
    "println(s\"The largest number under a million that has beef: $string\")"
   ]
  },
  {
   "attachments": {},
   "cell_type": "markdown",
   "metadata": {},
   "source": [
    "## Chisel Type Hierarchy\n",
    "To write type generic code with Chisel, it is helpful to know a bit about the type hierarchy of Chisel.\n",
    "\n",
    "`chisel3.Data` is the base class for Chisel hardware types.\n",
    "`UInt`, `SInt`, `Vec`, `Bundle`, etc. are all instances of `Data`.\n",
    "`Data` can be used in IOs and supports `:=`, wires, regs, etc.\n",
    "\n",
    "Registers are a good example of polymorphic code in Chisel.\n",
    "Look at the implementation of `RegEnable` (a register with a `Bool` enable signal) [here](https://github.com/freechipsproject/chisel3/blob/v3.0.0/src/main/scala/chisel3/util/Reg.scala#L10).\n",
    "The apply function is templated for `[T <: Data]`, which means `RegEnable` will work for all Chisel hardware types.\n",
    "\n",
    "Some operations are only defined on subtypes of `Bits`, for example `+`.\n",
    "This is why you can add `UInt`s or `SInt`s but not `Bundle`s or `Vec`s."
   ]
  },
  {
   "attachments": {},
   "cell_type": "markdown",
   "metadata": {},
   "source": [
    "<span style=\"color:blue\">**Example: Type Generic ShiftRegister**<a name=\"type-generic-shift-register\"></a></span><br>\n",
    "In Scala, objects and functions aren't the only things we can treat as parameters.\n",
    "We can also treat types as parameters.\n",
    "\n",
    "We usually need to provide a type constraint.\n",
    "In this case, we want to be able to put objects in a bundle, connect (:=) them, and create registers with them (RegNext).\n",
    "These operations cannot be done on arbitrary objects; for example wire := 3 is illegal because 3 is a Scala Int, not a Chisel UInt.\n",
    "If we use a type constraint to say that type T is a subclass of Data, then we can use := on any objects of type T because := is defined for all Data.\n",
    "\n",
    "Here is an implementation of a shift register that take types as a parameter.\n",
    "*gen* is an argument of type T that tells what width to use, for example new ShiftRegister(UInt(4.W)) is a shift register for 4-bit UInts.\n",
    "*gen* also allows the Scala compiler to infer the type T- you can write new ShiftRegister[UInt](UInt(4.W)) if you want to to be more specific, but the Scala compiler is smart enough to figure it out if you leave out the [UInt]."
   ]
  },
  {
   "cell_type": "code",
   "execution_count": 85,
   "metadata": {},
   "outputs": [
    {
     "data": {
      "text/html": [
       "<div width=\"100%\" height=\"100%\" overflow=\"scroll\"><?xml version=\"1.0\" encoding=\"UTF-8\" standalone=\"no\"?>\n",
       "<?xml-stylesheet href=\"styles.css\" type=\"text/css\"?>\n",
       "<!DOCTYPE svg PUBLIC \"-//W3C//DTD SVG 1.1//EN\"\n",
       " \"http://www.w3.org/Graphics/SVG/1.1/DTD/svg11.dtd\">\n",
       "<!-- Generated by graphviz version 2.43.0 (0)\n",
       " -->\n",
       "<!-- Title: ShiftRegister Pages: 1 -->\n",
       "<svg width=\"660pt\" height=\"207pt\"\n",
       " viewBox=\"0.00 0.00 660.00 207.00\" xmlns=\"http://www.w3.org/2000/svg\" xmlns:xlink=\"http://www.w3.org/1999/xlink\">\n",
       "<g id=\"graph0\" class=\"graph\" transform=\"scale(1 1) rotate(0) translate(4 203)\">\n",
       "<title>ShiftRegister</title>\n",
       "<polygon fill=\"white\" stroke=\"transparent\" points=\"-4,4 -4,-203 656,-203 656,4 -4,4\"/>\n",
       "<g id=\"clust1\" class=\"cluster\">\n",
       "<title>cluster_ShiftRegister</title>\n",
       "<polygon fill=\"#fff8dc\" stroke=\"black\" points=\"8,-8 8,-191 644,-191 644,-8 8,-8\"/>\n",
       "<text text-anchor=\"middle\" x=\"326\" y=\"-175.8\" font-family=\"Times,serif\" font-size=\"14.00\">ShiftRegister</text>\n",
       "</g>\n",
       "<!-- cluster_ShiftRegister_clock -->\n",
       "<g id=\"node1\" class=\"node\">\n",
       "<title>cluster_ShiftRegister_clock</title>\n",
       "<polygon fill=\"#cccccc\" stroke=\"black\" points=\"70,-160 16,-160 16,-124 70,-124 70,-160\"/>\n",
       "<text text-anchor=\"middle\" x=\"43\" y=\"-138.3\" font-family=\"Times,serif\" font-size=\"14.00\">clock</text>\n",
       "</g>\n",
       "<!-- cluster_ShiftRegister_reset -->\n",
       "<g id=\"node2\" class=\"node\">\n",
       "<title>cluster_ShiftRegister_reset</title>\n",
       "<polygon fill=\"#cccccc\" stroke=\"black\" points=\"70,-106 16,-106 16,-70 70,-70 70,-106\"/>\n",
       "<text text-anchor=\"middle\" x=\"43\" y=\"-84.3\" font-family=\"Times,serif\" font-size=\"14.00\">reset</text>\n",
       "</g>\n",
       "<!-- cluster_ShiftRegister_io_in -->\n",
       "<g id=\"node3\" class=\"node\">\n",
       "<title>cluster_ShiftRegister_io_in</title>\n",
       "<polygon fill=\"#cccccc\" stroke=\"black\" points=\"70,-52 16,-52 16,-16 70,-16 70,-52\"/>\n",
       "<text text-anchor=\"middle\" x=\"43\" y=\"-30.3\" font-family=\"Times,serif\" font-size=\"14.00\">io_in</text>\n",
       "</g>\n",
       "<!-- cluster_ShiftRegister_io_out_0 -->\n",
       "<g id=\"node4\" class=\"node\">\n",
       "<title>cluster_ShiftRegister_io_out_0</title>\n",
       "<polygon fill=\"#e0ffff\" stroke=\"black\" points=\"196,-52 121,-52 121,-16 196,-16 196,-52\"/>\n",
       "<text text-anchor=\"middle\" x=\"158.5\" y=\"-30.3\" font-family=\"Times,serif\" font-size=\"14.00\">io_out_0</text>\n",
       "</g>\n",
       "<!-- cluster_ShiftRegister_io_in&#45;&gt;cluster_ShiftRegister_io_out_0 -->\n",
       "<g id=\"edge3\" class=\"edge\">\n",
       "<title>cluster_ShiftRegister_io_in&#45;&gt;cluster_ShiftRegister_io_out_0</title>\n",
       "<path fill=\"none\" stroke=\"black\" d=\"M70.04,-34C82.03,-34 96.65,-34 110.47,-34\"/>\n",
       "<polygon fill=\"black\" stroke=\"black\" points=\"110.83,-37.5 120.83,-34 110.83,-30.5 110.83,-37.5\"/>\n",
       "</g>\n",
       "<!-- struct_cluster_ShiftRegister_REG -->\n",
       "<g id=\"node8\" class=\"node\">\n",
       "<title>struct_cluster_ShiftRegister_REG</title>\n",
       "<polygon fill=\"#ffe4b5\" stroke=\"transparent\" points=\"114,-75.5 114,-100.5 203,-100.5 203,-75.5 114,-75.5\"/>\n",
       "<polygon fill=\"none\" stroke=\"black\" points=\"114.5,-75 114.5,-100 137.5,-100 137.5,-75 114.5,-75\"/>\n",
       "<text text-anchor=\"start\" x=\"119.5\" y=\"-83.8\" font-family=\"Times,serif\" font-size=\"14.00\">●</text>\n",
       "<polygon fill=\"none\" stroke=\"black\" points=\"137.5,-75 137.5,-100 180.5,-100 180.5,-75 137.5,-75\"/>\n",
       "<text text-anchor=\"start\" x=\"142.5\" y=\"-83.8\" font-family=\"Times,serif\" font-size=\"14.00\">REG</text>\n",
       "<polygon fill=\"none\" stroke=\"black\" points=\"180.5,-75 180.5,-100 203.5,-100 203.5,-75 180.5,-75\"/>\n",
       "<text text-anchor=\"start\" x=\"185.5\" y=\"-83.8\" font-family=\"Times,serif\" font-size=\"14.00\">●</text>\n",
       "</g>\n",
       "<!-- cluster_ShiftRegister_io_in&#45;&gt;struct_cluster_ShiftRegister_REG -->\n",
       "<g id=\"edge2\" class=\"edge\">\n",
       "<title>cluster_ShiftRegister_io_in&#45;&gt;struct_cluster_ShiftRegister_REG:in</title>\n",
       "<path fill=\"none\" stroke=\"black\" d=\"M62.43,-52.24C74.92,-63.98 91.33,-78.12 103.61,-84.1\"/>\n",
       "<polygon fill=\"black\" stroke=\"black\" points=\"102.92,-87.55 113.5,-87 104.89,-80.83 102.92,-87.55\"/>\n",
       "</g>\n",
       "<!-- cluster_ShiftRegister_io_out_1 -->\n",
       "<g id=\"node5\" class=\"node\">\n",
       "<title>cluster_ShiftRegister_io_out_1</title>\n",
       "<polygon fill=\"#e0ffff\" stroke=\"black\" points=\"345,-52 270,-52 270,-16 345,-16 345,-52\"/>\n",
       "<text text-anchor=\"middle\" x=\"307.5\" y=\"-30.3\" font-family=\"Times,serif\" font-size=\"14.00\">io_out_1</text>\n",
       "</g>\n",
       "<!-- cluster_ShiftRegister_io_out_2 -->\n",
       "<g id=\"node6\" class=\"node\">\n",
       "<title>cluster_ShiftRegister_io_out_2</title>\n",
       "<polygon fill=\"#e0ffff\" stroke=\"black\" points=\"502,-78 427,-78 427,-42 502,-42 502,-78\"/>\n",
       "<text text-anchor=\"middle\" x=\"464.5\" y=\"-56.3\" font-family=\"Times,serif\" font-size=\"14.00\">io_out_2</text>\n",
       "</g>\n",
       "<!-- cluster_ShiftRegister_io_out_3 -->\n",
       "<g id=\"node7\" class=\"node\">\n",
       "<title>cluster_ShiftRegister_io_out_3</title>\n",
       "<polygon fill=\"#e0ffff\" stroke=\"black\" points=\"636,-131 561,-131 561,-95 636,-95 636,-131\"/>\n",
       "<text text-anchor=\"middle\" x=\"598.5\" y=\"-109.3\" font-family=\"Times,serif\" font-size=\"14.00\">io_out_3</text>\n",
       "</g>\n",
       "<!-- struct_cluster_ShiftRegister_REG&#45;&gt;cluster_ShiftRegister_io_out_1 -->\n",
       "<g id=\"edge6\" class=\"edge\">\n",
       "<title>struct_cluster_ShiftRegister_REG:out&#45;&gt;cluster_ShiftRegister_io_out_1</title>\n",
       "<path fill=\"none\" stroke=\"black\" d=\"M204.5,-87C226.64,-87 227.44,-71.37 247,-61 251.46,-58.64 256.16,-56.28 260.9,-54\"/>\n",
       "<polygon fill=\"black\" stroke=\"black\" points=\"262.42,-57.15 269.97,-49.72 259.43,-50.82 262.42,-57.15\"/>\n",
       "</g>\n",
       "<!-- struct_cluster_ShiftRegister_REG_1 -->\n",
       "<g id=\"node9\" class=\"node\">\n",
       "<title>struct_cluster_ShiftRegister_REG_1</title>\n",
       "<polygon fill=\"#ffe4b5\" stroke=\"transparent\" points=\"255,-75.5 255,-100.5 360,-100.5 360,-75.5 255,-75.5\"/>\n",
       "<polygon fill=\"none\" stroke=\"black\" points=\"255.5,-75 255.5,-100 278.5,-100 278.5,-75 255.5,-75\"/>\n",
       "<text text-anchor=\"start\" x=\"260.5\" y=\"-83.8\" font-family=\"Times,serif\" font-size=\"14.00\">●</text>\n",
       "<polygon fill=\"none\" stroke=\"black\" points=\"278.5,-75 278.5,-100 337.5,-100 337.5,-75 278.5,-75\"/>\n",
       "<text text-anchor=\"start\" x=\"283.5\" y=\"-83.8\" font-family=\"Times,serif\" font-size=\"14.00\">REG_1</text>\n",
       "<polygon fill=\"none\" stroke=\"black\" points=\"337.5,-75 337.5,-100 360.5,-100 360.5,-75 337.5,-75\"/>\n",
       "<text text-anchor=\"start\" x=\"342.5\" y=\"-83.8\" font-family=\"Times,serif\" font-size=\"14.00\">●</text>\n",
       "</g>\n",
       "<!-- struct_cluster_ShiftRegister_REG&#45;&gt;struct_cluster_ShiftRegister_REG_1 -->\n",
       "<g id=\"edge4\" class=\"edge\">\n",
       "<title>struct_cluster_ShiftRegister_REG:out&#45;&gt;struct_cluster_ShiftRegister_REG_1:in</title>\n",
       "<path fill=\"none\" stroke=\"black\" d=\"M204.5,-87C222.9,-87 229.88,-87 244.35,-87\"/>\n",
       "<polygon fill=\"black\" stroke=\"black\" points=\"244.5,-90.5 254.5,-87 244.5,-83.5 244.5,-90.5\"/>\n",
       "</g>\n",
       "<!-- struct_cluster_ShiftRegister_REG_1&#45;&gt;cluster_ShiftRegister_io_out_2 -->\n",
       "<g id=\"edge5\" class=\"edge\">\n",
       "<title>struct_cluster_ShiftRegister_REG_1:out&#45;&gt;cluster_ShiftRegister_io_out_2</title>\n",
       "<path fill=\"none\" stroke=\"black\" d=\"M361.5,-87C380.03,-87 399.84,-82.78 417.03,-77.69\"/>\n",
       "<polygon fill=\"black\" stroke=\"black\" points=\"418.32,-80.95 426.81,-74.61 416.22,-74.27 418.32,-80.95\"/>\n",
       "</g>\n",
       "<!-- struct_cluster_ShiftRegister_REG_2 -->\n",
       "<g id=\"node10\" class=\"node\">\n",
       "<title>struct_cluster_ShiftRegister_REG_2</title>\n",
       "<polygon fill=\"#ffe4b5\" stroke=\"transparent\" points=\"412,-101.5 412,-126.5 517,-126.5 517,-101.5 412,-101.5\"/>\n",
       "<polygon fill=\"none\" stroke=\"black\" points=\"412.5,-101 412.5,-126 435.5,-126 435.5,-101 412.5,-101\"/>\n",
       "<text text-anchor=\"start\" x=\"417.5\" y=\"-109.8\" font-family=\"Times,serif\" font-size=\"14.00\">●</text>\n",
       "<polygon fill=\"none\" stroke=\"black\" points=\"435.5,-101 435.5,-126 494.5,-126 494.5,-101 435.5,-101\"/>\n",
       "<text text-anchor=\"start\" x=\"440.5\" y=\"-109.8\" font-family=\"Times,serif\" font-size=\"14.00\">REG_2</text>\n",
       "<polygon fill=\"none\" stroke=\"black\" points=\"494.5,-101 494.5,-126 517.5,-126 517.5,-101 494.5,-101\"/>\n",
       "<text text-anchor=\"start\" x=\"499.5\" y=\"-109.8\" font-family=\"Times,serif\" font-size=\"14.00\">●</text>\n",
       "</g>\n",
       "<!-- struct_cluster_ShiftRegister_REG_1&#45;&gt;struct_cluster_ShiftRegister_REG_2 -->\n",
       "<g id=\"edge7\" class=\"edge\">\n",
       "<title>struct_cluster_ShiftRegister_REG_1:out&#45;&gt;struct_cluster_ShiftRegister_REG_2:in</title>\n",
       "<path fill=\"none\" stroke=\"black\" d=\"M361.5,-87C382.63,-87 385.87,-105.51 401.41,-111.29\"/>\n",
       "<polygon fill=\"black\" stroke=\"black\" points=\"401.06,-114.78 411.5,-113 402.22,-107.88 401.06,-114.78\"/>\n",
       "</g>\n",
       "<!-- struct_cluster_ShiftRegister_REG_2&#45;&gt;cluster_ShiftRegister_io_out_3 -->\n",
       "<g id=\"edge1\" class=\"edge\">\n",
       "<title>struct_cluster_ShiftRegister_REG_2:out&#45;&gt;cluster_ShiftRegister_io_out_3</title>\n",
       "<path fill=\"none\" stroke=\"black\" d=\"M518.5,-113C528.89,-113 540.05,-113 550.61,-113\"/>\n",
       "<polygon fill=\"black\" stroke=\"black\" points=\"550.92,-116.5 560.92,-113 550.92,-109.5 550.92,-116.5\"/>\n",
       "</g>\n",
       "</g>\n",
       "</svg>\n",
       "</div>"
      ]
     },
     "metadata": {},
     "output_type": "display_data"
    },
    {
     "name": "stdout",
     "output_type": "stream",
     "text": [
      "Elaborating design...\n",
      "Done elaborating.\n",
      "Testing ShiftRegister of type SInt<6>(IO io_in in ShiftRegister) and depth 4\n",
      "0: Vector(0, 0, 0, 0)\n",
      "1: Vector(1, 0, 0, 0)\n",
      "2: Vector(2, 1, 0, 0)\n",
      "3: Vector(3, 2, 1, 0)\n",
      "4: Vector(4, 3, 2, 1)\n",
      "5: Vector(5, 4, 3, 2)\n",
      "6: Vector(6, 5, 4, 3)\n",
      "7: Vector(7, 6, 5, 4)\n",
      "8: Vector(8, 7, 6, 5)\n",
      "9: Vector(9, 8, 7, 6)\n",
      "test ShiftRegister Success: 0 tests passed in 12 cycles in 0.029627 seconds 405.03 Hz\n"
     ]
    },
    {
     "data": {
      "text/plain": [
       "defined \u001b[32mclass\u001b[39m \u001b[36mShiftRegisterIO\u001b[39m\n",
       "defined \u001b[32mclass\u001b[39m \u001b[36mShiftRegister\u001b[39m"
      ]
     },
     "execution_count": 85,
     "metadata": {},
     "output_type": "execute_result"
    }
   ],
   "source": [
    "class ShiftRegisterIO[T <: Data](gen: T, n: Int) extends Bundle {\n",
    "    require (n >= 0, \"Shift register must have non-negative shift\")\n",
    "    \n",
    "    val in = Input(gen)\n",
    "    val out = Output(Vec(n + 1, gen)) // + 1 because in is included in out\n",
    "    override def cloneType: this.type = (new ShiftRegisterIO(gen, n)).asInstanceOf[this.type]\n",
    "}\n",
    "\n",
    "class ShiftRegister[T <: Data](gen: T, n: Int) extends Module {\n",
    "    val io = IO(new ShiftRegisterIO(gen, n))\n",
    "    \n",
    "    io.out.foldLeft(io.in) { case (in, out) =>\n",
    "        out := in\n",
    "        RegNext(in)\n",
    "    }\n",
    "}\n",
    "\n",
    "visualize(() => new ShiftRegister(SInt(6.W), 3))\n",
    "test(new ShiftRegister(SInt(6.W), 3)) { c => \n",
    "    println(s\"Testing ShiftRegister of type ${c.io.in} and depth ${c.io.out.length}\")\n",
    "    for (i <- 0 until 10) {\n",
    "        c.io.in.poke(i.S) // magic literal creation\n",
    "        println(s\"$i: ${c.io.out.indices.map { index => c.io.out(index).peek().litValue} }\")\n",
    "        c.clock.step(1)\n",
    "    }}"
   ]
  },
  {
   "attachments": {},
   "cell_type": "markdown",
   "metadata": {},
   "source": [
    "We generally recommend avoiding to use inheritance with type generics.\n",
    "It can be very tricky to do properly and can get frustrating quickly."
   ]
  },
  {
   "attachments": {},
   "cell_type": "markdown",
   "metadata": {},
   "source": [
    "## Type Generics with Typeclasses\n",
    "\n",
    "The example above was limited to simple operations that could be performed on any instance of `Data` such as `:=` or `RegNext()`.\n",
    "When generating DSP circuits, we would like to do mathematical operations like addition and multiplication.\n",
    "The `dsptools` library provides tools for writing type parameterized DSP generators.\n",
    "\n",
    "Here is an example of writing a multiply-accumulate module.\n",
    "It can be used to generate a multiply-accumulate (MAC) for `FixedPoint`, `SInt`, or even `DspComplex[T]` (the complex number type provided by `dsptools`).\n",
    "The syntax of the type bound is a little different because `dsptools` uses typeclasses.\n",
    "They are beyond the scope of this notebook.\n",
    "Read the `dsptools` readme and documentation for more information on using typeclasses.\n",
    "\n",
    "`T <: Data : Ring` means that `T` is a subtype of `Data` and is also a `Ring` .\n",
    "`Ring` is defined in `dsptools` as a number with `+` and `*` (among other operations).\n",
    "\n",
    "_An alternative to `Ring` would be `Real`, but that would not allow us to make a MAC for `DspComplex()` because complex numbers are not `Real`._\n",
    "\n"
   ]
  },
  {
   "cell_type": "code",
   "execution_count": 86,
   "metadata": {},
   "outputs": [
    {
     "name": "stdout",
     "output_type": "stream",
     "text": [
      "Elaborating design...\n",
      "Done elaborating.\n",
      "module Mac(\n",
      "  input        clock,\n",
      "  input        reset,\n",
      "  input  [3:0] io_a,\n",
      "  input  [3:0] io_b,\n",
      "  input  [3:0] io_c,\n",
      "  output [5:0] io_out\n",
      ");\n",
      "  wire [7:0] _T = io_a * io_b; // @[UIntTypeClass.scala 40:41]\n",
      "  wire [7:0] _GEN_0 = {{4'd0}, io_c}; // @[UIntTypeClass.scala 19:40]\n",
      "  wire [7:0] _T_2 = _T + _GEN_0; // @[UIntTypeClass.scala 19:40]\n",
      "  assign io_out = _T_2[5:0]; // @[cmd85.sc 11:12]\n",
      "endmodule\n",
      "\n",
      "Elaborating design...\n",
      "Done elaborating.\n",
      "module Mac(\n",
      "  input        clock,\n",
      "  input        reset,\n",
      "  input  [3:0] io_a,\n",
      "  input  [3:0] io_b,\n",
      "  input  [3:0] io_c,\n",
      "  output [5:0] io_out\n",
      ");\n",
      "  wire [7:0] _T = $signed(io_a) * $signed(io_b); // @[SIntTypeClass.scala 45:41]\n",
      "  wire [7:0] _GEN_0 = {{4{io_c[3]}},io_c}; // @[SIntTypeClass.scala 19:40]\n",
      "  wire [7:0] _T_3 = $signed(_T) + $signed(_GEN_0); // @[SIntTypeClass.scala 19:40]\n",
      "  assign io_out = _T_3[5:0]; // @[cmd85.sc 11:12]\n",
      "endmodule\n",
      "\n",
      "Elaborating design...\n",
      "Done elaborating.\n",
      "module Mac(\n",
      "  input        clock,\n",
      "  input        reset,\n",
      "  input  [3:0] io_a,\n",
      "  input  [3:0] io_b,\n",
      "  input  [3:0] io_c,\n",
      "  output [5:0] io_out\n",
      ");\n",
      "  wire [7:0] _T = $signed(io_a) * $signed(io_b); // @[FixedPointTypeClass.scala 43:59]\n",
      "  wire [6:0] _GEN_0 = {$signed(io_c), 3'h0}; // @[FixedPointTypeClass.scala 21:58]\n",
      "  wire [7:0] _GEN_1 = {{1{_GEN_0[6]}},_GEN_0}; // @[FixedPointTypeClass.scala 21:58]\n",
      "  wire [7:0] _T_3 = $signed(_T) + $signed(_GEN_1); // @[FixedPointTypeClass.scala 21:58]\n",
      "  assign io_out = _T_3[7:2]; // @[cmd85.sc 11:12]\n",
      "endmodule\n",
      "\n"
     ]
    },
    {
     "data": {
      "text/plain": [
       "\u001b[32mimport \u001b[39m\u001b[36mchisel3.experimental._\n",
       "\u001b[39m\n",
       "\u001b[32mimport \u001b[39m\u001b[36mdsptools.numbers._\n",
       "\n",
       "\u001b[39m\n",
       "defined \u001b[32mclass\u001b[39m \u001b[36mMac\u001b[39m"
      ]
     },
     "execution_count": 86,
     "metadata": {},
     "output_type": "execute_result"
    }
   ],
   "source": [
    "import chisel3.experimental._\n",
    "import dsptools.numbers._\n",
    "\n",
    "class Mac[T <: Data : Ring](genIn : T, genOut: T) extends Module {\n",
    "    val io = IO(new Bundle {\n",
    "        val a = Input(genIn)\n",
    "        val b = Input(genIn)\n",
    "        val c = Input(genIn)\n",
    "        val out = Output(genOut)\n",
    "    })\n",
    "    io.out := io.a * io.b + io.c\n",
    "}\n",
    "\n",
    "println(getVerilog(new Mac(UInt(4.W), UInt(6.W)) ))\n",
    "println(getVerilog(new Mac(SInt(4.W), SInt(6.W)) ))\n",
    "println(getVerilog(new Mac(FixedPoint(4.W, 3.BP), FixedPoint(6.W, 4.BP))))\n"
   ]
  },
  {
   "attachments": {},
   "cell_type": "markdown",
   "metadata": {},
   "source": [
    "<span style=\"color:red\">**Exercise: Mac as Object**</span><br>\n",
    "\n",
    "The Mac `Module` has a small number of inputs and just one output.\n",
    "It might be convenient for other Chisel generators to write code like\n",
    "```scala\n",
    "val out = Mac(a, b, c)\n",
    "```\n",
    "\n",
    "Implement an `apply` method in the `Mac` companion object below that implements the `Mac` functionality."
   ]
  },
  {
   "cell_type": "code",
   "execution_count": 86,
   "metadata": {},
   "outputs": [],
   "source": [
    "/*\n",
    "object Mac {\n",
    "    def apply[T <: Data : Ring](a: T, b: T, c: T): T = {\n",
    "        ??? // your code\n",
    "    }\n",
    "}\n",
    "\n",
    "class MacTestModule extends Module {\n",
    "    val io = IO(new Bundle {\n",
    "        val uin = Input(UInt(4.W))\n",
    "        val uout = Output(UInt())\n",
    "        val sin = Input(SInt(4.W))\n",
    "        val sout = Output(SInt())\n",
    "        //val fin = Input(FixedPoint(16.W, 12.BP))\n",
    "        //val fout = Output(FixedPoint())\n",
    "    })\n",
    "    // for each IO pair, do out = in * in + in\n",
    "    io.uout := Mac(io.uin, io.uin, io.uin)\n",
    "    io.sout := Mac(io.sin, io.sin, io.sin)\n",
    "    //io.fout := Mac(io.fin, io.fin, io.fin)\n",
    "}\n",
    "//println(getVerilog(new MacTestModule))\n",
    "*/"
   ]
  },
  {
   "attachments": {},
   "cell_type": "markdown",
   "metadata": {},
   "source": [
    "<div id=\"container\"><section id=\"accordion\"><div>\n",
    "<input type=\"checkbox\" id=\"check-1\" />\n",
    "<label for=\"check-1\"><strong>Solution</strong> (click to toggle displaying)</label>\n",
    "<article>\n",
    "<pre style=\"background-color:#f7f7f7\">\n",
    "\n",
    "        a * b + c\n",
    "\n",
    "</pre></article></div></section></div>"
   ]
  },
  {
   "cell_type": "code",
   "execution_count": 87,
   "metadata": {},
   "outputs": [
    {
     "name": "stdout",
     "output_type": "stream",
     "text": [
      "Elaborating design...\n",
      "Done elaborating.\n",
      "module MacTestModule(\n",
      "  input        clock,\n",
      "  input        reset,\n",
      "  input  [3:0] io_uin,\n",
      "  output [7:0] io_uout,\n",
      "  input  [3:0] io_sin,\n",
      "  output [7:0] io_sout\n",
      ");\n",
      "  wire [7:0] _T = io_uin * io_uin; // @[UIntTypeClass.scala 40:41]\n",
      "  wire [7:0] _GEN_0 = {{4'd0}, io_uin}; // @[UIntTypeClass.scala 19:40]\n",
      "  wire [7:0] _T_3 = $signed(io_sin) * $signed(io_sin); // @[SIntTypeClass.scala 45:41]\n",
      "  wire [7:0] _GEN_1 = {{4{io_sin[3]}},io_sin}; // @[SIntTypeClass.scala 19:40]\n",
      "  assign io_uout = _T + _GEN_0; // @[UIntTypeClass.scala 19:40]\n",
      "  assign io_sout = $signed(_T_3) + $signed(_GEN_1); // @[SIntTypeClass.scala 19:40]\n",
      "endmodule\n",
      "\n"
     ]
    },
    {
     "data": {
      "text/plain": [
       "defined \u001b[32mobject\u001b[39m \u001b[36mMac\u001b[39m\n",
       "defined \u001b[32mclass\u001b[39m \u001b[36mMacTestModule\u001b[39m"
      ]
     },
     "execution_count": 87,
     "metadata": {},
     "output_type": "execute_result"
    }
   ],
   "source": [
    "object Mac {\n",
    "    def apply[T <: Data : Ring](a: T, b: T, c: T): T = {\n",
    "        //??? // your code\n",
    "        a * b + c\n",
    "    }\n",
    "}\n",
    "\n",
    "class MacTestModule extends Module {\n",
    "    val io = IO(new Bundle {\n",
    "        val uin = Input(UInt(4.W))\n",
    "        val uout = Output(UInt())\n",
    "        val sin = Input(SInt(4.W))\n",
    "        val sout = Output(SInt())\n",
    "        //val fin = Input(FixedPoint(16.W, 12.BP))\n",
    "        //val fout = Output(FixedPoint())\n",
    "    })\n",
    "    // for each IO pair, do out = in * in + in\n",
    "    io.uout := Mac(io.uin, io.uin, io.uin)\n",
    "    io.sout := Mac(io.sin, io.sin, io.sin)\n",
    "    //io.fout := Mac(io.fin, io.fin, io.fin)\n",
    "}\n",
    "println(getVerilog(new MacTestModule))"
   ]
  },
  {
   "attachments": {},
   "cell_type": "markdown",
   "metadata": {},
   "source": [
    "<span style=\"color:red\">**Exercise: Integrator**</span><br>\n",
    "Implement an integrator as pictured below. $n_1$ is the width of `genReg` and $n_2$ is the width of `genIn`.\n",
    "\n",
    "Don't forget that `Reg`, `RegInit`, `RegNext`, `RegEnable`, etc. are templated for types `T <: Data`.\n",
    "\n",
    "<img src=\"images/integrator.svg\" alt=\"Integrator\" style=\"width: 250px;\"/>"
   ]
  },
  {
   "cell_type": "code",
   "execution_count": 87,
   "metadata": {},
   "outputs": [],
   "source": [
    "/*\n",
    "class Integrator[T <: Data : Ring](genIn: T, genReg: T) extends Module {\n",
    "    val io = IO(new Bundle {\n",
    "        val in  = Input(genIn)\n",
    "        val out = Output(genReg)\n",
    "    })\n",
    "    \n",
    "    ??? // your code\n",
    "}\n",
    "\n",
    "test(new Integrator(SInt(4.W), SInt(8.W))) { c =>\n",
    "    c.io.in.poke(3.S)\n",
    "    c.io.out.expect(0.S)\n",
    "    c.clock.step(1)\n",
    "    c.io.in.poke(-4.S)\n",
    "    c.io.out.expect(3.S)\n",
    "    c.clock.step(1)\n",
    "    c.io.in.poke(6.S)\n",
    "    c.io.out.expect(-1.S)\n",
    "    c.clock.step(1)\n",
    "    c.io.out.expect(5.S)\n",
    "}\n",
    "*/"
   ]
  },
  {
   "attachments": {},
   "cell_type": "markdown",
   "metadata": {},
   "source": [
    "<div id=\"container\"><section id=\"accordion\"><div>\n",
    "<input type=\"checkbox\" id=\"check-2\" />\n",
    "<label for=\"check-2\"><strong>Solution</strong> (click to toggle displaying)</label>\n",
    "<article>\n",
    "<pre style=\"background-color:#f7f7f7\">\n",
    "\n",
    "class Integrator\\[T <: Data : Ring\\](genIn: T, genReg: T) extends Module {\n",
    "    val io = IO(new Bundle {\n",
    "        val in  = Input(genIn.cloneType)\n",
    "        val out = Output(genReg.cloneType)\n",
    "    })\n",
    "    \n",
    "    val reg = RegInit(genReg, Ring[T].zero) // init to zero\n",
    "    reg := reg + io.in\n",
    "    io.out := reg\n",
    "}\n",
    "\n",
    "</pre></article></div></section></div>"
   ]
  },
  {
   "cell_type": "code",
   "execution_count": 88,
   "metadata": {},
   "outputs": [
    {
     "name": "stdout",
     "output_type": "stream",
     "text": [
      "Elaborating design...\n",
      "Done elaborating.\n",
      "test Integrator Success: 0 tests passed in 5 cycles in 0.002275 seconds 2198.01 Hz\n"
     ]
    },
    {
     "data": {
      "text/plain": [
       "defined \u001b[32mclass\u001b[39m \u001b[36mIntegrator\u001b[39m"
      ]
     },
     "execution_count": 88,
     "metadata": {},
     "output_type": "execute_result"
    }
   ],
   "source": [
    "class Integrator[T <: Data : Ring](genIn: T, genReg: T) extends Module {\n",
    "    val io = IO(new Bundle {\n",
    "        val in  = Input(genIn)\n",
    "        val out = Output(genReg)\n",
    "    })\n",
    "    \n",
    "    // ??? // your code\n",
    "    val reg = RegInit(genReg, Ring[T].zero) // init to zero\n",
    "    reg := reg + io.in\n",
    "    io.out := reg\n",
    "}\n",
    "\n",
    "test(new Integrator(SInt(4.W), SInt(8.W))) { c =>\n",
    "    c.io.in.poke(3.S)\n",
    "    c.io.out.expect(0.S)\n",
    "    c.clock.step(1)\n",
    "    c.io.in.poke(-4.S)\n",
    "    c.io.out.expect(3.S)\n",
    "    c.clock.step(1)\n",
    "    c.io.in.poke(6.S)\n",
    "    c.io.out.expect(-1.S)\n",
    "    c.clock.step(1)\n",
    "    c.io.out.expect(5.S)\n",
    "}"
   ]
  },
  {
   "attachments": {},
   "cell_type": "markdown",
   "metadata": {},
   "source": [
    "---\n",
    "# Creating a Custom Type<a name=\"creating-a-custom-type\"></a>\n",
    "\n",
    "One of the things that makes Chisel powerful is its extensibility.\n",
    "You can add your own types that have their own operations and representations that are tailored to your application.\n",
    "This section will introduce ways to make custom types."
   ]
  },
  {
   "attachments": {},
   "cell_type": "markdown",
   "metadata": {},
   "source": [
    "<span style=\"color:blue\">**Example: DspComplex**</span><br>\n",
    "`DspComplex` is a custom data type defined in **dsptools** [here](https://github.com/ucb-bar/dsptools/blob/v1.0.0/src/main/scala/dsptools/numbers/chisel_concrete/DspComplex.scala#L59).\n",
    "The key line to understand is this:\n",
    "```scala\n",
    "class DspComplex[T <: Data:Ring](val real: T, val imag: T) extends Bundle { ... }\n",
    "```\n",
    "\n",
    "`DspComplex` is a type-generic container.\n",
    "That means the real and imaginary parts of a complex number can be any type as long as they satisfy the type constraints, given by `T <: Data : Ring`.\n",
    "\n",
    "`T <: Data` means `T` is a subtype of `chisel3.Data`, the base type for Chisel objects.\n",
    "This means that `DspComplex` only works for objects that are Chisel types and not arbitrary Scala types.\n",
    "\n",
    "`T : Ring` means that a Ring typeclass implementation for `T` exists.\n",
    "`Ring` typeclasses define `+` and `*` operators as well as additive and multiplicative identities (see [this Wikipedia article](https://en.wikipedia.org/wiki/Ring_(mathematics)) for details about rings).\n",
    "**dsptools** defines typeclasses for commonly used Chisel types [here](https://github.com/ucb-bar/dsptools/tree/v1.0.0/src/main/scala/dsptools/numbers/chisel_types).\n",
    "\n",
    "**dsptools** also defines a `Ring` typeclass for `DspComplex`, so we can reuse our MAC generator with complex numbers:"
   ]
  },
  {
   "cell_type": "code",
   "execution_count": 89,
   "metadata": {},
   "outputs": [
    {
     "name": "stdout",
     "output_type": "stream",
     "text": [
      "Elaborating design...\n",
      "Done elaborating.\n",
      "module Mac(\n",
      "  input        clock,\n",
      "  input        reset,\n",
      "  input  [3:0] io_a_real,\n",
      "  input  [3:0] io_a_imag,\n",
      "  input  [3:0] io_b_real,\n",
      "  input  [3:0] io_b_imag,\n",
      "  input  [3:0] io_c_real,\n",
      "  input  [3:0] io_c_imag,\n",
      "  output [5:0] io_out_real,\n",
      "  output [5:0] io_out_imag\n",
      ");\n",
      "  wire [3:0] _T_2 = $signed(io_b_real) + $signed(io_b_imag); // @[SIntTypeClass.scala 19:40]\n",
      "  wire [3:0] _T_5 = $signed(io_a_real) + $signed(io_a_imag); // @[SIntTypeClass.scala 19:40]\n",
      "  wire [3:0] _T_8 = $signed(io_a_imag) - $signed(io_a_real); // @[SIntTypeClass.scala 29:50]\n",
      "  wire [7:0] _T_9 = $signed(io_a_real) * $signed(_T_2); // @[SIntTypeClass.scala 45:41]\n",
      "  wire [7:0] _T_10 = $signed(_T_5) * $signed(io_b_imag); // @[SIntTypeClass.scala 45:41]\n",
      "  wire [7:0] _T_11 = $signed(_T_8) * $signed(io_b_real); // @[SIntTypeClass.scala 45:41]\n",
      "  wire [7:0] _T_14 = $signed(_T_9) - $signed(_T_10); // @[SIntTypeClass.scala 29:50]\n",
      "  wire [7:0] _T_17 = $signed(_T_9) + $signed(_T_11); // @[SIntTypeClass.scala 19:40]\n",
      "  wire [7:0] _GEN_0 = {{4{io_c_real[3]}},io_c_real}; // @[SIntTypeClass.scala 19:40]\n",
      "  wire [7:0] _T_20 = $signed(_T_14) + $signed(_GEN_0); // @[SIntTypeClass.scala 19:40]\n",
      "  wire [7:0] _GEN_1 = {{4{io_c_imag[3]}},io_c_imag}; // @[SIntTypeClass.scala 19:40]\n",
      "  wire [7:0] _T_23 = $signed(_T_17) + $signed(_GEN_1); // @[SIntTypeClass.scala 19:40]\n",
      "  assign io_out_real = _T_20[5:0]; // @[cmd85.sc 11:12]\n",
      "  assign io_out_imag = _T_23[5:0]; // @[cmd85.sc 11:12]\n",
      "endmodule\n",
      "\n"
     ]
    }
   ],
   "source": [
    "println(getVerilog(new Mac(DspComplex(SInt(4.W), SInt(4.W)), DspComplex(SInt(6.W), SInt(6.W))) ))"
   ]
  },
  {
   "attachments": {},
   "cell_type": "markdown",
   "metadata": {},
   "source": [
    "<span style=\"color:red\">**Exercise: Sign-magnitude Numbers**</span><br>\n",
    "Suppose you wanted to use a sign-magnitude representation and want to reuse all of your DSP generators.\n",
    "Typeclasses enable this kind of ad-hoc polymorphism.\n",
    "The following example gives the beggining of an implementation of a SignMagnitude type as well as an implementation of a `Ring` typeclass that will allow the type to be used with the Mac generator.\n",
    "\n",
    "Fill in implementations for `+` and `*`.\n",
    "You should pattern them after the implementation for `unary_-()`.\n",
    "The next block contains a test that checks the correctness of a `Mac` that uses `SignMagnitude`."
   ]
  },
  {
   "cell_type": "code",
   "execution_count": 89,
   "metadata": {},
   "outputs": [],
   "source": [
    "/*\n",
    "class SignMagnitude(val magnitudeWidth: Option[Int] = None) extends Bundle {\n",
    "    val sign = Bool()\n",
    "    val magnitude = magnitudeWidth match {\n",
    "        case Some(w) => UInt(w.W)\n",
    "        case None    => UInt()\n",
    "    }\n",
    "    def +(that: SignMagnitude): SignMagnitude = {\n",
    "        // Implement this!\n",
    "    }\n",
    "    def -(that: SignMagnitude): SignMagnitude = {\n",
    "        this.+(-that)\n",
    "    }\n",
    "    def unary_-(): SignMagnitude = {\n",
    "        val result = Wire(new SignMagnitude())\n",
    "        result.sign := !this.sign\n",
    "        result.magnitude := this.magnitude\n",
    "        result\n",
    "    }\n",
    "    def *(that: SignMagnitude): SignMagnitude = {\n",
    "        // Implement this!\n",
    "    }\n",
    "}\n",
    "trait SignMagnitudeRing extends Ring[SignMagnitude] {\n",
    "    def plus(f: SignMagnitude, g: SignMagnitude): SignMagnitude = {\n",
    "        f + g\n",
    "    }\n",
    "    def times(f: SignMagnitude, g: SignMagnitude): SignMagnitude = {\n",
    "        f * g\n",
    "    }\n",
    "    def one: SignMagnitude = {\n",
    "        val one = Wire(new SignMagnitude(Some(1)))\n",
    "        one.sign := false.B\n",
    "        one.magnitude := 1.U\n",
    "        one\n",
    "    }\n",
    "    def zero: SignMagnitude = {\n",
    "        val zero = Wire(new SignMagnitude(Some(0)))\n",
    "        zero.sign := false.B\n",
    "        zero.magnitude := 0.U\n",
    "        zero\n",
    "    }\n",
    "    def negate(f: SignMagnitude): SignMagnitude = {\n",
    "        -f\n",
    "    }\n",
    "    \n",
    "    // Leave unimplemented for this example\n",
    "    def minusContext(f: SignMagnitude, g: SignMagnitude): SignMagnitude = ???\n",
    "    def negateContext(f: SignMagnitude): SignMagnitude = ???\n",
    "    def plusContext(f: SignMagnitude,g: SignMagnitude): SignMagnitude = ???\n",
    "    def timesContext(f: SignMagnitude,g: SignMagnitude): SignMagnitude = ???\n",
    "}\n",
    "implicit object SignMagnitudeRingImpl extends SignMagnitudeRing\n",
    "*/"
   ]
  },
  {
   "cell_type": "code",
   "execution_count": 97,
   "metadata": {},
   "outputs": [
    {
     "data": {
      "text/plain": [
       "defined \u001b[32mclass\u001b[39m \u001b[36mSignMagnitude\u001b[39m\n",
       "defined \u001b[32mtrait\u001b[39m \u001b[36mSignMagnitudeRing\u001b[39m\n",
       "defined \u001b[32mobject\u001b[39m \u001b[36mSignMagnitudeRingImpl\u001b[39m"
      ]
     },
     "execution_count": 97,
     "metadata": {},
     "output_type": "execute_result"
    }
   ],
   "source": [
    "// Implement as below.\n",
    "class SignMagnitude(val magnitudeWidth: Option[Int] = None) extends Bundle {\n",
    "    val sign = Bool()\n",
    "    val magnitude = magnitudeWidth match {\n",
    "        case Some(w) => UInt(w.W)\n",
    "        case None    => UInt()\n",
    "    }\n",
    "    /*\n",
    "    def +(that: SignMagnitude): SignMagnitude = {\n",
    "        // Implement this!\n",
    "    }\n",
    "    */\n",
    "    def +(that: SignMagnitude): SignMagnitude = {\n",
    "      // Implement this!\n",
    "      val result = Wire(new SignMagnitude())\n",
    "      val signsTheSame = this.sign === that.sign\n",
    "      when (signsTheSame) {\n",
    "        result.sign      := this.sign\n",
    "        result.magnitude := this.magnitude + that.magnitude\n",
    "      } .otherwise {\n",
    "        when (this.magnitude > that.magnitude) {\n",
    "          result.sign      := this.sign\n",
    "          result.magnitude := this.magnitude - that.magnitude\n",
    "        } .otherwise {\n",
    "          result.sign      := that.sign\n",
    "          result.magnitude := that.magnitude - this.magnitude\n",
    "        }   \n",
    "      }   \n",
    "      result\n",
    "    }\n",
    "    def -(that: SignMagnitude): SignMagnitude = {\n",
    "        this.+(-that)\n",
    "    }\n",
    "    def unary_-(): SignMagnitude = {\n",
    "        val result = Wire(new SignMagnitude())\n",
    "        result.sign := !this.sign\n",
    "        result.magnitude := this.magnitude\n",
    "        result\n",
    "    }\n",
    "    /*\n",
    "    def *(that: SignMagnitude): SignMagnitude = {\n",
    "        // Implement this!\n",
    "    }\n",
    "    */\n",
    "    def *(that: SignMagnitude): SignMagnitude = {\n",
    "        val result = Wire(new SignMagnitude())\n",
    "        result.sign := this.sign ^ that.sign\n",
    "        result.magnitude := this.magnitude * that.magnitude\n",
    "        result\n",
    "    }\n",
    "}\n",
    "trait SignMagnitudeRing extends Ring[SignMagnitude] {\n",
    "    def plus(f: SignMagnitude, g: SignMagnitude): SignMagnitude = {\n",
    "        f + g\n",
    "    }\n",
    "    def times(f: SignMagnitude, g: SignMagnitude): SignMagnitude = {\n",
    "        f * g\n",
    "    }\n",
    "    def one: SignMagnitude = {\n",
    "        val one = Wire(new SignMagnitude(Some(1)))\n",
    "        one.sign := false.B\n",
    "        one.magnitude := 1.U\n",
    "        one\n",
    "    }\n",
    "    def zero: SignMagnitude = {\n",
    "        val zero = Wire(new SignMagnitude(Some(0)))\n",
    "        zero.sign := false.B\n",
    "        zero.magnitude := 0.U\n",
    "        zero\n",
    "    }\n",
    "    def negate(f: SignMagnitude): SignMagnitude = {\n",
    "        -f\n",
    "    }\n",
    "    \n",
    "    // Leave unimplemented for this example\n",
    "    def minusContext(f: SignMagnitude, g: SignMagnitude): SignMagnitude = ???\n",
    "    def negateContext(f: SignMagnitude): SignMagnitude = ???\n",
    "    def plusContext(f: SignMagnitude,g: SignMagnitude): SignMagnitude = ???\n",
    "    def timesContext(f: SignMagnitude,g: SignMagnitude): SignMagnitude = ???\n",
    "}\n",
    "implicit object SignMagnitudeRingImpl extends SignMagnitudeRing"
   ]
  },
  {
   "cell_type": "code",
   "execution_count": 91,
   "metadata": {},
   "outputs": [
    {
     "name": "stdout",
     "output_type": "stream",
     "text": [
      "Elaborating design...\n",
      "Done elaborating.\n",
      "test Mac Success: 0 tests passed in 2 cycles in 0.010939 seconds 182.84 Hz\n",
      "SUCCESS!!\n"
     ]
    },
    {
     "data": {
      "text/plain": [
       "\u001b[32mimport \u001b[39m\u001b[36mchisel3.experimental.BundleLiterals._\n",
       "\n",
       "\u001b[39m"
      ]
     },
     "execution_count": 91,
     "metadata": {},
     "output_type": "execute_result"
    }
   ],
   "source": [
    "import chisel3.experimental.BundleLiterals._\n",
    "\n",
    "test(new Mac(new SignMagnitude(Some(4)), new SignMagnitude(Some(5)))) { c =>\n",
    "    c.io.a.poke(chiselTypeOf(c.io.a).Lit(_.sign -> false.B, _.magnitude -> 3.U))\n",
    "    c.io.b.poke(chiselTypeOf(c.io.b).Lit(_.sign -> false.B, _.magnitude -> 3.U))\n",
    "    c.io.c.poke(chiselTypeOf(c.io.c).Lit(_.sign -> false.B, _.magnitude -> 2.U))\n",
    "    c.io.out.expect(chiselTypeOf(c.io.out).Lit(_.sign -> false.B, _.magnitude -> 11.U))\n",
    "\n",
    "    c.io.c.sign.poke(true.B)\n",
    "    c.io.out.expect(chiselTypeOf(c.io.out).Lit(_.sign -> false.B, _.magnitude -> 7.U))\n",
    "\n",
    "    c.io.b.sign.poke(true.B)\n",
    "    c.io.out.expect(chiselTypeOf(c.io.out).Lit(_.sign -> true.B, _.magnitude -> 11.U))\n",
    "}\n",
    "println(\"SUCCESS!!\") // Scala Code: if we get here, our tests passed!"
   ]
  },
  {
   "attachments": {},
   "cell_type": "markdown",
   "metadata": {},
   "source": [
    "Look at the verilog to see if the output looks reasonable:"
   ]
  },
  {
   "cell_type": "code",
   "execution_count": 92,
   "metadata": {},
   "outputs": [
    {
     "name": "stdout",
     "output_type": "stream",
     "text": [
      "Elaborating design...\n",
      "Done elaborating.\n",
      "module Mac(\n",
      "  input        clock,\n",
      "  input        reset,\n",
      "  input        io_a_sign,\n",
      "  input  [3:0] io_a_magnitude,\n",
      "  input        io_b_sign,\n",
      "  input  [3:0] io_b_magnitude,\n",
      "  input        io_c_sign,\n",
      "  input  [3:0] io_c_magnitude,\n",
      "  output       io_out_sign,\n",
      "  output [4:0] io_out_magnitude\n",
      ");\n",
      "  wire  _T = io_a_sign ^ io_b_sign; // @[cmd89.sc 46:34]\n",
      "  wire [7:0] _T_1 = io_a_magnitude * io_b_magnitude; // @[cmd89.sc 47:44]\n",
      "  wire  _T_2 = _T == io_c_sign; // @[cmd89.sc 15:36]\n",
      "  wire [7:0] _GEN_4 = {{4'd0}, io_c_magnitude}; // @[cmd89.sc 18:44]\n",
      "  wire [7:0] _T_4 = _T_1 + _GEN_4; // @[cmd89.sc 18:44]\n",
      "  wire [7:0] _T_7 = _T_1 - _GEN_4; // @[cmd89.sc 22:46]\n",
      "  wire [7:0] _T_9 = _GEN_4 - _T_1; // @[cmd89.sc 25:46]\n",
      "  wire  _GEN_0 = _T_1 > _GEN_4 ? _T : io_c_sign; // @[cmd89.sc 20:48 cmd89.sc 21:28 cmd89.sc 24:28]\n",
      "  wire [7:0] _GEN_1 = _T_1 > _GEN_4 ? _T_7 : _T_9; // @[cmd89.sc 20:48 cmd89.sc 22:28 cmd89.sc 25:28]\n",
      "  wire [7:0] _GEN_3 = _T_2 ? _T_4 : _GEN_1; // @[cmd89.sc 16:27 cmd89.sc 18:26]\n",
      "  assign io_out_sign = _T_2 ? _T : _GEN_0; // @[cmd89.sc 16:27 cmd89.sc 17:26]\n",
      "  assign io_out_magnitude = _GEN_3[4:0]; // @[cmd85.sc 11:12]\n",
      "endmodule\n",
      "\n"
     ]
    }
   ],
   "source": [
    "println(getVerilog(new Mac(new SignMagnitude(Some(4)), new SignMagnitude(Some(5)))))"
   ]
  },
  {
   "attachments": {},
   "cell_type": "markdown",
   "metadata": {},
   "source": [
    "`SignMagnitude` even works with `DspComplex`!"
   ]
  },
  {
   "cell_type": "code",
   "execution_count": 93,
   "metadata": {},
   "outputs": [
    {
     "name": "stdout",
     "output_type": "stream",
     "text": [
      "Elaborating design...\n",
      "Done elaborating.\n",
      "module Mac(\n",
      "  input        clock,\n",
      "  input        reset,\n",
      "  input        io_a_real_sign,\n",
      "  input  [3:0] io_a_real_magnitude,\n",
      "  input        io_a_imag_sign,\n",
      "  input  [3:0] io_a_imag_magnitude,\n",
      "  input        io_b_real_sign,\n",
      "  input  [3:0] io_b_real_magnitude,\n",
      "  input        io_b_imag_sign,\n",
      "  input  [3:0] io_b_imag_magnitude,\n",
      "  input        io_c_real_sign,\n",
      "  input  [3:0] io_c_real_magnitude,\n",
      "  input        io_c_imag_sign,\n",
      "  input  [3:0] io_c_imag_magnitude,\n",
      "  output       io_out_real_sign,\n",
      "  output [4:0] io_out_real_magnitude,\n",
      "  output       io_out_imag_sign,\n",
      "  output [4:0] io_out_imag_magnitude\n",
      ");\n",
      "  wire  _T = io_b_real_sign == io_b_imag_sign; // @[cmd89.sc 15:36]\n",
      "  wire [3:0] _T_2 = io_b_real_magnitude + io_b_imag_magnitude; // @[cmd89.sc 18:44]\n",
      "  wire [3:0] _T_5 = io_b_real_magnitude - io_b_imag_magnitude; // @[cmd89.sc 22:46]\n",
      "  wire [3:0] _T_7 = io_b_imag_magnitude - io_b_real_magnitude; // @[cmd89.sc 25:46]\n",
      "  wire  _GEN_0 = io_b_real_magnitude > io_b_imag_magnitude ? io_b_real_sign : io_b_imag_sign; // @[cmd89.sc 20:48 cmd89.sc 21:28 cmd89.sc 24:28]\n",
      "  wire [3:0] _GEN_1 = io_b_real_magnitude > io_b_imag_magnitude ? _T_5 : _T_7; // @[cmd89.sc 20:48 cmd89.sc 22:28 cmd89.sc 25:28]\n",
      "  wire  _GEN_2 = _T ? io_b_real_sign : _GEN_0; // @[cmd89.sc 16:27 cmd89.sc 17:26]\n",
      "  wire [3:0] _GEN_3 = _T ? _T_2 : _GEN_1; // @[cmd89.sc 16:27 cmd89.sc 18:26]\n",
      "  wire  _T_8 = io_a_real_sign == io_a_imag_sign; // @[cmd89.sc 15:36]\n",
      "  wire [3:0] _T_10 = io_a_real_magnitude + io_a_imag_magnitude; // @[cmd89.sc 18:44]\n",
      "  wire [3:0] _T_13 = io_a_real_magnitude - io_a_imag_magnitude; // @[cmd89.sc 22:46]\n",
      "  wire [3:0] _T_15 = io_a_imag_magnitude - io_a_real_magnitude; // @[cmd89.sc 25:46]\n",
      "  wire  _GEN_4 = io_a_real_magnitude > io_a_imag_magnitude ? io_a_real_sign : io_a_imag_sign; // @[cmd89.sc 20:48 cmd89.sc 21:28 cmd89.sc 24:28]\n",
      "  wire [3:0] _GEN_5 = io_a_real_magnitude > io_a_imag_magnitude ? _T_13 : _T_15; // @[cmd89.sc 20:48 cmd89.sc 22:28 cmd89.sc 25:28]\n",
      "  wire  _GEN_6 = _T_8 ? io_a_real_sign : _GEN_4; // @[cmd89.sc 16:27 cmd89.sc 17:26]\n",
      "  wire [3:0] _GEN_7 = _T_8 ? _T_10 : _GEN_5; // @[cmd89.sc 16:27 cmd89.sc 18:26]\n",
      "  wire  _T_16 = ~io_a_real_sign; // @[cmd89.sc 35:24]\n",
      "  wire  _T_17 = io_a_imag_sign == _T_16; // @[cmd89.sc 15:36]\n",
      "  wire [3:0] _T_19 = io_a_imag_magnitude + io_a_real_magnitude; // @[cmd89.sc 18:44]\n",
      "  wire  _GEN_8 = io_a_imag_magnitude > io_a_real_magnitude ? io_a_imag_sign : _T_16; // @[cmd89.sc 20:48 cmd89.sc 21:28 cmd89.sc 24:28]\n",
      "  wire [3:0] _GEN_9 = io_a_imag_magnitude > io_a_real_magnitude ? _T_15 : _T_13; // @[cmd89.sc 20:48 cmd89.sc 22:28 cmd89.sc 25:28]\n",
      "  wire  _GEN_10 = _T_17 ? io_a_imag_sign : _GEN_8; // @[cmd89.sc 16:27 cmd89.sc 17:26]\n",
      "  wire [3:0] _GEN_11 = _T_17 ? _T_19 : _GEN_9; // @[cmd89.sc 16:27 cmd89.sc 18:26]\n",
      "  wire  _T_25 = io_a_real_sign ^ _GEN_2; // @[cmd89.sc 46:34]\n",
      "  wire [7:0] _T_26 = io_a_real_magnitude * _GEN_3; // @[cmd89.sc 47:44]\n",
      "  wire  _T_27 = _GEN_6 ^ io_b_imag_sign; // @[cmd89.sc 46:34]\n",
      "  wire [7:0] _T_28 = _GEN_7 * io_b_imag_magnitude; // @[cmd89.sc 47:44]\n",
      "  wire  _T_29 = _GEN_10 ^ io_b_real_sign; // @[cmd89.sc 46:34]\n",
      "  wire [7:0] _T_30 = _GEN_11 * io_b_real_magnitude; // @[cmd89.sc 47:44]\n",
      "  wire  _T_31 = ~_T_27; // @[cmd89.sc 35:24]\n",
      "  wire  _T_32 = _T_25 == _T_31; // @[cmd89.sc 15:36]\n",
      "  wire [7:0] _T_34 = _T_26 + _T_28; // @[cmd89.sc 18:44]\n",
      "  wire [7:0] _T_37 = _T_26 - _T_28; // @[cmd89.sc 22:46]\n",
      "  wire [7:0] _T_39 = _T_28 - _T_26; // @[cmd89.sc 25:46]\n",
      "  wire  _GEN_12 = _T_26 > _T_28 ? _T_25 : _T_31; // @[cmd89.sc 20:48 cmd89.sc 21:28 cmd89.sc 24:28]\n",
      "  wire [7:0] _GEN_13 = _T_26 > _T_28 ? _T_37 : _T_39; // @[cmd89.sc 20:48 cmd89.sc 22:28 cmd89.sc 25:28]\n",
      "  wire  _GEN_14 = _T_32 ? _T_25 : _GEN_12; // @[cmd89.sc 16:27 cmd89.sc 17:26]\n",
      "  wire [7:0] _GEN_15 = _T_32 ? _T_34 : _GEN_13; // @[cmd89.sc 16:27 cmd89.sc 18:26]\n",
      "  wire  _T_40 = _T_25 == _T_29; // @[cmd89.sc 15:36]\n",
      "  wire [7:0] _T_42 = _T_26 + _T_30; // @[cmd89.sc 18:44]\n",
      "  wire [7:0] _T_45 = _T_26 - _T_30; // @[cmd89.sc 22:46]\n",
      "  wire [7:0] _T_47 = _T_30 - _T_26; // @[cmd89.sc 25:46]\n",
      "  wire  _GEN_16 = _T_26 > _T_30 ? _T_25 : _T_29; // @[cmd89.sc 20:48 cmd89.sc 21:28 cmd89.sc 24:28]\n",
      "  wire [7:0] _GEN_17 = _T_26 > _T_30 ? _T_45 : _T_47; // @[cmd89.sc 20:48 cmd89.sc 22:28 cmd89.sc 25:28]\n",
      "  wire  _GEN_18 = _T_40 ? _T_25 : _GEN_16; // @[cmd89.sc 16:27 cmd89.sc 17:26]\n",
      "  wire [7:0] _GEN_19 = _T_40 ? _T_42 : _GEN_17; // @[cmd89.sc 16:27 cmd89.sc 18:26]\n",
      "  wire  _T_48 = _GEN_14 == io_c_real_sign; // @[cmd89.sc 15:36]\n",
      "  wire [7:0] _GEN_28 = {{4'd0}, io_c_real_magnitude}; // @[cmd89.sc 18:44]\n",
      "  wire [7:0] _T_50 = _GEN_15 + _GEN_28; // @[cmd89.sc 18:44]\n",
      "  wire [7:0] _T_53 = _GEN_15 - _GEN_28; // @[cmd89.sc 22:46]\n",
      "  wire [7:0] _T_55 = _GEN_28 - _GEN_15; // @[cmd89.sc 25:46]\n",
      "  wire  _GEN_20 = _GEN_15 > _GEN_28 ? _GEN_14 : io_c_real_sign; // @[cmd89.sc 20:48 cmd89.sc 21:28 cmd89.sc 24:28]\n",
      "  wire [7:0] _GEN_21 = _GEN_15 > _GEN_28 ? _T_53 : _T_55; // @[cmd89.sc 20:48 cmd89.sc 22:28 cmd89.sc 25:28]\n",
      "  wire [7:0] _GEN_23 = _T_48 ? _T_50 : _GEN_21; // @[cmd89.sc 16:27 cmd89.sc 18:26]\n",
      "  wire  _T_56 = _GEN_18 == io_c_imag_sign; // @[cmd89.sc 15:36]\n",
      "  wire [7:0] _GEN_32 = {{4'd0}, io_c_imag_magnitude}; // @[cmd89.sc 18:44]\n",
      "  wire [7:0] _T_58 = _GEN_19 + _GEN_32; // @[cmd89.sc 18:44]\n",
      "  wire [7:0] _T_61 = _GEN_19 - _GEN_32; // @[cmd89.sc 22:46]\n",
      "  wire [7:0] _T_63 = _GEN_32 - _GEN_19; // @[cmd89.sc 25:46]\n",
      "  wire  _GEN_24 = _GEN_19 > _GEN_32 ? _GEN_18 : io_c_imag_sign; // @[cmd89.sc 20:48 cmd89.sc 21:28 cmd89.sc 24:28]\n",
      "  wire [7:0] _GEN_25 = _GEN_19 > _GEN_32 ? _T_61 : _T_63; // @[cmd89.sc 20:48 cmd89.sc 22:28 cmd89.sc 25:28]\n",
      "  wire [7:0] _GEN_27 = _T_56 ? _T_58 : _GEN_25; // @[cmd89.sc 16:27 cmd89.sc 18:26]\n",
      "  assign io_out_real_sign = _T_48 ? _GEN_14 : _GEN_20; // @[cmd89.sc 16:27 cmd89.sc 17:26]\n",
      "  assign io_out_real_magnitude = _GEN_23[4:0]; // @[cmd85.sc 11:12]\n",
      "  assign io_out_imag_sign = _T_56 ? _GEN_18 : _GEN_24; // @[cmd89.sc 16:27 cmd89.sc 17:26]\n",
      "  assign io_out_imag_magnitude = _GEN_27[4:0]; // @[cmd85.sc 11:12]\n",
      "endmodule\n",
      "\n"
     ]
    }
   ],
   "source": [
    "println(getVerilog(new Mac(DspComplex(new SignMagnitude(Some(4)), new SignMagnitude(Some(4))), DspComplex(new SignMagnitude(Some(5)), new SignMagnitude(Some(5))))))"
   ]
  },
  {
   "attachments": {},
   "cell_type": "markdown",
   "metadata": {},
   "source": [
    "<div id=\"container\"><section id=\"accordion\"><div>\n",
    "<input type=\"checkbox\" id=\"check-3\" />\n",
    "<label for=\"check-3\"><strong>Solution</strong> (click to toggle displaying)</label>\n",
    "<article>\n",
    "<pre style=\"background-color:#f7f7f7\">\n",
    "    // implementations for class SignMagnitude\n",
    "\n",
    "    def +(that: SignMagnitude): SignMagnitude = {\n",
    "      val result = Wire(new SignMagnitude())\n",
    "      val signsTheSame = this.sign === that.sign\n",
    "      when (signsTheSame) {\n",
    "        result.sign      := this.sign\n",
    "        result.magnitude := this.magnitude + that.magnitude\n",
    "      } .otherwise {\n",
    "        when (this.magnitude > that.magnitude) {\n",
    "          result.sign      := this.sign\n",
    "          result.magnitude := this.magnitude - that.magnitude\n",
    "        } .otherwise {\n",
    "          result.sign      := that.sign\n",
    "          result.magnitude := that.magnitude - this.magnitude\n",
    "        }   \n",
    "      }   \n",
    "      result\n",
    "    }\n",
    "    def *(that: SignMagnitude): SignMagnitude = {\n",
    "        val result = Wire(new SignMagnitude())\n",
    "        result.sign := this.sign ^ that.sign\n",
    "        result.magnitude := this.magnitude * that.magnitude\n",
    "        result\n",
    "    }\n",
    "\n",
    "\n",
    "</pre></article></div></section></div>"
   ]
  },
  {
   "cell_type": "code",
   "execution_count": null,
   "metadata": {},
   "outputs": [],
   "source": []
  }
 ],
 "metadata": {
  "kernelspec": {
   "display_name": "Scala 2.12.11",
   "language": "scala",
   "name": "scala_2_12_11"
  },
  "language_info": {
   "codemirror_mode": "text/x-scala",
   "file_extension": ".scala",
   "mimetype": "text/x-scala",
   "name": "scala",
   "nbconvert_exporter": "script",
   "version": "2.12.11"
  }
 },
 "nbformat": 4,
 "nbformat_minor": 4
}
